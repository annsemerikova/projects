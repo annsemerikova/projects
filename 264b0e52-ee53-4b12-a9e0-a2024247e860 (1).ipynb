{
 "cells": [
  {
   "cell_type": "markdown",
   "metadata": {},
   "source": [
    "# Определение перспективного тарифа для телеком-компании"
   ]
  },
  {
   "cell_type": "markdown",
   "metadata": {},
   "source": [
    "## Описание проекта\n",
    "\n",
    "В целях корректировки рекламного бюджета коммерческому департаменту федерального оператора сотовой связи требуется определить, какой тариф приносит больше денег.\n",
    "\n",
    "**Цель исследования -  проанализировать поведение клиентов и сделать вывод — какой тариф лучше с точки зрения окупаемости затрат на рекламную кампанию.** \n",
    "\n",
    "Задачи исследования:\n",
    "1. выполнить предварительный анализ тарифов на небольшой выборке клиентов (данные 500 пользователей телеком-компании: кто они, откуда, каким тарифом пользуются, сколько звонков и сообщений каждый отправил за 2018 год)\n",
    "2. проверить гипотезы:\n",
    "    - средняя выручка пользователей тарифов «Ультра» и «Смарт» различаются;\n",
    "    - средняя выручка пользователей из Москвы отличается от выручки пользователей из других регионов.\n",
    "\n",
    "*Ход исследования:*\n",
    "- Предобработка данных\n",
    "- Исследовательский анализ данных\n",
    "- Проверка гипотез\n",
    "- Общий вывод"
   ]
  },
  {
   "cell_type": "markdown",
   "metadata": {},
   "source": [
    "## Шаг 1. Открытие и ознакомление с данными "
   ]
  },
  {
   "cell_type": "code",
   "execution_count": 1,
   "metadata": {},
   "outputs": [],
   "source": [
    "#подключим необходимые для работы с данными библиотеки\n",
    "import pandas as pd\n",
    "import numpy as np\n",
    "import scipy.stats as st\n",
    "import matplotlib.pyplot as plt\n",
    "import seaborn as sns\n",
    "\n",
    "import warnings\n",
    "warnings.filterwarnings('ignore')"
   ]
  },
  {
   "cell_type": "code",
   "execution_count": 2,
   "metadata": {},
   "outputs": [
    {
     "data": {
      "text/html": [
       "<div>\n",
       "<style scoped>\n",
       "    .dataframe tbody tr th:only-of-type {\n",
       "        vertical-align: middle;\n",
       "    }\n",
       "\n",
       "    .dataframe tbody tr th {\n",
       "        vertical-align: top;\n",
       "    }\n",
       "\n",
       "    .dataframe thead th {\n",
       "        text-align: right;\n",
       "    }\n",
       "</style>\n",
       "<table border=\"1\" class=\"dataframe\">\n",
       "  <thead>\n",
       "    <tr style=\"text-align: right;\">\n",
       "      <th></th>\n",
       "      <th>user_id</th>\n",
       "      <th>age</th>\n",
       "      <th>churn_date</th>\n",
       "      <th>city</th>\n",
       "      <th>first_name</th>\n",
       "      <th>last_name</th>\n",
       "      <th>reg_date</th>\n",
       "      <th>tariff</th>\n",
       "    </tr>\n",
       "  </thead>\n",
       "  <tbody>\n",
       "    <tr>\n",
       "      <th>0</th>\n",
       "      <td>1000</td>\n",
       "      <td>52</td>\n",
       "      <td>NaN</td>\n",
       "      <td>Краснодар</td>\n",
       "      <td>Рафаил</td>\n",
       "      <td>Верещагин</td>\n",
       "      <td>2018-05-25</td>\n",
       "      <td>ultra</td>\n",
       "    </tr>\n",
       "    <tr>\n",
       "      <th>1</th>\n",
       "      <td>1001</td>\n",
       "      <td>41</td>\n",
       "      <td>NaN</td>\n",
       "      <td>Москва</td>\n",
       "      <td>Иван</td>\n",
       "      <td>Ежов</td>\n",
       "      <td>2018-11-01</td>\n",
       "      <td>smart</td>\n",
       "    </tr>\n",
       "    <tr>\n",
       "      <th>2</th>\n",
       "      <td>1002</td>\n",
       "      <td>59</td>\n",
       "      <td>NaN</td>\n",
       "      <td>Стерлитамак</td>\n",
       "      <td>Евгений</td>\n",
       "      <td>Абрамович</td>\n",
       "      <td>2018-06-17</td>\n",
       "      <td>smart</td>\n",
       "    </tr>\n",
       "    <tr>\n",
       "      <th>3</th>\n",
       "      <td>1003</td>\n",
       "      <td>23</td>\n",
       "      <td>NaN</td>\n",
       "      <td>Москва</td>\n",
       "      <td>Белла</td>\n",
       "      <td>Белякова</td>\n",
       "      <td>2018-08-17</td>\n",
       "      <td>ultra</td>\n",
       "    </tr>\n",
       "    <tr>\n",
       "      <th>4</th>\n",
       "      <td>1004</td>\n",
       "      <td>68</td>\n",
       "      <td>NaN</td>\n",
       "      <td>Новокузнецк</td>\n",
       "      <td>Татьяна</td>\n",
       "      <td>Авдеенко</td>\n",
       "      <td>2018-05-14</td>\n",
       "      <td>ultra</td>\n",
       "    </tr>\n",
       "    <tr>\n",
       "      <th>5</th>\n",
       "      <td>1005</td>\n",
       "      <td>67</td>\n",
       "      <td>NaN</td>\n",
       "      <td>Набережные Челны</td>\n",
       "      <td>Афанасий</td>\n",
       "      <td>Горлов</td>\n",
       "      <td>2018-01-25</td>\n",
       "      <td>smart</td>\n",
       "    </tr>\n",
       "    <tr>\n",
       "      <th>6</th>\n",
       "      <td>1006</td>\n",
       "      <td>21</td>\n",
       "      <td>NaN</td>\n",
       "      <td>Ульяновск</td>\n",
       "      <td>Леонид</td>\n",
       "      <td>Ермолаев</td>\n",
       "      <td>2018-02-26</td>\n",
       "      <td>smart</td>\n",
       "    </tr>\n",
       "    <tr>\n",
       "      <th>7</th>\n",
       "      <td>1007</td>\n",
       "      <td>65</td>\n",
       "      <td>NaN</td>\n",
       "      <td>Москва</td>\n",
       "      <td>Юна</td>\n",
       "      <td>Березина</td>\n",
       "      <td>2018-04-19</td>\n",
       "      <td>smart</td>\n",
       "    </tr>\n",
       "    <tr>\n",
       "      <th>8</th>\n",
       "      <td>1008</td>\n",
       "      <td>63</td>\n",
       "      <td>NaN</td>\n",
       "      <td>Челябинск</td>\n",
       "      <td>Рустэм</td>\n",
       "      <td>Пономарёв</td>\n",
       "      <td>2018-12-19</td>\n",
       "      <td>smart</td>\n",
       "    </tr>\n",
       "    <tr>\n",
       "      <th>9</th>\n",
       "      <td>1009</td>\n",
       "      <td>24</td>\n",
       "      <td>NaN</td>\n",
       "      <td>Пермь</td>\n",
       "      <td>Василиса</td>\n",
       "      <td>Блинова</td>\n",
       "      <td>2018-03-22</td>\n",
       "      <td>smart</td>\n",
       "    </tr>\n",
       "  </tbody>\n",
       "</table>\n",
       "</div>"
      ],
      "text/plain": [
       "   user_id  age churn_date              city first_name  last_name  \\\n",
       "0     1000   52        NaN         Краснодар     Рафаил  Верещагин   \n",
       "1     1001   41        NaN            Москва       Иван       Ежов   \n",
       "2     1002   59        NaN       Стерлитамак    Евгений  Абрамович   \n",
       "3     1003   23        NaN            Москва      Белла   Белякова   \n",
       "4     1004   68        NaN       Новокузнецк    Татьяна   Авдеенко   \n",
       "5     1005   67        NaN  Набережные Челны   Афанасий     Горлов   \n",
       "6     1006   21        NaN         Ульяновск     Леонид   Ермолаев   \n",
       "7     1007   65        NaN            Москва        Юна   Березина   \n",
       "8     1008   63        NaN         Челябинск     Рустэм  Пономарёв   \n",
       "9     1009   24        NaN             Пермь   Василиса    Блинова   \n",
       "\n",
       "     reg_date tariff  \n",
       "0  2018-05-25  ultra  \n",
       "1  2018-11-01  smart  \n",
       "2  2018-06-17  smart  \n",
       "3  2018-08-17  ultra  \n",
       "4  2018-05-14  ultra  \n",
       "5  2018-01-25  smart  \n",
       "6  2018-02-26  smart  \n",
       "7  2018-04-19  smart  \n",
       "8  2018-12-19  smart  \n",
       "9  2018-03-22  smart  "
      ]
     },
     "execution_count": 2,
     "metadata": {},
     "output_type": "execute_result"
    }
   ],
   "source": [
    "#откроем данные и ознакомимся с общей информацией \n",
    "try:\n",
    "    users = pd.read_csv('C:\\\\Users\\\\1\\\\Documents\\\\датасеты\\\\users.csv')\n",
    "except:\n",
    "    users = pd.read_csv('/datasets/users.csv')\n",
    "\n",
    "users.head(10)"
   ]
  },
  {
   "cell_type": "code",
   "execution_count": 3,
   "metadata": {},
   "outputs": [
    {
     "data": {
      "text/plain": [
       "500"
      ]
     },
     "execution_count": 3,
     "metadata": {},
     "output_type": "execute_result"
    }
   ],
   "source": [
    "#узнаем количество абонентов в выборке\n",
    "len(users['user_id'].unique())"
   ]
  },
  {
   "cell_type": "code",
   "execution_count": 4,
   "metadata": {},
   "outputs": [
    {
     "name": "stdout",
     "output_type": "stream",
     "text": [
      "<class 'pandas.core.frame.DataFrame'>\n",
      "RangeIndex: 500 entries, 0 to 499\n",
      "Data columns (total 8 columns):\n",
      " #   Column      Non-Null Count  Dtype \n",
      "---  ------      --------------  ----- \n",
      " 0   user_id     500 non-null    int64 \n",
      " 1   age         500 non-null    int64 \n",
      " 2   churn_date  38 non-null     object\n",
      " 3   city        500 non-null    object\n",
      " 4   first_name  500 non-null    object\n",
      " 5   last_name   500 non-null    object\n",
      " 6   reg_date    500 non-null    object\n",
      " 7   tariff      500 non-null    object\n",
      "dtypes: int64(2), object(6)\n",
      "memory usage: 31.4+ KB\n"
     ]
    }
   ],
   "source": [
    "users.info()"
   ]
  },
  {
   "cell_type": "code",
   "execution_count": 5,
   "metadata": {},
   "outputs": [
    {
     "data": {
      "text/html": [
       "<div>\n",
       "<style scoped>\n",
       "    .dataframe tbody tr th:only-of-type {\n",
       "        vertical-align: middle;\n",
       "    }\n",
       "\n",
       "    .dataframe tbody tr th {\n",
       "        vertical-align: top;\n",
       "    }\n",
       "\n",
       "    .dataframe thead th {\n",
       "        text-align: right;\n",
       "    }\n",
       "</style>\n",
       "<table border=\"1\" class=\"dataframe\">\n",
       "  <thead>\n",
       "    <tr style=\"text-align: right;\">\n",
       "      <th></th>\n",
       "      <th>id</th>\n",
       "      <th>call_date</th>\n",
       "      <th>duration</th>\n",
       "      <th>user_id</th>\n",
       "    </tr>\n",
       "  </thead>\n",
       "  <tbody>\n",
       "    <tr>\n",
       "      <th>0</th>\n",
       "      <td>1000_0</td>\n",
       "      <td>2018-07-25</td>\n",
       "      <td>0.00</td>\n",
       "      <td>1000</td>\n",
       "    </tr>\n",
       "    <tr>\n",
       "      <th>1</th>\n",
       "      <td>1000_1</td>\n",
       "      <td>2018-08-17</td>\n",
       "      <td>0.00</td>\n",
       "      <td>1000</td>\n",
       "    </tr>\n",
       "    <tr>\n",
       "      <th>2</th>\n",
       "      <td>1000_2</td>\n",
       "      <td>2018-06-11</td>\n",
       "      <td>2.85</td>\n",
       "      <td>1000</td>\n",
       "    </tr>\n",
       "    <tr>\n",
       "      <th>3</th>\n",
       "      <td>1000_3</td>\n",
       "      <td>2018-09-21</td>\n",
       "      <td>13.80</td>\n",
       "      <td>1000</td>\n",
       "    </tr>\n",
       "    <tr>\n",
       "      <th>4</th>\n",
       "      <td>1000_4</td>\n",
       "      <td>2018-12-15</td>\n",
       "      <td>5.18</td>\n",
       "      <td>1000</td>\n",
       "    </tr>\n",
       "    <tr>\n",
       "      <th>5</th>\n",
       "      <td>1000_5</td>\n",
       "      <td>2018-11-02</td>\n",
       "      <td>0.00</td>\n",
       "      <td>1000</td>\n",
       "    </tr>\n",
       "    <tr>\n",
       "      <th>6</th>\n",
       "      <td>1000_6</td>\n",
       "      <td>2018-10-18</td>\n",
       "      <td>0.00</td>\n",
       "      <td>1000</td>\n",
       "    </tr>\n",
       "    <tr>\n",
       "      <th>7</th>\n",
       "      <td>1000_7</td>\n",
       "      <td>2018-08-22</td>\n",
       "      <td>18.31</td>\n",
       "      <td>1000</td>\n",
       "    </tr>\n",
       "    <tr>\n",
       "      <th>8</th>\n",
       "      <td>1000_8</td>\n",
       "      <td>2018-09-15</td>\n",
       "      <td>18.44</td>\n",
       "      <td>1000</td>\n",
       "    </tr>\n",
       "    <tr>\n",
       "      <th>9</th>\n",
       "      <td>1000_9</td>\n",
       "      <td>2018-08-15</td>\n",
       "      <td>0.00</td>\n",
       "      <td>1000</td>\n",
       "    </tr>\n",
       "  </tbody>\n",
       "</table>\n",
       "</div>"
      ],
      "text/plain": [
       "       id   call_date  duration  user_id\n",
       "0  1000_0  2018-07-25      0.00     1000\n",
       "1  1000_1  2018-08-17      0.00     1000\n",
       "2  1000_2  2018-06-11      2.85     1000\n",
       "3  1000_3  2018-09-21     13.80     1000\n",
       "4  1000_4  2018-12-15      5.18     1000\n",
       "5  1000_5  2018-11-02      0.00     1000\n",
       "6  1000_6  2018-10-18      0.00     1000\n",
       "7  1000_7  2018-08-22     18.31     1000\n",
       "8  1000_8  2018-09-15     18.44     1000\n",
       "9  1000_9  2018-08-15      0.00     1000"
      ]
     },
     "execution_count": 5,
     "metadata": {},
     "output_type": "execute_result"
    }
   ],
   "source": [
    "try:\n",
    "    calls = pd.read_csv('C:\\\\Users\\\\1\\\\Documents\\\\датасеты\\\\calls.csv')\n",
    "except:\n",
    "    calls = pd.read_csv('/datasets/calls.csv')\n",
    "\n",
    "calls.head(10)"
   ]
  },
  {
   "cell_type": "code",
   "execution_count": 6,
   "metadata": {},
   "outputs": [
    {
     "name": "stdout",
     "output_type": "stream",
     "text": [
      "<class 'pandas.core.frame.DataFrame'>\n",
      "RangeIndex: 202607 entries, 0 to 202606\n",
      "Data columns (total 4 columns):\n",
      " #   Column     Non-Null Count   Dtype  \n",
      "---  ------     --------------   -----  \n",
      " 0   id         202607 non-null  object \n",
      " 1   call_date  202607 non-null  object \n",
      " 2   duration   202607 non-null  float64\n",
      " 3   user_id    202607 non-null  int64  \n",
      "dtypes: float64(1), int64(1), object(2)\n",
      "memory usage: 6.2+ MB\n"
     ]
    }
   ],
   "source": [
    "calls.info()"
   ]
  },
  {
   "cell_type": "code",
   "execution_count": 7,
   "metadata": {},
   "outputs": [
    {
     "data": {
      "text/html": [
       "<div>\n",
       "<style scoped>\n",
       "    .dataframe tbody tr th:only-of-type {\n",
       "        vertical-align: middle;\n",
       "    }\n",
       "\n",
       "    .dataframe tbody tr th {\n",
       "        vertical-align: top;\n",
       "    }\n",
       "\n",
       "    .dataframe thead th {\n",
       "        text-align: right;\n",
       "    }\n",
       "</style>\n",
       "<table border=\"1\" class=\"dataframe\">\n",
       "  <thead>\n",
       "    <tr style=\"text-align: right;\">\n",
       "      <th></th>\n",
       "      <th>id</th>\n",
       "      <th>message_date</th>\n",
       "      <th>user_id</th>\n",
       "    </tr>\n",
       "  </thead>\n",
       "  <tbody>\n",
       "    <tr>\n",
       "      <th>0</th>\n",
       "      <td>1000_0</td>\n",
       "      <td>2018-06-27</td>\n",
       "      <td>1000</td>\n",
       "    </tr>\n",
       "    <tr>\n",
       "      <th>1</th>\n",
       "      <td>1000_1</td>\n",
       "      <td>2018-10-08</td>\n",
       "      <td>1000</td>\n",
       "    </tr>\n",
       "    <tr>\n",
       "      <th>2</th>\n",
       "      <td>1000_2</td>\n",
       "      <td>2018-08-04</td>\n",
       "      <td>1000</td>\n",
       "    </tr>\n",
       "    <tr>\n",
       "      <th>3</th>\n",
       "      <td>1000_3</td>\n",
       "      <td>2018-06-16</td>\n",
       "      <td>1000</td>\n",
       "    </tr>\n",
       "    <tr>\n",
       "      <th>4</th>\n",
       "      <td>1000_4</td>\n",
       "      <td>2018-12-05</td>\n",
       "      <td>1000</td>\n",
       "    </tr>\n",
       "    <tr>\n",
       "      <th>5</th>\n",
       "      <td>1000_5</td>\n",
       "      <td>2018-06-20</td>\n",
       "      <td>1000</td>\n",
       "    </tr>\n",
       "    <tr>\n",
       "      <th>6</th>\n",
       "      <td>1000_6</td>\n",
       "      <td>2018-11-19</td>\n",
       "      <td>1000</td>\n",
       "    </tr>\n",
       "    <tr>\n",
       "      <th>7</th>\n",
       "      <td>1000_7</td>\n",
       "      <td>2018-10-29</td>\n",
       "      <td>1000</td>\n",
       "    </tr>\n",
       "    <tr>\n",
       "      <th>8</th>\n",
       "      <td>1000_8</td>\n",
       "      <td>2018-06-25</td>\n",
       "      <td>1000</td>\n",
       "    </tr>\n",
       "    <tr>\n",
       "      <th>9</th>\n",
       "      <td>1000_9</td>\n",
       "      <td>2018-12-18</td>\n",
       "      <td>1000</td>\n",
       "    </tr>\n",
       "  </tbody>\n",
       "</table>\n",
       "</div>"
      ],
      "text/plain": [
       "       id message_date  user_id\n",
       "0  1000_0   2018-06-27     1000\n",
       "1  1000_1   2018-10-08     1000\n",
       "2  1000_2   2018-08-04     1000\n",
       "3  1000_3   2018-06-16     1000\n",
       "4  1000_4   2018-12-05     1000\n",
       "5  1000_5   2018-06-20     1000\n",
       "6  1000_6   2018-11-19     1000\n",
       "7  1000_7   2018-10-29     1000\n",
       "8  1000_8   2018-06-25     1000\n",
       "9  1000_9   2018-12-18     1000"
      ]
     },
     "execution_count": 7,
     "metadata": {},
     "output_type": "execute_result"
    }
   ],
   "source": [
    "try:\n",
    "    messages = pd.read_csv('C:\\\\Users\\\\1\\\\Documents\\\\датасеты\\\\messages.csv')\n",
    "except:\n",
    "    messages = pd.read_csv('/datasets/messages.csv')\n",
    "\n",
    "messages.head(10)"
   ]
  },
  {
   "cell_type": "code",
   "execution_count": 8,
   "metadata": {},
   "outputs": [
    {
     "data": {
      "text/html": [
       "<div>\n",
       "<style scoped>\n",
       "    .dataframe tbody tr th:only-of-type {\n",
       "        vertical-align: middle;\n",
       "    }\n",
       "\n",
       "    .dataframe tbody tr th {\n",
       "        vertical-align: top;\n",
       "    }\n",
       "\n",
       "    .dataframe thead th {\n",
       "        text-align: right;\n",
       "    }\n",
       "</style>\n",
       "<table border=\"1\" class=\"dataframe\">\n",
       "  <thead>\n",
       "    <tr style=\"text-align: right;\">\n",
       "      <th></th>\n",
       "      <th>Unnamed: 0</th>\n",
       "      <th>id</th>\n",
       "      <th>mb_used</th>\n",
       "      <th>session_date</th>\n",
       "      <th>user_id</th>\n",
       "    </tr>\n",
       "  </thead>\n",
       "  <tbody>\n",
       "    <tr>\n",
       "      <th>0</th>\n",
       "      <td>0</td>\n",
       "      <td>1000_0</td>\n",
       "      <td>112.95</td>\n",
       "      <td>2018-11-25</td>\n",
       "      <td>1000</td>\n",
       "    </tr>\n",
       "    <tr>\n",
       "      <th>1</th>\n",
       "      <td>1</td>\n",
       "      <td>1000_1</td>\n",
       "      <td>1052.81</td>\n",
       "      <td>2018-09-07</td>\n",
       "      <td>1000</td>\n",
       "    </tr>\n",
       "    <tr>\n",
       "      <th>2</th>\n",
       "      <td>2</td>\n",
       "      <td>1000_2</td>\n",
       "      <td>1197.26</td>\n",
       "      <td>2018-06-25</td>\n",
       "      <td>1000</td>\n",
       "    </tr>\n",
       "    <tr>\n",
       "      <th>3</th>\n",
       "      <td>3</td>\n",
       "      <td>1000_3</td>\n",
       "      <td>550.27</td>\n",
       "      <td>2018-08-22</td>\n",
       "      <td>1000</td>\n",
       "    </tr>\n",
       "    <tr>\n",
       "      <th>4</th>\n",
       "      <td>4</td>\n",
       "      <td>1000_4</td>\n",
       "      <td>302.56</td>\n",
       "      <td>2018-09-24</td>\n",
       "      <td>1000</td>\n",
       "    </tr>\n",
       "    <tr>\n",
       "      <th>5</th>\n",
       "      <td>5</td>\n",
       "      <td>1000_5</td>\n",
       "      <td>399.97</td>\n",
       "      <td>2018-10-02</td>\n",
       "      <td>1000</td>\n",
       "    </tr>\n",
       "    <tr>\n",
       "      <th>6</th>\n",
       "      <td>6</td>\n",
       "      <td>1000_6</td>\n",
       "      <td>540.08</td>\n",
       "      <td>2018-09-07</td>\n",
       "      <td>1000</td>\n",
       "    </tr>\n",
       "    <tr>\n",
       "      <th>7</th>\n",
       "      <td>7</td>\n",
       "      <td>1000_7</td>\n",
       "      <td>415.70</td>\n",
       "      <td>2018-07-11</td>\n",
       "      <td>1000</td>\n",
       "    </tr>\n",
       "    <tr>\n",
       "      <th>8</th>\n",
       "      <td>8</td>\n",
       "      <td>1000_8</td>\n",
       "      <td>505.40</td>\n",
       "      <td>2018-10-08</td>\n",
       "      <td>1000</td>\n",
       "    </tr>\n",
       "    <tr>\n",
       "      <th>9</th>\n",
       "      <td>9</td>\n",
       "      <td>1000_9</td>\n",
       "      <td>345.54</td>\n",
       "      <td>2018-09-03</td>\n",
       "      <td>1000</td>\n",
       "    </tr>\n",
       "  </tbody>\n",
       "</table>\n",
       "</div>"
      ],
      "text/plain": [
       "   Unnamed: 0      id  mb_used session_date  user_id\n",
       "0           0  1000_0   112.95   2018-11-25     1000\n",
       "1           1  1000_1  1052.81   2018-09-07     1000\n",
       "2           2  1000_2  1197.26   2018-06-25     1000\n",
       "3           3  1000_3   550.27   2018-08-22     1000\n",
       "4           4  1000_4   302.56   2018-09-24     1000\n",
       "5           5  1000_5   399.97   2018-10-02     1000\n",
       "6           6  1000_6   540.08   2018-09-07     1000\n",
       "7           7  1000_7   415.70   2018-07-11     1000\n",
       "8           8  1000_8   505.40   2018-10-08     1000\n",
       "9           9  1000_9   345.54   2018-09-03     1000"
      ]
     },
     "execution_count": 8,
     "metadata": {},
     "output_type": "execute_result"
    }
   ],
   "source": [
    "try:\n",
    "    internet = pd.read_csv('C:\\\\Users\\\\1\\\\Documents\\\\датасеты\\\\internet.csv')\n",
    "except:\n",
    "    internet = pd.read_csv('/datasets/internet.csv')\n",
    "\n",
    "internet.head(10)"
   ]
  },
  {
   "cell_type": "code",
   "execution_count": 9,
   "metadata": {},
   "outputs": [
    {
     "name": "stdout",
     "output_type": "stream",
     "text": [
      "<class 'pandas.core.frame.DataFrame'>\n",
      "RangeIndex: 149396 entries, 0 to 149395\n",
      "Data columns (total 5 columns):\n",
      " #   Column        Non-Null Count   Dtype  \n",
      "---  ------        --------------   -----  \n",
      " 0   Unnamed: 0    149396 non-null  int64  \n",
      " 1   id            149396 non-null  object \n",
      " 2   mb_used       149396 non-null  float64\n",
      " 3   session_date  149396 non-null  object \n",
      " 4   user_id       149396 non-null  int64  \n",
      "dtypes: float64(1), int64(2), object(2)\n",
      "memory usage: 5.7+ MB\n"
     ]
    }
   ],
   "source": [
    "internet.info()"
   ]
  },
  {
   "cell_type": "code",
   "execution_count": 10,
   "metadata": {},
   "outputs": [
    {
     "data": {
      "text/html": [
       "<div>\n",
       "<style scoped>\n",
       "    .dataframe tbody tr th:only-of-type {\n",
       "        vertical-align: middle;\n",
       "    }\n",
       "\n",
       "    .dataframe tbody tr th {\n",
       "        vertical-align: top;\n",
       "    }\n",
       "\n",
       "    .dataframe thead th {\n",
       "        text-align: right;\n",
       "    }\n",
       "</style>\n",
       "<table border=\"1\" class=\"dataframe\">\n",
       "  <thead>\n",
       "    <tr style=\"text-align: right;\">\n",
       "      <th></th>\n",
       "      <th>messages_included</th>\n",
       "      <th>mb_per_month_included</th>\n",
       "      <th>minutes_included</th>\n",
       "      <th>rub_monthly_fee</th>\n",
       "      <th>rub_per_gb</th>\n",
       "      <th>rub_per_message</th>\n",
       "      <th>rub_per_minute</th>\n",
       "      <th>tariff_name</th>\n",
       "    </tr>\n",
       "  </thead>\n",
       "  <tbody>\n",
       "    <tr>\n",
       "      <th>0</th>\n",
       "      <td>50</td>\n",
       "      <td>15360</td>\n",
       "      <td>500</td>\n",
       "      <td>550</td>\n",
       "      <td>200</td>\n",
       "      <td>3</td>\n",
       "      <td>3</td>\n",
       "      <td>smart</td>\n",
       "    </tr>\n",
       "    <tr>\n",
       "      <th>1</th>\n",
       "      <td>1000</td>\n",
       "      <td>30720</td>\n",
       "      <td>3000</td>\n",
       "      <td>1950</td>\n",
       "      <td>150</td>\n",
       "      <td>1</td>\n",
       "      <td>1</td>\n",
       "      <td>ultra</td>\n",
       "    </tr>\n",
       "  </tbody>\n",
       "</table>\n",
       "</div>"
      ],
      "text/plain": [
       "   messages_included  mb_per_month_included  minutes_included  \\\n",
       "0                 50                  15360               500   \n",
       "1               1000                  30720              3000   \n",
       "\n",
       "   rub_monthly_fee  rub_per_gb  rub_per_message  rub_per_minute tariff_name  \n",
       "0              550         200                3               3       smart  \n",
       "1             1950         150                1               1       ultra  "
      ]
     },
     "execution_count": 10,
     "metadata": {},
     "output_type": "execute_result"
    }
   ],
   "source": [
    "try:\n",
    "    tariffs = pd.read_csv('C:\\\\Users\\\\1\\\\Documents\\\\датасеты\\\\tariffs.csv')\n",
    "except:\n",
    "    tariffs = pd.read_csv('/datasets/tariffs.csv')\n",
    "\n",
    "tariffs.head()"
   ]
  },
  {
   "cell_type": "code",
   "execution_count": 11,
   "metadata": {},
   "outputs": [
    {
     "name": "stdout",
     "output_type": "stream",
     "text": [
      "<class 'pandas.core.frame.DataFrame'>\n",
      "RangeIndex: 2 entries, 0 to 1\n",
      "Data columns (total 8 columns):\n",
      " #   Column                 Non-Null Count  Dtype \n",
      "---  ------                 --------------  ----- \n",
      " 0   messages_included      2 non-null      int64 \n",
      " 1   mb_per_month_included  2 non-null      int64 \n",
      " 2   minutes_included       2 non-null      int64 \n",
      " 3   rub_monthly_fee        2 non-null      int64 \n",
      " 4   rub_per_gb             2 non-null      int64 \n",
      " 5   rub_per_message        2 non-null      int64 \n",
      " 6   rub_per_minute         2 non-null      int64 \n",
      " 7   tariff_name            2 non-null      object\n",
      "dtypes: int64(7), object(1)\n",
      "memory usage: 256.0+ bytes\n"
     ]
    }
   ],
   "source": [
    "tariffs.info()"
   ]
  },
  {
   "cell_type": "markdown",
   "metadata": {},
   "source": [
    "## Шаг 2. Подготовка данных"
   ]
  },
  {
   "cell_type": "markdown",
   "metadata": {},
   "source": [
    "### Приведем данные к нужным типам\n",
    "Для дальнейшей обработки данных в таблицах  со звонками, сообщениями, интренет трафиком пользователей необходимо привести данные в столбцах с датой к типу datetime"
   ]
  },
  {
   "cell_type": "code",
   "execution_count": 12,
   "metadata": {},
   "outputs": [
    {
     "name": "stdout",
     "output_type": "stream",
     "text": [
      "<class 'pandas.core.frame.DataFrame'>\n",
      "RangeIndex: 202607 entries, 0 to 202606\n",
      "Data columns (total 4 columns):\n",
      " #   Column     Non-Null Count   Dtype         \n",
      "---  ------     --------------   -----         \n",
      " 0   id         202607 non-null  object        \n",
      " 1   call_date  202607 non-null  datetime64[ns]\n",
      " 2   duration   202607 non-null  float64       \n",
      " 3   user_id    202607 non-null  int64         \n",
      "dtypes: datetime64[ns](1), float64(1), int64(1), object(1)\n",
      "memory usage: 6.2+ MB\n"
     ]
    }
   ],
   "source": [
    "#изменим тип данных в таблице calls в столбце call_date\n",
    "calls['call_date'] = pd.to_datetime(calls['call_date'], format='%Y-%m-%d')\n",
    "calls.info()"
   ]
  },
  {
   "cell_type": "code",
   "execution_count": 13,
   "metadata": {
    "scrolled": true
   },
   "outputs": [
    {
     "name": "stdout",
     "output_type": "stream",
     "text": [
      "<class 'pandas.core.frame.DataFrame'>\n",
      "RangeIndex: 123036 entries, 0 to 123035\n",
      "Data columns (total 3 columns):\n",
      " #   Column        Non-Null Count   Dtype         \n",
      "---  ------        --------------   -----         \n",
      " 0   id            123036 non-null  object        \n",
      " 1   message_date  123036 non-null  datetime64[ns]\n",
      " 2   user_id       123036 non-null  int64         \n",
      "dtypes: datetime64[ns](1), int64(1), object(1)\n",
      "memory usage: 2.8+ MB\n"
     ]
    }
   ],
   "source": [
    "#изменим тип данных в таблице messages в столбце message_date\n",
    "messages['message_date'] = pd.to_datetime(messages['message_date'], format='%Y-%m-%d')\n",
    "messages.info()"
   ]
  },
  {
   "cell_type": "code",
   "execution_count": 14,
   "metadata": {},
   "outputs": [
    {
     "name": "stdout",
     "output_type": "stream",
     "text": [
      "<class 'pandas.core.frame.DataFrame'>\n",
      "RangeIndex: 149396 entries, 0 to 149395\n",
      "Data columns (total 5 columns):\n",
      " #   Column        Non-Null Count   Dtype         \n",
      "---  ------        --------------   -----         \n",
      " 0   Unnamed: 0    149396 non-null  int64         \n",
      " 1   id            149396 non-null  object        \n",
      " 2   mb_used       149396 non-null  float64       \n",
      " 3   session_date  149396 non-null  datetime64[ns]\n",
      " 4   user_id       149396 non-null  int64         \n",
      "dtypes: datetime64[ns](1), float64(1), int64(2), object(1)\n",
      "memory usage: 5.7+ MB\n"
     ]
    }
   ],
   "source": [
    "#изменим тип данных в таблице internet в столбце session_date\n",
    "internet['session_date'] = pd.to_datetime(internet['session_date'], format='%Y-%m-%d')\n",
    "internet.info()"
   ]
  },
  {
   "cell_type": "markdown",
   "metadata": {},
   "source": [
    "### Проверка данных на ошибки \n",
    "Для дальнейшей работы с данными следует исключить наличие ошибок.\n",
    "\n",
    "В таблице с данными пользователей необходимо проверить наличие:\n",
    "- явных дубликатов\n",
    "- в столбцах сity и tariff скрытых дубликатов \n"
   ]
  },
  {
   "cell_type": "code",
   "execution_count": 15,
   "metadata": {},
   "outputs": [
    {
     "data": {
      "text/plain": [
       "0"
      ]
     },
     "execution_count": 15,
     "metadata": {},
     "output_type": "execute_result"
    }
   ],
   "source": [
    "#проверим на наличие дубликатов таблицу с данными пользователей\n",
    "users.duplicated().sum()"
   ]
  },
  {
   "cell_type": "code",
   "execution_count": 16,
   "metadata": {},
   "outputs": [
    {
     "data": {
      "text/plain": [
       "array(['Краснодар', 'Москва', 'Стерлитамак', 'Новокузнецк',\n",
       "       'Набережные Челны', 'Ульяновск', 'Челябинск', 'Пермь', 'Тюмень',\n",
       "       'Самара', 'Санкт-Петербург', 'Иваново', 'Чебоксары', 'Омск', 'Уфа',\n",
       "       'Томск', 'Чита', 'Мурманск', 'Петрозаводск', 'Тверь',\n",
       "       'Екатеринбург', 'Махачкала', 'Вологда', 'Череповец', 'Ярославль',\n",
       "       'Сочи', 'Хабаровск', 'Ставрополь', 'Рязань', 'Улан-Удэ', 'Тула',\n",
       "       'Саратов', 'Ростов-на-Дону', 'Казань', 'Иркутск', 'Курск',\n",
       "       'Калуга', 'Якутск', 'Астрахань', 'Химки', 'Владикавказ',\n",
       "       'Волгоград', 'Саранск', 'Ижевск', 'Новосибирск', 'Брянск',\n",
       "       'Тольятти', 'Нижний Тагил', 'Орёл', 'Белгород', 'Воронеж',\n",
       "       'Волжский', 'Курган', 'Барнаул', 'Красноярск', 'Архангельск',\n",
       "       'Липецк', 'Кемерово', 'Киров', 'Сургут', 'Пенза', 'Магнитогорск',\n",
       "       'Нижний Новгород', 'Кострома', 'Владивосток', 'Тамбов', 'Балашиха',\n",
       "       'Севастополь', 'Калининград', 'Оренбург', 'Смоленск',\n",
       "       'Нижневартовск', 'Владимир', 'Новороссийск', 'Грозный', 'Подольск'],\n",
       "      dtype=object)"
      ]
     },
     "execution_count": 16,
     "metadata": {},
     "output_type": "execute_result"
    }
   ],
   "source": [
    "#проверим столбец сity на наличие скрытых дубликатов\n",
    "users['city'].unique()"
   ]
  },
  {
   "cell_type": "code",
   "execution_count": 17,
   "metadata": {},
   "outputs": [
    {
     "data": {
      "text/plain": [
       "array(['ultra', 'smart'], dtype=object)"
      ]
     },
     "execution_count": 17,
     "metadata": {},
     "output_type": "execute_result"
    }
   ],
   "source": [
    "#проверим столбец tariff на наличие скрытых дубликатов\n",
    "users['tariff'].unique()"
   ]
  },
  {
   "cell_type": "markdown",
   "metadata": {},
   "source": [
    "#### Вывод \n",
    "Явные и скрытые дубликаты не обнаружены. \n"
   ]
  },
  {
   "cell_type": "markdown",
   "metadata": {},
   "source": [
    "### Количество сделанных звонков и израсходованных минут разговора по месяцам"
   ]
  },
  {
   "cell_type": "code",
   "execution_count": 18,
   "metadata": {},
   "outputs": [
    {
     "data": {
      "text/html": [
       "<div>\n",
       "<style scoped>\n",
       "    .dataframe tbody tr th:only-of-type {\n",
       "        vertical-align: middle;\n",
       "    }\n",
       "\n",
       "    .dataframe tbody tr th {\n",
       "        vertical-align: top;\n",
       "    }\n",
       "\n",
       "    .dataframe thead th {\n",
       "        text-align: right;\n",
       "    }\n",
       "</style>\n",
       "<table border=\"1\" class=\"dataframe\">\n",
       "  <thead>\n",
       "    <tr style=\"text-align: right;\">\n",
       "      <th></th>\n",
       "      <th>id</th>\n",
       "      <th>call_date</th>\n",
       "      <th>duration</th>\n",
       "      <th>user_id</th>\n",
       "      <th>month</th>\n",
       "    </tr>\n",
       "  </thead>\n",
       "  <tbody>\n",
       "    <tr>\n",
       "      <th>0</th>\n",
       "      <td>1000_0</td>\n",
       "      <td>2018-07-25</td>\n",
       "      <td>0.00</td>\n",
       "      <td>1000</td>\n",
       "      <td>7</td>\n",
       "    </tr>\n",
       "    <tr>\n",
       "      <th>1</th>\n",
       "      <td>1000_1</td>\n",
       "      <td>2018-08-17</td>\n",
       "      <td>0.00</td>\n",
       "      <td>1000</td>\n",
       "      <td>8</td>\n",
       "    </tr>\n",
       "    <tr>\n",
       "      <th>2</th>\n",
       "      <td>1000_2</td>\n",
       "      <td>2018-06-11</td>\n",
       "      <td>2.85</td>\n",
       "      <td>1000</td>\n",
       "      <td>6</td>\n",
       "    </tr>\n",
       "    <tr>\n",
       "      <th>3</th>\n",
       "      <td>1000_3</td>\n",
       "      <td>2018-09-21</td>\n",
       "      <td>13.80</td>\n",
       "      <td>1000</td>\n",
       "      <td>9</td>\n",
       "    </tr>\n",
       "    <tr>\n",
       "      <th>4</th>\n",
       "      <td>1000_4</td>\n",
       "      <td>2018-12-15</td>\n",
       "      <td>5.18</td>\n",
       "      <td>1000</td>\n",
       "      <td>12</td>\n",
       "    </tr>\n",
       "  </tbody>\n",
       "</table>\n",
       "</div>"
      ],
      "text/plain": [
       "       id  call_date  duration  user_id  month\n",
       "0  1000_0 2018-07-25      0.00     1000      7\n",
       "1  1000_1 2018-08-17      0.00     1000      8\n",
       "2  1000_2 2018-06-11      2.85     1000      6\n",
       "3  1000_3 2018-09-21     13.80     1000      9\n",
       "4  1000_4 2018-12-15      5.18     1000     12"
      ]
     },
     "execution_count": 18,
     "metadata": {},
     "output_type": "execute_result"
    }
   ],
   "source": [
    "#добавим в таблицу calls столбец с месяцем \n",
    "calls['month'] = pd.DatetimeIndex(calls['call_date']).month\n",
    "#calls['month'] =calls['call_date'].astype('datetime64[M]')\n",
    "calls.head()"
   ]
  },
  {
   "cell_type": "code",
   "execution_count": 19,
   "metadata": {},
   "outputs": [
    {
     "data": {
      "text/html": [
       "<div>\n",
       "<style scoped>\n",
       "    .dataframe tbody tr th:only-of-type {\n",
       "        vertical-align: middle;\n",
       "    }\n",
       "\n",
       "    .dataframe tbody tr th {\n",
       "        vertical-align: top;\n",
       "    }\n",
       "\n",
       "    .dataframe thead th {\n",
       "        text-align: right;\n",
       "    }\n",
       "</style>\n",
       "<table border=\"1\" class=\"dataframe\">\n",
       "  <thead>\n",
       "    <tr style=\"text-align: right;\">\n",
       "      <th></th>\n",
       "      <th>id</th>\n",
       "      <th>call_date</th>\n",
       "      <th>duration</th>\n",
       "      <th>user_id</th>\n",
       "      <th>month</th>\n",
       "    </tr>\n",
       "  </thead>\n",
       "  <tbody>\n",
       "    <tr>\n",
       "      <th>0</th>\n",
       "      <td>1000_0</td>\n",
       "      <td>2018-07-25</td>\n",
       "      <td>0.0</td>\n",
       "      <td>1000</td>\n",
       "      <td>7</td>\n",
       "    </tr>\n",
       "    <tr>\n",
       "      <th>1</th>\n",
       "      <td>1000_1</td>\n",
       "      <td>2018-08-17</td>\n",
       "      <td>0.0</td>\n",
       "      <td>1000</td>\n",
       "      <td>8</td>\n",
       "    </tr>\n",
       "    <tr>\n",
       "      <th>2</th>\n",
       "      <td>1000_2</td>\n",
       "      <td>2018-06-11</td>\n",
       "      <td>3.0</td>\n",
       "      <td>1000</td>\n",
       "      <td>6</td>\n",
       "    </tr>\n",
       "    <tr>\n",
       "      <th>3</th>\n",
       "      <td>1000_3</td>\n",
       "      <td>2018-09-21</td>\n",
       "      <td>14.0</td>\n",
       "      <td>1000</td>\n",
       "      <td>9</td>\n",
       "    </tr>\n",
       "    <tr>\n",
       "      <th>4</th>\n",
       "      <td>1000_4</td>\n",
       "      <td>2018-12-15</td>\n",
       "      <td>6.0</td>\n",
       "      <td>1000</td>\n",
       "      <td>12</td>\n",
       "    </tr>\n",
       "  </tbody>\n",
       "</table>\n",
       "</div>"
      ],
      "text/plain": [
       "       id  call_date  duration  user_id  month\n",
       "0  1000_0 2018-07-25       0.0     1000      7\n",
       "1  1000_1 2018-08-17       0.0     1000      8\n",
       "2  1000_2 2018-06-11       3.0     1000      6\n",
       "3  1000_3 2018-09-21      14.0     1000      9\n",
       "4  1000_4 2018-12-15       6.0     1000     12"
      ]
     },
     "execution_count": 19,
     "metadata": {},
     "output_type": "execute_result"
    }
   ],
   "source": [
    "#округлим данные звонков до минут\n",
    "calls['duration'] = np.ceil(calls['duration'])\n",
    "calls.head()"
   ]
  },
  {
   "cell_type": "code",
   "execution_count": 20,
   "metadata": {},
   "outputs": [
    {
     "data": {
      "text/html": [
       "<div>\n",
       "<style scoped>\n",
       "    .dataframe tbody tr th:only-of-type {\n",
       "        vertical-align: middle;\n",
       "    }\n",
       "\n",
       "    .dataframe tbody tr th {\n",
       "        vertical-align: top;\n",
       "    }\n",
       "\n",
       "    .dataframe thead th {\n",
       "        text-align: right;\n",
       "    }\n",
       "</style>\n",
       "<table border=\"1\" class=\"dataframe\">\n",
       "  <thead>\n",
       "    <tr style=\"text-align: right;\">\n",
       "      <th></th>\n",
       "      <th>user_id</th>\n",
       "      <th>month</th>\n",
       "      <th>total_calls_duration</th>\n",
       "      <th>calls</th>\n",
       "    </tr>\n",
       "  </thead>\n",
       "  <tbody>\n",
       "    <tr>\n",
       "      <th>0</th>\n",
       "      <td>1000</td>\n",
       "      <td>5</td>\n",
       "      <td>159.0</td>\n",
       "      <td>22</td>\n",
       "    </tr>\n",
       "    <tr>\n",
       "      <th>1</th>\n",
       "      <td>1000</td>\n",
       "      <td>6</td>\n",
       "      <td>172.0</td>\n",
       "      <td>43</td>\n",
       "    </tr>\n",
       "    <tr>\n",
       "      <th>2</th>\n",
       "      <td>1000</td>\n",
       "      <td>7</td>\n",
       "      <td>340.0</td>\n",
       "      <td>47</td>\n",
       "    </tr>\n",
       "    <tr>\n",
       "      <th>3</th>\n",
       "      <td>1000</td>\n",
       "      <td>8</td>\n",
       "      <td>408.0</td>\n",
       "      <td>52</td>\n",
       "    </tr>\n",
       "    <tr>\n",
       "      <th>4</th>\n",
       "      <td>1000</td>\n",
       "      <td>9</td>\n",
       "      <td>466.0</td>\n",
       "      <td>58</td>\n",
       "    </tr>\n",
       "  </tbody>\n",
       "</table>\n",
       "</div>"
      ],
      "text/plain": [
       "   user_id  month  total_calls_duration  calls\n",
       "0     1000      5                 159.0     22\n",
       "1     1000      6                 172.0     43\n",
       "2     1000      7                 340.0     47\n",
       "3     1000      8                 408.0     52\n",
       "4     1000      9                 466.0     58"
      ]
     },
     "execution_count": 20,
     "metadata": {},
     "output_type": "execute_result"
    }
   ],
   "source": [
    "#сгруппируем данные по id абонента и количеству потраченных минут в месяц\n",
    "calls_per_month = (calls\n",
    "                   .groupby(['user_id','month']).agg({'duration': ['sum', 'count']})\n",
    "                   .reset_index()\n",
    "                  )\n",
    "calls_per_month.columns = ['user_id','month','total_calls_duration', 'calls']\n",
    "calls_per_month.head()"
   ]
  },
  {
   "cell_type": "markdown",
   "metadata": {},
   "source": [
    "### Количество отправленных сообщений по месяцам"
   ]
  },
  {
   "cell_type": "code",
   "execution_count": 21,
   "metadata": {
    "scrolled": true
   },
   "outputs": [
    {
     "data": {
      "text/html": [
       "<div>\n",
       "<style scoped>\n",
       "    .dataframe tbody tr th:only-of-type {\n",
       "        vertical-align: middle;\n",
       "    }\n",
       "\n",
       "    .dataframe tbody tr th {\n",
       "        vertical-align: top;\n",
       "    }\n",
       "\n",
       "    .dataframe thead th {\n",
       "        text-align: right;\n",
       "    }\n",
       "</style>\n",
       "<table border=\"1\" class=\"dataframe\">\n",
       "  <thead>\n",
       "    <tr style=\"text-align: right;\">\n",
       "      <th></th>\n",
       "      <th>id</th>\n",
       "      <th>message_date</th>\n",
       "      <th>user_id</th>\n",
       "      <th>month</th>\n",
       "    </tr>\n",
       "  </thead>\n",
       "  <tbody>\n",
       "    <tr>\n",
       "      <th>0</th>\n",
       "      <td>1000_0</td>\n",
       "      <td>2018-06-27</td>\n",
       "      <td>1000</td>\n",
       "      <td>6</td>\n",
       "    </tr>\n",
       "    <tr>\n",
       "      <th>1</th>\n",
       "      <td>1000_1</td>\n",
       "      <td>2018-10-08</td>\n",
       "      <td>1000</td>\n",
       "      <td>10</td>\n",
       "    </tr>\n",
       "    <tr>\n",
       "      <th>2</th>\n",
       "      <td>1000_2</td>\n",
       "      <td>2018-08-04</td>\n",
       "      <td>1000</td>\n",
       "      <td>8</td>\n",
       "    </tr>\n",
       "    <tr>\n",
       "      <th>3</th>\n",
       "      <td>1000_3</td>\n",
       "      <td>2018-06-16</td>\n",
       "      <td>1000</td>\n",
       "      <td>6</td>\n",
       "    </tr>\n",
       "    <tr>\n",
       "      <th>4</th>\n",
       "      <td>1000_4</td>\n",
       "      <td>2018-12-05</td>\n",
       "      <td>1000</td>\n",
       "      <td>12</td>\n",
       "    </tr>\n",
       "  </tbody>\n",
       "</table>\n",
       "</div>"
      ],
      "text/plain": [
       "       id message_date  user_id  month\n",
       "0  1000_0   2018-06-27     1000      6\n",
       "1  1000_1   2018-10-08     1000     10\n",
       "2  1000_2   2018-08-04     1000      8\n",
       "3  1000_3   2018-06-16     1000      6\n",
       "4  1000_4   2018-12-05     1000     12"
      ]
     },
     "execution_count": 21,
     "metadata": {},
     "output_type": "execute_result"
    }
   ],
   "source": [
    "#добавим в таблицу messages столбец с месяцем \n",
    "messages['month'] = pd.DatetimeIndex(messages['message_date']).month\n",
    "messages.head()"
   ]
  },
  {
   "cell_type": "code",
   "execution_count": 22,
   "metadata": {},
   "outputs": [
    {
     "data": {
      "text/html": [
       "<div>\n",
       "<style scoped>\n",
       "    .dataframe tbody tr th:only-of-type {\n",
       "        vertical-align: middle;\n",
       "    }\n",
       "\n",
       "    .dataframe tbody tr th {\n",
       "        vertical-align: top;\n",
       "    }\n",
       "\n",
       "    .dataframe thead th {\n",
       "        text-align: right;\n",
       "    }\n",
       "</style>\n",
       "<table border=\"1\" class=\"dataframe\">\n",
       "  <thead>\n",
       "    <tr style=\"text-align: right;\">\n",
       "      <th></th>\n",
       "      <th>user_id</th>\n",
       "      <th>month</th>\n",
       "      <th>messages</th>\n",
       "    </tr>\n",
       "  </thead>\n",
       "  <tbody>\n",
       "    <tr>\n",
       "      <th>0</th>\n",
       "      <td>1000</td>\n",
       "      <td>5</td>\n",
       "      <td>22</td>\n",
       "    </tr>\n",
       "    <tr>\n",
       "      <th>1</th>\n",
       "      <td>1000</td>\n",
       "      <td>6</td>\n",
       "      <td>60</td>\n",
       "    </tr>\n",
       "    <tr>\n",
       "      <th>2</th>\n",
       "      <td>1000</td>\n",
       "      <td>7</td>\n",
       "      <td>75</td>\n",
       "    </tr>\n",
       "    <tr>\n",
       "      <th>3</th>\n",
       "      <td>1000</td>\n",
       "      <td>8</td>\n",
       "      <td>81</td>\n",
       "    </tr>\n",
       "    <tr>\n",
       "      <th>4</th>\n",
       "      <td>1000</td>\n",
       "      <td>9</td>\n",
       "      <td>57</td>\n",
       "    </tr>\n",
       "  </tbody>\n",
       "</table>\n",
       "</div>"
      ],
      "text/plain": [
       "   user_id  month  messages\n",
       "0     1000      5        22\n",
       "1     1000      6        60\n",
       "2     1000      7        75\n",
       "3     1000      8        81\n",
       "4     1000      9        57"
      ]
     },
     "execution_count": 22,
     "metadata": {},
     "output_type": "execute_result"
    }
   ],
   "source": [
    "#сгруппируем данные по id абонента и количеству отправленных sms в месяц\n",
    "messages_per_month = (messages\n",
    "                      .groupby(['user_id', 'month']).agg({'message_date': 'count'})\n",
    "                      .rename(columns = {'message_date': 'messages'})\n",
    "                      .reset_index()\n",
    "                     )\n",
    "messages_per_month.head()"
   ]
  },
  {
   "cell_type": "markdown",
   "metadata": {},
   "source": [
    "### Объем израсходованного интернет-трафика по месяцам"
   ]
  },
  {
   "cell_type": "code",
   "execution_count": 23,
   "metadata": {},
   "outputs": [
    {
     "data": {
      "text/html": [
       "<div>\n",
       "<style scoped>\n",
       "    .dataframe tbody tr th:only-of-type {\n",
       "        vertical-align: middle;\n",
       "    }\n",
       "\n",
       "    .dataframe tbody tr th {\n",
       "        vertical-align: top;\n",
       "    }\n",
       "\n",
       "    .dataframe thead th {\n",
       "        text-align: right;\n",
       "    }\n",
       "</style>\n",
       "<table border=\"1\" class=\"dataframe\">\n",
       "  <thead>\n",
       "    <tr style=\"text-align: right;\">\n",
       "      <th></th>\n",
       "      <th>Unnamed: 0</th>\n",
       "      <th>id</th>\n",
       "      <th>mb_used</th>\n",
       "      <th>session_date</th>\n",
       "      <th>user_id</th>\n",
       "      <th>month</th>\n",
       "    </tr>\n",
       "  </thead>\n",
       "  <tbody>\n",
       "    <tr>\n",
       "      <th>0</th>\n",
       "      <td>0</td>\n",
       "      <td>1000_0</td>\n",
       "      <td>112.95</td>\n",
       "      <td>2018-11-25</td>\n",
       "      <td>1000</td>\n",
       "      <td>11</td>\n",
       "    </tr>\n",
       "    <tr>\n",
       "      <th>1</th>\n",
       "      <td>1</td>\n",
       "      <td>1000_1</td>\n",
       "      <td>1052.81</td>\n",
       "      <td>2018-09-07</td>\n",
       "      <td>1000</td>\n",
       "      <td>9</td>\n",
       "    </tr>\n",
       "    <tr>\n",
       "      <th>2</th>\n",
       "      <td>2</td>\n",
       "      <td>1000_2</td>\n",
       "      <td>1197.26</td>\n",
       "      <td>2018-06-25</td>\n",
       "      <td>1000</td>\n",
       "      <td>6</td>\n",
       "    </tr>\n",
       "    <tr>\n",
       "      <th>3</th>\n",
       "      <td>3</td>\n",
       "      <td>1000_3</td>\n",
       "      <td>550.27</td>\n",
       "      <td>2018-08-22</td>\n",
       "      <td>1000</td>\n",
       "      <td>8</td>\n",
       "    </tr>\n",
       "    <tr>\n",
       "      <th>4</th>\n",
       "      <td>4</td>\n",
       "      <td>1000_4</td>\n",
       "      <td>302.56</td>\n",
       "      <td>2018-09-24</td>\n",
       "      <td>1000</td>\n",
       "      <td>9</td>\n",
       "    </tr>\n",
       "  </tbody>\n",
       "</table>\n",
       "</div>"
      ],
      "text/plain": [
       "   Unnamed: 0      id  mb_used session_date  user_id  month\n",
       "0           0  1000_0   112.95   2018-11-25     1000     11\n",
       "1           1  1000_1  1052.81   2018-09-07     1000      9\n",
       "2           2  1000_2  1197.26   2018-06-25     1000      6\n",
       "3           3  1000_3   550.27   2018-08-22     1000      8\n",
       "4           4  1000_4   302.56   2018-09-24     1000      9"
      ]
     },
     "execution_count": 23,
     "metadata": {},
     "output_type": "execute_result"
    }
   ],
   "source": [
    "#добавим в таблицу internet столбец с месяцем \n",
    "internet['month'] = pd.DatetimeIndex(internet['session_date']).month\n",
    "internet.head()"
   ]
  },
  {
   "cell_type": "code",
   "execution_count": 24,
   "metadata": {},
   "outputs": [
    {
     "data": {
      "text/html": [
       "<div>\n",
       "<style scoped>\n",
       "    .dataframe tbody tr th:only-of-type {\n",
       "        vertical-align: middle;\n",
       "    }\n",
       "\n",
       "    .dataframe tbody tr th {\n",
       "        vertical-align: top;\n",
       "    }\n",
       "\n",
       "    .dataframe thead th {\n",
       "        text-align: right;\n",
       "    }\n",
       "</style>\n",
       "<table border=\"1\" class=\"dataframe\">\n",
       "  <thead>\n",
       "    <tr style=\"text-align: right;\">\n",
       "      <th></th>\n",
       "      <th>user_id</th>\n",
       "      <th>month</th>\n",
       "      <th>mb_used</th>\n",
       "    </tr>\n",
       "  </thead>\n",
       "  <tbody>\n",
       "    <tr>\n",
       "      <th>0</th>\n",
       "      <td>1000</td>\n",
       "      <td>5</td>\n",
       "      <td>2253.49</td>\n",
       "    </tr>\n",
       "    <tr>\n",
       "      <th>1</th>\n",
       "      <td>1000</td>\n",
       "      <td>6</td>\n",
       "      <td>23233.77</td>\n",
       "    </tr>\n",
       "    <tr>\n",
       "      <th>2</th>\n",
       "      <td>1000</td>\n",
       "      <td>7</td>\n",
       "      <td>14003.64</td>\n",
       "    </tr>\n",
       "    <tr>\n",
       "      <th>3</th>\n",
       "      <td>1000</td>\n",
       "      <td>8</td>\n",
       "      <td>14055.93</td>\n",
       "    </tr>\n",
       "    <tr>\n",
       "      <th>4</th>\n",
       "      <td>1000</td>\n",
       "      <td>9</td>\n",
       "      <td>14568.91</td>\n",
       "    </tr>\n",
       "  </tbody>\n",
       "</table>\n",
       "</div>"
      ],
      "text/plain": [
       "   user_id  month   mb_used\n",
       "0     1000      5   2253.49\n",
       "1     1000      6  23233.77\n",
       "2     1000      7  14003.64\n",
       "3     1000      8  14055.93\n",
       "4     1000      9  14568.91"
      ]
     },
     "execution_count": 24,
     "metadata": {},
     "output_type": "execute_result"
    }
   ],
   "source": [
    "#сгруппируем данные по id абонента и израсходованному трафику в месяц\n",
    "internet_per_month = internet.groupby(['user_id', 'month']).agg({'mb_used': 'sum'}).reset_index()\n",
    "internet_per_month.head()\n",
    "\n"
   ]
  },
  {
   "cell_type": "markdown",
   "metadata": {},
   "source": [
    "### Помесячная выручка с каждого пользователя"
   ]
  },
  {
   "cell_type": "code",
   "execution_count": 25,
   "metadata": {},
   "outputs": [
    {
     "data": {
      "text/html": [
       "<div>\n",
       "<style scoped>\n",
       "    .dataframe tbody tr th:only-of-type {\n",
       "        vertical-align: middle;\n",
       "    }\n",
       "\n",
       "    .dataframe tbody tr th {\n",
       "        vertical-align: top;\n",
       "    }\n",
       "\n",
       "    .dataframe thead th {\n",
       "        text-align: right;\n",
       "    }\n",
       "</style>\n",
       "<table border=\"1\" class=\"dataframe\">\n",
       "  <thead>\n",
       "    <tr style=\"text-align: right;\">\n",
       "      <th></th>\n",
       "      <th>user_id</th>\n",
       "      <th>month</th>\n",
       "      <th>total_calls_duration</th>\n",
       "      <th>messages</th>\n",
       "      <th>mb_used</th>\n",
       "      <th>age</th>\n",
       "      <th>churn_date</th>\n",
       "      <th>city</th>\n",
       "      <th>first_name</th>\n",
       "      <th>last_name</th>\n",
       "      <th>reg_date</th>\n",
       "      <th>tariff</th>\n",
       "      <th>messages_included</th>\n",
       "      <th>mb_per_month_included</th>\n",
       "      <th>minutes_included</th>\n",
       "      <th>rub_monthly_fee</th>\n",
       "      <th>rub_per_gb</th>\n",
       "      <th>rub_per_message</th>\n",
       "      <th>rub_per_minute</th>\n",
       "      <th>tariff_name</th>\n",
       "    </tr>\n",
       "  </thead>\n",
       "  <tbody>\n",
       "    <tr>\n",
       "      <th>0</th>\n",
       "      <td>1000</td>\n",
       "      <td>5.0</td>\n",
       "      <td>159.0</td>\n",
       "      <td>22.0</td>\n",
       "      <td>2253.49</td>\n",
       "      <td>52</td>\n",
       "      <td>0</td>\n",
       "      <td>Краснодар</td>\n",
       "      <td>Рафаил</td>\n",
       "      <td>Верещагин</td>\n",
       "      <td>2018-05-25</td>\n",
       "      <td>ultra</td>\n",
       "      <td>1000</td>\n",
       "      <td>30720</td>\n",
       "      <td>3000</td>\n",
       "      <td>1950</td>\n",
       "      <td>150</td>\n",
       "      <td>1</td>\n",
       "      <td>1</td>\n",
       "      <td>ultra</td>\n",
       "    </tr>\n",
       "    <tr>\n",
       "      <th>1</th>\n",
       "      <td>1000</td>\n",
       "      <td>6.0</td>\n",
       "      <td>172.0</td>\n",
       "      <td>60.0</td>\n",
       "      <td>23233.77</td>\n",
       "      <td>52</td>\n",
       "      <td>0</td>\n",
       "      <td>Краснодар</td>\n",
       "      <td>Рафаил</td>\n",
       "      <td>Верещагин</td>\n",
       "      <td>2018-05-25</td>\n",
       "      <td>ultra</td>\n",
       "      <td>1000</td>\n",
       "      <td>30720</td>\n",
       "      <td>3000</td>\n",
       "      <td>1950</td>\n",
       "      <td>150</td>\n",
       "      <td>1</td>\n",
       "      <td>1</td>\n",
       "      <td>ultra</td>\n",
       "    </tr>\n",
       "    <tr>\n",
       "      <th>2</th>\n",
       "      <td>1000</td>\n",
       "      <td>7.0</td>\n",
       "      <td>340.0</td>\n",
       "      <td>75.0</td>\n",
       "      <td>14003.64</td>\n",
       "      <td>52</td>\n",
       "      <td>0</td>\n",
       "      <td>Краснодар</td>\n",
       "      <td>Рафаил</td>\n",
       "      <td>Верещагин</td>\n",
       "      <td>2018-05-25</td>\n",
       "      <td>ultra</td>\n",
       "      <td>1000</td>\n",
       "      <td>30720</td>\n",
       "      <td>3000</td>\n",
       "      <td>1950</td>\n",
       "      <td>150</td>\n",
       "      <td>1</td>\n",
       "      <td>1</td>\n",
       "      <td>ultra</td>\n",
       "    </tr>\n",
       "    <tr>\n",
       "      <th>3</th>\n",
       "      <td>1000</td>\n",
       "      <td>8.0</td>\n",
       "      <td>408.0</td>\n",
       "      <td>81.0</td>\n",
       "      <td>14055.93</td>\n",
       "      <td>52</td>\n",
       "      <td>0</td>\n",
       "      <td>Краснодар</td>\n",
       "      <td>Рафаил</td>\n",
       "      <td>Верещагин</td>\n",
       "      <td>2018-05-25</td>\n",
       "      <td>ultra</td>\n",
       "      <td>1000</td>\n",
       "      <td>30720</td>\n",
       "      <td>3000</td>\n",
       "      <td>1950</td>\n",
       "      <td>150</td>\n",
       "      <td>1</td>\n",
       "      <td>1</td>\n",
       "      <td>ultra</td>\n",
       "    </tr>\n",
       "    <tr>\n",
       "      <th>4</th>\n",
       "      <td>1000</td>\n",
       "      <td>9.0</td>\n",
       "      <td>466.0</td>\n",
       "      <td>57.0</td>\n",
       "      <td>14568.91</td>\n",
       "      <td>52</td>\n",
       "      <td>0</td>\n",
       "      <td>Краснодар</td>\n",
       "      <td>Рафаил</td>\n",
       "      <td>Верещагин</td>\n",
       "      <td>2018-05-25</td>\n",
       "      <td>ultra</td>\n",
       "      <td>1000</td>\n",
       "      <td>30720</td>\n",
       "      <td>3000</td>\n",
       "      <td>1950</td>\n",
       "      <td>150</td>\n",
       "      <td>1</td>\n",
       "      <td>1</td>\n",
       "      <td>ultra</td>\n",
       "    </tr>\n",
       "  </tbody>\n",
       "</table>\n",
       "</div>"
      ],
      "text/plain": [
       "   user_id  month  total_calls_duration  messages   mb_used  age churn_date  \\\n",
       "0     1000    5.0                 159.0      22.0   2253.49   52          0   \n",
       "1     1000    6.0                 172.0      60.0  23233.77   52          0   \n",
       "2     1000    7.0                 340.0      75.0  14003.64   52          0   \n",
       "3     1000    8.0                 408.0      81.0  14055.93   52          0   \n",
       "4     1000    9.0                 466.0      57.0  14568.91   52          0   \n",
       "\n",
       "        city first_name  last_name    reg_date tariff  messages_included  \\\n",
       "0  Краснодар     Рафаил  Верещагин  2018-05-25  ultra               1000   \n",
       "1  Краснодар     Рафаил  Верещагин  2018-05-25  ultra               1000   \n",
       "2  Краснодар     Рафаил  Верещагин  2018-05-25  ultra               1000   \n",
       "3  Краснодар     Рафаил  Верещагин  2018-05-25  ultra               1000   \n",
       "4  Краснодар     Рафаил  Верещагин  2018-05-25  ultra               1000   \n",
       "\n",
       "   mb_per_month_included  minutes_included  rub_monthly_fee  rub_per_gb  \\\n",
       "0                  30720              3000             1950         150   \n",
       "1                  30720              3000             1950         150   \n",
       "2                  30720              3000             1950         150   \n",
       "3                  30720              3000             1950         150   \n",
       "4                  30720              3000             1950         150   \n",
       "\n",
       "   rub_per_message  rub_per_minute tariff_name  \n",
       "0                1               1       ultra  \n",
       "1                1               1       ultra  \n",
       "2                1               1       ultra  \n",
       "3                1               1       ultra  \n",
       "4                1               1       ultra  "
      ]
     },
     "metadata": {},
     "output_type": "display_data"
    },
    {
     "data": {
      "text/plain": [
       "500"
      ]
     },
     "execution_count": 25,
     "metadata": {},
     "output_type": "execute_result"
    }
   ],
   "source": [
    "#объединим таблицы с данными о звонках, смс, интернет-трафике, пользователях и тарифах \n",
    "calls_per_month = calls_per_month[['user_id','month','total_calls_duration']].copy()\n",
    "df = (calls_per_month\n",
    "      .merge(messages_per_month, on=['user_id', 'month'], how='outer')\n",
    "      .merge(internet_per_month, on=['user_id', 'month'], how='outer')\n",
    "     )\n",
    "df = (df\n",
    "      .merge(users, on='user_id', how='outer')\n",
    "      .merge(tariffs, left_on='tariff', right_on='tariff_name',  how='left')\n",
    "      .fillna(0)\n",
    "     )\n",
    "display(df.head())\n",
    "#проверим все ли абоненты остались после объединения таблиц \n",
    "len(df['user_id'].unique())"
   ]
  },
  {
   "cell_type": "code",
   "execution_count": 26,
   "metadata": {},
   "outputs": [
    {
     "data": {
      "text/html": [
       "<div>\n",
       "<style scoped>\n",
       "    .dataframe tbody tr th:only-of-type {\n",
       "        vertical-align: middle;\n",
       "    }\n",
       "\n",
       "    .dataframe tbody tr th {\n",
       "        vertical-align: top;\n",
       "    }\n",
       "\n",
       "    .dataframe thead th {\n",
       "        text-align: right;\n",
       "    }\n",
       "</style>\n",
       "<table border=\"1\" class=\"dataframe\">\n",
       "  <thead>\n",
       "    <tr style=\"text-align: right;\">\n",
       "      <th></th>\n",
       "      <th>user_id</th>\n",
       "      <th>month</th>\n",
       "      <th>total_calls_duration</th>\n",
       "      <th>messages</th>\n",
       "      <th>mb_used</th>\n",
       "      <th>age</th>\n",
       "      <th>churn_date</th>\n",
       "      <th>city</th>\n",
       "      <th>first_name</th>\n",
       "      <th>last_name</th>\n",
       "      <th>...</th>\n",
       "      <th>tariff</th>\n",
       "      <th>messages_included</th>\n",
       "      <th>mb_per_month_included</th>\n",
       "      <th>minutes_included</th>\n",
       "      <th>rub_monthly_fee</th>\n",
       "      <th>rub_per_gb</th>\n",
       "      <th>rub_per_message</th>\n",
       "      <th>rub_per_minute</th>\n",
       "      <th>tariff_name</th>\n",
       "      <th>revenue</th>\n",
       "    </tr>\n",
       "  </thead>\n",
       "  <tbody>\n",
       "    <tr>\n",
       "      <th>0</th>\n",
       "      <td>1000</td>\n",
       "      <td>5.0</td>\n",
       "      <td>159.0</td>\n",
       "      <td>22.0</td>\n",
       "      <td>2253.49</td>\n",
       "      <td>52</td>\n",
       "      <td>0</td>\n",
       "      <td>Краснодар</td>\n",
       "      <td>Рафаил</td>\n",
       "      <td>Верещагин</td>\n",
       "      <td>...</td>\n",
       "      <td>ultra</td>\n",
       "      <td>1000</td>\n",
       "      <td>30720</td>\n",
       "      <td>3000</td>\n",
       "      <td>1950</td>\n",
       "      <td>150</td>\n",
       "      <td>1</td>\n",
       "      <td>1</td>\n",
       "      <td>ultra</td>\n",
       "      <td>1950.0</td>\n",
       "    </tr>\n",
       "    <tr>\n",
       "      <th>1</th>\n",
       "      <td>1000</td>\n",
       "      <td>6.0</td>\n",
       "      <td>172.0</td>\n",
       "      <td>60.0</td>\n",
       "      <td>23233.77</td>\n",
       "      <td>52</td>\n",
       "      <td>0</td>\n",
       "      <td>Краснодар</td>\n",
       "      <td>Рафаил</td>\n",
       "      <td>Верещагин</td>\n",
       "      <td>...</td>\n",
       "      <td>ultra</td>\n",
       "      <td>1000</td>\n",
       "      <td>30720</td>\n",
       "      <td>3000</td>\n",
       "      <td>1950</td>\n",
       "      <td>150</td>\n",
       "      <td>1</td>\n",
       "      <td>1</td>\n",
       "      <td>ultra</td>\n",
       "      <td>1950.0</td>\n",
       "    </tr>\n",
       "    <tr>\n",
       "      <th>2</th>\n",
       "      <td>1000</td>\n",
       "      <td>7.0</td>\n",
       "      <td>340.0</td>\n",
       "      <td>75.0</td>\n",
       "      <td>14003.64</td>\n",
       "      <td>52</td>\n",
       "      <td>0</td>\n",
       "      <td>Краснодар</td>\n",
       "      <td>Рафаил</td>\n",
       "      <td>Верещагин</td>\n",
       "      <td>...</td>\n",
       "      <td>ultra</td>\n",
       "      <td>1000</td>\n",
       "      <td>30720</td>\n",
       "      <td>3000</td>\n",
       "      <td>1950</td>\n",
       "      <td>150</td>\n",
       "      <td>1</td>\n",
       "      <td>1</td>\n",
       "      <td>ultra</td>\n",
       "      <td>1950.0</td>\n",
       "    </tr>\n",
       "    <tr>\n",
       "      <th>3</th>\n",
       "      <td>1000</td>\n",
       "      <td>8.0</td>\n",
       "      <td>408.0</td>\n",
       "      <td>81.0</td>\n",
       "      <td>14055.93</td>\n",
       "      <td>52</td>\n",
       "      <td>0</td>\n",
       "      <td>Краснодар</td>\n",
       "      <td>Рафаил</td>\n",
       "      <td>Верещагин</td>\n",
       "      <td>...</td>\n",
       "      <td>ultra</td>\n",
       "      <td>1000</td>\n",
       "      <td>30720</td>\n",
       "      <td>3000</td>\n",
       "      <td>1950</td>\n",
       "      <td>150</td>\n",
       "      <td>1</td>\n",
       "      <td>1</td>\n",
       "      <td>ultra</td>\n",
       "      <td>1950.0</td>\n",
       "    </tr>\n",
       "    <tr>\n",
       "      <th>4</th>\n",
       "      <td>1000</td>\n",
       "      <td>9.0</td>\n",
       "      <td>466.0</td>\n",
       "      <td>57.0</td>\n",
       "      <td>14568.91</td>\n",
       "      <td>52</td>\n",
       "      <td>0</td>\n",
       "      <td>Краснодар</td>\n",
       "      <td>Рафаил</td>\n",
       "      <td>Верещагин</td>\n",
       "      <td>...</td>\n",
       "      <td>ultra</td>\n",
       "      <td>1000</td>\n",
       "      <td>30720</td>\n",
       "      <td>3000</td>\n",
       "      <td>1950</td>\n",
       "      <td>150</td>\n",
       "      <td>1</td>\n",
       "      <td>1</td>\n",
       "      <td>ultra</td>\n",
       "      <td>1950.0</td>\n",
       "    </tr>\n",
       "    <tr>\n",
       "      <th>...</th>\n",
       "      <td>...</td>\n",
       "      <td>...</td>\n",
       "      <td>...</td>\n",
       "      <td>...</td>\n",
       "      <td>...</td>\n",
       "      <td>...</td>\n",
       "      <td>...</td>\n",
       "      <td>...</td>\n",
       "      <td>...</td>\n",
       "      <td>...</td>\n",
       "      <td>...</td>\n",
       "      <td>...</td>\n",
       "      <td>...</td>\n",
       "      <td>...</td>\n",
       "      <td>...</td>\n",
       "      <td>...</td>\n",
       "      <td>...</td>\n",
       "      <td>...</td>\n",
       "      <td>...</td>\n",
       "      <td>...</td>\n",
       "      <td>...</td>\n",
       "    </tr>\n",
       "    <tr>\n",
       "      <th>3211</th>\n",
       "      <td>1489</td>\n",
       "      <td>10.0</td>\n",
       "      <td>0.0</td>\n",
       "      <td>21.0</td>\n",
       "      <td>19559.44</td>\n",
       "      <td>35</td>\n",
       "      <td>0</td>\n",
       "      <td>Санкт-Петербург</td>\n",
       "      <td>Павел</td>\n",
       "      <td>Гончаров</td>\n",
       "      <td>...</td>\n",
       "      <td>smart</td>\n",
       "      <td>50</td>\n",
       "      <td>15360</td>\n",
       "      <td>500</td>\n",
       "      <td>550</td>\n",
       "      <td>200</td>\n",
       "      <td>3</td>\n",
       "      <td>3</td>\n",
       "      <td>smart</td>\n",
       "      <td>1550.0</td>\n",
       "    </tr>\n",
       "    <tr>\n",
       "      <th>3212</th>\n",
       "      <td>1489</td>\n",
       "      <td>11.0</td>\n",
       "      <td>0.0</td>\n",
       "      <td>20.0</td>\n",
       "      <td>17491.56</td>\n",
       "      <td>35</td>\n",
       "      <td>0</td>\n",
       "      <td>Санкт-Петербург</td>\n",
       "      <td>Павел</td>\n",
       "      <td>Гончаров</td>\n",
       "      <td>...</td>\n",
       "      <td>smart</td>\n",
       "      <td>50</td>\n",
       "      <td>15360</td>\n",
       "      <td>500</td>\n",
       "      <td>550</td>\n",
       "      <td>200</td>\n",
       "      <td>3</td>\n",
       "      <td>3</td>\n",
       "      <td>smart</td>\n",
       "      <td>1150.0</td>\n",
       "    </tr>\n",
       "    <tr>\n",
       "      <th>3213</th>\n",
       "      <td>1489</td>\n",
       "      <td>12.0</td>\n",
       "      <td>0.0</td>\n",
       "      <td>35.0</td>\n",
       "      <td>17322.51</td>\n",
       "      <td>35</td>\n",
       "      <td>0</td>\n",
       "      <td>Санкт-Петербург</td>\n",
       "      <td>Павел</td>\n",
       "      <td>Гончаров</td>\n",
       "      <td>...</td>\n",
       "      <td>smart</td>\n",
       "      <td>50</td>\n",
       "      <td>15360</td>\n",
       "      <td>500</td>\n",
       "      <td>550</td>\n",
       "      <td>200</td>\n",
       "      <td>3</td>\n",
       "      <td>3</td>\n",
       "      <td>smart</td>\n",
       "      <td>950.0</td>\n",
       "    </tr>\n",
       "    <tr>\n",
       "      <th>3214</th>\n",
       "      <td>1128</td>\n",
       "      <td>0.0</td>\n",
       "      <td>0.0</td>\n",
       "      <td>0.0</td>\n",
       "      <td>0.00</td>\n",
       "      <td>51</td>\n",
       "      <td>2018-12-23</td>\n",
       "      <td>Волжский</td>\n",
       "      <td>Ксения</td>\n",
       "      <td>Агаева</td>\n",
       "      <td>...</td>\n",
       "      <td>ultra</td>\n",
       "      <td>1000</td>\n",
       "      <td>30720</td>\n",
       "      <td>3000</td>\n",
       "      <td>1950</td>\n",
       "      <td>150</td>\n",
       "      <td>1</td>\n",
       "      <td>1</td>\n",
       "      <td>ultra</td>\n",
       "      <td>1950.0</td>\n",
       "    </tr>\n",
       "    <tr>\n",
       "      <th>3215</th>\n",
       "      <td>1371</td>\n",
       "      <td>0.0</td>\n",
       "      <td>0.0</td>\n",
       "      <td>0.0</td>\n",
       "      <td>0.00</td>\n",
       "      <td>50</td>\n",
       "      <td>2018-12-30</td>\n",
       "      <td>Омск</td>\n",
       "      <td>Ириней</td>\n",
       "      <td>Трофимов</td>\n",
       "      <td>...</td>\n",
       "      <td>smart</td>\n",
       "      <td>50</td>\n",
       "      <td>15360</td>\n",
       "      <td>500</td>\n",
       "      <td>550</td>\n",
       "      <td>200</td>\n",
       "      <td>3</td>\n",
       "      <td>3</td>\n",
       "      <td>smart</td>\n",
       "      <td>550.0</td>\n",
       "    </tr>\n",
       "  </tbody>\n",
       "</table>\n",
       "<p>3216 rows × 21 columns</p>\n",
       "</div>"
      ],
      "text/plain": [
       "      user_id  month  total_calls_duration  messages   mb_used  age  \\\n",
       "0        1000    5.0                 159.0      22.0   2253.49   52   \n",
       "1        1000    6.0                 172.0      60.0  23233.77   52   \n",
       "2        1000    7.0                 340.0      75.0  14003.64   52   \n",
       "3        1000    8.0                 408.0      81.0  14055.93   52   \n",
       "4        1000    9.0                 466.0      57.0  14568.91   52   \n",
       "...       ...    ...                   ...       ...       ...  ...   \n",
       "3211     1489   10.0                   0.0      21.0  19559.44   35   \n",
       "3212     1489   11.0                   0.0      20.0  17491.56   35   \n",
       "3213     1489   12.0                   0.0      35.0  17322.51   35   \n",
       "3214     1128    0.0                   0.0       0.0      0.00   51   \n",
       "3215     1371    0.0                   0.0       0.0      0.00   50   \n",
       "\n",
       "      churn_date             city first_name  last_name  ... tariff  \\\n",
       "0              0        Краснодар     Рафаил  Верещагин  ...  ultra   \n",
       "1              0        Краснодар     Рафаил  Верещагин  ...  ultra   \n",
       "2              0        Краснодар     Рафаил  Верещагин  ...  ultra   \n",
       "3              0        Краснодар     Рафаил  Верещагин  ...  ultra   \n",
       "4              0        Краснодар     Рафаил  Верещагин  ...  ultra   \n",
       "...          ...              ...        ...        ...  ...    ...   \n",
       "3211           0  Санкт-Петербург      Павел   Гончаров  ...  smart   \n",
       "3212           0  Санкт-Петербург      Павел   Гончаров  ...  smart   \n",
       "3213           0  Санкт-Петербург      Павел   Гончаров  ...  smart   \n",
       "3214  2018-12-23         Волжский     Ксения     Агаева  ...  ultra   \n",
       "3215  2018-12-30             Омск     Ириней   Трофимов  ...  smart   \n",
       "\n",
       "     messages_included  mb_per_month_included  minutes_included  \\\n",
       "0                 1000                  30720              3000   \n",
       "1                 1000                  30720              3000   \n",
       "2                 1000                  30720              3000   \n",
       "3                 1000                  30720              3000   \n",
       "4                 1000                  30720              3000   \n",
       "...                ...                    ...               ...   \n",
       "3211                50                  15360               500   \n",
       "3212                50                  15360               500   \n",
       "3213                50                  15360               500   \n",
       "3214              1000                  30720              3000   \n",
       "3215                50                  15360               500   \n",
       "\n",
       "      rub_monthly_fee  rub_per_gb  rub_per_message  rub_per_minute  \\\n",
       "0                1950         150                1               1   \n",
       "1                1950         150                1               1   \n",
       "2                1950         150                1               1   \n",
       "3                1950         150                1               1   \n",
       "4                1950         150                1               1   \n",
       "...               ...         ...              ...             ...   \n",
       "3211              550         200                3               3   \n",
       "3212              550         200                3               3   \n",
       "3213              550         200                3               3   \n",
       "3214             1950         150                1               1   \n",
       "3215              550         200                3               3   \n",
       "\n",
       "      tariff_name revenue  \n",
       "0           ultra  1950.0  \n",
       "1           ultra  1950.0  \n",
       "2           ultra  1950.0  \n",
       "3           ultra  1950.0  \n",
       "4           ultra  1950.0  \n",
       "...           ...     ...  \n",
       "3211        smart  1550.0  \n",
       "3212        smart  1150.0  \n",
       "3213        smart   950.0  \n",
       "3214        ultra  1950.0  \n",
       "3215        smart   550.0  \n",
       "\n",
       "[3216 rows x 21 columns]"
      ]
     },
     "execution_count": 26,
     "metadata": {},
     "output_type": "execute_result"
    }
   ],
   "source": [
    "#напишем функцию для подсчета помесячной выручки с каждого пользователя\n",
    "def get_revenue(row_values):\n",
    "    calls_over = (row_values['total_calls_duration'] - row_values['minutes_included']) * row_values['rub_per_minute']\n",
    "    messages_over = (row_values['messages'] - row_values['messages_included']) * row_values['rub_per_message']\n",
    "    gd_over = np.ceil((row_values['mb_used'] - row_values['mb_per_month_included'])/1024) * row_values['rub_per_gb']\n",
    "    \n",
    "    if calls_over < 0: calls_over = 0\n",
    "    if messages_over < 0: messages_over = 0\n",
    "    if gd_over < 0: gd_over = 0\n",
    "    \n",
    "    return row_values['rub_monthly_fee'] + calls_over +  messages_over + gd_over\n",
    "        \n",
    "#применим к выборке функцию get_revenue()\n",
    "df['revenue'] = df.apply(get_revenue, axis = 1)\n",
    "df"
   ]
  },
  {
   "cell_type": "markdown",
   "metadata": {},
   "source": [
    "## Шаг 3. Исследовательский анализ данных"
   ]
  },
  {
   "cell_type": "code",
   "execution_count": 27,
   "metadata": {},
   "outputs": [
    {
     "data": {
      "text/html": [
       "<style  type=\"text/css\" >\n",
       "</style><table id=\"T_5b42a_\" ><thead>    <tr>        <th class=\"blank level0\" ></th>        <th class=\"col_heading level0 col0\" colspan=\"3\">total_calls_duration</th>        <th class=\"col_heading level0 col3\" colspan=\"3\">messages</th>        <th class=\"col_heading level0 col6\" colspan=\"3\">mb_used</th>        <th class=\"col_heading level0 col9\" colspan=\"3\">revenue</th>    </tr>    <tr>        <th class=\"blank level1\" ></th>        <th class=\"col_heading level1 col0\" >mean</th>        <th class=\"col_heading level1 col1\" >var</th>        <th class=\"col_heading level1 col2\" >std</th>        <th class=\"col_heading level1 col3\" >mean</th>        <th class=\"col_heading level1 col4\" >var</th>        <th class=\"col_heading level1 col5\" >std</th>        <th class=\"col_heading level1 col6\" >mean</th>        <th class=\"col_heading level1 col7\" >var</th>        <th class=\"col_heading level1 col8\" >std</th>        <th class=\"col_heading level1 col9\" >mean</th>        <th class=\"col_heading level1 col10\" >var</th>        <th class=\"col_heading level1 col11\" >std</th>    </tr>    <tr>        <th class=\"index_name level0\" >tariff</th>        <th class=\"blank\" ></th>        <th class=\"blank\" ></th>        <th class=\"blank\" ></th>        <th class=\"blank\" ></th>        <th class=\"blank\" ></th>        <th class=\"blank\" ></th>        <th class=\"blank\" ></th>        <th class=\"blank\" ></th>        <th class=\"blank\" ></th>        <th class=\"blank\" ></th>        <th class=\"blank\" ></th>        <th class=\"blank\" ></th>    </tr></thead><tbody>\n",
       "                <tr>\n",
       "                        <th id=\"T_5b42a_level0_row0\" class=\"row_heading level0 row0\" >smart</th>\n",
       "                        <td id=\"T_5b42a_row0_col0\" class=\"data row0 col0\" >418</td>\n",
       "                        <td id=\"T_5b42a_row0_col1\" class=\"data row0 col1\" >36281</td>\n",
       "                        <td id=\"T_5b42a_row0_col2\" class=\"data row0 col2\" >190</td>\n",
       "                        <td id=\"T_5b42a_row0_col3\" class=\"data row0 col3\" >33</td>\n",
       "                        <td id=\"T_5b42a_row0_col4\" class=\"data row0 col4\" >797</td>\n",
       "                        <td id=\"T_5b42a_row0_col5\" class=\"data row0 col5\" >28</td>\n",
       "                        <td id=\"T_5b42a_row0_col6\" class=\"data row0 col6\" >16201</td>\n",
       "                        <td id=\"T_5b42a_row0_col7\" class=\"data row0 col7\" >34564843</td>\n",
       "                        <td id=\"T_5b42a_row0_col8\" class=\"data row0 col8\" >5879</td>\n",
       "                        <td id=\"T_5b42a_row0_col9\" class=\"data row0 col9\" >1290</td>\n",
       "                        <td id=\"T_5b42a_row0_col10\" class=\"data row0 col10\" >669731</td>\n",
       "                        <td id=\"T_5b42a_row0_col11\" class=\"data row0 col11\" >818</td>\n",
       "            </tr>\n",
       "            <tr>\n",
       "                        <th id=\"T_5b42a_level0_row1\" class=\"row_heading level0 row1\" >ultra</th>\n",
       "                        <td id=\"T_5b42a_row1_col0\" class=\"data row1 col0\" >526</td>\n",
       "                        <td id=\"T_5b42a_row1_col1\" class=\"data row1 col1\" >101052</td>\n",
       "                        <td id=\"T_5b42a_row1_col2\" class=\"data row1 col2\" >318</td>\n",
       "                        <td id=\"T_5b42a_row1_col3\" class=\"data row1 col3\" >49</td>\n",
       "                        <td id=\"T_5b42a_row1_col4\" class=\"data row1 col4\" >2285</td>\n",
       "                        <td id=\"T_5b42a_row1_col5\" class=\"data row1 col5\" >48</td>\n",
       "                        <td id=\"T_5b42a_row1_col6\" class=\"data row1 col6\" >19449</td>\n",
       "                        <td id=\"T_5b42a_row1_col7\" class=\"data row1 col7\" >102032129</td>\n",
       "                        <td id=\"T_5b42a_row1_col8\" class=\"data row1 col8\" >10101</td>\n",
       "                        <td id=\"T_5b42a_row1_col9\" class=\"data row1 col9\" >2070</td>\n",
       "                        <td id=\"T_5b42a_row1_col10\" class=\"data row1 col10\" >141388</td>\n",
       "                        <td id=\"T_5b42a_row1_col11\" class=\"data row1 col11\" >376</td>\n",
       "            </tr>\n",
       "    </tbody></table>"
      ],
      "text/plain": [
       "<pandas.io.formats.style.Styler at 0x7f207578ed60>"
      ]
     },
     "execution_count": 27,
     "metadata": {},
     "output_type": "execute_result"
    }
   ],
   "source": [
    "#найдем среднее количество, дисперсию и стандартное отклонение для минут разговора,сообщений и интернет-трафика тарифов ультра и смарт\n",
    "(df\n",
    " .groupby('tariff')\n",
    " .agg({'total_calls_duration':['mean','var','std'], 'messages':['mean','var','std'], 'mb_used':['mean','var','std'], 'revenue':['mean','var','std']})\n",
    " .style.format(\"{:.0f}\")\n",
    ")\n"
   ]
  },
  {
   "cell_type": "code",
   "execution_count": 28,
   "metadata": {},
   "outputs": [
    {
     "data": {
      "text/plain": [
       "36281.39383644458"
      ]
     },
     "execution_count": 28,
     "metadata": {},
     "output_type": "execute_result"
    }
   ],
   "source": [
    "#проверим корректность расчета дисперсии на примере расчета дисперсии для среднеего значения минут \n",
    "smart = df.loc[df['tariff']=='smart', 'total_calls_duration']\n",
    "variance_estimate = np.var(smart, ddof=1)\n",
    "variance_estimate"
   ]
  },
  {
   "cell_type": "code",
   "execution_count": 29,
   "metadata": {
    "scrolled": true
   },
   "outputs": [
    {
     "data": {
      "text/html": [
       "<div>\n",
       "<style scoped>\n",
       "    .dataframe tbody tr th:only-of-type {\n",
       "        vertical-align: middle;\n",
       "    }\n",
       "\n",
       "    .dataframe tbody tr th {\n",
       "        vertical-align: top;\n",
       "    }\n",
       "\n",
       "    .dataframe thead th {\n",
       "        text-align: right;\n",
       "    }\n",
       "</style>\n",
       "<table border=\"1\" class=\"dataframe\">\n",
       "  <thead>\n",
       "    <tr style=\"text-align: right;\">\n",
       "      <th></th>\n",
       "      <th>user_id</th>\n",
       "      <th>month</th>\n",
       "      <th>total_calls_duration</th>\n",
       "      <th>messages</th>\n",
       "      <th>mb_used</th>\n",
       "      <th>age</th>\n",
       "      <th>messages_included</th>\n",
       "      <th>mb_per_month_included</th>\n",
       "      <th>minutes_included</th>\n",
       "      <th>rub_monthly_fee</th>\n",
       "      <th>rub_per_gb</th>\n",
       "      <th>rub_per_message</th>\n",
       "      <th>rub_per_minute</th>\n",
       "      <th>revenue</th>\n",
       "    </tr>\n",
       "  </thead>\n",
       "  <tbody>\n",
       "    <tr>\n",
       "      <th>count</th>\n",
       "      <td>2230.000000</td>\n",
       "      <td>2230.000000</td>\n",
       "      <td>2230.000000</td>\n",
       "      <td>2230.000000</td>\n",
       "      <td>2230.000000</td>\n",
       "      <td>2230.000000</td>\n",
       "      <td>2230.0</td>\n",
       "      <td>2230.0</td>\n",
       "      <td>2230.0</td>\n",
       "      <td>2230.0</td>\n",
       "      <td>2230.0</td>\n",
       "      <td>2230.0</td>\n",
       "      <td>2230.0</td>\n",
       "      <td>2230.000000</td>\n",
       "    </tr>\n",
       "    <tr>\n",
       "      <th>mean</th>\n",
       "      <td>1246.562332</td>\n",
       "      <td>8.343049</td>\n",
       "      <td>417.747534</td>\n",
       "      <td>33.369058</td>\n",
       "      <td>16201.118655</td>\n",
       "      <td>46.557848</td>\n",
       "      <td>50.0</td>\n",
       "      <td>15360.0</td>\n",
       "      <td>500.0</td>\n",
       "      <td>550.0</td>\n",
       "      <td>200.0</td>\n",
       "      <td>3.0</td>\n",
       "      <td>3.0</td>\n",
       "      <td>1289.641704</td>\n",
       "    </tr>\n",
       "    <tr>\n",
       "      <th>std</th>\n",
       "      <td>146.110501</td>\n",
       "      <td>2.925006</td>\n",
       "      <td>190.476754</td>\n",
       "      <td>28.230396</td>\n",
       "      <td>5879.187315</td>\n",
       "      <td>16.349865</td>\n",
       "      <td>0.0</td>\n",
       "      <td>0.0</td>\n",
       "      <td>0.0</td>\n",
       "      <td>0.0</td>\n",
       "      <td>0.0</td>\n",
       "      <td>0.0</td>\n",
       "      <td>0.0</td>\n",
       "      <td>818.370799</td>\n",
       "    </tr>\n",
       "    <tr>\n",
       "      <th>min</th>\n",
       "      <td>1001.000000</td>\n",
       "      <td>0.000000</td>\n",
       "      <td>0.000000</td>\n",
       "      <td>0.000000</td>\n",
       "      <td>0.000000</td>\n",
       "      <td>18.000000</td>\n",
       "      <td>50.0</td>\n",
       "      <td>15360.0</td>\n",
       "      <td>500.0</td>\n",
       "      <td>550.0</td>\n",
       "      <td>200.0</td>\n",
       "      <td>3.0</td>\n",
       "      <td>3.0</td>\n",
       "      <td>550.000000</td>\n",
       "    </tr>\n",
       "    <tr>\n",
       "      <th>25%</th>\n",
       "      <td>1121.000000</td>\n",
       "      <td>6.000000</td>\n",
       "      <td>282.000000</td>\n",
       "      <td>10.000000</td>\n",
       "      <td>12630.035000</td>\n",
       "      <td>32.000000</td>\n",
       "      <td>50.0</td>\n",
       "      <td>15360.0</td>\n",
       "      <td>500.0</td>\n",
       "      <td>550.0</td>\n",
       "      <td>200.0</td>\n",
       "      <td>3.0</td>\n",
       "      <td>3.0</td>\n",
       "      <td>550.000000</td>\n",
       "    </tr>\n",
       "    <tr>\n",
       "      <th>50%</th>\n",
       "      <td>1240.000000</td>\n",
       "      <td>9.000000</td>\n",
       "      <td>421.500000</td>\n",
       "      <td>28.000000</td>\n",
       "      <td>16505.475000</td>\n",
       "      <td>47.000000</td>\n",
       "      <td>50.0</td>\n",
       "      <td>15360.0</td>\n",
       "      <td>500.0</td>\n",
       "      <td>550.0</td>\n",
       "      <td>200.0</td>\n",
       "      <td>3.0</td>\n",
       "      <td>3.0</td>\n",
       "      <td>1021.000000</td>\n",
       "    </tr>\n",
       "    <tr>\n",
       "      <th>75%</th>\n",
       "      <td>1376.000000</td>\n",
       "      <td>11.000000</td>\n",
       "      <td>545.000000</td>\n",
       "      <td>51.000000</td>\n",
       "      <td>20042.107500</td>\n",
       "      <td>62.000000</td>\n",
       "      <td>50.0</td>\n",
       "      <td>15360.0</td>\n",
       "      <td>500.0</td>\n",
       "      <td>550.0</td>\n",
       "      <td>200.0</td>\n",
       "      <td>3.0</td>\n",
       "      <td>3.0</td>\n",
       "      <td>1750.000000</td>\n",
       "    </tr>\n",
       "    <tr>\n",
       "      <th>max</th>\n",
       "      <td>1499.000000</td>\n",
       "      <td>12.000000</td>\n",
       "      <td>1435.000000</td>\n",
       "      <td>143.000000</td>\n",
       "      <td>38552.450000</td>\n",
       "      <td>75.000000</td>\n",
       "      <td>50.0</td>\n",
       "      <td>15360.0</td>\n",
       "      <td>500.0</td>\n",
       "      <td>550.0</td>\n",
       "      <td>200.0</td>\n",
       "      <td>3.0</td>\n",
       "      <td>3.0</td>\n",
       "      <td>6770.000000</td>\n",
       "    </tr>\n",
       "  </tbody>\n",
       "</table>\n",
       "</div>"
      ],
      "text/plain": [
       "           user_id        month  total_calls_duration     messages  \\\n",
       "count  2230.000000  2230.000000           2230.000000  2230.000000   \n",
       "mean   1246.562332     8.343049            417.747534    33.369058   \n",
       "std     146.110501     2.925006            190.476754    28.230396   \n",
       "min    1001.000000     0.000000              0.000000     0.000000   \n",
       "25%    1121.000000     6.000000            282.000000    10.000000   \n",
       "50%    1240.000000     9.000000            421.500000    28.000000   \n",
       "75%    1376.000000    11.000000            545.000000    51.000000   \n",
       "max    1499.000000    12.000000           1435.000000   143.000000   \n",
       "\n",
       "            mb_used          age  messages_included  mb_per_month_included  \\\n",
       "count   2230.000000  2230.000000             2230.0                 2230.0   \n",
       "mean   16201.118655    46.557848               50.0                15360.0   \n",
       "std     5879.187315    16.349865                0.0                    0.0   \n",
       "min        0.000000    18.000000               50.0                15360.0   \n",
       "25%    12630.035000    32.000000               50.0                15360.0   \n",
       "50%    16505.475000    47.000000               50.0                15360.0   \n",
       "75%    20042.107500    62.000000               50.0                15360.0   \n",
       "max    38552.450000    75.000000               50.0                15360.0   \n",
       "\n",
       "       minutes_included  rub_monthly_fee  rub_per_gb  rub_per_message  \\\n",
       "count            2230.0           2230.0      2230.0           2230.0   \n",
       "mean              500.0            550.0       200.0              3.0   \n",
       "std                 0.0              0.0         0.0              0.0   \n",
       "min               500.0            550.0       200.0              3.0   \n",
       "25%               500.0            550.0       200.0              3.0   \n",
       "50%               500.0            550.0       200.0              3.0   \n",
       "75%               500.0            550.0       200.0              3.0   \n",
       "max               500.0            550.0       200.0              3.0   \n",
       "\n",
       "       rub_per_minute      revenue  \n",
       "count          2230.0  2230.000000  \n",
       "mean              3.0  1289.641704  \n",
       "std               0.0   818.370799  \n",
       "min               3.0   550.000000  \n",
       "25%               3.0   550.000000  \n",
       "50%               3.0  1021.000000  \n",
       "75%               3.0  1750.000000  \n",
       "max               3.0  6770.000000  "
      ]
     },
     "execution_count": 29,
     "metadata": {},
     "output_type": "execute_result"
    }
   ],
   "source": [
    "#посмотрим также на минимальные и максимальные значения, квартили\n",
    "df_smart = df.query('tariff == \"smart\"')\n",
    "df_smart.describe()"
   ]
  },
  {
   "cell_type": "code",
   "execution_count": 30,
   "metadata": {
    "scrolled": true
   },
   "outputs": [
    {
     "data": {
      "text/html": [
       "<div>\n",
       "<style scoped>\n",
       "    .dataframe tbody tr th:only-of-type {\n",
       "        vertical-align: middle;\n",
       "    }\n",
       "\n",
       "    .dataframe tbody tr th {\n",
       "        vertical-align: top;\n",
       "    }\n",
       "\n",
       "    .dataframe thead th {\n",
       "        text-align: right;\n",
       "    }\n",
       "</style>\n",
       "<table border=\"1\" class=\"dataframe\">\n",
       "  <thead>\n",
       "    <tr style=\"text-align: right;\">\n",
       "      <th></th>\n",
       "      <th>user_id</th>\n",
       "      <th>month</th>\n",
       "      <th>total_calls_duration</th>\n",
       "      <th>messages</th>\n",
       "      <th>mb_used</th>\n",
       "      <th>age</th>\n",
       "      <th>messages_included</th>\n",
       "      <th>mb_per_month_included</th>\n",
       "      <th>minutes_included</th>\n",
       "      <th>rub_monthly_fee</th>\n",
       "      <th>rub_per_gb</th>\n",
       "      <th>rub_per_message</th>\n",
       "      <th>rub_per_minute</th>\n",
       "      <th>revenue</th>\n",
       "    </tr>\n",
       "  </thead>\n",
       "  <tbody>\n",
       "    <tr>\n",
       "      <th>count</th>\n",
       "      <td>986.000000</td>\n",
       "      <td>986.000000</td>\n",
       "      <td>986.000000</td>\n",
       "      <td>986.000000</td>\n",
       "      <td>986.000000</td>\n",
       "      <td>986.000000</td>\n",
       "      <td>986.0</td>\n",
       "      <td>986.0</td>\n",
       "      <td>986.0</td>\n",
       "      <td>986.0</td>\n",
       "      <td>986.0</td>\n",
       "      <td>986.0</td>\n",
       "      <td>986.0</td>\n",
       "      <td>986.000000</td>\n",
       "    </tr>\n",
       "    <tr>\n",
       "      <th>mean</th>\n",
       "      <td>1262.957404</td>\n",
       "      <td>8.242394</td>\n",
       "      <td>526.089249</td>\n",
       "      <td>49.313387</td>\n",
       "      <td>19449.059970</td>\n",
       "      <td>46.838742</td>\n",
       "      <td>1000.0</td>\n",
       "      <td>30720.0</td>\n",
       "      <td>3000.0</td>\n",
       "      <td>1950.0</td>\n",
       "      <td>150.0</td>\n",
       "      <td>1.0</td>\n",
       "      <td>1.0</td>\n",
       "      <td>2070.030426</td>\n",
       "    </tr>\n",
       "    <tr>\n",
       "      <th>std</th>\n",
       "      <td>140.689268</td>\n",
       "      <td>2.882305</td>\n",
       "      <td>317.887549</td>\n",
       "      <td>47.806040</td>\n",
       "      <td>10101.095459</td>\n",
       "      <td>17.099807</td>\n",
       "      <td>0.0</td>\n",
       "      <td>0.0</td>\n",
       "      <td>0.0</td>\n",
       "      <td>0.0</td>\n",
       "      <td>0.0</td>\n",
       "      <td>0.0</td>\n",
       "      <td>0.0</td>\n",
       "      <td>376.015578</td>\n",
       "    </tr>\n",
       "    <tr>\n",
       "      <th>min</th>\n",
       "      <td>1000.000000</td>\n",
       "      <td>0.000000</td>\n",
       "      <td>0.000000</td>\n",
       "      <td>0.000000</td>\n",
       "      <td>0.000000</td>\n",
       "      <td>18.000000</td>\n",
       "      <td>1000.0</td>\n",
       "      <td>30720.0</td>\n",
       "      <td>3000.0</td>\n",
       "      <td>1950.0</td>\n",
       "      <td>150.0</td>\n",
       "      <td>1.0</td>\n",
       "      <td>1.0</td>\n",
       "      <td>1950.000000</td>\n",
       "    </tr>\n",
       "    <tr>\n",
       "      <th>25%</th>\n",
       "      <td>1143.000000</td>\n",
       "      <td>6.000000</td>\n",
       "      <td>282.500000</td>\n",
       "      <td>6.000000</td>\n",
       "      <td>11748.585000</td>\n",
       "      <td>30.000000</td>\n",
       "      <td>1000.0</td>\n",
       "      <td>30720.0</td>\n",
       "      <td>3000.0</td>\n",
       "      <td>1950.0</td>\n",
       "      <td>150.0</td>\n",
       "      <td>1.0</td>\n",
       "      <td>1.0</td>\n",
       "      <td>1950.000000</td>\n",
       "    </tr>\n",
       "    <tr>\n",
       "      <th>50%</th>\n",
       "      <td>1277.000000</td>\n",
       "      <td>9.000000</td>\n",
       "      <td>518.000000</td>\n",
       "      <td>38.000000</td>\n",
       "      <td>19304.020000</td>\n",
       "      <td>45.000000</td>\n",
       "      <td>1000.0</td>\n",
       "      <td>30720.0</td>\n",
       "      <td>3000.0</td>\n",
       "      <td>1950.0</td>\n",
       "      <td>150.0</td>\n",
       "      <td>1.0</td>\n",
       "      <td>1.0</td>\n",
       "      <td>1950.000000</td>\n",
       "    </tr>\n",
       "    <tr>\n",
       "      <th>75%</th>\n",
       "      <td>1381.000000</td>\n",
       "      <td>11.000000</td>\n",
       "      <td>751.750000</td>\n",
       "      <td>78.750000</td>\n",
       "      <td>26835.885000</td>\n",
       "      <td>63.000000</td>\n",
       "      <td>1000.0</td>\n",
       "      <td>30720.0</td>\n",
       "      <td>3000.0</td>\n",
       "      <td>1950.0</td>\n",
       "      <td>150.0</td>\n",
       "      <td>1.0</td>\n",
       "      <td>1.0</td>\n",
       "      <td>1950.000000</td>\n",
       "    </tr>\n",
       "    <tr>\n",
       "      <th>max</th>\n",
       "      <td>1495.000000</td>\n",
       "      <td>12.000000</td>\n",
       "      <td>1673.000000</td>\n",
       "      <td>224.000000</td>\n",
       "      <td>49745.690000</td>\n",
       "      <td>75.000000</td>\n",
       "      <td>1000.0</td>\n",
       "      <td>30720.0</td>\n",
       "      <td>3000.0</td>\n",
       "      <td>1950.0</td>\n",
       "      <td>150.0</td>\n",
       "      <td>1.0</td>\n",
       "      <td>1.0</td>\n",
       "      <td>4800.000000</td>\n",
       "    </tr>\n",
       "  </tbody>\n",
       "</table>\n",
       "</div>"
      ],
      "text/plain": [
       "           user_id       month  total_calls_duration    messages  \\\n",
       "count   986.000000  986.000000            986.000000  986.000000   \n",
       "mean   1262.957404    8.242394            526.089249   49.313387   \n",
       "std     140.689268    2.882305            317.887549   47.806040   \n",
       "min    1000.000000    0.000000              0.000000    0.000000   \n",
       "25%    1143.000000    6.000000            282.500000    6.000000   \n",
       "50%    1277.000000    9.000000            518.000000   38.000000   \n",
       "75%    1381.000000   11.000000            751.750000   78.750000   \n",
       "max    1495.000000   12.000000           1673.000000  224.000000   \n",
       "\n",
       "            mb_used         age  messages_included  mb_per_month_included  \\\n",
       "count    986.000000  986.000000              986.0                  986.0   \n",
       "mean   19449.059970   46.838742             1000.0                30720.0   \n",
       "std    10101.095459   17.099807                0.0                    0.0   \n",
       "min        0.000000   18.000000             1000.0                30720.0   \n",
       "25%    11748.585000   30.000000             1000.0                30720.0   \n",
       "50%    19304.020000   45.000000             1000.0                30720.0   \n",
       "75%    26835.885000   63.000000             1000.0                30720.0   \n",
       "max    49745.690000   75.000000             1000.0                30720.0   \n",
       "\n",
       "       minutes_included  rub_monthly_fee  rub_per_gb  rub_per_message  \\\n",
       "count             986.0            986.0       986.0            986.0   \n",
       "mean             3000.0           1950.0       150.0              1.0   \n",
       "std                 0.0              0.0         0.0              0.0   \n",
       "min              3000.0           1950.0       150.0              1.0   \n",
       "25%              3000.0           1950.0       150.0              1.0   \n",
       "50%              3000.0           1950.0       150.0              1.0   \n",
       "75%              3000.0           1950.0       150.0              1.0   \n",
       "max              3000.0           1950.0       150.0              1.0   \n",
       "\n",
       "       rub_per_minute      revenue  \n",
       "count           986.0   986.000000  \n",
       "mean              1.0  2070.030426  \n",
       "std               0.0   376.015578  \n",
       "min               1.0  1950.000000  \n",
       "25%               1.0  1950.000000  \n",
       "50%               1.0  1950.000000  \n",
       "75%               1.0  1950.000000  \n",
       "max               1.0  4800.000000  "
      ]
     },
     "execution_count": 30,
     "metadata": {},
     "output_type": "execute_result"
    }
   ],
   "source": [
    "df_ultra = df.query('tariff == \"ultra\"')\n",
    "df_ultra.describe()"
   ]
  },
  {
   "cell_type": "code",
   "execution_count": 31,
   "metadata": {
    "scrolled": true
   },
   "outputs": [
    {
     "data": {
      "text/plain": [
       "<seaborn.axisgrid.FacetGrid at 0x7f20762a6e20>"
      ]
     },
     "execution_count": 31,
     "metadata": {},
     "output_type": "execute_result"
    },
    {
     "data": {
      "image/png": "[encoded data removed]",
      "text/plain": [
       "<Figure size 425x360 with 1 Axes>"
      ]
     },
     "metadata": {
      "needs_background": "light"
     },
     "output_type": "display_data"
    }
   ],
   "source": [
    "#построим гистограммы для оценки распределения значений \n",
    "sns.displot(x='total_calls_duration',\n",
    "            hue='tariff',\n",
    "            kde=True,\n",
    "            fill=True,\n",
    "            data=df)"
   ]
  },
  {
   "cell_type": "markdown",
   "metadata": {},
   "source": [
    "Гистограммы имеют относительно симметричную форму. Похожи на нормальное распределение, с пиком в центре. Однако имеют усечение слева. Согласно графику средние значения количества минут разговора у пользователей двух тарифов совпадают и равны примерно 500. "
   ]
  },
  {
   "cell_type": "code",
   "execution_count": 32,
   "metadata": {},
   "outputs": [
    {
     "data": {
      "text/plain": [
       "<seaborn.axisgrid.FacetGrid at 0x7f207578e5b0>"
      ]
     },
     "execution_count": 32,
     "metadata": {},
     "output_type": "execute_result"
    },
    {
     "data": {
      "image/png": "[encoded data removed]",
      "text/plain": [
       "<Figure size 425x360 with 1 Axes>"
      ]
     },
     "metadata": {
      "needs_background": "light"
     },
     "output_type": "display_data"
    }
   ],
   "source": [
    "sns.displot(x='messages',\n",
    "            hue='tariff',\n",
    "            kde=True,\n",
    "            fill=True,\n",
    "            data=df)"
   ]
  },
  {
   "cell_type": "markdown",
   "metadata": {},
   "source": [
    "Гистограммы больше похожи на усеченные с пиком в районе 0-5. "
   ]
  },
  {
   "cell_type": "code",
   "execution_count": 33,
   "metadata": {},
   "outputs": [
    {
     "data": {
      "text/plain": [
       "<seaborn.axisgrid.FacetGrid at 0x7f2074448670>"
      ]
     },
     "execution_count": 33,
     "metadata": {},
     "output_type": "execute_result"
    },
    {
     "data": {
      "image/png": "[encoded data removed]",
      "text/plain": [
       "<Figure size 425x360 with 1 Axes>"
      ]
     },
     "metadata": {
      "needs_background": "light"
     },
     "output_type": "display_data"
    }
   ],
   "source": [
    "sns.displot(x='mb_used',\n",
    "            hue='tariff',\n",
    "            kde=True,\n",
    "            fill=True,\n",
    "            data=df)"
   ]
  },
  {
   "cell_type": "markdown",
   "metadata": {},
   "source": [
    "Гистограммы имеют вид нормального распределения. Для тарифа \"смарт\" пик приходится 15-16 гб, для тарифа \"ультра\" в районе 20. Обе гистограммы ииеют усечение слева. "
   ]
  },
  {
   "cell_type": "markdown",
   "metadata": {},
   "source": [
    "### Вывод\n",
    "\n",
    "Согласно полученным данным пользователи тарифа \"смарт\" в среднем в месяц тратят на разговоры 418 минут, 33 sms  и 15,8 гб интернет-трафика. При этом половина выборки укладывается в тарифный пакет по минутам и сообщениям, и только четверть пользователей из выборки укладываются в лимит по интернет-трафику. \n",
    "\n",
    "Пользователи тарифного плана \"ультра\" в среднем в месяц тратят на разговоры 526 минут, 49 sms  и 20 гб интернет-трафика. Все пользовалители укладываются в отведеный лимит по минутам и сообщениям, а четверть пользователей расходует интернет-трафик сверх лимита. \n",
    "\n",
    "Таким образом, чаще дополнительно приобретают пакеты минут, смс и интернет-трафика пользователи тарифа \"смарт\". "
   ]
  },
  {
   "cell_type": "markdown",
   "metadata": {},
   "source": [
    "## Шаг 4. Статистический анализ данных"
   ]
  },
  {
   "cell_type": "markdown",
   "metadata": {},
   "source": [
    "### Средняя выручка пользователей тарифов «Ультра» и «Смарт» различаются\n",
    "Сформулируем нулевую и альтернативную гипотезу:\n",
    "\n",
    "-H0: Средняя выручка пользователей тарифов «Ультра» и «Смарт» равна;\n",
    "\n",
    "-Н1: Средняя выручка пользователей тарифов «Ультра» и «Смарт» не равна\n",
    "\n",
    "Поскольку выборки независимые воспользуемся методом st.ttest_ind()"
   ]
  },
  {
   "cell_type": "code",
   "execution_count": 34,
   "metadata": {},
   "outputs": [
    {
     "name": "stdout",
     "output_type": "stream",
     "text": [
      "Размер выборки revenue_smart: 986\n",
      "Размер выборки revenue_ultra: 2230\n"
     ]
    }
   ],
   "source": [
    "#подготовим массивы и узнаем их размер\n",
    "revenue_smart = df.loc[df['tariff']=='smart', 'revenue']\n",
    "revenue_ultra = df.loc[df['tariff']=='ultra', 'revenue']\n",
    "print('Размер выборки revenue_smart:', len(revenue_ultra))\n",
    "print('Размер выборки revenue_ultra:', len(revenue_smart))"
   ]
  },
  {
   "cell_type": "code",
   "execution_count": 35,
   "metadata": {},
   "outputs": [
    {
     "data": {
      "text/plain": [
       "<seaborn.axisgrid.FacetGrid at 0x7f2069479790>"
      ]
     },
     "execution_count": 35,
     "metadata": {},
     "output_type": "execute_result"
    },
    {
     "data": {
      "image/png": "[encoded data removed]",
      "text/plain": [
       "<Figure size 360x360 with 1 Axes>"
      ]
     },
     "metadata": {
      "needs_background": "light"
     },
     "output_type": "display_data"
    },
    {
     "data": {
      "image/png": "[encoded data removed]",
      "text/plain": [
       "<Figure size 360x360 with 1 Axes>"
      ]
     },
     "metadata": {
      "needs_background": "light"
     },
     "output_type": "display_data"
    }
   ],
   "source": [
    "#оценим характер распределения среднего выборки\n",
    "sns.displot(x=revenue_smart,\n",
    "            kde=True,\n",
    "            bins=15,\n",
    "            fill=True)\n",
    "\n",
    "sns.displot(x=revenue_ultra,\n",
    "            kde=True,\n",
    "            bins=20,\n",
    "            fill=True)"
   ]
  },
  {
   "cell_type": "markdown",
   "metadata": {},
   "source": [
    "На графиках отображены усеченные распределения. Пик в графиках приходится на значения 600-700 и около 2000, далее следует резкий обрыв вправо."
   ]
  },
  {
   "cell_type": "code",
   "execution_count": 36,
   "metadata": {
    "scrolled": true
   },
   "outputs": [
    {
     "name": "stdout",
     "output_type": "stream",
     "text": [
      "p-значение: 1.927011394420941e-250\n",
      "Отвергаем нулевую гипотезу\n"
     ]
    }
   ],
   "source": [
    "#проверим гипотезы\n",
    "alpha = .05 \n",
    "\n",
    "results = st.ttest_ind(\n",
    "    revenue_smart, \n",
    "    revenue_ultra,\n",
    "    equal_var = False  # массивы отличаются размером \n",
    ")\n",
    "\n",
    "print('p-значение:', results.pvalue)\n",
    "\n",
    "if results.pvalue < alpha:\n",
    "    print(\"Отвергаем нулевую гипотезу\")\n",
    "else:\n",
    "    print(\"Не получилось отвергнуть нулевую гипотезу\") "
   ]
  },
  {
   "cell_type": "markdown",
   "metadata": {},
   "source": [
    "### Вывод\n",
    "Полученное значение p-value говорит о том, что вероятность получить такое различие между средними выручками случайно ниже заданного критерия значимости, поэтому следует, что разница между  средними выручками пользователей таифов смарт и ультра значительная, чтобы принять нулевую гипотезу."
   ]
  },
  {
   "cell_type": "markdown",
   "metadata": {},
   "source": [
    "### Средняя выручка пользователей из Москвы отличается от выручки пользователей из других регионов\n",
    "Сформулируем нулевую и альтернативную гипотезу:\n",
    "\n",
    "-H0: Средняя выручка пользователей из Москвы и пользователей из других регионов равна;\n",
    "\n",
    "-Н1:  Средняя выручка пользователей из Москвы и пользователей из других регионов не равна.\n",
    "\n",
    "Поскольку выборки независимые воспользуемся методом st.ttest_ind()"
   ]
  },
  {
   "cell_type": "code",
   "execution_count": 37,
   "metadata": {},
   "outputs": [
    {
     "name": "stdout",
     "output_type": "stream",
     "text": [
      "Размер выборки revenue_msk: 611\n",
      "Размер выборки revenue_region: 2605\n"
     ]
    }
   ],
   "source": [
    "#подготовим массивы и узнаем их размер\n",
    "revenue_msk = df.loc[df['city']== 'Москва', 'revenue']\n",
    "revenue_region = df.loc[df['city']!= 'Москва', 'revenue']\n",
    "print('Размер выборки revenue_msk:',len(revenue_msk))\n",
    "print('Размер выборки revenue_region:', len(revenue_region))"
   ]
  },
  {
   "cell_type": "code",
   "execution_count": 38,
   "metadata": {
    "scrolled": true
   },
   "outputs": [
    {
     "data": {
      "text/plain": [
       "<seaborn.axisgrid.FacetGrid at 0x7f20696867f0>"
      ]
     },
     "execution_count": 38,
     "metadata": {},
     "output_type": "execute_result"
    },
    {
     "data": {
      "image/png": "[encoded data removed]",
      "text/plain": [
       "<Figure size 360x360 with 1 Axes>"
      ]
     },
     "metadata": {
      "needs_background": "light"
     },
     "output_type": "display_data"
    },
    {
     "data": {
      "image/png": "[encoded data removed]",
      "text/plain": [
       "<Figure size 360x360 with 1 Axes>"
      ]
     },
     "metadata": {
      "needs_background": "light"
     },
     "output_type": "display_data"
    }
   ],
   "source": [
    "#оценим характер распределения среднего выборки\n",
    "sns.displot(x=revenue_msk,\n",
    "            kde=True,\n",
    "            fill=True)\n",
    "sns.displot(x=revenue_region,\n",
    "            kde=True,\n",
    "            fill=True)"
   ]
  },
  {
   "cell_type": "markdown",
   "metadata": {},
   "source": [
    "Гистограммы не соответствуют нормальному распределению значений среднего. На двух графиках фиксируется два пика в районе 600-700 и 2000, что в принципе ожидаемо, так как в выборку попали два разных тарифных плана с установленной  стоимостью. "
   ]
  },
  {
   "cell_type": "code",
   "execution_count": 39,
   "metadata": {},
   "outputs": [
    {
     "name": "stdout",
     "output_type": "stream",
     "text": [
      "p-значение: 0.5216952110000279\n",
      "Не получилось отвергнуть нулевую гипотезу\n"
     ]
    }
   ],
   "source": [
    "#проверим гипотезы\n",
    "alpha = .05 \n",
    "\n",
    "results = st.ttest_ind(\n",
    "    revenue_msk, \n",
    "    revenue_region,\n",
    "    equal_var = False  # массивы отличаются размером \n",
    ")\n",
    "\n",
    "print('p-значение:', results.pvalue)\n",
    "\n",
    "if results.pvalue < alpha:\n",
    "    print(\"Отвергаем нулевую гипотезу\")\n",
    "else:\n",
    "    print(\"Не получилось отвергнуть нулевую гипотезу\") "
   ]
  },
  {
   "cell_type": "markdown",
   "metadata": {},
   "source": [
    "### Вывод\n",
    "Полученное значение p-value говорит о том, что вероятность получить такое различие между средними выручками или больше случайно равна 46 %.  Данная вероятность не позволяет сделать вывод о значимом различии между средними выручками пользователей Москвы и регионов. "
   ]
  },
  {
   "cell_type": "markdown",
   "metadata": {},
   "source": [
    "## Шаг 5. Общий вывод\n"
   ]
  },
  {
   "cell_type": "markdown",
   "metadata": {},
   "source": [
    "В ходе исследования была проведена следующая работа.\n",
    "\n",
    "На этапе преобработки данных в таблицах со звонками, сообщениями, интренет-трафиком пользователей значения в столбцах с датой были приведены к типу datetime, также в целях недопущения искажения результатов исследования была осуществлена проверка данных на наличие ошибок.\n",
    "\n",
    "На этапе исследовательского анализа было описано поведение клиентов телеком-компании. Так, например, было установлено, что пользователи тарифа \"смарт\" в среднем в месяц тратят на разговоры 418 минут, 33 sms  и 15,8 гб интернет-трафика, при этом половина выборки укладывается в тарифный пакет по минутам и сообщениям, и только четверть пользователей из выборки укладываются в лимит по интернет-трафику. Пользователи тарифного плана \"ультра\" в среднем в месяц тратят на разговоры 526 минут, 49 sms  и 20 гб интернет-трафика. Все пользовалители тарифного плана \"ультра\" укладываются в отведенный лимит по минутам и сообщениям, и всего лишь четверть пользователей расходует интернет-трафик сверх лимита. На основании полученных данных, можно сделать вывод, что чаще дополнительно приобретают пакеты минут, смс и интернет-трафика пользователи тарифа \"смарт\".\n",
    "\n",
    "На этапе проверки гипотез о равенстве среднего двух генеральных совокупностей по взятым из них выборкам (выборки: выручка пользователей тарифа \"смарт\" и \"ультра\"; выручка пользователей Москвы и регионов) было установлено, что средняя выручка пользователей тарифов смарт и ультра различается, а средняя выручка пользователей Москвы равна средней выручке пользователям в других регионах.\n",
    "\n",
    "В качестве критерия был применен t-тест, выбор которого был обусловлен следующими причинами:\n",
    "- во-первых, для данного критерия отсутствие нормального респределения среднего не является препятствием для проверки гипотез;\n",
    "- во-вторых, t-тест позволяет осуществить проверку при неравном значении дисперсии. \n",
    "\n",
    "Стоит отметить, что несмотря на то, что в среднем выручка от одного пользователя тарифного плана \"ультра\" выше,чем от пользователя тарифного плана \"смарт\", пользователи именно этого тарифа приносят компании больше выручки, поскольку чаще не укладываются в бесплатный лимит и вынуждены дополнительно приобретать пакеты минут, смс и интернет-трафика. Также привлечь новых абонентов с тарифом \"смарт\" проще, так как стоимость абонетской платы ниже.\n",
    "Таким образом, наиболее привлекательным, с точки зрения окупаемости рекламной кампании, является тарифный план \"смарт\". "
   ]
  },
  {
   "cell_type": "code",
   "execution_count": null,
   "metadata": {},
   "outputs": [],
   "source": []
  }
 ],
 "metadata": {
  "ExecuteTimeLog": [
   {
    "duration": 50,
    "start_time": "2022-04-01T09:42:30.431Z"
   },
   {
    "duration": 1281,
    "start_time": "2022-04-01T09:42:57.979Z"
   },
   {
    "duration": 171,
    "start_time": "2022-04-01T09:42:59.262Z"
   },
   {
    "duration": 20,
    "start_time": "2022-04-01T09:43:05.963Z"
   },
   {
    "duration": 160,
    "start_time": "2022-04-01T09:43:27.472Z"
   },
   {
    "duration": 24,
    "start_time": "2022-04-01T09:44:29.355Z"
   },
   {
    "duration": 12,
    "start_time": "2022-04-01T09:46:01.603Z"
   },
   {
    "duration": 166,
    "start_time": "2022-04-01T09:48:14.775Z"
   },
   {
    "duration": 25,
    "start_time": "2022-04-01T09:48:31.302Z"
   },
   {
    "duration": 83,
    "start_time": "2022-04-01T09:50:46.335Z"
   },
   {
    "duration": 98,
    "start_time": "2022-04-01T09:51:00.573Z"
   },
   {
    "duration": 134,
    "start_time": "2022-04-01T09:52:15.836Z"
   },
   {
    "duration": 22,
    "start_time": "2022-04-01T09:53:11.017Z"
   },
   {
    "duration": 15,
    "start_time": "2022-04-01T09:54:15.010Z"
   },
   {
    "duration": 16,
    "start_time": "2022-04-01T09:54:53.730Z"
   },
   {
    "duration": 10,
    "start_time": "2022-04-01T10:06:07.032Z"
   },
   {
    "duration": 6,
    "start_time": "2022-04-01T11:36:04.739Z"
   },
   {
    "duration": 33,
    "start_time": "2022-04-01T11:48:28.489Z"
   },
   {
    "duration": 71,
    "start_time": "2022-04-03T07:55:30.140Z"
   },
   {
    "duration": 1373,
    "start_time": "2022-04-03T07:55:37.938Z"
   },
   {
    "duration": 88,
    "start_time": "2022-04-03T07:55:39.314Z"
   },
   {
    "duration": 17,
    "start_time": "2022-04-03T07:55:39.404Z"
   },
   {
    "duration": 207,
    "start_time": "2022-04-03T07:55:39.423Z"
   },
   {
    "duration": 44,
    "start_time": "2022-04-03T07:55:39.633Z"
   },
   {
    "duration": 113,
    "start_time": "2022-04-03T07:55:39.679Z"
   },
   {
    "duration": 172,
    "start_time": "2022-04-03T07:55:39.794Z"
   },
   {
    "duration": 33,
    "start_time": "2022-04-03T07:55:39.969Z"
   },
   {
    "duration": 22,
    "start_time": "2022-04-03T07:55:40.005Z"
   },
   {
    "duration": 43,
    "start_time": "2022-04-03T07:55:40.029Z"
   },
   {
    "duration": 63,
    "start_time": "2022-04-03T07:55:40.075Z"
   },
   {
    "duration": 45,
    "start_time": "2022-04-03T07:57:26.237Z"
   },
   {
    "duration": 37,
    "start_time": "2022-04-03T08:20:17.746Z"
   },
   {
    "duration": 35,
    "start_time": "2022-04-03T08:21:35.075Z"
   },
   {
    "duration": 12,
    "start_time": "2022-04-03T08:22:19.990Z"
   },
   {
    "duration": 34,
    "start_time": "2022-04-03T08:22:38.476Z"
   },
   {
    "duration": 12,
    "start_time": "2022-04-03T08:22:41.387Z"
   },
   {
    "duration": 2392,
    "start_time": "2022-04-03T08:23:00.512Z"
   },
   {
    "duration": 90,
    "start_time": "2022-04-03T08:23:02.908Z"
   },
   {
    "duration": 16,
    "start_time": "2022-04-03T08:23:03.001Z"
   },
   {
    "duration": 227,
    "start_time": "2022-04-03T08:23:03.021Z"
   },
   {
    "duration": 46,
    "start_time": "2022-04-03T08:23:03.250Z"
   },
   {
    "duration": 161,
    "start_time": "2022-04-03T08:23:03.298Z"
   },
   {
    "duration": 182,
    "start_time": "2022-04-03T08:23:03.462Z"
   },
   {
    "duration": 37,
    "start_time": "2022-04-03T08:23:03.646Z"
   },
   {
    "duration": 20,
    "start_time": "2022-04-03T08:23:03.685Z"
   },
   {
    "duration": 14,
    "start_time": "2022-04-03T08:23:03.709Z"
   },
   {
    "duration": 103,
    "start_time": "2022-04-03T08:23:03.725Z"
   },
   {
    "duration": 1410,
    "start_time": "2022-04-03T08:23:03.831Z"
   },
   {
    "duration": 0,
    "start_time": "2022-04-03T08:23:05.244Z"
   },
   {
    "duration": 44,
    "start_time": "2022-04-03T08:28:13.415Z"
   },
   {
    "duration": 12,
    "start_time": "2022-04-03T08:28:19.716Z"
   },
   {
    "duration": 54,
    "start_time": "2022-04-03T08:39:36.754Z"
   },
   {
    "duration": 8,
    "start_time": "2022-04-03T08:50:59.668Z"
   },
   {
    "duration": 1980,
    "start_time": "2022-04-03T08:52:49.319Z"
   },
   {
    "duration": 1337,
    "start_time": "2022-04-03T08:53:02.251Z"
   },
   {
    "duration": 89,
    "start_time": "2022-04-03T08:53:03.591Z"
   },
   {
    "duration": 18,
    "start_time": "2022-04-03T08:53:03.683Z"
   },
   {
    "duration": 298,
    "start_time": "2022-04-03T08:53:03.705Z"
   },
   {
    "duration": 48,
    "start_time": "2022-04-03T08:53:04.006Z"
   },
   {
    "duration": 117,
    "start_time": "2022-04-03T08:53:04.068Z"
   },
   {
    "duration": 180,
    "start_time": "2022-04-03T08:53:04.187Z"
   },
   {
    "duration": 27,
    "start_time": "2022-04-03T08:53:04.370Z"
   },
   {
    "duration": 20,
    "start_time": "2022-04-03T08:53:04.399Z"
   },
   {
    "duration": 14,
    "start_time": "2022-04-03T08:53:04.422Z"
   },
   {
    "duration": 102,
    "start_time": "2022-04-03T08:53:04.439Z"
   },
   {
    "duration": 65,
    "start_time": "2022-04-03T08:53:04.543Z"
   },
   {
    "duration": 75,
    "start_time": "2022-04-03T08:53:04.610Z"
   },
   {
    "duration": 9,
    "start_time": "2022-04-03T08:53:04.687Z"
   },
   {
    "duration": 1867,
    "start_time": "2022-04-03T08:53:04.698Z"
   },
   {
    "duration": 6,
    "start_time": "2022-04-03T08:54:10.335Z"
   },
   {
    "duration": 7,
    "start_time": "2022-04-03T08:55:31.647Z"
   },
   {
    "duration": 101,
    "start_time": "2022-04-03T09:04:43.717Z"
   },
   {
    "duration": 120,
    "start_time": "2022-04-03T09:12:23.493Z"
   },
   {
    "duration": 81,
    "start_time": "2022-04-03T09:13:27.261Z"
   },
   {
    "duration": 91,
    "start_time": "2022-04-03T09:14:57.715Z"
   },
   {
    "duration": 91,
    "start_time": "2022-04-03T09:15:15.249Z"
   },
   {
    "duration": 88,
    "start_time": "2022-04-03T09:20:01.248Z"
   },
   {
    "duration": 85,
    "start_time": "2022-04-03T09:30:25.003Z"
   },
   {
    "duration": 104,
    "start_time": "2022-04-03T09:36:44.488Z"
   },
   {
    "duration": 111,
    "start_time": "2022-04-03T09:37:00.977Z"
   },
   {
    "duration": 116,
    "start_time": "2022-04-03T09:39:26.504Z"
   },
   {
    "duration": 80,
    "start_time": "2022-04-03T09:39:48.203Z"
   },
   {
    "duration": 104,
    "start_time": "2022-04-03T09:39:53.486Z"
   },
   {
    "duration": 107,
    "start_time": "2022-04-03T09:39:57.174Z"
   },
   {
    "duration": 1345,
    "start_time": "2022-04-03T09:40:04.137Z"
   },
   {
    "duration": 87,
    "start_time": "2022-04-03T09:40:05.486Z"
   },
   {
    "duration": 18,
    "start_time": "2022-04-03T09:40:05.575Z"
   },
   {
    "duration": 220,
    "start_time": "2022-04-03T09:40:05.596Z"
   },
   {
    "duration": 33,
    "start_time": "2022-04-03T09:40:05.819Z"
   },
   {
    "duration": 120,
    "start_time": "2022-04-03T09:40:05.868Z"
   },
   {
    "duration": 175,
    "start_time": "2022-04-03T09:40:05.990Z"
   },
   {
    "duration": 27,
    "start_time": "2022-04-03T09:40:06.168Z"
   },
   {
    "duration": 21,
    "start_time": "2022-04-03T09:40:06.197Z"
   },
   {
    "duration": 15,
    "start_time": "2022-04-03T09:40:06.221Z"
   },
   {
    "duration": 93,
    "start_time": "2022-04-03T09:40:06.238Z"
   },
   {
    "duration": 64,
    "start_time": "2022-04-03T09:40:06.333Z"
   },
   {
    "duration": 53,
    "start_time": "2022-04-03T09:40:06.399Z"
   },
   {
    "duration": 8,
    "start_time": "2022-04-03T09:40:06.468Z"
   },
   {
    "duration": 6,
    "start_time": "2022-04-03T09:40:06.478Z"
   },
   {
    "duration": 8,
    "start_time": "2022-04-03T09:40:06.487Z"
   },
   {
    "duration": 200,
    "start_time": "2022-04-03T09:40:06.498Z"
   },
   {
    "duration": 167,
    "start_time": "2022-04-03T09:40:06.702Z"
   },
   {
    "duration": 84,
    "start_time": "2022-04-03T09:48:17.828Z"
   },
   {
    "duration": 66,
    "start_time": "2022-04-03T09:50:53.224Z"
   },
   {
    "duration": 158,
    "start_time": "2022-04-03T09:54:35.553Z"
   },
   {
    "duration": 83,
    "start_time": "2022-04-03T09:55:11.107Z"
   },
   {
    "duration": 11,
    "start_time": "2022-04-03T09:55:47.528Z"
   },
   {
    "duration": 1305,
    "start_time": "2022-04-03T09:55:57.462Z"
   },
   {
    "duration": 87,
    "start_time": "2022-04-03T09:55:58.770Z"
   },
   {
    "duration": 15,
    "start_time": "2022-04-03T09:55:58.860Z"
   },
   {
    "duration": 202,
    "start_time": "2022-04-03T09:55:58.879Z"
   },
   {
    "duration": 34,
    "start_time": "2022-04-03T09:55:59.084Z"
   },
   {
    "duration": 133,
    "start_time": "2022-04-03T09:55:59.121Z"
   },
   {
    "duration": 169,
    "start_time": "2022-04-03T09:55:59.257Z"
   },
   {
    "duration": 41,
    "start_time": "2022-04-03T09:55:59.429Z"
   },
   {
    "duration": 19,
    "start_time": "2022-04-03T09:55:59.472Z"
   },
   {
    "duration": 15,
    "start_time": "2022-04-03T09:55:59.494Z"
   },
   {
    "duration": 90,
    "start_time": "2022-04-03T09:55:59.512Z"
   },
   {
    "duration": 43,
    "start_time": "2022-04-03T09:55:59.604Z"
   },
   {
    "duration": 69,
    "start_time": "2022-04-03T09:55:59.649Z"
   },
   {
    "duration": 9,
    "start_time": "2022-04-03T09:55:59.720Z"
   },
   {
    "duration": 37,
    "start_time": "2022-04-03T09:55:59.731Z"
   },
   {
    "duration": 6,
    "start_time": "2022-04-03T09:55:59.770Z"
   },
   {
    "duration": 117,
    "start_time": "2022-04-03T09:55:59.779Z"
   },
   {
    "duration": 131,
    "start_time": "2022-04-03T09:55:59.899Z"
   },
   {
    "duration": 73,
    "start_time": "2022-04-03T09:56:00.033Z"
   },
   {
    "duration": 154,
    "start_time": "2022-04-03T09:56:00.108Z"
   },
   {
    "duration": 46,
    "start_time": "2022-04-03T09:56:25.809Z"
   },
   {
    "duration": 28,
    "start_time": "2022-04-03T09:56:31.859Z"
   },
   {
    "duration": 49,
    "start_time": "2022-04-03T09:57:03.839Z"
   },
   {
    "duration": 78,
    "start_time": "2022-04-03T09:59:11.452Z"
   },
   {
    "duration": 15,
    "start_time": "2022-04-03T10:01:39.345Z"
   },
   {
    "duration": 1320,
    "start_time": "2022-04-03T10:02:17.960Z"
   },
   {
    "duration": 91,
    "start_time": "2022-04-03T10:02:19.283Z"
   },
   {
    "duration": 17,
    "start_time": "2022-04-03T10:02:19.376Z"
   },
   {
    "duration": 207,
    "start_time": "2022-04-03T10:02:19.395Z"
   },
   {
    "duration": 36,
    "start_time": "2022-04-03T10:02:19.605Z"
   },
   {
    "duration": 128,
    "start_time": "2022-04-03T10:02:19.643Z"
   },
   {
    "duration": 173,
    "start_time": "2022-04-03T10:02:19.773Z"
   },
   {
    "duration": 38,
    "start_time": "2022-04-03T10:02:19.949Z"
   },
   {
    "duration": 21,
    "start_time": "2022-04-03T10:02:19.989Z"
   },
   {
    "duration": 16,
    "start_time": "2022-04-03T10:02:20.012Z"
   },
   {
    "duration": 97,
    "start_time": "2022-04-03T10:02:20.031Z"
   },
   {
    "duration": 61,
    "start_time": "2022-04-03T10:02:20.131Z"
   },
   {
    "duration": 56,
    "start_time": "2022-04-03T10:02:20.195Z"
   },
   {
    "duration": 10,
    "start_time": "2022-04-03T10:02:20.271Z"
   },
   {
    "duration": 6,
    "start_time": "2022-04-03T10:02:20.284Z"
   },
   {
    "duration": 8,
    "start_time": "2022-04-03T10:02:20.292Z"
   },
   {
    "duration": 136,
    "start_time": "2022-04-03T10:02:20.303Z"
   },
   {
    "duration": 116,
    "start_time": "2022-04-03T10:02:20.442Z"
   },
   {
    "duration": 62,
    "start_time": "2022-04-03T10:02:20.567Z"
   },
   {
    "duration": 80,
    "start_time": "2022-04-03T10:02:20.631Z"
   },
   {
    "duration": 78,
    "start_time": "2022-04-03T10:02:20.713Z"
   },
   {
    "duration": 148,
    "start_time": "2022-04-03T10:02:20.794Z"
   },
   {
    "duration": 77,
    "start_time": "2022-04-03T10:02:40.900Z"
   },
   {
    "duration": 17,
    "start_time": "2022-04-03T10:33:47.139Z"
   },
   {
    "duration": 24,
    "start_time": "2022-04-03T10:46:26.976Z"
   },
   {
    "duration": 99,
    "start_time": "2022-04-03T10:48:27.272Z"
   },
   {
    "duration": 43,
    "start_time": "2022-04-03T10:48:30.641Z"
   },
   {
    "duration": 143,
    "start_time": "2022-04-03T10:50:45.532Z"
   },
   {
    "duration": 82,
    "start_time": "2022-04-03T10:53:10.219Z"
   },
   {
    "duration": 84,
    "start_time": "2022-04-03T10:53:12.850Z"
   },
   {
    "duration": 90,
    "start_time": "2022-04-03T10:53:47.989Z"
   },
   {
    "duration": 93,
    "start_time": "2022-04-03T10:54:02.152Z"
   },
   {
    "duration": 86,
    "start_time": "2022-04-03T10:54:05.106Z"
   },
   {
    "duration": 133,
    "start_time": "2022-04-03T10:54:22.893Z"
   },
   {
    "duration": 192,
    "start_time": "2022-04-03T11:00:01.985Z"
   },
   {
    "duration": 186,
    "start_time": "2022-04-03T11:00:38.764Z"
   },
   {
    "duration": 167,
    "start_time": "2022-04-03T11:04:11.999Z"
   },
   {
    "duration": 194,
    "start_time": "2022-04-03T11:04:16.961Z"
   },
   {
    "duration": 1313,
    "start_time": "2022-04-03T11:04:28.068Z"
   },
   {
    "duration": 90,
    "start_time": "2022-04-03T11:04:29.384Z"
   },
   {
    "duration": 17,
    "start_time": "2022-04-03T11:04:29.476Z"
   },
   {
    "duration": 210,
    "start_time": "2022-04-03T11:04:29.496Z"
   },
   {
    "duration": 37,
    "start_time": "2022-04-03T11:04:29.709Z"
   },
   {
    "duration": 115,
    "start_time": "2022-04-03T11:04:29.768Z"
   },
   {
    "duration": 181,
    "start_time": "2022-04-03T11:04:29.886Z"
   },
   {
    "duration": 30,
    "start_time": "2022-04-03T11:04:30.069Z"
   },
   {
    "duration": 19,
    "start_time": "2022-04-03T11:04:30.101Z"
   },
   {
    "duration": 44,
    "start_time": "2022-04-03T11:04:30.124Z"
   },
   {
    "duration": 67,
    "start_time": "2022-04-03T11:04:30.170Z"
   },
   {
    "duration": 68,
    "start_time": "2022-04-03T11:04:30.240Z"
   },
   {
    "duration": 76,
    "start_time": "2022-04-03T11:04:30.311Z"
   },
   {
    "duration": 10,
    "start_time": "2022-04-03T11:04:30.389Z"
   },
   {
    "duration": 10,
    "start_time": "2022-04-03T11:04:30.401Z"
   },
   {
    "duration": 12,
    "start_time": "2022-04-03T11:04:30.413Z"
   },
   {
    "duration": 130,
    "start_time": "2022-04-03T11:04:30.427Z"
   },
   {
    "duration": 129,
    "start_time": "2022-04-03T11:04:30.567Z"
   },
   {
    "duration": 78,
    "start_time": "2022-04-03T11:04:30.699Z"
   },
   {
    "duration": 64,
    "start_time": "2022-04-03T11:04:30.780Z"
   },
   {
    "duration": 91,
    "start_time": "2022-04-03T11:04:30.847Z"
   },
   {
    "duration": 92,
    "start_time": "2022-04-03T11:04:30.941Z"
   },
   {
    "duration": 209,
    "start_time": "2022-04-03T11:04:31.036Z"
   },
   {
    "duration": 188,
    "start_time": "2022-04-03T11:04:54.690Z"
   },
   {
    "duration": 64,
    "start_time": "2022-04-04T05:56:45.150Z"
   },
   {
    "duration": 1569,
    "start_time": "2022-04-04T05:56:53.842Z"
   },
   {
    "duration": 89,
    "start_time": "2022-04-04T05:56:55.414Z"
   },
   {
    "duration": 17,
    "start_time": "2022-04-04T05:56:55.506Z"
   },
   {
    "duration": 207,
    "start_time": "2022-04-04T05:56:55.528Z"
   },
   {
    "duration": 45,
    "start_time": "2022-04-04T05:56:55.738Z"
   },
   {
    "duration": 115,
    "start_time": "2022-04-04T05:56:55.786Z"
   },
   {
    "duration": 169,
    "start_time": "2022-04-04T05:56:55.904Z"
   },
   {
    "duration": 33,
    "start_time": "2022-04-04T05:56:56.076Z"
   },
   {
    "duration": 19,
    "start_time": "2022-04-04T05:56:56.112Z"
   },
   {
    "duration": 15,
    "start_time": "2022-04-04T05:56:56.136Z"
   },
   {
    "duration": 65,
    "start_time": "2022-04-04T05:56:56.183Z"
   },
   {
    "duration": 64,
    "start_time": "2022-04-04T05:56:56.251Z"
   },
   {
    "duration": 77,
    "start_time": "2022-04-04T05:56:56.318Z"
   },
   {
    "duration": 9,
    "start_time": "2022-04-04T05:56:56.397Z"
   },
   {
    "duration": 14,
    "start_time": "2022-04-04T05:56:56.409Z"
   },
   {
    "duration": 18,
    "start_time": "2022-04-04T05:56:56.425Z"
   },
   {
    "duration": 116,
    "start_time": "2022-04-04T05:56:56.445Z"
   },
   {
    "duration": 120,
    "start_time": "2022-04-04T05:56:56.563Z"
   },
   {
    "duration": 59,
    "start_time": "2022-04-04T05:56:56.685Z"
   },
   {
    "duration": 77,
    "start_time": "2022-04-04T05:56:56.746Z"
   },
   {
    "duration": 85,
    "start_time": "2022-04-04T05:56:56.825Z"
   },
   {
    "duration": 82,
    "start_time": "2022-04-04T05:56:56.913Z"
   },
   {
    "duration": 140,
    "start_time": "2022-04-04T05:56:56.997Z"
   },
   {
    "duration": 31,
    "start_time": "2022-04-04T05:57:31.048Z"
   },
   {
    "duration": 2204,
    "start_time": "2022-04-04T05:59:43.424Z"
   },
   {
    "duration": 16,
    "start_time": "2022-04-04T06:00:04.337Z"
   },
   {
    "duration": 1292,
    "start_time": "2022-04-04T06:00:11.014Z"
   },
   {
    "duration": 84,
    "start_time": "2022-04-04T06:00:12.309Z"
   },
   {
    "duration": 17,
    "start_time": "2022-04-04T06:00:12.395Z"
   },
   {
    "duration": 202,
    "start_time": "2022-04-04T06:00:12.415Z"
   },
   {
    "duration": 33,
    "start_time": "2022-04-04T06:00:12.619Z"
   },
   {
    "duration": 119,
    "start_time": "2022-04-04T06:00:12.654Z"
   },
   {
    "duration": 166,
    "start_time": "2022-04-04T06:00:12.783Z"
   },
   {
    "duration": 39,
    "start_time": "2022-04-04T06:00:12.951Z"
   },
   {
    "duration": 19,
    "start_time": "2022-04-04T06:00:12.992Z"
   },
   {
    "duration": 15,
    "start_time": "2022-04-04T06:00:13.015Z"
   },
   {
    "duration": 90,
    "start_time": "2022-04-04T06:00:13.032Z"
   },
   {
    "duration": 58,
    "start_time": "2022-04-04T06:00:13.124Z"
   },
   {
    "duration": 54,
    "start_time": "2022-04-04T06:00:13.184Z"
   },
   {
    "duration": 9,
    "start_time": "2022-04-04T06:00:13.240Z"
   },
   {
    "duration": 33,
    "start_time": "2022-04-04T06:00:13.251Z"
   },
   {
    "duration": 6,
    "start_time": "2022-04-04T06:00:13.286Z"
   },
   {
    "duration": 119,
    "start_time": "2022-04-04T06:00:13.294Z"
   },
   {
    "duration": 124,
    "start_time": "2022-04-04T06:00:13.415Z"
   },
   {
    "duration": 67,
    "start_time": "2022-04-04T06:00:13.542Z"
   },
   {
    "duration": 87,
    "start_time": "2022-04-04T06:00:13.612Z"
   },
   {
    "duration": 90,
    "start_time": "2022-04-04T06:00:13.702Z"
   },
   {
    "duration": 89,
    "start_time": "2022-04-04T06:00:13.795Z"
   },
   {
    "duration": 147,
    "start_time": "2022-04-04T06:00:13.887Z"
   },
   {
    "duration": 2392,
    "start_time": "2022-04-04T06:00:42.718Z"
   },
   {
    "duration": 1328,
    "start_time": "2022-04-04T06:01:37.844Z"
   },
   {
    "duration": 84,
    "start_time": "2022-04-04T06:01:39.174Z"
   },
   {
    "duration": 16,
    "start_time": "2022-04-04T06:01:39.260Z"
   },
   {
    "duration": 187,
    "start_time": "2022-04-04T06:01:39.281Z"
   },
   {
    "duration": 32,
    "start_time": "2022-04-04T06:01:39.470Z"
   },
   {
    "duration": 125,
    "start_time": "2022-04-04T06:01:39.504Z"
   },
   {
    "duration": 165,
    "start_time": "2022-04-04T06:01:39.631Z"
   },
   {
    "duration": 26,
    "start_time": "2022-04-04T06:01:39.798Z"
   },
   {
    "duration": 18,
    "start_time": "2022-04-04T06:01:39.827Z"
   },
   {
    "duration": 36,
    "start_time": "2022-04-04T06:01:39.849Z"
   },
   {
    "duration": 60,
    "start_time": "2022-04-04T06:01:39.887Z"
   },
   {
    "duration": 63,
    "start_time": "2022-04-04T06:01:39.949Z"
   },
   {
    "duration": 68,
    "start_time": "2022-04-04T06:01:40.015Z"
   },
   {
    "duration": 8,
    "start_time": "2022-04-04T06:01:40.086Z"
   },
   {
    "duration": 6,
    "start_time": "2022-04-04T06:01:40.096Z"
   },
   {
    "duration": 8,
    "start_time": "2022-04-04T06:01:40.104Z"
   },
   {
    "duration": 132,
    "start_time": "2022-04-04T06:01:40.114Z"
   },
   {
    "duration": 114,
    "start_time": "2022-04-04T06:01:40.248Z"
   },
   {
    "duration": 69,
    "start_time": "2022-04-04T06:01:40.364Z"
   },
   {
    "duration": 78,
    "start_time": "2022-04-04T06:01:40.435Z"
   },
   {
    "duration": 80,
    "start_time": "2022-04-04T06:01:40.515Z"
   },
   {
    "duration": 91,
    "start_time": "2022-04-04T06:01:40.597Z"
   },
   {
    "duration": 2600,
    "start_time": "2022-04-04T06:01:40.691Z"
   },
   {
    "duration": 26,
    "start_time": "2022-04-04T06:09:21.038Z"
   },
   {
    "duration": 30,
    "start_time": "2022-04-04T06:09:48.090Z"
   },
   {
    "duration": 1295,
    "start_time": "2022-04-04T06:10:24.420Z"
   },
   {
    "duration": 87,
    "start_time": "2022-04-04T06:10:25.718Z"
   },
   {
    "duration": 18,
    "start_time": "2022-04-04T06:10:25.807Z"
   },
   {
    "duration": 214,
    "start_time": "2022-04-04T06:10:25.828Z"
   },
   {
    "duration": 49,
    "start_time": "2022-04-04T06:10:26.044Z"
   },
   {
    "duration": 115,
    "start_time": "2022-04-04T06:10:26.095Z"
   },
   {
    "duration": 256,
    "start_time": "2022-04-04T06:10:26.213Z"
   },
   {
    "duration": 56,
    "start_time": "2022-04-04T06:10:26.472Z"
   },
   {
    "duration": 19,
    "start_time": "2022-04-04T06:10:26.530Z"
   },
   {
    "duration": 38,
    "start_time": "2022-04-04T06:10:26.554Z"
   },
   {
    "duration": 64,
    "start_time": "2022-04-04T06:10:26.594Z"
   },
   {
    "duration": 64,
    "start_time": "2022-04-04T06:10:26.660Z"
   },
   {
    "duration": 78,
    "start_time": "2022-04-04T06:10:26.727Z"
   },
   {
    "duration": 9,
    "start_time": "2022-04-04T06:10:26.808Z"
   },
   {
    "duration": 6,
    "start_time": "2022-04-04T06:10:26.819Z"
   },
   {
    "duration": 7,
    "start_time": "2022-04-04T06:10:26.827Z"
   },
   {
    "duration": 137,
    "start_time": "2022-04-04T06:10:26.836Z"
   },
   {
    "duration": 123,
    "start_time": "2022-04-04T06:10:26.983Z"
   },
   {
    "duration": 75,
    "start_time": "2022-04-04T06:10:27.108Z"
   },
   {
    "duration": 61,
    "start_time": "2022-04-04T06:10:27.185Z"
   },
   {
    "duration": 92,
    "start_time": "2022-04-04T06:10:27.248Z"
   },
   {
    "duration": 97,
    "start_time": "2022-04-04T06:10:27.342Z"
   },
   {
    "duration": 47,
    "start_time": "2022-04-04T06:10:27.441Z"
   },
   {
    "duration": 146,
    "start_time": "2022-04-04T06:20:15.450Z"
   },
   {
    "duration": 163,
    "start_time": "2022-04-04T06:20:21.346Z"
   },
   {
    "duration": 135,
    "start_time": "2022-04-04T06:22:18.740Z"
   },
   {
    "duration": 1342,
    "start_time": "2022-04-04T06:22:37.248Z"
   },
   {
    "duration": 96,
    "start_time": "2022-04-04T06:22:38.593Z"
   },
   {
    "duration": 16,
    "start_time": "2022-04-04T06:22:38.691Z"
   },
   {
    "duration": 204,
    "start_time": "2022-04-04T06:22:38.709Z"
   },
   {
    "duration": 32,
    "start_time": "2022-04-04T06:22:38.917Z"
   },
   {
    "duration": 132,
    "start_time": "2022-04-04T06:22:38.951Z"
   },
   {
    "duration": 191,
    "start_time": "2022-04-04T06:22:39.086Z"
   },
   {
    "duration": 27,
    "start_time": "2022-04-04T06:22:39.279Z"
   },
   {
    "duration": 18,
    "start_time": "2022-04-04T06:22:39.309Z"
   },
   {
    "duration": 14,
    "start_time": "2022-04-04T06:22:39.329Z"
   },
   {
    "duration": 92,
    "start_time": "2022-04-04T06:22:39.345Z"
   },
   {
    "duration": 56,
    "start_time": "2022-04-04T06:22:39.440Z"
   },
   {
    "duration": 53,
    "start_time": "2022-04-04T06:22:39.498Z"
   },
   {
    "duration": 29,
    "start_time": "2022-04-04T06:22:39.555Z"
   },
   {
    "duration": 6,
    "start_time": "2022-04-04T06:22:39.586Z"
   },
   {
    "duration": 7,
    "start_time": "2022-04-04T06:22:39.594Z"
   },
   {
    "duration": 130,
    "start_time": "2022-04-04T06:22:39.603Z"
   },
   {
    "duration": 122,
    "start_time": "2022-04-04T06:22:39.736Z"
   },
   {
    "duration": 71,
    "start_time": "2022-04-04T06:22:39.860Z"
   },
   {
    "duration": 69,
    "start_time": "2022-04-04T06:22:39.934Z"
   },
   {
    "duration": 94,
    "start_time": "2022-04-04T06:22:40.005Z"
   },
   {
    "duration": 83,
    "start_time": "2022-04-04T06:22:40.101Z"
   },
   {
    "duration": 29,
    "start_time": "2022-04-04T06:22:40.186Z"
   },
   {
    "duration": 161,
    "start_time": "2022-04-04T06:26:55.421Z"
   },
   {
    "duration": 1292,
    "start_time": "2022-04-04T06:27:07.179Z"
   },
   {
    "duration": 81,
    "start_time": "2022-04-04T06:27:08.474Z"
   },
   {
    "duration": 29,
    "start_time": "2022-04-04T06:27:08.557Z"
   },
   {
    "duration": 200,
    "start_time": "2022-04-04T06:27:08.589Z"
   },
   {
    "duration": 33,
    "start_time": "2022-04-04T06:27:08.792Z"
   },
   {
    "duration": 126,
    "start_time": "2022-04-04T06:27:08.828Z"
   },
   {
    "duration": 173,
    "start_time": "2022-04-04T06:27:08.957Z"
   },
   {
    "duration": 30,
    "start_time": "2022-04-04T06:27:09.133Z"
   },
   {
    "duration": 20,
    "start_time": "2022-04-04T06:27:09.183Z"
   },
   {
    "duration": 14,
    "start_time": "2022-04-04T06:27:09.206Z"
   },
   {
    "duration": 94,
    "start_time": "2022-04-04T06:27:09.223Z"
   },
   {
    "duration": 43,
    "start_time": "2022-04-04T06:27:09.320Z"
   },
   {
    "duration": 65,
    "start_time": "2022-04-04T06:27:09.366Z"
   },
   {
    "duration": 8,
    "start_time": "2022-04-04T06:27:09.436Z"
   },
   {
    "duration": 9,
    "start_time": "2022-04-04T06:27:09.446Z"
   },
   {
    "duration": 6,
    "start_time": "2022-04-04T06:27:09.483Z"
   },
   {
    "duration": 118,
    "start_time": "2022-04-04T06:27:09.492Z"
   },
   {
    "duration": 129,
    "start_time": "2022-04-04T06:27:09.613Z"
   },
   {
    "duration": 64,
    "start_time": "2022-04-04T06:27:09.744Z"
   },
   {
    "duration": 80,
    "start_time": "2022-04-04T06:27:09.811Z"
   },
   {
    "duration": 90,
    "start_time": "2022-04-04T06:27:09.893Z"
   },
   {
    "duration": 73,
    "start_time": "2022-04-04T06:27:09.985Z"
   },
   {
    "duration": 60,
    "start_time": "2022-04-04T06:27:10.060Z"
   },
   {
    "duration": 143,
    "start_time": "2022-04-04T06:31:28.994Z"
   },
   {
    "duration": 1429,
    "start_time": "2022-04-04T06:31:41.841Z"
   },
   {
    "duration": 93,
    "start_time": "2022-04-04T06:31:43.273Z"
   },
   {
    "duration": 18,
    "start_time": "2022-04-04T06:31:43.369Z"
   },
   {
    "duration": 196,
    "start_time": "2022-04-04T06:31:43.389Z"
   },
   {
    "duration": 35,
    "start_time": "2022-04-04T06:31:43.587Z"
   },
   {
    "duration": 128,
    "start_time": "2022-04-04T06:31:43.624Z"
   },
   {
    "duration": 174,
    "start_time": "2022-04-04T06:31:43.754Z"
   },
   {
    "duration": 28,
    "start_time": "2022-04-04T06:31:43.930Z"
   },
   {
    "duration": 30,
    "start_time": "2022-04-04T06:31:43.960Z"
   },
   {
    "duration": 16,
    "start_time": "2022-04-04T06:31:43.995Z"
   },
   {
    "duration": 92,
    "start_time": "2022-04-04T06:31:44.013Z"
   },
   {
    "duration": 44,
    "start_time": "2022-04-04T06:31:44.107Z"
   },
   {
    "duration": 76,
    "start_time": "2022-04-04T06:31:44.153Z"
   },
   {
    "duration": 8,
    "start_time": "2022-04-04T06:31:44.231Z"
   },
   {
    "duration": 6,
    "start_time": "2022-04-04T06:31:44.242Z"
   },
   {
    "duration": 34,
    "start_time": "2022-04-04T06:31:44.250Z"
   },
   {
    "duration": 113,
    "start_time": "2022-04-04T06:31:44.286Z"
   },
   {
    "duration": 131,
    "start_time": "2022-04-04T06:31:44.401Z"
   },
   {
    "duration": 65,
    "start_time": "2022-04-04T06:31:44.534Z"
   },
   {
    "duration": 59,
    "start_time": "2022-04-04T06:31:44.601Z"
   },
   {
    "duration": 93,
    "start_time": "2022-04-04T06:31:44.662Z"
   },
   {
    "duration": 89,
    "start_time": "2022-04-04T06:31:44.757Z"
   },
   {
    "duration": 65,
    "start_time": "2022-04-04T06:31:44.848Z"
   },
   {
    "duration": 140,
    "start_time": "2022-04-04T06:32:55.616Z"
   },
   {
    "duration": 1394,
    "start_time": "2022-04-04T06:33:03.951Z"
   },
   {
    "duration": 83,
    "start_time": "2022-04-04T06:33:05.347Z"
   },
   {
    "duration": 19,
    "start_time": "2022-04-04T06:33:05.432Z"
   },
   {
    "duration": 215,
    "start_time": "2022-04-04T06:33:05.456Z"
   },
   {
    "duration": 38,
    "start_time": "2022-04-04T06:33:05.674Z"
   },
   {
    "duration": 136,
    "start_time": "2022-04-04T06:33:05.715Z"
   },
   {
    "duration": 192,
    "start_time": "2022-04-04T06:33:05.853Z"
   },
   {
    "duration": 42,
    "start_time": "2022-04-04T06:33:06.048Z"
   },
   {
    "duration": 20,
    "start_time": "2022-04-04T06:33:06.093Z"
   },
   {
    "duration": 15,
    "start_time": "2022-04-04T06:33:06.117Z"
   },
   {
    "duration": 99,
    "start_time": "2022-04-04T06:33:06.134Z"
   },
   {
    "duration": 56,
    "start_time": "2022-04-04T06:33:06.236Z"
   },
   {
    "duration": 55,
    "start_time": "2022-04-04T06:33:06.295Z"
   },
   {
    "duration": 34,
    "start_time": "2022-04-04T06:33:06.353Z"
   },
   {
    "duration": 7,
    "start_time": "2022-04-04T06:33:06.390Z"
   },
   {
    "duration": 9,
    "start_time": "2022-04-04T06:33:06.400Z"
   },
   {
    "duration": 137,
    "start_time": "2022-04-04T06:33:06.411Z"
   },
   {
    "duration": 133,
    "start_time": "2022-04-04T06:33:06.551Z"
   },
   {
    "duration": 68,
    "start_time": "2022-04-04T06:33:06.686Z"
   },
   {
    "duration": 84,
    "start_time": "2022-04-04T06:33:06.757Z"
   },
   {
    "duration": 103,
    "start_time": "2022-04-04T06:33:06.843Z"
   },
   {
    "duration": 93,
    "start_time": "2022-04-04T06:33:06.949Z"
   },
   {
    "duration": 181,
    "start_time": "2022-04-04T06:33:07.045Z"
   },
   {
    "duration": 23,
    "start_time": "2022-04-04T06:34:27.372Z"
   },
   {
    "duration": 1366,
    "start_time": "2022-04-04T06:34:35.054Z"
   },
   {
    "duration": 98,
    "start_time": "2022-04-04T06:34:36.423Z"
   },
   {
    "duration": 17,
    "start_time": "2022-04-04T06:34:36.523Z"
   },
   {
    "duration": 214,
    "start_time": "2022-04-04T06:34:36.544Z"
   },
   {
    "duration": 42,
    "start_time": "2022-04-04T06:34:36.761Z"
   },
   {
    "duration": 131,
    "start_time": "2022-04-04T06:34:36.806Z"
   },
   {
    "duration": 179,
    "start_time": "2022-04-04T06:34:36.940Z"
   },
   {
    "duration": 31,
    "start_time": "2022-04-04T06:34:37.122Z"
   },
   {
    "duration": 39,
    "start_time": "2022-04-04T06:34:37.156Z"
   },
   {
    "duration": 15,
    "start_time": "2022-04-04T06:34:37.199Z"
   },
   {
    "duration": 95,
    "start_time": "2022-04-04T06:34:37.217Z"
   },
   {
    "duration": 77,
    "start_time": "2022-04-04T06:34:37.315Z"
   },
   {
    "duration": 99,
    "start_time": "2022-04-04T06:34:37.395Z"
   },
   {
    "duration": 11,
    "start_time": "2022-04-04T06:34:37.497Z"
   },
   {
    "duration": 7,
    "start_time": "2022-04-04T06:34:37.510Z"
   },
   {
    "duration": 13,
    "start_time": "2022-04-04T06:34:37.520Z"
   },
   {
    "duration": 134,
    "start_time": "2022-04-04T06:34:37.536Z"
   },
   {
    "duration": 130,
    "start_time": "2022-04-04T06:34:37.672Z"
   },
   {
    "duration": 77,
    "start_time": "2022-04-04T06:34:37.805Z"
   },
   {
    "duration": 62,
    "start_time": "2022-04-04T06:34:37.884Z"
   },
   {
    "duration": 110,
    "start_time": "2022-04-04T06:34:37.949Z"
   },
   {
    "duration": 112,
    "start_time": "2022-04-04T06:34:38.061Z"
   },
   {
    "duration": 65,
    "start_time": "2022-04-04T06:34:38.183Z"
   },
   {
    "duration": 158,
    "start_time": "2022-04-04T06:35:11.074Z"
   },
   {
    "duration": 1825,
    "start_time": "2022-04-04T06:35:21.866Z"
   },
   {
    "duration": 123,
    "start_time": "2022-04-04T06:35:23.695Z"
   },
   {
    "duration": 17,
    "start_time": "2022-04-04T06:35:23.821Z"
   },
   {
    "duration": 228,
    "start_time": "2022-04-04T06:35:23.840Z"
   },
   {
    "duration": 43,
    "start_time": "2022-04-04T06:35:24.072Z"
   },
   {
    "duration": 129,
    "start_time": "2022-04-04T06:35:24.118Z"
   },
   {
    "duration": 183,
    "start_time": "2022-04-04T06:35:24.249Z"
   },
   {
    "duration": 33,
    "start_time": "2022-04-04T06:35:24.434Z"
   },
   {
    "duration": 26,
    "start_time": "2022-04-04T06:35:24.470Z"
   },
   {
    "duration": 16,
    "start_time": "2022-04-04T06:35:24.498Z"
   },
   {
    "duration": 105,
    "start_time": "2022-04-04T06:35:24.516Z"
   },
   {
    "duration": 63,
    "start_time": "2022-04-04T06:35:24.624Z"
   },
   {
    "duration": 97,
    "start_time": "2022-04-04T06:35:24.690Z"
   },
   {
    "duration": 14,
    "start_time": "2022-04-04T06:35:24.791Z"
   },
   {
    "duration": 8,
    "start_time": "2022-04-04T06:35:24.809Z"
   },
   {
    "duration": 14,
    "start_time": "2022-04-04T06:35:24.819Z"
   },
   {
    "duration": 189,
    "start_time": "2022-04-04T06:35:24.835Z"
   },
   {
    "duration": 158,
    "start_time": "2022-04-04T06:35:25.026Z"
   },
   {
    "duration": 69,
    "start_time": "2022-04-04T06:35:25.187Z"
   },
   {
    "duration": 97,
    "start_time": "2022-04-04T06:35:25.259Z"
   },
   {
    "duration": 134,
    "start_time": "2022-04-04T06:35:25.358Z"
   },
   {
    "duration": 97,
    "start_time": "2022-04-04T06:35:25.495Z"
   },
   {
    "duration": 49,
    "start_time": "2022-04-04T06:35:25.594Z"
   },
   {
    "duration": 145,
    "start_time": "2022-04-04T06:37:03.862Z"
   },
   {
    "duration": 1464,
    "start_time": "2022-04-04T06:37:10.357Z"
   },
   {
    "duration": 90,
    "start_time": "2022-04-04T06:37:11.824Z"
   },
   {
    "duration": 22,
    "start_time": "2022-04-04T06:37:11.920Z"
   },
   {
    "duration": 230,
    "start_time": "2022-04-04T06:37:11.945Z"
   },
   {
    "duration": 36,
    "start_time": "2022-04-04T06:37:12.181Z"
   },
   {
    "duration": 136,
    "start_time": "2022-04-04T06:37:12.219Z"
   },
   {
    "duration": 183,
    "start_time": "2022-04-04T06:37:12.357Z"
   },
   {
    "duration": 42,
    "start_time": "2022-04-04T06:37:12.543Z"
   },
   {
    "duration": 20,
    "start_time": "2022-04-04T06:37:12.589Z"
   },
   {
    "duration": 15,
    "start_time": "2022-04-04T06:37:12.611Z"
   },
   {
    "duration": 87,
    "start_time": "2022-04-04T06:37:12.629Z"
   },
   {
    "duration": 46,
    "start_time": "2022-04-04T06:37:12.718Z"
   },
   {
    "duration": 68,
    "start_time": "2022-04-04T06:37:12.766Z"
   },
   {
    "duration": 9,
    "start_time": "2022-04-04T06:37:12.836Z"
   },
   {
    "duration": 37,
    "start_time": "2022-04-04T06:37:12.848Z"
   },
   {
    "duration": 5,
    "start_time": "2022-04-04T06:37:12.888Z"
   },
   {
    "duration": 116,
    "start_time": "2022-04-04T06:37:12.896Z"
   },
   {
    "duration": 127,
    "start_time": "2022-04-04T06:37:13.015Z"
   },
   {
    "duration": 67,
    "start_time": "2022-04-04T06:37:13.144Z"
   },
   {
    "duration": 91,
    "start_time": "2022-04-04T06:37:13.213Z"
   },
   {
    "duration": 123,
    "start_time": "2022-04-04T06:37:13.306Z"
   },
   {
    "duration": 112,
    "start_time": "2022-04-04T06:37:13.432Z"
   },
   {
    "duration": 72,
    "start_time": "2022-04-04T06:37:13.547Z"
   },
   {
    "duration": 151,
    "start_time": "2022-04-04T06:38:02.824Z"
   },
   {
    "duration": 1375,
    "start_time": "2022-04-04T06:38:09.038Z"
   },
   {
    "duration": 92,
    "start_time": "2022-04-04T06:38:10.415Z"
   },
   {
    "duration": 16,
    "start_time": "2022-04-04T06:38:10.509Z"
   },
   {
    "duration": 209,
    "start_time": "2022-04-04T06:38:10.528Z"
   },
   {
    "duration": 50,
    "start_time": "2022-04-04T06:38:10.739Z"
   },
   {
    "duration": 125,
    "start_time": "2022-04-04T06:38:10.792Z"
   },
   {
    "duration": 184,
    "start_time": "2022-04-04T06:38:10.920Z"
   },
   {
    "duration": 28,
    "start_time": "2022-04-04T06:38:11.107Z"
   },
   {
    "duration": 19,
    "start_time": "2022-04-04T06:38:11.138Z"
   },
   {
    "duration": 16,
    "start_time": "2022-04-04T06:38:11.184Z"
   },
   {
    "duration": 88,
    "start_time": "2022-04-04T06:38:11.203Z"
   },
   {
    "duration": 43,
    "start_time": "2022-04-04T06:38:11.293Z"
   },
   {
    "duration": 82,
    "start_time": "2022-04-04T06:38:11.338Z"
   },
   {
    "duration": 9,
    "start_time": "2022-04-04T06:38:11.422Z"
   },
   {
    "duration": 6,
    "start_time": "2022-04-04T06:38:11.433Z"
   },
   {
    "duration": 6,
    "start_time": "2022-04-04T06:38:11.441Z"
   },
   {
    "duration": 118,
    "start_time": "2022-04-04T06:38:11.482Z"
   },
   {
    "duration": 133,
    "start_time": "2022-04-04T06:38:11.602Z"
   },
   {
    "duration": 65,
    "start_time": "2022-04-04T06:38:11.738Z"
   },
   {
    "duration": 84,
    "start_time": "2022-04-04T06:38:11.805Z"
   },
   {
    "duration": 75,
    "start_time": "2022-04-04T06:38:11.891Z"
   },
   {
    "duration": 74,
    "start_time": "2022-04-04T06:38:11.983Z"
   },
   {
    "duration": 69,
    "start_time": "2022-04-04T06:38:12.060Z"
   },
   {
    "duration": 143,
    "start_time": "2022-04-04T06:38:45.199Z"
   },
   {
    "duration": 1403,
    "start_time": "2022-04-04T06:39:13.305Z"
   },
   {
    "duration": 92,
    "start_time": "2022-04-04T06:39:14.713Z"
   },
   {
    "duration": 19,
    "start_time": "2022-04-04T06:39:14.808Z"
   },
   {
    "duration": 224,
    "start_time": "2022-04-04T06:39:14.830Z"
   },
   {
    "duration": 49,
    "start_time": "2022-04-04T06:39:15.057Z"
   },
   {
    "duration": 136,
    "start_time": "2022-04-04T06:39:15.109Z"
   },
   {
    "duration": 181,
    "start_time": "2022-04-04T06:39:15.248Z"
   },
   {
    "duration": 30,
    "start_time": "2022-04-04T06:39:15.432Z"
   },
   {
    "duration": 42,
    "start_time": "2022-04-04T06:39:15.464Z"
   },
   {
    "duration": 16,
    "start_time": "2022-04-04T06:39:15.510Z"
   },
   {
    "duration": 135,
    "start_time": "2022-04-04T06:39:15.528Z"
   },
   {
    "duration": 58,
    "start_time": "2022-04-04T06:39:15.666Z"
   },
   {
    "duration": 71,
    "start_time": "2022-04-04T06:39:15.726Z"
   },
   {
    "duration": 8,
    "start_time": "2022-04-04T06:39:15.800Z"
   },
   {
    "duration": 14,
    "start_time": "2022-04-04T06:39:15.810Z"
   },
   {
    "duration": 9,
    "start_time": "2022-04-04T06:39:15.826Z"
   },
   {
    "duration": 132,
    "start_time": "2022-04-04T06:39:15.838Z"
   },
   {
    "duration": 139,
    "start_time": "2022-04-04T06:39:15.973Z"
   },
   {
    "duration": 77,
    "start_time": "2022-04-04T06:39:16.115Z"
   },
   {
    "duration": 64,
    "start_time": "2022-04-04T06:39:16.195Z"
   },
   {
    "duration": 96,
    "start_time": "2022-04-04T06:39:16.261Z"
   },
   {
    "duration": 98,
    "start_time": "2022-04-04T06:39:16.360Z"
   },
   {
    "duration": 80,
    "start_time": "2022-04-04T06:39:16.461Z"
   },
   {
    "duration": 156,
    "start_time": "2022-04-04T06:42:55.977Z"
   },
   {
    "duration": 1725,
    "start_time": "2022-04-04T06:43:24.602Z"
   },
   {
    "duration": 113,
    "start_time": "2022-04-04T06:43:26.330Z"
   },
   {
    "duration": 16,
    "start_time": "2022-04-04T06:43:26.445Z"
   },
   {
    "duration": 209,
    "start_time": "2022-04-04T06:43:26.464Z"
   },
   {
    "duration": 31,
    "start_time": "2022-04-04T06:43:26.683Z"
   },
   {
    "duration": 128,
    "start_time": "2022-04-04T06:43:26.717Z"
   },
   {
    "duration": 180,
    "start_time": "2022-04-04T06:43:26.848Z"
   },
   {
    "duration": 28,
    "start_time": "2022-04-04T06:43:27.030Z"
   },
   {
    "duration": 32,
    "start_time": "2022-04-04T06:43:27.061Z"
   },
   {
    "duration": 16,
    "start_time": "2022-04-04T06:43:27.096Z"
   },
   {
    "duration": 89,
    "start_time": "2022-04-04T06:43:27.115Z"
   },
   {
    "duration": 45,
    "start_time": "2022-04-04T06:43:27.207Z"
   },
   {
    "duration": 78,
    "start_time": "2022-04-04T06:43:27.254Z"
   },
   {
    "duration": 8,
    "start_time": "2022-04-04T06:43:27.335Z"
   },
   {
    "duration": 6,
    "start_time": "2022-04-04T06:43:27.345Z"
   },
   {
    "duration": 6,
    "start_time": "2022-04-04T06:43:27.382Z"
   },
   {
    "duration": 125,
    "start_time": "2022-04-04T06:43:27.390Z"
   },
   {
    "duration": 126,
    "start_time": "2022-04-04T06:43:27.518Z"
   },
   {
    "duration": 67,
    "start_time": "2022-04-04T06:43:27.647Z"
   },
   {
    "duration": 78,
    "start_time": "2022-04-04T06:43:27.716Z"
   },
   {
    "duration": 88,
    "start_time": "2022-04-04T06:43:27.796Z"
   },
   {
    "duration": 68,
    "start_time": "2022-04-04T06:43:27.887Z"
   },
   {
    "duration": 88,
    "start_time": "2022-04-04T06:43:27.957Z"
   },
   {
    "duration": 154,
    "start_time": "2022-04-04T06:44:34.902Z"
   },
   {
    "duration": 1394,
    "start_time": "2022-04-04T06:44:41.384Z"
   },
   {
    "duration": 103,
    "start_time": "2022-04-04T06:44:42.781Z"
   },
   {
    "duration": 16,
    "start_time": "2022-04-04T06:44:42.887Z"
   },
   {
    "duration": 219,
    "start_time": "2022-04-04T06:44:42.906Z"
   },
   {
    "duration": 33,
    "start_time": "2022-04-04T06:44:43.127Z"
   },
   {
    "duration": 166,
    "start_time": "2022-04-04T06:44:43.162Z"
   },
   {
    "duration": 200,
    "start_time": "2022-04-04T06:44:43.330Z"
   },
   {
    "duration": 30,
    "start_time": "2022-04-04T06:44:43.532Z"
   },
   {
    "duration": 27,
    "start_time": "2022-04-04T06:44:43.584Z"
   },
   {
    "duration": 16,
    "start_time": "2022-04-04T06:44:43.615Z"
   },
   {
    "duration": 106,
    "start_time": "2022-04-04T06:44:43.633Z"
   },
   {
    "duration": 69,
    "start_time": "2022-04-04T06:44:43.742Z"
   },
   {
    "duration": 71,
    "start_time": "2022-04-04T06:44:43.814Z"
   },
   {
    "duration": 17,
    "start_time": "2022-04-04T06:44:43.889Z"
   },
   {
    "duration": 14,
    "start_time": "2022-04-04T06:44:43.909Z"
   },
   {
    "duration": 6,
    "start_time": "2022-04-04T06:44:43.926Z"
   },
   {
    "duration": 145,
    "start_time": "2022-04-04T06:44:43.934Z"
   },
   {
    "duration": 154,
    "start_time": "2022-04-04T06:44:44.084Z"
   },
   {
    "duration": 74,
    "start_time": "2022-04-04T06:44:44.242Z"
   },
   {
    "duration": 92,
    "start_time": "2022-04-04T06:44:44.318Z"
   },
   {
    "duration": 104,
    "start_time": "2022-04-04T06:44:44.413Z"
   },
   {
    "duration": 106,
    "start_time": "2022-04-04T06:44:44.519Z"
   },
   {
    "duration": 68,
    "start_time": "2022-04-04T06:44:44.628Z"
   },
   {
    "duration": 61,
    "start_time": "2022-04-04T06:46:20.790Z"
   },
   {
    "duration": 980,
    "start_time": "2022-04-04T06:48:07.169Z"
   },
   {
    "duration": 55,
    "start_time": "2022-04-04T06:48:37.044Z"
   },
   {
    "duration": 47,
    "start_time": "2022-04-04T06:49:00.649Z"
   },
   {
    "duration": 42,
    "start_time": "2022-04-04T07:30:01.100Z"
   },
   {
    "duration": 32,
    "start_time": "2022-04-04T07:30:17.470Z"
   },
   {
    "duration": 16,
    "start_time": "2022-04-04T07:31:07.088Z"
   },
   {
    "duration": 43,
    "start_time": "2022-04-04T07:31:29.205Z"
   },
   {
    "duration": 51,
    "start_time": "2022-04-04T07:31:37.327Z"
   },
   {
    "duration": 67,
    "start_time": "2022-04-04T07:32:20.186Z"
   },
   {
    "duration": 62,
    "start_time": "2022-04-04T07:32:24.576Z"
   },
   {
    "duration": 24,
    "start_time": "2022-04-04T07:35:25.962Z"
   },
   {
    "duration": 25,
    "start_time": "2022-04-04T07:36:59.215Z"
   },
   {
    "duration": 25,
    "start_time": "2022-04-04T07:38:16.376Z"
   },
   {
    "duration": 49,
    "start_time": "2022-04-04T07:42:45.373Z"
   },
   {
    "duration": 635,
    "start_time": "2022-04-04T07:43:20.969Z"
   },
   {
    "duration": 629,
    "start_time": "2022-04-04T07:43:40.639Z"
   },
   {
    "duration": 57,
    "start_time": "2022-04-04T07:43:45.382Z"
   },
   {
    "duration": 63,
    "start_time": "2022-04-04T07:43:58.866Z"
   },
   {
    "duration": 51,
    "start_time": "2022-04-04T07:44:16.026Z"
   },
   {
    "duration": 36,
    "start_time": "2022-04-04T07:50:14.240Z"
   },
   {
    "duration": 46,
    "start_time": "2022-04-04T07:51:27.562Z"
   },
   {
    "duration": 48,
    "start_time": "2022-04-04T07:51:50.394Z"
   },
   {
    "duration": 37,
    "start_time": "2022-04-04T07:54:27.321Z"
   },
   {
    "duration": 35,
    "start_time": "2022-04-04T07:55:04.689Z"
   },
   {
    "duration": 34,
    "start_time": "2022-04-04T07:55:23.189Z"
   },
   {
    "duration": 35,
    "start_time": "2022-04-04T07:55:42.300Z"
   },
   {
    "duration": 139,
    "start_time": "2022-04-04T07:58:32.046Z"
   },
   {
    "duration": 2521,
    "start_time": "2022-04-04T07:59:43.285Z"
   },
   {
    "duration": 1426,
    "start_time": "2022-04-04T07:59:51.794Z"
   },
   {
    "duration": 99,
    "start_time": "2022-04-04T07:59:53.222Z"
   },
   {
    "duration": 26,
    "start_time": "2022-04-04T07:59:53.323Z"
   },
   {
    "duration": 254,
    "start_time": "2022-04-04T07:59:53.352Z"
   },
   {
    "duration": 36,
    "start_time": "2022-04-04T07:59:53.609Z"
   },
   {
    "duration": 182,
    "start_time": "2022-04-04T07:59:53.648Z"
   },
   {
    "duration": 202,
    "start_time": "2022-04-04T07:59:53.834Z"
   },
   {
    "duration": 55,
    "start_time": "2022-04-04T07:59:54.038Z"
   },
   {
    "duration": 24,
    "start_time": "2022-04-04T07:59:54.097Z"
   },
   {
    "duration": 19,
    "start_time": "2022-04-04T07:59:54.125Z"
   },
   {
    "duration": 101,
    "start_time": "2022-04-04T07:59:54.146Z"
   },
   {
    "duration": 80,
    "start_time": "2022-04-04T07:59:54.251Z"
   },
   {
    "duration": 80,
    "start_time": "2022-04-04T07:59:54.336Z"
   },
   {
    "duration": 11,
    "start_time": "2022-04-04T07:59:54.419Z"
   },
   {
    "duration": 18,
    "start_time": "2022-04-04T07:59:54.433Z"
   },
   {
    "duration": 29,
    "start_time": "2022-04-04T07:59:54.454Z"
   },
   {
    "duration": 73,
    "start_time": "2022-04-04T07:59:54.486Z"
   },
   {
    "duration": 2732,
    "start_time": "2022-04-04T07:59:54.562Z"
   },
   {
    "duration": 1,
    "start_time": "2022-04-04T07:59:57.297Z"
   },
   {
    "duration": 0,
    "start_time": "2022-04-04T07:59:57.300Z"
   },
   {
    "duration": 0,
    "start_time": "2022-04-04T07:59:57.303Z"
   },
   {
    "duration": 0,
    "start_time": "2022-04-04T07:59:57.305Z"
   },
   {
    "duration": 0,
    "start_time": "2022-04-04T07:59:57.307Z"
   },
   {
    "duration": 148,
    "start_time": "2022-04-04T08:12:39.888Z"
   },
   {
    "duration": 47,
    "start_time": "2022-04-04T08:13:01.708Z"
   },
   {
    "duration": 1389,
    "start_time": "2022-04-04T08:13:08.330Z"
   },
   {
    "duration": 97,
    "start_time": "2022-04-04T08:13:09.721Z"
   },
   {
    "duration": 17,
    "start_time": "2022-04-04T08:13:09.820Z"
   },
   {
    "duration": 220,
    "start_time": "2022-04-04T08:13:09.840Z"
   },
   {
    "duration": 42,
    "start_time": "2022-04-04T08:13:10.063Z"
   },
   {
    "duration": 127,
    "start_time": "2022-04-04T08:13:10.107Z"
   },
   {
    "duration": 179,
    "start_time": "2022-04-04T08:13:10.236Z"
   },
   {
    "duration": 30,
    "start_time": "2022-04-04T08:13:10.417Z"
   },
   {
    "duration": 36,
    "start_time": "2022-04-04T08:13:10.450Z"
   },
   {
    "duration": 18,
    "start_time": "2022-04-04T08:13:10.492Z"
   },
   {
    "duration": 93,
    "start_time": "2022-04-04T08:13:10.513Z"
   },
   {
    "duration": 47,
    "start_time": "2022-04-04T08:13:10.609Z"
   },
   {
    "duration": 72,
    "start_time": "2022-04-04T08:13:10.658Z"
   },
   {
    "duration": 10,
    "start_time": "2022-04-04T08:13:10.732Z"
   },
   {
    "duration": 39,
    "start_time": "2022-04-04T08:13:10.744Z"
   },
   {
    "duration": 7,
    "start_time": "2022-04-04T08:13:10.785Z"
   },
   {
    "duration": 44,
    "start_time": "2022-04-04T08:13:10.794Z"
   },
   {
    "duration": 217,
    "start_time": "2022-04-04T08:13:10.840Z"
   },
   {
    "duration": 0,
    "start_time": "2022-04-04T08:13:11.059Z"
   },
   {
    "duration": 0,
    "start_time": "2022-04-04T08:13:11.061Z"
   },
   {
    "duration": 0,
    "start_time": "2022-04-04T08:13:11.062Z"
   },
   {
    "duration": 0,
    "start_time": "2022-04-04T08:13:11.064Z"
   },
   {
    "duration": 0,
    "start_time": "2022-04-04T08:13:11.066Z"
   },
   {
    "duration": 1860,
    "start_time": "2022-04-04T08:13:28.642Z"
   },
   {
    "duration": 139,
    "start_time": "2022-04-04T08:13:30.506Z"
   },
   {
    "duration": 38,
    "start_time": "2022-04-04T08:13:30.648Z"
   },
   {
    "duration": 308,
    "start_time": "2022-04-04T08:13:30.691Z"
   },
   {
    "duration": 54,
    "start_time": "2022-04-04T08:13:31.002Z"
   },
   {
    "duration": 188,
    "start_time": "2022-04-04T08:13:31.059Z"
   },
   {
    "duration": 270,
    "start_time": "2022-04-04T08:13:31.249Z"
   },
   {
    "duration": 63,
    "start_time": "2022-04-04T08:13:31.522Z"
   },
   {
    "duration": 27,
    "start_time": "2022-04-04T08:13:31.588Z"
   },
   {
    "duration": 21,
    "start_time": "2022-04-04T08:13:31.621Z"
   },
   {
    "duration": 97,
    "start_time": "2022-04-04T08:13:31.646Z"
   },
   {
    "duration": 63,
    "start_time": "2022-04-04T08:13:31.745Z"
   },
   {
    "duration": 74,
    "start_time": "2022-04-04T08:13:31.811Z"
   },
   {
    "duration": 10,
    "start_time": "2022-04-04T08:13:31.888Z"
   },
   {
    "duration": 11,
    "start_time": "2022-04-04T08:13:31.901Z"
   },
   {
    "duration": 10,
    "start_time": "2022-04-04T08:13:31.915Z"
   },
   {
    "duration": 88,
    "start_time": "2022-04-04T08:13:31.927Z"
   },
   {
    "duration": 305,
    "start_time": "2022-04-04T08:13:32.019Z"
   },
   {
    "duration": 0,
    "start_time": "2022-04-04T08:13:32.327Z"
   },
   {
    "duration": 0,
    "start_time": "2022-04-04T08:13:32.330Z"
   },
   {
    "duration": 0,
    "start_time": "2022-04-04T08:13:32.331Z"
   },
   {
    "duration": 0,
    "start_time": "2022-04-04T08:13:32.334Z"
   },
   {
    "duration": 0,
    "start_time": "2022-04-04T08:13:32.337Z"
   },
   {
    "duration": 68,
    "start_time": "2022-04-04T08:14:07.476Z"
   },
   {
    "duration": 39,
    "start_time": "2022-04-04T08:15:34.871Z"
   },
   {
    "duration": 43,
    "start_time": "2022-04-04T08:16:35.086Z"
   },
   {
    "duration": 47,
    "start_time": "2022-04-04T08:16:44.058Z"
   },
   {
    "duration": 149,
    "start_time": "2022-04-04T08:18:12.910Z"
   },
   {
    "duration": 40,
    "start_time": "2022-04-04T08:18:52.526Z"
   },
   {
    "duration": 264,
    "start_time": "2022-04-04T08:19:07.169Z"
   },
   {
    "duration": 44,
    "start_time": "2022-04-04T08:19:59.144Z"
   },
   {
    "duration": 634,
    "start_time": "2022-04-04T08:41:26.624Z"
   },
   {
    "duration": 68,
    "start_time": "2022-04-04T08:41:48.475Z"
   },
   {
    "duration": 60,
    "start_time": "2022-04-04T08:42:42.682Z"
   },
   {
    "duration": 2455,
    "start_time": "2022-04-04T08:45:39.257Z"
   },
   {
    "duration": 1445,
    "start_time": "2022-04-04T08:45:47.316Z"
   },
   {
    "duration": 91,
    "start_time": "2022-04-04T08:45:48.764Z"
   },
   {
    "duration": 27,
    "start_time": "2022-04-04T08:45:48.858Z"
   },
   {
    "duration": 317,
    "start_time": "2022-04-04T08:45:48.889Z"
   },
   {
    "duration": 43,
    "start_time": "2022-04-04T08:45:49.209Z"
   },
   {
    "duration": 169,
    "start_time": "2022-04-04T08:45:49.254Z"
   },
   {
    "duration": 222,
    "start_time": "2022-04-04T08:45:49.426Z"
   },
   {
    "duration": 51,
    "start_time": "2022-04-04T08:45:49.651Z"
   },
   {
    "duration": 20,
    "start_time": "2022-04-04T08:45:49.704Z"
   },
   {
    "duration": 16,
    "start_time": "2022-04-04T08:45:49.730Z"
   },
   {
    "duration": 96,
    "start_time": "2022-04-04T08:45:49.749Z"
   },
   {
    "duration": 61,
    "start_time": "2022-04-04T08:45:49.848Z"
   },
   {
    "duration": 71,
    "start_time": "2022-04-04T08:45:49.912Z"
   },
   {
    "duration": 9,
    "start_time": "2022-04-04T08:45:49.985Z"
   },
   {
    "duration": 9,
    "start_time": "2022-04-04T08:45:49.996Z"
   },
   {
    "duration": 9,
    "start_time": "2022-04-04T08:45:50.007Z"
   },
   {
    "duration": 88,
    "start_time": "2022-04-04T08:45:50.019Z"
   },
   {
    "duration": 40,
    "start_time": "2022-04-04T08:45:50.109Z"
   },
   {
    "duration": 48,
    "start_time": "2022-04-04T08:45:50.152Z"
   },
   {
    "duration": 26,
    "start_time": "2022-04-04T08:45:50.203Z"
   },
   {
    "duration": 71,
    "start_time": "2022-04-04T08:45:50.231Z"
   },
   {
    "duration": 33,
    "start_time": "2022-04-04T08:45:50.304Z"
   },
   {
    "duration": 2540,
    "start_time": "2022-04-04T08:45:50.339Z"
   },
   {
    "duration": 54,
    "start_time": "2022-04-04T08:46:28.080Z"
   },
   {
    "duration": 59,
    "start_time": "2022-04-04T08:47:29.758Z"
   },
   {
    "duration": 47,
    "start_time": "2022-04-04T08:48:28.316Z"
   },
   {
    "duration": 35,
    "start_time": "2022-04-04T08:49:23.774Z"
   },
   {
    "duration": 6,
    "start_time": "2022-04-04T08:50:13.632Z"
   },
   {
    "duration": 1335,
    "start_time": "2022-04-04T08:50:35.896Z"
   },
   {
    "duration": 109,
    "start_time": "2022-04-04T08:50:37.233Z"
   },
   {
    "duration": 165,
    "start_time": "2022-04-04T08:50:37.344Z"
   },
   {
    "duration": 0,
    "start_time": "2022-04-04T08:50:37.514Z"
   },
   {
    "duration": 0,
    "start_time": "2022-04-04T08:50:37.516Z"
   },
   {
    "duration": 0,
    "start_time": "2022-04-04T08:50:37.518Z"
   },
   {
    "duration": 0,
    "start_time": "2022-04-04T08:50:37.521Z"
   },
   {
    "duration": 0,
    "start_time": "2022-04-04T08:50:37.523Z"
   },
   {
    "duration": 0,
    "start_time": "2022-04-04T08:50:37.525Z"
   },
   {
    "duration": 0,
    "start_time": "2022-04-04T08:50:37.527Z"
   },
   {
    "duration": 0,
    "start_time": "2022-04-04T08:50:37.528Z"
   },
   {
    "duration": 0,
    "start_time": "2022-04-04T08:50:37.530Z"
   },
   {
    "duration": 0,
    "start_time": "2022-04-04T08:50:37.531Z"
   },
   {
    "duration": 0,
    "start_time": "2022-04-04T08:50:37.533Z"
   },
   {
    "duration": 0,
    "start_time": "2022-04-04T08:50:37.534Z"
   },
   {
    "duration": 0,
    "start_time": "2022-04-04T08:50:37.536Z"
   },
   {
    "duration": 0,
    "start_time": "2022-04-04T08:50:37.537Z"
   },
   {
    "duration": 0,
    "start_time": "2022-04-04T08:50:37.539Z"
   },
   {
    "duration": 0,
    "start_time": "2022-04-04T08:50:37.540Z"
   },
   {
    "duration": 0,
    "start_time": "2022-04-04T08:50:37.583Z"
   },
   {
    "duration": 0,
    "start_time": "2022-04-04T08:50:37.585Z"
   },
   {
    "duration": 0,
    "start_time": "2022-04-04T08:50:37.588Z"
   },
   {
    "duration": 0,
    "start_time": "2022-04-04T08:50:37.590Z"
   },
   {
    "duration": 0,
    "start_time": "2022-04-04T08:50:37.593Z"
   },
   {
    "duration": 7,
    "start_time": "2022-04-04T08:50:54.836Z"
   },
   {
    "duration": 1412,
    "start_time": "2022-04-04T08:51:03.579Z"
   },
   {
    "duration": 91,
    "start_time": "2022-04-04T08:51:04.997Z"
   },
   {
    "duration": 9,
    "start_time": "2022-04-04T08:51:05.092Z"
   },
   {
    "duration": 19,
    "start_time": "2022-04-04T08:51:05.105Z"
   },
   {
    "duration": 243,
    "start_time": "2022-04-04T08:51:05.127Z"
   },
   {
    "duration": 43,
    "start_time": "2022-04-04T08:51:05.372Z"
   },
   {
    "duration": 133,
    "start_time": "2022-04-04T08:51:05.417Z"
   },
   {
    "duration": 185,
    "start_time": "2022-04-04T08:51:05.552Z"
   },
   {
    "duration": 28,
    "start_time": "2022-04-04T08:51:05.739Z"
   },
   {
    "duration": 35,
    "start_time": "2022-04-04T08:51:05.771Z"
   },
   {
    "duration": 15,
    "start_time": "2022-04-04T08:51:05.808Z"
   },
   {
    "duration": 99,
    "start_time": "2022-04-04T08:51:05.825Z"
   },
   {
    "duration": 43,
    "start_time": "2022-04-04T08:51:05.926Z"
   },
   {
    "duration": 56,
    "start_time": "2022-04-04T08:51:05.987Z"
   },
   {
    "duration": 8,
    "start_time": "2022-04-04T08:51:06.046Z"
   },
   {
    "duration": 31,
    "start_time": "2022-04-04T08:51:06.057Z"
   },
   {
    "duration": 17,
    "start_time": "2022-04-04T08:51:06.092Z"
   },
   {
    "duration": 45,
    "start_time": "2022-04-04T08:51:06.112Z"
   },
   {
    "duration": 68,
    "start_time": "2022-04-04T08:51:06.160Z"
   },
   {
    "duration": 54,
    "start_time": "2022-04-04T08:51:06.230Z"
   },
   {
    "duration": 30,
    "start_time": "2022-04-04T08:51:06.289Z"
   },
   {
    "duration": 33,
    "start_time": "2022-04-04T08:51:06.321Z"
   },
   {
    "duration": 61,
    "start_time": "2022-04-04T08:51:06.356Z"
   },
   {
    "duration": 27,
    "start_time": "2022-04-04T08:51:06.419Z"
   },
   {
    "duration": 7,
    "start_time": "2022-04-04T08:53:27.094Z"
   },
   {
    "duration": 54,
    "start_time": "2022-04-04T08:55:06.146Z"
   },
   {
    "duration": 61,
    "start_time": "2022-04-04T09:02:03.354Z"
   },
   {
    "duration": 31,
    "start_time": "2022-04-04T09:07:21.846Z"
   },
   {
    "duration": 33,
    "start_time": "2022-04-04T09:07:36.524Z"
   },
   {
    "duration": 25,
    "start_time": "2022-04-04T09:07:44.032Z"
   },
   {
    "duration": 30,
    "start_time": "2022-04-04T09:07:51.748Z"
   },
   {
    "duration": 93,
    "start_time": "2022-04-04T09:08:00.467Z"
   },
   {
    "duration": 45,
    "start_time": "2022-04-04T09:08:09.228Z"
   },
   {
    "duration": 36,
    "start_time": "2022-04-04T09:08:15.022Z"
   },
   {
    "duration": 58,
    "start_time": "2022-04-04T09:08:19.096Z"
   },
   {
    "duration": 50,
    "start_time": "2022-04-04T09:08:25.804Z"
   },
   {
    "duration": 195,
    "start_time": "2022-04-04T09:08:45.824Z"
   },
   {
    "duration": 114,
    "start_time": "2022-04-04T09:08:50.530Z"
   },
   {
    "duration": 205,
    "start_time": "2022-04-04T09:08:55.424Z"
   },
   {
    "duration": 37,
    "start_time": "2022-04-04T09:09:01.584Z"
   },
   {
    "duration": 172,
    "start_time": "2022-04-04T10:37:57.698Z"
   },
   {
    "duration": 1459,
    "start_time": "2022-04-04T10:38:25.196Z"
   },
   {
    "duration": 100,
    "start_time": "2022-04-04T10:38:26.658Z"
   },
   {
    "duration": 42,
    "start_time": "2022-04-04T10:38:26.761Z"
   },
   {
    "duration": 104,
    "start_time": "2022-04-04T10:38:26.807Z"
   },
   {
    "duration": 238,
    "start_time": "2022-04-04T10:38:26.913Z"
   },
   {
    "duration": 48,
    "start_time": "2022-04-04T10:38:27.153Z"
   },
   {
    "duration": 161,
    "start_time": "2022-04-04T10:38:27.203Z"
   },
   {
    "duration": 199,
    "start_time": "2022-04-04T10:38:27.366Z"
   },
   {
    "duration": 47,
    "start_time": "2022-04-04T10:38:27.568Z"
   },
   {
    "duration": 34,
    "start_time": "2022-04-04T10:38:27.621Z"
   },
   {
    "duration": 47,
    "start_time": "2022-04-04T10:38:27.658Z"
   },
   {
    "duration": 190,
    "start_time": "2022-04-04T10:38:27.708Z"
   },
   {
    "duration": 209,
    "start_time": "2022-04-04T10:38:27.901Z"
   },
   {
    "duration": 136,
    "start_time": "2022-04-04T10:38:28.112Z"
   },
   {
    "duration": 9,
    "start_time": "2022-04-04T10:38:28.250Z"
   },
   {
    "duration": 19,
    "start_time": "2022-04-04T10:38:28.260Z"
   },
   {
    "duration": 25,
    "start_time": "2022-04-04T10:38:28.281Z"
   },
   {
    "duration": 55,
    "start_time": "2022-04-04T10:38:28.310Z"
   },
   {
    "duration": 47,
    "start_time": "2022-04-04T10:38:28.367Z"
   },
   {
    "duration": 28,
    "start_time": "2022-04-04T10:38:28.417Z"
   },
   {
    "duration": 55,
    "start_time": "2022-04-04T10:38:28.448Z"
   },
   {
    "duration": 34,
    "start_time": "2022-04-04T10:38:28.505Z"
   },
   {
    "duration": 55,
    "start_time": "2022-04-04T10:38:28.541Z"
   },
   {
    "duration": 57,
    "start_time": "2022-04-04T10:38:28.598Z"
   },
   {
    "duration": 147,
    "start_time": "2022-04-04T10:38:28.658Z"
   },
   {
    "duration": 149,
    "start_time": "2022-04-04T10:38:38.028Z"
   },
   {
    "duration": 136,
    "start_time": "2022-04-04T10:39:02.742Z"
   },
   {
    "duration": 168,
    "start_time": "2022-04-04T10:39:30.277Z"
   },
   {
    "duration": 216,
    "start_time": "2022-04-04T10:39:48.504Z"
   },
   {
    "duration": 22,
    "start_time": "2022-04-04T11:34:41.657Z"
   },
   {
    "duration": 1306,
    "start_time": "2022-04-04T11:35:15.659Z"
   },
   {
    "duration": 91,
    "start_time": "2022-04-04T11:35:16.967Z"
   },
   {
    "duration": 6,
    "start_time": "2022-04-04T11:35:17.061Z"
   },
   {
    "duration": 17,
    "start_time": "2022-04-04T11:35:17.083Z"
   },
   {
    "duration": 209,
    "start_time": "2022-04-04T11:35:17.102Z"
   },
   {
    "duration": 32,
    "start_time": "2022-04-04T11:35:17.313Z"
   },
   {
    "duration": 125,
    "start_time": "2022-04-04T11:35:17.347Z"
   },
   {
    "duration": 163,
    "start_time": "2022-04-04T11:35:17.474Z"
   },
   {
    "duration": 45,
    "start_time": "2022-04-04T11:35:17.640Z"
   },
   {
    "duration": 19,
    "start_time": "2022-04-04T11:35:17.691Z"
   },
   {
    "duration": 17,
    "start_time": "2022-04-04T11:35:17.712Z"
   },
   {
    "duration": 96,
    "start_time": "2022-04-04T11:35:17.732Z"
   },
   {
    "duration": 57,
    "start_time": "2022-04-04T11:35:17.831Z"
   },
   {
    "duration": 53,
    "start_time": "2022-04-04T11:35:17.891Z"
   },
   {
    "duration": 36,
    "start_time": "2022-04-04T11:35:17.947Z"
   },
   {
    "duration": 7,
    "start_time": "2022-04-04T11:35:17.986Z"
   },
   {
    "duration": 10,
    "start_time": "2022-04-04T11:35:17.996Z"
   },
   {
    "duration": 42,
    "start_time": "2022-04-04T11:35:18.009Z"
   },
   {
    "duration": 39,
    "start_time": "2022-04-04T11:35:18.082Z"
   },
   {
    "duration": 28,
    "start_time": "2022-04-04T11:35:18.123Z"
   },
   {
    "duration": 26,
    "start_time": "2022-04-04T11:35:18.181Z"
   },
   {
    "duration": 31,
    "start_time": "2022-04-04T11:35:18.209Z"
   },
   {
    "duration": 57,
    "start_time": "2022-04-04T11:35:18.242Z"
   },
   {
    "duration": 54,
    "start_time": "2022-04-04T11:35:18.301Z"
   },
   {
    "duration": 231,
    "start_time": "2022-04-04T11:35:18.357Z"
   },
   {
    "duration": 142,
    "start_time": "2022-04-04T11:35:18.590Z"
   },
   {
    "duration": 19,
    "start_time": "2022-04-04T11:37:07.252Z"
   },
   {
    "duration": 33,
    "start_time": "2022-04-04T11:40:37.978Z"
   },
   {
    "duration": 182,
    "start_time": "2022-04-04T11:46:48.562Z"
   },
   {
    "duration": 95,
    "start_time": "2022-04-04T11:46:56.538Z"
   },
   {
    "duration": 36,
    "start_time": "2022-04-04T11:47:47.091Z"
   },
   {
    "duration": 39,
    "start_time": "2022-04-04T11:48:24.877Z"
   },
   {
    "duration": 29,
    "start_time": "2022-04-04T11:48:35.085Z"
   },
   {
    "duration": 87,
    "start_time": "2022-04-04T11:51:13.539Z"
   },
   {
    "duration": 185,
    "start_time": "2022-04-04T11:54:33.548Z"
   },
   {
    "duration": 32,
    "start_time": "2022-04-04T11:58:17.984Z"
   },
   {
    "duration": 368,
    "start_time": "2022-04-04T12:00:03.249Z"
   },
   {
    "duration": 150,
    "start_time": "2022-04-04T12:01:25.761Z"
   },
   {
    "duration": 171,
    "start_time": "2022-04-04T12:01:31.649Z"
   },
   {
    "duration": 307,
    "start_time": "2022-04-04T12:04:18.934Z"
   },
   {
    "duration": 197,
    "start_time": "2022-04-04T12:04:41.813Z"
   },
   {
    "duration": 50,
    "start_time": "2022-04-04T12:10:40.810Z"
   },
   {
    "duration": 112,
    "start_time": "2022-04-04T12:11:29.246Z"
   },
   {
    "duration": 22,
    "start_time": "2022-04-04T12:12:45.345Z"
   },
   {
    "duration": 85,
    "start_time": "2022-04-04T12:15:37.237Z"
   },
   {
    "duration": 5,
    "start_time": "2022-04-04T13:57:41.453Z"
   },
   {
    "duration": 7,
    "start_time": "2022-04-04T13:57:52.965Z"
   },
   {
    "duration": 11,
    "start_time": "2022-04-04T14:20:24.496Z"
   },
   {
    "duration": 12,
    "start_time": "2022-04-04T14:20:58.070Z"
   },
   {
    "duration": 11,
    "start_time": "2022-04-04T14:28:40.857Z"
   },
   {
    "duration": 9,
    "start_time": "2022-04-04T14:28:58.779Z"
   },
   {
    "duration": 22,
    "start_time": "2022-04-04T17:28:32.210Z"
   },
   {
    "duration": 1955,
    "start_time": "2022-04-04T17:28:40.210Z"
   },
   {
    "duration": 48,
    "start_time": "2022-04-04T17:28:42.169Z"
   },
   {
    "duration": 6,
    "start_time": "2022-04-04T17:28:42.220Z"
   },
   {
    "duration": 49,
    "start_time": "2022-04-04T17:28:42.228Z"
   },
   {
    "duration": 202,
    "start_time": "2022-04-04T17:28:42.280Z"
   },
   {
    "duration": 32,
    "start_time": "2022-04-04T17:28:42.485Z"
   },
   {
    "duration": 130,
    "start_time": "2022-04-04T17:28:42.520Z"
   },
   {
    "duration": 166,
    "start_time": "2022-04-04T17:28:42.652Z"
   },
   {
    "duration": 28,
    "start_time": "2022-04-04T17:28:42.820Z"
   },
   {
    "duration": 38,
    "start_time": "2022-04-04T17:28:42.853Z"
   },
   {
    "duration": 15,
    "start_time": "2022-04-04T17:28:42.893Z"
   },
   {
    "duration": 83,
    "start_time": "2022-04-04T17:28:42.910Z"
   },
   {
    "duration": 44,
    "start_time": "2022-04-04T17:28:42.995Z"
   },
   {
    "duration": 71,
    "start_time": "2022-04-04T17:28:43.041Z"
   },
   {
    "duration": 8,
    "start_time": "2022-04-04T17:28:43.114Z"
   },
   {
    "duration": 14,
    "start_time": "2022-04-04T17:28:43.125Z"
   },
   {
    "duration": 12,
    "start_time": "2022-04-04T17:28:43.141Z"
   },
   {
    "duration": 64,
    "start_time": "2022-04-04T17:28:43.156Z"
   },
   {
    "duration": 61,
    "start_time": "2022-04-04T17:28:43.222Z"
   },
   {
    "duration": 27,
    "start_time": "2022-04-04T17:28:43.286Z"
   },
   {
    "duration": 29,
    "start_time": "2022-04-04T17:28:43.314Z"
   },
   {
    "duration": 65,
    "start_time": "2022-04-04T17:28:43.345Z"
   },
   {
    "duration": 30,
    "start_time": "2022-04-04T17:28:43.412Z"
   },
   {
    "duration": 85,
    "start_time": "2022-04-04T17:28:43.444Z"
   },
   {
    "duration": 264,
    "start_time": "2022-04-04T17:28:43.532Z"
   },
   {
    "duration": 87,
    "start_time": "2022-04-04T17:28:43.798Z"
   },
   {
    "duration": 9,
    "start_time": "2022-04-04T17:28:43.888Z"
   },
   {
    "duration": 93,
    "start_time": "2022-04-04T17:28:43.901Z"
   },
   {
    "duration": 70,
    "start_time": "2022-04-04T17:28:43.997Z"
   },
   {
    "duration": 1702,
    "start_time": "2022-04-04T17:30:42.139Z"
   },
   {
    "duration": 53,
    "start_time": "2022-04-04T17:30:43.845Z"
   },
   {
    "duration": 7,
    "start_time": "2022-04-04T17:30:43.901Z"
   },
   {
    "duration": 30,
    "start_time": "2022-04-04T17:30:43.911Z"
   },
   {
    "duration": 240,
    "start_time": "2022-04-04T17:30:43.946Z"
   },
   {
    "duration": 40,
    "start_time": "2022-04-04T17:30:44.189Z"
   },
   {
    "duration": 185,
    "start_time": "2022-04-04T17:30:44.238Z"
   },
   {
    "duration": 272,
    "start_time": "2022-04-04T17:30:44.426Z"
   },
   {
    "duration": 48,
    "start_time": "2022-04-04T17:30:44.702Z"
   },
   {
    "duration": 43,
    "start_time": "2022-04-04T17:30:44.753Z"
   },
   {
    "duration": 17,
    "start_time": "2022-04-04T17:30:44.799Z"
   },
   {
    "duration": 105,
    "start_time": "2022-04-04T17:30:44.818Z"
   },
   {
    "duration": 66,
    "start_time": "2022-04-04T17:30:44.928Z"
   },
   {
    "duration": 108,
    "start_time": "2022-04-04T17:30:45.002Z"
   },
   {
    "duration": 13,
    "start_time": "2022-04-04T17:30:45.114Z"
   },
   {
    "duration": 13,
    "start_time": "2022-04-04T17:30:45.130Z"
   },
   {
    "duration": 40,
    "start_time": "2022-04-04T17:30:45.146Z"
   },
   {
    "duration": 71,
    "start_time": "2022-04-04T17:30:45.189Z"
   },
   {
    "duration": 53,
    "start_time": "2022-04-04T17:30:45.263Z"
   },
   {
    "duration": 29,
    "start_time": "2022-04-04T17:30:45.319Z"
   },
   {
    "duration": 52,
    "start_time": "2022-04-04T17:30:45.351Z"
   },
   {
    "duration": 33,
    "start_time": "2022-04-04T17:30:45.406Z"
   },
   {
    "duration": 61,
    "start_time": "2022-04-04T17:30:45.442Z"
   },
   {
    "duration": 85,
    "start_time": "2022-04-04T17:30:45.506Z"
   },
   {
    "duration": 255,
    "start_time": "2022-04-04T17:30:45.593Z"
   },
   {
    "duration": 125,
    "start_time": "2022-04-04T17:30:45.851Z"
   },
   {
    "duration": 9,
    "start_time": "2022-04-04T17:30:45.985Z"
   },
   {
    "duration": 125,
    "start_time": "2022-04-04T17:30:45.998Z"
   },
   {
    "duration": 90,
    "start_time": "2022-04-04T17:30:46.126Z"
   },
   {
    "duration": 2055,
    "start_time": "2022-04-04T17:31:48.019Z"
   },
   {
    "duration": 42,
    "start_time": "2022-04-04T17:31:50.076Z"
   },
   {
    "duration": 6,
    "start_time": "2022-04-04T17:31:50.120Z"
   },
   {
    "duration": 23,
    "start_time": "2022-04-04T17:31:50.129Z"
   },
   {
    "duration": 211,
    "start_time": "2022-04-04T17:31:50.182Z"
   },
   {
    "duration": 35,
    "start_time": "2022-04-04T17:31:50.397Z"
   },
   {
    "duration": 147,
    "start_time": "2022-04-04T17:31:50.435Z"
   },
   {
    "duration": 182,
    "start_time": "2022-04-04T17:31:50.584Z"
   },
   {
    "duration": 40,
    "start_time": "2022-04-04T17:31:50.769Z"
   },
   {
    "duration": 26,
    "start_time": "2022-04-04T17:31:50.815Z"
   },
   {
    "duration": 40,
    "start_time": "2022-04-04T17:31:50.844Z"
   },
   {
    "duration": 72,
    "start_time": "2022-04-04T17:31:50.887Z"
   },
   {
    "duration": 58,
    "start_time": "2022-04-04T17:31:50.961Z"
   },
   {
    "duration": 112,
    "start_time": "2022-04-04T17:31:51.023Z"
   },
   {
    "duration": 12,
    "start_time": "2022-04-04T17:31:51.138Z"
   },
   {
    "duration": 33,
    "start_time": "2022-04-04T17:31:51.153Z"
   },
   {
    "duration": 7,
    "start_time": "2022-04-04T17:31:51.188Z"
   },
   {
    "duration": 45,
    "start_time": "2022-04-04T17:31:51.198Z"
   },
   {
    "duration": 73,
    "start_time": "2022-04-04T17:31:51.246Z"
   },
   {
    "duration": 38,
    "start_time": "2022-04-04T17:31:51.322Z"
   },
   {
    "duration": 37,
    "start_time": "2022-04-04T17:31:51.384Z"
   },
   {
    "duration": 61,
    "start_time": "2022-04-04T17:31:51.423Z"
   },
   {
    "duration": 31,
    "start_time": "2022-04-04T17:31:51.487Z"
   },
   {
    "duration": 84,
    "start_time": "2022-04-04T17:31:51.521Z"
   },
   {
    "duration": 276,
    "start_time": "2022-04-04T17:31:51.608Z"
   },
   {
    "duration": 78,
    "start_time": "2022-04-04T17:31:51.887Z"
   },
   {
    "duration": 13,
    "start_time": "2022-04-04T17:31:51.981Z"
   },
   {
    "duration": 103,
    "start_time": "2022-04-04T17:31:51.999Z"
   },
   {
    "duration": 130,
    "start_time": "2022-04-04T17:31:52.105Z"
   },
   {
    "duration": 1583,
    "start_time": "2022-04-04T17:33:18.427Z"
   },
   {
    "duration": 42,
    "start_time": "2022-04-04T17:33:20.013Z"
   },
   {
    "duration": 6,
    "start_time": "2022-04-04T17:33:20.057Z"
   },
   {
    "duration": 42,
    "start_time": "2022-04-04T17:33:20.066Z"
   },
   {
    "duration": 327,
    "start_time": "2022-04-04T17:33:20.111Z"
   },
   {
    "duration": 54,
    "start_time": "2022-04-04T17:33:20.440Z"
   },
   {
    "duration": 138,
    "start_time": "2022-04-04T17:33:20.496Z"
   },
   {
    "duration": 186,
    "start_time": "2022-04-04T17:33:20.637Z"
   },
   {
    "duration": 30,
    "start_time": "2022-04-04T17:33:20.825Z"
   },
   {
    "duration": 35,
    "start_time": "2022-04-04T17:33:20.859Z"
   },
   {
    "duration": 17,
    "start_time": "2022-04-04T17:33:20.896Z"
   },
   {
    "duration": 130,
    "start_time": "2022-04-04T17:33:20.916Z"
   },
   {
    "duration": 58,
    "start_time": "2022-04-04T17:33:21.048Z"
   },
   {
    "duration": 56,
    "start_time": "2022-04-04T17:33:21.109Z"
   },
   {
    "duration": 10,
    "start_time": "2022-04-04T17:33:21.182Z"
   },
   {
    "duration": 10,
    "start_time": "2022-04-04T17:33:21.195Z"
   },
   {
    "duration": 12,
    "start_time": "2022-04-04T17:33:21.208Z"
   },
   {
    "duration": 74,
    "start_time": "2022-04-04T17:33:21.223Z"
   },
   {
    "duration": 40,
    "start_time": "2022-04-04T17:33:21.299Z"
   },
   {
    "duration": 52,
    "start_time": "2022-04-04T17:33:21.341Z"
   },
   {
    "duration": 28,
    "start_time": "2022-04-04T17:33:21.396Z"
   },
   {
    "duration": 62,
    "start_time": "2022-04-04T17:33:21.426Z"
   },
   {
    "duration": 33,
    "start_time": "2022-04-04T17:33:21.490Z"
   },
   {
    "duration": 82,
    "start_time": "2022-04-04T17:33:21.525Z"
   },
   {
    "duration": 247,
    "start_time": "2022-04-04T17:33:21.610Z"
   },
   {
    "duration": 354,
    "start_time": "2022-04-04T17:33:21.859Z"
   },
   {
    "duration": 9,
    "start_time": "2022-04-04T17:33:22.215Z"
   },
   {
    "duration": 97,
    "start_time": "2022-04-04T17:33:22.229Z"
   },
   {
    "duration": 93,
    "start_time": "2022-04-04T17:33:22.329Z"
   },
   {
    "duration": 1694,
    "start_time": "2022-04-04T17:36:46.083Z"
   },
   {
    "duration": 42,
    "start_time": "2022-04-04T17:36:47.780Z"
   },
   {
    "duration": 7,
    "start_time": "2022-04-04T17:36:47.824Z"
   },
   {
    "duration": 22,
    "start_time": "2022-04-04T17:36:47.834Z"
   },
   {
    "duration": 247,
    "start_time": "2022-04-04T17:36:47.859Z"
   },
   {
    "duration": 36,
    "start_time": "2022-04-04T17:36:48.108Z"
   },
   {
    "duration": 160,
    "start_time": "2022-04-04T17:36:48.147Z"
   },
   {
    "duration": 195,
    "start_time": "2022-04-04T17:36:48.309Z"
   },
   {
    "duration": 33,
    "start_time": "2022-04-04T17:36:48.506Z"
   },
   {
    "duration": 51,
    "start_time": "2022-04-04T17:36:48.545Z"
   },
   {
    "duration": 15,
    "start_time": "2022-04-04T17:36:48.599Z"
   },
   {
    "duration": 90,
    "start_time": "2022-04-04T17:36:48.616Z"
   },
   {
    "duration": 44,
    "start_time": "2022-04-04T17:36:48.708Z"
   },
   {
    "duration": 96,
    "start_time": "2022-04-04T17:36:48.754Z"
   },
   {
    "duration": 11,
    "start_time": "2022-04-04T17:36:48.854Z"
   },
   {
    "duration": 8,
    "start_time": "2022-04-04T17:36:48.887Z"
   },
   {
    "duration": 15,
    "start_time": "2022-04-04T17:36:48.898Z"
   },
   {
    "duration": 57,
    "start_time": "2022-04-04T17:36:48.915Z"
   },
   {
    "duration": 49,
    "start_time": "2022-04-04T17:36:48.983Z"
   },
   {
    "duration": 58,
    "start_time": "2022-04-04T17:36:49.034Z"
   },
   {
    "duration": 33,
    "start_time": "2022-04-04T17:36:49.095Z"
   },
   {
    "duration": 56,
    "start_time": "2022-04-04T17:36:49.130Z"
   },
   {
    "duration": 38,
    "start_time": "2022-04-04T17:36:49.189Z"
   },
   {
    "duration": 109,
    "start_time": "2022-04-04T17:36:49.230Z"
   },
   {
    "duration": 255,
    "start_time": "2022-04-04T17:36:49.342Z"
   },
   {
    "duration": 85,
    "start_time": "2022-04-04T17:36:49.599Z"
   },
   {
    "duration": 16,
    "start_time": "2022-04-04T17:36:49.687Z"
   },
   {
    "duration": 109,
    "start_time": "2022-04-04T17:36:49.710Z"
   },
   {
    "duration": 97,
    "start_time": "2022-04-04T17:36:49.822Z"
   },
   {
    "duration": 176,
    "start_time": "2022-04-04T17:36:49.923Z"
   },
   {
    "duration": 21,
    "start_time": "2022-04-04T17:37:16.969Z"
   },
   {
    "duration": 32,
    "start_time": "2022-04-04T17:37:34.069Z"
   },
   {
    "duration": 679,
    "start_time": "2022-04-04T17:49:23.434Z"
   },
   {
    "duration": 666,
    "start_time": "2022-04-04T17:52:59.368Z"
   },
   {
    "duration": 663,
    "start_time": "2022-04-04T17:53:08.040Z"
   },
   {
    "duration": 702,
    "start_time": "2022-04-04T17:53:17.216Z"
   },
   {
    "duration": 662,
    "start_time": "2022-04-04T17:54:51.174Z"
   },
   {
    "duration": 721,
    "start_time": "2022-04-04T17:56:02.598Z"
   },
   {
    "duration": 755,
    "start_time": "2022-04-04T17:56:09.565Z"
   },
   {
    "duration": 133,
    "start_time": "2022-04-04T17:56:19.876Z"
   },
   {
    "duration": 722,
    "start_time": "2022-04-04T17:56:50.287Z"
   },
   {
    "duration": 743,
    "start_time": "2022-04-04T17:56:59.198Z"
   },
   {
    "duration": 697,
    "start_time": "2022-04-04T17:57:10.376Z"
   },
   {
    "duration": 729,
    "start_time": "2022-04-04T17:59:34.299Z"
   },
   {
    "duration": 690,
    "start_time": "2022-04-04T18:00:38.131Z"
   },
   {
    "duration": 685,
    "start_time": "2022-04-04T18:00:53.488Z"
   },
   {
    "duration": 686,
    "start_time": "2022-04-04T18:01:48.623Z"
   },
   {
    "duration": 633,
    "start_time": "2022-04-04T18:01:57.851Z"
   },
   {
    "duration": 679,
    "start_time": "2022-04-04T18:02:13.898Z"
   },
   {
    "duration": 727,
    "start_time": "2022-04-04T18:14:54.204Z"
   },
   {
    "duration": 689,
    "start_time": "2022-04-04T18:15:04.744Z"
   },
   {
    "duration": 72,
    "start_time": "2022-04-05T12:07:27.126Z"
   },
   {
    "duration": 1688,
    "start_time": "2022-04-05T12:07:45.899Z"
   },
   {
    "duration": 35,
    "start_time": "2022-04-05T12:07:47.590Z"
   },
   {
    "duration": 6,
    "start_time": "2022-04-05T12:07:47.627Z"
   },
   {
    "duration": 16,
    "start_time": "2022-04-05T12:07:47.636Z"
   },
   {
    "duration": 209,
    "start_time": "2022-04-05T12:07:47.675Z"
   },
   {
    "duration": 35,
    "start_time": "2022-04-05T12:07:47.886Z"
   },
   {
    "duration": 129,
    "start_time": "2022-04-05T12:07:47.923Z"
   },
   {
    "duration": 175,
    "start_time": "2022-04-05T12:07:48.054Z"
   },
   {
    "duration": 29,
    "start_time": "2022-04-05T12:07:48.232Z"
   },
   {
    "duration": 18,
    "start_time": "2022-04-05T12:07:48.276Z"
   },
   {
    "duration": 15,
    "start_time": "2022-04-05T12:07:48.297Z"
   },
   {
    "duration": 87,
    "start_time": "2022-04-05T12:07:48.314Z"
   },
   {
    "duration": 47,
    "start_time": "2022-04-05T12:07:48.403Z"
   },
   {
    "duration": 70,
    "start_time": "2022-04-05T12:07:48.453Z"
   },
   {
    "duration": 9,
    "start_time": "2022-04-05T12:07:48.525Z"
   },
   {
    "duration": 20,
    "start_time": "2022-04-05T12:07:48.536Z"
   },
   {
    "duration": 18,
    "start_time": "2022-04-05T12:07:48.559Z"
   },
   {
    "duration": 56,
    "start_time": "2022-04-05T12:07:48.579Z"
   },
   {
    "duration": 51,
    "start_time": "2022-04-05T12:07:48.637Z"
   },
   {
    "duration": 27,
    "start_time": "2022-04-05T12:07:48.690Z"
   },
   {
    "duration": 26,
    "start_time": "2022-04-05T12:07:48.719Z"
   },
   {
    "duration": 58,
    "start_time": "2022-04-05T12:07:48.747Z"
   },
   {
    "duration": 29,
    "start_time": "2022-04-05T12:07:48.807Z"
   },
   {
    "duration": 80,
    "start_time": "2022-04-05T12:07:48.838Z"
   },
   {
    "duration": 237,
    "start_time": "2022-04-05T12:07:48.920Z"
   },
   {
    "duration": 83,
    "start_time": "2022-04-05T12:07:49.159Z"
   },
   {
    "duration": 8,
    "start_time": "2022-04-05T12:07:49.245Z"
   },
   {
    "duration": 81,
    "start_time": "2022-04-05T12:07:49.274Z"
   },
   {
    "duration": 79,
    "start_time": "2022-04-05T12:07:49.357Z"
   },
   {
    "duration": 555,
    "start_time": "2022-04-05T12:07:49.438Z"
   },
   {
    "duration": 953,
    "start_time": "2022-04-05T12:08:07.271Z"
   },
   {
    "duration": 2362,
    "start_time": "2022-04-05T12:12:16.139Z"
   },
   {
    "duration": 1782,
    "start_time": "2022-04-05T12:12:40.020Z"
   },
   {
    "duration": 1077,
    "start_time": "2022-04-05T12:13:15.120Z"
   },
   {
    "duration": 1068,
    "start_time": "2022-04-05T12:22:12.261Z"
   },
   {
    "duration": 894,
    "start_time": "2022-04-05T12:23:22.790Z"
   },
   {
    "duration": 995,
    "start_time": "2022-04-05T12:24:57.517Z"
   },
   {
    "duration": 9,
    "start_time": "2022-04-05T12:49:50.695Z"
   },
   {
    "duration": 9,
    "start_time": "2022-04-05T12:50:53.189Z"
   },
   {
    "duration": 12,
    "start_time": "2022-04-05T12:52:14.655Z"
   },
   {
    "duration": 1463,
    "start_time": "2022-04-05T12:52:56.265Z"
   },
   {
    "duration": 40,
    "start_time": "2022-04-05T12:52:57.731Z"
   },
   {
    "duration": 6,
    "start_time": "2022-04-05T12:52:57.773Z"
   },
   {
    "duration": 16,
    "start_time": "2022-04-05T12:52:57.782Z"
   },
   {
    "duration": 214,
    "start_time": "2022-04-05T12:52:57.800Z"
   },
   {
    "duration": 33,
    "start_time": "2022-04-05T12:52:58.017Z"
   },
   {
    "duration": 134,
    "start_time": "2022-04-05T12:52:58.053Z"
   },
   {
    "duration": 177,
    "start_time": "2022-04-05T12:52:58.189Z"
   },
   {
    "duration": 33,
    "start_time": "2022-04-05T12:52:58.368Z"
   },
   {
    "duration": 19,
    "start_time": "2022-04-05T12:52:58.405Z"
   },
   {
    "duration": 15,
    "start_time": "2022-04-05T12:52:58.426Z"
   },
   {
    "duration": 95,
    "start_time": "2022-04-05T12:52:58.443Z"
   },
   {
    "duration": 57,
    "start_time": "2022-04-05T12:52:58.540Z"
   },
   {
    "duration": 56,
    "start_time": "2022-04-05T12:52:58.599Z"
   },
   {
    "duration": 8,
    "start_time": "2022-04-05T12:52:58.674Z"
   },
   {
    "duration": 6,
    "start_time": "2022-04-05T12:52:58.685Z"
   },
   {
    "duration": 8,
    "start_time": "2022-04-05T12:52:58.693Z"
   },
   {
    "duration": 76,
    "start_time": "2022-04-05T12:52:58.703Z"
   },
   {
    "duration": 39,
    "start_time": "2022-04-05T12:52:58.781Z"
   },
   {
    "duration": 52,
    "start_time": "2022-04-05T12:52:58.822Z"
   },
   {
    "duration": 27,
    "start_time": "2022-04-05T12:52:58.876Z"
   },
   {
    "duration": 33,
    "start_time": "2022-04-05T12:52:58.905Z"
   },
   {
    "duration": 61,
    "start_time": "2022-04-05T12:52:58.940Z"
   },
   {
    "duration": 78,
    "start_time": "2022-04-05T12:52:59.003Z"
   },
   {
    "duration": 310,
    "start_time": "2022-04-05T12:52:59.084Z"
   },
   {
    "duration": 95,
    "start_time": "2022-04-05T12:52:59.396Z"
   },
   {
    "duration": 8,
    "start_time": "2022-04-05T12:52:59.493Z"
   },
   {
    "duration": 92,
    "start_time": "2022-04-05T12:52:59.506Z"
   },
   {
    "duration": 85,
    "start_time": "2022-04-05T12:52:59.601Z"
   },
   {
    "duration": 1077,
    "start_time": "2022-04-05T12:52:59.689Z"
   },
   {
    "duration": 802,
    "start_time": "2022-04-05T12:53:00.768Z"
   },
   {
    "duration": 923,
    "start_time": "2022-04-05T12:53:01.573Z"
   },
   {
    "duration": 8,
    "start_time": "2022-04-05T12:53:02.498Z"
   },
   {
    "duration": 8,
    "start_time": "2022-04-05T12:53:02.508Z"
   },
   {
    "duration": 8,
    "start_time": "2022-04-05T12:53:02.518Z"
   },
   {
    "duration": 7,
    "start_time": "2022-04-05T12:54:17.275Z"
   },
   {
    "duration": 897,
    "start_time": "2022-04-05T12:55:03.429Z"
   },
   {
    "duration": 7,
    "start_time": "2022-04-05T12:58:22.680Z"
   },
   {
    "duration": 9,
    "start_time": "2022-04-05T13:03:41.523Z"
   },
   {
    "duration": 10,
    "start_time": "2022-04-05T13:04:36.286Z"
   },
   {
    "duration": 7,
    "start_time": "2022-04-05T13:06:08.421Z"
   },
   {
    "duration": 49,
    "start_time": "2022-04-05T17:20:22.159Z"
   },
   {
    "duration": 1525,
    "start_time": "2022-04-05T17:20:34.241Z"
   },
   {
    "duration": 30,
    "start_time": "2022-04-05T17:20:35.769Z"
   },
   {
    "duration": 5,
    "start_time": "2022-04-05T17:20:35.801Z"
   },
   {
    "duration": 23,
    "start_time": "2022-04-05T17:20:35.809Z"
   },
   {
    "duration": 177,
    "start_time": "2022-04-05T17:20:35.835Z"
   },
   {
    "duration": 28,
    "start_time": "2022-04-05T17:20:36.013Z"
   },
   {
    "duration": 125,
    "start_time": "2022-04-05T17:20:36.043Z"
   },
   {
    "duration": 142,
    "start_time": "2022-04-05T17:20:36.170Z"
   },
   {
    "duration": 22,
    "start_time": "2022-04-05T17:20:36.314Z"
   },
   {
    "duration": 16,
    "start_time": "2022-04-05T17:20:36.339Z"
   },
   {
    "duration": 12,
    "start_time": "2022-04-05T17:20:36.357Z"
   },
   {
    "duration": 76,
    "start_time": "2022-04-05T17:20:36.371Z"
   },
   {
    "duration": 34,
    "start_time": "2022-04-05T17:20:36.449Z"
   },
   {
    "duration": 55,
    "start_time": "2022-04-05T17:20:36.485Z"
   },
   {
    "duration": 6,
    "start_time": "2022-04-05T17:20:36.542Z"
   },
   {
    "duration": 8,
    "start_time": "2022-04-05T17:20:36.550Z"
   },
   {
    "duration": 9,
    "start_time": "2022-04-05T17:20:36.560Z"
   },
   {
    "duration": 57,
    "start_time": "2022-04-05T17:20:36.571Z"
   },
   {
    "duration": 33,
    "start_time": "2022-04-05T17:20:36.631Z"
   },
   {
    "duration": 46,
    "start_time": "2022-04-05T17:20:36.666Z"
   },
   {
    "duration": 21,
    "start_time": "2022-04-05T17:20:36.713Z"
   },
   {
    "duration": 24,
    "start_time": "2022-04-05T17:20:36.736Z"
   },
   {
    "duration": 49,
    "start_time": "2022-04-05T17:20:36.762Z"
   },
   {
    "duration": 38,
    "start_time": "2022-04-05T17:20:36.812Z"
   },
   {
    "duration": 162,
    "start_time": "2022-04-05T17:20:36.852Z"
   },
   {
    "duration": 51,
    "start_time": "2022-04-05T17:20:37.016Z"
   },
   {
    "duration": 6,
    "start_time": "2022-04-05T17:20:37.069Z"
   },
   {
    "duration": 66,
    "start_time": "2022-04-05T17:20:37.078Z"
   },
   {
    "duration": 61,
    "start_time": "2022-04-05T17:20:37.146Z"
   },
   {
    "duration": 742,
    "start_time": "2022-04-05T17:20:37.208Z"
   },
   {
    "duration": 669,
    "start_time": "2022-04-05T17:20:37.952Z"
   },
   {
    "duration": 710,
    "start_time": "2022-04-05T17:20:38.622Z"
   },
   {
    "duration": 6,
    "start_time": "2022-04-05T17:20:39.334Z"
   },
   {
    "duration": 7,
    "start_time": "2022-04-05T17:20:39.342Z"
   },
   {
    "duration": 6,
    "start_time": "2022-04-05T17:20:39.352Z"
   },
   {
    "duration": 7,
    "start_time": "2022-04-05T17:20:39.360Z"
   },
   {
    "duration": 8,
    "start_time": "2022-04-05T17:20:39.402Z"
   },
   {
    "duration": 305,
    "start_time": "2022-04-05T17:20:39.412Z"
   },
   {
    "duration": 6,
    "start_time": "2022-04-05T17:20:39.719Z"
   },
   {
    "duration": 9,
    "start_time": "2022-04-05T17:21:54.425Z"
   },
   {
    "duration": 6,
    "start_time": "2022-04-05T17:22:19.483Z"
   },
   {
    "duration": 337,
    "start_time": "2022-04-05T17:23:31.227Z"
   },
   {
    "duration": 439,
    "start_time": "2022-04-05T17:52:10.518Z"
   },
   {
    "duration": 1393,
    "start_time": "2022-04-06T04:42:45.972Z"
   },
   {
    "duration": 34,
    "start_time": "2022-04-06T04:42:47.368Z"
   },
   {
    "duration": 5,
    "start_time": "2022-04-06T04:42:47.404Z"
   },
   {
    "duration": 19,
    "start_time": "2022-04-06T04:42:47.411Z"
   },
   {
    "duration": 179,
    "start_time": "2022-04-06T04:42:47.433Z"
   },
   {
    "duration": 29,
    "start_time": "2022-04-06T04:42:47.615Z"
   },
   {
    "duration": 107,
    "start_time": "2022-04-06T04:42:47.646Z"
   },
   {
    "duration": 149,
    "start_time": "2022-04-06T04:42:47.755Z"
   },
   {
    "duration": 24,
    "start_time": "2022-04-06T04:42:47.907Z"
   },
   {
    "duration": 15,
    "start_time": "2022-04-06T04:42:47.935Z"
   },
   {
    "duration": 12,
    "start_time": "2022-04-06T04:42:47.952Z"
   },
   {
    "duration": 82,
    "start_time": "2022-04-06T04:42:47.966Z"
   },
   {
    "duration": 35,
    "start_time": "2022-04-06T04:42:48.050Z"
   },
   {
    "duration": 41,
    "start_time": "2022-04-06T04:42:48.102Z"
   },
   {
    "duration": 7,
    "start_time": "2022-04-06T04:42:48.145Z"
   },
   {
    "duration": 8,
    "start_time": "2022-04-06T04:42:48.154Z"
   },
   {
    "duration": 13,
    "start_time": "2022-04-06T04:42:48.164Z"
   },
   {
    "duration": 32,
    "start_time": "2022-04-06T04:42:48.201Z"
   },
   {
    "duration": 33,
    "start_time": "2022-04-06T04:42:48.235Z"
   },
   {
    "duration": 45,
    "start_time": "2022-04-06T04:42:48.271Z"
   },
   {
    "duration": 21,
    "start_time": "2022-04-06T04:42:48.318Z"
   },
   {
    "duration": 25,
    "start_time": "2022-04-06T04:42:48.341Z"
   },
   {
    "duration": 49,
    "start_time": "2022-04-06T04:42:48.368Z"
   },
   {
    "duration": 42,
    "start_time": "2022-04-06T04:42:48.419Z"
   },
   {
    "duration": 164,
    "start_time": "2022-04-06T04:42:48.463Z"
   },
   {
    "duration": 53,
    "start_time": "2022-04-06T04:42:48.629Z"
   },
   {
    "duration": 21,
    "start_time": "2022-04-06T04:42:48.684Z"
   },
   {
    "duration": 57,
    "start_time": "2022-04-06T04:42:48.709Z"
   },
   {
    "duration": 63,
    "start_time": "2022-04-06T04:42:48.768Z"
   },
   {
    "duration": 819,
    "start_time": "2022-04-06T04:42:48.833Z"
   },
   {
    "duration": 669,
    "start_time": "2022-04-06T04:42:49.653Z"
   },
   {
    "duration": 709,
    "start_time": "2022-04-06T04:42:50.324Z"
   },
   {
    "duration": 6,
    "start_time": "2022-04-06T04:42:51.036Z"
   },
   {
    "duration": 375,
    "start_time": "2022-04-06T04:42:51.043Z"
   },
   {
    "duration": 6,
    "start_time": "2022-04-06T04:42:51.420Z"
   },
   {
    "duration": 7,
    "start_time": "2022-04-06T04:42:51.427Z"
   },
   {
    "duration": 8,
    "start_time": "2022-04-06T04:42:51.436Z"
   },
   {
    "duration": 7,
    "start_time": "2022-04-06T04:42:51.445Z"
   },
   {
    "duration": 369,
    "start_time": "2022-04-06T04:42:51.454Z"
   },
   {
    "duration": 5,
    "start_time": "2022-04-06T04:42:51.825Z"
   },
   {
    "duration": 8,
    "start_time": "2022-04-06T05:31:08.535Z"
   },
   {
    "duration": 729,
    "start_time": "2022-04-06T05:32:26.014Z"
   },
   {
    "duration": 7,
    "start_time": "2022-04-06T05:47:34.525Z"
   },
   {
    "duration": 692,
    "start_time": "2022-04-06T05:48:17.078Z"
   },
   {
    "duration": 721,
    "start_time": "2022-04-06T06:17:22.835Z"
   },
   {
    "duration": 677,
    "start_time": "2022-04-06T06:17:38.629Z"
   },
   {
    "duration": 824,
    "start_time": "2022-04-06T06:17:53.677Z"
   },
   {
    "duration": 805,
    "start_time": "2022-04-06T06:18:06.828Z"
   },
   {
    "duration": 658,
    "start_time": "2022-04-06T06:19:03.573Z"
   },
   {
    "duration": 661,
    "start_time": "2022-04-06T06:19:17.461Z"
   },
   {
    "duration": 696,
    "start_time": "2022-04-06T06:19:26.627Z"
   },
   {
    "duration": 605,
    "start_time": "2022-04-06T06:20:29.102Z"
   },
   {
    "duration": 845,
    "start_time": "2022-04-06T06:21:11.582Z"
   },
   {
    "duration": 1078,
    "start_time": "2022-04-06T06:21:36.385Z"
   },
   {
    "duration": 637,
    "start_time": "2022-04-06T06:21:59.328Z"
   },
   {
    "duration": 702,
    "start_time": "2022-04-06T06:22:23.413Z"
   },
   {
    "duration": 17,
    "start_time": "2022-04-06T06:25:40.868Z"
   },
   {
    "duration": 782,
    "start_time": "2022-04-06T06:30:55.142Z"
   },
   {
    "duration": 638,
    "start_time": "2022-04-06T06:31:41.578Z"
   },
   {
    "duration": 708,
    "start_time": "2022-04-06T06:32:27.078Z"
   },
   {
    "duration": 681,
    "start_time": "2022-04-06T06:32:56.543Z"
   },
   {
    "duration": 659,
    "start_time": "2022-04-06T06:34:00.285Z"
   },
   {
    "duration": 1488,
    "start_time": "2022-04-06T15:33:15.150Z"
   },
   {
    "duration": 30,
    "start_time": "2022-04-06T15:33:16.641Z"
   },
   {
    "duration": 6,
    "start_time": "2022-04-06T15:33:16.673Z"
   },
   {
    "duration": 27,
    "start_time": "2022-04-06T15:33:16.681Z"
   },
   {
    "duration": 172,
    "start_time": "2022-04-06T15:33:16.710Z"
   },
   {
    "duration": 33,
    "start_time": "2022-04-06T15:33:16.883Z"
   },
   {
    "duration": 101,
    "start_time": "2022-04-06T15:33:16.918Z"
   },
   {
    "duration": 149,
    "start_time": "2022-04-06T15:33:17.021Z"
   },
   {
    "duration": 30,
    "start_time": "2022-04-06T15:33:17.172Z"
   },
   {
    "duration": 15,
    "start_time": "2022-04-06T15:33:17.205Z"
   },
   {
    "duration": 11,
    "start_time": "2022-04-06T15:33:17.222Z"
   },
   {
    "duration": 68,
    "start_time": "2022-04-06T15:33:17.235Z"
   },
   {
    "duration": 37,
    "start_time": "2022-04-06T15:33:17.305Z"
   },
   {
    "duration": 62,
    "start_time": "2022-04-06T15:33:17.343Z"
   },
   {
    "duration": 7,
    "start_time": "2022-04-06T15:33:17.407Z"
   },
   {
    "duration": 16,
    "start_time": "2022-04-06T15:33:17.415Z"
   },
   {
    "duration": 27,
    "start_time": "2022-04-06T15:33:17.432Z"
   },
   {
    "duration": 41,
    "start_time": "2022-04-06T15:33:17.461Z"
   },
   {
    "duration": 31,
    "start_time": "2022-04-06T15:33:17.503Z"
   },
   {
    "duration": 21,
    "start_time": "2022-04-06T15:33:17.536Z"
   },
   {
    "duration": 43,
    "start_time": "2022-04-06T15:33:17.559Z"
   },
   {
    "duration": 26,
    "start_time": "2022-04-06T15:33:17.604Z"
   },
   {
    "duration": 24,
    "start_time": "2022-04-06T15:33:17.632Z"
   },
   {
    "duration": 68,
    "start_time": "2022-04-06T15:33:17.658Z"
   },
   {
    "duration": 149,
    "start_time": "2022-04-06T15:33:17.728Z"
   },
   {
    "duration": 61,
    "start_time": "2022-04-06T15:33:17.879Z"
   },
   {
    "duration": 7,
    "start_time": "2022-04-06T15:33:17.942Z"
   },
   {
    "duration": 64,
    "start_time": "2022-04-06T15:33:17.952Z"
   },
   {
    "duration": 49,
    "start_time": "2022-04-06T15:33:18.018Z"
   },
   {
    "duration": 779,
    "start_time": "2022-04-06T15:33:18.069Z"
   },
   {
    "duration": 670,
    "start_time": "2022-04-06T15:33:18.850Z"
   },
   {
    "duration": 716,
    "start_time": "2022-04-06T15:33:19.521Z"
   },
   {
    "duration": 7,
    "start_time": "2022-04-06T15:33:20.238Z"
   },
   {
    "duration": 686,
    "start_time": "2022-04-06T15:33:20.247Z"
   },
   {
    "duration": 6,
    "start_time": "2022-04-06T15:33:20.934Z"
   },
   {
    "duration": 127,
    "start_time": "2022-04-06T15:33:20.942Z"
   },
   {
    "duration": 0,
    "start_time": "2022-04-06T15:33:21.071Z"
   },
   {
    "duration": 10,
    "start_time": "2022-04-06T15:34:00.561Z"
   },
   {
    "duration": 7,
    "start_time": "2022-04-06T15:35:12.332Z"
   },
   {
    "duration": 715,
    "start_time": "2022-04-06T15:35:16.720Z"
   },
   {
    "duration": 1372,
    "start_time": "2022-04-06T18:57:31.578Z"
   },
   {
    "duration": 49,
    "start_time": "2022-04-06T18:57:32.952Z"
   },
   {
    "duration": 3,
    "start_time": "2022-04-06T18:57:33.003Z"
   },
   {
    "duration": 25,
    "start_time": "2022-04-06T18:57:33.008Z"
   },
   {
    "duration": 161,
    "start_time": "2022-04-06T18:57:33.034Z"
   },
   {
    "duration": 27,
    "start_time": "2022-04-06T18:57:33.196Z"
   },
   {
    "duration": 92,
    "start_time": "2022-04-06T18:57:33.225Z"
   },
   {
    "duration": 129,
    "start_time": "2022-04-06T18:57:33.319Z"
   },
   {
    "duration": 19,
    "start_time": "2022-04-06T18:57:33.450Z"
   },
   {
    "duration": 27,
    "start_time": "2022-04-06T18:57:33.472Z"
   },
   {
    "duration": 10,
    "start_time": "2022-04-06T18:57:33.500Z"
   },
   {
    "duration": 56,
    "start_time": "2022-04-06T18:57:33.511Z"
   },
   {
    "duration": 34,
    "start_time": "2022-04-06T18:57:33.569Z"
   },
   {
    "duration": 37,
    "start_time": "2022-04-06T18:57:33.605Z"
   },
   {
    "duration": 6,
    "start_time": "2022-04-06T18:57:33.643Z"
   },
   {
    "duration": 6,
    "start_time": "2022-04-06T18:57:33.651Z"
   },
   {
    "duration": 11,
    "start_time": "2022-04-06T18:57:33.659Z"
   },
   {
    "duration": 52,
    "start_time": "2022-04-06T18:57:33.671Z"
   },
   {
    "duration": 29,
    "start_time": "2022-04-06T18:57:33.725Z"
   },
   {
    "duration": 19,
    "start_time": "2022-04-06T18:57:33.756Z"
   },
   {
    "duration": 38,
    "start_time": "2022-04-06T18:57:33.777Z"
   },
   {
    "duration": 21,
    "start_time": "2022-04-06T18:57:33.816Z"
   },
   {
    "duration": 27,
    "start_time": "2022-04-06T18:57:33.838Z"
   },
   {
    "duration": 51,
    "start_time": "2022-04-06T18:57:33.866Z"
   },
   {
    "duration": 144,
    "start_time": "2022-04-06T18:57:33.918Z"
   },
   {
    "duration": 56,
    "start_time": "2022-04-06T18:57:34.064Z"
   },
   {
    "duration": 5,
    "start_time": "2022-04-06T18:57:34.122Z"
   },
   {
    "duration": 59,
    "start_time": "2022-04-06T18:57:34.130Z"
   },
   {
    "duration": 47,
    "start_time": "2022-04-06T18:57:34.191Z"
   },
   {
    "duration": 762,
    "start_time": "2022-04-06T18:57:34.239Z"
   },
   {
    "duration": 570,
    "start_time": "2022-04-06T18:57:35.003Z"
   },
   {
    "duration": 643,
    "start_time": "2022-04-06T18:57:35.575Z"
   },
   {
    "duration": 7,
    "start_time": "2022-04-06T18:57:36.220Z"
   },
   {
    "duration": 573,
    "start_time": "2022-04-06T18:57:36.228Z"
   },
   {
    "duration": 5,
    "start_time": "2022-04-06T18:57:36.803Z"
   },
   {
    "duration": 14,
    "start_time": "2022-04-06T18:57:36.810Z"
   },
   {
    "duration": 667,
    "start_time": "2022-04-06T18:57:36.826Z"
   },
   {
    "duration": 4,
    "start_time": "2022-04-06T18:57:37.501Z"
   },
   {
    "duration": 1113,
    "start_time": "2022-04-17T09:50:21.611Z"
   },
   {
    "duration": 28,
    "start_time": "2022-04-17T09:50:22.726Z"
   },
   {
    "duration": 4,
    "start_time": "2022-04-17T09:50:22.756Z"
   },
   {
    "duration": 15,
    "start_time": "2022-04-17T09:50:22.762Z"
   },
   {
    "duration": 162,
    "start_time": "2022-04-17T09:50:22.779Z"
   },
   {
    "duration": 25,
    "start_time": "2022-04-17T09:50:22.943Z"
   },
   {
    "duration": 98,
    "start_time": "2022-04-17T09:50:22.969Z"
   },
   {
    "duration": 141,
    "start_time": "2022-04-17T09:50:23.068Z"
   },
   {
    "duration": 21,
    "start_time": "2022-04-17T09:50:23.210Z"
   },
   {
    "duration": 15,
    "start_time": "2022-04-17T09:50:23.234Z"
   },
   {
    "duration": 10,
    "start_time": "2022-04-17T09:50:23.250Z"
   },
   {
    "duration": 67,
    "start_time": "2022-04-17T09:50:23.262Z"
   },
   {
    "duration": 32,
    "start_time": "2022-04-17T09:50:23.331Z"
   },
   {
    "duration": 60,
    "start_time": "2022-04-17T09:50:23.365Z"
   },
   {
    "duration": 5,
    "start_time": "2022-04-17T09:50:23.427Z"
   },
   {
    "duration": 4,
    "start_time": "2022-04-17T09:50:23.434Z"
   },
   {
    "duration": 5,
    "start_time": "2022-04-17T09:50:23.440Z"
   },
   {
    "duration": 32,
    "start_time": "2022-04-17T09:50:23.446Z"
   },
   {
    "duration": 57,
    "start_time": "2022-04-17T09:50:23.480Z"
   },
   {
    "duration": 20,
    "start_time": "2022-04-17T09:50:23.539Z"
   },
   {
    "duration": 47,
    "start_time": "2022-04-17T09:50:23.561Z"
   },
   {
    "duration": 25,
    "start_time": "2022-04-17T09:50:23.610Z"
   },
   {
    "duration": 24,
    "start_time": "2022-04-17T09:50:23.637Z"
   },
   {
    "duration": 67,
    "start_time": "2022-04-17T09:50:23.664Z"
   },
   {
    "duration": 153,
    "start_time": "2022-04-17T09:50:23.733Z"
   },
   {
    "duration": 60,
    "start_time": "2022-04-17T09:50:23.887Z"
   },
   {
    "duration": 6,
    "start_time": "2022-04-17T09:50:23.948Z"
   },
   {
    "duration": 64,
    "start_time": "2022-04-17T09:50:23.957Z"
   },
   {
    "duration": 47,
    "start_time": "2022-04-17T09:50:24.023Z"
   },
   {
    "duration": 773,
    "start_time": "2022-04-17T09:50:24.071Z"
   },
   {
    "duration": 612,
    "start_time": "2022-04-17T09:50:24.846Z"
   },
   {
    "duration": 689,
    "start_time": "2022-04-17T09:50:25.460Z"
   },
   {
    "duration": 5,
    "start_time": "2022-04-17T09:50:26.151Z"
   },
   {
    "duration": 663,
    "start_time": "2022-04-17T09:50:26.158Z"
   },
   {
    "duration": 5,
    "start_time": "2022-04-17T09:50:26.823Z"
   },
   {
    "duration": 17,
    "start_time": "2022-04-17T09:50:26.830Z"
   },
   {
    "duration": 690,
    "start_time": "2022-04-17T09:50:26.848Z"
   },
   {
    "duration": 5,
    "start_time": "2022-04-17T09:50:27.540Z"
   },
   {
    "duration": 1133,
    "start_time": "2022-04-17T09:58:14.213Z"
   },
   {
    "duration": 32,
    "start_time": "2022-04-17T09:58:15.348Z"
   },
   {
    "duration": 4,
    "start_time": "2022-04-17T09:58:15.382Z"
   },
   {
    "duration": 13,
    "start_time": "2022-04-17T09:58:15.388Z"
   },
   {
    "duration": 159,
    "start_time": "2022-04-17T09:58:15.403Z"
   },
   {
    "duration": 25,
    "start_time": "2022-04-17T09:58:15.564Z"
   },
   {
    "duration": 100,
    "start_time": "2022-04-17T09:58:15.590Z"
   },
   {
    "duration": 146,
    "start_time": "2022-04-17T09:58:15.692Z"
   },
   {
    "duration": 23,
    "start_time": "2022-04-17T09:58:15.839Z"
   },
   {
    "duration": 14,
    "start_time": "2022-04-17T09:58:15.864Z"
   },
   {
    "duration": 30,
    "start_time": "2022-04-17T09:58:15.880Z"
   },
   {
    "duration": 53,
    "start_time": "2022-04-17T09:58:15.911Z"
   },
   {
    "duration": 43,
    "start_time": "2022-04-17T09:58:15.966Z"
   },
   {
    "duration": 38,
    "start_time": "2022-04-17T09:58:16.012Z"
   },
   {
    "duration": 6,
    "start_time": "2022-04-17T09:58:16.051Z"
   },
   {
    "duration": 5,
    "start_time": "2022-04-17T09:58:16.058Z"
   },
   {
    "duration": 5,
    "start_time": "2022-04-17T09:58:16.065Z"
   },
   {
    "duration": 59,
    "start_time": "2022-04-17T09:58:16.072Z"
   },
   {
    "duration": 29,
    "start_time": "2022-04-17T09:58:16.132Z"
   },
   {
    "duration": 20,
    "start_time": "2022-04-17T09:58:16.163Z"
   },
   {
    "duration": 41,
    "start_time": "2022-04-17T09:58:16.184Z"
   },
   {
    "duration": 23,
    "start_time": "2022-04-17T09:58:16.226Z"
   },
   {
    "duration": 23,
    "start_time": "2022-04-17T09:58:16.251Z"
   },
   {
    "duration": 65,
    "start_time": "2022-04-17T09:58:16.275Z"
   },
   {
    "duration": 157,
    "start_time": "2022-04-17T09:58:16.342Z"
   },
   {
    "duration": 52,
    "start_time": "2022-04-17T09:58:16.501Z"
   },
   {
    "duration": 6,
    "start_time": "2022-04-17T09:58:16.555Z"
   },
   {
    "duration": 64,
    "start_time": "2022-04-17T09:58:16.562Z"
   },
   {
    "duration": 50,
    "start_time": "2022-04-17T09:58:16.627Z"
   },
   {
    "duration": 728,
    "start_time": "2022-04-17T09:58:16.679Z"
   },
   {
    "duration": 619,
    "start_time": "2022-04-17T09:58:17.409Z"
   },
   {
    "duration": 717,
    "start_time": "2022-04-17T09:58:18.030Z"
   },
   {
    "duration": 6,
    "start_time": "2022-04-17T09:58:18.749Z"
   },
   {
    "duration": 672,
    "start_time": "2022-04-17T09:58:18.757Z"
   },
   {
    "duration": 5,
    "start_time": "2022-04-17T09:58:19.431Z"
   },
   {
    "duration": 7,
    "start_time": "2022-04-17T09:58:19.438Z"
   },
   {
    "duration": 728,
    "start_time": "2022-04-17T09:58:19.447Z"
   },
   {
    "duration": 5,
    "start_time": "2022-04-17T09:58:20.177Z"
   },
   {
    "duration": 1334,
    "start_time": "2022-04-18T18:58:54.033Z"
   },
   {
    "duration": 946,
    "start_time": "2022-04-18T18:58:55.368Z"
   },
   {
    "duration": 5,
    "start_time": "2022-04-18T18:58:56.316Z"
   },
   {
    "duration": 20,
    "start_time": "2022-04-18T18:58:56.322Z"
   },
   {
    "duration": 247,
    "start_time": "2022-04-18T18:58:56.343Z"
   },
   {
    "duration": 28,
    "start_time": "2022-04-18T18:58:56.591Z"
   },
   {
    "duration": 206,
    "start_time": "2022-04-18T18:58:56.620Z"
   },
   {
    "duration": 225,
    "start_time": "2022-04-18T18:58:56.828Z"
   },
   {
    "duration": 22,
    "start_time": "2022-04-18T18:58:57.055Z"
   },
   {
    "duration": 135,
    "start_time": "2022-04-18T18:58:57.080Z"
   },
   {
    "duration": 10,
    "start_time": "2022-04-18T18:58:57.216Z"
   },
   {
    "duration": 49,
    "start_time": "2022-04-18T18:58:57.227Z"
   },
   {
    "duration": 33,
    "start_time": "2022-04-18T18:58:57.277Z"
   },
   {
    "duration": 37,
    "start_time": "2022-04-18T18:58:57.312Z"
   },
   {
    "duration": 6,
    "start_time": "2022-04-18T18:58:57.351Z"
   },
   {
    "duration": 390,
    "start_time": "2022-04-18T18:58:57.359Z"
   },
   {
    "duration": 7,
    "start_time": "2022-04-18T18:58:57.751Z"
   },
   {
    "duration": 30,
    "start_time": "2022-04-18T18:58:57.760Z"
   },
   {
    "duration": 10,
    "start_time": "2022-04-18T18:58:57.792Z"
   },
   {
    "duration": 28,
    "start_time": "2022-04-18T18:58:57.804Z"
   },
   {
    "duration": 19,
    "start_time": "2022-04-18T18:58:57.833Z"
   },
   {
    "duration": 17,
    "start_time": "2022-04-18T18:58:57.853Z"
   },
   {
    "duration": 46,
    "start_time": "2022-04-18T18:58:57.871Z"
   },
   {
    "duration": 21,
    "start_time": "2022-04-18T18:58:57.918Z"
   },
   {
    "duration": 33,
    "start_time": "2022-04-18T18:58:57.940Z"
   },
   {
    "duration": 141,
    "start_time": "2022-04-18T18:58:57.974Z"
   },
   {
    "duration": 46,
    "start_time": "2022-04-18T18:58:58.116Z"
   },
   {
    "duration": 6,
    "start_time": "2022-04-18T18:58:58.164Z"
   },
   {
    "duration": 55,
    "start_time": "2022-04-18T18:58:58.172Z"
   },
   {
    "duration": 45,
    "start_time": "2022-04-18T18:58:58.229Z"
   },
   {
    "duration": 655,
    "start_time": "2022-04-18T18:58:58.276Z"
   },
   {
    "duration": 550,
    "start_time": "2022-04-18T18:58:58.933Z"
   },
   {
    "duration": 626,
    "start_time": "2022-04-18T18:58:59.484Z"
   },
   {
    "duration": 5,
    "start_time": "2022-04-18T18:59:00.112Z"
   },
   {
    "duration": 561,
    "start_time": "2022-04-18T18:59:00.119Z"
   },
   {
    "duration": 5,
    "start_time": "2022-04-18T18:59:00.682Z"
   },
   {
    "duration": 8,
    "start_time": "2022-04-18T18:59:00.699Z"
   },
   {
    "duration": 715,
    "start_time": "2022-04-18T18:59:00.709Z"
   },
   {
    "duration": 5,
    "start_time": "2022-04-18T18:59:01.425Z"
   },
   {
    "duration": 1147,
    "start_time": "2022-04-18T19:00:26.874Z"
   },
   {
    "duration": 149,
    "start_time": "2022-04-18T19:00:28.022Z"
   },
   {
    "duration": 4,
    "start_time": "2022-04-18T19:00:28.172Z"
   },
   {
    "duration": 16,
    "start_time": "2022-04-18T19:00:28.178Z"
   },
   {
    "duration": 250,
    "start_time": "2022-04-18T19:00:28.195Z"
   },
   {
    "duration": 21,
    "start_time": "2022-04-18T19:00:28.447Z"
   },
   {
    "duration": 176,
    "start_time": "2022-04-18T19:00:28.470Z"
   },
   {
    "duration": 226,
    "start_time": "2022-04-18T19:00:28.648Z"
   },
   {
    "duration": 29,
    "start_time": "2022-04-18T19:00:28.876Z"
   },
   {
    "duration": 111,
    "start_time": "2022-04-18T19:00:28.908Z"
   },
   {
    "duration": 9,
    "start_time": "2022-04-18T19:00:29.021Z"
   },
   {
    "duration": 47,
    "start_time": "2022-04-18T19:00:29.032Z"
   },
   {
    "duration": 32,
    "start_time": "2022-04-18T19:00:29.081Z"
   },
   {
    "duration": 34,
    "start_time": "2022-04-18T19:00:29.115Z"
   },
   {
    "duration": 6,
    "start_time": "2022-04-18T19:00:29.150Z"
   },
   {
    "duration": 6,
    "start_time": "2022-04-18T19:00:29.157Z"
   },
   {
    "duration": 6,
    "start_time": "2022-04-18T19:00:29.165Z"
   },
   {
    "duration": 48,
    "start_time": "2022-04-18T19:00:29.172Z"
   },
   {
    "duration": 9,
    "start_time": "2022-04-18T19:00:29.221Z"
   },
   {
    "duration": 25,
    "start_time": "2022-04-18T19:00:29.232Z"
   },
   {
    "duration": 18,
    "start_time": "2022-04-18T19:00:29.258Z"
   },
   {
    "duration": 37,
    "start_time": "2022-04-18T19:00:29.277Z"
   },
   {
    "duration": 20,
    "start_time": "2022-04-18T19:00:29.315Z"
   },
   {
    "duration": 20,
    "start_time": "2022-04-18T19:00:29.337Z"
   },
   {
    "duration": 53,
    "start_time": "2022-04-18T19:00:29.358Z"
   },
   {
    "duration": 129,
    "start_time": "2022-04-18T19:00:29.412Z"
   },
   {
    "duration": 46,
    "start_time": "2022-04-18T19:00:29.543Z"
   },
   {
    "duration": 5,
    "start_time": "2022-04-18T19:00:29.602Z"
   },
   {
    "duration": 44,
    "start_time": "2022-04-18T19:00:29.609Z"
   },
   {
    "duration": 56,
    "start_time": "2022-04-18T19:00:29.655Z"
   },
   {
    "duration": 622,
    "start_time": "2022-04-18T19:00:29.713Z"
   },
   {
    "duration": 619,
    "start_time": "2022-04-18T19:00:30.337Z"
   },
   {
    "duration": 660,
    "start_time": "2022-04-18T19:00:30.958Z"
   },
   {
    "duration": 5,
    "start_time": "2022-04-18T19:00:31.620Z"
   },
   {
    "duration": 567,
    "start_time": "2022-04-18T19:00:31.627Z"
   },
   {
    "duration": 5,
    "start_time": "2022-04-18T19:00:32.199Z"
   },
   {
    "duration": 9,
    "start_time": "2022-04-18T19:00:32.205Z"
   },
   {
    "duration": 710,
    "start_time": "2022-04-18T19:00:32.215Z"
   },
   {
    "duration": 5,
    "start_time": "2022-04-18T19:00:32.927Z"
   }
  ],
  "kernelspec": {
   "display_name": "Python 3 (ipykernel)",
   "language": "python",
   "name": "python3"
  },
  "language_info": {
   "codemirror_mode": {
    "name": "ipython",
    "version": 3
   },
   "file_extension": ".py",
   "mimetype": "text/x-python",
   "name": "python",
   "nbconvert_exporter": "python",
   "pygments_lexer": "ipython3",
   "version": "3.9.5"
  },
  "toc": {
   "base_numbering": 1,
   "nav_menu": {},
   "number_sections": true,
   "sideBar": true,
   "skip_h1_title": true,
   "title_cell": "Table of Contents",
   "title_sidebar": "Contents",
   "toc_cell": false,
   "toc_position": {
    "height": "calc(100% - 180px)",
    "left": "10px",
    "top": "150px",
    "width": "285.984px"
   },
   "toc_section_display": true,
   "toc_window_display": true
  }
 },
 "nbformat": 4,
 "nbformat_minor": 2
}
