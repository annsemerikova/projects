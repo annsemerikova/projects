{
 "cells": [
  {
   "cell_type": "markdown",
   "metadata": {},
   "source": [
    "# Исследование предложений рынка недвижимости в 2015-2019 гг\n"
   ]
  },
  {
   "cell_type": "markdown",
   "metadata": {},
   "source": [
    "## Загрузка данных"
   ]
  },
  {
   "cell_type": "code",
   "execution_count": 1,
   "metadata": {},
   "outputs": [],
   "source": [
    "#подключаем библиотеки для работы с данными\n",
    "import pandas as pd\n",
    "import matplotlib.pyplot as plt\n",
    "import numpy as np"
   ]
  },
  {
   "cell_type": "code",
   "execution_count": 2,
   "metadata": {
    "scrolled": false
   },
   "outputs": [
    {
     "data": {
      "text/html": [
       "<div>\n",
       "<style scoped>\n",
       "    .dataframe tbody tr th:only-of-type {\n",
       "        vertical-align: middle;\n",
       "    }\n",
       "\n",
       "    .dataframe tbody tr th {\n",
       "        vertical-align: top;\n",
       "    }\n",
       "\n",
       "    .dataframe thead th {\n",
       "        text-align: right;\n",
       "    }\n",
       "</style>\n",
       "<table border=\"1\" class=\"dataframe\">\n",
       "  <thead>\n",
       "    <tr style=\"text-align: right;\">\n",
       "      <th></th>\n",
       "      <th>total_images</th>\n",
       "      <th>last_price</th>\n",
       "      <th>total_area</th>\n",
       "      <th>first_day_exposition</th>\n",
       "      <th>rooms</th>\n",
       "      <th>ceiling_height</th>\n",
       "      <th>floors_total</th>\n",
       "      <th>living_area</th>\n",
       "      <th>floor</th>\n",
       "      <th>is_apartment</th>\n",
       "      <th>...</th>\n",
       "      <th>kitchen_area</th>\n",
       "      <th>balcony</th>\n",
       "      <th>locality_name</th>\n",
       "      <th>airports_nearest</th>\n",
       "      <th>cityCenters_nearest</th>\n",
       "      <th>parks_around3000</th>\n",
       "      <th>parks_nearest</th>\n",
       "      <th>ponds_around3000</th>\n",
       "      <th>ponds_nearest</th>\n",
       "      <th>days_exposition</th>\n",
       "    </tr>\n",
       "  </thead>\n",
       "  <tbody>\n",
       "    <tr>\n",
       "      <th>0</th>\n",
       "      <td>20</td>\n",
       "      <td>13000000.0</td>\n",
       "      <td>108.0</td>\n",
       "      <td>2019-03-07T00:00:00</td>\n",
       "      <td>3</td>\n",
       "      <td>2.70</td>\n",
       "      <td>16.0</td>\n",
       "      <td>51.0</td>\n",
       "      <td>8</td>\n",
       "      <td>NaN</td>\n",
       "      <td>...</td>\n",
       "      <td>25.0</td>\n",
       "      <td>NaN</td>\n",
       "      <td>Санкт-Петербург</td>\n",
       "      <td>18863.0</td>\n",
       "      <td>16028.0</td>\n",
       "      <td>1.0</td>\n",
       "      <td>482.0</td>\n",
       "      <td>2.0</td>\n",
       "      <td>755.0</td>\n",
       "      <td>NaN</td>\n",
       "    </tr>\n",
       "    <tr>\n",
       "      <th>1</th>\n",
       "      <td>7</td>\n",
       "      <td>3350000.0</td>\n",
       "      <td>40.4</td>\n",
       "      <td>2018-12-04T00:00:00</td>\n",
       "      <td>1</td>\n",
       "      <td>NaN</td>\n",
       "      <td>11.0</td>\n",
       "      <td>18.6</td>\n",
       "      <td>1</td>\n",
       "      <td>NaN</td>\n",
       "      <td>...</td>\n",
       "      <td>11.0</td>\n",
       "      <td>2.0</td>\n",
       "      <td>посёлок Шушары</td>\n",
       "      <td>12817.0</td>\n",
       "      <td>18603.0</td>\n",
       "      <td>0.0</td>\n",
       "      <td>NaN</td>\n",
       "      <td>0.0</td>\n",
       "      <td>NaN</td>\n",
       "      <td>81.0</td>\n",
       "    </tr>\n",
       "    <tr>\n",
       "      <th>2</th>\n",
       "      <td>10</td>\n",
       "      <td>5196000.0</td>\n",
       "      <td>56.0</td>\n",
       "      <td>2015-08-20T00:00:00</td>\n",
       "      <td>2</td>\n",
       "      <td>NaN</td>\n",
       "      <td>5.0</td>\n",
       "      <td>34.3</td>\n",
       "      <td>4</td>\n",
       "      <td>NaN</td>\n",
       "      <td>...</td>\n",
       "      <td>8.3</td>\n",
       "      <td>0.0</td>\n",
       "      <td>Санкт-Петербург</td>\n",
       "      <td>21741.0</td>\n",
       "      <td>13933.0</td>\n",
       "      <td>1.0</td>\n",
       "      <td>90.0</td>\n",
       "      <td>2.0</td>\n",
       "      <td>574.0</td>\n",
       "      <td>558.0</td>\n",
       "    </tr>\n",
       "    <tr>\n",
       "      <th>3</th>\n",
       "      <td>0</td>\n",
       "      <td>64900000.0</td>\n",
       "      <td>159.0</td>\n",
       "      <td>2015-07-24T00:00:00</td>\n",
       "      <td>3</td>\n",
       "      <td>NaN</td>\n",
       "      <td>14.0</td>\n",
       "      <td>NaN</td>\n",
       "      <td>9</td>\n",
       "      <td>NaN</td>\n",
       "      <td>...</td>\n",
       "      <td>NaN</td>\n",
       "      <td>0.0</td>\n",
       "      <td>Санкт-Петербург</td>\n",
       "      <td>28098.0</td>\n",
       "      <td>6800.0</td>\n",
       "      <td>2.0</td>\n",
       "      <td>84.0</td>\n",
       "      <td>3.0</td>\n",
       "      <td>234.0</td>\n",
       "      <td>424.0</td>\n",
       "    </tr>\n",
       "    <tr>\n",
       "      <th>4</th>\n",
       "      <td>2</td>\n",
       "      <td>10000000.0</td>\n",
       "      <td>100.0</td>\n",
       "      <td>2018-06-19T00:00:00</td>\n",
       "      <td>2</td>\n",
       "      <td>3.03</td>\n",
       "      <td>14.0</td>\n",
       "      <td>32.0</td>\n",
       "      <td>13</td>\n",
       "      <td>NaN</td>\n",
       "      <td>...</td>\n",
       "      <td>41.0</td>\n",
       "      <td>NaN</td>\n",
       "      <td>Санкт-Петербург</td>\n",
       "      <td>31856.0</td>\n",
       "      <td>8098.0</td>\n",
       "      <td>2.0</td>\n",
       "      <td>112.0</td>\n",
       "      <td>1.0</td>\n",
       "      <td>48.0</td>\n",
       "      <td>121.0</td>\n",
       "    </tr>\n",
       "  </tbody>\n",
       "</table>\n",
       "<p>5 rows × 22 columns</p>\n",
       "</div>"
      ],
      "text/plain": [
       "   total_images  last_price  total_area first_day_exposition  rooms  \\\n",
       "0            20  13000000.0       108.0  2019-03-07T00:00:00      3   \n",
       "1             7   3350000.0        40.4  2018-12-04T00:00:00      1   \n",
       "2            10   5196000.0        56.0  2015-08-20T00:00:00      2   \n",
       "3             0  64900000.0       159.0  2015-07-24T00:00:00      3   \n",
       "4             2  10000000.0       100.0  2018-06-19T00:00:00      2   \n",
       "\n",
       "   ceiling_height  floors_total  living_area  floor is_apartment  ...  \\\n",
       "0            2.70          16.0         51.0      8          NaN  ...   \n",
       "1             NaN          11.0         18.6      1          NaN  ...   \n",
       "2             NaN           5.0         34.3      4          NaN  ...   \n",
       "3             NaN          14.0          NaN      9          NaN  ...   \n",
       "4            3.03          14.0         32.0     13          NaN  ...   \n",
       "\n",
       "   kitchen_area  balcony    locality_name  airports_nearest  \\\n",
       "0          25.0      NaN  Санкт-Петербург           18863.0   \n",
       "1          11.0      2.0   посёлок Шушары           12817.0   \n",
       "2           8.3      0.0  Санкт-Петербург           21741.0   \n",
       "3           NaN      0.0  Санкт-Петербург           28098.0   \n",
       "4          41.0      NaN  Санкт-Петербург           31856.0   \n",
       "\n",
       "  cityCenters_nearest  parks_around3000  parks_nearest  ponds_around3000  \\\n",
       "0             16028.0               1.0          482.0               2.0   \n",
       "1             18603.0               0.0            NaN               0.0   \n",
       "2             13933.0               1.0           90.0               2.0   \n",
       "3              6800.0               2.0           84.0               3.0   \n",
       "4              8098.0               2.0          112.0               1.0   \n",
       "\n",
       "   ponds_nearest  days_exposition  \n",
       "0          755.0              NaN  \n",
       "1            NaN             81.0  \n",
       "2          574.0            558.0  \n",
       "3          234.0            424.0  \n",
       "4           48.0            121.0  \n",
       "\n",
       "[5 rows x 22 columns]"
      ]
     },
     "execution_count": 2,
     "metadata": {},
     "output_type": "execute_result"
    }
   ],
   "source": [
    "#откроем файл для работы с данными\n",
    "data = pd.read_csv('/datasets/real_estate_data.csv',sep = '\\t')\n",
    "data.head(5)"
   ]
  },
  {
   "cell_type": "markdown",
   "metadata": {},
   "source": [
    "## Предобработка данных"
   ]
  },
  {
   "cell_type": "code",
   "execution_count": 3,
   "metadata": {},
   "outputs": [
    {
     "name": "stdout",
     "output_type": "stream",
     "text": [
      "<class 'pandas.core.frame.DataFrame'>\n",
      "RangeIndex: 23699 entries, 0 to 23698\n",
      "Data columns (total 22 columns):\n",
      " #   Column                Non-Null Count  Dtype  \n",
      "---  ------                --------------  -----  \n",
      " 0   total_images          23699 non-null  int64  \n",
      " 1   last_price            23699 non-null  float64\n",
      " 2   total_area            23699 non-null  float64\n",
      " 3   first_day_exposition  23699 non-null  object \n",
      " 4   rooms                 23699 non-null  int64  \n",
      " 5   ceiling_height        14504 non-null  float64\n",
      " 6   floors_total          23613 non-null  float64\n",
      " 7   living_area           21796 non-null  float64\n",
      " 8   floor                 23699 non-null  int64  \n",
      " 9   is_apartment          2775 non-null   object \n",
      " 10  studio                23699 non-null  bool   \n",
      " 11  open_plan             23699 non-null  bool   \n",
      " 12  kitchen_area          21421 non-null  float64\n",
      " 13  balcony               12180 non-null  float64\n",
      " 14  locality_name         23650 non-null  object \n",
      " 15  airports_nearest      18157 non-null  float64\n",
      " 16  cityCenters_nearest   18180 non-null  float64\n",
      " 17  parks_around3000      18181 non-null  float64\n",
      " 18  parks_nearest         8079 non-null   float64\n",
      " 19  ponds_around3000      18181 non-null  float64\n",
      " 20  ponds_nearest         9110 non-null   float64\n",
      " 21  days_exposition       20518 non-null  float64\n",
      "dtypes: bool(2), float64(14), int64(3), object(3)\n",
      "memory usage: 3.7+ MB\n"
     ]
    }
   ],
   "source": [
    "#изучим общую информацию о данных\n",
    "data.info()"
   ]
  },
  {
   "cell_type": "code",
   "execution_count": 4,
   "metadata": {
    "scrolled": true
   },
   "outputs": [
    {
     "data": {
      "text/plain": [
       "total_images             0.000000\n",
       "last_price               0.000000\n",
       "total_area               0.000000\n",
       "first_day_exposition     0.000000\n",
       "rooms                    0.000000\n",
       "ceiling_height          38.799105\n",
       "floors_total             0.362885\n",
       "living_area              8.029875\n",
       "floor                    0.000000\n",
       "is_apartment            88.290645\n",
       "studio                   0.000000\n",
       "open_plan                0.000000\n",
       "kitchen_area             9.612220\n",
       "balcony                 48.605426\n",
       "locality_name            0.206760\n",
       "airports_nearest        23.384953\n",
       "cityCenters_nearest     23.287902\n",
       "parks_around3000        23.283683\n",
       "parks_nearest           65.909954\n",
       "ponds_around3000        23.283683\n",
       "ponds_nearest           61.559559\n",
       "days_exposition         13.422507\n",
       "dtype: float64"
      ]
     },
     "execution_count": 4,
     "metadata": {},
     "output_type": "execute_result"
    }
   ],
   "source": [
    "#узнаем долю пропущенных значений в процентном выражении\n",
    "data.isna().mean()*100."
   ]
  },
  {
   "cell_type": "code",
   "execution_count": 5,
   "metadata": {},
   "outputs": [
    {
     "data": {
      "text/plain": [
       "0"
      ]
     },
     "execution_count": 5,
     "metadata": {},
     "output_type": "execute_result"
    }
   ],
   "source": [
    "#узнаем количесвто полных дубликотов\n",
    "data.duplicated().sum()"
   ]
  },
  {
   "cell_type": "code",
   "execution_count": 6,
   "metadata": {
    "scrolled": false
   },
   "outputs": [
    {
     "data": {
      "text/html": [
       "<div>\n",
       "<style scoped>\n",
       "    .dataframe tbody tr th:only-of-type {\n",
       "        vertical-align: middle;\n",
       "    }\n",
       "\n",
       "    .dataframe tbody tr th {\n",
       "        vertical-align: top;\n",
       "    }\n",
       "\n",
       "    .dataframe thead th {\n",
       "        text-align: right;\n",
       "    }\n",
       "</style>\n",
       "<table border=\"1\" class=\"dataframe\">\n",
       "  <thead>\n",
       "    <tr style=\"text-align: right;\">\n",
       "      <th></th>\n",
       "      <th>total_images</th>\n",
       "      <th>last_price</th>\n",
       "      <th>total_area</th>\n",
       "      <th>rooms</th>\n",
       "      <th>ceiling_height</th>\n",
       "      <th>floors_total</th>\n",
       "      <th>living_area</th>\n",
       "      <th>floor</th>\n",
       "      <th>kitchen_area</th>\n",
       "      <th>balcony</th>\n",
       "      <th>airports_nearest</th>\n",
       "      <th>cityCenters_nearest</th>\n",
       "      <th>parks_around3000</th>\n",
       "      <th>parks_nearest</th>\n",
       "      <th>ponds_around3000</th>\n",
       "      <th>ponds_nearest</th>\n",
       "      <th>days_exposition</th>\n",
       "    </tr>\n",
       "  </thead>\n",
       "  <tbody>\n",
       "    <tr>\n",
       "      <th>count</th>\n",
       "      <td>23699.000000</td>\n",
       "      <td>2.369900e+04</td>\n",
       "      <td>23699.000000</td>\n",
       "      <td>23699.000000</td>\n",
       "      <td>14504.000000</td>\n",
       "      <td>23613.000000</td>\n",
       "      <td>21796.000000</td>\n",
       "      <td>23699.000000</td>\n",
       "      <td>21421.000000</td>\n",
       "      <td>12180.000000</td>\n",
       "      <td>18157.000000</td>\n",
       "      <td>18180.000000</td>\n",
       "      <td>18181.000000</td>\n",
       "      <td>8079.000000</td>\n",
       "      <td>18181.000000</td>\n",
       "      <td>9110.000000</td>\n",
       "      <td>20518.000000</td>\n",
       "    </tr>\n",
       "    <tr>\n",
       "      <th>mean</th>\n",
       "      <td>9.858475</td>\n",
       "      <td>6.541549e+06</td>\n",
       "      <td>60.348651</td>\n",
       "      <td>2.070636</td>\n",
       "      <td>2.771499</td>\n",
       "      <td>10.673824</td>\n",
       "      <td>34.457852</td>\n",
       "      <td>5.892358</td>\n",
       "      <td>10.569807</td>\n",
       "      <td>1.150082</td>\n",
       "      <td>28793.672193</td>\n",
       "      <td>14191.277833</td>\n",
       "      <td>0.611408</td>\n",
       "      <td>490.804555</td>\n",
       "      <td>0.770255</td>\n",
       "      <td>517.980900</td>\n",
       "      <td>180.888634</td>\n",
       "    </tr>\n",
       "    <tr>\n",
       "      <th>std</th>\n",
       "      <td>5.682529</td>\n",
       "      <td>1.088701e+07</td>\n",
       "      <td>35.654083</td>\n",
       "      <td>1.078405</td>\n",
       "      <td>1.261056</td>\n",
       "      <td>6.597173</td>\n",
       "      <td>22.030445</td>\n",
       "      <td>4.885249</td>\n",
       "      <td>5.905438</td>\n",
       "      <td>1.071300</td>\n",
       "      <td>12630.880622</td>\n",
       "      <td>8608.386210</td>\n",
       "      <td>0.802074</td>\n",
       "      <td>342.317995</td>\n",
       "      <td>0.938346</td>\n",
       "      <td>277.720643</td>\n",
       "      <td>219.727988</td>\n",
       "    </tr>\n",
       "    <tr>\n",
       "      <th>min</th>\n",
       "      <td>0.000000</td>\n",
       "      <td>1.219000e+04</td>\n",
       "      <td>12.000000</td>\n",
       "      <td>0.000000</td>\n",
       "      <td>1.000000</td>\n",
       "      <td>1.000000</td>\n",
       "      <td>2.000000</td>\n",
       "      <td>1.000000</td>\n",
       "      <td>1.300000</td>\n",
       "      <td>0.000000</td>\n",
       "      <td>0.000000</td>\n",
       "      <td>181.000000</td>\n",
       "      <td>0.000000</td>\n",
       "      <td>1.000000</td>\n",
       "      <td>0.000000</td>\n",
       "      <td>13.000000</td>\n",
       "      <td>1.000000</td>\n",
       "    </tr>\n",
       "    <tr>\n",
       "      <th>25%</th>\n",
       "      <td>6.000000</td>\n",
       "      <td>3.400000e+06</td>\n",
       "      <td>40.000000</td>\n",
       "      <td>1.000000</td>\n",
       "      <td>2.520000</td>\n",
       "      <td>5.000000</td>\n",
       "      <td>18.600000</td>\n",
       "      <td>2.000000</td>\n",
       "      <td>7.000000</td>\n",
       "      <td>0.000000</td>\n",
       "      <td>18585.000000</td>\n",
       "      <td>9238.000000</td>\n",
       "      <td>0.000000</td>\n",
       "      <td>288.000000</td>\n",
       "      <td>0.000000</td>\n",
       "      <td>294.000000</td>\n",
       "      <td>45.000000</td>\n",
       "    </tr>\n",
       "    <tr>\n",
       "      <th>50%</th>\n",
       "      <td>9.000000</td>\n",
       "      <td>4.650000e+06</td>\n",
       "      <td>52.000000</td>\n",
       "      <td>2.000000</td>\n",
       "      <td>2.650000</td>\n",
       "      <td>9.000000</td>\n",
       "      <td>30.000000</td>\n",
       "      <td>4.000000</td>\n",
       "      <td>9.100000</td>\n",
       "      <td>1.000000</td>\n",
       "      <td>26726.000000</td>\n",
       "      <td>13098.500000</td>\n",
       "      <td>0.000000</td>\n",
       "      <td>455.000000</td>\n",
       "      <td>1.000000</td>\n",
       "      <td>502.000000</td>\n",
       "      <td>95.000000</td>\n",
       "    </tr>\n",
       "    <tr>\n",
       "      <th>75%</th>\n",
       "      <td>14.000000</td>\n",
       "      <td>6.800000e+06</td>\n",
       "      <td>69.900000</td>\n",
       "      <td>3.000000</td>\n",
       "      <td>2.800000</td>\n",
       "      <td>16.000000</td>\n",
       "      <td>42.300000</td>\n",
       "      <td>8.000000</td>\n",
       "      <td>12.000000</td>\n",
       "      <td>2.000000</td>\n",
       "      <td>37273.000000</td>\n",
       "      <td>16293.000000</td>\n",
       "      <td>1.000000</td>\n",
       "      <td>612.000000</td>\n",
       "      <td>1.000000</td>\n",
       "      <td>729.000000</td>\n",
       "      <td>232.000000</td>\n",
       "    </tr>\n",
       "    <tr>\n",
       "      <th>max</th>\n",
       "      <td>50.000000</td>\n",
       "      <td>7.630000e+08</td>\n",
       "      <td>900.000000</td>\n",
       "      <td>19.000000</td>\n",
       "      <td>100.000000</td>\n",
       "      <td>60.000000</td>\n",
       "      <td>409.700000</td>\n",
       "      <td>33.000000</td>\n",
       "      <td>112.000000</td>\n",
       "      <td>5.000000</td>\n",
       "      <td>84869.000000</td>\n",
       "      <td>65968.000000</td>\n",
       "      <td>3.000000</td>\n",
       "      <td>3190.000000</td>\n",
       "      <td>3.000000</td>\n",
       "      <td>1344.000000</td>\n",
       "      <td>1580.000000</td>\n",
       "    </tr>\n",
       "  </tbody>\n",
       "</table>\n",
       "</div>"
      ],
      "text/plain": [
       "       total_images    last_price    total_area         rooms  ceiling_height  \\\n",
       "count  23699.000000  2.369900e+04  23699.000000  23699.000000    14504.000000   \n",
       "mean       9.858475  6.541549e+06     60.348651      2.070636        2.771499   \n",
       "std        5.682529  1.088701e+07     35.654083      1.078405        1.261056   \n",
       "min        0.000000  1.219000e+04     12.000000      0.000000        1.000000   \n",
       "25%        6.000000  3.400000e+06     40.000000      1.000000        2.520000   \n",
       "50%        9.000000  4.650000e+06     52.000000      2.000000        2.650000   \n",
       "75%       14.000000  6.800000e+06     69.900000      3.000000        2.800000   \n",
       "max       50.000000  7.630000e+08    900.000000     19.000000      100.000000   \n",
       "\n",
       "       floors_total   living_area         floor  kitchen_area       balcony  \\\n",
       "count  23613.000000  21796.000000  23699.000000  21421.000000  12180.000000   \n",
       "mean      10.673824     34.457852      5.892358     10.569807      1.150082   \n",
       "std        6.597173     22.030445      4.885249      5.905438      1.071300   \n",
       "min        1.000000      2.000000      1.000000      1.300000      0.000000   \n",
       "25%        5.000000     18.600000      2.000000      7.000000      0.000000   \n",
       "50%        9.000000     30.000000      4.000000      9.100000      1.000000   \n",
       "75%       16.000000     42.300000      8.000000     12.000000      2.000000   \n",
       "max       60.000000    409.700000     33.000000    112.000000      5.000000   \n",
       "\n",
       "       airports_nearest  cityCenters_nearest  parks_around3000  parks_nearest  \\\n",
       "count      18157.000000         18180.000000      18181.000000    8079.000000   \n",
       "mean       28793.672193         14191.277833          0.611408     490.804555   \n",
       "std        12630.880622          8608.386210          0.802074     342.317995   \n",
       "min            0.000000           181.000000          0.000000       1.000000   \n",
       "25%        18585.000000          9238.000000          0.000000     288.000000   \n",
       "50%        26726.000000         13098.500000          0.000000     455.000000   \n",
       "75%        37273.000000         16293.000000          1.000000     612.000000   \n",
       "max        84869.000000         65968.000000          3.000000    3190.000000   \n",
       "\n",
       "       ponds_around3000  ponds_nearest  days_exposition  \n",
       "count      18181.000000    9110.000000     20518.000000  \n",
       "mean           0.770255     517.980900       180.888634  \n",
       "std            0.938346     277.720643       219.727988  \n",
       "min            0.000000      13.000000         1.000000  \n",
       "25%            0.000000     294.000000        45.000000  \n",
       "50%            1.000000     502.000000        95.000000  \n",
       "75%            1.000000     729.000000       232.000000  \n",
       "max            3.000000    1344.000000      1580.000000  "
      ]
     },
     "execution_count": 6,
     "metadata": {},
     "output_type": "execute_result"
    }
   ],
   "source": [
    "#получим информацию о распределении значений\n",
    "data.describe()"
   ]
  },
  {
   "cell_type": "markdown",
   "metadata": {},
   "source": [
    "**В результате первичного анализа данных были обнаружены пропуски и аномальные значения:**\n",
    "- в столбце ceiling_height доля пропущенных значений составляет 39%, что, скорее всего, связано с пропуском поля данных о высоте помещения при заполнении объявления. Доля пропущенных значений значительная, в данном случае заполнение пропусков медианным значением с группировкой по населенному пункту будет наименее искажающим значанием общий вывод, хотя, конечно же, скажется на чистоте результата. Если бы в данных присутствовал год  или тип (сталинка, хрущевка, панельный) постройки, то искажение результатов было бы минимальным. Также присутствуют аномальные значения высоты потолка:1 м, 100 м. На этапе предобработки данных не имеет смысла избавляться от аномальных значений. От них можно будет избавиться после построения диаграммы размаха, не включив данные значения в выборку для анализа.\n",
    "- в столбце is_apartment наибольшее количество пропусков - 88%, которые могли появиться при пропуске поля при заполнении объявления. Скорее всего, отсутвующие значения в столбце означает, что объект недвижимости не относится к апартаментам. Заполнить пропуски булевым значением False и изменить тип данных столбца на булев тип. \n",
    "- в столбцах living_area и kitchen_area пропусков около 8-9%, появлении обусловлено с  пропусками полей данных о площади при заполнении объявления. В данном случае заполнить пропуски предлагается медианным значением с группировкой по количеству комнат. Аномально малые и большие значения также обработать в процессе выборки для анализа.\n",
    "-  в столбце floors_total доля пропусков менее 1 %, а именно 0,3%, доля незначительная - поэтому можно удалить строки с отсутвующим значением, либо заполнить медианным значением по столбцу. Результат заполнения пропуска не повлияет на общий вывод. \n",
    "- в столбце balcony доля пропусков 49%, можно предположить, что поле с данными о кол-ве балконов заполнялось в объявлении только при наличии балконов. Таким образом, пропуски. скорее всего, говорят об отсутствии балконов, необходимо заменить пропуски на 0.\n",
    "- в столбце locality_name доля пропусков незначительная - 0,2 %, строки с пропущенными значениями в столбце необходимо удалить\n",
    "- в столбце airports_nearest пропуски составляют 23%. Значения данного столбца не будут использованы для общего вывода исследования, поэтому пропуски можно было бы не запонять, вместе с тем для определения факторов влияющих на стоимость квартиры пропуски можно заполнить медианным значением с группировкой по населенному пункту.\n",
    "- в столбце cityCenters_nearest также 23% пропусков. Однако данные этого столбца необходимы для построения общих выводов. Заполнить предлагается медианным значением с группировкой по населенному пункту. Также присутвует аномально большое значение удаленности от центра в 66 км, исключить при выборке данных для анализа. \n",
    "- в слобце parks_around3000 23 %  - пропуски, из названия стобца следует, что парки должны быть в радиусе 3 км, скорее всего пропуски свидетельствуют об отстутствии парков. Это предположение косвенно подтверждается распределением значений в выборке, но вместе с тем  пропуски предлагается заполнить медианным значением с группировкой по населенным пунктам.\n",
    "- в столбце parks_nearest 65 % пропусков, что довольно много. Есть предположение, что отстутствие данных в данном столбце связано с отсутствием парков в радиусе 3 км, также косвенно это подверждается максимальным значением удаленности парка в 3 км. Проверить гипотезу можно будет, отфильтровав датасет по отсутствию в радиусе 3км парков и   пропусков в столбце расстояние. Если гипотеза подтвердится, то пропуски можно будет заполнить максимальным значением.  \n",
    "- в столбцах ponds_around3000 и рonds_nearest похожая закономерность, что и в столбцах с информацией о парках.  \n",
    "- в столбце days_exposition 13% пропусков, скорее всего, их появление обусловлено тем, что объявление по какой-то причине не было снято с публикации. Заполнить пропуски можно изучив дату размещения объявления, а сроком окончания публикации можно принять дату завершния исследования. Аномально короткие и длинные сроки экспозиции объекта недвижимости можно будет оценить на факт вброса только после построения диаграммы рассеивания. "
   ]
  },
  {
   "cell_type": "code",
   "execution_count": 7,
   "metadata": {},
   "outputs": [
    {
     "name": "stderr",
     "output_type": "stream",
     "text": [
      "/opt/conda/lib/python3.9/site-packages/numpy/lib/nanfunctions.py:1117: RuntimeWarning: Mean of empty slice\n",
      "  return np.nanmean(a, axis, out=out, keepdims=keepdims)\n",
      "/opt/conda/lib/python3.9/site-packages/numpy/lib/nanfunctions.py:1117: RuntimeWarning: Mean of empty slice\n",
      "  return np.nanmean(a, axis, out=out, keepdims=keepdims)\n",
      "/opt/conda/lib/python3.9/site-packages/numpy/lib/nanfunctions.py:1117: RuntimeWarning: Mean of empty slice\n",
      "  return np.nanmean(a, axis, out=out, keepdims=keepdims)\n",
      "/opt/conda/lib/python3.9/site-packages/numpy/lib/nanfunctions.py:1117: RuntimeWarning: Mean of empty slice\n",
      "  return np.nanmean(a, axis, out=out, keepdims=keepdims)\n",
      "/opt/conda/lib/python3.9/site-packages/numpy/lib/nanfunctions.py:1117: RuntimeWarning: Mean of empty slice\n",
      "  return np.nanmean(a, axis, out=out, keepdims=keepdims)\n",
      "/opt/conda/lib/python3.9/site-packages/numpy/lib/nanfunctions.py:1117: RuntimeWarning: Mean of empty slice\n",
      "  return np.nanmean(a, axis, out=out, keepdims=keepdims)\n",
      "/opt/conda/lib/python3.9/site-packages/numpy/lib/nanfunctions.py:1117: RuntimeWarning: Mean of empty slice\n",
      "  return np.nanmean(a, axis, out=out, keepdims=keepdims)\n",
      "/opt/conda/lib/python3.9/site-packages/numpy/lib/nanfunctions.py:1117: RuntimeWarning: Mean of empty slice\n",
      "  return np.nanmean(a, axis, out=out, keepdims=keepdims)\n",
      "/opt/conda/lib/python3.9/site-packages/numpy/lib/nanfunctions.py:1117: RuntimeWarning: Mean of empty slice\n",
      "  return np.nanmean(a, axis, out=out, keepdims=keepdims)\n",
      "/opt/conda/lib/python3.9/site-packages/numpy/lib/nanfunctions.py:1117: RuntimeWarning: Mean of empty slice\n",
      "  return np.nanmean(a, axis, out=out, keepdims=keepdims)\n",
      "/opt/conda/lib/python3.9/site-packages/numpy/lib/nanfunctions.py:1117: RuntimeWarning: Mean of empty slice\n",
      "  return np.nanmean(a, axis, out=out, keepdims=keepdims)\n",
      "/opt/conda/lib/python3.9/site-packages/numpy/lib/nanfunctions.py:1117: RuntimeWarning: Mean of empty slice\n",
      "  return np.nanmean(a, axis, out=out, keepdims=keepdims)\n",
      "/opt/conda/lib/python3.9/site-packages/numpy/lib/nanfunctions.py:1117: RuntimeWarning: Mean of empty slice\n",
      "  return np.nanmean(a, axis, out=out, keepdims=keepdims)\n",
      "/opt/conda/lib/python3.9/site-packages/numpy/lib/nanfunctions.py:1117: RuntimeWarning: Mean of empty slice\n",
      "  return np.nanmean(a, axis, out=out, keepdims=keepdims)\n",
      "/opt/conda/lib/python3.9/site-packages/numpy/lib/nanfunctions.py:1117: RuntimeWarning: Mean of empty slice\n",
      "  return np.nanmean(a, axis, out=out, keepdims=keepdims)\n",
      "/opt/conda/lib/python3.9/site-packages/numpy/lib/nanfunctions.py:1117: RuntimeWarning: Mean of empty slice\n",
      "  return np.nanmean(a, axis, out=out, keepdims=keepdims)\n",
      "/opt/conda/lib/python3.9/site-packages/numpy/lib/nanfunctions.py:1117: RuntimeWarning: Mean of empty slice\n",
      "  return np.nanmean(a, axis, out=out, keepdims=keepdims)\n",
      "/opt/conda/lib/python3.9/site-packages/numpy/lib/nanfunctions.py:1117: RuntimeWarning: Mean of empty slice\n",
      "  return np.nanmean(a, axis, out=out, keepdims=keepdims)\n",
      "/opt/conda/lib/python3.9/site-packages/numpy/lib/nanfunctions.py:1117: RuntimeWarning: Mean of empty slice\n",
      "  return np.nanmean(a, axis, out=out, keepdims=keepdims)\n",
      "/opt/conda/lib/python3.9/site-packages/numpy/lib/nanfunctions.py:1117: RuntimeWarning: Mean of empty slice\n",
      "  return np.nanmean(a, axis, out=out, keepdims=keepdims)\n",
      "/opt/conda/lib/python3.9/site-packages/numpy/lib/nanfunctions.py:1117: RuntimeWarning: Mean of empty slice\n",
      "  return np.nanmean(a, axis, out=out, keepdims=keepdims)\n",
      "/opt/conda/lib/python3.9/site-packages/numpy/lib/nanfunctions.py:1117: RuntimeWarning: Mean of empty slice\n",
      "  return np.nanmean(a, axis, out=out, keepdims=keepdims)\n",
      "/opt/conda/lib/python3.9/site-packages/numpy/lib/nanfunctions.py:1117: RuntimeWarning: Mean of empty slice\n",
      "  return np.nanmean(a, axis, out=out, keepdims=keepdims)\n",
      "/opt/conda/lib/python3.9/site-packages/numpy/lib/nanfunctions.py:1117: RuntimeWarning: Mean of empty slice\n",
      "  return np.nanmean(a, axis, out=out, keepdims=keepdims)\n",
      "/opt/conda/lib/python3.9/site-packages/numpy/lib/nanfunctions.py:1117: RuntimeWarning: Mean of empty slice\n",
      "  return np.nanmean(a, axis, out=out, keepdims=keepdims)\n",
      "/opt/conda/lib/python3.9/site-packages/numpy/lib/nanfunctions.py:1117: RuntimeWarning: Mean of empty slice\n",
      "  return np.nanmean(a, axis, out=out, keepdims=keepdims)\n",
      "/opt/conda/lib/python3.9/site-packages/numpy/lib/nanfunctions.py:1117: RuntimeWarning: Mean of empty slice\n",
      "  return np.nanmean(a, axis, out=out, keepdims=keepdims)\n",
      "/opt/conda/lib/python3.9/site-packages/numpy/lib/nanfunctions.py:1117: RuntimeWarning: Mean of empty slice\n",
      "  return np.nanmean(a, axis, out=out, keepdims=keepdims)\n",
      "/opt/conda/lib/python3.9/site-packages/numpy/lib/nanfunctions.py:1117: RuntimeWarning: Mean of empty slice\n",
      "  return np.nanmean(a, axis, out=out, keepdims=keepdims)\n",
      "/opt/conda/lib/python3.9/site-packages/numpy/lib/nanfunctions.py:1117: RuntimeWarning: Mean of empty slice\n",
      "  return np.nanmean(a, axis, out=out, keepdims=keepdims)\n",
      "/opt/conda/lib/python3.9/site-packages/numpy/lib/nanfunctions.py:1117: RuntimeWarning: Mean of empty slice\n",
      "  return np.nanmean(a, axis, out=out, keepdims=keepdims)\n",
      "/opt/conda/lib/python3.9/site-packages/numpy/lib/nanfunctions.py:1117: RuntimeWarning: Mean of empty slice\n",
      "  return np.nanmean(a, axis, out=out, keepdims=keepdims)\n",
      "/opt/conda/lib/python3.9/site-packages/numpy/lib/nanfunctions.py:1117: RuntimeWarning: Mean of empty slice\n",
      "  return np.nanmean(a, axis, out=out, keepdims=keepdims)\n",
      "/opt/conda/lib/python3.9/site-packages/numpy/lib/nanfunctions.py:1117: RuntimeWarning: Mean of empty slice\n",
      "  return np.nanmean(a, axis, out=out, keepdims=keepdims)\n",
      "/opt/conda/lib/python3.9/site-packages/numpy/lib/nanfunctions.py:1117: RuntimeWarning: Mean of empty slice\n",
      "  return np.nanmean(a, axis, out=out, keepdims=keepdims)\n",
      "/opt/conda/lib/python3.9/site-packages/numpy/lib/nanfunctions.py:1117: RuntimeWarning: Mean of empty slice\n",
      "  return np.nanmean(a, axis, out=out, keepdims=keepdims)\n",
      "/opt/conda/lib/python3.9/site-packages/numpy/lib/nanfunctions.py:1117: RuntimeWarning: Mean of empty slice\n",
      "  return np.nanmean(a, axis, out=out, keepdims=keepdims)\n",
      "/opt/conda/lib/python3.9/site-packages/numpy/lib/nanfunctions.py:1117: RuntimeWarning: Mean of empty slice\n",
      "  return np.nanmean(a, axis, out=out, keepdims=keepdims)\n",
      "/opt/conda/lib/python3.9/site-packages/numpy/lib/nanfunctions.py:1117: RuntimeWarning: Mean of empty slice\n",
      "  return np.nanmean(a, axis, out=out, keepdims=keepdims)\n",
      "/opt/conda/lib/python3.9/site-packages/numpy/lib/nanfunctions.py:1117: RuntimeWarning: Mean of empty slice\n",
      "  return np.nanmean(a, axis, out=out, keepdims=keepdims)\n",
      "/opt/conda/lib/python3.9/site-packages/numpy/lib/nanfunctions.py:1117: RuntimeWarning: Mean of empty slice\n",
      "  return np.nanmean(a, axis, out=out, keepdims=keepdims)\n",
      "/opt/conda/lib/python3.9/site-packages/numpy/lib/nanfunctions.py:1117: RuntimeWarning: Mean of empty slice\n",
      "  return np.nanmean(a, axis, out=out, keepdims=keepdims)\n",
      "/opt/conda/lib/python3.9/site-packages/numpy/lib/nanfunctions.py:1117: RuntimeWarning: Mean of empty slice\n",
      "  return np.nanmean(a, axis, out=out, keepdims=keepdims)\n",
      "/opt/conda/lib/python3.9/site-packages/numpy/lib/nanfunctions.py:1117: RuntimeWarning: Mean of empty slice\n",
      "  return np.nanmean(a, axis, out=out, keepdims=keepdims)\n",
      "/opt/conda/lib/python3.9/site-packages/numpy/lib/nanfunctions.py:1117: RuntimeWarning: Mean of empty slice\n",
      "  return np.nanmean(a, axis, out=out, keepdims=keepdims)\n",
      "/opt/conda/lib/python3.9/site-packages/numpy/lib/nanfunctions.py:1117: RuntimeWarning: Mean of empty slice\n",
      "  return np.nanmean(a, axis, out=out, keepdims=keepdims)\n",
      "/opt/conda/lib/python3.9/site-packages/numpy/lib/nanfunctions.py:1117: RuntimeWarning: Mean of empty slice\n",
      "  return np.nanmean(a, axis, out=out, keepdims=keepdims)\n",
      "/opt/conda/lib/python3.9/site-packages/numpy/lib/nanfunctions.py:1117: RuntimeWarning: Mean of empty slice\n",
      "  return np.nanmean(a, axis, out=out, keepdims=keepdims)\n",
      "/opt/conda/lib/python3.9/site-packages/numpy/lib/nanfunctions.py:1117: RuntimeWarning: Mean of empty slice\n",
      "  return np.nanmean(a, axis, out=out, keepdims=keepdims)\n",
      "/opt/conda/lib/python3.9/site-packages/numpy/lib/nanfunctions.py:1117: RuntimeWarning: Mean of empty slice\n",
      "  return np.nanmean(a, axis, out=out, keepdims=keepdims)\n",
      "/opt/conda/lib/python3.9/site-packages/numpy/lib/nanfunctions.py:1117: RuntimeWarning: Mean of empty slice\n",
      "  return np.nanmean(a, axis, out=out, keepdims=keepdims)\n",
      "/opt/conda/lib/python3.9/site-packages/numpy/lib/nanfunctions.py:1117: RuntimeWarning: Mean of empty slice\n",
      "  return np.nanmean(a, axis, out=out, keepdims=keepdims)\n",
      "/opt/conda/lib/python3.9/site-packages/numpy/lib/nanfunctions.py:1117: RuntimeWarning: Mean of empty slice\n",
      "  return np.nanmean(a, axis, out=out, keepdims=keepdims)\n",
      "/opt/conda/lib/python3.9/site-packages/numpy/lib/nanfunctions.py:1117: RuntimeWarning: Mean of empty slice\n",
      "  return np.nanmean(a, axis, out=out, keepdims=keepdims)\n",
      "/opt/conda/lib/python3.9/site-packages/numpy/lib/nanfunctions.py:1117: RuntimeWarning: Mean of empty slice\n",
      "  return np.nanmean(a, axis, out=out, keepdims=keepdims)\n",
      "/opt/conda/lib/python3.9/site-packages/numpy/lib/nanfunctions.py:1117: RuntimeWarning: Mean of empty slice\n",
      "  return np.nanmean(a, axis, out=out, keepdims=keepdims)\n",
      "/opt/conda/lib/python3.9/site-packages/numpy/lib/nanfunctions.py:1117: RuntimeWarning: Mean of empty slice\n",
      "  return np.nanmean(a, axis, out=out, keepdims=keepdims)\n",
      "/opt/conda/lib/python3.9/site-packages/numpy/lib/nanfunctions.py:1117: RuntimeWarning: Mean of empty slice\n",
      "  return np.nanmean(a, axis, out=out, keepdims=keepdims)\n",
      "/opt/conda/lib/python3.9/site-packages/numpy/lib/nanfunctions.py:1117: RuntimeWarning: Mean of empty slice\n",
      "  return np.nanmean(a, axis, out=out, keepdims=keepdims)\n",
      "/opt/conda/lib/python3.9/site-packages/numpy/lib/nanfunctions.py:1117: RuntimeWarning: Mean of empty slice\n",
      "  return np.nanmean(a, axis, out=out, keepdims=keepdims)\n",
      "/opt/conda/lib/python3.9/site-packages/numpy/lib/nanfunctions.py:1117: RuntimeWarning: Mean of empty slice\n",
      "  return np.nanmean(a, axis, out=out, keepdims=keepdims)\n",
      "/opt/conda/lib/python3.9/site-packages/numpy/lib/nanfunctions.py:1117: RuntimeWarning: Mean of empty slice\n",
      "  return np.nanmean(a, axis, out=out, keepdims=keepdims)\n",
      "/opt/conda/lib/python3.9/site-packages/numpy/lib/nanfunctions.py:1117: RuntimeWarning: Mean of empty slice\n",
      "  return np.nanmean(a, axis, out=out, keepdims=keepdims)\n",
      "/opt/conda/lib/python3.9/site-packages/numpy/lib/nanfunctions.py:1117: RuntimeWarning: Mean of empty slice\n",
      "  return np.nanmean(a, axis, out=out, keepdims=keepdims)\n",
      "/opt/conda/lib/python3.9/site-packages/numpy/lib/nanfunctions.py:1117: RuntimeWarning: Mean of empty slice\n",
      "  return np.nanmean(a, axis, out=out, keepdims=keepdims)\n",
      "/opt/conda/lib/python3.9/site-packages/numpy/lib/nanfunctions.py:1117: RuntimeWarning: Mean of empty slice\n",
      "  return np.nanmean(a, axis, out=out, keepdims=keepdims)\n",
      "/opt/conda/lib/python3.9/site-packages/numpy/lib/nanfunctions.py:1117: RuntimeWarning: Mean of empty slice\n",
      "  return np.nanmean(a, axis, out=out, keepdims=keepdims)\n",
      "/opt/conda/lib/python3.9/site-packages/numpy/lib/nanfunctions.py:1117: RuntimeWarning: Mean of empty slice\n",
      "  return np.nanmean(a, axis, out=out, keepdims=keepdims)\n",
      "/opt/conda/lib/python3.9/site-packages/numpy/lib/nanfunctions.py:1117: RuntimeWarning: Mean of empty slice\n",
      "  return np.nanmean(a, axis, out=out, keepdims=keepdims)\n",
      "/opt/conda/lib/python3.9/site-packages/numpy/lib/nanfunctions.py:1117: RuntimeWarning: Mean of empty slice\n",
      "  return np.nanmean(a, axis, out=out, keepdims=keepdims)\n",
      "/opt/conda/lib/python3.9/site-packages/numpy/lib/nanfunctions.py:1117: RuntimeWarning: Mean of empty slice\n",
      "  return np.nanmean(a, axis, out=out, keepdims=keepdims)\n",
      "/opt/conda/lib/python3.9/site-packages/numpy/lib/nanfunctions.py:1117: RuntimeWarning: Mean of empty slice\n",
      "  return np.nanmean(a, axis, out=out, keepdims=keepdims)\n",
      "/opt/conda/lib/python3.9/site-packages/numpy/lib/nanfunctions.py:1117: RuntimeWarning: Mean of empty slice\n",
      "  return np.nanmean(a, axis, out=out, keepdims=keepdims)\n",
      "/opt/conda/lib/python3.9/site-packages/numpy/lib/nanfunctions.py:1117: RuntimeWarning: Mean of empty slice\n",
      "  return np.nanmean(a, axis, out=out, keepdims=keepdims)\n",
      "/opt/conda/lib/python3.9/site-packages/numpy/lib/nanfunctions.py:1117: RuntimeWarning: Mean of empty slice\n",
      "  return np.nanmean(a, axis, out=out, keepdims=keepdims)\n",
      "/opt/conda/lib/python3.9/site-packages/numpy/lib/nanfunctions.py:1117: RuntimeWarning: Mean of empty slice\n",
      "  return np.nanmean(a, axis, out=out, keepdims=keepdims)\n",
      "/opt/conda/lib/python3.9/site-packages/numpy/lib/nanfunctions.py:1117: RuntimeWarning: Mean of empty slice\n",
      "  return np.nanmean(a, axis, out=out, keepdims=keepdims)\n",
      "/opt/conda/lib/python3.9/site-packages/numpy/lib/nanfunctions.py:1117: RuntimeWarning: Mean of empty slice\n",
      "  return np.nanmean(a, axis, out=out, keepdims=keepdims)\n",
      "/opt/conda/lib/python3.9/site-packages/numpy/lib/nanfunctions.py:1117: RuntimeWarning: Mean of empty slice\n",
      "  return np.nanmean(a, axis, out=out, keepdims=keepdims)\n",
      "/opt/conda/lib/python3.9/site-packages/numpy/lib/nanfunctions.py:1117: RuntimeWarning: Mean of empty slice\n",
      "  return np.nanmean(a, axis, out=out, keepdims=keepdims)\n",
      "/opt/conda/lib/python3.9/site-packages/numpy/lib/nanfunctions.py:1117: RuntimeWarning: Mean of empty slice\n",
      "  return np.nanmean(a, axis, out=out, keepdims=keepdims)\n"
     ]
    },
    {
     "data": {
      "text/html": [
       "<div>\n",
       "<style scoped>\n",
       "    .dataframe tbody tr th:only-of-type {\n",
       "        vertical-align: middle;\n",
       "    }\n",
       "\n",
       "    .dataframe tbody tr th {\n",
       "        vertical-align: top;\n",
       "    }\n",
       "\n",
       "    .dataframe thead th {\n",
       "        text-align: right;\n",
       "    }\n",
       "</style>\n",
       "<table border=\"1\" class=\"dataframe\">\n",
       "  <thead>\n",
       "    <tr style=\"text-align: right;\">\n",
       "      <th></th>\n",
       "      <th>total_images</th>\n",
       "      <th>last_price</th>\n",
       "      <th>total_area</th>\n",
       "      <th>first_day_exposition</th>\n",
       "      <th>rooms</th>\n",
       "      <th>ceiling_height</th>\n",
       "      <th>floors_total</th>\n",
       "      <th>living_area</th>\n",
       "      <th>floor</th>\n",
       "      <th>is_apartment</th>\n",
       "      <th>...</th>\n",
       "      <th>kitchen_area</th>\n",
       "      <th>balcony</th>\n",
       "      <th>locality_name</th>\n",
       "      <th>airports_nearest</th>\n",
       "      <th>cityCenters_nearest</th>\n",
       "      <th>parks_around3000</th>\n",
       "      <th>parks_nearest</th>\n",
       "      <th>ponds_around3000</th>\n",
       "      <th>ponds_nearest</th>\n",
       "      <th>days_exposition</th>\n",
       "    </tr>\n",
       "  </thead>\n",
       "  <tbody>\n",
       "    <tr>\n",
       "      <th>0</th>\n",
       "      <td>20</td>\n",
       "      <td>13000000.0</td>\n",
       "      <td>108.0</td>\n",
       "      <td>2019-03-07T00:00:00</td>\n",
       "      <td>3</td>\n",
       "      <td>2.70</td>\n",
       "      <td>16.0</td>\n",
       "      <td>51.0</td>\n",
       "      <td>8</td>\n",
       "      <td>NaN</td>\n",
       "      <td>...</td>\n",
       "      <td>25.0</td>\n",
       "      <td>NaN</td>\n",
       "      <td>Санкт-Петербург</td>\n",
       "      <td>18863.0</td>\n",
       "      <td>16028.0</td>\n",
       "      <td>1.0</td>\n",
       "      <td>482.0</td>\n",
       "      <td>2.0</td>\n",
       "      <td>755.0</td>\n",
       "      <td>NaN</td>\n",
       "    </tr>\n",
       "    <tr>\n",
       "      <th>1</th>\n",
       "      <td>7</td>\n",
       "      <td>3350000.0</td>\n",
       "      <td>40.4</td>\n",
       "      <td>2018-12-04T00:00:00</td>\n",
       "      <td>1</td>\n",
       "      <td>2.63</td>\n",
       "      <td>11.0</td>\n",
       "      <td>18.6</td>\n",
       "      <td>1</td>\n",
       "      <td>NaN</td>\n",
       "      <td>...</td>\n",
       "      <td>11.0</td>\n",
       "      <td>2.0</td>\n",
       "      <td>посёлок Шушары</td>\n",
       "      <td>12817.0</td>\n",
       "      <td>18603.0</td>\n",
       "      <td>0.0</td>\n",
       "      <td>NaN</td>\n",
       "      <td>0.0</td>\n",
       "      <td>NaN</td>\n",
       "      <td>81.0</td>\n",
       "    </tr>\n",
       "    <tr>\n",
       "      <th>2</th>\n",
       "      <td>10</td>\n",
       "      <td>5196000.0</td>\n",
       "      <td>56.0</td>\n",
       "      <td>2015-08-20T00:00:00</td>\n",
       "      <td>2</td>\n",
       "      <td>2.70</td>\n",
       "      <td>5.0</td>\n",
       "      <td>34.3</td>\n",
       "      <td>4</td>\n",
       "      <td>NaN</td>\n",
       "      <td>...</td>\n",
       "      <td>8.3</td>\n",
       "      <td>0.0</td>\n",
       "      <td>Санкт-Петербург</td>\n",
       "      <td>21741.0</td>\n",
       "      <td>13933.0</td>\n",
       "      <td>1.0</td>\n",
       "      <td>90.0</td>\n",
       "      <td>2.0</td>\n",
       "      <td>574.0</td>\n",
       "      <td>558.0</td>\n",
       "    </tr>\n",
       "    <tr>\n",
       "      <th>3</th>\n",
       "      <td>0</td>\n",
       "      <td>64900000.0</td>\n",
       "      <td>159.0</td>\n",
       "      <td>2015-07-24T00:00:00</td>\n",
       "      <td>3</td>\n",
       "      <td>2.70</td>\n",
       "      <td>14.0</td>\n",
       "      <td>NaN</td>\n",
       "      <td>9</td>\n",
       "      <td>NaN</td>\n",
       "      <td>...</td>\n",
       "      <td>NaN</td>\n",
       "      <td>0.0</td>\n",
       "      <td>Санкт-Петербург</td>\n",
       "      <td>28098.0</td>\n",
       "      <td>6800.0</td>\n",
       "      <td>2.0</td>\n",
       "      <td>84.0</td>\n",
       "      <td>3.0</td>\n",
       "      <td>234.0</td>\n",
       "      <td>424.0</td>\n",
       "    </tr>\n",
       "    <tr>\n",
       "      <th>4</th>\n",
       "      <td>2</td>\n",
       "      <td>10000000.0</td>\n",
       "      <td>100.0</td>\n",
       "      <td>2018-06-19T00:00:00</td>\n",
       "      <td>2</td>\n",
       "      <td>3.03</td>\n",
       "      <td>14.0</td>\n",
       "      <td>32.0</td>\n",
       "      <td>13</td>\n",
       "      <td>NaN</td>\n",
       "      <td>...</td>\n",
       "      <td>41.0</td>\n",
       "      <td>NaN</td>\n",
       "      <td>Санкт-Петербург</td>\n",
       "      <td>31856.0</td>\n",
       "      <td>8098.0</td>\n",
       "      <td>2.0</td>\n",
       "      <td>112.0</td>\n",
       "      <td>1.0</td>\n",
       "      <td>48.0</td>\n",
       "      <td>121.0</td>\n",
       "    </tr>\n",
       "  </tbody>\n",
       "</table>\n",
       "<p>5 rows × 22 columns</p>\n",
       "</div>"
      ],
      "text/plain": [
       "   total_images  last_price  total_area first_day_exposition  rooms  \\\n",
       "0            20  13000000.0       108.0  2019-03-07T00:00:00      3   \n",
       "1             7   3350000.0        40.4  2018-12-04T00:00:00      1   \n",
       "2            10   5196000.0        56.0  2015-08-20T00:00:00      2   \n",
       "3             0  64900000.0       159.0  2015-07-24T00:00:00      3   \n",
       "4             2  10000000.0       100.0  2018-06-19T00:00:00      2   \n",
       "\n",
       "   ceiling_height  floors_total  living_area  floor is_apartment  ...  \\\n",
       "0            2.70          16.0         51.0      8          NaN  ...   \n",
       "1            2.63          11.0         18.6      1          NaN  ...   \n",
       "2            2.70           5.0         34.3      4          NaN  ...   \n",
       "3            2.70          14.0          NaN      9          NaN  ...   \n",
       "4            3.03          14.0         32.0     13          NaN  ...   \n",
       "\n",
       "   kitchen_area  balcony    locality_name  airports_nearest  \\\n",
       "0          25.0      NaN  Санкт-Петербург           18863.0   \n",
       "1          11.0      2.0   посёлок Шушары           12817.0   \n",
       "2           8.3      0.0  Санкт-Петербург           21741.0   \n",
       "3           NaN      0.0  Санкт-Петербург           28098.0   \n",
       "4          41.0      NaN  Санкт-Петербург           31856.0   \n",
       "\n",
       "  cityCenters_nearest  parks_around3000  parks_nearest  ponds_around3000  \\\n",
       "0             16028.0               1.0          482.0               2.0   \n",
       "1             18603.0               0.0            NaN               0.0   \n",
       "2             13933.0               1.0           90.0               2.0   \n",
       "3              6800.0               2.0           84.0               3.0   \n",
       "4              8098.0               2.0          112.0               1.0   \n",
       "\n",
       "   ponds_nearest  days_exposition  \n",
       "0          755.0              NaN  \n",
       "1            NaN             81.0  \n",
       "2          574.0            558.0  \n",
       "3          234.0            424.0  \n",
       "4           48.0            121.0  \n",
       "\n",
       "[5 rows x 22 columns]"
      ]
     },
     "metadata": {},
     "output_type": "display_data"
    },
    {
     "name": "stdout",
     "output_type": "stream",
     "text": [
      "Пропуски после: 156\n"
     ]
    }
   ],
   "source": [
    "#обработаем пропущенные значения в столбце ceiling_height\n",
    "for row in data['locality_name'].unique():\n",
    "    median = data.loc[data['locality_name']==row, 'ceiling_height'].median()\n",
    "    data.loc[(data['ceiling_height'].isna()) & (data['locality_name']==row), 'ceiling_height']= median\n",
    "display(data.head())\n",
    "print('Пропуски после:', data['ceiling_height'].isna().sum())"
   ]
  },
  {
   "cell_type": "code",
   "execution_count": 8,
   "metadata": {},
   "outputs": [
    {
     "name": "stdout",
     "output_type": "stream",
     "text": [
      "Пропусков до: 20924\n"
     ]
    },
    {
     "data": {
      "text/plain": [
       "False    2725\n",
       "True       50\n",
       "Name: is_apartment, dtype: int64"
      ]
     },
     "execution_count": 8,
     "metadata": {},
     "output_type": "execute_result"
    }
   ],
   "source": [
    "#обработаем пропущенные значения в столбце is_apartment\n",
    "print('Пропусков до:',data['is_apartment'].isna().sum())\n",
    "data['is_apartment'].value_counts()"
   ]
  },
  {
   "cell_type": "code",
   "execution_count": 9,
   "metadata": {},
   "outputs": [
    {
     "name": "stdout",
     "output_type": "stream",
     "text": [
      "Пропусков после: 0\n"
     ]
    },
    {
     "data": {
      "text/plain": [
       "False    23649\n",
       "True        50\n",
       "Name: is_apartment, dtype: int64"
      ]
     },
     "execution_count": 9,
     "metadata": {},
     "output_type": "execute_result"
    }
   ],
   "source": [
    "#заполним пропуски значением False\n",
    "data.loc[data['is_apartment'].isna(),'is_apartment'] = False\n",
    "print('Пропусков после:',data['is_apartment'].isna().sum())\n",
    "data['is_apartment'].value_counts()"
   ]
  },
  {
   "cell_type": "code",
   "execution_count": 10,
   "metadata": {},
   "outputs": [
    {
     "name": "stdout",
     "output_type": "stream",
     "text": [
      "Пропусков до: 49\n",
      "Пропусков после: 0\n"
     ]
    }
   ],
   "source": [
    "#избавимся от строк с пропусками в столбце locality_name \n",
    "print('Пропусков до:',data['locality_name'].isna().sum())\n",
    "data = data.dropna(subset = ['locality_name'])\n",
    "print('Пропусков после:',data['locality_name'].isna().sum())\n"
   ]
  },
  {
   "cell_type": "code",
   "execution_count": 11,
   "metadata": {
    "scrolled": true
   },
   "outputs": [
    {
     "name": "stdout",
     "output_type": "stream",
     "text": [
      "Пропусков до: 11513\n",
      "Пропусков после: 0\n"
     ]
    }
   ],
   "source": [
    "#заполним пропуски в столбце balcony\n",
    "print('Пропусков до:',data['balcony'].isna().sum())\n",
    "data['balcony'] = data['balcony'].fillna(0)\n",
    "print('Пропусков после:',data['balcony'].isna().sum())"
   ]
  },
  {
   "cell_type": "code",
   "execution_count": 12,
   "metadata": {},
   "outputs": [
    {
     "name": "stdout",
     "output_type": "stream",
     "text": [
      "Пропусков до: 1898\n",
      "Санкт-Петербург 31.3\n",
      "посёлок Шушары 28.2\n",
      "городской посёлок Янино-1 27.5\n",
      "посёлок Парголово 18.0\n",
      "посёлок Мурино 17.5\n",
      "Ломоносов 29.0\n",
      "Сертолово 27.9\n",
      "Петергоф 28.3\n",
      "Пушкин 30.0\n",
      "деревня Кудрово 18.0\n",
      "Коммунар 28.7\n",
      "Колпино 29.95\n",
      "поселок городского типа Красный Бор 45.8\n",
      "Гатчина 29.0\n",
      "поселок Мурино 17.0\n",
      "деревня Фёдоровское 28.85\n",
      "Выборг 30.0\n",
      "Кронштадт 28.0\n",
      "Кировск 29.4\n",
      "деревня Новое Девяткино 21.5\n",
      "посёлок Металлострой 27.95\n",
      "посёлок городского типа Лебяжье 29.3\n",
      "посёлок городского типа Сиверский 31.07\n",
      "поселок Молодцово 28.5\n",
      "поселок городского типа Кузьмоловский 26.8\n",
      "садовое товарищество Новая Ропша 12.0\n",
      "Павловск 33.0\n",
      "деревня Пикколово 27.4\n",
      "Всеволожск 30.0\n",
      "Волхов 30.3\n",
      "Кингисепп 31.0\n",
      "Приозерск 30.0\n",
      "Сестрорецк 30.45\n",
      "деревня Куттузи 15.4\n",
      "посёлок Аннино 30.0\n",
      "поселок городского типа Ефимовский 36.5\n",
      "посёлок Плодовое 25.85\n",
      "деревня Заклинье 37.3\n",
      "поселок Торковичи 30.0\n",
      "поселок Первомайское 29.375\n",
      "Красное Село 29.0\n",
      "посёлок Понтонный 27.7\n",
      "Сясьстрой 31.0\n",
      "деревня Старая 21.1\n",
      "деревня Лесколово 30.7\n",
      "посёлок Новый Свет 30.0\n",
      "Сланцы 30.1\n",
      "село Путилово 29.3\n",
      "Ивангород 29.0\n",
      "Мурино 18.5\n",
      "Шлиссельбург 29.0\n",
      "Никольское 19.95\n",
      "Зеленогорск 29.0\n",
      "Сосновый Бор 30.0\n",
      "поселок Новый Свет 20.0\n",
      "деревня Оржицы 30.0\n",
      "деревня Кальтино 24.1\n",
      "Кудрово 18.0\n",
      "поселок Романовка 25.2\n",
      "посёлок Бугры 18.560000000000002\n",
      "поселок Бугры 28.0\n",
      "поселок городского типа Рощино 31.6\n",
      "Кириши 29.0\n",
      "Луга 31.4\n",
      "Волосово 29.8\n",
      "Отрадное 28.45\n",
      "село Павлово 28.7\n",
      "поселок Оредеж 40.0\n",
      "село Копорье 29.2\n",
      "посёлок городского типа Красный Бор 26.6\n",
      "посёлок Молодёжное 31.0\n",
      "Тихвин 28.5\n",
      "посёлок Победа 17.2\n",
      "деревня Нурма 29.0\n",
      "поселок городского типа Синявино 31.0\n",
      "Тосно 30.0\n",
      "посёлок городского типа Кузьмоловский 30.0\n",
      "посёлок Стрельна 27.9\n",
      "Бокситогорск 29.5\n",
      "посёлок Александровская 80.5\n",
      "деревня Лопухинка 30.35\n",
      "Пикалёво 24.7\n",
      "поселок Терволово 30.85\n",
      "поселок городского типа Советский 28.0\n",
      "Подпорожье 36.0\n",
      "посёлок Петровское 16.0\n",
      "посёлок городского типа Токсово 29.9\n",
      "поселок Сельцо 31.1\n",
      "посёлок городского типа Вырица 28.85\n",
      "деревня Кипень 28.0\n",
      "деревня Келози 17.0\n",
      "деревня Вартемяги 19.0\n",
      "посёлок Тельмана 30.0\n",
      "поселок Севастьяново nan\n",
      "городской поселок Большая Ижора 27.0\n",
      "городской посёлок Павлово 20.85\n",
      "деревня Агалатово 18.0\n",
      "посёлок Новогорелово 16.26\n",
      "городской посёлок Лесогорский 34.75\n",
      "деревня Лаголово 27.7\n",
      "поселок Цвелодубово 43.150000000000006\n",
      "поселок городского типа Рахья 29.0\n",
      "поселок городского типа Вырица 29.8\n",
      "деревня Белогорка 27.5\n",
      "поселок Заводской 16.7\n",
      "городской посёлок Новоселье 22.0\n",
      "деревня Большие Колпаны 29.25\n",
      "деревня Горбунки 30.6\n",
      "деревня Батово 31.75\n",
      "деревня Заневка 27.5\n",
      "деревня Иссад nan\n",
      "Приморск 33.0\n",
      "городской посёлок Фёдоровское 27.5\n",
      "деревня Мистолово 27.0\n",
      "Новая Ладога 32.4\n",
      "поселок Зимитицы 28.0\n",
      "поселок Барышево 30.3\n",
      "деревня Разметелево 17.1\n",
      "поселок городского типа имени Свердлова 33.0\n",
      "деревня Пеники 17.4\n",
      "поселок Рябово 42.7\n",
      "деревня Пудомяги 34.0\n",
      "поселок станции Корнево 10.5\n",
      "деревня Низино 17.2\n",
      "деревня Бегуницы 39.0\n",
      "посёлок Поляны 19.2\n",
      "городской посёлок Мга 30.450000000000003\n",
      "поселок Елизаветино 18.0\n",
      "посёлок городского типа Кузнечное 28.3\n",
      "деревня Колтуши 18.5\n"
     ]
    },
    {
     "name": "stderr",
     "output_type": "stream",
     "text": [
      "/opt/conda/lib/python3.9/site-packages/numpy/lib/nanfunctions.py:1117: RuntimeWarning: Mean of empty slice\n",
      "  return np.nanmean(a, axis, out=out, keepdims=keepdims)\n",
      "/opt/conda/lib/python3.9/site-packages/numpy/lib/nanfunctions.py:1117: RuntimeWarning: Mean of empty slice\n",
      "  return np.nanmean(a, axis, out=out, keepdims=keepdims)\n"
     ]
    },
    {
     "name": "stdout",
     "output_type": "stream",
     "text": [
      "поселок Запорожское 23.3\n",
      "посёлок городского типа Рощино 27.95\n",
      "деревня Гостилицы 29.7\n",
      "деревня Малое Карлино 17.1\n",
      "посёлок Мичуринское 32.1\n",
      "посёлок городского типа имени Морозова 33.9\n",
      "посёлок Песочный 27.75\n",
      "посёлок Сосново 30.0\n",
      "деревня Аро 31.5\n",
      "поселок Ильичёво 23.5\n",
      "посёлок городского типа Тайцы 28.2\n",
      "деревня Малое Верево 29.7\n",
      "деревня Извара 32.0\n",
      "поселок станции Вещево 24.8\n",
      "село Паша 34.0\n",
      "деревня Калитино 29.7\n",
      "посёлок городского типа Ульяновка 27.6\n",
      "деревня Чудской Бор 15.1\n",
      "поселок городского типа Дубровка 27.4\n",
      "деревня Мины 29.5\n",
      "поселок Войсковицы 39.8\n",
      "посёлок городского типа имени Свердлова 20.0\n",
      "деревня Коркино 19.05\n",
      "посёлок Ропша 53.0\n",
      "поселок городского типа Приладожский 27.85\n",
      "посёлок Щеглово 29.5\n",
      "посёлок Гаврилово 27.0\n",
      "Лодейное Поле 32.0\n",
      "деревня Рабитицы 37.0\n",
      "поселок городского типа Никольский 24.15\n",
      "деревня Кузьмолово 33.85\n",
      "деревня Малые Колпаны 27.0\n",
      "поселок Тельмана 22.95\n",
      "посёлок Петро-Славянка nan\n",
      "городской посёлок Назия 33.4\n",
      "посёлок Репино 66.8\n",
      "посёлок Ильичёво 17.55\n",
      "поселок Углово 48.5\n",
      "поселок Старая Малукса 34.5\n",
      "садовое товарищество Рахья 31.6\n",
      "поселок Аннино 30.1\n",
      "поселок Победа 43.0\n",
      "деревня Меньково 32.3\n",
      "деревня Старые Бегуницы 28.0\n",
      "посёлок Сапёрный 27.75\n",
      "поселок Семрино 34.0\n",
      "поселок Гаврилово 30.0\n",
      "поселок Глажево 30.0\n",
      "поселок Кобринское 18.0\n",
      "деревня Гарболово 27.5\n",
      "деревня Юкки 25.0\n",
      "поселок станции Приветнинское 26.0\n",
      "деревня Мануйлово 24.7\n",
      "деревня Пчева nan\n",
      "поселок Поляны 19.75\n",
      "поселок Цвылёво 18.0\n",
      "поселок Мельниково 29.0\n",
      "посёлок Пудость 27.0\n",
      "посёлок Усть-Луга 17.85\n",
      "Светогорск 41.1\n",
      "Любань 24.35\n",
      "поселок Селезнёво 30.5\n",
      "поселок городского типа Рябово 18.0\n",
      "Каменногорск 31.0\n",
      "деревня Кривко 45.0\n",
      "поселок Глебычево 23.3\n",
      "деревня Парицы 21.85\n",
      "поселок Жилпосёлок 30.8\n",
      "посёлок городского типа Мга 21.3\n",
      "городской поселок Янино-1 18.09\n",
      "посёлок Войскорово 17.55\n",
      "село Никольское 28.0\n",
      "посёлок Терволово 17.560000000000002\n",
      "поселок Стеклянный 20.0\n",
      "посёлок городского типа Важины 28.5\n",
      "посёлок Мыза-Ивановка 41.8\n",
      "село Русско-Высоцкое 24.35\n",
      "поселок городского типа Лебяжье 32.3\n",
      "поселок городского типа Форносово 16.5\n",
      "село Старая Ладога 15.8\n",
      "поселок Житково 43.5\n"
     ]
    },
    {
     "name": "stderr",
     "output_type": "stream",
     "text": [
      "/opt/conda/lib/python3.9/site-packages/numpy/lib/nanfunctions.py:1117: RuntimeWarning: Mean of empty slice\n",
      "  return np.nanmean(a, axis, out=out, keepdims=keepdims)\n",
      "/opt/conda/lib/python3.9/site-packages/numpy/lib/nanfunctions.py:1117: RuntimeWarning: Mean of empty slice\n",
      "  return np.nanmean(a, axis, out=out, keepdims=keepdims)\n"
     ]
    },
    {
     "name": "stdout",
     "output_type": "stream",
     "text": [
      "городской посёлок Виллози 41.3\n",
      "деревня Лампово 32.0\n",
      "деревня Шпаньково 40.0\n",
      "деревня Лаврики nan\n",
      "посёлок Сумино 32.6\n",
      "посёлок Возрождение 43.2\n",
      "деревня Старосиверская 29.0\n",
      "посёлок Кикерино 31.85\n",
      "поселок Возрождение 52.0\n",
      "деревня Старое Хинколово 16.8\n",
      "посёлок Пригородный 23.7\n",
      "посёлок Торфяное 24.5\n",
      "городской посёлок Будогощь 20.5\n",
      "поселок Суходолье 35.0\n",
      "поселок Красная Долина 28.6\n",
      "деревня Хапо-Ое 28.0\n",
      "поселок городского типа Дружная Горка 24.0\n",
      "поселок Лисий Нос 28.0\n",
      "деревня Яльгелево 28.9\n",
      "посёлок Стеклянный 38.0\n",
      "село Рождествено 29.7\n",
      "деревня Старополье 30.3\n",
      "посёлок Левашово nan\n",
      "деревня Сяськелево 31.0\n",
      "деревня Камышовка 30.1\n",
      "садоводческое некоммерческое товарищество Лесная Поляна 44.0\n",
      "деревня Хязельки nan\n",
      "поселок Жилгородок 43.7\n",
      "посёлок городского типа Павлово 48.0\n",
      "деревня Ялгино 30.0\n",
      "поселок Новый Учхоз 18.95\n",
      "городской посёлок Рощино 37.3\n",
      "поселок Гончарово 28.0\n",
      "поселок Почап 30.0\n",
      "посёлок Сапёрное 33.0\n",
      "посёлок Платформа 69-й километр 29.8\n",
      "поселок Каложицы 20.0\n",
      "деревня Фалилеево 22.45\n",
      "деревня Пельгора 30.0\n",
      "поселок городского типа Лесогорский 37.0\n",
      "деревня Торошковичи 30.0\n",
      "посёлок Белоостров 18.0\n",
      "посёлок Алексеевка 29.5\n",
      "поселок Серебрянский 26.0\n",
      "поселок Лукаши 29.3\n",
      "поселок Петровское 30.75\n",
      "деревня Щеглово 39.0\n"
     ]
    },
    {
     "name": "stderr",
     "output_type": "stream",
     "text": [
      "/opt/conda/lib/python3.9/site-packages/numpy/lib/nanfunctions.py:1117: RuntimeWarning: Mean of empty slice\n",
      "  return np.nanmean(a, axis, out=out, keepdims=keepdims)\n",
      "/opt/conda/lib/python3.9/site-packages/numpy/lib/nanfunctions.py:1117: RuntimeWarning: Mean of empty slice\n",
      "  return np.nanmean(a, axis, out=out, keepdims=keepdims)\n",
      "/opt/conda/lib/python3.9/site-packages/numpy/lib/nanfunctions.py:1117: RuntimeWarning: Mean of empty slice\n",
      "  return np.nanmean(a, axis, out=out, keepdims=keepdims)\n",
      "/opt/conda/lib/python3.9/site-packages/numpy/lib/nanfunctions.py:1117: RuntimeWarning: Mean of empty slice\n",
      "  return np.nanmean(a, axis, out=out, keepdims=keepdims)\n"
     ]
    },
    {
     "name": "stdout",
     "output_type": "stream",
     "text": [
      "поселок Мичуринское 31.2\n",
      "деревня Тарасово nan\n",
      "поселок Кингисеппский 33.0\n",
      "посёлок при железнодорожной станции Вещево 17.5\n",
      "поселок Ушаки 23.05\n",
      "деревня Котлы 29.0\n",
      "деревня Сижно 31.0\n",
      "деревня Торосово 28.2\n",
      "посёлок Форт Красная Горка 21.6\n",
      "поселок городского типа Токсово 16.0\n",
      "деревня Новолисино 29.6\n",
      "посёлок станции Громово 28.1\n",
      "деревня Глинка 45.35\n",
      "посёлок Мельниково 30.35\n",
      "поселок городского типа Назия 24.0\n",
      "деревня Старая Пустошь 18.6\n",
      "поселок Коммунары 30.4\n",
      "поселок Починок 28.1\n",
      "посёлок городского типа Вознесенье 29.5\n",
      "деревня Разбегаево 18.3\n",
      "посёлок городского типа Рябово 18.9\n",
      "поселок Гладкое 31.0\n",
      "посёлок при железнодорожной станции Приветнинское 26.9\n",
      "поселок Тёсово-4 36.0\n",
      "посёлок Жилгородок 31.05\n",
      "деревня Бор 147.2\n",
      "посёлок Коробицыно 31.4\n",
      "деревня Большая Вруда 31.4\n",
      "деревня Курковицы 17.0\n",
      "посёлок Лисий Нос 19.0\n",
      "городской посёлок Советский 37.25\n",
      "посёлок Кобралово 31.0\n",
      "деревня Суоранда 14.5\n",
      "поселок Кобралово 28.95\n",
      "поселок городского типа Кондратьево 18.0\n",
      "коттеджный поселок Счастье 52.0\n",
      "поселок Любань 30.0\n",
      "деревня Реброво 29.5\n",
      "деревня Зимитицы 43.3\n",
      "деревня Тойворово 28.0\n",
      "поселок Семиозерье 30.2\n",
      "поселок Лесное 46.45\n",
      "поселок Совхозный 25.0\n",
      "поселок Усть-Луга 18.0\n",
      "посёлок Ленинское 18.0\n",
      "посёлок Суйда 33.0\n",
      "посёлок городского типа Форносово 38.0\n",
      "деревня Нижние Осельки 45.0\n",
      "посёлок станции Свирь 30.0\n",
      "поселок Перово 48.0\n",
      "Высоцк 37.6\n",
      "поселок Гарболово 16.8\n",
      "село Шум 42.3\n",
      "поселок Котельский 31.5\n",
      "поселок станции Лужайка nan\n",
      "деревня Большая Пустомержа 30.0\n",
      "поселок Красносельское nan\n",
      "деревня Вахнова Кара nan\n",
      "деревня Пижма 55.0\n",
      "коттеджный поселок Кивеннапа Север 24.0\n",
      "поселок Коробицыно 42.6\n",
      "поселок Ромашки 16.8\n",
      "посёлок Перово 31.5\n",
      "деревня Каськово 35.0\n",
      "деревня Куровицы 28.3\n",
      "посёлок Плоское nan\n",
      "поселок Сумино 29.8\n",
      "поселок городского типа Большая Ижора 27.0\n",
      "поселок Кирпичное 30.3\n",
      "деревня Ям-Тесово 17.3\n",
      "деревня Раздолье nan\n",
      "деревня Терпилицы 45.2\n",
      "посёлок Шугозеро 34.4\n",
      "деревня Ваганово 32.0\n",
      "поселок Пушное 28.05\n",
      "садовое товарищество Садко 32.5\n",
      "посёлок Усть-Ижора 30.6\n",
      "деревня Выскатка 31.2\n",
      "городской посёлок Свирьстрой nan\n",
      "поселок Громово 31.4\n",
      "деревня Кисельня 29.0\n",
      "посёлок Старая Малукса 22.85\n",
      "деревня Трубников Бор 29.1\n",
      "поселок Калитино 30.0\n",
      "посёлок Высокоключевой 50.0\n",
      "садовое товарищество Приладожский 44.0\n",
      "посёлок Пансионат Зелёный Бор 16.2\n",
      "деревня Ненимяки 27.35\n",
      "поселок Пансионат Зелёный Бор 21.9\n",
      "деревня Снегирёвка 43.3\n",
      "деревня Рапполово 15.0\n",
      "деревня Пустынка 15.0\n",
      "поселок Рабитицы 47.6\n",
      "деревня Большой Сабск 30.0\n",
      "деревня Русско nan\n",
      "деревня Лупполово 27.0\n",
      "деревня Большое Рейзино 37.0\n",
      "деревня Малая Романовка 57.4\n",
      "поселок Дружноселье 17.0\n"
     ]
    },
    {
     "name": "stderr",
     "output_type": "stream",
     "text": [
      "/opt/conda/lib/python3.9/site-packages/numpy/lib/nanfunctions.py:1117: RuntimeWarning: Mean of empty slice\n",
      "  return np.nanmean(a, axis, out=out, keepdims=keepdims)\n",
      "/opt/conda/lib/python3.9/site-packages/numpy/lib/nanfunctions.py:1117: RuntimeWarning: Mean of empty slice\n",
      "  return np.nanmean(a, axis, out=out, keepdims=keepdims)\n",
      "/opt/conda/lib/python3.9/site-packages/numpy/lib/nanfunctions.py:1117: RuntimeWarning: Mean of empty slice\n",
      "  return np.nanmean(a, axis, out=out, keepdims=keepdims)\n",
      "/opt/conda/lib/python3.9/site-packages/numpy/lib/nanfunctions.py:1117: RuntimeWarning: Mean of empty slice\n",
      "  return np.nanmean(a, axis, out=out, keepdims=keepdims)\n",
      "/opt/conda/lib/python3.9/site-packages/numpy/lib/nanfunctions.py:1117: RuntimeWarning: Mean of empty slice\n",
      "  return np.nanmean(a, axis, out=out, keepdims=keepdims)\n",
      "/opt/conda/lib/python3.9/site-packages/numpy/lib/nanfunctions.py:1117: RuntimeWarning: Mean of empty slice\n",
      "  return np.nanmean(a, axis, out=out, keepdims=keepdims)\n",
      "/opt/conda/lib/python3.9/site-packages/numpy/lib/nanfunctions.py:1117: RuntimeWarning: Mean of empty slice\n",
      "  return np.nanmean(a, axis, out=out, keepdims=keepdims)\n",
      "/opt/conda/lib/python3.9/site-packages/numpy/lib/nanfunctions.py:1117: RuntimeWarning: Mean of empty slice\n",
      "  return np.nanmean(a, axis, out=out, keepdims=keepdims)\n"
     ]
    },
    {
     "name": "stdout",
     "output_type": "stream",
     "text": [
      "поселок Пчевжа nan\n",
      "поселок Володарское 30.6\n",
      "деревня Нижняя 73.0\n",
      "коттеджный посёлок Лесное 28.4\n",
      "деревня Тихковицы 28.0\n",
      "деревня Борисова Грива 24.0\n",
      "посёлок Дзержинского 45.5\n"
     ]
    },
    {
     "data": {
      "text/html": [
       "<div>\n",
       "<style scoped>\n",
       "    .dataframe tbody tr th:only-of-type {\n",
       "        vertical-align: middle;\n",
       "    }\n",
       "\n",
       "    .dataframe tbody tr th {\n",
       "        vertical-align: top;\n",
       "    }\n",
       "\n",
       "    .dataframe thead th {\n",
       "        text-align: right;\n",
       "    }\n",
       "</style>\n",
       "<table border=\"1\" class=\"dataframe\">\n",
       "  <thead>\n",
       "    <tr style=\"text-align: right;\">\n",
       "      <th></th>\n",
       "      <th>total_images</th>\n",
       "      <th>last_price</th>\n",
       "      <th>total_area</th>\n",
       "      <th>first_day_exposition</th>\n",
       "      <th>rooms</th>\n",
       "      <th>ceiling_height</th>\n",
       "      <th>floors_total</th>\n",
       "      <th>living_area</th>\n",
       "      <th>floor</th>\n",
       "      <th>is_apartment</th>\n",
       "      <th>...</th>\n",
       "      <th>kitchen_area</th>\n",
       "      <th>balcony</th>\n",
       "      <th>locality_name</th>\n",
       "      <th>airports_nearest</th>\n",
       "      <th>cityCenters_nearest</th>\n",
       "      <th>parks_around3000</th>\n",
       "      <th>parks_nearest</th>\n",
       "      <th>ponds_around3000</th>\n",
       "      <th>ponds_nearest</th>\n",
       "      <th>days_exposition</th>\n",
       "    </tr>\n",
       "  </thead>\n",
       "  <tbody>\n",
       "    <tr>\n",
       "      <th>0</th>\n",
       "      <td>20</td>\n",
       "      <td>13000000.0</td>\n",
       "      <td>108.00</td>\n",
       "      <td>2019-03-07T00:00:00</td>\n",
       "      <td>3</td>\n",
       "      <td>2.70</td>\n",
       "      <td>16.0</td>\n",
       "      <td>51.00</td>\n",
       "      <td>8</td>\n",
       "      <td>False</td>\n",
       "      <td>...</td>\n",
       "      <td>25.00</td>\n",
       "      <td>0.0</td>\n",
       "      <td>Санкт-Петербург</td>\n",
       "      <td>18863.0</td>\n",
       "      <td>16028.0</td>\n",
       "      <td>1.0</td>\n",
       "      <td>482.0</td>\n",
       "      <td>2.0</td>\n",
       "      <td>755.0</td>\n",
       "      <td>NaN</td>\n",
       "    </tr>\n",
       "    <tr>\n",
       "      <th>1</th>\n",
       "      <td>7</td>\n",
       "      <td>3350000.0</td>\n",
       "      <td>40.40</td>\n",
       "      <td>2018-12-04T00:00:00</td>\n",
       "      <td>1</td>\n",
       "      <td>2.63</td>\n",
       "      <td>11.0</td>\n",
       "      <td>18.60</td>\n",
       "      <td>1</td>\n",
       "      <td>False</td>\n",
       "      <td>...</td>\n",
       "      <td>11.00</td>\n",
       "      <td>2.0</td>\n",
       "      <td>посёлок Шушары</td>\n",
       "      <td>12817.0</td>\n",
       "      <td>18603.0</td>\n",
       "      <td>0.0</td>\n",
       "      <td>NaN</td>\n",
       "      <td>0.0</td>\n",
       "      <td>NaN</td>\n",
       "      <td>81.0</td>\n",
       "    </tr>\n",
       "    <tr>\n",
       "      <th>2</th>\n",
       "      <td>10</td>\n",
       "      <td>5196000.0</td>\n",
       "      <td>56.00</td>\n",
       "      <td>2015-08-20T00:00:00</td>\n",
       "      <td>2</td>\n",
       "      <td>2.70</td>\n",
       "      <td>5.0</td>\n",
       "      <td>34.30</td>\n",
       "      <td>4</td>\n",
       "      <td>False</td>\n",
       "      <td>...</td>\n",
       "      <td>8.30</td>\n",
       "      <td>0.0</td>\n",
       "      <td>Санкт-Петербург</td>\n",
       "      <td>21741.0</td>\n",
       "      <td>13933.0</td>\n",
       "      <td>1.0</td>\n",
       "      <td>90.0</td>\n",
       "      <td>2.0</td>\n",
       "      <td>574.0</td>\n",
       "      <td>558.0</td>\n",
       "    </tr>\n",
       "    <tr>\n",
       "      <th>3</th>\n",
       "      <td>0</td>\n",
       "      <td>64900000.0</td>\n",
       "      <td>159.00</td>\n",
       "      <td>2015-07-24T00:00:00</td>\n",
       "      <td>3</td>\n",
       "      <td>2.70</td>\n",
       "      <td>14.0</td>\n",
       "      <td>31.30</td>\n",
       "      <td>9</td>\n",
       "      <td>False</td>\n",
       "      <td>...</td>\n",
       "      <td>NaN</td>\n",
       "      <td>0.0</td>\n",
       "      <td>Санкт-Петербург</td>\n",
       "      <td>28098.0</td>\n",
       "      <td>6800.0</td>\n",
       "      <td>2.0</td>\n",
       "      <td>84.0</td>\n",
       "      <td>3.0</td>\n",
       "      <td>234.0</td>\n",
       "      <td>424.0</td>\n",
       "    </tr>\n",
       "    <tr>\n",
       "      <th>4</th>\n",
       "      <td>2</td>\n",
       "      <td>10000000.0</td>\n",
       "      <td>100.00</td>\n",
       "      <td>2018-06-19T00:00:00</td>\n",
       "      <td>2</td>\n",
       "      <td>3.03</td>\n",
       "      <td>14.0</td>\n",
       "      <td>32.00</td>\n",
       "      <td>13</td>\n",
       "      <td>False</td>\n",
       "      <td>...</td>\n",
       "      <td>41.00</td>\n",
       "      <td>0.0</td>\n",
       "      <td>Санкт-Петербург</td>\n",
       "      <td>31856.0</td>\n",
       "      <td>8098.0</td>\n",
       "      <td>2.0</td>\n",
       "      <td>112.0</td>\n",
       "      <td>1.0</td>\n",
       "      <td>48.0</td>\n",
       "      <td>121.0</td>\n",
       "    </tr>\n",
       "    <tr>\n",
       "      <th>5</th>\n",
       "      <td>10</td>\n",
       "      <td>2890000.0</td>\n",
       "      <td>30.40</td>\n",
       "      <td>2018-09-10T00:00:00</td>\n",
       "      <td>1</td>\n",
       "      <td>2.60</td>\n",
       "      <td>12.0</td>\n",
       "      <td>14.40</td>\n",
       "      <td>5</td>\n",
       "      <td>False</td>\n",
       "      <td>...</td>\n",
       "      <td>9.10</td>\n",
       "      <td>0.0</td>\n",
       "      <td>городской посёлок Янино-1</td>\n",
       "      <td>NaN</td>\n",
       "      <td>NaN</td>\n",
       "      <td>NaN</td>\n",
       "      <td>NaN</td>\n",
       "      <td>NaN</td>\n",
       "      <td>NaN</td>\n",
       "      <td>55.0</td>\n",
       "    </tr>\n",
       "    <tr>\n",
       "      <th>6</th>\n",
       "      <td>6</td>\n",
       "      <td>3700000.0</td>\n",
       "      <td>37.30</td>\n",
       "      <td>2017-11-02T00:00:00</td>\n",
       "      <td>1</td>\n",
       "      <td>2.64</td>\n",
       "      <td>26.0</td>\n",
       "      <td>10.60</td>\n",
       "      <td>6</td>\n",
       "      <td>False</td>\n",
       "      <td>...</td>\n",
       "      <td>14.40</td>\n",
       "      <td>1.0</td>\n",
       "      <td>посёлок Парголово</td>\n",
       "      <td>52996.0</td>\n",
       "      <td>19143.0</td>\n",
       "      <td>0.0</td>\n",
       "      <td>NaN</td>\n",
       "      <td>0.0</td>\n",
       "      <td>NaN</td>\n",
       "      <td>155.0</td>\n",
       "    </tr>\n",
       "    <tr>\n",
       "      <th>7</th>\n",
       "      <td>5</td>\n",
       "      <td>7915000.0</td>\n",
       "      <td>71.60</td>\n",
       "      <td>2019-04-18T00:00:00</td>\n",
       "      <td>2</td>\n",
       "      <td>2.70</td>\n",
       "      <td>24.0</td>\n",
       "      <td>31.30</td>\n",
       "      <td>22</td>\n",
       "      <td>False</td>\n",
       "      <td>...</td>\n",
       "      <td>18.90</td>\n",
       "      <td>2.0</td>\n",
       "      <td>Санкт-Петербург</td>\n",
       "      <td>23982.0</td>\n",
       "      <td>11634.0</td>\n",
       "      <td>0.0</td>\n",
       "      <td>NaN</td>\n",
       "      <td>0.0</td>\n",
       "      <td>NaN</td>\n",
       "      <td>NaN</td>\n",
       "    </tr>\n",
       "    <tr>\n",
       "      <th>8</th>\n",
       "      <td>20</td>\n",
       "      <td>2900000.0</td>\n",
       "      <td>33.16</td>\n",
       "      <td>2018-05-23T00:00:00</td>\n",
       "      <td>1</td>\n",
       "      <td>2.70</td>\n",
       "      <td>27.0</td>\n",
       "      <td>15.43</td>\n",
       "      <td>26</td>\n",
       "      <td>False</td>\n",
       "      <td>...</td>\n",
       "      <td>8.81</td>\n",
       "      <td>0.0</td>\n",
       "      <td>посёлок Мурино</td>\n",
       "      <td>NaN</td>\n",
       "      <td>NaN</td>\n",
       "      <td>NaN</td>\n",
       "      <td>NaN</td>\n",
       "      <td>NaN</td>\n",
       "      <td>NaN</td>\n",
       "      <td>189.0</td>\n",
       "    </tr>\n",
       "    <tr>\n",
       "      <th>9</th>\n",
       "      <td>18</td>\n",
       "      <td>5400000.0</td>\n",
       "      <td>61.00</td>\n",
       "      <td>2017-02-26T00:00:00</td>\n",
       "      <td>3</td>\n",
       "      <td>2.50</td>\n",
       "      <td>9.0</td>\n",
       "      <td>43.60</td>\n",
       "      <td>7</td>\n",
       "      <td>False</td>\n",
       "      <td>...</td>\n",
       "      <td>6.50</td>\n",
       "      <td>2.0</td>\n",
       "      <td>Санкт-Петербург</td>\n",
       "      <td>50898.0</td>\n",
       "      <td>15008.0</td>\n",
       "      <td>0.0</td>\n",
       "      <td>NaN</td>\n",
       "      <td>0.0</td>\n",
       "      <td>NaN</td>\n",
       "      <td>289.0</td>\n",
       "    </tr>\n",
       "  </tbody>\n",
       "</table>\n",
       "<p>10 rows × 22 columns</p>\n",
       "</div>"
      ],
      "text/plain": [
       "   total_images  last_price  total_area first_day_exposition  rooms  \\\n",
       "0            20  13000000.0      108.00  2019-03-07T00:00:00      3   \n",
       "1             7   3350000.0       40.40  2018-12-04T00:00:00      1   \n",
       "2            10   5196000.0       56.00  2015-08-20T00:00:00      2   \n",
       "3             0  64900000.0      159.00  2015-07-24T00:00:00      3   \n",
       "4             2  10000000.0      100.00  2018-06-19T00:00:00      2   \n",
       "5            10   2890000.0       30.40  2018-09-10T00:00:00      1   \n",
       "6             6   3700000.0       37.30  2017-11-02T00:00:00      1   \n",
       "7             5   7915000.0       71.60  2019-04-18T00:00:00      2   \n",
       "8            20   2900000.0       33.16  2018-05-23T00:00:00      1   \n",
       "9            18   5400000.0       61.00  2017-02-26T00:00:00      3   \n",
       "\n",
       "   ceiling_height  floors_total  living_area  floor is_apartment  ...  \\\n",
       "0            2.70          16.0        51.00      8        False  ...   \n",
       "1            2.63          11.0        18.60      1        False  ...   \n",
       "2            2.70           5.0        34.30      4        False  ...   \n",
       "3            2.70          14.0        31.30      9        False  ...   \n",
       "4            3.03          14.0        32.00     13        False  ...   \n",
       "5            2.60          12.0        14.40      5        False  ...   \n",
       "6            2.64          26.0        10.60      6        False  ...   \n",
       "7            2.70          24.0        31.30     22        False  ...   \n",
       "8            2.70          27.0        15.43     26        False  ...   \n",
       "9            2.50           9.0        43.60      7        False  ...   \n",
       "\n",
       "   kitchen_area  balcony              locality_name  airports_nearest  \\\n",
       "0         25.00      0.0            Санкт-Петербург           18863.0   \n",
       "1         11.00      2.0             посёлок Шушары           12817.0   \n",
       "2          8.30      0.0            Санкт-Петербург           21741.0   \n",
       "3           NaN      0.0            Санкт-Петербург           28098.0   \n",
       "4         41.00      0.0            Санкт-Петербург           31856.0   \n",
       "5          9.10      0.0  городской посёлок Янино-1               NaN   \n",
       "6         14.40      1.0          посёлок Парголово           52996.0   \n",
       "7         18.90      2.0            Санкт-Петербург           23982.0   \n",
       "8          8.81      0.0             посёлок Мурино               NaN   \n",
       "9          6.50      2.0            Санкт-Петербург           50898.0   \n",
       "\n",
       "  cityCenters_nearest  parks_around3000  parks_nearest  ponds_around3000  \\\n",
       "0             16028.0               1.0          482.0               2.0   \n",
       "1             18603.0               0.0            NaN               0.0   \n",
       "2             13933.0               1.0           90.0               2.0   \n",
       "3              6800.0               2.0           84.0               3.0   \n",
       "4              8098.0               2.0          112.0               1.0   \n",
       "5                 NaN               NaN            NaN               NaN   \n",
       "6             19143.0               0.0            NaN               0.0   \n",
       "7             11634.0               0.0            NaN               0.0   \n",
       "8                 NaN               NaN            NaN               NaN   \n",
       "9             15008.0               0.0            NaN               0.0   \n",
       "\n",
       "   ponds_nearest  days_exposition  \n",
       "0          755.0              NaN  \n",
       "1            NaN             81.0  \n",
       "2          574.0            558.0  \n",
       "3          234.0            424.0  \n",
       "4           48.0            121.0  \n",
       "5            NaN             55.0  \n",
       "6            NaN            155.0  \n",
       "7            NaN              NaN  \n",
       "8            NaN            189.0  \n",
       "9            NaN            289.0  \n",
       "\n",
       "[10 rows x 22 columns]"
      ]
     },
     "metadata": {},
     "output_type": "display_data"
    },
    {
     "name": "stdout",
     "output_type": "stream",
     "text": [
      "Пропусков после: 17\n"
     ]
    }
   ],
   "source": [
    "#заполним пропуски в столбце living_area \n",
    "print('Пропусков до:',data['living_area'].isna().sum())\n",
    "for row in data['locality_name'].unique():\n",
    "    median = data.loc[data['locality_name']==row, 'living_area'].median()\n",
    "    print(row, median)\n",
    "    data.loc[(data['living_area'].isna()) & (data['locality_name']==row), 'living_area'] = median\n",
    "display(data.head(10))\n",
    "print('Пропусков после:',data['living_area'].isna().sum())"
   ]
  },
  {
   "cell_type": "code",
   "execution_count": 13,
   "metadata": {},
   "outputs": [
    {
     "name": "stdout",
     "output_type": "stream",
     "text": [
      "Пропуски после: 0\n"
     ]
    }
   ],
   "source": [
    "#оставшиеся пропуски заполним медианным по столбцу значением \n",
    "data['living_area'] = data['living_area'].fillna (data['living_area'].median())\n",
    "print('Пропуски после:', data['living_area'].isna().sum())"
   ]
  },
  {
   "cell_type": "code",
   "execution_count": 14,
   "metadata": {},
   "outputs": [
    {
     "name": "stdout",
     "output_type": "stream",
     "text": [
      "Пропусков до: 2269\n",
      "Санкт-Петербург 9.9\n",
      "посёлок Шушары 10.8\n",
      "городской посёлок Янино-1 10.34\n",
      "посёлок Парголово 11.0\n",
      "посёлок Мурино 10.385\n",
      "Ломоносов 6.2\n",
      "Сертолово 9.3\n",
      "Петергоф 7.55\n",
      "Пушкин 8.850000000000001\n",
      "деревня Кудрово 10.44\n",
      "Коммунар 8.350000000000001\n",
      "Колпино 7.9\n",
      "поселок городского типа Красный Бор 6.2\n",
      "Гатчина 8.05\n",
      "поселок Мурино 10.15\n",
      "деревня Фёдоровское 8.5\n",
      "Выборг 8.0\n",
      "Кронштадт 7.55\n",
      "Кировск 7.5\n",
      "деревня Новое Девяткино 10.15\n",
      "посёлок Металлострой 8.2\n",
      "посёлок городского типа Лебяжье 8.7\n",
      "посёлок городского типа Сиверский 8.4\n",
      "поселок Молодцово 6.0\n",
      "поселок городского типа Кузьмоловский 6.0\n",
      "садовое товарищество Новая Ропша 13.0\n",
      "Павловск 7.0\n",
      "деревня Пикколово 23.6\n",
      "Всеволожск 10.0\n",
      "Волхов 6.8\n",
      "Кингисепп 6.3\n",
      "Приозерск 6.3\n",
      "Сестрорецк 10.2\n",
      "деревня Куттузи 13.85\n",
      "посёлок Аннино 6.5\n",
      "поселок городского типа Ефимовский 7.4\n",
      "посёлок Плодовое 5.7\n",
      "деревня Заклинье 6.9\n",
      "поселок Торковичи 8.0\n",
      "поселок Первомайское 7.8\n",
      "Красное Село 7.0\n",
      "посёлок Понтонный 6.0\n",
      "Сясьстрой 6.0\n",
      "деревня Старая 10.7\n",
      "деревня Лесколово 8.7\n",
      "посёлок Новый Свет 8.1\n",
      "Сланцы 7.0\n",
      "село Путилово 7.85\n",
      "Ивангород 6.25\n",
      "Мурино 10.77\n",
      "Шлиссельбург 9.0\n",
      "Никольское 8.3\n",
      "Зеленогорск 8.0\n",
      "Сосновый Бор 8.2\n",
      "поселок Новый Свет 7.0\n",
      "деревня Оржицы 6.1\n",
      "деревня Кальтино 12.76\n",
      "Кудрово 10.69\n",
      "поселок Романовка 9.0\n",
      "посёлок Бугры 9.97\n",
      "поселок Бугры 10.0\n",
      "поселок городского типа Рощино 9.15\n",
      "Кириши 6.6\n",
      "Луга 8.4\n",
      "Волосово 8.3\n",
      "Отрадное 7.8\n",
      "село Павлово 5.4\n",
      "поселок Оредеж 5.1\n",
      "село Копорье 7.4\n",
      "посёлок городского типа Красный Бор 10.0\n",
      "посёлок Молодёжное 6.0\n",
      "Тихвин 8.0\n",
      "посёлок Победа 6.0\n",
      "деревня Нурма 7.0\n",
      "поселок городского типа Синявино 9.0\n",
      "Тосно 8.5\n",
      "посёлок городского типа Кузьмоловский 7.0\n",
      "посёлок Стрельна 8.0\n",
      "Бокситогорск 6.0\n",
      "посёлок Александровская 11.5\n",
      "деревня Лопухинка 6.15\n",
      "Пикалёво 6.5\n",
      "поселок Терволово 5.65\n",
      "поселок городского типа Советский 7.0\n",
      "Подпорожье 7.0\n",
      "посёлок Петровское 8.5\n",
      "посёлок городского типа Токсово 9.0\n",
      "поселок Сельцо 7.85\n",
      "посёлок городского типа Вырица 8.0\n",
      "деревня Кипень 7.1\n",
      "деревня Келози 5.6\n",
      "деревня Вартемяги 9.0\n",
      "посёлок Тельмана 9.0\n",
      "поселок Севастьяново nan\n",
      "городской поселок Большая Ижора 8.0\n",
      "городской посёлок Павлово 6.05\n",
      "деревня Агалатово 7.0\n",
      "посёлок Новогорелово 10.64\n",
      "городской посёлок Лесогорский 7.0\n",
      "деревня Лаголово 6.5\n",
      "поселок Цвелодубово 6.75\n",
      "поселок городского типа Рахья 6.1\n",
      "поселок городского типа Вырица 6.0\n",
      "деревня Белогорка 5.75\n",
      "поселок Заводской 6.0\n",
      "городской посёлок Новоселье 11.0\n",
      "деревня Большие Колпаны 8.5\n",
      "деревня Горбунки 8.4\n",
      "деревня Батово 5.45\n",
      "деревня Заневка 11.0\n",
      "деревня Иссад nan\n",
      "Приморск 6.05\n",
      "городской посёлок Фёдоровское 7.3\n",
      "деревня Мистолово 9.385\n",
      "Новая Ладога 8.0\n",
      "поселок Зимитицы 6.0\n",
      "поселок Барышево 7.0\n",
      "деревня Разметелево 6.7\n",
      "поселок городского типа имени Свердлова 10.2\n",
      "деревня Пеники 8.4\n",
      "поселок Рябово 8.4\n",
      "деревня Пудомяги 5.55\n",
      "поселок станции Корнево nan\n",
      "деревня Низино 8.85\n",
      "деревня Бегуницы 8.2\n",
      "посёлок Поляны 8.25\n",
      "городской посёлок Мга 6.55\n",
      "поселок Елизаветино 8.0\n",
      "посёлок городского типа Кузнечное 8.45\n",
      "деревня Колтуши 10.7\n",
      "поселок Запорожское 7.0\n",
      "посёлок городского типа Рощино 8.3\n",
      "деревня Гостилицы 5.8\n",
      "деревня Малое Карлино 8.2\n",
      "посёлок Мичуринское 9.0\n",
      "посёлок городского типа имени Морозова 8.5\n"
     ]
    },
    {
     "name": "stderr",
     "output_type": "stream",
     "text": [
      "/opt/conda/lib/python3.9/site-packages/numpy/lib/nanfunctions.py:1117: RuntimeWarning: Mean of empty slice\n",
      "  return np.nanmean(a, axis, out=out, keepdims=keepdims)\n",
      "/opt/conda/lib/python3.9/site-packages/numpy/lib/nanfunctions.py:1117: RuntimeWarning: Mean of empty slice\n",
      "  return np.nanmean(a, axis, out=out, keepdims=keepdims)\n",
      "/opt/conda/lib/python3.9/site-packages/numpy/lib/nanfunctions.py:1117: RuntimeWarning: Mean of empty slice\n",
      "  return np.nanmean(a, axis, out=out, keepdims=keepdims)\n"
     ]
    },
    {
     "name": "stdout",
     "output_type": "stream",
     "text": [
      "посёлок Песочный 4.65\n",
      "посёлок Сосново 8.0\n",
      "деревня Аро 12.5\n",
      "поселок Ильичёво 5.6\n",
      "посёлок городского типа Тайцы 8.0\n",
      "деревня Малое Верево 8.2\n",
      "деревня Извара 5.4\n",
      "поселок станции Вещево 8.0\n",
      "село Паша 13.0\n",
      "деревня Калитино 5.3\n",
      "посёлок городского типа Ульяновка 6.0\n",
      "деревня Чудской Бор 7.4\n",
      "поселок городского типа Дубровка 7.2\n",
      "деревня Мины 7.25\n",
      "поселок Войсковицы 7.2\n",
      "посёлок городского типа имени Свердлова 9.4\n",
      "деревня Коркино 6.05\n",
      "посёлок Ропша 8.0\n",
      "поселок городского типа Приладожский 7.0\n",
      "посёлок Щеглово 10.15\n",
      "посёлок Гаврилово 8.0\n",
      "Лодейное Поле 8.0\n",
      "деревня Рабитицы 7.15\n",
      "поселок городского типа Никольский 8.5\n",
      "деревня Кузьмолово 8.65\n",
      "деревня Малые Колпаны 10.42\n",
      "поселок Тельмана 8.7\n",
      "посёлок Петро-Славянка nan\n",
      "городской посёлок Назия 5.5\n",
      "посёлок Репино 18.0\n",
      "посёлок Ильичёво 7.25\n",
      "поселок Углово 9.1\n",
      "поселок Старая Малукса 6.25\n",
      "садовое товарищество Рахья 5.5\n",
      "поселок Аннино 8.7\n",
      "поселок Победа 8.5\n",
      "деревня Меньково 8.5\n",
      "деревня Старые Бегуницы 6.0\n",
      "посёлок Сапёрный 7.5\n",
      "поселок Семрино 8.5\n",
      "поселок Гаврилово 5.0\n",
      "поселок Глажево 9.0\n",
      "поселок Кобринское 5.9\n",
      "деревня Гарболово 7.1\n",
      "деревня Юкки 15.0\n",
      "поселок станции Приветнинское 7.5\n",
      "деревня Мануйлово 8.3\n",
      "деревня Пчева 7.2\n",
      "поселок Поляны 8.9\n",
      "поселок Цвылёво 7.0\n",
      "поселок Мельниково 6.0\n",
      "посёлок Пудость 7.5\n",
      "посёлок Усть-Луга 7.0\n",
      "Светогорск 8.0\n",
      "Любань 8.85\n",
      "поселок Селезнёво 6.5\n",
      "поселок городского типа Рябово 12.0\n",
      "Каменногорск 6.0\n",
      "деревня Кривко 8.6\n",
      "поселок Глебычево 9.4\n",
      "деревня Парицы 9.9\n",
      "поселок Жилпосёлок 8.0\n",
      "посёлок городского типа Мга 6.8\n",
      "городской поселок Янино-1 11.6\n",
      "посёлок Войскорово 9.0\n",
      "село Никольское 5.5\n",
      "посёлок Терволово 7.5\n",
      "поселок Стеклянный 6.5\n",
      "посёлок городского типа Важины 7.0\n"
     ]
    },
    {
     "name": "stderr",
     "output_type": "stream",
     "text": [
      "/opt/conda/lib/python3.9/site-packages/numpy/lib/nanfunctions.py:1117: RuntimeWarning: Mean of empty slice\n",
      "  return np.nanmean(a, axis, out=out, keepdims=keepdims)\n"
     ]
    },
    {
     "name": "stdout",
     "output_type": "stream",
     "text": [
      "посёлок Мыза-Ивановка 8.4\n",
      "село Русско-Высоцкое 10.7\n",
      "поселок городского типа Лебяжье 8.35\n",
      "поселок городского типа Форносово 8.0\n",
      "село Старая Ладога 6.0\n",
      "поселок Житково 8.9\n",
      "городской посёлок Виллози 8.2\n",
      "деревня Лампово 5.8\n",
      "деревня Шпаньково 11.0\n",
      "деревня Лаврики nan\n",
      "посёлок Сумино 8.4\n",
      "посёлок Возрождение 9.1\n",
      "деревня Старосиверская 8.5\n",
      "посёлок Кикерино 8.75\n",
      "поселок Возрождение 9.0\n",
      "деревня Старое Хинколово 8.5\n",
      "посёлок Пригородный 5.5\n",
      "посёлок Торфяное 8.5\n",
      "городской посёлок Будогощь 6.9\n",
      "поселок Суходолье 9.0\n",
      "поселок Красная Долина 5.5\n",
      "деревня Хапо-Ое 8.0\n",
      "поселок городского типа Дружная Горка 6.0\n",
      "поселок Лисий Нос 5.5\n",
      "деревня Яльгелево 6.75\n",
      "посёлок Стеклянный 8.5\n",
      "село Рождествено 8.15\n",
      "деревня Старополье 5.5\n",
      "посёлок Левашово nan\n",
      "деревня Сяськелево 8.5\n",
      "деревня Камышовка 7.25\n",
      "садоводческое некоммерческое товарищество Лесная Поляна 7.0\n",
      "деревня Хязельки nan\n",
      "поселок Жилгородок 8.3\n",
      "посёлок городского типа Павлово 10.35\n",
      "деревня Ялгино 8.0\n",
      "поселок Новый Учхоз 6.1\n",
      "городской посёлок Рощино 8.1\n",
      "поселок Гончарово 6.0\n",
      "поселок Почап 8.5\n",
      "посёлок Сапёрное 7.35\n",
      "посёлок Платформа 69-й километр 8.3\n",
      "поселок Каложицы 10.0\n",
      "деревня Фалилеево 7.0\n",
      "деревня Пельгора 8.0\n",
      "поселок городского типа Лесогорский 6.0\n",
      "деревня Торошковичи 8.5\n",
      "посёлок Белоостров 6.0\n"
     ]
    },
    {
     "name": "stderr",
     "output_type": "stream",
     "text": [
      "/opt/conda/lib/python3.9/site-packages/numpy/lib/nanfunctions.py:1117: RuntimeWarning: Mean of empty slice\n",
      "  return np.nanmean(a, axis, out=out, keepdims=keepdims)\n",
      "/opt/conda/lib/python3.9/site-packages/numpy/lib/nanfunctions.py:1117: RuntimeWarning: Mean of empty slice\n",
      "  return np.nanmean(a, axis, out=out, keepdims=keepdims)\n",
      "/opt/conda/lib/python3.9/site-packages/numpy/lib/nanfunctions.py:1117: RuntimeWarning: Mean of empty slice\n",
      "  return np.nanmean(a, axis, out=out, keepdims=keepdims)\n"
     ]
    },
    {
     "name": "stdout",
     "output_type": "stream",
     "text": [
      "посёлок Алексеевка 6.2\n",
      "поселок Серебрянский 5.5\n",
      "поселок Лукаши 6.0\n",
      "поселок Петровское 9.05\n",
      "деревня Щеглово 9.4\n",
      "поселок Мичуринское 5.3\n",
      "деревня Тарасово nan\n",
      "поселок Кингисеппский 7.25\n",
      "посёлок при железнодорожной станции Вещево 6.0\n",
      "поселок Ушаки 6.9\n",
      "деревня Котлы 6.0\n",
      "деревня Сижно 11.0\n",
      "деревня Торосово 8.3\n",
      "посёлок Форт Красная Горка 4.8\n",
      "поселок городского типа Токсово 10.2\n",
      "деревня Новолисино 8.1\n",
      "посёлок станции Громово 8.5\n",
      "деревня Глинка 17.25\n",
      "посёлок Мельниково 6.0\n",
      "поселок городского типа Назия 7.1\n",
      "деревня Старая Пустошь 6.3\n",
      "поселок Коммунары 8.5\n",
      "поселок Починок 5.7\n",
      "посёлок городского типа Вознесенье 6.0\n",
      "деревня Разбегаево 9.0\n",
      "посёлок городского типа Рябово 10.0\n",
      "поселок Гладкое 9.0\n",
      "посёлок при железнодорожной станции Приветнинское 8.3\n",
      "поселок Тёсово-4 9.0\n",
      "посёлок Жилгородок 8.25\n",
      "деревня Бор 17.8\n",
      "посёлок Коробицыно 5.1\n",
      "деревня Большая Вруда 5.4\n",
      "деревня Курковицы 8.4\n",
      "посёлок Лисий Нос 9.2\n",
      "городской посёлок Советский 5.300000000000001\n",
      "посёлок Кобралово 8.2\n",
      "деревня Суоранда 6.4\n",
      "поселок Кобралово 6.8\n",
      "поселок городского типа Кондратьево 6.0\n",
      "коттеджный поселок Счастье nan\n",
      "поселок Любань 7.0\n",
      "деревня Реброво 5.8\n",
      "деревня Зимитицы 6.0\n",
      "деревня Тойворово 7.2\n",
      "поселок Семиозерье 8.5\n"
     ]
    },
    {
     "name": "stderr",
     "output_type": "stream",
     "text": [
      "/opt/conda/lib/python3.9/site-packages/numpy/lib/nanfunctions.py:1117: RuntimeWarning: Mean of empty slice\n",
      "  return np.nanmean(a, axis, out=out, keepdims=keepdims)\n",
      "/opt/conda/lib/python3.9/site-packages/numpy/lib/nanfunctions.py:1117: RuntimeWarning: Mean of empty slice\n",
      "  return np.nanmean(a, axis, out=out, keepdims=keepdims)\n"
     ]
    },
    {
     "name": "stdout",
     "output_type": "stream",
     "text": [
      "поселок Лесное 8.8\n",
      "поселок Совхозный 9.0\n",
      "поселок Усть-Луга 9.0\n",
      "посёлок Ленинское 7.0\n",
      "посёлок Суйда 7.0\n",
      "посёлок городского типа Форносово 8.5\n",
      "деревня Нижние Осельки 10.0\n",
      "посёлок станции Свирь 8.0\n",
      "поселок Перово 9.0\n",
      "Высоцк 5.6\n",
      "поселок Гарболово 6.7\n",
      "село Шум 6.5\n",
      "поселок Котельский 7.0\n",
      "поселок станции Лужайка nan\n",
      "деревня Большая Пустомержа 8.0\n",
      "поселок Красносельское nan\n",
      "деревня Вахнова Кара nan\n",
      "деревня Пижма 9.0\n",
      "коттеджный поселок Кивеннапа Север 18.0\n",
      "поселок Коробицыно 9.0\n",
      "поселок Ромашки 8.0\n",
      "посёлок Перово 9.0\n",
      "деревня Каськово 22.0\n",
      "деревня Куровицы 8.5\n",
      "посёлок Плоское nan\n",
      "поселок Сумино 8.3\n",
      "поселок городского типа Большая Ижора 8.5\n",
      "поселок Кирпичное 5.3\n",
      "деревня Ям-Тесово 8.5\n",
      "деревня Раздолье nan\n",
      "деревня Терпилицы 5.5\n",
      "посёлок Шугозеро 9.0\n",
      "деревня Ваганово 8.5\n",
      "поселок Пушное 8.0\n",
      "садовое товарищество Садко 8.7\n",
      "посёлок Усть-Ижора 7.9\n",
      "деревня Выскатка 8.7\n",
      "городской посёлок Свирьстрой nan\n",
      "поселок Громово 7.0\n",
      "деревня Кисельня 9.0\n",
      "посёлок Старая Малукса 10.9\n",
      "деревня Трубников Бор nan\n",
      "поселок Калитино 9.0\n",
      "посёлок Высокоключевой 8.5\n",
      "садовое товарищество Приладожский 7.0\n",
      "посёлок Пансионат Зелёный Бор 6.0\n",
      "деревня Ненимяки 8.0\n",
      "поселок Пансионат Зелёный Бор 8.2\n",
      "деревня Снегирёвка 8.4\n",
      "деревня Рапполово 6.0\n",
      "деревня Пустынка 7.5\n"
     ]
    },
    {
     "name": "stderr",
     "output_type": "stream",
     "text": [
      "/opt/conda/lib/python3.9/site-packages/numpy/lib/nanfunctions.py:1117: RuntimeWarning: Mean of empty slice\n",
      "  return np.nanmean(a, axis, out=out, keepdims=keepdims)\n",
      "/opt/conda/lib/python3.9/site-packages/numpy/lib/nanfunctions.py:1117: RuntimeWarning: Mean of empty slice\n",
      "  return np.nanmean(a, axis, out=out, keepdims=keepdims)\n",
      "/opt/conda/lib/python3.9/site-packages/numpy/lib/nanfunctions.py:1117: RuntimeWarning: Mean of empty slice\n",
      "  return np.nanmean(a, axis, out=out, keepdims=keepdims)\n",
      "/opt/conda/lib/python3.9/site-packages/numpy/lib/nanfunctions.py:1117: RuntimeWarning: Mean of empty slice\n",
      "  return np.nanmean(a, axis, out=out, keepdims=keepdims)\n",
      "/opt/conda/lib/python3.9/site-packages/numpy/lib/nanfunctions.py:1117: RuntimeWarning: Mean of empty slice\n",
      "  return np.nanmean(a, axis, out=out, keepdims=keepdims)\n",
      "/opt/conda/lib/python3.9/site-packages/numpy/lib/nanfunctions.py:1117: RuntimeWarning: Mean of empty slice\n",
      "  return np.nanmean(a, axis, out=out, keepdims=keepdims)\n",
      "/opt/conda/lib/python3.9/site-packages/numpy/lib/nanfunctions.py:1117: RuntimeWarning: Mean of empty slice\n",
      "  return np.nanmean(a, axis, out=out, keepdims=keepdims)\n",
      "/opt/conda/lib/python3.9/site-packages/numpy/lib/nanfunctions.py:1117: RuntimeWarning: Mean of empty slice\n",
      "  return np.nanmean(a, axis, out=out, keepdims=keepdims)\n"
     ]
    },
    {
     "name": "stdout",
     "output_type": "stream",
     "text": [
      "поселок Рабитицы 6.0\n",
      "деревня Большой Сабск 8.4\n",
      "деревня Русско nan\n",
      "деревня Лупполово 9.6\n",
      "деревня Большое Рейзино 10.0\n",
      "деревня Малая Романовка 9.0\n",
      "поселок Дружноселье 6.2\n",
      "поселок Пчевжа nan\n",
      "поселок Володарское 6.3\n",
      "деревня Нижняя 9.0\n",
      "коттеджный посёлок Лесное 8.8\n",
      "деревня Тихковицы 9.0\n",
      "деревня Борисова Грива 5.5\n",
      "посёлок Дзержинского 5.5\n"
     ]
    },
    {
     "name": "stderr",
     "output_type": "stream",
     "text": [
      "/opt/conda/lib/python3.9/site-packages/numpy/lib/nanfunctions.py:1117: RuntimeWarning: Mean of empty slice\n",
      "  return np.nanmean(a, axis, out=out, keepdims=keepdims)\n"
     ]
    },
    {
     "data": {
      "text/html": [
       "<div>\n",
       "<style scoped>\n",
       "    .dataframe tbody tr th:only-of-type {\n",
       "        vertical-align: middle;\n",
       "    }\n",
       "\n",
       "    .dataframe tbody tr th {\n",
       "        vertical-align: top;\n",
       "    }\n",
       "\n",
       "    .dataframe thead th {\n",
       "        text-align: right;\n",
       "    }\n",
       "</style>\n",
       "<table border=\"1\" class=\"dataframe\">\n",
       "  <thead>\n",
       "    <tr style=\"text-align: right;\">\n",
       "      <th></th>\n",
       "      <th>total_images</th>\n",
       "      <th>last_price</th>\n",
       "      <th>total_area</th>\n",
       "      <th>first_day_exposition</th>\n",
       "      <th>rooms</th>\n",
       "      <th>ceiling_height</th>\n",
       "      <th>floors_total</th>\n",
       "      <th>living_area</th>\n",
       "      <th>floor</th>\n",
       "      <th>is_apartment</th>\n",
       "      <th>...</th>\n",
       "      <th>kitchen_area</th>\n",
       "      <th>balcony</th>\n",
       "      <th>locality_name</th>\n",
       "      <th>airports_nearest</th>\n",
       "      <th>cityCenters_nearest</th>\n",
       "      <th>parks_around3000</th>\n",
       "      <th>parks_nearest</th>\n",
       "      <th>ponds_around3000</th>\n",
       "      <th>ponds_nearest</th>\n",
       "      <th>days_exposition</th>\n",
       "    </tr>\n",
       "  </thead>\n",
       "  <tbody>\n",
       "    <tr>\n",
       "      <th>0</th>\n",
       "      <td>20</td>\n",
       "      <td>13000000.0</td>\n",
       "      <td>108.00</td>\n",
       "      <td>2019-03-07T00:00:00</td>\n",
       "      <td>3</td>\n",
       "      <td>2.70</td>\n",
       "      <td>16.0</td>\n",
       "      <td>51.00</td>\n",
       "      <td>8</td>\n",
       "      <td>False</td>\n",
       "      <td>...</td>\n",
       "      <td>25.00</td>\n",
       "      <td>0.0</td>\n",
       "      <td>Санкт-Петербург</td>\n",
       "      <td>18863.0</td>\n",
       "      <td>16028.0</td>\n",
       "      <td>1.0</td>\n",
       "      <td>482.0</td>\n",
       "      <td>2.0</td>\n",
       "      <td>755.0</td>\n",
       "      <td>NaN</td>\n",
       "    </tr>\n",
       "    <tr>\n",
       "      <th>1</th>\n",
       "      <td>7</td>\n",
       "      <td>3350000.0</td>\n",
       "      <td>40.40</td>\n",
       "      <td>2018-12-04T00:00:00</td>\n",
       "      <td>1</td>\n",
       "      <td>2.63</td>\n",
       "      <td>11.0</td>\n",
       "      <td>18.60</td>\n",
       "      <td>1</td>\n",
       "      <td>False</td>\n",
       "      <td>...</td>\n",
       "      <td>11.00</td>\n",
       "      <td>2.0</td>\n",
       "      <td>посёлок Шушары</td>\n",
       "      <td>12817.0</td>\n",
       "      <td>18603.0</td>\n",
       "      <td>0.0</td>\n",
       "      <td>NaN</td>\n",
       "      <td>0.0</td>\n",
       "      <td>NaN</td>\n",
       "      <td>81.0</td>\n",
       "    </tr>\n",
       "    <tr>\n",
       "      <th>2</th>\n",
       "      <td>10</td>\n",
       "      <td>5196000.0</td>\n",
       "      <td>56.00</td>\n",
       "      <td>2015-08-20T00:00:00</td>\n",
       "      <td>2</td>\n",
       "      <td>2.70</td>\n",
       "      <td>5.0</td>\n",
       "      <td>34.30</td>\n",
       "      <td>4</td>\n",
       "      <td>False</td>\n",
       "      <td>...</td>\n",
       "      <td>8.30</td>\n",
       "      <td>0.0</td>\n",
       "      <td>Санкт-Петербург</td>\n",
       "      <td>21741.0</td>\n",
       "      <td>13933.0</td>\n",
       "      <td>1.0</td>\n",
       "      <td>90.0</td>\n",
       "      <td>2.0</td>\n",
       "      <td>574.0</td>\n",
       "      <td>558.0</td>\n",
       "    </tr>\n",
       "    <tr>\n",
       "      <th>3</th>\n",
       "      <td>0</td>\n",
       "      <td>64900000.0</td>\n",
       "      <td>159.00</td>\n",
       "      <td>2015-07-24T00:00:00</td>\n",
       "      <td>3</td>\n",
       "      <td>2.70</td>\n",
       "      <td>14.0</td>\n",
       "      <td>31.30</td>\n",
       "      <td>9</td>\n",
       "      <td>False</td>\n",
       "      <td>...</td>\n",
       "      <td>9.90</td>\n",
       "      <td>0.0</td>\n",
       "      <td>Санкт-Петербург</td>\n",
       "      <td>28098.0</td>\n",
       "      <td>6800.0</td>\n",
       "      <td>2.0</td>\n",
       "      <td>84.0</td>\n",
       "      <td>3.0</td>\n",
       "      <td>234.0</td>\n",
       "      <td>424.0</td>\n",
       "    </tr>\n",
       "    <tr>\n",
       "      <th>4</th>\n",
       "      <td>2</td>\n",
       "      <td>10000000.0</td>\n",
       "      <td>100.00</td>\n",
       "      <td>2018-06-19T00:00:00</td>\n",
       "      <td>2</td>\n",
       "      <td>3.03</td>\n",
       "      <td>14.0</td>\n",
       "      <td>32.00</td>\n",
       "      <td>13</td>\n",
       "      <td>False</td>\n",
       "      <td>...</td>\n",
       "      <td>41.00</td>\n",
       "      <td>0.0</td>\n",
       "      <td>Санкт-Петербург</td>\n",
       "      <td>31856.0</td>\n",
       "      <td>8098.0</td>\n",
       "      <td>2.0</td>\n",
       "      <td>112.0</td>\n",
       "      <td>1.0</td>\n",
       "      <td>48.0</td>\n",
       "      <td>121.0</td>\n",
       "    </tr>\n",
       "    <tr>\n",
       "      <th>5</th>\n",
       "      <td>10</td>\n",
       "      <td>2890000.0</td>\n",
       "      <td>30.40</td>\n",
       "      <td>2018-09-10T00:00:00</td>\n",
       "      <td>1</td>\n",
       "      <td>2.60</td>\n",
       "      <td>12.0</td>\n",
       "      <td>14.40</td>\n",
       "      <td>5</td>\n",
       "      <td>False</td>\n",
       "      <td>...</td>\n",
       "      <td>9.10</td>\n",
       "      <td>0.0</td>\n",
       "      <td>городской посёлок Янино-1</td>\n",
       "      <td>NaN</td>\n",
       "      <td>NaN</td>\n",
       "      <td>NaN</td>\n",
       "      <td>NaN</td>\n",
       "      <td>NaN</td>\n",
       "      <td>NaN</td>\n",
       "      <td>55.0</td>\n",
       "    </tr>\n",
       "    <tr>\n",
       "      <th>6</th>\n",
       "      <td>6</td>\n",
       "      <td>3700000.0</td>\n",
       "      <td>37.30</td>\n",
       "      <td>2017-11-02T00:00:00</td>\n",
       "      <td>1</td>\n",
       "      <td>2.64</td>\n",
       "      <td>26.0</td>\n",
       "      <td>10.60</td>\n",
       "      <td>6</td>\n",
       "      <td>False</td>\n",
       "      <td>...</td>\n",
       "      <td>14.40</td>\n",
       "      <td>1.0</td>\n",
       "      <td>посёлок Парголово</td>\n",
       "      <td>52996.0</td>\n",
       "      <td>19143.0</td>\n",
       "      <td>0.0</td>\n",
       "      <td>NaN</td>\n",
       "      <td>0.0</td>\n",
       "      <td>NaN</td>\n",
       "      <td>155.0</td>\n",
       "    </tr>\n",
       "    <tr>\n",
       "      <th>7</th>\n",
       "      <td>5</td>\n",
       "      <td>7915000.0</td>\n",
       "      <td>71.60</td>\n",
       "      <td>2019-04-18T00:00:00</td>\n",
       "      <td>2</td>\n",
       "      <td>2.70</td>\n",
       "      <td>24.0</td>\n",
       "      <td>31.30</td>\n",
       "      <td>22</td>\n",
       "      <td>False</td>\n",
       "      <td>...</td>\n",
       "      <td>18.90</td>\n",
       "      <td>2.0</td>\n",
       "      <td>Санкт-Петербург</td>\n",
       "      <td>23982.0</td>\n",
       "      <td>11634.0</td>\n",
       "      <td>0.0</td>\n",
       "      <td>NaN</td>\n",
       "      <td>0.0</td>\n",
       "      <td>NaN</td>\n",
       "      <td>NaN</td>\n",
       "    </tr>\n",
       "    <tr>\n",
       "      <th>8</th>\n",
       "      <td>20</td>\n",
       "      <td>2900000.0</td>\n",
       "      <td>33.16</td>\n",
       "      <td>2018-05-23T00:00:00</td>\n",
       "      <td>1</td>\n",
       "      <td>2.70</td>\n",
       "      <td>27.0</td>\n",
       "      <td>15.43</td>\n",
       "      <td>26</td>\n",
       "      <td>False</td>\n",
       "      <td>...</td>\n",
       "      <td>8.81</td>\n",
       "      <td>0.0</td>\n",
       "      <td>посёлок Мурино</td>\n",
       "      <td>NaN</td>\n",
       "      <td>NaN</td>\n",
       "      <td>NaN</td>\n",
       "      <td>NaN</td>\n",
       "      <td>NaN</td>\n",
       "      <td>NaN</td>\n",
       "      <td>189.0</td>\n",
       "    </tr>\n",
       "    <tr>\n",
       "      <th>9</th>\n",
       "      <td>18</td>\n",
       "      <td>5400000.0</td>\n",
       "      <td>61.00</td>\n",
       "      <td>2017-02-26T00:00:00</td>\n",
       "      <td>3</td>\n",
       "      <td>2.50</td>\n",
       "      <td>9.0</td>\n",
       "      <td>43.60</td>\n",
       "      <td>7</td>\n",
       "      <td>False</td>\n",
       "      <td>...</td>\n",
       "      <td>6.50</td>\n",
       "      <td>2.0</td>\n",
       "      <td>Санкт-Петербург</td>\n",
       "      <td>50898.0</td>\n",
       "      <td>15008.0</td>\n",
       "      <td>0.0</td>\n",
       "      <td>NaN</td>\n",
       "      <td>0.0</td>\n",
       "      <td>NaN</td>\n",
       "      <td>289.0</td>\n",
       "    </tr>\n",
       "  </tbody>\n",
       "</table>\n",
       "<p>10 rows × 22 columns</p>\n",
       "</div>"
      ],
      "text/plain": [
       "   total_images  last_price  total_area first_day_exposition  rooms  \\\n",
       "0            20  13000000.0      108.00  2019-03-07T00:00:00      3   \n",
       "1             7   3350000.0       40.40  2018-12-04T00:00:00      1   \n",
       "2            10   5196000.0       56.00  2015-08-20T00:00:00      2   \n",
       "3             0  64900000.0      159.00  2015-07-24T00:00:00      3   \n",
       "4             2  10000000.0      100.00  2018-06-19T00:00:00      2   \n",
       "5            10   2890000.0       30.40  2018-09-10T00:00:00      1   \n",
       "6             6   3700000.0       37.30  2017-11-02T00:00:00      1   \n",
       "7             5   7915000.0       71.60  2019-04-18T00:00:00      2   \n",
       "8            20   2900000.0       33.16  2018-05-23T00:00:00      1   \n",
       "9            18   5400000.0       61.00  2017-02-26T00:00:00      3   \n",
       "\n",
       "   ceiling_height  floors_total  living_area  floor is_apartment  ...  \\\n",
       "0            2.70          16.0        51.00      8        False  ...   \n",
       "1            2.63          11.0        18.60      1        False  ...   \n",
       "2            2.70           5.0        34.30      4        False  ...   \n",
       "3            2.70          14.0        31.30      9        False  ...   \n",
       "4            3.03          14.0        32.00     13        False  ...   \n",
       "5            2.60          12.0        14.40      5        False  ...   \n",
       "6            2.64          26.0        10.60      6        False  ...   \n",
       "7            2.70          24.0        31.30     22        False  ...   \n",
       "8            2.70          27.0        15.43     26        False  ...   \n",
       "9            2.50           9.0        43.60      7        False  ...   \n",
       "\n",
       "   kitchen_area  balcony              locality_name  airports_nearest  \\\n",
       "0         25.00      0.0            Санкт-Петербург           18863.0   \n",
       "1         11.00      2.0             посёлок Шушары           12817.0   \n",
       "2          8.30      0.0            Санкт-Петербург           21741.0   \n",
       "3          9.90      0.0            Санкт-Петербург           28098.0   \n",
       "4         41.00      0.0            Санкт-Петербург           31856.0   \n",
       "5          9.10      0.0  городской посёлок Янино-1               NaN   \n",
       "6         14.40      1.0          посёлок Парголово           52996.0   \n",
       "7         18.90      2.0            Санкт-Петербург           23982.0   \n",
       "8          8.81      0.0             посёлок Мурино               NaN   \n",
       "9          6.50      2.0            Санкт-Петербург           50898.0   \n",
       "\n",
       "  cityCenters_nearest  parks_around3000  parks_nearest  ponds_around3000  \\\n",
       "0             16028.0               1.0          482.0               2.0   \n",
       "1             18603.0               0.0            NaN               0.0   \n",
       "2             13933.0               1.0           90.0               2.0   \n",
       "3              6800.0               2.0           84.0               3.0   \n",
       "4              8098.0               2.0          112.0               1.0   \n",
       "5                 NaN               NaN            NaN               NaN   \n",
       "6             19143.0               0.0            NaN               0.0   \n",
       "7             11634.0               0.0            NaN               0.0   \n",
       "8                 NaN               NaN            NaN               NaN   \n",
       "9             15008.0               0.0            NaN               0.0   \n",
       "\n",
       "   ponds_nearest  days_exposition  \n",
       "0          755.0              NaN  \n",
       "1            NaN             81.0  \n",
       "2          574.0            558.0  \n",
       "3          234.0            424.0  \n",
       "4           48.0            121.0  \n",
       "5            NaN             55.0  \n",
       "6            NaN            155.0  \n",
       "7            NaN              NaN  \n",
       "8            NaN            189.0  \n",
       "9            NaN            289.0  \n",
       "\n",
       "[10 rows x 22 columns]"
      ]
     },
     "metadata": {},
     "output_type": "display_data"
    },
    {
     "name": "stdout",
     "output_type": "stream",
     "text": [
      "Пропусков после: 19\n"
     ]
    }
   ],
   "source": [
    "#заполним пропуски в столбце kitchen_area \n",
    "print('Пропусков до:',data['kitchen_area'].isna().sum())\n",
    "for row in data['locality_name'].unique():\n",
    "    median = data.loc[data['locality_name']==row, 'kitchen_area'].median()\n",
    "    print(row, median)\n",
    "    data.loc[(data['kitchen_area'].isna()) & (data['locality_name']==row), 'kitchen_area'] = median\n",
    "display(data.head(10))\n",
    "print('Пропусков после:',data['kitchen_area'].isna().sum())"
   ]
  },
  {
   "cell_type": "code",
   "execution_count": 15,
   "metadata": {},
   "outputs": [
    {
     "name": "stdout",
     "output_type": "stream",
     "text": [
      "Пропуски после: 0\n"
     ]
    }
   ],
   "source": [
    "#оставшиеся пропуски заполним медианным по столбцу значением \n",
    "data['kitchen_area'] = data['kitchen_area'].fillna (data['kitchen_area'].median())\n",
    "print('Пропуски после:', data['kitchen_area'].isna().sum())"
   ]
  },
  {
   "cell_type": "code",
   "execution_count": 16,
   "metadata": {},
   "outputs": [
    {
     "name": "stdout",
     "output_type": "stream",
     "text": [
      "Пропуски до: 85\n",
      "Пропуски после: 0\n"
     ]
    }
   ],
   "source": [
    "#заполним пропуски в столбце floors_total медианным по столбцу значением\n",
    "print('Пропуски до:', data['floors_total'].isna().sum())\n",
    "data['floors_total'] = data['floors_total'].fillna(data['floors_total'].median())\n",
    "print('Пропуски после:', data['floors_total'].isna().sum())"
   ]
  },
  {
   "cell_type": "code",
   "execution_count": 17,
   "metadata": {},
   "outputs": [
    {
     "name": "stdout",
     "output_type": "stream",
     "text": [
      "Пропусков до: 5534\n"
     ]
    },
    {
     "data": {
      "text/html": [
       "<div>\n",
       "<style scoped>\n",
       "    .dataframe tbody tr th:only-of-type {\n",
       "        vertical-align: middle;\n",
       "    }\n",
       "\n",
       "    .dataframe tbody tr th {\n",
       "        vertical-align: top;\n",
       "    }\n",
       "\n",
       "    .dataframe thead th {\n",
       "        text-align: right;\n",
       "    }\n",
       "</style>\n",
       "<table border=\"1\" class=\"dataframe\">\n",
       "  <thead>\n",
       "    <tr style=\"text-align: right;\">\n",
       "      <th></th>\n",
       "      <th>airports_nearest</th>\n",
       "    </tr>\n",
       "    <tr>\n",
       "      <th>locality_name</th>\n",
       "      <th></th>\n",
       "    </tr>\n",
       "  </thead>\n",
       "  <tbody>\n",
       "    <tr>\n",
       "      <th>Бокситогорск</th>\n",
       "      <td>NaN</td>\n",
       "    </tr>\n",
       "    <tr>\n",
       "      <th>Волосово</th>\n",
       "      <td>NaN</td>\n",
       "    </tr>\n",
       "    <tr>\n",
       "      <th>Волхов</th>\n",
       "      <td>NaN</td>\n",
       "    </tr>\n",
       "    <tr>\n",
       "      <th>Всеволожск</th>\n",
       "      <td>NaN</td>\n",
       "    </tr>\n",
       "    <tr>\n",
       "      <th>Выборг</th>\n",
       "      <td>NaN</td>\n",
       "    </tr>\n",
       "    <tr>\n",
       "      <th>Высоцк</th>\n",
       "      <td>NaN</td>\n",
       "    </tr>\n",
       "    <tr>\n",
       "      <th>Гатчина</th>\n",
       "      <td>NaN</td>\n",
       "    </tr>\n",
       "    <tr>\n",
       "      <th>Зеленогорск</th>\n",
       "      <td>72282.0</td>\n",
       "    </tr>\n",
       "    <tr>\n",
       "      <th>Ивангород</th>\n",
       "      <td>NaN</td>\n",
       "    </tr>\n",
       "    <tr>\n",
       "      <th>Каменногорск</th>\n",
       "      <td>NaN</td>\n",
       "    </tr>\n",
       "    <tr>\n",
       "      <th>Кингисепп</th>\n",
       "      <td>NaN</td>\n",
       "    </tr>\n",
       "    <tr>\n",
       "      <th>Кириши</th>\n",
       "      <td>NaN</td>\n",
       "    </tr>\n",
       "    <tr>\n",
       "      <th>Кировск</th>\n",
       "      <td>NaN</td>\n",
       "    </tr>\n",
       "    <tr>\n",
       "      <th>Колпино</th>\n",
       "      <td>26232.0</td>\n",
       "    </tr>\n",
       "    <tr>\n",
       "      <th>Коммунар</th>\n",
       "      <td>NaN</td>\n",
       "    </tr>\n",
       "    <tr>\n",
       "      <th>Красное Село</th>\n",
       "      <td>25715.5</td>\n",
       "    </tr>\n",
       "    <tr>\n",
       "      <th>Кронштадт</th>\n",
       "      <td>67850.0</td>\n",
       "    </tr>\n",
       "    <tr>\n",
       "      <th>Кудрово</th>\n",
       "      <td>NaN</td>\n",
       "    </tr>\n",
       "    <tr>\n",
       "      <th>Лодейное Поле</th>\n",
       "      <td>NaN</td>\n",
       "    </tr>\n",
       "    <tr>\n",
       "      <th>Ломоносов</th>\n",
       "      <td>48415.5</td>\n",
       "    </tr>\n",
       "  </tbody>\n",
       "</table>\n",
       "</div>"
      ],
      "text/plain": [
       "               airports_nearest\n",
       "locality_name                  \n",
       "Бокситогорск                NaN\n",
       "Волосово                    NaN\n",
       "Волхов                      NaN\n",
       "Всеволожск                  NaN\n",
       "Выборг                      NaN\n",
       "Высоцк                      NaN\n",
       "Гатчина                     NaN\n",
       "Зеленогорск             72282.0\n",
       "Ивангород                   NaN\n",
       "Каменногорск                NaN\n",
       "Кингисепп                   NaN\n",
       "Кириши                      NaN\n",
       "Кировск                     NaN\n",
       "Колпино                 26232.0\n",
       "Коммунар                    NaN\n",
       "Красное Село            25715.5\n",
       "Кронштадт               67850.0\n",
       "Кудрово                     NaN\n",
       "Лодейное Поле               NaN\n",
       "Ломоносов               48415.5"
      ]
     },
     "execution_count": 17,
     "metadata": {},
     "output_type": "execute_result"
    }
   ],
   "source": [
    "#заполним пропуски в столбце airports_nearest \n",
    "print('Пропусков до:',data['airports_nearest'].isna().sum())\n",
    "data.groupby('locality_name').agg({'airports_nearest': 'median'}).head(20)\n"
   ]
  },
  {
   "cell_type": "code",
   "execution_count": 18,
   "metadata": {
    "scrolled": true
   },
   "outputs": [
    {
     "name": "stdout",
     "output_type": "stream",
     "text": [
      "<class 'pandas.core.frame.DataFrame'>\n",
      "Int64Index: 23650 entries, 0 to 23698\n",
      "Data columns (total 22 columns):\n",
      " #   Column                Non-Null Count  Dtype  \n",
      "---  ------                --------------  -----  \n",
      " 0   total_images          23650 non-null  int64  \n",
      " 1   last_price            23650 non-null  float64\n",
      " 2   total_area            23650 non-null  float64\n",
      " 3   first_day_exposition  23650 non-null  object \n",
      " 4   rooms                 23650 non-null  int64  \n",
      " 5   ceiling_height        23529 non-null  float64\n",
      " 6   floors_total          23650 non-null  float64\n",
      " 7   living_area           23650 non-null  float64\n",
      " 8   floor                 23650 non-null  int64  \n",
      " 9   is_apartment          23650 non-null  object \n",
      " 10  studio                23650 non-null  bool   \n",
      " 11  open_plan             23650 non-null  bool   \n",
      " 12  kitchen_area          23650 non-null  float64\n",
      " 13  balcony               23650 non-null  float64\n",
      " 14  locality_name         23650 non-null  object \n",
      " 15  airports_nearest      18116 non-null  float64\n",
      " 16  cityCenters_nearest   18139 non-null  float64\n",
      " 17  parks_around3000      18140 non-null  float64\n",
      " 18  parks_nearest         8064 non-null   float64\n",
      " 19  ponds_around3000      18140 non-null  float64\n",
      " 20  ponds_nearest         9085 non-null   float64\n",
      " 21  days_exposition       20470 non-null  float64\n",
      "dtypes: bool(2), float64(14), int64(3), object(3)\n",
      "memory usage: 3.8+ MB\n"
     ]
    }
   ],
   "source": [
    "data.info()"
   ]
  },
  {
   "cell_type": "code",
   "execution_count": 19,
   "metadata": {},
   "outputs": [
    {
     "name": "stdout",
     "output_type": "stream",
     "text": [
      "Пропуски после: 0\n"
     ]
    }
   ],
   "source": [
    "data['airports_nearest'] = data['airports_nearest'].fillna(data['airports_nearest'].median())\n",
    "print('Пропуски после:', data['airports_nearest'].isna().sum())"
   ]
  },
  {
   "cell_type": "code",
   "execution_count": 20,
   "metadata": {},
   "outputs": [
    {
     "data": {
      "text/html": [
       "<div>\n",
       "<style scoped>\n",
       "    .dataframe tbody tr th:only-of-type {\n",
       "        vertical-align: middle;\n",
       "    }\n",
       "\n",
       "    .dataframe tbody tr th {\n",
       "        vertical-align: top;\n",
       "    }\n",
       "\n",
       "    .dataframe thead th {\n",
       "        text-align: right;\n",
       "    }\n",
       "</style>\n",
       "<table border=\"1\" class=\"dataframe\">\n",
       "  <thead>\n",
       "    <tr style=\"text-align: right;\">\n",
       "      <th></th>\n",
       "      <th>cityCenters_nearest</th>\n",
       "    </tr>\n",
       "    <tr>\n",
       "      <th>locality_name</th>\n",
       "      <th></th>\n",
       "    </tr>\n",
       "  </thead>\n",
       "  <tbody>\n",
       "    <tr>\n",
       "      <th>Бокситогорск</th>\n",
       "      <td>NaN</td>\n",
       "    </tr>\n",
       "    <tr>\n",
       "      <th>Волосово</th>\n",
       "      <td>NaN</td>\n",
       "    </tr>\n",
       "    <tr>\n",
       "      <th>Волхов</th>\n",
       "      <td>NaN</td>\n",
       "    </tr>\n",
       "    <tr>\n",
       "      <th>Всеволожск</th>\n",
       "      <td>NaN</td>\n",
       "    </tr>\n",
       "    <tr>\n",
       "      <th>Выборг</th>\n",
       "      <td>NaN</td>\n",
       "    </tr>\n",
       "    <tr>\n",
       "      <th>Высоцк</th>\n",
       "      <td>NaN</td>\n",
       "    </tr>\n",
       "    <tr>\n",
       "      <th>Гатчина</th>\n",
       "      <td>NaN</td>\n",
       "    </tr>\n",
       "    <tr>\n",
       "      <th>Зеленогорск</th>\n",
       "      <td>53381.0</td>\n",
       "    </tr>\n",
       "    <tr>\n",
       "      <th>Ивангород</th>\n",
       "      <td>NaN</td>\n",
       "    </tr>\n",
       "    <tr>\n",
       "      <th>Каменногорск</th>\n",
       "      <td>NaN</td>\n",
       "    </tr>\n",
       "    <tr>\n",
       "      <th>Кингисепп</th>\n",
       "      <td>NaN</td>\n",
       "    </tr>\n",
       "    <tr>\n",
       "      <th>Кириши</th>\n",
       "      <td>NaN</td>\n",
       "    </tr>\n",
       "    <tr>\n",
       "      <th>Кировск</th>\n",
       "      <td>NaN</td>\n",
       "    </tr>\n",
       "    <tr>\n",
       "      <th>Колпино</th>\n",
       "      <td>32018.0</td>\n",
       "    </tr>\n",
       "    <tr>\n",
       "      <th>Коммунар</th>\n",
       "      <td>NaN</td>\n",
       "    </tr>\n",
       "    <tr>\n",
       "      <th>Красное Село</th>\n",
       "      <td>29140.5</td>\n",
       "    </tr>\n",
       "    <tr>\n",
       "      <th>Кронштадт</th>\n",
       "      <td>49575.0</td>\n",
       "    </tr>\n",
       "    <tr>\n",
       "      <th>Кудрово</th>\n",
       "      <td>NaN</td>\n",
       "    </tr>\n",
       "    <tr>\n",
       "      <th>Лодейное Поле</th>\n",
       "      <td>NaN</td>\n",
       "    </tr>\n",
       "    <tr>\n",
       "      <th>Ломоносов</th>\n",
       "      <td>51677.0</td>\n",
       "    </tr>\n",
       "  </tbody>\n",
       "</table>\n",
       "</div>"
      ],
      "text/plain": [
       "               cityCenters_nearest\n",
       "locality_name                     \n",
       "Бокситогорск                   NaN\n",
       "Волосово                       NaN\n",
       "Волхов                         NaN\n",
       "Всеволожск                     NaN\n",
       "Выборг                         NaN\n",
       "Высоцк                         NaN\n",
       "Гатчина                        NaN\n",
       "Зеленогорск                53381.0\n",
       "Ивангород                      NaN\n",
       "Каменногорск                   NaN\n",
       "Кингисепп                      NaN\n",
       "Кириши                         NaN\n",
       "Кировск                        NaN\n",
       "Колпино                    32018.0\n",
       "Коммунар                       NaN\n",
       "Красное Село               29140.5\n",
       "Кронштадт                  49575.0\n",
       "Кудрово                        NaN\n",
       "Лодейное Поле                  NaN\n",
       "Ломоносов                  51677.0"
      ]
     },
     "execution_count": 20,
     "metadata": {},
     "output_type": "execute_result"
    }
   ],
   "source": [
    "#заполним пропуски в столбце cityCenters_nearest \n",
    "data.groupby('locality_name').agg({'cityCenters_nearest': 'median'}).head(20)"
   ]
  },
  {
   "cell_type": "markdown",
   "metadata": {},
   "source": [
    "**В результае анализа медианных значений по населенным пунктам было выявлено, что расстояние до центра в пригородах Санкт-Петербурга было указано до центра не населенных пунктов,а до центра  Санкт-Петербурга. Этим обусловлено и наличие аномально больших значений в столбце. Для некоторых населенных пунктов невозможно вычислить медианное значение с группировкой по населенному пункту, а заполнять медианным значением по столбцу пропуски не имеет смысла, так как это будет серьезное искажение данных, которое может повлиять на общий вывод исследования. Предлагается на этапе оценки влияния на стоимость объекта недвижимости фактора удаленности от центра города сделать срез, в который попали бы только те населенные пункты, у которых есть данные. Удалять либо заполнять пропуски на данном этапе нецелесообразно.**"
   ]
  },
  {
   "cell_type": "code",
   "execution_count": 21,
   "metadata": {},
   "outputs": [
    {
     "data": {
      "text/html": [
       "<div>\n",
       "<style scoped>\n",
       "    .dataframe tbody tr th:only-of-type {\n",
       "        vertical-align: middle;\n",
       "    }\n",
       "\n",
       "    .dataframe tbody tr th {\n",
       "        vertical-align: top;\n",
       "    }\n",
       "\n",
       "    .dataframe thead th {\n",
       "        text-align: right;\n",
       "    }\n",
       "</style>\n",
       "<table border=\"1\" class=\"dataframe\">\n",
       "  <thead>\n",
       "    <tr style=\"text-align: right;\">\n",
       "      <th></th>\n",
       "      <th>parks_around3000</th>\n",
       "    </tr>\n",
       "    <tr>\n",
       "      <th>locality_name</th>\n",
       "      <th></th>\n",
       "    </tr>\n",
       "  </thead>\n",
       "  <tbody>\n",
       "    <tr>\n",
       "      <th>Бокситогорск</th>\n",
       "      <td>NaN</td>\n",
       "    </tr>\n",
       "    <tr>\n",
       "      <th>Волосово</th>\n",
       "      <td>NaN</td>\n",
       "    </tr>\n",
       "    <tr>\n",
       "      <th>Волхов</th>\n",
       "      <td>NaN</td>\n",
       "    </tr>\n",
       "    <tr>\n",
       "      <th>Всеволожск</th>\n",
       "      <td>NaN</td>\n",
       "    </tr>\n",
       "    <tr>\n",
       "      <th>Выборг</th>\n",
       "      <td>NaN</td>\n",
       "    </tr>\n",
       "    <tr>\n",
       "      <th>Высоцк</th>\n",
       "      <td>NaN</td>\n",
       "    </tr>\n",
       "    <tr>\n",
       "      <th>Гатчина</th>\n",
       "      <td>NaN</td>\n",
       "    </tr>\n",
       "    <tr>\n",
       "      <th>Зеленогорск</th>\n",
       "      <td>3.0</td>\n",
       "    </tr>\n",
       "    <tr>\n",
       "      <th>Ивангород</th>\n",
       "      <td>NaN</td>\n",
       "    </tr>\n",
       "    <tr>\n",
       "      <th>Каменногорск</th>\n",
       "      <td>NaN</td>\n",
       "    </tr>\n",
       "  </tbody>\n",
       "</table>\n",
       "</div>"
      ],
      "text/plain": [
       "               parks_around3000\n",
       "locality_name                  \n",
       "Бокситогорск                NaN\n",
       "Волосово                    NaN\n",
       "Волхов                      NaN\n",
       "Всеволожск                  NaN\n",
       "Выборг                      NaN\n",
       "Высоцк                      NaN\n",
       "Гатчина                     NaN\n",
       "Зеленогорск                 3.0\n",
       "Ивангород                   NaN\n",
       "Каменногорск                NaN"
      ]
     },
     "execution_count": 21,
     "metadata": {},
     "output_type": "execute_result"
    }
   ],
   "source": [
    "# обработаем пропуски в слобце parks_around3000\n",
    "data.groupby('locality_name').agg({'parks_around3000': 'median'}).head(10)"
   ]
  },
  {
   "cell_type": "markdown",
   "metadata": {},
   "source": [
    "**В результае анализа медианных значений по населенным пунктам было выявлено, что определить медианное значение количества парков в радиусе 3 км для многих населенных пунктов невозможно, в связи с этим предлагается заполнить все пропуски 0, так как, скорее всего, отсутствие данных говорит об отсутствии парков. Тем более медианное значение столбца = 0.**"
   ]
  },
  {
   "cell_type": "code",
   "execution_count": 22,
   "metadata": {},
   "outputs": [
    {
     "name": "stdout",
     "output_type": "stream",
     "text": [
      "Пропуски до: 5510\n",
      "Пропуски после: 0\n"
     ]
    }
   ],
   "source": [
    "print('Пропуски до:', data['parks_around3000'].isna().sum())\n",
    "data['parks_around3000'] = data['parks_around3000'].fillna(0)\n",
    "print('Пропуски после:', data['parks_around3000'].isna().sum())"
   ]
  },
  {
   "cell_type": "code",
   "execution_count": 23,
   "metadata": {},
   "outputs": [
    {
     "name": "stdout",
     "output_type": "stream",
     "text": [
      "Пропуски до: 15586\n"
     ]
    },
    {
     "data": {
      "text/html": [
       "<div>\n",
       "<style scoped>\n",
       "    .dataframe tbody tr th:only-of-type {\n",
       "        vertical-align: middle;\n",
       "    }\n",
       "\n",
       "    .dataframe tbody tr th {\n",
       "        vertical-align: top;\n",
       "    }\n",
       "\n",
       "    .dataframe thead th {\n",
       "        text-align: right;\n",
       "    }\n",
       "</style>\n",
       "<table border=\"1\" class=\"dataframe\">\n",
       "  <thead>\n",
       "    <tr style=\"text-align: right;\">\n",
       "      <th></th>\n",
       "      <th>total_images</th>\n",
       "      <th>last_price</th>\n",
       "      <th>total_area</th>\n",
       "      <th>first_day_exposition</th>\n",
       "      <th>rooms</th>\n",
       "      <th>ceiling_height</th>\n",
       "      <th>floors_total</th>\n",
       "      <th>living_area</th>\n",
       "      <th>floor</th>\n",
       "      <th>is_apartment</th>\n",
       "      <th>...</th>\n",
       "      <th>kitchen_area</th>\n",
       "      <th>balcony</th>\n",
       "      <th>locality_name</th>\n",
       "      <th>airports_nearest</th>\n",
       "      <th>cityCenters_nearest</th>\n",
       "      <th>parks_around3000</th>\n",
       "      <th>parks_nearest</th>\n",
       "      <th>ponds_around3000</th>\n",
       "      <th>ponds_nearest</th>\n",
       "      <th>days_exposition</th>\n",
       "    </tr>\n",
       "  </thead>\n",
       "  <tbody>\n",
       "    <tr>\n",
       "      <th>1</th>\n",
       "      <td>7</td>\n",
       "      <td>3350000.0</td>\n",
       "      <td>40.40</td>\n",
       "      <td>2018-12-04T00:00:00</td>\n",
       "      <td>1</td>\n",
       "      <td>2.63</td>\n",
       "      <td>11.0</td>\n",
       "      <td>18.60</td>\n",
       "      <td>1</td>\n",
       "      <td>False</td>\n",
       "      <td>...</td>\n",
       "      <td>11.00</td>\n",
       "      <td>2.0</td>\n",
       "      <td>посёлок Шушары</td>\n",
       "      <td>12817.0</td>\n",
       "      <td>18603.0</td>\n",
       "      <td>0.0</td>\n",
       "      <td>NaN</td>\n",
       "      <td>0.0</td>\n",
       "      <td>NaN</td>\n",
       "      <td>81.0</td>\n",
       "    </tr>\n",
       "    <tr>\n",
       "      <th>5</th>\n",
       "      <td>10</td>\n",
       "      <td>2890000.0</td>\n",
       "      <td>30.40</td>\n",
       "      <td>2018-09-10T00:00:00</td>\n",
       "      <td>1</td>\n",
       "      <td>2.60</td>\n",
       "      <td>12.0</td>\n",
       "      <td>14.40</td>\n",
       "      <td>5</td>\n",
       "      <td>False</td>\n",
       "      <td>...</td>\n",
       "      <td>9.10</td>\n",
       "      <td>0.0</td>\n",
       "      <td>городской посёлок Янино-1</td>\n",
       "      <td>26756.5</td>\n",
       "      <td>NaN</td>\n",
       "      <td>0.0</td>\n",
       "      <td>NaN</td>\n",
       "      <td>NaN</td>\n",
       "      <td>NaN</td>\n",
       "      <td>55.0</td>\n",
       "    </tr>\n",
       "    <tr>\n",
       "      <th>6</th>\n",
       "      <td>6</td>\n",
       "      <td>3700000.0</td>\n",
       "      <td>37.30</td>\n",
       "      <td>2017-11-02T00:00:00</td>\n",
       "      <td>1</td>\n",
       "      <td>2.64</td>\n",
       "      <td>26.0</td>\n",
       "      <td>10.60</td>\n",
       "      <td>6</td>\n",
       "      <td>False</td>\n",
       "      <td>...</td>\n",
       "      <td>14.40</td>\n",
       "      <td>1.0</td>\n",
       "      <td>посёлок Парголово</td>\n",
       "      <td>52996.0</td>\n",
       "      <td>19143.0</td>\n",
       "      <td>0.0</td>\n",
       "      <td>NaN</td>\n",
       "      <td>0.0</td>\n",
       "      <td>NaN</td>\n",
       "      <td>155.0</td>\n",
       "    </tr>\n",
       "    <tr>\n",
       "      <th>7</th>\n",
       "      <td>5</td>\n",
       "      <td>7915000.0</td>\n",
       "      <td>71.60</td>\n",
       "      <td>2019-04-18T00:00:00</td>\n",
       "      <td>2</td>\n",
       "      <td>2.70</td>\n",
       "      <td>24.0</td>\n",
       "      <td>31.30</td>\n",
       "      <td>22</td>\n",
       "      <td>False</td>\n",
       "      <td>...</td>\n",
       "      <td>18.90</td>\n",
       "      <td>2.0</td>\n",
       "      <td>Санкт-Петербург</td>\n",
       "      <td>23982.0</td>\n",
       "      <td>11634.0</td>\n",
       "      <td>0.0</td>\n",
       "      <td>NaN</td>\n",
       "      <td>0.0</td>\n",
       "      <td>NaN</td>\n",
       "      <td>NaN</td>\n",
       "    </tr>\n",
       "    <tr>\n",
       "      <th>8</th>\n",
       "      <td>20</td>\n",
       "      <td>2900000.0</td>\n",
       "      <td>33.16</td>\n",
       "      <td>2018-05-23T00:00:00</td>\n",
       "      <td>1</td>\n",
       "      <td>2.70</td>\n",
       "      <td>27.0</td>\n",
       "      <td>15.43</td>\n",
       "      <td>26</td>\n",
       "      <td>False</td>\n",
       "      <td>...</td>\n",
       "      <td>8.81</td>\n",
       "      <td>0.0</td>\n",
       "      <td>посёлок Мурино</td>\n",
       "      <td>26756.5</td>\n",
       "      <td>NaN</td>\n",
       "      <td>0.0</td>\n",
       "      <td>NaN</td>\n",
       "      <td>NaN</td>\n",
       "      <td>NaN</td>\n",
       "      <td>189.0</td>\n",
       "    </tr>\n",
       "    <tr>\n",
       "      <th>...</th>\n",
       "      <td>...</td>\n",
       "      <td>...</td>\n",
       "      <td>...</td>\n",
       "      <td>...</td>\n",
       "      <td>...</td>\n",
       "      <td>...</td>\n",
       "      <td>...</td>\n",
       "      <td>...</td>\n",
       "      <td>...</td>\n",
       "      <td>...</td>\n",
       "      <td>...</td>\n",
       "      <td>...</td>\n",
       "      <td>...</td>\n",
       "      <td>...</td>\n",
       "      <td>...</td>\n",
       "      <td>...</td>\n",
       "      <td>...</td>\n",
       "      <td>...</td>\n",
       "      <td>...</td>\n",
       "      <td>...</td>\n",
       "      <td>...</td>\n",
       "    </tr>\n",
       "    <tr>\n",
       "      <th>23691</th>\n",
       "      <td>11</td>\n",
       "      <td>9470000.0</td>\n",
       "      <td>72.90</td>\n",
       "      <td>2016-10-13T00:00:00</td>\n",
       "      <td>2</td>\n",
       "      <td>2.75</td>\n",
       "      <td>25.0</td>\n",
       "      <td>40.30</td>\n",
       "      <td>7</td>\n",
       "      <td>False</td>\n",
       "      <td>...</td>\n",
       "      <td>10.60</td>\n",
       "      <td>1.0</td>\n",
       "      <td>Санкт-Петербург</td>\n",
       "      <td>19424.0</td>\n",
       "      <td>4489.0</td>\n",
       "      <td>0.0</td>\n",
       "      <td>NaN</td>\n",
       "      <td>1.0</td>\n",
       "      <td>806.0</td>\n",
       "      <td>519.0</td>\n",
       "    </tr>\n",
       "    <tr>\n",
       "      <th>23692</th>\n",
       "      <td>2</td>\n",
       "      <td>1350000.0</td>\n",
       "      <td>30.00</td>\n",
       "      <td>2017-07-07T00:00:00</td>\n",
       "      <td>1</td>\n",
       "      <td>2.60</td>\n",
       "      <td>5.0</td>\n",
       "      <td>17.50</td>\n",
       "      <td>4</td>\n",
       "      <td>False</td>\n",
       "      <td>...</td>\n",
       "      <td>6.00</td>\n",
       "      <td>0.0</td>\n",
       "      <td>Тихвин</td>\n",
       "      <td>26756.5</td>\n",
       "      <td>NaN</td>\n",
       "      <td>0.0</td>\n",
       "      <td>NaN</td>\n",
       "      <td>NaN</td>\n",
       "      <td>NaN</td>\n",
       "      <td>413.0</td>\n",
       "    </tr>\n",
       "    <tr>\n",
       "      <th>23695</th>\n",
       "      <td>14</td>\n",
       "      <td>3100000.0</td>\n",
       "      <td>59.00</td>\n",
       "      <td>2018-01-15T00:00:00</td>\n",
       "      <td>3</td>\n",
       "      <td>2.50</td>\n",
       "      <td>5.0</td>\n",
       "      <td>38.00</td>\n",
       "      <td>4</td>\n",
       "      <td>False</td>\n",
       "      <td>...</td>\n",
       "      <td>8.50</td>\n",
       "      <td>0.0</td>\n",
       "      <td>Тосно</td>\n",
       "      <td>26756.5</td>\n",
       "      <td>NaN</td>\n",
       "      <td>0.0</td>\n",
       "      <td>NaN</td>\n",
       "      <td>NaN</td>\n",
       "      <td>NaN</td>\n",
       "      <td>45.0</td>\n",
       "    </tr>\n",
       "    <tr>\n",
       "      <th>23696</th>\n",
       "      <td>18</td>\n",
       "      <td>2500000.0</td>\n",
       "      <td>56.70</td>\n",
       "      <td>2018-02-11T00:00:00</td>\n",
       "      <td>2</td>\n",
       "      <td>NaN</td>\n",
       "      <td>3.0</td>\n",
       "      <td>29.70</td>\n",
       "      <td>1</td>\n",
       "      <td>False</td>\n",
       "      <td>...</td>\n",
       "      <td>8.15</td>\n",
       "      <td>0.0</td>\n",
       "      <td>село Рождествено</td>\n",
       "      <td>26756.5</td>\n",
       "      <td>NaN</td>\n",
       "      <td>0.0</td>\n",
       "      <td>NaN</td>\n",
       "      <td>NaN</td>\n",
       "      <td>NaN</td>\n",
       "      <td>NaN</td>\n",
       "    </tr>\n",
       "    <tr>\n",
       "      <th>23698</th>\n",
       "      <td>4</td>\n",
       "      <td>1350000.0</td>\n",
       "      <td>32.30</td>\n",
       "      <td>2017-07-21T00:00:00</td>\n",
       "      <td>1</td>\n",
       "      <td>2.50</td>\n",
       "      <td>5.0</td>\n",
       "      <td>12.30</td>\n",
       "      <td>1</td>\n",
       "      <td>False</td>\n",
       "      <td>...</td>\n",
       "      <td>9.00</td>\n",
       "      <td>0.0</td>\n",
       "      <td>поселок Новый Учхоз</td>\n",
       "      <td>26756.5</td>\n",
       "      <td>NaN</td>\n",
       "      <td>0.0</td>\n",
       "      <td>NaN</td>\n",
       "      <td>NaN</td>\n",
       "      <td>NaN</td>\n",
       "      <td>NaN</td>\n",
       "    </tr>\n",
       "  </tbody>\n",
       "</table>\n",
       "<p>15586 rows × 22 columns</p>\n",
       "</div>"
      ],
      "text/plain": [
       "       total_images  last_price  total_area first_day_exposition  rooms  \\\n",
       "1                 7   3350000.0       40.40  2018-12-04T00:00:00      1   \n",
       "5                10   2890000.0       30.40  2018-09-10T00:00:00      1   \n",
       "6                 6   3700000.0       37.30  2017-11-02T00:00:00      1   \n",
       "7                 5   7915000.0       71.60  2019-04-18T00:00:00      2   \n",
       "8                20   2900000.0       33.16  2018-05-23T00:00:00      1   \n",
       "...             ...         ...         ...                  ...    ...   \n",
       "23691            11   9470000.0       72.90  2016-10-13T00:00:00      2   \n",
       "23692             2   1350000.0       30.00  2017-07-07T00:00:00      1   \n",
       "23695            14   3100000.0       59.00  2018-01-15T00:00:00      3   \n",
       "23696            18   2500000.0       56.70  2018-02-11T00:00:00      2   \n",
       "23698             4   1350000.0       32.30  2017-07-21T00:00:00      1   \n",
       "\n",
       "       ceiling_height  floors_total  living_area  floor is_apartment  ...  \\\n",
       "1                2.63          11.0        18.60      1        False  ...   \n",
       "5                2.60          12.0        14.40      5        False  ...   \n",
       "6                2.64          26.0        10.60      6        False  ...   \n",
       "7                2.70          24.0        31.30     22        False  ...   \n",
       "8                2.70          27.0        15.43     26        False  ...   \n",
       "...               ...           ...          ...    ...          ...  ...   \n",
       "23691            2.75          25.0        40.30      7        False  ...   \n",
       "23692            2.60           5.0        17.50      4        False  ...   \n",
       "23695            2.50           5.0        38.00      4        False  ...   \n",
       "23696             NaN           3.0        29.70      1        False  ...   \n",
       "23698            2.50           5.0        12.30      1        False  ...   \n",
       "\n",
       "       kitchen_area  balcony              locality_name  airports_nearest  \\\n",
       "1             11.00      2.0             посёлок Шушары           12817.0   \n",
       "5              9.10      0.0  городской посёлок Янино-1           26756.5   \n",
       "6             14.40      1.0          посёлок Парголово           52996.0   \n",
       "7             18.90      2.0            Санкт-Петербург           23982.0   \n",
       "8              8.81      0.0             посёлок Мурино           26756.5   \n",
       "...             ...      ...                        ...               ...   \n",
       "23691         10.60      1.0            Санкт-Петербург           19424.0   \n",
       "23692          6.00      0.0                     Тихвин           26756.5   \n",
       "23695          8.50      0.0                      Тосно           26756.5   \n",
       "23696          8.15      0.0           село Рождествено           26756.5   \n",
       "23698          9.00      0.0        поселок Новый Учхоз           26756.5   \n",
       "\n",
       "      cityCenters_nearest  parks_around3000  parks_nearest  ponds_around3000  \\\n",
       "1                 18603.0               0.0            NaN               0.0   \n",
       "5                     NaN               0.0            NaN               NaN   \n",
       "6                 19143.0               0.0            NaN               0.0   \n",
       "7                 11634.0               0.0            NaN               0.0   \n",
       "8                     NaN               0.0            NaN               NaN   \n",
       "...                   ...               ...            ...               ...   \n",
       "23691              4489.0               0.0            NaN               1.0   \n",
       "23692                 NaN               0.0            NaN               NaN   \n",
       "23695                 NaN               0.0            NaN               NaN   \n",
       "23696                 NaN               0.0            NaN               NaN   \n",
       "23698                 NaN               0.0            NaN               NaN   \n",
       "\n",
       "       ponds_nearest  days_exposition  \n",
       "1                NaN             81.0  \n",
       "5                NaN             55.0  \n",
       "6                NaN            155.0  \n",
       "7                NaN              NaN  \n",
       "8                NaN            189.0  \n",
       "...              ...              ...  \n",
       "23691          806.0            519.0  \n",
       "23692            NaN            413.0  \n",
       "23695            NaN             45.0  \n",
       "23696            NaN              NaN  \n",
       "23698            NaN              NaN  \n",
       "\n",
       "[15586 rows x 22 columns]"
      ]
     },
     "execution_count": 23,
     "metadata": {},
     "output_type": "execute_result"
    }
   ],
   "source": [
    "# обработаем пропуски в слобце parks_nearest, проверим совпадает отсутствие парков в радиусе 3 км с отсутствием данных в столбце\n",
    "print('Пропуски до:', data['parks_nearest'].isna().sum())\n",
    "data.query('parks_around3000 < 1 and parks_nearest.isna()')"
   ]
  },
  {
   "cell_type": "code",
   "execution_count": 24,
   "metadata": {},
   "outputs": [
    {
     "name": "stdout",
     "output_type": "stream",
     "text": [
      "Пропуски после: 0\n"
     ]
    },
    {
     "data": {
      "text/html": [
       "<div>\n",
       "<style scoped>\n",
       "    .dataframe tbody tr th:only-of-type {\n",
       "        vertical-align: middle;\n",
       "    }\n",
       "\n",
       "    .dataframe tbody tr th {\n",
       "        vertical-align: top;\n",
       "    }\n",
       "\n",
       "    .dataframe thead th {\n",
       "        text-align: right;\n",
       "    }\n",
       "</style>\n",
       "<table border=\"1\" class=\"dataframe\">\n",
       "  <thead>\n",
       "    <tr style=\"text-align: right;\">\n",
       "      <th></th>\n",
       "      <th>total_images</th>\n",
       "      <th>last_price</th>\n",
       "      <th>total_area</th>\n",
       "      <th>first_day_exposition</th>\n",
       "      <th>rooms</th>\n",
       "      <th>ceiling_height</th>\n",
       "      <th>floors_total</th>\n",
       "      <th>living_area</th>\n",
       "      <th>floor</th>\n",
       "      <th>is_apartment</th>\n",
       "      <th>...</th>\n",
       "      <th>kitchen_area</th>\n",
       "      <th>balcony</th>\n",
       "      <th>locality_name</th>\n",
       "      <th>airports_nearest</th>\n",
       "      <th>cityCenters_nearest</th>\n",
       "      <th>parks_around3000</th>\n",
       "      <th>parks_nearest</th>\n",
       "      <th>ponds_around3000</th>\n",
       "      <th>ponds_nearest</th>\n",
       "      <th>days_exposition</th>\n",
       "    </tr>\n",
       "  </thead>\n",
       "  <tbody>\n",
       "    <tr>\n",
       "      <th>0</th>\n",
       "      <td>20</td>\n",
       "      <td>13000000.0</td>\n",
       "      <td>108.00</td>\n",
       "      <td>2019-03-07T00:00:00</td>\n",
       "      <td>3</td>\n",
       "      <td>2.70</td>\n",
       "      <td>16.0</td>\n",
       "      <td>51.00</td>\n",
       "      <td>8</td>\n",
       "      <td>False</td>\n",
       "      <td>...</td>\n",
       "      <td>25.00</td>\n",
       "      <td>0.0</td>\n",
       "      <td>Санкт-Петербург</td>\n",
       "      <td>18863.0</td>\n",
       "      <td>16028.0</td>\n",
       "      <td>1.0</td>\n",
       "      <td>482.0</td>\n",
       "      <td>2.0</td>\n",
       "      <td>755.0</td>\n",
       "      <td>NaN</td>\n",
       "    </tr>\n",
       "    <tr>\n",
       "      <th>1</th>\n",
       "      <td>7</td>\n",
       "      <td>3350000.0</td>\n",
       "      <td>40.40</td>\n",
       "      <td>2018-12-04T00:00:00</td>\n",
       "      <td>1</td>\n",
       "      <td>2.63</td>\n",
       "      <td>11.0</td>\n",
       "      <td>18.60</td>\n",
       "      <td>1</td>\n",
       "      <td>False</td>\n",
       "      <td>...</td>\n",
       "      <td>11.00</td>\n",
       "      <td>2.0</td>\n",
       "      <td>посёлок Шушары</td>\n",
       "      <td>12817.0</td>\n",
       "      <td>18603.0</td>\n",
       "      <td>0.0</td>\n",
       "      <td>3190.0</td>\n",
       "      <td>0.0</td>\n",
       "      <td>NaN</td>\n",
       "      <td>81.0</td>\n",
       "    </tr>\n",
       "    <tr>\n",
       "      <th>2</th>\n",
       "      <td>10</td>\n",
       "      <td>5196000.0</td>\n",
       "      <td>56.00</td>\n",
       "      <td>2015-08-20T00:00:00</td>\n",
       "      <td>2</td>\n",
       "      <td>2.70</td>\n",
       "      <td>5.0</td>\n",
       "      <td>34.30</td>\n",
       "      <td>4</td>\n",
       "      <td>False</td>\n",
       "      <td>...</td>\n",
       "      <td>8.30</td>\n",
       "      <td>0.0</td>\n",
       "      <td>Санкт-Петербург</td>\n",
       "      <td>21741.0</td>\n",
       "      <td>13933.0</td>\n",
       "      <td>1.0</td>\n",
       "      <td>90.0</td>\n",
       "      <td>2.0</td>\n",
       "      <td>574.0</td>\n",
       "      <td>558.0</td>\n",
       "    </tr>\n",
       "    <tr>\n",
       "      <th>3</th>\n",
       "      <td>0</td>\n",
       "      <td>64900000.0</td>\n",
       "      <td>159.00</td>\n",
       "      <td>2015-07-24T00:00:00</td>\n",
       "      <td>3</td>\n",
       "      <td>2.70</td>\n",
       "      <td>14.0</td>\n",
       "      <td>31.30</td>\n",
       "      <td>9</td>\n",
       "      <td>False</td>\n",
       "      <td>...</td>\n",
       "      <td>9.90</td>\n",
       "      <td>0.0</td>\n",
       "      <td>Санкт-Петербург</td>\n",
       "      <td>28098.0</td>\n",
       "      <td>6800.0</td>\n",
       "      <td>2.0</td>\n",
       "      <td>84.0</td>\n",
       "      <td>3.0</td>\n",
       "      <td>234.0</td>\n",
       "      <td>424.0</td>\n",
       "    </tr>\n",
       "    <tr>\n",
       "      <th>4</th>\n",
       "      <td>2</td>\n",
       "      <td>10000000.0</td>\n",
       "      <td>100.00</td>\n",
       "      <td>2018-06-19T00:00:00</td>\n",
       "      <td>2</td>\n",
       "      <td>3.03</td>\n",
       "      <td>14.0</td>\n",
       "      <td>32.00</td>\n",
       "      <td>13</td>\n",
       "      <td>False</td>\n",
       "      <td>...</td>\n",
       "      <td>41.00</td>\n",
       "      <td>0.0</td>\n",
       "      <td>Санкт-Петербург</td>\n",
       "      <td>31856.0</td>\n",
       "      <td>8098.0</td>\n",
       "      <td>2.0</td>\n",
       "      <td>112.0</td>\n",
       "      <td>1.0</td>\n",
       "      <td>48.0</td>\n",
       "      <td>121.0</td>\n",
       "    </tr>\n",
       "    <tr>\n",
       "      <th>5</th>\n",
       "      <td>10</td>\n",
       "      <td>2890000.0</td>\n",
       "      <td>30.40</td>\n",
       "      <td>2018-09-10T00:00:00</td>\n",
       "      <td>1</td>\n",
       "      <td>2.60</td>\n",
       "      <td>12.0</td>\n",
       "      <td>14.40</td>\n",
       "      <td>5</td>\n",
       "      <td>False</td>\n",
       "      <td>...</td>\n",
       "      <td>9.10</td>\n",
       "      <td>0.0</td>\n",
       "      <td>городской посёлок Янино-1</td>\n",
       "      <td>26756.5</td>\n",
       "      <td>NaN</td>\n",
       "      <td>0.0</td>\n",
       "      <td>3190.0</td>\n",
       "      <td>NaN</td>\n",
       "      <td>NaN</td>\n",
       "      <td>55.0</td>\n",
       "    </tr>\n",
       "    <tr>\n",
       "      <th>6</th>\n",
       "      <td>6</td>\n",
       "      <td>3700000.0</td>\n",
       "      <td>37.30</td>\n",
       "      <td>2017-11-02T00:00:00</td>\n",
       "      <td>1</td>\n",
       "      <td>2.64</td>\n",
       "      <td>26.0</td>\n",
       "      <td>10.60</td>\n",
       "      <td>6</td>\n",
       "      <td>False</td>\n",
       "      <td>...</td>\n",
       "      <td>14.40</td>\n",
       "      <td>1.0</td>\n",
       "      <td>посёлок Парголово</td>\n",
       "      <td>52996.0</td>\n",
       "      <td>19143.0</td>\n",
       "      <td>0.0</td>\n",
       "      <td>3190.0</td>\n",
       "      <td>0.0</td>\n",
       "      <td>NaN</td>\n",
       "      <td>155.0</td>\n",
       "    </tr>\n",
       "    <tr>\n",
       "      <th>7</th>\n",
       "      <td>5</td>\n",
       "      <td>7915000.0</td>\n",
       "      <td>71.60</td>\n",
       "      <td>2019-04-18T00:00:00</td>\n",
       "      <td>2</td>\n",
       "      <td>2.70</td>\n",
       "      <td>24.0</td>\n",
       "      <td>31.30</td>\n",
       "      <td>22</td>\n",
       "      <td>False</td>\n",
       "      <td>...</td>\n",
       "      <td>18.90</td>\n",
       "      <td>2.0</td>\n",
       "      <td>Санкт-Петербург</td>\n",
       "      <td>23982.0</td>\n",
       "      <td>11634.0</td>\n",
       "      <td>0.0</td>\n",
       "      <td>3190.0</td>\n",
       "      <td>0.0</td>\n",
       "      <td>NaN</td>\n",
       "      <td>NaN</td>\n",
       "    </tr>\n",
       "    <tr>\n",
       "      <th>8</th>\n",
       "      <td>20</td>\n",
       "      <td>2900000.0</td>\n",
       "      <td>33.16</td>\n",
       "      <td>2018-05-23T00:00:00</td>\n",
       "      <td>1</td>\n",
       "      <td>2.70</td>\n",
       "      <td>27.0</td>\n",
       "      <td>15.43</td>\n",
       "      <td>26</td>\n",
       "      <td>False</td>\n",
       "      <td>...</td>\n",
       "      <td>8.81</td>\n",
       "      <td>0.0</td>\n",
       "      <td>посёлок Мурино</td>\n",
       "      <td>26756.5</td>\n",
       "      <td>NaN</td>\n",
       "      <td>0.0</td>\n",
       "      <td>3190.0</td>\n",
       "      <td>NaN</td>\n",
       "      <td>NaN</td>\n",
       "      <td>189.0</td>\n",
       "    </tr>\n",
       "    <tr>\n",
       "      <th>9</th>\n",
       "      <td>18</td>\n",
       "      <td>5400000.0</td>\n",
       "      <td>61.00</td>\n",
       "      <td>2017-02-26T00:00:00</td>\n",
       "      <td>3</td>\n",
       "      <td>2.50</td>\n",
       "      <td>9.0</td>\n",
       "      <td>43.60</td>\n",
       "      <td>7</td>\n",
       "      <td>False</td>\n",
       "      <td>...</td>\n",
       "      <td>6.50</td>\n",
       "      <td>2.0</td>\n",
       "      <td>Санкт-Петербург</td>\n",
       "      <td>50898.0</td>\n",
       "      <td>15008.0</td>\n",
       "      <td>0.0</td>\n",
       "      <td>3190.0</td>\n",
       "      <td>0.0</td>\n",
       "      <td>NaN</td>\n",
       "      <td>289.0</td>\n",
       "    </tr>\n",
       "  </tbody>\n",
       "</table>\n",
       "<p>10 rows × 22 columns</p>\n",
       "</div>"
      ],
      "text/plain": [
       "   total_images  last_price  total_area first_day_exposition  rooms  \\\n",
       "0            20  13000000.0      108.00  2019-03-07T00:00:00      3   \n",
       "1             7   3350000.0       40.40  2018-12-04T00:00:00      1   \n",
       "2            10   5196000.0       56.00  2015-08-20T00:00:00      2   \n",
       "3             0  64900000.0      159.00  2015-07-24T00:00:00      3   \n",
       "4             2  10000000.0      100.00  2018-06-19T00:00:00      2   \n",
       "5            10   2890000.0       30.40  2018-09-10T00:00:00      1   \n",
       "6             6   3700000.0       37.30  2017-11-02T00:00:00      1   \n",
       "7             5   7915000.0       71.60  2019-04-18T00:00:00      2   \n",
       "8            20   2900000.0       33.16  2018-05-23T00:00:00      1   \n",
       "9            18   5400000.0       61.00  2017-02-26T00:00:00      3   \n",
       "\n",
       "   ceiling_height  floors_total  living_area  floor is_apartment  ...  \\\n",
       "0            2.70          16.0        51.00      8        False  ...   \n",
       "1            2.63          11.0        18.60      1        False  ...   \n",
       "2            2.70           5.0        34.30      4        False  ...   \n",
       "3            2.70          14.0        31.30      9        False  ...   \n",
       "4            3.03          14.0        32.00     13        False  ...   \n",
       "5            2.60          12.0        14.40      5        False  ...   \n",
       "6            2.64          26.0        10.60      6        False  ...   \n",
       "7            2.70          24.0        31.30     22        False  ...   \n",
       "8            2.70          27.0        15.43     26        False  ...   \n",
       "9            2.50           9.0        43.60      7        False  ...   \n",
       "\n",
       "   kitchen_area  balcony              locality_name  airports_nearest  \\\n",
       "0         25.00      0.0            Санкт-Петербург           18863.0   \n",
       "1         11.00      2.0             посёлок Шушары           12817.0   \n",
       "2          8.30      0.0            Санкт-Петербург           21741.0   \n",
       "3          9.90      0.0            Санкт-Петербург           28098.0   \n",
       "4         41.00      0.0            Санкт-Петербург           31856.0   \n",
       "5          9.10      0.0  городской посёлок Янино-1           26756.5   \n",
       "6         14.40      1.0          посёлок Парголово           52996.0   \n",
       "7         18.90      2.0            Санкт-Петербург           23982.0   \n",
       "8          8.81      0.0             посёлок Мурино           26756.5   \n",
       "9          6.50      2.0            Санкт-Петербург           50898.0   \n",
       "\n",
       "  cityCenters_nearest  parks_around3000  parks_nearest  ponds_around3000  \\\n",
       "0             16028.0               1.0          482.0               2.0   \n",
       "1             18603.0               0.0         3190.0               0.0   \n",
       "2             13933.0               1.0           90.0               2.0   \n",
       "3              6800.0               2.0           84.0               3.0   \n",
       "4              8098.0               2.0          112.0               1.0   \n",
       "5                 NaN               0.0         3190.0               NaN   \n",
       "6             19143.0               0.0         3190.0               0.0   \n",
       "7             11634.0               0.0         3190.0               0.0   \n",
       "8                 NaN               0.0         3190.0               NaN   \n",
       "9             15008.0               0.0         3190.0               0.0   \n",
       "\n",
       "   ponds_nearest  days_exposition  \n",
       "0          755.0              NaN  \n",
       "1            NaN             81.0  \n",
       "2          574.0            558.0  \n",
       "3          234.0            424.0  \n",
       "4           48.0            121.0  \n",
       "5            NaN             55.0  \n",
       "6            NaN            155.0  \n",
       "7            NaN              NaN  \n",
       "8            NaN            189.0  \n",
       "9            NaN            289.0  \n",
       "\n",
       "[10 rows x 22 columns]"
      ]
     },
     "execution_count": 24,
     "metadata": {},
     "output_type": "execute_result"
    }
   ],
   "source": [
    "# заполним пропуски в столбце parks_nearest максимальным значением столбца \n",
    "data.loc[data['parks_nearest'].isna(), 'parks_nearest'] = data['parks_nearest'].max()\n",
    "print('Пропуски после:', data['parks_nearest'].isna().sum())\n",
    "data.head(10)"
   ]
  },
  {
   "cell_type": "code",
   "execution_count": 25,
   "metadata": {},
   "outputs": [
    {
     "name": "stdout",
     "output_type": "stream",
     "text": [
      "Пропуски до в ponds_around3000: 5510\n",
      "Пропуски после в ponds_around3000: 0\n"
     ]
    }
   ],
   "source": [
    "# заполним пропуски в столбцах ponds_around3000 и рonds_nearest \n",
    "print('Пропуски до в ponds_around3000:', data['ponds_around3000'].isna().sum())\n",
    "data.loc[data['ponds_around3000'].isna(), 'ponds_around3000'] = 0\n",
    "print('Пропуски после в ponds_around3000:', data['ponds_around3000'].isna().sum())"
   ]
  },
  {
   "cell_type": "code",
   "execution_count": 26,
   "metadata": {},
   "outputs": [
    {
     "data": {
      "text/plain": [
       "0    755.0\n",
       "1      NaN\n",
       "2    574.0\n",
       "3    234.0\n",
       "4     48.0\n",
       "Name: ponds_nearest, dtype: float64"
      ]
     },
     "execution_count": 26,
     "metadata": {},
     "output_type": "execute_result"
    }
   ],
   "source": [
    "data['ponds_nearest'].head()"
   ]
  },
  {
   "cell_type": "code",
   "execution_count": 27,
   "metadata": {},
   "outputs": [
    {
     "name": "stdout",
     "output_type": "stream",
     "text": [
      "Пропуски до в рonds_nearest : 14565\n",
      "Пропуски после в рonds_nearest : 0\n"
     ]
    }
   ],
   "source": [
    "print('Пропуски до в рonds_nearest :', data['ponds_nearest'].isna().sum())\n",
    "data['ponds_nearest'] = data['ponds_nearest'].fillna(data['ponds_nearest'].max())\n",
    "print('Пропуски после в рonds_nearest :', data['ponds_nearest'].isna().sum())"
   ]
  },
  {
   "cell_type": "code",
   "execution_count": 28,
   "metadata": {},
   "outputs": [
    {
     "name": "stdout",
     "output_type": "stream",
     "text": [
      "<class 'pandas.core.frame.DataFrame'>\n",
      "Int64Index: 23650 entries, 0 to 23698\n",
      "Data columns (total 22 columns):\n",
      " #   Column                Non-Null Count  Dtype         \n",
      "---  ------                --------------  -----         \n",
      " 0   total_images          23650 non-null  int64         \n",
      " 1   last_price            23650 non-null  float64       \n",
      " 2   total_area            23650 non-null  float64       \n",
      " 3   first_day_exposition  23650 non-null  datetime64[ns]\n",
      " 4   rooms                 23650 non-null  int64         \n",
      " 5   ceiling_height        23529 non-null  float64       \n",
      " 6   floors_total          23650 non-null  float64       \n",
      " 7   living_area           23650 non-null  float64       \n",
      " 8   floor                 23650 non-null  int64         \n",
      " 9   is_apartment          23650 non-null  object        \n",
      " 10  studio                23650 non-null  bool          \n",
      " 11  open_plan             23650 non-null  bool          \n",
      " 12  kitchen_area          23650 non-null  float64       \n",
      " 13  balcony               23650 non-null  float64       \n",
      " 14  locality_name         23650 non-null  object        \n",
      " 15  airports_nearest      23650 non-null  float64       \n",
      " 16  cityCenters_nearest   18139 non-null  float64       \n",
      " 17  parks_around3000      23650 non-null  float64       \n",
      " 18  parks_nearest         23650 non-null  float64       \n",
      " 19  ponds_around3000      23650 non-null  float64       \n",
      " 20  ponds_nearest         23650 non-null  float64       \n",
      " 21  days_exposition       20470 non-null  float64       \n",
      "dtypes: bool(2), datetime64[ns](1), float64(14), int64(3), object(2)\n",
      "memory usage: 3.8+ MB\n"
     ]
    },
    {
     "data": {
      "text/html": [
       "<div>\n",
       "<style scoped>\n",
       "    .dataframe tbody tr th:only-of-type {\n",
       "        vertical-align: middle;\n",
       "    }\n",
       "\n",
       "    .dataframe tbody tr th {\n",
       "        vertical-align: top;\n",
       "    }\n",
       "\n",
       "    .dataframe thead th {\n",
       "        text-align: right;\n",
       "    }\n",
       "</style>\n",
       "<table border=\"1\" class=\"dataframe\">\n",
       "  <thead>\n",
       "    <tr style=\"text-align: right;\">\n",
       "      <th></th>\n",
       "      <th>total_images</th>\n",
       "      <th>last_price</th>\n",
       "      <th>total_area</th>\n",
       "      <th>first_day_exposition</th>\n",
       "      <th>rooms</th>\n",
       "      <th>ceiling_height</th>\n",
       "      <th>floors_total</th>\n",
       "      <th>living_area</th>\n",
       "      <th>floor</th>\n",
       "      <th>is_apartment</th>\n",
       "      <th>...</th>\n",
       "      <th>kitchen_area</th>\n",
       "      <th>balcony</th>\n",
       "      <th>locality_name</th>\n",
       "      <th>airports_nearest</th>\n",
       "      <th>cityCenters_nearest</th>\n",
       "      <th>parks_around3000</th>\n",
       "      <th>parks_nearest</th>\n",
       "      <th>ponds_around3000</th>\n",
       "      <th>ponds_nearest</th>\n",
       "      <th>days_exposition</th>\n",
       "    </tr>\n",
       "  </thead>\n",
       "  <tbody>\n",
       "    <tr>\n",
       "      <th>696</th>\n",
       "      <td>1</td>\n",
       "      <td>3364930.0</td>\n",
       "      <td>34.69</td>\n",
       "      <td>2014-11-27</td>\n",
       "      <td>1</td>\n",
       "      <td>2.64</td>\n",
       "      <td>25.0</td>\n",
       "      <td>23.43</td>\n",
       "      <td>25</td>\n",
       "      <td>False</td>\n",
       "      <td>...</td>\n",
       "      <td>23.43</td>\n",
       "      <td>2.0</td>\n",
       "      <td>Санкт-Петербург</td>\n",
       "      <td>43396.0</td>\n",
       "      <td>12153.0</td>\n",
       "      <td>0.0</td>\n",
       "      <td>3190.0</td>\n",
       "      <td>0.0</td>\n",
       "      <td>1344.0</td>\n",
       "      <td>574.0</td>\n",
       "    </tr>\n",
       "    <tr>\n",
       "      <th>13246</th>\n",
       "      <td>1</td>\n",
       "      <td>14000000.0</td>\n",
       "      <td>142.00</td>\n",
       "      <td>2014-11-27</td>\n",
       "      <td>3</td>\n",
       "      <td>2.77</td>\n",
       "      <td>5.0</td>\n",
       "      <td>95.70</td>\n",
       "      <td>4</td>\n",
       "      <td>False</td>\n",
       "      <td>...</td>\n",
       "      <td>14.30</td>\n",
       "      <td>1.0</td>\n",
       "      <td>Санкт-Петербург</td>\n",
       "      <td>38184.0</td>\n",
       "      <td>11755.0</td>\n",
       "      <td>1.0</td>\n",
       "      <td>19.0</td>\n",
       "      <td>1.0</td>\n",
       "      <td>77.0</td>\n",
       "      <td>1341.0</td>\n",
       "    </tr>\n",
       "    <tr>\n",
       "      <th>3291</th>\n",
       "      <td>8</td>\n",
       "      <td>8200000.0</td>\n",
       "      <td>52.50</td>\n",
       "      <td>2014-11-27</td>\n",
       "      <td>1</td>\n",
       "      <td>2.70</td>\n",
       "      <td>8.0</td>\n",
       "      <td>21.50</td>\n",
       "      <td>2</td>\n",
       "      <td>False</td>\n",
       "      <td>...</td>\n",
       "      <td>15.10</td>\n",
       "      <td>0.0</td>\n",
       "      <td>Санкт-Петербург</td>\n",
       "      <td>39393.0</td>\n",
       "      <td>11096.0</td>\n",
       "      <td>1.0</td>\n",
       "      <td>537.0</td>\n",
       "      <td>0.0</td>\n",
       "      <td>1344.0</td>\n",
       "      <td>NaN</td>\n",
       "    </tr>\n",
       "    <tr>\n",
       "      <th>10132</th>\n",
       "      <td>2</td>\n",
       "      <td>16137000.0</td>\n",
       "      <td>154.76</td>\n",
       "      <td>2014-11-27</td>\n",
       "      <td>4</td>\n",
       "      <td>2.70</td>\n",
       "      <td>20.0</td>\n",
       "      <td>67.81</td>\n",
       "      <td>20</td>\n",
       "      <td>False</td>\n",
       "      <td>...</td>\n",
       "      <td>32.55</td>\n",
       "      <td>0.0</td>\n",
       "      <td>Санкт-Петербург</td>\n",
       "      <td>18490.0</td>\n",
       "      <td>17492.0</td>\n",
       "      <td>0.0</td>\n",
       "      <td>3190.0</td>\n",
       "      <td>2.0</td>\n",
       "      <td>113.0</td>\n",
       "      <td>573.0</td>\n",
       "    </tr>\n",
       "    <tr>\n",
       "      <th>15427</th>\n",
       "      <td>2</td>\n",
       "      <td>3550000.0</td>\n",
       "      <td>34.00</td>\n",
       "      <td>2014-11-27</td>\n",
       "      <td>1</td>\n",
       "      <td>2.55</td>\n",
       "      <td>9.0</td>\n",
       "      <td>18.90</td>\n",
       "      <td>7</td>\n",
       "      <td>False</td>\n",
       "      <td>...</td>\n",
       "      <td>6.00</td>\n",
       "      <td>1.0</td>\n",
       "      <td>Санкт-Петербург</td>\n",
       "      <td>13430.0</td>\n",
       "      <td>14405.0</td>\n",
       "      <td>1.0</td>\n",
       "      <td>500.0</td>\n",
       "      <td>1.0</td>\n",
       "      <td>504.0</td>\n",
       "      <td>1149.0</td>\n",
       "    </tr>\n",
       "    <tr>\n",
       "      <th>...</th>\n",
       "      <td>...</td>\n",
       "      <td>...</td>\n",
       "      <td>...</td>\n",
       "      <td>...</td>\n",
       "      <td>...</td>\n",
       "      <td>...</td>\n",
       "      <td>...</td>\n",
       "      <td>...</td>\n",
       "      <td>...</td>\n",
       "      <td>...</td>\n",
       "      <td>...</td>\n",
       "      <td>...</td>\n",
       "      <td>...</td>\n",
       "      <td>...</td>\n",
       "      <td>...</td>\n",
       "      <td>...</td>\n",
       "      <td>...</td>\n",
       "      <td>...</td>\n",
       "      <td>...</td>\n",
       "      <td>...</td>\n",
       "      <td>...</td>\n",
       "    </tr>\n",
       "    <tr>\n",
       "      <th>12208</th>\n",
       "      <td>7</td>\n",
       "      <td>9000000.0</td>\n",
       "      <td>60.30</td>\n",
       "      <td>2019-05-03</td>\n",
       "      <td>2</td>\n",
       "      <td>3.25</td>\n",
       "      <td>5.0</td>\n",
       "      <td>36.90</td>\n",
       "      <td>4</td>\n",
       "      <td>False</td>\n",
       "      <td>...</td>\n",
       "      <td>5.80</td>\n",
       "      <td>4.0</td>\n",
       "      <td>Санкт-Петербург</td>\n",
       "      <td>32302.0</td>\n",
       "      <td>4662.0</td>\n",
       "      <td>1.0</td>\n",
       "      <td>398.0</td>\n",
       "      <td>0.0</td>\n",
       "      <td>1344.0</td>\n",
       "      <td>NaN</td>\n",
       "    </tr>\n",
       "    <tr>\n",
       "      <th>15881</th>\n",
       "      <td>9</td>\n",
       "      <td>2100000.0</td>\n",
       "      <td>35.80</td>\n",
       "      <td>2019-05-03</td>\n",
       "      <td>1</td>\n",
       "      <td>2.50</td>\n",
       "      <td>5.0</td>\n",
       "      <td>18.00</td>\n",
       "      <td>5</td>\n",
       "      <td>False</td>\n",
       "      <td>...</td>\n",
       "      <td>7.00</td>\n",
       "      <td>1.0</td>\n",
       "      <td>посёлок Ленинское</td>\n",
       "      <td>26756.5</td>\n",
       "      <td>NaN</td>\n",
       "      <td>0.0</td>\n",
       "      <td>3190.0</td>\n",
       "      <td>0.0</td>\n",
       "      <td>1344.0</td>\n",
       "      <td>NaN</td>\n",
       "    </tr>\n",
       "    <tr>\n",
       "      <th>9217</th>\n",
       "      <td>7</td>\n",
       "      <td>4300000.0</td>\n",
       "      <td>35.70</td>\n",
       "      <td>2019-05-03</td>\n",
       "      <td>1</td>\n",
       "      <td>2.70</td>\n",
       "      <td>21.0</td>\n",
       "      <td>15.00</td>\n",
       "      <td>12</td>\n",
       "      <td>False</td>\n",
       "      <td>...</td>\n",
       "      <td>13.00</td>\n",
       "      <td>2.0</td>\n",
       "      <td>Мурино</td>\n",
       "      <td>26756.5</td>\n",
       "      <td>NaN</td>\n",
       "      <td>0.0</td>\n",
       "      <td>3190.0</td>\n",
       "      <td>0.0</td>\n",
       "      <td>1344.0</td>\n",
       "      <td>NaN</td>\n",
       "    </tr>\n",
       "    <tr>\n",
       "      <th>2178</th>\n",
       "      <td>10</td>\n",
       "      <td>5100000.0</td>\n",
       "      <td>51.00</td>\n",
       "      <td>2019-05-03</td>\n",
       "      <td>1</td>\n",
       "      <td>2.73</td>\n",
       "      <td>9.0</td>\n",
       "      <td>15.00</td>\n",
       "      <td>2</td>\n",
       "      <td>False</td>\n",
       "      <td>...</td>\n",
       "      <td>25.00</td>\n",
       "      <td>0.0</td>\n",
       "      <td>Кудрово</td>\n",
       "      <td>26756.5</td>\n",
       "      <td>NaN</td>\n",
       "      <td>0.0</td>\n",
       "      <td>3190.0</td>\n",
       "      <td>0.0</td>\n",
       "      <td>1344.0</td>\n",
       "      <td>NaN</td>\n",
       "    </tr>\n",
       "    <tr>\n",
       "      <th>12343</th>\n",
       "      <td>12</td>\n",
       "      <td>2890000.0</td>\n",
       "      <td>48.80</td>\n",
       "      <td>2019-05-03</td>\n",
       "      <td>2</td>\n",
       "      <td>2.55</td>\n",
       "      <td>5.0</td>\n",
       "      <td>29.40</td>\n",
       "      <td>1</td>\n",
       "      <td>False</td>\n",
       "      <td>...</td>\n",
       "      <td>7.20</td>\n",
       "      <td>0.0</td>\n",
       "      <td>городской посёлок Рощино</td>\n",
       "      <td>26756.5</td>\n",
       "      <td>NaN</td>\n",
       "      <td>0.0</td>\n",
       "      <td>3190.0</td>\n",
       "      <td>0.0</td>\n",
       "      <td>1344.0</td>\n",
       "      <td>NaN</td>\n",
       "    </tr>\n",
       "  </tbody>\n",
       "</table>\n",
       "<p>23650 rows × 22 columns</p>\n",
       "</div>"
      ],
      "text/plain": [
       "       total_images  last_price  total_area first_day_exposition  rooms  \\\n",
       "696               1   3364930.0       34.69           2014-11-27      1   \n",
       "13246             1  14000000.0      142.00           2014-11-27      3   \n",
       "3291              8   8200000.0       52.50           2014-11-27      1   \n",
       "10132             2  16137000.0      154.76           2014-11-27      4   \n",
       "15427             2   3550000.0       34.00           2014-11-27      1   \n",
       "...             ...         ...         ...                  ...    ...   \n",
       "12208             7   9000000.0       60.30           2019-05-03      2   \n",
       "15881             9   2100000.0       35.80           2019-05-03      1   \n",
       "9217              7   4300000.0       35.70           2019-05-03      1   \n",
       "2178             10   5100000.0       51.00           2019-05-03      1   \n",
       "12343            12   2890000.0       48.80           2019-05-03      2   \n",
       "\n",
       "       ceiling_height  floors_total  living_area  floor is_apartment  ...  \\\n",
       "696              2.64          25.0        23.43     25        False  ...   \n",
       "13246            2.77           5.0        95.70      4        False  ...   \n",
       "3291             2.70           8.0        21.50      2        False  ...   \n",
       "10132            2.70          20.0        67.81     20        False  ...   \n",
       "15427            2.55           9.0        18.90      7        False  ...   \n",
       "...               ...           ...          ...    ...          ...  ...   \n",
       "12208            3.25           5.0        36.90      4        False  ...   \n",
       "15881            2.50           5.0        18.00      5        False  ...   \n",
       "9217             2.70          21.0        15.00     12        False  ...   \n",
       "2178             2.73           9.0        15.00      2        False  ...   \n",
       "12343            2.55           5.0        29.40      1        False  ...   \n",
       "\n",
       "       kitchen_area  balcony             locality_name  airports_nearest  \\\n",
       "696           23.43      2.0           Санкт-Петербург           43396.0   \n",
       "13246         14.30      1.0           Санкт-Петербург           38184.0   \n",
       "3291          15.10      0.0           Санкт-Петербург           39393.0   \n",
       "10132         32.55      0.0           Санкт-Петербург           18490.0   \n",
       "15427          6.00      1.0           Санкт-Петербург           13430.0   \n",
       "...             ...      ...                       ...               ...   \n",
       "12208          5.80      4.0           Санкт-Петербург           32302.0   \n",
       "15881          7.00      1.0         посёлок Ленинское           26756.5   \n",
       "9217          13.00      2.0                    Мурино           26756.5   \n",
       "2178          25.00      0.0                   Кудрово           26756.5   \n",
       "12343          7.20      0.0  городской посёлок Рощино           26756.5   \n",
       "\n",
       "      cityCenters_nearest  parks_around3000  parks_nearest  ponds_around3000  \\\n",
       "696               12153.0               0.0         3190.0               0.0   \n",
       "13246             11755.0               1.0           19.0               1.0   \n",
       "3291              11096.0               1.0          537.0               0.0   \n",
       "10132             17492.0               0.0         3190.0               2.0   \n",
       "15427             14405.0               1.0          500.0               1.0   \n",
       "...                   ...               ...            ...               ...   \n",
       "12208              4662.0               1.0          398.0               0.0   \n",
       "15881                 NaN               0.0         3190.0               0.0   \n",
       "9217                  NaN               0.0         3190.0               0.0   \n",
       "2178                  NaN               0.0         3190.0               0.0   \n",
       "12343                 NaN               0.0         3190.0               0.0   \n",
       "\n",
       "       ponds_nearest  days_exposition  \n",
       "696           1344.0            574.0  \n",
       "13246           77.0           1341.0  \n",
       "3291          1344.0              NaN  \n",
       "10132          113.0            573.0  \n",
       "15427          504.0           1149.0  \n",
       "...              ...              ...  \n",
       "12208         1344.0              NaN  \n",
       "15881         1344.0              NaN  \n",
       "9217          1344.0              NaN  \n",
       "2178          1344.0              NaN  \n",
       "12343         1344.0              NaN  \n",
       "\n",
       "[23650 rows x 22 columns]"
      ]
     },
     "execution_count": 28,
     "metadata": {},
     "output_type": "execute_result"
    }
   ],
   "source": [
    "#изменим тип данных в столбце first_day_exposition, тк будет необходимо в дальнейшем работать с этим столбцом\n",
    "data['first_day_exposition'] = pd.to_datetime(data['first_day_exposition'])\n",
    "data.info()\n",
    "data.sort_values(by = 'first_day_exposition')\n"
   ]
  },
  {
   "cell_type": "code",
   "execution_count": 29,
   "metadata": {},
   "outputs": [
    {
     "data": {
      "text/plain": [
       "total_images                     int64\n",
       "last_price                     float64\n",
       "total_area                     float64\n",
       "first_day_exposition    datetime64[ns]\n",
       "rooms                            int64\n",
       "ceiling_height                 float64\n",
       "floors_total                     int64\n",
       "living_area                    float64\n",
       "floor                            int64\n",
       "is_apartment                    object\n",
       "studio                            bool\n",
       "open_plan                         bool\n",
       "kitchen_area                   float64\n",
       "balcony                          int64\n",
       "locality_name                   object\n",
       "airports_nearest               float64\n",
       "cityCenters_nearest            float64\n",
       "parks_around3000                 int64\n",
       "parks_nearest                  float64\n",
       "ponds_around3000                 int64\n",
       "ponds_nearest                  float64\n",
       "days_exposition                float64\n",
       "dtype: object"
      ]
     },
     "execution_count": 29,
     "metadata": {},
     "output_type": "execute_result"
    }
   ],
   "source": [
    "#изменим типы данных в столбцах floors_total,balcony, parks_around3000, ponds_around3000   на целочисленный\n",
    "\n",
    "data = data.astype({'floors_total': int, 'balcony': int, 'parks_around3000': int, 'ponds_around3000': int})\n",
    "data.dtypes"
   ]
  },
  {
   "cell_type": "markdown",
   "metadata": {},
   "source": [
    "### Выводы по предобработке данных\n",
    "В результате предобработки данных были решены следующие задачи:\n",
    "- обработаны пропуски в столбцах: ceiling_height, floors_total, living_area, is_apartment, kitchen_area, balcony, locality_name, airports_nearest , parks_around3000, parks_nearest, ponds_around3000, ponds_nearest. \n",
    "- в столбцах  cityCenters_nearest, days_exposition в процессе предобработки данных было принято решение в целях избежания искажения итоговых результатов исследования не обрабатывать пропуски. Так в частноти в столбце days_exposition отсутвующие значения, скорее всего, связаны с тем, что объявление не было снято с публикации. \n",
    "- изменен тип данных в столбцах для последующей обрабоки значений : floors_total,balcony, parks_around3000, ponds_around3000 на целочисленный, is_apartment на булев тип, first_day_exposition на данные представляющие время. "
   ]
  },
  {
   "cell_type": "markdown",
   "metadata": {},
   "source": [
    "## Дополнительные расчеты "
   ]
  },
  {
   "cell_type": "code",
   "execution_count": 30,
   "metadata": {},
   "outputs": [
    {
     "data": {
      "text/html": [
       "<div>\n",
       "<style scoped>\n",
       "    .dataframe tbody tr th:only-of-type {\n",
       "        vertical-align: middle;\n",
       "    }\n",
       "\n",
       "    .dataframe tbody tr th {\n",
       "        vertical-align: top;\n",
       "    }\n",
       "\n",
       "    .dataframe thead th {\n",
       "        text-align: right;\n",
       "    }\n",
       "</style>\n",
       "<table border=\"1\" class=\"dataframe\">\n",
       "  <thead>\n",
       "    <tr style=\"text-align: right;\">\n",
       "      <th></th>\n",
       "      <th>price_per_area</th>\n",
       "    </tr>\n",
       "    <tr>\n",
       "      <th>locality_name</th>\n",
       "      <th></th>\n",
       "    </tr>\n",
       "  </thead>\n",
       "  <tbody>\n",
       "    <tr>\n",
       "      <th>посёлок Лисий Нос</th>\n",
       "      <td>121616.221359</td>\n",
       "    </tr>\n",
       "    <tr>\n",
       "      <th>Зеленогорск</th>\n",
       "      <td>115122.799198</td>\n",
       "    </tr>\n",
       "    <tr>\n",
       "      <th>Санкт-Петербург</th>\n",
       "      <td>114849.008794</td>\n",
       "    </tr>\n",
       "    <tr>\n",
       "      <th>посёлок Репино</th>\n",
       "      <td>104238.614786</td>\n",
       "    </tr>\n",
       "    <tr>\n",
       "      <th>Пушкин</th>\n",
       "      <td>103125.819291</td>\n",
       "    </tr>\n",
       "    <tr>\n",
       "      <th>...</th>\n",
       "      <td>...</td>\n",
       "    </tr>\n",
       "    <tr>\n",
       "      <th>поселок Совхозный</th>\n",
       "      <td>12629.129129</td>\n",
       "    </tr>\n",
       "    <tr>\n",
       "      <th>деревня Выскатка</th>\n",
       "      <td>12335.480902</td>\n",
       "    </tr>\n",
       "    <tr>\n",
       "      <th>деревня Вахнова Кара</th>\n",
       "      <td>11688.311688</td>\n",
       "    </tr>\n",
       "    <tr>\n",
       "      <th>посёлок станции Свирь</th>\n",
       "      <td>11481.481481</td>\n",
       "    </tr>\n",
       "    <tr>\n",
       "      <th>деревня Старополье</th>\n",
       "      <td>11206.221198</td>\n",
       "    </tr>\n",
       "  </tbody>\n",
       "</table>\n",
       "<p>364 rows × 1 columns</p>\n",
       "</div>"
      ],
      "text/plain": [
       "                       price_per_area\n",
       "locality_name                        \n",
       "посёлок Лисий Нос       121616.221359\n",
       "Зеленогорск             115122.799198\n",
       "Санкт-Петербург         114849.008794\n",
       "посёлок Репино          104238.614786\n",
       "Пушкин                  103125.819291\n",
       "...                               ...\n",
       "поселок Совхозный        12629.129129\n",
       "деревня Выскатка         12335.480902\n",
       "деревня Вахнова Кара     11688.311688\n",
       "посёлок станции Свирь    11481.481481\n",
       "деревня Старополье       11206.221198\n",
       "\n",
       "[364 rows x 1 columns]"
      ]
     },
     "execution_count": 30,
     "metadata": {},
     "output_type": "execute_result"
    }
   ],
   "source": [
    "# добавим новый столбец в датасет с значением квадратного метра и посмотрим среднюю стоимость за квадратный метр в населенных пунктах \n",
    "data['price_per_area'] = data['last_price']/data['total_area']\n",
    "(\n",
    "    data\n",
    "    .pivot_table(index='locality_name', values = 'price_per_area')\n",
    "    .sort_values(by='price_per_area', ascending = False)\n",
    ") "
   ]
  },
  {
   "cell_type": "code",
   "execution_count": 31,
   "metadata": {},
   "outputs": [
    {
     "data": {
      "text/html": [
       "<div>\n",
       "<style scoped>\n",
       "    .dataframe tbody tr th:only-of-type {\n",
       "        vertical-align: middle;\n",
       "    }\n",
       "\n",
       "    .dataframe tbody tr th {\n",
       "        vertical-align: top;\n",
       "    }\n",
       "\n",
       "    .dataframe thead th {\n",
       "        text-align: right;\n",
       "    }\n",
       "</style>\n",
       "<table border=\"1\" class=\"dataframe\">\n",
       "  <thead>\n",
       "    <tr style=\"text-align: right;\">\n",
       "      <th></th>\n",
       "      <th>first_day_exposition</th>\n",
       "      <th>first_exposition_day_of_week</th>\n",
       "      <th>first_exposition_month</th>\n",
       "      <th>first_exposition_year</th>\n",
       "    </tr>\n",
       "  </thead>\n",
       "  <tbody>\n",
       "    <tr>\n",
       "      <th>0</th>\n",
       "      <td>2019-03-07</td>\n",
       "      <td>Thursday</td>\n",
       "      <td>March</td>\n",
       "      <td>2019</td>\n",
       "    </tr>\n",
       "    <tr>\n",
       "      <th>1</th>\n",
       "      <td>2018-12-04</td>\n",
       "      <td>Tuesday</td>\n",
       "      <td>December</td>\n",
       "      <td>2018</td>\n",
       "    </tr>\n",
       "    <tr>\n",
       "      <th>2</th>\n",
       "      <td>2015-08-20</td>\n",
       "      <td>Thursday</td>\n",
       "      <td>August</td>\n",
       "      <td>2015</td>\n",
       "    </tr>\n",
       "    <tr>\n",
       "      <th>3</th>\n",
       "      <td>2015-07-24</td>\n",
       "      <td>Friday</td>\n",
       "      <td>July</td>\n",
       "      <td>2015</td>\n",
       "    </tr>\n",
       "    <tr>\n",
       "      <th>4</th>\n",
       "      <td>2018-06-19</td>\n",
       "      <td>Tuesday</td>\n",
       "      <td>June</td>\n",
       "      <td>2018</td>\n",
       "    </tr>\n",
       "    <tr>\n",
       "      <th>...</th>\n",
       "      <td>...</td>\n",
       "      <td>...</td>\n",
       "      <td>...</td>\n",
       "      <td>...</td>\n",
       "    </tr>\n",
       "    <tr>\n",
       "      <th>23694</th>\n",
       "      <td>2017-03-21</td>\n",
       "      <td>Tuesday</td>\n",
       "      <td>March</td>\n",
       "      <td>2017</td>\n",
       "    </tr>\n",
       "    <tr>\n",
       "      <th>23695</th>\n",
       "      <td>2018-01-15</td>\n",
       "      <td>Monday</td>\n",
       "      <td>January</td>\n",
       "      <td>2018</td>\n",
       "    </tr>\n",
       "    <tr>\n",
       "      <th>23696</th>\n",
       "      <td>2018-02-11</td>\n",
       "      <td>Sunday</td>\n",
       "      <td>February</td>\n",
       "      <td>2018</td>\n",
       "    </tr>\n",
       "    <tr>\n",
       "      <th>23697</th>\n",
       "      <td>2017-03-28</td>\n",
       "      <td>Tuesday</td>\n",
       "      <td>March</td>\n",
       "      <td>2017</td>\n",
       "    </tr>\n",
       "    <tr>\n",
       "      <th>23698</th>\n",
       "      <td>2017-07-21</td>\n",
       "      <td>Friday</td>\n",
       "      <td>July</td>\n",
       "      <td>2017</td>\n",
       "    </tr>\n",
       "  </tbody>\n",
       "</table>\n",
       "<p>23650 rows × 4 columns</p>\n",
       "</div>"
      ],
      "text/plain": [
       "      first_day_exposition first_exposition_day_of_week  \\\n",
       "0               2019-03-07                     Thursday   \n",
       "1               2018-12-04                      Tuesday   \n",
       "2               2015-08-20                     Thursday   \n",
       "3               2015-07-24                       Friday   \n",
       "4               2018-06-19                      Tuesday   \n",
       "...                    ...                          ...   \n",
       "23694           2017-03-21                      Tuesday   \n",
       "23695           2018-01-15                       Monday   \n",
       "23696           2018-02-11                       Sunday   \n",
       "23697           2017-03-28                      Tuesday   \n",
       "23698           2017-07-21                       Friday   \n",
       "\n",
       "      first_exposition_month  first_exposition_year  \n",
       "0                      March                   2019  \n",
       "1                   December                   2018  \n",
       "2                     August                   2015  \n",
       "3                       July                   2015  \n",
       "4                       June                   2018  \n",
       "...                      ...                    ...  \n",
       "23694                  March                   2017  \n",
       "23695                January                   2018  \n",
       "23696               February                   2018  \n",
       "23697                  March                   2017  \n",
       "23698                   July                   2017  \n",
       "\n",
       "[23650 rows x 4 columns]"
      ]
     },
     "execution_count": 31,
     "metadata": {},
     "output_type": "execute_result"
    }
   ],
   "source": [
    "#добавим в датасет столбцы с днем, месяцем и годом публикации объявления\n",
    "data['first_exposition_day_of_week'] = data['first_day_exposition'].dt.day_name()\n",
    "data['first_exposition_month'] = data['first_day_exposition'].dt.month_name()\n",
    "data['first_exposition_month_index'] = pd.DatetimeIndex(data['first_day_exposition']).month\n",
    "data['first_exposition_year'] = pd.DatetimeIndex(data['first_day_exposition']).year\n",
    "data[['first_day_exposition', 'first_exposition_day_of_week', 'first_exposition_month', 'first_exposition_year']]"
   ]
  },
  {
   "cell_type": "code",
   "execution_count": 32,
   "metadata": {},
   "outputs": [
    {
     "name": "stdout",
     "output_type": "stream",
     "text": [
      "<class 'pandas.core.frame.DataFrame'>\n",
      "Int64Index: 23650 entries, 0 to 23698\n",
      "Data columns (total 27 columns):\n",
      " #   Column                        Non-Null Count  Dtype         \n",
      "---  ------                        --------------  -----         \n",
      " 0   total_images                  23650 non-null  int64         \n",
      " 1   last_price                    23650 non-null  float64       \n",
      " 2   total_area                    23650 non-null  float64       \n",
      " 3   first_day_exposition          23650 non-null  datetime64[ns]\n",
      " 4   rooms                         23650 non-null  int64         \n",
      " 5   ceiling_height                23529 non-null  float64       \n",
      " 6   floors_total                  23650 non-null  int64         \n",
      " 7   living_area                   23650 non-null  float64       \n",
      " 8   floor                         23650 non-null  int64         \n",
      " 9   is_apartment                  23650 non-null  object        \n",
      " 10  studio                        23650 non-null  bool          \n",
      " 11  open_plan                     23650 non-null  bool          \n",
      " 12  kitchen_area                  23650 non-null  float64       \n",
      " 13  balcony                       23650 non-null  int64         \n",
      " 14  locality_name                 23650 non-null  object        \n",
      " 15  airports_nearest              23650 non-null  float64       \n",
      " 16  cityCenters_nearest           18139 non-null  float64       \n",
      " 17  parks_around3000              23650 non-null  int64         \n",
      " 18  parks_nearest                 23650 non-null  float64       \n",
      " 19  ponds_around3000              23650 non-null  int64         \n",
      " 20  ponds_nearest                 23650 non-null  float64       \n",
      " 21  days_exposition               20470 non-null  float64       \n",
      " 22  price_per_area                23650 non-null  float64       \n",
      " 23  first_exposition_day_of_week  23650 non-null  object        \n",
      " 24  first_exposition_month        23650 non-null  object        \n",
      " 25  first_exposition_month_index  23650 non-null  int64         \n",
      " 26  first_exposition_year         23650 non-null  int64         \n",
      "dtypes: bool(2), datetime64[ns](1), float64(11), int64(9), object(4)\n",
      "memory usage: 4.7+ MB\n"
     ]
    }
   ],
   "source": [
    "data.info()"
   ]
  },
  {
   "cell_type": "code",
   "execution_count": 33,
   "metadata": {},
   "outputs": [
    {
     "data": {
      "text/html": [
       "<div>\n",
       "<style scoped>\n",
       "    .dataframe tbody tr th:only-of-type {\n",
       "        vertical-align: middle;\n",
       "    }\n",
       "\n",
       "    .dataframe tbody tr th {\n",
       "        vertical-align: top;\n",
       "    }\n",
       "\n",
       "    .dataframe thead th {\n",
       "        text-align: right;\n",
       "    }\n",
       "</style>\n",
       "<table border=\"1\" class=\"dataframe\">\n",
       "  <thead>\n",
       "    <tr style=\"text-align: right;\">\n",
       "      <th></th>\n",
       "      <th>locality_name</th>\n",
       "      <th>floor</th>\n",
       "      <th>floor_category</th>\n",
       "    </tr>\n",
       "  </thead>\n",
       "  <tbody>\n",
       "    <tr>\n",
       "      <th>0</th>\n",
       "      <td>Санкт-Петербург</td>\n",
       "      <td>8</td>\n",
       "      <td>другой</td>\n",
       "    </tr>\n",
       "    <tr>\n",
       "      <th>1</th>\n",
       "      <td>посёлок Шушары</td>\n",
       "      <td>1</td>\n",
       "      <td>первый</td>\n",
       "    </tr>\n",
       "    <tr>\n",
       "      <th>2</th>\n",
       "      <td>Санкт-Петербург</td>\n",
       "      <td>4</td>\n",
       "      <td>другой</td>\n",
       "    </tr>\n",
       "    <tr>\n",
       "      <th>3</th>\n",
       "      <td>Санкт-Петербург</td>\n",
       "      <td>9</td>\n",
       "      <td>другой</td>\n",
       "    </tr>\n",
       "    <tr>\n",
       "      <th>4</th>\n",
       "      <td>Санкт-Петербург</td>\n",
       "      <td>13</td>\n",
       "      <td>другой</td>\n",
       "    </tr>\n",
       "    <tr>\n",
       "      <th>...</th>\n",
       "      <td>...</td>\n",
       "      <td>...</td>\n",
       "      <td>...</td>\n",
       "    </tr>\n",
       "    <tr>\n",
       "      <th>23694</th>\n",
       "      <td>Санкт-Петербург</td>\n",
       "      <td>3</td>\n",
       "      <td>другой</td>\n",
       "    </tr>\n",
       "    <tr>\n",
       "      <th>23695</th>\n",
       "      <td>Тосно</td>\n",
       "      <td>4</td>\n",
       "      <td>другой</td>\n",
       "    </tr>\n",
       "    <tr>\n",
       "      <th>23696</th>\n",
       "      <td>село Рождествено</td>\n",
       "      <td>1</td>\n",
       "      <td>первый</td>\n",
       "    </tr>\n",
       "    <tr>\n",
       "      <th>23697</th>\n",
       "      <td>Санкт-Петербург</td>\n",
       "      <td>12</td>\n",
       "      <td>другой</td>\n",
       "    </tr>\n",
       "    <tr>\n",
       "      <th>23698</th>\n",
       "      <td>поселок Новый Учхоз</td>\n",
       "      <td>1</td>\n",
       "      <td>первый</td>\n",
       "    </tr>\n",
       "  </tbody>\n",
       "</table>\n",
       "<p>23650 rows × 3 columns</p>\n",
       "</div>"
      ],
      "text/plain": [
       "             locality_name  floor floor_category\n",
       "0          Санкт-Петербург      8         другой\n",
       "1           посёлок Шушары      1         первый\n",
       "2          Санкт-Петербург      4         другой\n",
       "3          Санкт-Петербург      9         другой\n",
       "4          Санкт-Петербург     13         другой\n",
       "...                    ...    ...            ...\n",
       "23694      Санкт-Петербург      3         другой\n",
       "23695                Тосно      4         другой\n",
       "23696     село Рождествено      1         первый\n",
       "23697      Санкт-Петербург     12         другой\n",
       "23698  поселок Новый Учхоз      1         первый\n",
       "\n",
       "[23650 rows x 3 columns]"
      ]
     },
     "execution_count": 33,
     "metadata": {},
     "output_type": "execute_result"
    }
   ],
   "source": [
    "#добавим категорию этажности объекта недвижимости\n",
    "def floor_category(row):\n",
    "    if row['floor'] == 1:\n",
    "        return 'первый'\n",
    "    if row['floor'] == row['floors_total']:\n",
    "        return 'последний'\n",
    "    return 'другой'\n",
    "#применим функцию к датасету и создадим новый столбец со значениями категории этажности квартиры\n",
    "data['floor_category'] = data.apply(floor_category, axis = 1)\n",
    "data[['locality_name','floor','floor_category']]"
   ]
  },
  {
   "cell_type": "code",
   "execution_count": 34,
   "metadata": {},
   "outputs": [
    {
     "data": {
      "text/html": [
       "<div>\n",
       "<style scoped>\n",
       "    .dataframe tbody tr th:only-of-type {\n",
       "        vertical-align: middle;\n",
       "    }\n",
       "\n",
       "    .dataframe tbody tr th {\n",
       "        vertical-align: top;\n",
       "    }\n",
       "\n",
       "    .dataframe thead th {\n",
       "        text-align: right;\n",
       "    }\n",
       "</style>\n",
       "<table border=\"1\" class=\"dataframe\">\n",
       "  <thead>\n",
       "    <tr style=\"text-align: right;\">\n",
       "      <th></th>\n",
       "      <th>locality_name</th>\n",
       "      <th>total_area</th>\n",
       "      <th>living_area</th>\n",
       "      <th>living_area_ratio</th>\n",
       "    </tr>\n",
       "  </thead>\n",
       "  <tbody>\n",
       "    <tr>\n",
       "      <th>0</th>\n",
       "      <td>Санкт-Петербург</td>\n",
       "      <td>108.00</td>\n",
       "      <td>51.0</td>\n",
       "      <td>0.472222</td>\n",
       "    </tr>\n",
       "    <tr>\n",
       "      <th>1</th>\n",
       "      <td>посёлок Шушары</td>\n",
       "      <td>40.40</td>\n",
       "      <td>18.6</td>\n",
       "      <td>0.460396</td>\n",
       "    </tr>\n",
       "    <tr>\n",
       "      <th>2</th>\n",
       "      <td>Санкт-Петербург</td>\n",
       "      <td>56.00</td>\n",
       "      <td>34.3</td>\n",
       "      <td>0.612500</td>\n",
       "    </tr>\n",
       "    <tr>\n",
       "      <th>3</th>\n",
       "      <td>Санкт-Петербург</td>\n",
       "      <td>159.00</td>\n",
       "      <td>31.3</td>\n",
       "      <td>0.196855</td>\n",
       "    </tr>\n",
       "    <tr>\n",
       "      <th>4</th>\n",
       "      <td>Санкт-Петербург</td>\n",
       "      <td>100.00</td>\n",
       "      <td>32.0</td>\n",
       "      <td>0.320000</td>\n",
       "    </tr>\n",
       "    <tr>\n",
       "      <th>...</th>\n",
       "      <td>...</td>\n",
       "      <td>...</td>\n",
       "      <td>...</td>\n",
       "      <td>...</td>\n",
       "    </tr>\n",
       "    <tr>\n",
       "      <th>23694</th>\n",
       "      <td>Санкт-Петербург</td>\n",
       "      <td>133.81</td>\n",
       "      <td>73.3</td>\n",
       "      <td>0.547792</td>\n",
       "    </tr>\n",
       "    <tr>\n",
       "      <th>23695</th>\n",
       "      <td>Тосно</td>\n",
       "      <td>59.00</td>\n",
       "      <td>38.0</td>\n",
       "      <td>0.644068</td>\n",
       "    </tr>\n",
       "    <tr>\n",
       "      <th>23696</th>\n",
       "      <td>село Рождествено</td>\n",
       "      <td>56.70</td>\n",
       "      <td>29.7</td>\n",
       "      <td>0.523810</td>\n",
       "    </tr>\n",
       "    <tr>\n",
       "      <th>23697</th>\n",
       "      <td>Санкт-Петербург</td>\n",
       "      <td>76.75</td>\n",
       "      <td>31.3</td>\n",
       "      <td>0.407818</td>\n",
       "    </tr>\n",
       "    <tr>\n",
       "      <th>23698</th>\n",
       "      <td>поселок Новый Учхоз</td>\n",
       "      <td>32.30</td>\n",
       "      <td>12.3</td>\n",
       "      <td>0.380805</td>\n",
       "    </tr>\n",
       "  </tbody>\n",
       "</table>\n",
       "<p>23650 rows × 4 columns</p>\n",
       "</div>"
      ],
      "text/plain": [
       "             locality_name  total_area  living_area  living_area_ratio\n",
       "0          Санкт-Петербург      108.00         51.0           0.472222\n",
       "1           посёлок Шушары       40.40         18.6           0.460396\n",
       "2          Санкт-Петербург       56.00         34.3           0.612500\n",
       "3          Санкт-Петербург      159.00         31.3           0.196855\n",
       "4          Санкт-Петербург      100.00         32.0           0.320000\n",
       "...                    ...         ...          ...                ...\n",
       "23694      Санкт-Петербург      133.81         73.3           0.547792\n",
       "23695                Тосно       59.00         38.0           0.644068\n",
       "23696     село Рождествено       56.70         29.7           0.523810\n",
       "23697      Санкт-Петербург       76.75         31.3           0.407818\n",
       "23698  поселок Новый Учхоз       32.30         12.3           0.380805\n",
       "\n",
       "[23650 rows x 4 columns]"
      ]
     },
     "execution_count": 34,
     "metadata": {},
     "output_type": "execute_result"
    }
   ],
   "source": [
    "#добавим в датасет новый столбец отражающий соотношение жилой и общей площади\n",
    "data['living_area_ratio'] = data['living_area']/data['total_area']\n",
    "data[['locality_name', 'total_area', 'living_area', 'living_area_ratio']]"
   ]
  },
  {
   "cell_type": "code",
   "execution_count": 35,
   "metadata": {},
   "outputs": [
    {
     "data": {
      "text/html": [
       "<div>\n",
       "<style scoped>\n",
       "    .dataframe tbody tr th:only-of-type {\n",
       "        vertical-align: middle;\n",
       "    }\n",
       "\n",
       "    .dataframe tbody tr th {\n",
       "        vertical-align: top;\n",
       "    }\n",
       "\n",
       "    .dataframe thead th {\n",
       "        text-align: right;\n",
       "    }\n",
       "</style>\n",
       "<table border=\"1\" class=\"dataframe\">\n",
       "  <thead>\n",
       "    <tr style=\"text-align: right;\">\n",
       "      <th></th>\n",
       "      <th>locality_name</th>\n",
       "      <th>total_area</th>\n",
       "      <th>kitchen_area</th>\n",
       "      <th>kitchen_area_ratio</th>\n",
       "    </tr>\n",
       "  </thead>\n",
       "  <tbody>\n",
       "    <tr>\n",
       "      <th>0</th>\n",
       "      <td>Санкт-Петербург</td>\n",
       "      <td>108.00</td>\n",
       "      <td>25.00</td>\n",
       "      <td>0.231481</td>\n",
       "    </tr>\n",
       "    <tr>\n",
       "      <th>1</th>\n",
       "      <td>посёлок Шушары</td>\n",
       "      <td>40.40</td>\n",
       "      <td>11.00</td>\n",
       "      <td>0.272277</td>\n",
       "    </tr>\n",
       "    <tr>\n",
       "      <th>2</th>\n",
       "      <td>Санкт-Петербург</td>\n",
       "      <td>56.00</td>\n",
       "      <td>8.30</td>\n",
       "      <td>0.148214</td>\n",
       "    </tr>\n",
       "    <tr>\n",
       "      <th>3</th>\n",
       "      <td>Санкт-Петербург</td>\n",
       "      <td>159.00</td>\n",
       "      <td>9.90</td>\n",
       "      <td>0.062264</td>\n",
       "    </tr>\n",
       "    <tr>\n",
       "      <th>4</th>\n",
       "      <td>Санкт-Петербург</td>\n",
       "      <td>100.00</td>\n",
       "      <td>41.00</td>\n",
       "      <td>0.410000</td>\n",
       "    </tr>\n",
       "    <tr>\n",
       "      <th>...</th>\n",
       "      <td>...</td>\n",
       "      <td>...</td>\n",
       "      <td>...</td>\n",
       "      <td>...</td>\n",
       "    </tr>\n",
       "    <tr>\n",
       "      <th>23694</th>\n",
       "      <td>Санкт-Петербург</td>\n",
       "      <td>133.81</td>\n",
       "      <td>13.83</td>\n",
       "      <td>0.103356</td>\n",
       "    </tr>\n",
       "    <tr>\n",
       "      <th>23695</th>\n",
       "      <td>Тосно</td>\n",
       "      <td>59.00</td>\n",
       "      <td>8.50</td>\n",
       "      <td>0.144068</td>\n",
       "    </tr>\n",
       "    <tr>\n",
       "      <th>23696</th>\n",
       "      <td>село Рождествено</td>\n",
       "      <td>56.70</td>\n",
       "      <td>8.15</td>\n",
       "      <td>0.143739</td>\n",
       "    </tr>\n",
       "    <tr>\n",
       "      <th>23697</th>\n",
       "      <td>Санкт-Петербург</td>\n",
       "      <td>76.75</td>\n",
       "      <td>23.30</td>\n",
       "      <td>0.303583</td>\n",
       "    </tr>\n",
       "    <tr>\n",
       "      <th>23698</th>\n",
       "      <td>поселок Новый Учхоз</td>\n",
       "      <td>32.30</td>\n",
       "      <td>9.00</td>\n",
       "      <td>0.278638</td>\n",
       "    </tr>\n",
       "  </tbody>\n",
       "</table>\n",
       "<p>23650 rows × 4 columns</p>\n",
       "</div>"
      ],
      "text/plain": [
       "             locality_name  total_area  kitchen_area  kitchen_area_ratio\n",
       "0          Санкт-Петербург      108.00         25.00            0.231481\n",
       "1           посёлок Шушары       40.40         11.00            0.272277\n",
       "2          Санкт-Петербург       56.00          8.30            0.148214\n",
       "3          Санкт-Петербург      159.00          9.90            0.062264\n",
       "4          Санкт-Петербург      100.00         41.00            0.410000\n",
       "...                    ...         ...           ...                 ...\n",
       "23694      Санкт-Петербург      133.81         13.83            0.103356\n",
       "23695                Тосно       59.00          8.50            0.144068\n",
       "23696     село Рождествено       56.70          8.15            0.143739\n",
       "23697      Санкт-Петербург       76.75         23.30            0.303583\n",
       "23698  поселок Новый Учхоз       32.30          9.00            0.278638\n",
       "\n",
       "[23650 rows x 4 columns]"
      ]
     },
     "execution_count": 35,
     "metadata": {},
     "output_type": "execute_result"
    }
   ],
   "source": [
    "#добавим в датасет новый столбец отражающий соотношение площади кухни и общей\n",
    "data['kitchen_area_ratio'] = data['kitchen_area']/data['total_area']\n",
    "data[['locality_name', 'total_area', 'kitchen_area', 'kitchen_area_ratio']]"
   ]
  },
  {
   "cell_type": "markdown",
   "metadata": {},
   "source": [
    "## Исследовательский анализ данных"
   ]
  },
  {
   "cell_type": "markdown",
   "metadata": {},
   "source": [
    "- В целях исключения выбросов и редких значений построим гистограммы и диаграммы размаха"
   ]
  },
  {
   "cell_type": "code",
   "execution_count": 36,
   "metadata": {},
   "outputs": [
    {
     "data": {
      "text/plain": [
       "count    23650.000000\n",
       "mean        60.329069\n",
       "std         35.661808\n",
       "min         12.000000\n",
       "25%         40.000000\n",
       "50%         52.000000\n",
       "75%         69.700000\n",
       "max        900.000000\n",
       "Name: total_area, dtype: float64"
      ]
     },
     "execution_count": 36,
     "metadata": {},
     "output_type": "execute_result"
    },
    {
     "data": {
      "image/png": "[encoded data removed]",
      "text/plain": [
       "<Figure size 432x288 with 1 Axes>"
      ]
     },
     "metadata": {
      "needs_background": "light"
     },
     "output_type": "display_data"
    }
   ],
   "source": [
    "#построим гистограмму для площади \n",
    "data.hist('total_area', bins=50, range=(0,300))\n",
    "data['total_area'].describe()"
   ]
  },
  {
   "cell_type": "code",
   "execution_count": 37,
   "metadata": {},
   "outputs": [
    {
     "data": {
      "text/plain": [
       "<AxesSubplot:>"
      ]
     },
     "execution_count": 37,
     "metadata": {},
     "output_type": "execute_result"
    },
    {
     "data": {
      "image/png": "[encoded data removed]",
      "text/plain": [
       "<Figure size 432x288 with 1 Axes>"
      ]
     },
     "metadata": {
      "needs_background": "light"
     },
     "output_type": "display_data"
    }
   ],
   "source": [
    "plt.ylim(0,150)\n",
    "data.boxplot('total_area')"
   ]
  },
  {
   "cell_type": "markdown",
   "metadata": {},
   "source": [
    "**Гистограмма отражает распределение данных по площади объектов недвижимости. В основном в таблице квартиры площадью от 40 кв м до 70 кв м,  квартиры с площадью больше 115 кв м похожи на выбросы.**"
   ]
  },
  {
   "cell_type": "code",
   "execution_count": 38,
   "metadata": {},
   "outputs": [
    {
     "data": {
      "text/plain": [
       "count    2.365000e+04\n",
       "mean     9.943225e+04\n",
       "std      5.033794e+04\n",
       "min      1.118349e+02\n",
       "25%      7.661497e+04\n",
       "50%      9.500000e+04\n",
       "75%      1.142742e+05\n",
       "max      1.907500e+06\n",
       "Name: price_per_area, dtype: float64"
      ]
     },
     "execution_count": 38,
     "metadata": {},
     "output_type": "execute_result"
    },
    {
     "data": {
      "image/png": "[encoded data removed]",
      "text/plain": [
       "<Figure size 432x288 with 1 Axes>"
      ]
     },
     "metadata": {
      "needs_background": "light"
     },
     "output_type": "display_data"
    }
   ],
   "source": [
    "#построим гистограмму для цены за кв м\n",
    "data.hist('price_per_area', bins=100, range=(0,450000))\n",
    "data['price_per_area'].describe()"
   ]
  },
  {
   "cell_type": "code",
   "execution_count": 39,
   "metadata": {},
   "outputs": [
    {
     "data": {
      "text/plain": [
       "<AxesSubplot:>"
      ]
     },
     "execution_count": 39,
     "metadata": {},
     "output_type": "execute_result"
    },
    {
     "data": {
      "image/png": "[encoded data removed]",
      "text/plain": [
       "<Figure size 432x288 with 1 Axes>"
      ]
     },
     "metadata": {
      "needs_background": "light"
     },
     "output_type": "display_data"
    }
   ],
   "source": [
    "plt.ylim(0,250000)\n",
    "data.boxplot('price_per_area')"
   ]
  },
  {
   "cell_type": "markdown",
   "metadata": {},
   "source": [
    "**В результате анализа графиков:**\n",
    "- в среднем на рынке стоимость квадратного метра равна чуть меньше 100 тыс\n",
    "- присутствуют редкие значения (от 350 тыс и свыше)\n",
    "- выбросы меньше 25 тыс за кв м и свыше 175 кв м "
   ]
  },
  {
   "cell_type": "code",
   "execution_count": 40,
   "metadata": {},
   "outputs": [
    {
     "data": {
      "text/plain": [
       "count    23650.000000\n",
       "mean         2.070106\n",
       "std          1.078620\n",
       "min          0.000000\n",
       "25%          1.000000\n",
       "50%          2.000000\n",
       "75%          3.000000\n",
       "max         19.000000\n",
       "Name: rooms, dtype: float64"
      ]
     },
     "execution_count": 40,
     "metadata": {},
     "output_type": "execute_result"
    },
    {
     "data": {
      "image/png": "[encoded data removed]",
      "text/plain": [
       "<Figure size 432x288 with 1 Axes>"
      ]
     },
     "metadata": {
      "needs_background": "light"
     },
     "output_type": "display_data"
    },
    {
     "data": {
      "image/png": "[encoded data removed]",
      "text/plain": [
       "<Figure size 432x288 with 1 Axes>"
      ]
     },
     "metadata": {
      "needs_background": "light"
     },
     "output_type": "display_data"
    }
   ],
   "source": [
    "#построим гистограмму для числа комнат \n",
    "plt.ylim(0, 10)\n",
    "data.boxplot('rooms')\n",
    "data.hist('rooms', bins=20, range=(0,10))\n",
    "data['rooms'].describe()"
   ]
  },
  {
   "cell_type": "markdown",
   "metadata": {},
   "source": [
    "**В основном на рынке недвижимости представлены 1,2,3 комнатные квартиры. Настораживают значения 0, и больше 5.**"
   ]
  },
  {
   "cell_type": "code",
   "execution_count": 41,
   "metadata": {},
   "outputs": [
    {
     "data": {
      "text/plain": [
       "count    23529.000000\n",
       "mean         2.733949\n",
       "std          1.012964\n",
       "min          1.000000\n",
       "25%          2.550000\n",
       "50%          2.700000\n",
       "75%          2.700000\n",
       "max        100.000000\n",
       "Name: ceiling_height, dtype: float64"
      ]
     },
     "execution_count": 41,
     "metadata": {},
     "output_type": "execute_result"
    },
    {
     "data": {
      "image/png": "[encoded data removed]",
      "text/plain": [
       "<Figure size 432x288 with 1 Axes>"
      ]
     },
     "metadata": {
      "needs_background": "light"
     },
     "output_type": "display_data"
    }
   ],
   "source": [
    "#построим гистограмму для высоты потолков \n",
    "data.hist('ceiling_height', bins=80, range = (1,10))\n",
    "data['ceiling_height'].describe()"
   ]
  },
  {
   "cell_type": "code",
   "execution_count": 42,
   "metadata": {},
   "outputs": [
    {
     "data": {
      "text/plain": [
       "<AxesSubplot:>"
      ]
     },
     "execution_count": 42,
     "metadata": {},
     "output_type": "execute_result"
    },
    {
     "data": {
      "image/png": "[encoded data removed]",
      "text/plain": [
       "<Figure size 432x288 with 1 Axes>"
      ]
     },
     "metadata": {
      "needs_background": "light"
     },
     "output_type": "display_data"
    }
   ],
   "source": [
    "plt.ylim(0, 3)\n",
    "data.boxplot('ceiling_height')"
   ]
  },
  {
   "cell_type": "markdown",
   "metadata": {},
   "source": [
    "**Наиболее чаще встречаются объекты недвижимости с высотой потолков в 2,5 и 2,7 м**"
   ]
  },
  {
   "cell_type": "code",
   "execution_count": 43,
   "metadata": {},
   "outputs": [
    {
     "data": {
      "text/plain": [
       "count    20470.000000\n",
       "mean       180.753200\n",
       "std        219.777916\n",
       "min          1.000000\n",
       "25%         45.000000\n",
       "50%         95.000000\n",
       "75%        231.000000\n",
       "max       1580.000000\n",
       "Name: days_exposition, dtype: float64"
      ]
     },
     "execution_count": 43,
     "metadata": {},
     "output_type": "execute_result"
    },
    {
     "data": {
      "image/png": "[encoded data removed]",
      "text/plain": [
       "<Figure size 432x288 with 1 Axes>"
      ]
     },
     "metadata": {
      "needs_background": "light"
     },
     "output_type": "display_data"
    }
   ],
   "source": [
    "#изучим время продажи квартир\n",
    "plt.ylim(-100, 1000)\n",
    "data.boxplot('days_exposition')\n",
    "data['days_exposition'].describe()"
   ]
  },
  {
   "cell_type": "code",
   "execution_count": 44,
   "metadata": {},
   "outputs": [
    {
     "data": {
      "text/html": [
       "<div>\n",
       "<style scoped>\n",
       "    .dataframe tbody tr th:only-of-type {\n",
       "        vertical-align: middle;\n",
       "    }\n",
       "\n",
       "    .dataframe tbody tr th {\n",
       "        vertical-align: top;\n",
       "    }\n",
       "\n",
       "    .dataframe thead tr th {\n",
       "        text-align: left;\n",
       "    }\n",
       "\n",
       "    .dataframe thead tr:last-of-type th {\n",
       "        text-align: right;\n",
       "    }\n",
       "</style>\n",
       "<table border=\"1\" class=\"dataframe\">\n",
       "  <thead>\n",
       "    <tr>\n",
       "      <th></th>\n",
       "      <th>mean</th>\n",
       "      <th>median</th>\n",
       "    </tr>\n",
       "    <tr>\n",
       "      <th></th>\n",
       "      <th>days_exposition</th>\n",
       "      <th>days_exposition</th>\n",
       "    </tr>\n",
       "    <tr>\n",
       "      <th>rooms</th>\n",
       "      <th></th>\n",
       "      <th></th>\n",
       "    </tr>\n",
       "  </thead>\n",
       "  <tbody>\n",
       "    <tr>\n",
       "      <th>1</th>\n",
       "      <td>119.758659</td>\n",
       "      <td>86.0</td>\n",
       "    </tr>\n",
       "    <tr>\n",
       "      <th>2</th>\n",
       "      <td>124.638862</td>\n",
       "      <td>92.0</td>\n",
       "    </tr>\n",
       "    <tr>\n",
       "      <th>3</th>\n",
       "      <td>137.220881</td>\n",
       "      <td>105.0</td>\n",
       "    </tr>\n",
       "    <tr>\n",
       "      <th>4</th>\n",
       "      <td>153.597615</td>\n",
       "      <td>124.0</td>\n",
       "    </tr>\n",
       "    <tr>\n",
       "      <th>5</th>\n",
       "      <td>164.830508</td>\n",
       "      <td>125.0</td>\n",
       "    </tr>\n",
       "  </tbody>\n",
       "</table>\n",
       "</div>"
      ],
      "text/plain": [
       "                 mean          median\n",
       "      days_exposition days_exposition\n",
       "rooms                                \n",
       "1          119.758659            86.0\n",
       "2          124.638862            92.0\n",
       "3          137.220881           105.0\n",
       "4          153.597615           124.0\n",
       "5          164.830508           125.0"
      ]
     },
     "execution_count": 44,
     "metadata": {},
     "output_type": "execute_result"
    }
   ],
   "source": [
    "#оценим средний срок экспозиции\n",
    "good_time = data.query('20<days_exposition<400 and 1<=rooms<6')\n",
    "good_time.pivot_table(index = 'rooms', values = 'days_exposition', aggfunc = ['mean','median'])"
   ]
  },
  {
   "cell_type": "markdown",
   "metadata": {},
   "source": [
    "**Опираясь на медианные значения, можно сделать вывод, что средний срок экспозиции на рынке 1к квартиры  составляет чуть меньше 3 месяцев, 2к кв - 3 мес, 3кв -чуть больше 3 мес, 4к и 5к квартир - 4 мес. Все, что меньше этих значений свидетельствует о быстрых продажах. Соответственно, что выше значений - долго. Также 1к и 2к более ликвидны на рынке недвижимости.**"
   ]
  },
  {
   "cell_type": "code",
   "execution_count": 45,
   "metadata": {},
   "outputs": [],
   "source": [
    "#уберем редкие и выбивающиеся значения \n",
    "good_data = data.loc[(data['days_exposition']<450)&(data['days_exposition']>20)]\n",
    "good_data = good_data.query('total_area<115 and 1<=rooms<=6 and 25000<price_per_area<175000')"
   ]
  },
  {
   "cell_type": "code",
   "execution_count": 46,
   "metadata": {},
   "outputs": [
    {
     "data": {
      "text/html": [
       "<div>\n",
       "<style scoped>\n",
       "    .dataframe tbody tr th:only-of-type {\n",
       "        vertical-align: middle;\n",
       "    }\n",
       "\n",
       "    .dataframe tbody tr th {\n",
       "        vertical-align: top;\n",
       "    }\n",
       "\n",
       "    .dataframe thead tr th {\n",
       "        text-align: left;\n",
       "    }\n",
       "\n",
       "    .dataframe thead tr:last-of-type th {\n",
       "        text-align: right;\n",
       "    }\n",
       "</style>\n",
       "<table border=\"1\" class=\"dataframe\">\n",
       "  <thead>\n",
       "    <tr>\n",
       "      <th></th>\n",
       "      <th>median</th>\n",
       "      <th>count</th>\n",
       "    </tr>\n",
       "    <tr>\n",
       "      <th></th>\n",
       "      <th>price_per_area</th>\n",
       "      <th>price_per_area</th>\n",
       "    </tr>\n",
       "    <tr>\n",
       "      <th>rooms</th>\n",
       "      <th></th>\n",
       "      <th></th>\n",
       "    </tr>\n",
       "  </thead>\n",
       "  <tbody>\n",
       "    <tr>\n",
       "      <th>1</th>\n",
       "      <td>98885.793872</td>\n",
       "      <td>5499</td>\n",
       "    </tr>\n",
       "    <tr>\n",
       "      <th>2</th>\n",
       "      <td>91031.027796</td>\n",
       "      <td>5170</td>\n",
       "    </tr>\n",
       "    <tr>\n",
       "      <th>3</th>\n",
       "      <td>86037.545948</td>\n",
       "      <td>3360</td>\n",
       "    </tr>\n",
       "    <tr>\n",
       "      <th>4</th>\n",
       "      <td>83333.333333</td>\n",
       "      <td>499</td>\n",
       "    </tr>\n",
       "    <tr>\n",
       "      <th>5</th>\n",
       "      <td>82638.442543</td>\n",
       "      <td>40</td>\n",
       "    </tr>\n",
       "    <tr>\n",
       "      <th>6</th>\n",
       "      <td>126273.584906</td>\n",
       "      <td>4</td>\n",
       "    </tr>\n",
       "  </tbody>\n",
       "</table>\n",
       "</div>"
      ],
      "text/plain": [
       "              median          count\n",
       "      price_per_area price_per_area\n",
       "rooms                              \n",
       "1       98885.793872           5499\n",
       "2       91031.027796           5170\n",
       "3       86037.545948           3360\n",
       "4       83333.333333            499\n",
       "5       82638.442543             40\n",
       "6      126273.584906              4"
      ]
     },
     "execution_count": 46,
     "metadata": {},
     "output_type": "execute_result"
    }
   ],
   "source": [
    "#оценим среднюю стоимость на рынке недвтжтмости 1 кв м в разных по количеству комнат квартирах и их количество \n",
    "(\n",
    "    good_data\n",
    "    .pivot_table(index='rooms', values='price_per_area', aggfunc=['median', 'count'])\n",
    ")"
   ]
  },
  {
   "cell_type": "markdown",
   "metadata": {},
   "source": [
    "**Вывод:**\n",
    "- по количеству квартир  превалируют 1к и 2к, меньше всего квартир от 4к и больше\n",
    "- средняя стоимость кв м в 1 к квартире превышает стоимость кв м в остальных квартирах. Самый дешевый кв. м. в 5к квартире (см. распределение значений на графике ниже)"
   ]
  },
  {
   "cell_type": "code",
   "execution_count": 47,
   "metadata": {
    "scrolled": true
   },
   "outputs": [
    {
     "data": {
      "text/html": [
       "<div>\n",
       "<style scoped>\n",
       "    .dataframe tbody tr th:only-of-type {\n",
       "        vertical-align: middle;\n",
       "    }\n",
       "\n",
       "    .dataframe tbody tr th {\n",
       "        vertical-align: top;\n",
       "    }\n",
       "\n",
       "    .dataframe thead th {\n",
       "        text-align: right;\n",
       "    }\n",
       "</style>\n",
       "<table border=\"1\" class=\"dataframe\">\n",
       "  <thead>\n",
       "    <tr style=\"text-align: right;\">\n",
       "      <th></th>\n",
       "      <th>ceiling_height</th>\n",
       "      <th>price_per_area</th>\n",
       "      <th>rooms</th>\n",
       "      <th>total_area</th>\n",
       "    </tr>\n",
       "    <tr>\n",
       "      <th>cityCenters_nearest</th>\n",
       "      <th></th>\n",
       "      <th></th>\n",
       "      <th></th>\n",
       "      <th></th>\n",
       "    </tr>\n",
       "  </thead>\n",
       "  <tbody>\n",
       "    <tr>\n",
       "      <th>208.0</th>\n",
       "      <td>3.70</td>\n",
       "      <td>172619.047619</td>\n",
       "      <td>1.0</td>\n",
       "      <td>33.6</td>\n",
       "    </tr>\n",
       "    <tr>\n",
       "      <th>215.0</th>\n",
       "      <td>3.90</td>\n",
       "      <td>109900.000000</td>\n",
       "      <td>3.0</td>\n",
       "      <td>100.0</td>\n",
       "    </tr>\n",
       "    <tr>\n",
       "      <th>287.0</th>\n",
       "      <td>3.30</td>\n",
       "      <td>88796.296296</td>\n",
       "      <td>2.0</td>\n",
       "      <td>108.0</td>\n",
       "    </tr>\n",
       "    <tr>\n",
       "      <th>329.0</th>\n",
       "      <td>3.07</td>\n",
       "      <td>100000.000000</td>\n",
       "      <td>2.0</td>\n",
       "      <td>72.0</td>\n",
       "    </tr>\n",
       "    <tr>\n",
       "      <th>376.0</th>\n",
       "      <td>3.50</td>\n",
       "      <td>137755.102041</td>\n",
       "      <td>3.0</td>\n",
       "      <td>98.0</td>\n",
       "    </tr>\n",
       "    <tr>\n",
       "      <th>...</th>\n",
       "      <td>...</td>\n",
       "      <td>...</td>\n",
       "      <td>...</td>\n",
       "      <td>...</td>\n",
       "    </tr>\n",
       "    <tr>\n",
       "      <th>59626.0</th>\n",
       "      <td>2.55</td>\n",
       "      <td>74193.548387</td>\n",
       "      <td>1.0</td>\n",
       "      <td>31.0</td>\n",
       "    </tr>\n",
       "    <tr>\n",
       "      <th>60223.0</th>\n",
       "      <td>2.55</td>\n",
       "      <td>56250.000000</td>\n",
       "      <td>1.0</td>\n",
       "      <td>32.0</td>\n",
       "    </tr>\n",
       "    <tr>\n",
       "      <th>61495.0</th>\n",
       "      <td>2.55</td>\n",
       "      <td>60606.060606</td>\n",
       "      <td>2.0</td>\n",
       "      <td>52.8</td>\n",
       "    </tr>\n",
       "    <tr>\n",
       "      <th>62454.0</th>\n",
       "      <td>2.50</td>\n",
       "      <td>69114.470842</td>\n",
       "      <td>2.0</td>\n",
       "      <td>46.3</td>\n",
       "    </tr>\n",
       "    <tr>\n",
       "      <th>64857.0</th>\n",
       "      <td>2.50</td>\n",
       "      <td>67843.866171</td>\n",
       "      <td>3.0</td>\n",
       "      <td>53.8</td>\n",
       "    </tr>\n",
       "  </tbody>\n",
       "</table>\n",
       "<p>5733 rows × 4 columns</p>\n",
       "</div>"
      ],
      "text/plain": [
       "                     ceiling_height  price_per_area  rooms  total_area\n",
       "cityCenters_nearest                                                   \n",
       "208.0                          3.70   172619.047619    1.0        33.6\n",
       "215.0                          3.90   109900.000000    3.0       100.0\n",
       "287.0                          3.30    88796.296296    2.0       108.0\n",
       "329.0                          3.07   100000.000000    2.0        72.0\n",
       "376.0                          3.50   137755.102041    3.0        98.0\n",
       "...                             ...             ...    ...         ...\n",
       "59626.0                        2.55    74193.548387    1.0        31.0\n",
       "60223.0                        2.55    56250.000000    1.0        32.0\n",
       "61495.0                        2.55    60606.060606    2.0        52.8\n",
       "62454.0                        2.50    69114.470842    2.0        46.3\n",
       "64857.0                        2.50    67843.866171    3.0        53.8\n",
       "\n",
       "[5733 rows x 4 columns]"
      ]
     },
     "execution_count": 47,
     "metadata": {},
     "output_type": "execute_result"
    }
   ],
   "source": [
    "#оценим влияние фактора удаленности от центра на стоимость квадратного метра \n",
    "(\n",
    "    good_data\n",
    "    .pivot_table(index='cityCenters_nearest', values=['total_area', 'price_per_area', 'rooms', 'ceiling_height'], aggfunc='median')\n",
    ")"
   ]
  },
  {
   "cell_type": "markdown",
   "metadata": {},
   "source": [
    "**Квартиры большей площадью большим кол-вом комнат тяготеют к центру. Высота помещений рядом с центром выше.**"
   ]
  },
  {
   "cell_type": "code",
   "execution_count": 48,
   "metadata": {},
   "outputs": [
    {
     "data": {
      "text/html": [
       "<div>\n",
       "<style scoped>\n",
       "    .dataframe tbody tr th:only-of-type {\n",
       "        vertical-align: middle;\n",
       "    }\n",
       "\n",
       "    .dataframe tbody tr th {\n",
       "        vertical-align: top;\n",
       "    }\n",
       "\n",
       "    .dataframe thead th {\n",
       "        text-align: right;\n",
       "    }\n",
       "</style>\n",
       "<table border=\"1\" class=\"dataframe\">\n",
       "  <thead>\n",
       "    <tr style=\"text-align: right;\">\n",
       "      <th></th>\n",
       "      <th>price_per_area</th>\n",
       "      <th>total_area</th>\n",
       "      <th>rooms</th>\n",
       "      <th>cityCenters_nearest</th>\n",
       "    </tr>\n",
       "  </thead>\n",
       "  <tbody>\n",
       "    <tr>\n",
       "      <th>price_per_area</th>\n",
       "      <td>1.000000</td>\n",
       "      <td>0.037948</td>\n",
       "      <td>-0.156999</td>\n",
       "      <td>-0.412139</td>\n",
       "    </tr>\n",
       "    <tr>\n",
       "      <th>total_area</th>\n",
       "      <td>0.037948</td>\n",
       "      <td>1.000000</td>\n",
       "      <td>0.799101</td>\n",
       "      <td>-0.172814</td>\n",
       "    </tr>\n",
       "    <tr>\n",
       "      <th>rooms</th>\n",
       "      <td>-0.156999</td>\n",
       "      <td>0.799101</td>\n",
       "      <td>1.000000</td>\n",
       "      <td>-0.114286</td>\n",
       "    </tr>\n",
       "    <tr>\n",
       "      <th>cityCenters_nearest</th>\n",
       "      <td>-0.412139</td>\n",
       "      <td>-0.172814</td>\n",
       "      <td>-0.114286</td>\n",
       "      <td>1.000000</td>\n",
       "    </tr>\n",
       "  </tbody>\n",
       "</table>\n",
       "</div>"
      ],
      "text/plain": [
       "                     price_per_area  total_area     rooms  cityCenters_nearest\n",
       "price_per_area             1.000000    0.037948 -0.156999            -0.412139\n",
       "total_area                 0.037948    1.000000  0.799101            -0.172814\n",
       "rooms                     -0.156999    0.799101  1.000000            -0.114286\n",
       "cityCenters_nearest       -0.412139   -0.172814 -0.114286             1.000000"
      ]
     },
     "execution_count": 48,
     "metadata": {},
     "output_type": "execute_result"
    },
    {
     "data": {
      "image/png": "[encoded data removed]",
      "text/plain": [
       "<Figure size 720x720 with 16 Axes>"
      ]
     },
     "metadata": {
      "needs_background": "light"
     },
     "output_type": "display_data"
    }
   ],
   "source": [
    "#корреляция значений \n",
    "good_data_stat = good_data[['price_per_area','total_area','rooms','cityCenters_nearest']]\n",
    "pd.plotting.scatter_matrix(good_data_stat, figsize=(10, 10)) \n",
    "good_data_stat.corr()"
   ]
  },
  {
   "cell_type": "markdown",
   "metadata": {},
   "source": [
    "**В результате анализа матрицы корреляций, были получены следущие выводы:**\n",
    "- чем больше комнат, тем больше площадь квартиры\n",
    "- незначительно коррелирует площадь и стоимость кв м., зависимость положительная. Значения сводных таблиц свидетельствавали об отрицательной корреляция: чем меньше общая площадь, тем выше стоимость кв м. \n",
    "- отмечена корреляция в части уменьшения кол-ва комнат и высотности помещения по мере удаления от центра.\n",
    "- имеетеся положительная корреляция между увеличением площади помещения и высотности помещения. "
   ]
  },
  {
   "cell_type": "code",
   "execution_count": 49,
   "metadata": {
    "scrolled": true
   },
   "outputs": [
    {
     "data": {
      "text/html": [
       "<div>\n",
       "<style scoped>\n",
       "    .dataframe tbody tr th:only-of-type {\n",
       "        vertical-align: middle;\n",
       "    }\n",
       "\n",
       "    .dataframe tbody tr th {\n",
       "        vertical-align: top;\n",
       "    }\n",
       "\n",
       "    .dataframe thead th {\n",
       "        text-align: right;\n",
       "    }\n",
       "</style>\n",
       "<table border=\"1\" class=\"dataframe\">\n",
       "  <thead>\n",
       "    <tr style=\"text-align: right;\">\n",
       "      <th></th>\n",
       "      <th>price_per_area</th>\n",
       "    </tr>\n",
       "    <tr>\n",
       "      <th>floor_category</th>\n",
       "      <th></th>\n",
       "    </tr>\n",
       "  </thead>\n",
       "  <tbody>\n",
       "    <tr>\n",
       "      <th>другой</th>\n",
       "      <td>95886.935959</td>\n",
       "    </tr>\n",
       "    <tr>\n",
       "      <th>первый</th>\n",
       "      <td>79852.584044</td>\n",
       "    </tr>\n",
       "    <tr>\n",
       "      <th>последний</th>\n",
       "      <td>85144.998328</td>\n",
       "    </tr>\n",
       "  </tbody>\n",
       "</table>\n",
       "</div>"
      ],
      "text/plain": [
       "                price_per_area\n",
       "floor_category                \n",
       "другой            95886.935959\n",
       "первый            79852.584044\n",
       "последний         85144.998328"
      ]
     },
     "execution_count": 49,
     "metadata": {},
     "output_type": "execute_result"
    }
   ],
   "source": [
    "#изучим зависимость стоимость кв метра от этажа \n",
    "good_data.pivot_table(index='floor_category', values='price_per_area')"
   ]
  },
  {
   "cell_type": "markdown",
   "metadata": {},
   "source": [
    "**Стоимость квадратного метра отличается в зависимости от этажа: стоимость квартиры  на первом этаже будет самая низкая.** "
   ]
  },
  {
   "cell_type": "markdown",
   "metadata": {},
   "source": [
    "### Главные факторы, вляющие на стоимость 1 кв.м недвижимости:\n",
    " \n",
    "- удаленность от центра;\n",
    "- количество комнат;\n",
    "- этажность."
   ]
  },
  {
   "cell_type": "markdown",
   "metadata": {},
   "source": [
    "### Динамика стоимости 1 кв. м. 2015-2019 гг"
   ]
  },
  {
   "cell_type": "code",
   "execution_count": 50,
   "metadata": {},
   "outputs": [
    {
     "data": {
      "text/html": [
       "<div>\n",
       "<style scoped>\n",
       "    .dataframe tbody tr th:only-of-type {\n",
       "        vertical-align: middle;\n",
       "    }\n",
       "\n",
       "    .dataframe tbody tr th {\n",
       "        vertical-align: top;\n",
       "    }\n",
       "\n",
       "    .dataframe thead th {\n",
       "        text-align: right;\n",
       "    }\n",
       "</style>\n",
       "<table border=\"1\" class=\"dataframe\">\n",
       "  <thead>\n",
       "    <tr style=\"text-align: right;\">\n",
       "      <th></th>\n",
       "      <th>price_per_area</th>\n",
       "    </tr>\n",
       "    <tr>\n",
       "      <th>first_exposition_year</th>\n",
       "      <th></th>\n",
       "    </tr>\n",
       "  </thead>\n",
       "  <tbody>\n",
       "    <tr>\n",
       "      <th>2015</th>\n",
       "      <td>88775.063826</td>\n",
       "    </tr>\n",
       "    <tr>\n",
       "      <th>2016</th>\n",
       "      <td>91073.145093</td>\n",
       "    </tr>\n",
       "    <tr>\n",
       "      <th>2017</th>\n",
       "      <td>90931.244925</td>\n",
       "    </tr>\n",
       "    <tr>\n",
       "      <th>2018</th>\n",
       "      <td>93665.443403</td>\n",
       "    </tr>\n",
       "    <tr>\n",
       "      <th>2019</th>\n",
       "      <td>102612.823362</td>\n",
       "    </tr>\n",
       "  </tbody>\n",
       "</table>\n",
       "</div>"
      ],
      "text/plain": [
       "                       price_per_area\n",
       "first_exposition_year                \n",
       "2015                     88775.063826\n",
       "2016                     91073.145093\n",
       "2017                     90931.244925\n",
       "2018                     93665.443403\n",
       "2019                    102612.823362"
      ]
     },
     "metadata": {},
     "output_type": "display_data"
    },
    {
     "data": {
      "text/plain": [
       "<AxesSubplot:xlabel='first_exposition_year'>"
      ]
     },
     "execution_count": 50,
     "metadata": {},
     "output_type": "execute_result"
    },
    {
     "data": {
      "image/png": "[encoded data removed]",
      "text/plain": [
       "<Figure size 432x288 with 1 Axes>"
      ]
     },
     "metadata": {
      "needs_background": "light"
     },
     "output_type": "display_data"
    }
   ],
   "source": [
    "#изучим зависимость стоимость кв метра от даты размещения объявления\n",
    "display(good_data.pivot_table(index='first_exposition_year', values='price_per_area'))\n",
    "(\n",
    "    good_data\n",
    "    .pivot_table(index='first_exposition_year', values='price_per_area')\n",
    "    .plot()\n",
    ")"
   ]
  },
  {
   "cell_type": "markdown",
   "metadata": {},
   "source": [
    "**Вывод:**\n",
    "- с 2017 по 2019 год наблюдался постоянный рост стоимости кв м\n",
    "- с 2015 года стомость кв м выросла на 7,5%"
   ]
  },
  {
   "cell_type": "markdown",
   "metadata": {},
   "source": [
    "### Помесячная динамика стоимости 1 кв. м. в 2018 году"
   ]
  },
  {
   "cell_type": "code",
   "execution_count": 51,
   "metadata": {},
   "outputs": [
    {
     "data": {
      "text/html": [
       "<div>\n",
       "<style scoped>\n",
       "    .dataframe tbody tr th:only-of-type {\n",
       "        vertical-align: middle;\n",
       "    }\n",
       "\n",
       "    .dataframe tbody tr th {\n",
       "        vertical-align: top;\n",
       "    }\n",
       "\n",
       "    .dataframe thead th {\n",
       "        text-align: right;\n",
       "    }\n",
       "</style>\n",
       "<table border=\"1\" class=\"dataframe\">\n",
       "  <thead>\n",
       "    <tr style=\"text-align: right;\">\n",
       "      <th></th>\n",
       "      <th>first_exposition_month_index</th>\n",
       "      <th>first_exposition_month</th>\n",
       "      <th>price_per_area</th>\n",
       "    </tr>\n",
       "  </thead>\n",
       "  <tbody>\n",
       "    <tr>\n",
       "      <th>0</th>\n",
       "      <td>1</td>\n",
       "      <td>January</td>\n",
       "      <td>94916.532596</td>\n",
       "    </tr>\n",
       "    <tr>\n",
       "      <th>1</th>\n",
       "      <td>2</td>\n",
       "      <td>February</td>\n",
       "      <td>93745.346877</td>\n",
       "    </tr>\n",
       "    <tr>\n",
       "      <th>2</th>\n",
       "      <td>3</td>\n",
       "      <td>March</td>\n",
       "      <td>93874.728307</td>\n",
       "    </tr>\n",
       "    <tr>\n",
       "      <th>3</th>\n",
       "      <td>4</td>\n",
       "      <td>April</td>\n",
       "      <td>104066.466329</td>\n",
       "    </tr>\n",
       "    <tr>\n",
       "      <th>4</th>\n",
       "      <td>5</td>\n",
       "      <td>May</td>\n",
       "      <td>105293.386354</td>\n",
       "    </tr>\n",
       "    <tr>\n",
       "      <th>5</th>\n",
       "      <td>6</td>\n",
       "      <td>June</td>\n",
       "      <td>97329.066464</td>\n",
       "    </tr>\n",
       "    <tr>\n",
       "      <th>6</th>\n",
       "      <td>7</td>\n",
       "      <td>July</td>\n",
       "      <td>96919.160713</td>\n",
       "    </tr>\n",
       "    <tr>\n",
       "      <th>7</th>\n",
       "      <td>8</td>\n",
       "      <td>August</td>\n",
       "      <td>100834.109710</td>\n",
       "    </tr>\n",
       "    <tr>\n",
       "      <th>8</th>\n",
       "      <td>9</td>\n",
       "      <td>September</td>\n",
       "      <td>99669.830813</td>\n",
       "    </tr>\n",
       "    <tr>\n",
       "      <th>9</th>\n",
       "      <td>10</td>\n",
       "      <td>October</td>\n",
       "      <td>98290.781996</td>\n",
       "    </tr>\n",
       "    <tr>\n",
       "      <th>10</th>\n",
       "      <td>11</td>\n",
       "      <td>November</td>\n",
       "      <td>101977.696974</td>\n",
       "    </tr>\n",
       "    <tr>\n",
       "      <th>11</th>\n",
       "      <td>12</td>\n",
       "      <td>December</td>\n",
       "      <td>101197.975074</td>\n",
       "    </tr>\n",
       "  </tbody>\n",
       "</table>\n",
       "</div>"
      ],
      "text/plain": [
       "    first_exposition_month_index first_exposition_month  price_per_area\n",
       "0                              1                January    94916.532596\n",
       "1                              2               February    93745.346877\n",
       "2                              3                  March    93874.728307\n",
       "3                              4                  April   104066.466329\n",
       "4                              5                    May   105293.386354\n",
       "5                              6                   June    97329.066464\n",
       "6                              7                   July    96919.160713\n",
       "7                              8                 August   100834.109710\n",
       "8                              9              September    99669.830813\n",
       "9                             10                October    98290.781996\n",
       "10                            11               November   101977.696974\n",
       "11                            12               December   101197.975074"
      ]
     },
     "execution_count": 51,
     "metadata": {},
     "output_type": "execute_result"
    }
   ],
   "source": [
    "#изучим как изменялась стоимость кв м по месяцам в 2018 году\n",
    "good_data_2018 = data.loc[data['first_exposition_year']==2018]\n",
    "month = data[['first_exposition_month_index','first_exposition_month']].drop_duplicates().sort_values(by='first_exposition_month_index')\n",
    "good_data_18 = good_data_2018.pivot_table(index='first_exposition_month_index', values='price_per_area')\n",
    "stat_18 = month.merge(good_data_18, on='first_exposition_month_index')\n",
    "stat_18"
   ]
  },
  {
   "cell_type": "code",
   "execution_count": 52,
   "metadata": {},
   "outputs": [
    {
     "data": {
      "text/plain": [
       "<AxesSubplot:xlabel='first_exposition_month'>"
      ]
     },
     "execution_count": 52,
     "metadata": {},
     "output_type": "execute_result"
    },
    {
     "data": {
      "image/png": "[encoded data removed]",
      "text/plain": [
       "<Figure size 432x288 with 1 Axes>"
      ]
     },
     "metadata": {
      "needs_background": "light"
     },
     "output_type": "display_data"
    }
   ],
   "source": [
    "stat_18.plot(x='first_exposition_month', y='price_per_area', grid=True)"
   ]
  },
  {
   "cell_type": "markdown",
   "metadata": {},
   "source": [
    "**Вывод:**\n",
    "- стоимость недвижимости менялась в течение года волнообразно. Наименьшая стоимость кв.м. была зафиксирована в феврале, наибольшая - мае. За этот период кв м подоражал на 10% \n",
    "- дополнительный фактор, вляющий на стоимость недвижимости - сезонность. Есть периоды с высокой по отношению к другим периодам этого же года стоимостью. Скорее всего, обусловленно спросом на недвижимостью. Так начало года не самое лучшее время для продажи."
   ]
  },
  {
   "cell_type": "markdown",
   "metadata": {},
   "source": [
    "### Динамика стоимости 1 кв. м. в течение недели "
   ]
  },
  {
   "cell_type": "code",
   "execution_count": 53,
   "metadata": {},
   "outputs": [
    {
     "data": {
      "text/html": [
       "<div>\n",
       "<style scoped>\n",
       "    .dataframe tbody tr th:only-of-type {\n",
       "        vertical-align: middle;\n",
       "    }\n",
       "\n",
       "    .dataframe tbody tr th {\n",
       "        vertical-align: top;\n",
       "    }\n",
       "\n",
       "    .dataframe thead th {\n",
       "        text-align: right;\n",
       "    }\n",
       "</style>\n",
       "<table border=\"1\" class=\"dataframe\">\n",
       "  <thead>\n",
       "    <tr style=\"text-align: right;\">\n",
       "      <th></th>\n",
       "      <th>price_per_area</th>\n",
       "    </tr>\n",
       "    <tr>\n",
       "      <th>first_exposition_day_of_week</th>\n",
       "      <th></th>\n",
       "    </tr>\n",
       "  </thead>\n",
       "  <tbody>\n",
       "    <tr>\n",
       "      <th>Friday</th>\n",
       "      <td>99227.914200</td>\n",
       "    </tr>\n",
       "    <tr>\n",
       "      <th>Monday</th>\n",
       "      <td>107935.350623</td>\n",
       "    </tr>\n",
       "    <tr>\n",
       "      <th>Saturday</th>\n",
       "      <td>118687.642154</td>\n",
       "    </tr>\n",
       "    <tr>\n",
       "      <th>Sunday</th>\n",
       "      <td>85464.722050</td>\n",
       "    </tr>\n",
       "    <tr>\n",
       "      <th>Thursday</th>\n",
       "      <td>99137.084172</td>\n",
       "    </tr>\n",
       "    <tr>\n",
       "      <th>Tuesday</th>\n",
       "      <td>111782.977503</td>\n",
       "    </tr>\n",
       "    <tr>\n",
       "      <th>Wednesday</th>\n",
       "      <td>108396.331207</td>\n",
       "    </tr>\n",
       "  </tbody>\n",
       "</table>\n",
       "</div>"
      ],
      "text/plain": [
       "                              price_per_area\n",
       "first_exposition_day_of_week                \n",
       "Friday                          99227.914200\n",
       "Monday                         107935.350623\n",
       "Saturday                       118687.642154\n",
       "Sunday                          85464.722050\n",
       "Thursday                        99137.084172\n",
       "Tuesday                        111782.977503\n",
       "Wednesday                      108396.331207"
      ]
     },
     "metadata": {},
     "output_type": "display_data"
    },
    {
     "data": {
      "text/plain": [
       "<AxesSubplot:xlabel='first_exposition_day_of_week'>"
      ]
     },
     "execution_count": 53,
     "metadata": {},
     "output_type": "execute_result"
    },
    {
     "data": {
      "image/png": "[encoded data removed]",
      "text/plain": [
       "<Figure size 432x288 with 1 Axes>"
      ]
     },
     "metadata": {
      "needs_background": "light"
     },
     "output_type": "display_data"
    }
   ],
   "source": [
    "#изучим как изменялась стоимость кв м по дням недели в течение мая в 2018 году\n",
    "good_data_2018_may = data.loc[(data['first_exposition_year']==2018)&(data['first_exposition_month']=='May')]\n",
    "display(good_data_2018_may.pivot_table(index='first_exposition_day_of_week', values='price_per_area'))\n",
    "(\n",
    "    good_data_2018_may\n",
    "    .pivot_table(index='first_exposition_day_of_week', values='price_per_area')\n",
    "    .sort_values('price_per_area')\n",
    "    .plot()\n",
    ")"
   ]
  },
  {
   "cell_type": "markdown",
   "metadata": {},
   "source": [
    "**Вывод:**\n",
    "- В субботу публиковались предложения квартир с наибольшей стоимостью за 1 кв м\n"
   ]
  },
  {
   "cell_type": "markdown",
   "metadata": {},
   "source": [
    "### Стоимость 1 кв. м. в населенных пунктах с наибольшим количеством предложений"
   ]
  },
  {
   "cell_type": "code",
   "execution_count": 54,
   "metadata": {},
   "outputs": [
    {
     "data": {
      "text/html": [
       "<div>\n",
       "<style scoped>\n",
       "    .dataframe tbody tr th:only-of-type {\n",
       "        vertical-align: middle;\n",
       "    }\n",
       "\n",
       "    .dataframe tbody tr th {\n",
       "        vertical-align: top;\n",
       "    }\n",
       "\n",
       "    .dataframe thead th {\n",
       "        text-align: right;\n",
       "    }\n",
       "</style>\n",
       "<table border=\"1\" class=\"dataframe\">\n",
       "  <thead>\n",
       "    <tr style=\"text-align: right;\">\n",
       "      <th></th>\n",
       "      <th>кол-во</th>\n",
       "      <th>кв м</th>\n",
       "    </tr>\n",
       "    <tr>\n",
       "      <th>locality_name</th>\n",
       "      <th></th>\n",
       "      <th></th>\n",
       "    </tr>\n",
       "  </thead>\n",
       "  <tbody>\n",
       "    <tr>\n",
       "      <th>Санкт-Петербург</th>\n",
       "      <td>9392</td>\n",
       "      <td>104726.311461</td>\n",
       "    </tr>\n",
       "    <tr>\n",
       "      <th>посёлок Мурино</th>\n",
       "      <td>382</td>\n",
       "      <td>85510.212062</td>\n",
       "    </tr>\n",
       "    <tr>\n",
       "      <th>посёлок Шушары</th>\n",
       "      <td>326</td>\n",
       "      <td>77691.638378</td>\n",
       "    </tr>\n",
       "    <tr>\n",
       "      <th>Всеволожск</th>\n",
       "      <td>273</td>\n",
       "      <td>66926.543943</td>\n",
       "    </tr>\n",
       "    <tr>\n",
       "      <th>посёлок Парголово</th>\n",
       "      <td>240</td>\n",
       "      <td>89245.543724</td>\n",
       "    </tr>\n",
       "    <tr>\n",
       "      <th>Колпино</th>\n",
       "      <td>236</td>\n",
       "      <td>73980.537568</td>\n",
       "    </tr>\n",
       "    <tr>\n",
       "      <th>Пушкин</th>\n",
       "      <td>228</td>\n",
       "      <td>100244.814966</td>\n",
       "    </tr>\n",
       "    <tr>\n",
       "      <th>деревня Кудрово</th>\n",
       "      <td>215</td>\n",
       "      <td>92946.319576</td>\n",
       "    </tr>\n",
       "    <tr>\n",
       "      <th>Гатчина</th>\n",
       "      <td>207</td>\n",
       "      <td>68311.907938</td>\n",
       "    </tr>\n",
       "    <tr>\n",
       "      <th>Выборг</th>\n",
       "      <td>167</td>\n",
       "      <td>57114.356079</td>\n",
       "    </tr>\n",
       "  </tbody>\n",
       "</table>\n",
       "</div>"
      ],
      "text/plain": [
       "                   кол-во           кв м\n",
       "locality_name                           \n",
       "Санкт-Петербург      9392  104726.311461\n",
       "посёлок Мурино        382   85510.212062\n",
       "посёлок Шушары        326   77691.638378\n",
       "Всеволожск            273   66926.543943\n",
       "посёлок Парголово     240   89245.543724\n",
       "Колпино               236   73980.537568\n",
       "Пушкин                228  100244.814966\n",
       "деревня Кудрово       215   92946.319576\n",
       "Гатчина               207   68311.907938\n",
       "Выборг                167   57114.356079"
      ]
     },
     "execution_count": 54,
     "metadata": {},
     "output_type": "execute_result"
    }
   ],
   "source": [
    "#10 населенных пунктов с наибольшим количеством объявлений\n",
    "top = good_data.groupby('locality_name').agg({'price_per_area':['count','mean']})\n",
    "top.columns = ['кол-во','кв м']\n",
    "top.sort_values(by='кол-во', ascending=False).head(10) "
   ]
  },
  {
   "cell_type": "markdown",
   "metadata": {},
   "source": [
    "**Вывод:**\n",
    "- самая высокая стоимость 1 кв.м. в Санкт-Петербурге \n",
    "- самая низкая стоимость 1 кв.м. в Выборге"
   ]
  },
  {
   "cell_type": "markdown",
   "metadata": {},
   "source": [
    "### Границы самой дорогой недвижимости в Санк-Петербурге (удаленнность от центра)"
   ]
  },
  {
   "cell_type": "code",
   "execution_count": 55,
   "metadata": {},
   "outputs": [
    {
     "data": {
      "text/plain": [
       "<AxesSubplot:xlabel='dis_to_centre'>"
      ]
     },
     "execution_count": 55,
     "metadata": {},
     "output_type": "execute_result"
    },
    {
     "data": {
      "image/png": "[encoded data removed]",
      "text/plain": [
       "<Figure size 432x288 with 1 Axes>"
      ]
     },
     "metadata": {
      "needs_background": "light"
     },
     "output_type": "display_data"
    }
   ],
   "source": [
    "spb_realty = good_data.copy()\n",
    "spb_realty = spb_realty.loc[spb_realty['locality_name']=='Санкт-Петербург']\n",
    "spb_realty['cityCenters_nearest'] = spb_realty['cityCenters_nearest'].fillna(spb_realty['cityCenters_nearest'].median()) \n",
    "spb_realty['dis_to_centre'] = spb_realty['cityCenters_nearest']/1000  \n",
    "spb_realty['dis_to_centre'] = spb_realty['dis_to_centre'].astype(int)\n",
    "segment_centre = spb_realty.pivot_table(index='dis_to_centre', values='price_per_area')\n",
    "segment_centre.plot()"
   ]
  },
  {
   "cell_type": "markdown",
   "metadata": {},
   "source": [
    "**Вывод:**\n",
    "- судя по графику стоимость резко начинает снижаться в районе 7 км от центра города\n",
    "\n",
    "Таким образом, можно выделить среди представленной недвижимости на рынке Санк-Петербурга сегмент квартир удаленностью не более 7 км от центра.  "
   ]
  },
  {
   "cell_type": "code",
   "execution_count": 56,
   "metadata": {},
   "outputs": [
    {
     "data": {
      "text/html": [
       "<div>\n",
       "<style scoped>\n",
       "    .dataframe tbody tr th:only-of-type {\n",
       "        vertical-align: middle;\n",
       "    }\n",
       "\n",
       "    .dataframe tbody tr th {\n",
       "        vertical-align: top;\n",
       "    }\n",
       "\n",
       "    .dataframe thead th {\n",
       "        text-align: right;\n",
       "    }\n",
       "</style>\n",
       "<table border=\"1\" class=\"dataframe\">\n",
       "  <thead>\n",
       "    <tr style=\"text-align: right;\">\n",
       "      <th></th>\n",
       "      <th>total_images</th>\n",
       "      <th>last_price</th>\n",
       "      <th>total_area</th>\n",
       "      <th>first_day_exposition</th>\n",
       "      <th>rooms</th>\n",
       "      <th>ceiling_height</th>\n",
       "      <th>floors_total</th>\n",
       "      <th>living_area</th>\n",
       "      <th>floor</th>\n",
       "      <th>is_apartment</th>\n",
       "      <th>...</th>\n",
       "      <th>days_exposition</th>\n",
       "      <th>price_per_area</th>\n",
       "      <th>first_exposition_day_of_week</th>\n",
       "      <th>first_exposition_month</th>\n",
       "      <th>first_exposition_month_index</th>\n",
       "      <th>first_exposition_year</th>\n",
       "      <th>floor_category</th>\n",
       "      <th>living_area_ratio</th>\n",
       "      <th>kitchen_area_ratio</th>\n",
       "      <th>dis_to_centre</th>\n",
       "    </tr>\n",
       "  </thead>\n",
       "  <tbody>\n",
       "    <tr>\n",
       "      <th>24</th>\n",
       "      <td>8</td>\n",
       "      <td>6500000.0</td>\n",
       "      <td>97.2</td>\n",
       "      <td>2015-10-31</td>\n",
       "      <td>2</td>\n",
       "      <td>2.70</td>\n",
       "      <td>3</td>\n",
       "      <td>46.50</td>\n",
       "      <td>1</td>\n",
       "      <td>False</td>\n",
       "      <td>...</td>\n",
       "      <td>265.0</td>\n",
       "      <td>66872.427984</td>\n",
       "      <td>Saturday</td>\n",
       "      <td>October</td>\n",
       "      <td>10</td>\n",
       "      <td>2015</td>\n",
       "      <td>первый</td>\n",
       "      <td>0.478395</td>\n",
       "      <td>0.201646</td>\n",
       "      <td>2</td>\n",
       "    </tr>\n",
       "    <tr>\n",
       "      <th>99</th>\n",
       "      <td>32</td>\n",
       "      <td>9600000.0</td>\n",
       "      <td>90.0</td>\n",
       "      <td>2017-09-26</td>\n",
       "      <td>4</td>\n",
       "      <td>2.70</td>\n",
       "      <td>5</td>\n",
       "      <td>67.00</td>\n",
       "      <td>2</td>\n",
       "      <td>False</td>\n",
       "      <td>...</td>\n",
       "      <td>104.0</td>\n",
       "      <td>106666.666667</td>\n",
       "      <td>Tuesday</td>\n",
       "      <td>September</td>\n",
       "      <td>9</td>\n",
       "      <td>2017</td>\n",
       "      <td>другой</td>\n",
       "      <td>0.744444</td>\n",
       "      <td>0.088889</td>\n",
       "      <td>2</td>\n",
       "    </tr>\n",
       "    <tr>\n",
       "      <th>111</th>\n",
       "      <td>4</td>\n",
       "      <td>4590000.0</td>\n",
       "      <td>40.0</td>\n",
       "      <td>2017-05-29</td>\n",
       "      <td>1</td>\n",
       "      <td>2.70</td>\n",
       "      <td>6</td>\n",
       "      <td>18.00</td>\n",
       "      <td>1</td>\n",
       "      <td>False</td>\n",
       "      <td>...</td>\n",
       "      <td>31.0</td>\n",
       "      <td>114750.000000</td>\n",
       "      <td>Monday</td>\n",
       "      <td>May</td>\n",
       "      <td>5</td>\n",
       "      <td>2017</td>\n",
       "      <td>первый</td>\n",
       "      <td>0.450000</td>\n",
       "      <td>0.250000</td>\n",
       "      <td>6</td>\n",
       "    </tr>\n",
       "    <tr>\n",
       "      <th>136</th>\n",
       "      <td>16</td>\n",
       "      <td>6500000.0</td>\n",
       "      <td>51.8</td>\n",
       "      <td>2018-08-01</td>\n",
       "      <td>2</td>\n",
       "      <td>3.45</td>\n",
       "      <td>6</td>\n",
       "      <td>25.60</td>\n",
       "      <td>2</td>\n",
       "      <td>False</td>\n",
       "      <td>...</td>\n",
       "      <td>163.0</td>\n",
       "      <td>125482.625483</td>\n",
       "      <td>Wednesday</td>\n",
       "      <td>August</td>\n",
       "      <td>8</td>\n",
       "      <td>2018</td>\n",
       "      <td>другой</td>\n",
       "      <td>0.494208</td>\n",
       "      <td>0.140927</td>\n",
       "      <td>3</td>\n",
       "    </tr>\n",
       "    <tr>\n",
       "      <th>137</th>\n",
       "      <td>11</td>\n",
       "      <td>13310800.0</td>\n",
       "      <td>85.1</td>\n",
       "      <td>2018-01-01</td>\n",
       "      <td>2</td>\n",
       "      <td>2.70</td>\n",
       "      <td>10</td>\n",
       "      <td>31.52</td>\n",
       "      <td>5</td>\n",
       "      <td>False</td>\n",
       "      <td>...</td>\n",
       "      <td>340.0</td>\n",
       "      <td>156413.631022</td>\n",
       "      <td>Monday</td>\n",
       "      <td>January</td>\n",
       "      <td>1</td>\n",
       "      <td>2018</td>\n",
       "      <td>другой</td>\n",
       "      <td>0.370388</td>\n",
       "      <td>0.315511</td>\n",
       "      <td>4</td>\n",
       "    </tr>\n",
       "  </tbody>\n",
       "</table>\n",
       "<p>5 rows × 31 columns</p>\n",
       "</div>"
      ],
      "text/plain": [
       "     total_images  last_price  total_area first_day_exposition  rooms  \\\n",
       "24              8   6500000.0        97.2           2015-10-31      2   \n",
       "99             32   9600000.0        90.0           2017-09-26      4   \n",
       "111             4   4590000.0        40.0           2017-05-29      1   \n",
       "136            16   6500000.0        51.8           2018-08-01      2   \n",
       "137            11  13310800.0        85.1           2018-01-01      2   \n",
       "\n",
       "     ceiling_height  floors_total  living_area  floor is_apartment  ...  \\\n",
       "24             2.70             3        46.50      1        False  ...   \n",
       "99             2.70             5        67.00      2        False  ...   \n",
       "111            2.70             6        18.00      1        False  ...   \n",
       "136            3.45             6        25.60      2        False  ...   \n",
       "137            2.70            10        31.52      5        False  ...   \n",
       "\n",
       "     days_exposition  price_per_area  first_exposition_day_of_week  \\\n",
       "24             265.0    66872.427984                      Saturday   \n",
       "99             104.0   106666.666667                       Tuesday   \n",
       "111             31.0   114750.000000                        Monday   \n",
       "136            163.0   125482.625483                     Wednesday   \n",
       "137            340.0   156413.631022                        Monday   \n",
       "\n",
       "     first_exposition_month first_exposition_month_index  \\\n",
       "24                  October                           10   \n",
       "99                September                            9   \n",
       "111                     May                            5   \n",
       "136                  August                            8   \n",
       "137                 January                            1   \n",
       "\n",
       "     first_exposition_year  floor_category  living_area_ratio  \\\n",
       "24                    2015          первый           0.478395   \n",
       "99                    2017          другой           0.744444   \n",
       "111                   2017          первый           0.450000   \n",
       "136                   2018          другой           0.494208   \n",
       "137                   2018          другой           0.370388   \n",
       "\n",
       "     kitchen_area_ratio  dis_to_centre  \n",
       "24             0.201646              2  \n",
       "99             0.088889              2  \n",
       "111            0.250000              6  \n",
       "136            0.140927              3  \n",
       "137            0.315511              4  \n",
       "\n",
       "[5 rows x 31 columns]"
      ]
     },
     "execution_count": 56,
     "metadata": {},
     "output_type": "execute_result"
    }
   ],
   "source": [
    "# выделим сегмент самой дорогой недвижимости в Санкт-Петербурге\n",
    "top_segment = spb_realty.query('dis_to_centre<=7')\n",
    "top_segment.head()"
   ]
  },
  {
   "cell_type": "markdown",
   "metadata": {},
   "source": [
    "#### Медианная  стоимость 1 кв.м в квартирах с разным количеством комнат"
   ]
  },
  {
   "cell_type": "code",
   "execution_count": 57,
   "metadata": {},
   "outputs": [
    {
     "data": {
      "text/html": [
       "<div>\n",
       "<style scoped>\n",
       "    .dataframe tbody tr th:only-of-type {\n",
       "        vertical-align: middle;\n",
       "    }\n",
       "\n",
       "    .dataframe tbody tr th {\n",
       "        vertical-align: top;\n",
       "    }\n",
       "\n",
       "    .dataframe thead tr th {\n",
       "        text-align: left;\n",
       "    }\n",
       "\n",
       "    .dataframe thead tr:last-of-type th {\n",
       "        text-align: right;\n",
       "    }\n",
       "</style>\n",
       "<table border=\"1\" class=\"dataframe\">\n",
       "  <thead>\n",
       "    <tr>\n",
       "      <th></th>\n",
       "      <th>median</th>\n",
       "      <th>count</th>\n",
       "    </tr>\n",
       "    <tr>\n",
       "      <th></th>\n",
       "      <th>price_per_area</th>\n",
       "      <th>price_per_area</th>\n",
       "    </tr>\n",
       "    <tr>\n",
       "      <th>rooms</th>\n",
       "      <th></th>\n",
       "      <th></th>\n",
       "    </tr>\n",
       "  </thead>\n",
       "  <tbody>\n",
       "    <tr>\n",
       "      <th>1</th>\n",
       "      <td>135306.038048</td>\n",
       "      <td>300</td>\n",
       "    </tr>\n",
       "    <tr>\n",
       "      <th>2</th>\n",
       "      <td>117142.857143</td>\n",
       "      <td>617</td>\n",
       "    </tr>\n",
       "    <tr>\n",
       "      <th>3</th>\n",
       "      <td>105796.640141</td>\n",
       "      <td>516</td>\n",
       "    </tr>\n",
       "    <tr>\n",
       "      <th>4</th>\n",
       "      <td>100401.606426</td>\n",
       "      <td>171</td>\n",
       "    </tr>\n",
       "    <tr>\n",
       "      <th>5</th>\n",
       "      <td>96045.414630</td>\n",
       "      <td>20</td>\n",
       "    </tr>\n",
       "    <tr>\n",
       "      <th>6</th>\n",
       "      <td>126273.584906</td>\n",
       "      <td>4</td>\n",
       "    </tr>\n",
       "  </tbody>\n",
       "</table>\n",
       "</div>"
      ],
      "text/plain": [
       "              median          count\n",
       "      price_per_area price_per_area\n",
       "rooms                              \n",
       "1      135306.038048            300\n",
       "2      117142.857143            617\n",
       "3      105796.640141            516\n",
       "4      100401.606426            171\n",
       "5       96045.414630             20\n",
       "6      126273.584906              4"
      ]
     },
     "execution_count": 57,
     "metadata": {},
     "output_type": "execute_result"
    }
   ],
   "source": [
    "(\n",
    "    top_segment\n",
    "    .query('total_area<115 and 1<=rooms<=6 and 25000<price_per_area<175000')\n",
    "    .pivot_table(index='rooms', values='price_per_area', aggfunc=['median', 'count'])\n",
    ")"
   ]
  },
  {
   "cell_type": "markdown",
   "metadata": {},
   "source": [
    "**Вывод:**\n",
    "- по количеству квартир в сегменте дорогой недвижимости превалируют 2к и 3 к, меньше всего квартир от 4к и больше\n",
    "- медианная стоимость 1 кв.м в 1к квартире превышает стоимость кв.м в остальных квартирах. Самый дешевый кв. м. в 5к квартире (см. распределение значений на графике ниже)"
   ]
  },
  {
   "cell_type": "code",
   "execution_count": 58,
   "metadata": {},
   "outputs": [
    {
     "data": {
      "text/plain": [
       "<AxesSubplot:xlabel='rooms'>"
      ]
     },
     "execution_count": 58,
     "metadata": {},
     "output_type": "execute_result"
    },
    {
     "data": {
      "image/png": "[encoded data removed]",
      "text/plain": [
       "<Figure size 432x288 with 1 Axes>"
      ]
     },
     "metadata": {
      "needs_background": "light"
     },
     "output_type": "display_data"
    }
   ],
   "source": [
    "(\n",
    "    top_segment\n",
    "    .query('total_area<115 and 1<=rooms<=6 and 25000<price_per_area<175000')\n",
    "    .pivot_table(index='rooms', values='price_per_area')\n",
    "    .plot()\n",
    ")\n"
   ]
  },
  {
   "cell_type": "markdown",
   "metadata": {},
   "source": [
    "#### Влияние фактора удаленности от центра на стоимость 1 кв.м в сегменте дорогой недвижимости "
   ]
  },
  {
   "cell_type": "code",
   "execution_count": 59,
   "metadata": {},
   "outputs": [
    {
     "data": {
      "text/html": [
       "<div>\n",
       "<style scoped>\n",
       "    .dataframe tbody tr th:only-of-type {\n",
       "        vertical-align: middle;\n",
       "    }\n",
       "\n",
       "    .dataframe tbody tr th {\n",
       "        vertical-align: top;\n",
       "    }\n",
       "\n",
       "    .dataframe thead th {\n",
       "        text-align: right;\n",
       "    }\n",
       "</style>\n",
       "<table border=\"1\" class=\"dataframe\">\n",
       "  <thead>\n",
       "    <tr style=\"text-align: right;\">\n",
       "      <th></th>\n",
       "      <th>ceiling_height</th>\n",
       "      <th>price_per_area</th>\n",
       "      <th>rooms</th>\n",
       "      <th>total_area</th>\n",
       "    </tr>\n",
       "    <tr>\n",
       "      <th>dis_to_centre</th>\n",
       "      <th></th>\n",
       "      <th></th>\n",
       "      <th></th>\n",
       "      <th></th>\n",
       "    </tr>\n",
       "  </thead>\n",
       "  <tbody>\n",
       "    <tr>\n",
       "      <th>0</th>\n",
       "      <td>3.04</td>\n",
       "      <td>110041.265475</td>\n",
       "      <td>3.0</td>\n",
       "      <td>81.00</td>\n",
       "    </tr>\n",
       "    <tr>\n",
       "      <th>1</th>\n",
       "      <td>2.82</td>\n",
       "      <td>113247.863248</td>\n",
       "      <td>3.0</td>\n",
       "      <td>81.50</td>\n",
       "    </tr>\n",
       "    <tr>\n",
       "      <th>2</th>\n",
       "      <td>3.00</td>\n",
       "      <td>110289.909170</td>\n",
       "      <td>2.0</td>\n",
       "      <td>69.35</td>\n",
       "    </tr>\n",
       "    <tr>\n",
       "      <th>3</th>\n",
       "      <td>2.85</td>\n",
       "      <td>104389.412998</td>\n",
       "      <td>2.5</td>\n",
       "      <td>69.65</td>\n",
       "    </tr>\n",
       "    <tr>\n",
       "      <th>4</th>\n",
       "      <td>2.72</td>\n",
       "      <td>119420.903955</td>\n",
       "      <td>2.0</td>\n",
       "      <td>69.60</td>\n",
       "    </tr>\n",
       "    <tr>\n",
       "      <th>5</th>\n",
       "      <td>2.70</td>\n",
       "      <td>114752.000263</td>\n",
       "      <td>2.0</td>\n",
       "      <td>68.00</td>\n",
       "    </tr>\n",
       "    <tr>\n",
       "      <th>6</th>\n",
       "      <td>2.70</td>\n",
       "      <td>115666.266507</td>\n",
       "      <td>2.0</td>\n",
       "      <td>56.30</td>\n",
       "    </tr>\n",
       "    <tr>\n",
       "      <th>7</th>\n",
       "      <td>2.70</td>\n",
       "      <td>119047.619048</td>\n",
       "      <td>2.0</td>\n",
       "      <td>57.50</td>\n",
       "    </tr>\n",
       "  </tbody>\n",
       "</table>\n",
       "</div>"
      ],
      "text/plain": [
       "               ceiling_height  price_per_area  rooms  total_area\n",
       "dis_to_centre                                                   \n",
       "0                        3.04   110041.265475    3.0       81.00\n",
       "1                        2.82   113247.863248    3.0       81.50\n",
       "2                        3.00   110289.909170    2.0       69.35\n",
       "3                        2.85   104389.412998    2.5       69.65\n",
       "4                        2.72   119420.903955    2.0       69.60\n",
       "5                        2.70   114752.000263    2.0       68.00\n",
       "6                        2.70   115666.266507    2.0       56.30\n",
       "7                        2.70   119047.619048    2.0       57.50"
      ]
     },
     "execution_count": 59,
     "metadata": {},
     "output_type": "execute_result"
    }
   ],
   "source": [
    "(\n",
    "    top_segment\n",
    "    .query('total_area<115 and 1<=rooms<=6 and 25000<price_per_area<175000')\n",
    "    .pivot_table(index='dis_to_centre', values=['total_area', 'price_per_area', 'rooms', 'ceiling_height'], aggfunc='median')\n",
    ")"
   ]
  },
  {
   "cell_type": "markdown",
   "metadata": {},
   "source": [
    "**Вывод:**\n",
    "- прямого влияния фактора отдаленности на стоимость кв м не отмечено, однако в выборку попали квартиры с разным количеством комнат. Было отмечено, что стоимость кв м в 2 к выше, чем стоимость кв м в 3к квартире, ввиду этого имеет смысл изучить влиянияе разных факторов на квартиры с одинаковым количеством комнат.\n",
    "- также было отмечено, что квартиры большей площадью и соответственно с большим кол-вом комнат тяготеют к центру\n",
    "- высота помещений в центральном сегменте также выше"
   ]
  },
  {
   "cell_type": "markdown",
   "metadata": {},
   "source": [
    "*Оценим влияние фактора удаленности от центра на стоимость квадратного метра 2к квартиры (тк их больше всего в выборке)*"
   ]
  },
  {
   "cell_type": "code",
   "execution_count": 60,
   "metadata": {},
   "outputs": [
    {
     "data": {
      "text/html": [
       "<div>\n",
       "<style scoped>\n",
       "    .dataframe tbody tr th:only-of-type {\n",
       "        vertical-align: middle;\n",
       "    }\n",
       "\n",
       "    .dataframe tbody tr th {\n",
       "        vertical-align: top;\n",
       "    }\n",
       "\n",
       "    .dataframe thead th {\n",
       "        text-align: right;\n",
       "    }\n",
       "</style>\n",
       "<table border=\"1\" class=\"dataframe\">\n",
       "  <thead>\n",
       "    <tr style=\"text-align: right;\">\n",
       "      <th></th>\n",
       "      <th>ceiling_height</th>\n",
       "      <th>price_per_area</th>\n",
       "      <th>rooms</th>\n",
       "      <th>total_area</th>\n",
       "    </tr>\n",
       "    <tr>\n",
       "      <th>dis_to_centre</th>\n",
       "      <th></th>\n",
       "      <th></th>\n",
       "      <th></th>\n",
       "      <th></th>\n",
       "    </tr>\n",
       "  </thead>\n",
       "  <tbody>\n",
       "    <tr>\n",
       "      <th>0</th>\n",
       "      <td>2.70</td>\n",
       "      <td>116263.565891</td>\n",
       "      <td>2</td>\n",
       "      <td>64.5</td>\n",
       "    </tr>\n",
       "    <tr>\n",
       "      <th>1</th>\n",
       "      <td>2.70</td>\n",
       "      <td>114000.000000</td>\n",
       "      <td>2</td>\n",
       "      <td>63.3</td>\n",
       "    </tr>\n",
       "    <tr>\n",
       "      <th>2</th>\n",
       "      <td>2.95</td>\n",
       "      <td>114213.547646</td>\n",
       "      <td>2</td>\n",
       "      <td>64.0</td>\n",
       "    </tr>\n",
       "    <tr>\n",
       "      <th>3</th>\n",
       "      <td>2.70</td>\n",
       "      <td>112051.391255</td>\n",
       "      <td>2</td>\n",
       "      <td>58.7</td>\n",
       "    </tr>\n",
       "    <tr>\n",
       "      <th>4</th>\n",
       "      <td>2.75</td>\n",
       "      <td>122876.712329</td>\n",
       "      <td>2</td>\n",
       "      <td>62.5</td>\n",
       "    </tr>\n",
       "    <tr>\n",
       "      <th>5</th>\n",
       "      <td>2.70</td>\n",
       "      <td>120222.222222</td>\n",
       "      <td>2</td>\n",
       "      <td>60.0</td>\n",
       "    </tr>\n",
       "    <tr>\n",
       "      <th>6</th>\n",
       "      <td>2.70</td>\n",
       "      <td>115000.000000</td>\n",
       "      <td>2</td>\n",
       "      <td>53.0</td>\n",
       "    </tr>\n",
       "    <tr>\n",
       "      <th>7</th>\n",
       "      <td>2.70</td>\n",
       "      <td>116407.982262</td>\n",
       "      <td>2</td>\n",
       "      <td>55.0</td>\n",
       "    </tr>\n",
       "  </tbody>\n",
       "</table>\n",
       "</div>"
      ],
      "text/plain": [
       "               ceiling_height  price_per_area  rooms  total_area\n",
       "dis_to_centre                                                   \n",
       "0                        2.70   116263.565891      2        64.5\n",
       "1                        2.70   114000.000000      2        63.3\n",
       "2                        2.95   114213.547646      2        64.0\n",
       "3                        2.70   112051.391255      2        58.7\n",
       "4                        2.75   122876.712329      2        62.5\n",
       "5                        2.70   120222.222222      2        60.0\n",
       "6                        2.70   115000.000000      2        53.0\n",
       "7                        2.70   116407.982262      2        55.0"
      ]
     },
     "execution_count": 60,
     "metadata": {},
     "output_type": "execute_result"
    }
   ],
   "source": [
    "(\n",
    "    top_segment\n",
    "    .query('total_area<115 and rooms==2 and 25000<price_per_area<175000')\n",
    "    .pivot_table(index='dis_to_centre', values=['total_area', 'price_per_area', 'rooms', 'ceiling_height'], aggfunc='median')\n",
    ")\n"
   ]
  },
  {
   "cell_type": "markdown",
   "metadata": {},
   "source": [
    "**Вывод:**\n",
    "- в целом прослеживается назначительное влияние стоимости кв м от фактора удаленности от центра. Но поскольку выделен более менее однородный сегмент, не стоит ожидать в нем болшого разрброса значений  (см. ниже график)"
   ]
  },
  {
   "cell_type": "code",
   "execution_count": 61,
   "metadata": {},
   "outputs": [
    {
     "data": {
      "text/plain": [
       "<AxesSubplot:xlabel='dis_to_centre'>"
      ]
     },
     "execution_count": 61,
     "metadata": {},
     "output_type": "execute_result"
    },
    {
     "data": {
      "image/png": "[encoded data removed]",
      "text/plain": [
       "<Figure size 432x288 with 1 Axes>"
      ]
     },
     "metadata": {
      "needs_background": "light"
     },
     "output_type": "display_data"
    }
   ],
   "source": [
    "(\n",
    "    top_segment\n",
    "    .query('total_area<115 and rooms==2 and 25000<price_per_area<175000')\n",
    "    .pivot_table(index='dis_to_centre', values='price_per_area')\n",
    "    .plot()\n",
    ")"
   ]
  },
  {
   "cell_type": "markdown",
   "metadata": {},
   "source": [
    "#### Влияние фактора этажности на стоимость 1 кв.м в сегменте дорогой недвижимости\n"
   ]
  },
  {
   "cell_type": "code",
   "execution_count": 62,
   "metadata": {},
   "outputs": [
    {
     "data": {
      "text/plain": [
       "<AxesSubplot:xlabel='floor_category'>"
      ]
     },
     "execution_count": 62,
     "metadata": {},
     "output_type": "execute_result"
    },
    {
     "data": {
      "image/png": "[encoded data removed]",
      "text/plain": [
       "<Figure size 432x288 with 1 Axes>"
      ]
     },
     "metadata": {
      "needs_background": "light"
     },
     "output_type": "display_data"
    }
   ],
   "source": [
    "(\n",
    "    top_segment\n",
    "    .query('total_area<115 and 1<=rooms<=6 and 25000<price_per_area<175000')\n",
    "    .pivot_table(index='floor_category', values='price_per_area')\n",
    "    .plot()\n",
    ")"
   ]
  },
  {
   "cell_type": "markdown",
   "metadata": {},
   "source": [
    "**Вывод:**\n",
    "- зависимость фактора этажности прослеживается. кв м вне зависимоти от кол-ва комнат на первом этаже стоит дешевле. "
   ]
  },
  {
   "cell_type": "markdown",
   "metadata": {},
   "source": [
    "## Общий вывод"
   ]
  },
  {
   "cell_type": "markdown",
   "metadata": {},
   "source": [
    "В результате анализа рынка недвижимости Санкт-Петребурга и его окрестностей можно выделить общие тенденции, по которым существет рынок недвижимости в целом.\n",
    "- Значительнее всего на стоимость жилья влияет удаленность объекта от центра города.  \n",
    "- Стоимость 1 кв. метра в 1к квартире выше, чем в квартирах 2к, 3к, 4к.  \n",
    "- Этажность. Первый и последний существенно ниже остальных.\n",
    "- Сделки на рынке недвижимости носят сезонный характер. Начало года, период летних отпусков - низкий спрос==более низкая стоимость. \n",
    "\n",
    "Отличительные черты рынка недвижимости в Санкт-Петербурге:\n",
    "- В центральной части города преобладают квартиры с большей площадью. \n",
    "- Отмечено, что высотность потолков превышает среднее значение по выборке. \n",
    "- Доля 2к и 3к квартир  в центре города на рынке выше, чем по всей территории, где в выборке преобладают 1к.  "
   ]
  },
  {
   "cell_type": "code",
   "execution_count": null,
   "metadata": {},
   "outputs": [],
   "source": []
  }
 ],
 "metadata": {
  "ExecuteTimeLog": [
   {
    "duration": 278,
    "start_time": "2022-03-07T12:25:37.595Z"
   },
   {
    "duration": 215,
    "start_time": "2022-03-07T12:26:07.687Z"
   },
   {
    "duration": 641,
    "start_time": "2022-03-07T12:26:14.368Z"
   },
   {
    "duration": 73,
    "start_time": "2022-03-07T12:26:15.011Z"
   },
   {
    "duration": 90,
    "start_time": "2022-03-07T12:36:59.895Z"
   },
   {
    "duration": 12,
    "start_time": "2022-03-07T12:43:10.331Z"
   },
   {
    "duration": 77,
    "start_time": "2022-03-07T12:53:55.981Z"
   },
   {
    "duration": 9,
    "start_time": "2022-03-07T13:11:12.323Z"
   },
   {
    "duration": 28,
    "start_time": "2022-03-07T13:15:13.049Z"
   },
   {
    "duration": 106,
    "start_time": "2022-03-07T15:38:48.194Z"
   },
   {
    "duration": 14,
    "start_time": "2022-03-07T15:38:52.265Z"
   },
   {
    "duration": 7,
    "start_time": "2022-03-07T18:17:13.636Z"
   },
   {
    "duration": 6,
    "start_time": "2022-03-07T18:17:39.762Z"
   },
   {
    "duration": 6,
    "start_time": "2022-03-07T18:17:57.126Z"
   },
   {
    "duration": 6,
    "start_time": "2022-03-07T18:18:30.232Z"
   },
   {
    "duration": 6,
    "start_time": "2022-03-07T18:19:55.891Z"
   },
   {
    "duration": 422,
    "start_time": "2022-03-07T18:21:46.063Z"
   },
   {
    "duration": 81,
    "start_time": "2022-03-07T18:22:14.234Z"
   },
   {
    "duration": 227,
    "start_time": "2022-03-07T18:23:20.085Z"
   },
   {
    "duration": 40,
    "start_time": "2022-03-07T18:27:15.552Z"
   },
   {
    "duration": 63,
    "start_time": "2022-03-07T18:31:05.927Z"
   },
   {
    "duration": 44,
    "start_time": "2022-03-07T18:31:52.365Z"
   },
   {
    "duration": 76,
    "start_time": "2022-03-07T18:32:36.531Z"
   },
   {
    "duration": 81,
    "start_time": "2022-03-07T18:32:45.137Z"
   },
   {
    "duration": 80,
    "start_time": "2022-03-07T18:35:13.421Z"
   },
   {
    "duration": 606,
    "start_time": "2022-03-07T18:35:25.295Z"
   },
   {
    "duration": 72,
    "start_time": "2022-03-07T18:35:25.903Z"
   },
   {
    "duration": 96,
    "start_time": "2022-03-07T18:35:25.977Z"
   },
   {
    "duration": 12,
    "start_time": "2022-03-07T18:35:26.075Z"
   },
   {
    "duration": 12,
    "start_time": "2022-03-07T18:35:26.101Z"
   },
   {
    "duration": 27,
    "start_time": "2022-03-07T18:35:26.115Z"
   },
   {
    "duration": 98,
    "start_time": "2022-03-07T18:35:26.145Z"
   },
   {
    "duration": 72,
    "start_time": "2022-03-07T18:35:26.245Z"
   },
   {
    "duration": 41,
    "start_time": "2022-03-07T18:37:44.300Z"
   },
   {
    "duration": 27,
    "start_time": "2022-03-07T18:38:36.548Z"
   },
   {
    "duration": 19,
    "start_time": "2022-03-07T18:40:26.860Z"
   },
   {
    "duration": 42,
    "start_time": "2022-03-07T18:41:30.712Z"
   },
   {
    "duration": 17,
    "start_time": "2022-03-07T18:43:31.343Z"
   },
   {
    "duration": 39,
    "start_time": "2022-03-07T18:43:59.930Z"
   },
   {
    "duration": 17,
    "start_time": "2022-03-07T18:44:32.662Z"
   },
   {
    "duration": 17,
    "start_time": "2022-03-07T18:45:16.438Z"
   },
   {
    "duration": 4220,
    "start_time": "2022-03-07T18:45:51.745Z"
   },
   {
    "duration": 74,
    "start_time": "2022-03-07T18:46:33.694Z"
   },
   {
    "duration": 19,
    "start_time": "2022-03-07T18:46:40.777Z"
   },
   {
    "duration": 41,
    "start_time": "2022-03-07T18:46:49.312Z"
   },
   {
    "duration": 46,
    "start_time": "2022-03-07T18:47:05.545Z"
   },
   {
    "duration": 827,
    "start_time": "2022-03-07T19:31:15.545Z"
   },
   {
    "duration": 2255,
    "start_time": "2022-03-07T19:42:30.431Z"
   },
   {
    "duration": 2179,
    "start_time": "2022-03-07T19:43:27.780Z"
   },
   {
    "duration": 2458,
    "start_time": "2022-03-07T19:43:57.522Z"
   },
   {
    "duration": 20,
    "start_time": "2022-03-07T19:47:22.673Z"
   },
   {
    "duration": 8,
    "start_time": "2022-03-07T19:49:49.190Z"
   },
   {
    "duration": 6,
    "start_time": "2022-03-07T19:51:11.808Z"
   },
   {
    "duration": 6,
    "start_time": "2022-03-07T19:53:21.118Z"
   },
   {
    "duration": 7,
    "start_time": "2022-03-07T19:53:26.078Z"
   },
   {
    "duration": 216,
    "start_time": "2022-03-07T19:53:48.900Z"
   },
   {
    "duration": 6,
    "start_time": "2022-03-07T19:53:54.843Z"
   },
   {
    "duration": 49,
    "start_time": "2022-03-07T19:57:48.916Z"
   },
   {
    "duration": 74,
    "start_time": "2022-03-07T19:58:21.012Z"
   },
   {
    "duration": 238,
    "start_time": "2022-03-07T20:06:03.907Z"
   },
   {
    "duration": 260,
    "start_time": "2022-03-07T20:06:22.645Z"
   },
   {
    "duration": 12,
    "start_time": "2022-03-07T20:07:44.000Z"
   },
   {
    "duration": 13,
    "start_time": "2022-03-07T20:09:06.492Z"
   },
   {
    "duration": 12,
    "start_time": "2022-03-07T20:09:16.761Z"
   },
   {
    "duration": 614,
    "start_time": "2022-03-07T20:09:25.199Z"
   },
   {
    "duration": 72,
    "start_time": "2022-03-07T20:09:25.815Z"
   },
   {
    "duration": 95,
    "start_time": "2022-03-07T20:09:25.889Z"
   },
   {
    "duration": 22,
    "start_time": "2022-03-07T20:09:25.986Z"
   },
   {
    "duration": 12,
    "start_time": "2022-03-07T20:09:26.010Z"
   },
   {
    "duration": 29,
    "start_time": "2022-03-07T20:09:26.024Z"
   },
   {
    "duration": 103,
    "start_time": "2022-03-07T20:09:26.055Z"
   },
   {
    "duration": 53,
    "start_time": "2022-03-07T20:09:26.161Z"
   },
   {
    "duration": 2159,
    "start_time": "2022-03-07T20:09:26.216Z"
   },
   {
    "duration": 29,
    "start_time": "2022-03-07T20:09:28.378Z"
   },
   {
    "duration": 25,
    "start_time": "2022-03-07T20:09:28.410Z"
   },
   {
    "duration": 22,
    "start_time": "2022-03-07T20:09:28.437Z"
   },
   {
    "duration": 6,
    "start_time": "2022-03-07T20:09:28.462Z"
   },
   {
    "duration": 301,
    "start_time": "2022-03-07T20:09:28.502Z"
   },
   {
    "duration": 6,
    "start_time": "2022-03-07T20:10:22.735Z"
   },
   {
    "duration": 5,
    "start_time": "2022-03-07T20:10:29.773Z"
   },
   {
    "duration": 6,
    "start_time": "2022-03-07T20:10:44.005Z"
   },
   {
    "duration": 5,
    "start_time": "2022-03-07T20:10:53.041Z"
   },
   {
    "duration": 773,
    "start_time": "2022-03-07T20:10:59.956Z"
   },
   {
    "duration": 80,
    "start_time": "2022-03-07T20:11:00.731Z"
   },
   {
    "duration": 122,
    "start_time": "2022-03-07T20:11:00.813Z"
   },
   {
    "duration": 15,
    "start_time": "2022-03-07T20:11:00.938Z"
   },
   {
    "duration": 26,
    "start_time": "2022-03-07T20:11:00.955Z"
   },
   {
    "duration": 49,
    "start_time": "2022-03-07T20:11:00.983Z"
   },
   {
    "duration": 110,
    "start_time": "2022-03-07T20:11:01.035Z"
   },
   {
    "duration": 55,
    "start_time": "2022-03-07T20:11:01.148Z"
   },
   {
    "duration": 2552,
    "start_time": "2022-03-07T20:11:01.205Z"
   },
   {
    "duration": 18,
    "start_time": "2022-03-07T20:11:03.759Z"
   },
   {
    "duration": 38,
    "start_time": "2022-03-07T20:11:03.779Z"
   },
   {
    "duration": 12,
    "start_time": "2022-03-07T20:11:03.820Z"
   },
   {
    "duration": 302,
    "start_time": "2022-03-07T20:11:03.834Z"
   },
   {
    "duration": 5550,
    "start_time": "2022-03-07T20:13:45.806Z"
   },
   {
    "duration": 586,
    "start_time": "2022-03-07T20:13:55.228Z"
   },
   {
    "duration": 68,
    "start_time": "2022-03-07T20:13:55.816Z"
   },
   {
    "duration": 94,
    "start_time": "2022-03-07T20:13:55.887Z"
   },
   {
    "duration": 21,
    "start_time": "2022-03-07T20:13:55.983Z"
   },
   {
    "duration": 10,
    "start_time": "2022-03-07T20:13:56.006Z"
   },
   {
    "duration": 29,
    "start_time": "2022-03-07T20:13:56.018Z"
   },
   {
    "duration": 97,
    "start_time": "2022-03-07T20:13:56.049Z"
   },
   {
    "duration": 52,
    "start_time": "2022-03-07T20:13:56.150Z"
   },
   {
    "duration": 2082,
    "start_time": "2022-03-07T20:13:56.204Z"
   },
   {
    "duration": 28,
    "start_time": "2022-03-07T20:13:58.289Z"
   },
   {
    "duration": 19,
    "start_time": "2022-03-07T20:13:58.319Z"
   },
   {
    "duration": 5664,
    "start_time": "2022-03-07T20:13:58.340Z"
   },
   {
    "duration": -923,
    "start_time": "2022-03-07T20:14:04.929Z"
   },
   {
    "duration": -929,
    "start_time": "2022-03-07T20:14:04.936Z"
   },
   {
    "duration": 5639,
    "start_time": "2022-03-07T20:16:12.225Z"
   },
   {
    "duration": 7,
    "start_time": "2022-03-07T20:16:20.265Z"
   },
   {
    "duration": 5,
    "start_time": "2022-03-07T20:17:04.829Z"
   },
   {
    "duration": 4,
    "start_time": "2022-03-07T20:17:08.001Z"
   },
   {
    "duration": 585,
    "start_time": "2022-03-07T20:17:24.541Z"
   },
   {
    "duration": 73,
    "start_time": "2022-03-07T20:17:25.129Z"
   },
   {
    "duration": 104,
    "start_time": "2022-03-07T20:17:25.204Z"
   },
   {
    "duration": 14,
    "start_time": "2022-03-07T20:17:25.311Z"
   },
   {
    "duration": 13,
    "start_time": "2022-03-07T20:17:25.327Z"
   },
   {
    "duration": 59,
    "start_time": "2022-03-07T20:17:25.343Z"
   },
   {
    "duration": 75,
    "start_time": "2022-03-07T20:17:25.405Z"
   },
   {
    "duration": 57,
    "start_time": "2022-03-07T20:17:25.484Z"
   },
   {
    "duration": 2221,
    "start_time": "2022-03-07T20:17:25.544Z"
   },
   {
    "duration": 5,
    "start_time": "2022-03-07T20:17:27.767Z"
   },
   {
    "duration": 28,
    "start_time": "2022-03-07T20:17:27.773Z"
   },
   {
    "duration": 8,
    "start_time": "2022-03-07T20:17:27.803Z"
   },
   {
    "duration": 8,
    "start_time": "2022-03-07T20:17:27.813Z"
   },
   {
    "duration": 303,
    "start_time": "2022-03-07T20:17:27.823Z"
   },
   {
    "duration": 375,
    "start_time": "2022-03-08T06:41:17.759Z"
   },
   {
    "duration": 819,
    "start_time": "2022-03-08T06:41:25.097Z"
   },
   {
    "duration": 86,
    "start_time": "2022-03-08T06:41:25.919Z"
   },
   {
    "duration": 116,
    "start_time": "2022-03-08T06:41:26.008Z"
   },
   {
    "duration": 18,
    "start_time": "2022-03-08T06:41:26.128Z"
   },
   {
    "duration": 46,
    "start_time": "2022-03-08T06:41:26.149Z"
   },
   {
    "duration": 37,
    "start_time": "2022-03-08T06:41:26.197Z"
   },
   {
    "duration": 121,
    "start_time": "2022-03-08T06:41:26.236Z"
   },
   {
    "duration": 68,
    "start_time": "2022-03-08T06:41:26.360Z"
   },
   {
    "duration": 3065,
    "start_time": "2022-03-08T06:41:26.431Z"
   },
   {
    "duration": 5,
    "start_time": "2022-03-08T06:41:29.498Z"
   },
   {
    "duration": 18,
    "start_time": "2022-03-08T06:41:29.506Z"
   },
   {
    "duration": 23,
    "start_time": "2022-03-08T06:41:29.526Z"
   },
   {
    "duration": 38,
    "start_time": "2022-03-08T06:41:29.552Z"
   },
   {
    "duration": 403,
    "start_time": "2022-03-08T06:41:29.593Z"
   },
   {
    "duration": 25,
    "start_time": "2022-03-08T06:53:41.120Z"
   },
   {
    "duration": 33,
    "start_time": "2022-03-08T06:54:23.227Z"
   },
   {
    "duration": 7,
    "start_time": "2022-03-08T06:55:15.643Z"
   },
   {
    "duration": 7,
    "start_time": "2022-03-08T06:55:32.059Z"
   },
   {
    "duration": 9,
    "start_time": "2022-03-08T06:57:09.775Z"
   },
   {
    "duration": 591,
    "start_time": "2022-03-08T06:58:14.235Z"
   },
   {
    "duration": 10,
    "start_time": "2022-03-08T07:00:54.353Z"
   },
   {
    "duration": 8,
    "start_time": "2022-03-08T07:01:02.011Z"
   },
   {
    "duration": 7,
    "start_time": "2022-03-08T07:01:05.022Z"
   },
   {
    "duration": 8,
    "start_time": "2022-03-08T07:01:08.116Z"
   },
   {
    "duration": 735,
    "start_time": "2022-03-08T07:01:16.881Z"
   },
   {
    "duration": 86,
    "start_time": "2022-03-08T07:01:17.619Z"
   },
   {
    "duration": 121,
    "start_time": "2022-03-08T07:01:17.709Z"
   },
   {
    "duration": 15,
    "start_time": "2022-03-08T07:01:17.833Z"
   },
   {
    "duration": 37,
    "start_time": "2022-03-08T07:01:17.850Z"
   },
   {
    "duration": 36,
    "start_time": "2022-03-08T07:01:17.889Z"
   },
   {
    "duration": 122,
    "start_time": "2022-03-08T07:01:17.927Z"
   },
   {
    "duration": 68,
    "start_time": "2022-03-08T07:01:18.053Z"
   },
   {
    "duration": 2746,
    "start_time": "2022-03-08T07:01:18.123Z"
   },
   {
    "duration": 20,
    "start_time": "2022-03-08T07:01:20.871Z"
   },
   {
    "duration": 21,
    "start_time": "2022-03-08T07:01:20.894Z"
   },
   {
    "duration": 12,
    "start_time": "2022-03-08T07:01:20.918Z"
   },
   {
    "duration": 13,
    "start_time": "2022-03-08T07:01:20.933Z"
   },
   {
    "duration": 9,
    "start_time": "2022-03-08T07:01:54.584Z"
   },
   {
    "duration": 11,
    "start_time": "2022-03-08T07:02:52.940Z"
   },
   {
    "duration": 12,
    "start_time": "2022-03-08T07:22:35.716Z"
   },
   {
    "duration": 320,
    "start_time": "2022-03-08T07:24:46.677Z"
   },
   {
    "duration": 11,
    "start_time": "2022-03-08T07:25:01.422Z"
   },
   {
    "duration": 15,
    "start_time": "2022-03-08T07:25:24.707Z"
   },
   {
    "duration": 8,
    "start_time": "2022-03-08T07:38:40.631Z"
   },
   {
    "duration": 7,
    "start_time": "2022-03-08T07:39:12.659Z"
   },
   {
    "duration": 8,
    "start_time": "2022-03-08T07:39:19.589Z"
   },
   {
    "duration": 721,
    "start_time": "2022-03-08T07:39:29.223Z"
   },
   {
    "duration": 87,
    "start_time": "2022-03-08T07:39:29.946Z"
   },
   {
    "duration": 116,
    "start_time": "2022-03-08T07:39:30.036Z"
   },
   {
    "duration": 15,
    "start_time": "2022-03-08T07:39:30.154Z"
   },
   {
    "duration": 16,
    "start_time": "2022-03-08T07:39:30.188Z"
   },
   {
    "duration": 38,
    "start_time": "2022-03-08T07:39:30.206Z"
   },
   {
    "duration": 143,
    "start_time": "2022-03-08T07:39:30.246Z"
   },
   {
    "duration": 61,
    "start_time": "2022-03-08T07:39:30.391Z"
   },
   {
    "duration": 3008,
    "start_time": "2022-03-08T07:39:30.455Z"
   },
   {
    "duration": 24,
    "start_time": "2022-03-08T07:39:33.466Z"
   },
   {
    "duration": 11,
    "start_time": "2022-03-08T07:39:33.493Z"
   },
   {
    "duration": 18,
    "start_time": "2022-03-08T07:39:33.506Z"
   },
   {
    "duration": 7,
    "start_time": "2022-03-08T07:39:33.526Z"
   },
   {
    "duration": 318,
    "start_time": "2022-03-08T07:48:12.762Z"
   },
   {
    "duration": 18,
    "start_time": "2022-03-08T07:49:03.310Z"
   },
   {
    "duration": 29,
    "start_time": "2022-03-08T07:49:21.889Z"
   },
   {
    "duration": 28,
    "start_time": "2022-03-08T07:49:36.964Z"
   },
   {
    "duration": 716,
    "start_time": "2022-03-08T07:49:50.803Z"
   },
   {
    "duration": 92,
    "start_time": "2022-03-08T07:49:51.522Z"
   },
   {
    "duration": 125,
    "start_time": "2022-03-08T07:49:51.618Z"
   },
   {
    "duration": 17,
    "start_time": "2022-03-08T07:49:51.747Z"
   },
   {
    "duration": 32,
    "start_time": "2022-03-08T07:49:51.767Z"
   },
   {
    "duration": 39,
    "start_time": "2022-03-08T07:49:51.802Z"
   },
   {
    "duration": 134,
    "start_time": "2022-03-08T07:49:51.844Z"
   },
   {
    "duration": 58,
    "start_time": "2022-03-08T07:49:51.988Z"
   },
   {
    "duration": 2994,
    "start_time": "2022-03-08T07:49:52.048Z"
   },
   {
    "duration": 9,
    "start_time": "2022-03-08T07:49:55.045Z"
   },
   {
    "duration": 41,
    "start_time": "2022-03-08T07:49:55.057Z"
   },
   {
    "duration": 18,
    "start_time": "2022-03-08T07:49:55.100Z"
   },
   {
    "duration": 31,
    "start_time": "2022-03-08T07:49:55.120Z"
   },
   {
    "duration": 37,
    "start_time": "2022-03-08T07:49:55.153Z"
   },
   {
    "duration": 17,
    "start_time": "2022-03-08T07:53:21.899Z"
   },
   {
    "duration": 18,
    "start_time": "2022-03-08T07:53:25.846Z"
   },
   {
    "duration": 316,
    "start_time": "2022-03-08T08:06:33.232Z"
   },
   {
    "duration": 21,
    "start_time": "2022-03-08T08:06:40.394Z"
   },
   {
    "duration": 10,
    "start_time": "2022-03-08T08:17:37.351Z"
   },
   {
    "duration": 229,
    "start_time": "2022-03-08T08:27:31.916Z"
   },
   {
    "duration": 754,
    "start_time": "2022-03-08T08:27:40.281Z"
   },
   {
    "duration": 90,
    "start_time": "2022-03-08T08:27:41.038Z"
   },
   {
    "duration": 124,
    "start_time": "2022-03-08T08:27:41.131Z"
   },
   {
    "duration": 15,
    "start_time": "2022-03-08T08:27:41.258Z"
   },
   {
    "duration": 16,
    "start_time": "2022-03-08T08:27:41.287Z"
   },
   {
    "duration": 43,
    "start_time": "2022-03-08T08:27:41.306Z"
   },
   {
    "duration": 122,
    "start_time": "2022-03-08T08:27:41.351Z"
   },
   {
    "duration": 59,
    "start_time": "2022-03-08T08:27:41.487Z"
   },
   {
    "duration": 2793,
    "start_time": "2022-03-08T08:27:41.548Z"
   },
   {
    "duration": 9,
    "start_time": "2022-03-08T08:27:44.343Z"
   },
   {
    "duration": 33,
    "start_time": "2022-03-08T08:27:44.354Z"
   },
   {
    "duration": 20,
    "start_time": "2022-03-08T08:27:44.390Z"
   },
   {
    "duration": 17,
    "start_time": "2022-03-08T08:27:44.413Z"
   },
   {
    "duration": 7,
    "start_time": "2022-03-08T08:27:44.433Z"
   },
   {
    "duration": 366,
    "start_time": "2022-03-08T08:27:44.442Z"
   },
   {
    "duration": 2736,
    "start_time": "2022-03-08T08:28:08.290Z"
   },
   {
    "duration": 8,
    "start_time": "2022-03-08T08:31:55.224Z"
   },
   {
    "duration": 2846,
    "start_time": "2022-03-08T08:33:30.394Z"
   },
   {
    "duration": 8,
    "start_time": "2022-03-08T08:34:58.769Z"
   },
   {
    "duration": 6,
    "start_time": "2022-03-08T08:41:05.532Z"
   },
   {
    "duration": 9,
    "start_time": "2022-03-08T08:41:45.353Z"
   },
   {
    "duration": 730,
    "start_time": "2022-03-08T08:41:58.409Z"
   },
   {
    "duration": 88,
    "start_time": "2022-03-08T08:41:59.141Z"
   },
   {
    "duration": 119,
    "start_time": "2022-03-08T08:41:59.231Z"
   },
   {
    "duration": 14,
    "start_time": "2022-03-08T08:41:59.353Z"
   },
   {
    "duration": 27,
    "start_time": "2022-03-08T08:41:59.369Z"
   },
   {
    "duration": 37,
    "start_time": "2022-03-08T08:41:59.399Z"
   },
   {
    "duration": 122,
    "start_time": "2022-03-08T08:41:59.439Z"
   },
   {
    "duration": 69,
    "start_time": "2022-03-08T08:41:59.564Z"
   },
   {
    "duration": 2692,
    "start_time": "2022-03-08T08:41:59.635Z"
   },
   {
    "duration": 8,
    "start_time": "2022-03-08T08:42:02.329Z"
   },
   {
    "duration": 20,
    "start_time": "2022-03-08T08:42:02.339Z"
   },
   {
    "duration": 41,
    "start_time": "2022-03-08T08:42:02.361Z"
   },
   {
    "duration": 17,
    "start_time": "2022-03-08T08:42:02.404Z"
   },
   {
    "duration": 18,
    "start_time": "2022-03-08T08:42:02.423Z"
   },
   {
    "duration": 3148,
    "start_time": "2022-03-08T08:42:02.443Z"
   },
   {
    "duration": 6,
    "start_time": "2022-03-08T08:42:05.594Z"
   },
   {
    "duration": 3121,
    "start_time": "2022-03-08T08:42:05.602Z"
   },
   {
    "duration": 9,
    "start_time": "2022-03-08T08:42:08.726Z"
   },
   {
    "duration": 10,
    "start_time": "2022-03-08T08:42:08.738Z"
   },
   {
    "duration": 2777,
    "start_time": "2022-03-08T08:45:36.486Z"
   },
   {
    "duration": 2716,
    "start_time": "2022-03-08T08:46:17.405Z"
   },
   {
    "duration": 77,
    "start_time": "2022-03-08T08:48:38.790Z"
   },
   {
    "duration": 100,
    "start_time": "2022-03-08T08:49:00.266Z"
   },
   {
    "duration": 115,
    "start_time": "2022-03-08T08:49:10.740Z"
   },
   {
    "duration": 78,
    "start_time": "2022-03-08T08:49:24.178Z"
   },
   {
    "duration": 76,
    "start_time": "2022-03-08T08:49:36.462Z"
   },
   {
    "duration": 92,
    "start_time": "2022-03-08T08:49:46.339Z"
   },
   {
    "duration": 94,
    "start_time": "2022-03-08T08:51:10.070Z"
   },
   {
    "duration": 87,
    "start_time": "2022-03-08T08:51:18.677Z"
   },
   {
    "duration": 96,
    "start_time": "2022-03-08T08:51:38.131Z"
   },
   {
    "duration": 93,
    "start_time": "2022-03-08T08:52:30.070Z"
   },
   {
    "duration": 32,
    "start_time": "2022-03-08T08:52:53.426Z"
   },
   {
    "duration": 56,
    "start_time": "2022-03-08T08:53:14.572Z"
   },
   {
    "duration": 106,
    "start_time": "2022-03-08T08:57:24.358Z"
   },
   {
    "duration": 82,
    "start_time": "2022-03-08T08:58:28.174Z"
   },
   {
    "duration": 77,
    "start_time": "2022-03-08T08:58:37.077Z"
   },
   {
    "duration": 16,
    "start_time": "2022-03-08T08:58:51.621Z"
   },
   {
    "duration": 17,
    "start_time": "2022-03-08T08:59:44.943Z"
   },
   {
    "duration": 16,
    "start_time": "2022-03-08T09:01:04.016Z"
   },
   {
    "duration": 16,
    "start_time": "2022-03-08T09:02:00.928Z"
   },
   {
    "duration": 17,
    "start_time": "2022-03-08T09:02:22.741Z"
   },
   {
    "duration": 8,
    "start_time": "2022-03-08T09:09:27.992Z"
   },
   {
    "duration": 15,
    "start_time": "2022-03-08T09:10:50.530Z"
   },
   {
    "duration": 669,
    "start_time": "2022-03-08T09:11:06.932Z"
   },
   {
    "duration": 92,
    "start_time": "2022-03-08T09:11:07.604Z"
   },
   {
    "duration": 114,
    "start_time": "2022-03-08T09:11:07.699Z"
   },
   {
    "duration": 14,
    "start_time": "2022-03-08T09:11:07.815Z"
   },
   {
    "duration": 13,
    "start_time": "2022-03-08T09:11:07.831Z"
   },
   {
    "duration": 65,
    "start_time": "2022-03-08T09:11:07.846Z"
   },
   {
    "duration": 114,
    "start_time": "2022-03-08T09:11:07.913Z"
   },
   {
    "duration": 66,
    "start_time": "2022-03-08T09:11:08.030Z"
   },
   {
    "duration": 2973,
    "start_time": "2022-03-08T09:11:08.099Z"
   },
   {
    "duration": 20,
    "start_time": "2022-03-08T09:11:11.074Z"
   },
   {
    "duration": 16,
    "start_time": "2022-03-08T09:11:11.098Z"
   },
   {
    "duration": 29,
    "start_time": "2022-03-08T09:11:11.116Z"
   },
   {
    "duration": 52,
    "start_time": "2022-03-08T09:11:11.147Z"
   },
   {
    "duration": 8,
    "start_time": "2022-03-08T09:11:11.201Z"
   },
   {
    "duration": 3076,
    "start_time": "2022-03-08T09:11:11.211Z"
   },
   {
    "duration": 8,
    "start_time": "2022-03-08T09:11:14.289Z"
   },
   {
    "duration": 3067,
    "start_time": "2022-03-08T09:11:14.299Z"
   },
   {
    "duration": 22,
    "start_time": "2022-03-08T09:11:17.369Z"
   },
   {
    "duration": 9,
    "start_time": "2022-03-08T09:11:17.393Z"
   },
   {
    "duration": 17,
    "start_time": "2022-03-08T09:11:17.405Z"
   },
   {
    "duration": 7,
    "start_time": "2022-03-08T09:11:17.424Z"
   },
   {
    "duration": 61,
    "start_time": "2022-03-08T09:11:17.433Z"
   },
   {
    "duration": 709,
    "start_time": "2022-03-08T10:00:44.917Z"
   },
   {
    "duration": 87,
    "start_time": "2022-03-08T10:00:45.629Z"
   },
   {
    "duration": 120,
    "start_time": "2022-03-08T10:00:45.719Z"
   },
   {
    "duration": 15,
    "start_time": "2022-03-08T10:00:45.843Z"
   },
   {
    "duration": 34,
    "start_time": "2022-03-08T10:00:45.860Z"
   },
   {
    "duration": 39,
    "start_time": "2022-03-08T10:00:45.896Z"
   },
   {
    "duration": 134,
    "start_time": "2022-03-08T10:00:45.937Z"
   },
   {
    "duration": 68,
    "start_time": "2022-03-08T10:00:46.074Z"
   },
   {
    "duration": 2729,
    "start_time": "2022-03-08T10:00:46.148Z"
   },
   {
    "duration": 13,
    "start_time": "2022-03-08T10:00:48.879Z"
   },
   {
    "duration": 21,
    "start_time": "2022-03-08T10:00:48.894Z"
   },
   {
    "duration": 22,
    "start_time": "2022-03-08T10:00:48.917Z"
   },
   {
    "duration": 50,
    "start_time": "2022-03-08T10:00:48.941Z"
   },
   {
    "duration": 8,
    "start_time": "2022-03-08T10:00:48.994Z"
   },
   {
    "duration": 2992,
    "start_time": "2022-03-08T10:00:49.004Z"
   },
   {
    "duration": 7,
    "start_time": "2022-03-08T10:00:51.998Z"
   },
   {
    "duration": 713,
    "start_time": "2022-03-08T10:00:56.589Z"
   },
   {
    "duration": 83,
    "start_time": "2022-03-08T10:00:57.305Z"
   },
   {
    "duration": 122,
    "start_time": "2022-03-08T10:00:57.392Z"
   },
   {
    "duration": 15,
    "start_time": "2022-03-08T10:00:57.517Z"
   },
   {
    "duration": 14,
    "start_time": "2022-03-08T10:00:57.534Z"
   },
   {
    "duration": 60,
    "start_time": "2022-03-08T10:00:57.550Z"
   },
   {
    "duration": 114,
    "start_time": "2022-03-08T10:00:57.612Z"
   },
   {
    "duration": 70,
    "start_time": "2022-03-08T10:00:57.733Z"
   },
   {
    "duration": 2675,
    "start_time": "2022-03-08T10:00:57.807Z"
   },
   {
    "duration": 9,
    "start_time": "2022-03-08T10:01:00.488Z"
   },
   {
    "duration": 46,
    "start_time": "2022-03-08T10:01:00.499Z"
   },
   {
    "duration": 28,
    "start_time": "2022-03-08T10:01:00.548Z"
   },
   {
    "duration": 28,
    "start_time": "2022-03-08T10:01:00.578Z"
   },
   {
    "duration": 30,
    "start_time": "2022-03-08T10:01:00.609Z"
   },
   {
    "duration": 3146,
    "start_time": "2022-03-08T10:01:00.641Z"
   },
   {
    "duration": 8,
    "start_time": "2022-03-08T10:01:03.789Z"
   },
   {
    "duration": 3089,
    "start_time": "2022-03-08T10:01:03.799Z"
   },
   {
    "duration": 7,
    "start_time": "2022-03-08T10:01:06.891Z"
   },
   {
    "duration": 9,
    "start_time": "2022-03-08T10:01:06.900Z"
   },
   {
    "duration": 17,
    "start_time": "2022-03-08T10:01:06.911Z"
   },
   {
    "duration": 13,
    "start_time": "2022-03-08T10:01:06.930Z"
   },
   {
    "duration": 48,
    "start_time": "2022-03-08T10:01:06.945Z"
   },
   {
    "duration": 15,
    "start_time": "2022-03-08T10:01:06.997Z"
   },
   {
    "duration": 15,
    "start_time": "2022-03-08T10:01:07.014Z"
   },
   {
    "duration": 17,
    "start_time": "2022-03-08T10:02:23.325Z"
   },
   {
    "duration": 8,
    "start_time": "2022-03-08T10:09:01.329Z"
   },
   {
    "duration": 7,
    "start_time": "2022-03-08T10:15:03.788Z"
   },
   {
    "duration": 17,
    "start_time": "2022-03-08T10:17:14.157Z"
   },
   {
    "duration": 68,
    "start_time": "2022-03-08T10:18:23.772Z"
   },
   {
    "duration": 10,
    "start_time": "2022-03-08T11:41:28.869Z"
   },
   {
    "duration": 80,
    "start_time": "2022-03-08T11:42:01.949Z"
   },
   {
    "duration": 5525,
    "start_time": "2022-03-08T11:57:30.985Z"
   },
   {
    "duration": 698,
    "start_time": "2022-03-08T11:57:52.922Z"
   },
   {
    "duration": 85,
    "start_time": "2022-03-08T11:57:53.622Z"
   },
   {
    "duration": 120,
    "start_time": "2022-03-08T11:57:53.711Z"
   },
   {
    "duration": 14,
    "start_time": "2022-03-08T11:57:53.834Z"
   },
   {
    "duration": 14,
    "start_time": "2022-03-08T11:57:53.851Z"
   },
   {
    "duration": 53,
    "start_time": "2022-03-08T11:57:53.867Z"
   },
   {
    "duration": 127,
    "start_time": "2022-03-08T11:57:53.922Z"
   },
   {
    "duration": 72,
    "start_time": "2022-03-08T11:57:54.052Z"
   },
   {
    "duration": 2802,
    "start_time": "2022-03-08T11:57:54.127Z"
   },
   {
    "duration": 9,
    "start_time": "2022-03-08T11:57:56.932Z"
   },
   {
    "duration": 15,
    "start_time": "2022-03-08T11:57:56.943Z"
   },
   {
    "duration": 19,
    "start_time": "2022-03-08T11:57:56.988Z"
   },
   {
    "duration": 20,
    "start_time": "2022-03-08T11:57:57.009Z"
   },
   {
    "duration": 18,
    "start_time": "2022-03-08T11:57:57.032Z"
   },
   {
    "duration": 3062,
    "start_time": "2022-03-08T11:57:57.053Z"
   },
   {
    "duration": 8,
    "start_time": "2022-03-08T11:58:00.118Z"
   },
   {
    "duration": 3201,
    "start_time": "2022-03-08T11:58:00.128Z"
   },
   {
    "duration": 8,
    "start_time": "2022-03-08T11:58:03.331Z"
   },
   {
    "duration": 11,
    "start_time": "2022-03-08T11:58:03.341Z"
   },
   {
    "duration": 48,
    "start_time": "2022-03-08T11:58:03.355Z"
   },
   {
    "duration": 14,
    "start_time": "2022-03-08T11:58:03.406Z"
   },
   {
    "duration": 7,
    "start_time": "2022-03-08T11:58:03.423Z"
   },
   {
    "duration": 54,
    "start_time": "2022-03-08T11:58:03.435Z"
   },
   {
    "duration": 17,
    "start_time": "2022-03-08T11:58:03.491Z"
   },
   {
    "duration": 7,
    "start_time": "2022-03-08T11:58:03.511Z"
   },
   {
    "duration": 106,
    "start_time": "2022-03-08T11:58:03.520Z"
   },
   {
    "duration": 78,
    "start_time": "2022-03-08T11:58:03.629Z"
   },
   {
    "duration": 5860,
    "start_time": "2022-03-08T11:58:03.710Z"
   },
   {
    "duration": 5925,
    "start_time": "2022-03-08T12:00:04.147Z"
   },
   {
    "duration": 6088,
    "start_time": "2022-03-08T12:01:25.387Z"
   },
   {
    "duration": 10,
    "start_time": "2022-03-08T12:02:06.332Z"
   },
   {
    "duration": 5819,
    "start_time": "2022-03-08T12:02:29.350Z"
   },
   {
    "duration": 715,
    "start_time": "2022-03-08T12:02:41.903Z"
   },
   {
    "duration": 93,
    "start_time": "2022-03-08T12:02:42.621Z"
   },
   {
    "duration": 123,
    "start_time": "2022-03-08T12:02:42.717Z"
   },
   {
    "duration": 14,
    "start_time": "2022-03-08T12:02:42.843Z"
   },
   {
    "duration": 29,
    "start_time": "2022-03-08T12:02:42.859Z"
   },
   {
    "duration": 37,
    "start_time": "2022-03-08T12:02:42.891Z"
   },
   {
    "duration": 127,
    "start_time": "2022-03-08T12:02:42.930Z"
   },
   {
    "duration": 64,
    "start_time": "2022-03-08T12:02:43.059Z"
   },
   {
    "duration": 2694,
    "start_time": "2022-03-08T12:02:43.127Z"
   },
   {
    "duration": 10,
    "start_time": "2022-03-08T12:02:45.824Z"
   },
   {
    "duration": 20,
    "start_time": "2022-03-08T12:02:45.836Z"
   },
   {
    "duration": 40,
    "start_time": "2022-03-08T12:02:45.858Z"
   },
   {
    "duration": 18,
    "start_time": "2022-03-08T12:02:45.900Z"
   },
   {
    "duration": 7,
    "start_time": "2022-03-08T12:02:45.920Z"
   },
   {
    "duration": 3289,
    "start_time": "2022-03-08T12:02:45.930Z"
   },
   {
    "duration": 8,
    "start_time": "2022-03-08T12:02:49.221Z"
   },
   {
    "duration": 3102,
    "start_time": "2022-03-08T12:02:49.231Z"
   },
   {
    "duration": 7,
    "start_time": "2022-03-08T12:02:52.335Z"
   },
   {
    "duration": 13,
    "start_time": "2022-03-08T12:02:52.344Z"
   },
   {
    "duration": 43,
    "start_time": "2022-03-08T12:02:52.359Z"
   },
   {
    "duration": 13,
    "start_time": "2022-03-08T12:02:52.404Z"
   },
   {
    "duration": 7,
    "start_time": "2022-03-08T12:02:52.419Z"
   },
   {
    "duration": 15,
    "start_time": "2022-03-08T12:02:52.428Z"
   },
   {
    "duration": 58,
    "start_time": "2022-03-08T12:02:52.445Z"
   },
   {
    "duration": 7,
    "start_time": "2022-03-08T12:02:52.505Z"
   },
   {
    "duration": 98,
    "start_time": "2022-03-08T12:02:52.514Z"
   },
   {
    "duration": 51,
    "start_time": "2022-03-08T12:02:52.616Z"
   },
   {
    "duration": 9,
    "start_time": "2022-03-08T12:02:52.687Z"
   },
   {
    "duration": 5397,
    "start_time": "2022-03-08T12:02:52.699Z"
   },
   {
    "duration": 5388,
    "start_time": "2022-03-08T12:05:00.415Z"
   },
   {
    "duration": 7,
    "start_time": "2022-03-08T12:08:17.067Z"
   },
   {
    "duration": 723,
    "start_time": "2022-03-08T12:09:36.243Z"
   },
   {
    "duration": 86,
    "start_time": "2022-03-08T12:09:36.968Z"
   },
   {
    "duration": 123,
    "start_time": "2022-03-08T12:09:37.057Z"
   },
   {
    "duration": 15,
    "start_time": "2022-03-08T12:09:37.187Z"
   },
   {
    "duration": 12,
    "start_time": "2022-03-08T12:09:37.204Z"
   },
   {
    "duration": 68,
    "start_time": "2022-03-08T12:09:37.219Z"
   },
   {
    "duration": 112,
    "start_time": "2022-03-08T12:09:37.289Z"
   },
   {
    "duration": 57,
    "start_time": "2022-03-08T12:09:37.404Z"
   },
   {
    "duration": 2833,
    "start_time": "2022-03-08T12:09:37.464Z"
   },
   {
    "duration": 9,
    "start_time": "2022-03-08T12:09:40.299Z"
   },
   {
    "duration": 14,
    "start_time": "2022-03-08T12:09:40.310Z"
   },
   {
    "duration": 18,
    "start_time": "2022-03-08T12:09:40.326Z"
   },
   {
    "duration": 56,
    "start_time": "2022-03-08T12:09:40.346Z"
   },
   {
    "duration": 8,
    "start_time": "2022-03-08T12:09:40.405Z"
   },
   {
    "duration": 3180,
    "start_time": "2022-03-08T12:09:40.415Z"
   },
   {
    "duration": 7,
    "start_time": "2022-03-08T12:09:43.598Z"
   },
   {
    "duration": 3666,
    "start_time": "2022-03-08T12:09:43.607Z"
   },
   {
    "duration": 8,
    "start_time": "2022-03-08T12:09:47.288Z"
   },
   {
    "duration": 24,
    "start_time": "2022-03-08T12:09:47.298Z"
   },
   {
    "duration": 37,
    "start_time": "2022-03-08T12:09:47.324Z"
   },
   {
    "duration": 27,
    "start_time": "2022-03-08T12:09:47.363Z"
   },
   {
    "duration": 16,
    "start_time": "2022-03-08T12:09:47.392Z"
   },
   {
    "duration": 26,
    "start_time": "2022-03-08T12:09:47.412Z"
   },
   {
    "duration": 31,
    "start_time": "2022-03-08T12:09:47.441Z"
   },
   {
    "duration": 21,
    "start_time": "2022-03-08T12:09:47.475Z"
   },
   {
    "duration": 94,
    "start_time": "2022-03-08T12:09:47.498Z"
   },
   {
    "duration": 51,
    "start_time": "2022-03-08T12:09:47.594Z"
   },
   {
    "duration": 40,
    "start_time": "2022-03-08T12:09:47.648Z"
   },
   {
    "duration": 8,
    "start_time": "2022-03-08T12:09:47.692Z"
   },
   {
    "duration": 5786,
    "start_time": "2022-03-08T12:09:47.703Z"
   },
   {
    "duration": 5550,
    "start_time": "2022-03-08T12:20:40.006Z"
   },
   {
    "duration": 5372,
    "start_time": "2022-03-08T12:20:51.109Z"
   },
   {
    "duration": 731,
    "start_time": "2022-03-08T12:21:02.843Z"
   },
   {
    "duration": 86,
    "start_time": "2022-03-08T12:21:03.576Z"
   },
   {
    "duration": 171,
    "start_time": "2022-03-08T12:21:03.671Z"
   },
   {
    "duration": 21,
    "start_time": "2022-03-08T12:21:03.846Z"
   },
   {
    "duration": 21,
    "start_time": "2022-03-08T12:21:03.887Z"
   },
   {
    "duration": 48,
    "start_time": "2022-03-08T12:21:03.911Z"
   },
   {
    "duration": 130,
    "start_time": "2022-03-08T12:21:03.963Z"
   },
   {
    "duration": 64,
    "start_time": "2022-03-08T12:21:04.097Z"
   },
   {
    "duration": 2696,
    "start_time": "2022-03-08T12:21:04.164Z"
   },
   {
    "duration": 24,
    "start_time": "2022-03-08T12:21:06.863Z"
   },
   {
    "duration": 12,
    "start_time": "2022-03-08T12:21:06.890Z"
   },
   {
    "duration": 17,
    "start_time": "2022-03-08T12:21:06.904Z"
   },
   {
    "duration": 19,
    "start_time": "2022-03-08T12:21:06.923Z"
   },
   {
    "duration": 45,
    "start_time": "2022-03-08T12:21:06.944Z"
   },
   {
    "duration": 3043,
    "start_time": "2022-03-08T12:21:06.991Z"
   },
   {
    "duration": 9,
    "start_time": "2022-03-08T12:21:10.037Z"
   },
   {
    "duration": 3013,
    "start_time": "2022-03-08T12:21:10.049Z"
   },
   {
    "duration": 26,
    "start_time": "2022-03-08T12:21:13.065Z"
   },
   {
    "duration": 13,
    "start_time": "2022-03-08T12:21:13.093Z"
   },
   {
    "duration": 17,
    "start_time": "2022-03-08T12:21:13.109Z"
   },
   {
    "duration": 12,
    "start_time": "2022-03-08T12:21:13.128Z"
   },
   {
    "duration": 43,
    "start_time": "2022-03-08T12:21:13.144Z"
   },
   {
    "duration": 16,
    "start_time": "2022-03-08T12:21:13.190Z"
   },
   {
    "duration": 17,
    "start_time": "2022-03-08T12:21:13.208Z"
   },
   {
    "duration": 7,
    "start_time": "2022-03-08T12:21:13.227Z"
   },
   {
    "duration": 114,
    "start_time": "2022-03-08T12:21:13.236Z"
   },
   {
    "duration": 68,
    "start_time": "2022-03-08T12:21:13.352Z"
   },
   {
    "duration": 10,
    "start_time": "2022-03-08T12:21:13.422Z"
   },
   {
    "duration": 8,
    "start_time": "2022-03-08T12:21:13.434Z"
   },
   {
    "duration": 5524,
    "start_time": "2022-03-08T12:21:13.444Z"
   },
   {
    "duration": 2953,
    "start_time": "2022-03-08T12:22:18.097Z"
   },
   {
    "duration": 854,
    "start_time": "2022-03-08T12:23:39.094Z"
   },
   {
    "duration": 89,
    "start_time": "2022-03-08T12:23:39.950Z"
   },
   {
    "duration": 120,
    "start_time": "2022-03-08T12:23:40.042Z"
   },
   {
    "duration": 23,
    "start_time": "2022-03-08T12:23:40.165Z"
   },
   {
    "duration": 17,
    "start_time": "2022-03-08T12:23:40.190Z"
   },
   {
    "duration": 40,
    "start_time": "2022-03-08T12:23:40.209Z"
   },
   {
    "duration": 172,
    "start_time": "2022-03-08T12:23:40.251Z"
   },
   {
    "duration": 69,
    "start_time": "2022-03-08T12:23:40.425Z"
   },
   {
    "duration": 2732,
    "start_time": "2022-03-08T12:23:40.498Z"
   },
   {
    "duration": 9,
    "start_time": "2022-03-08T12:23:43.233Z"
   },
   {
    "duration": 42,
    "start_time": "2022-03-08T12:23:43.245Z"
   },
   {
    "duration": 18,
    "start_time": "2022-03-08T12:23:43.290Z"
   },
   {
    "duration": 18,
    "start_time": "2022-03-08T12:23:43.311Z"
   },
   {
    "duration": 8,
    "start_time": "2022-03-08T12:23:43.331Z"
   },
   {
    "duration": 3032,
    "start_time": "2022-03-08T12:23:43.342Z"
   },
   {
    "duration": 15,
    "start_time": "2022-03-08T12:23:46.376Z"
   },
   {
    "duration": 3153,
    "start_time": "2022-03-08T12:23:46.394Z"
   },
   {
    "duration": 7,
    "start_time": "2022-03-08T12:23:49.549Z"
   },
   {
    "duration": 33,
    "start_time": "2022-03-08T12:23:49.558Z"
   },
   {
    "duration": 16,
    "start_time": "2022-03-08T12:23:49.593Z"
   },
   {
    "duration": 13,
    "start_time": "2022-03-08T12:23:49.611Z"
   },
   {
    "duration": 7,
    "start_time": "2022-03-08T12:23:49.626Z"
   },
   {
    "duration": 58,
    "start_time": "2022-03-08T12:23:49.635Z"
   },
   {
    "duration": 16,
    "start_time": "2022-03-08T12:23:49.695Z"
   },
   {
    "duration": 8,
    "start_time": "2022-03-08T12:23:49.713Z"
   },
   {
    "duration": 99,
    "start_time": "2022-03-08T12:23:49.723Z"
   },
   {
    "duration": 62,
    "start_time": "2022-03-08T12:23:49.827Z"
   },
   {
    "duration": 10,
    "start_time": "2022-03-08T12:23:49.892Z"
   },
   {
    "duration": 8,
    "start_time": "2022-03-08T12:23:49.904Z"
   },
   {
    "duration": 2887,
    "start_time": "2022-03-08T12:23:49.914Z"
   },
   {
    "duration": 2838,
    "start_time": "2022-03-08T12:26:35.397Z"
   },
   {
    "duration": 3241,
    "start_time": "2022-03-08T12:27:27.695Z"
   },
   {
    "duration": 725,
    "start_time": "2022-03-08T12:30:32.712Z"
   },
   {
    "duration": 86,
    "start_time": "2022-03-08T12:30:33.440Z"
   },
   {
    "duration": 126,
    "start_time": "2022-03-08T12:30:33.529Z"
   },
   {
    "duration": 35,
    "start_time": "2022-03-08T12:30:33.657Z"
   },
   {
    "duration": 13,
    "start_time": "2022-03-08T12:30:33.695Z"
   },
   {
    "duration": 45,
    "start_time": "2022-03-08T12:30:33.710Z"
   },
   {
    "duration": 130,
    "start_time": "2022-03-08T12:30:33.758Z"
   },
   {
    "duration": 60,
    "start_time": "2022-03-08T12:30:33.894Z"
   },
   {
    "duration": 2778,
    "start_time": "2022-03-08T12:30:33.958Z"
   },
   {
    "duration": 9,
    "start_time": "2022-03-08T12:30:36.738Z"
   },
   {
    "duration": 12,
    "start_time": "2022-03-08T12:30:36.750Z"
   },
   {
    "duration": 18,
    "start_time": "2022-03-08T12:30:36.786Z"
   },
   {
    "duration": 18,
    "start_time": "2022-03-08T12:30:36.806Z"
   },
   {
    "duration": 9,
    "start_time": "2022-03-08T12:30:36.826Z"
   },
   {
    "duration": 3164,
    "start_time": "2022-03-08T12:30:36.837Z"
   },
   {
    "duration": 7,
    "start_time": "2022-03-08T12:30:40.003Z"
   },
   {
    "duration": 3183,
    "start_time": "2022-03-08T12:30:40.012Z"
   },
   {
    "duration": 7,
    "start_time": "2022-03-08T12:30:43.198Z"
   },
   {
    "duration": 8,
    "start_time": "2022-03-08T12:30:43.208Z"
   },
   {
    "duration": 25,
    "start_time": "2022-03-08T12:30:43.219Z"
   },
   {
    "duration": 15,
    "start_time": "2022-03-08T12:30:43.286Z"
   },
   {
    "duration": 7,
    "start_time": "2022-03-08T12:30:43.304Z"
   },
   {
    "duration": 19,
    "start_time": "2022-03-08T12:30:43.315Z"
   },
   {
    "duration": 53,
    "start_time": "2022-03-08T12:30:43.336Z"
   },
   {
    "duration": 8,
    "start_time": "2022-03-08T12:30:43.392Z"
   },
   {
    "duration": 92,
    "start_time": "2022-03-08T12:30:43.403Z"
   },
   {
    "duration": 54,
    "start_time": "2022-03-08T12:30:43.498Z"
   },
   {
    "duration": 39,
    "start_time": "2022-03-08T12:30:43.555Z"
   },
   {
    "duration": 13,
    "start_time": "2022-03-08T12:30:43.596Z"
   },
   {
    "duration": 11,
    "start_time": "2022-03-08T12:30:43.611Z"
   },
   {
    "duration": 2902,
    "start_time": "2022-03-08T12:30:43.624Z"
   },
   {
    "duration": 2930,
    "start_time": "2022-03-08T12:31:52.438Z"
   },
   {
    "duration": 3069,
    "start_time": "2022-03-08T12:32:17.473Z"
   },
   {
    "duration": 2862,
    "start_time": "2022-03-08T12:32:26.421Z"
   },
   {
    "duration": 3007,
    "start_time": "2022-03-08T12:33:31.943Z"
   },
   {
    "duration": 771,
    "start_time": "2022-03-08T12:33:41.265Z"
   },
   {
    "duration": 87,
    "start_time": "2022-03-08T12:33:42.039Z"
   },
   {
    "duration": 122,
    "start_time": "2022-03-08T12:33:42.129Z"
   },
   {
    "duration": 15,
    "start_time": "2022-03-08T12:33:42.254Z"
   },
   {
    "duration": 18,
    "start_time": "2022-03-08T12:33:42.287Z"
   },
   {
    "duration": 38,
    "start_time": "2022-03-08T12:33:42.307Z"
   },
   {
    "duration": 130,
    "start_time": "2022-03-08T12:33:42.347Z"
   },
   {
    "duration": 62,
    "start_time": "2022-03-08T12:33:42.481Z"
   },
   {
    "duration": 2764,
    "start_time": "2022-03-08T12:33:42.546Z"
   },
   {
    "duration": 9,
    "start_time": "2022-03-08T12:33:45.313Z"
   },
   {
    "duration": 12,
    "start_time": "2022-03-08T12:33:45.324Z"
   },
   {
    "duration": 59,
    "start_time": "2022-03-08T12:33:45.339Z"
   },
   {
    "duration": 21,
    "start_time": "2022-03-08T12:33:45.401Z"
   },
   {
    "duration": 10,
    "start_time": "2022-03-08T12:33:45.425Z"
   },
   {
    "duration": 3267,
    "start_time": "2022-03-08T12:33:45.437Z"
   },
   {
    "duration": 9,
    "start_time": "2022-03-08T12:33:48.707Z"
   },
   {
    "duration": 3114,
    "start_time": "2022-03-08T12:33:48.719Z"
   },
   {
    "duration": 6,
    "start_time": "2022-03-08T12:33:51.835Z"
   },
   {
    "duration": 13,
    "start_time": "2022-03-08T12:33:51.844Z"
   },
   {
    "duration": 41,
    "start_time": "2022-03-08T12:33:51.860Z"
   },
   {
    "duration": 14,
    "start_time": "2022-03-08T12:33:51.903Z"
   },
   {
    "duration": 6,
    "start_time": "2022-03-08T12:33:51.919Z"
   },
   {
    "duration": 16,
    "start_time": "2022-03-08T12:33:51.930Z"
   },
   {
    "duration": 18,
    "start_time": "2022-03-08T12:33:51.988Z"
   },
   {
    "duration": 8,
    "start_time": "2022-03-08T12:33:52.008Z"
   },
   {
    "duration": 105,
    "start_time": "2022-03-08T12:33:52.018Z"
   },
   {
    "duration": 63,
    "start_time": "2022-03-08T12:33:52.125Z"
   },
   {
    "duration": 9,
    "start_time": "2022-03-08T12:33:52.191Z"
   },
   {
    "duration": 7,
    "start_time": "2022-03-08T12:33:52.202Z"
   },
   {
    "duration": 10,
    "start_time": "2022-03-08T12:33:52.211Z"
   },
   {
    "duration": 2951,
    "start_time": "2022-03-08T12:33:52.223Z"
   },
   {
    "duration": 2772,
    "start_time": "2022-03-08T12:35:13.200Z"
   },
   {
    "duration": 3167,
    "start_time": "2022-03-08T12:35:32.060Z"
   },
   {
    "duration": 2767,
    "start_time": "2022-03-08T12:35:45.460Z"
   },
   {
    "duration": 278,
    "start_time": "2022-03-08T12:36:53.976Z"
   },
   {
    "duration": 2928,
    "start_time": "2022-03-08T12:44:10.439Z"
   },
   {
    "duration": 2883,
    "start_time": "2022-03-08T12:44:18.341Z"
   },
   {
    "duration": 70,
    "start_time": "2022-03-08T13:05:22.741Z"
   },
   {
    "duration": 732,
    "start_time": "2022-03-08T13:05:31.616Z"
   },
   {
    "duration": 90,
    "start_time": "2022-03-08T13:05:32.351Z"
   },
   {
    "duration": 118,
    "start_time": "2022-03-08T13:05:32.444Z"
   },
   {
    "duration": 28,
    "start_time": "2022-03-08T13:05:32.564Z"
   },
   {
    "duration": 13,
    "start_time": "2022-03-08T13:05:32.594Z"
   },
   {
    "duration": 36,
    "start_time": "2022-03-08T13:05:32.609Z"
   },
   {
    "duration": 168,
    "start_time": "2022-03-08T13:05:32.647Z"
   },
   {
    "duration": 72,
    "start_time": "2022-03-08T13:05:32.819Z"
   },
   {
    "duration": 2813,
    "start_time": "2022-03-08T13:05:32.894Z"
   },
   {
    "duration": 12,
    "start_time": "2022-03-08T13:05:35.710Z"
   },
   {
    "duration": 15,
    "start_time": "2022-03-08T13:05:35.724Z"
   },
   {
    "duration": 61,
    "start_time": "2022-03-08T13:05:35.742Z"
   },
   {
    "duration": 20,
    "start_time": "2022-03-08T13:05:35.806Z"
   },
   {
    "duration": 7,
    "start_time": "2022-03-08T13:05:35.828Z"
   },
   {
    "duration": 3157,
    "start_time": "2022-03-08T13:05:35.838Z"
   },
   {
    "duration": 7,
    "start_time": "2022-03-08T13:05:38.998Z"
   },
   {
    "duration": 3055,
    "start_time": "2022-03-08T13:05:39.007Z"
   },
   {
    "duration": 23,
    "start_time": "2022-03-08T13:05:42.064Z"
   },
   {
    "duration": 9,
    "start_time": "2022-03-08T13:05:42.090Z"
   },
   {
    "duration": 18,
    "start_time": "2022-03-08T13:05:42.102Z"
   },
   {
    "duration": 16,
    "start_time": "2022-03-08T13:05:42.123Z"
   },
   {
    "duration": 8,
    "start_time": "2022-03-08T13:05:42.186Z"
   },
   {
    "duration": 16,
    "start_time": "2022-03-08T13:05:42.200Z"
   },
   {
    "duration": 19,
    "start_time": "2022-03-08T13:05:42.219Z"
   },
   {
    "duration": 47,
    "start_time": "2022-03-08T13:05:42.241Z"
   },
   {
    "duration": 98,
    "start_time": "2022-03-08T13:05:42.291Z"
   },
   {
    "duration": 52,
    "start_time": "2022-03-08T13:05:42.393Z"
   },
   {
    "duration": 41,
    "start_time": "2022-03-08T13:05:42.448Z"
   },
   {
    "duration": 9,
    "start_time": "2022-03-08T13:05:42.492Z"
   },
   {
    "duration": 75,
    "start_time": "2022-03-08T13:05:42.503Z"
   },
   {
    "duration": -1934,
    "start_time": "2022-03-08T13:05:44.515Z"
   },
   {
    "duration": 5,
    "start_time": "2022-03-08T13:06:03.827Z"
   },
   {
    "duration": 10,
    "start_time": "2022-03-08T13:06:07.840Z"
   },
   {
    "duration": 6,
    "start_time": "2022-03-08T13:07:02.816Z"
   },
   {
    "duration": 785,
    "start_time": "2022-03-08T13:07:31.675Z"
   },
   {
    "duration": 93,
    "start_time": "2022-03-08T13:07:32.464Z"
   },
   {
    "duration": 129,
    "start_time": "2022-03-08T13:07:32.561Z"
   },
   {
    "duration": 18,
    "start_time": "2022-03-08T13:07:32.693Z"
   },
   {
    "duration": 18,
    "start_time": "2022-03-08T13:07:32.714Z"
   },
   {
    "duration": 73,
    "start_time": "2022-03-08T13:07:32.734Z"
   },
   {
    "duration": 122,
    "start_time": "2022-03-08T13:07:32.810Z"
   },
   {
    "duration": 73,
    "start_time": "2022-03-08T13:07:32.936Z"
   },
   {
    "duration": 2829,
    "start_time": "2022-03-08T13:07:33.012Z"
   },
   {
    "duration": 11,
    "start_time": "2022-03-08T13:07:35.845Z"
   },
   {
    "duration": 38,
    "start_time": "2022-03-08T13:07:35.859Z"
   },
   {
    "duration": 18,
    "start_time": "2022-03-08T13:07:35.899Z"
   },
   {
    "duration": 19,
    "start_time": "2022-03-08T13:07:35.919Z"
   },
   {
    "duration": 49,
    "start_time": "2022-03-08T13:07:35.941Z"
   },
   {
    "duration": 3479,
    "start_time": "2022-03-08T13:07:35.993Z"
   },
   {
    "duration": 18,
    "start_time": "2022-03-08T13:07:39.474Z"
   },
   {
    "duration": 3469,
    "start_time": "2022-03-08T13:07:39.494Z"
   },
   {
    "duration": 23,
    "start_time": "2022-03-08T13:07:42.966Z"
   },
   {
    "duration": 8,
    "start_time": "2022-03-08T13:07:42.992Z"
   },
   {
    "duration": 24,
    "start_time": "2022-03-08T13:07:43.003Z"
   },
   {
    "duration": 17,
    "start_time": "2022-03-08T13:07:43.030Z"
   },
   {
    "duration": 43,
    "start_time": "2022-03-08T13:07:43.049Z"
   },
   {
    "duration": 24,
    "start_time": "2022-03-08T13:07:43.100Z"
   },
   {
    "duration": 25,
    "start_time": "2022-03-08T13:07:43.128Z"
   },
   {
    "duration": 39,
    "start_time": "2022-03-08T13:07:43.156Z"
   },
   {
    "duration": 101,
    "start_time": "2022-03-08T13:07:43.199Z"
   },
   {
    "duration": 50,
    "start_time": "2022-03-08T13:07:43.302Z"
   },
   {
    "duration": 34,
    "start_time": "2022-03-08T13:07:43.354Z"
   },
   {
    "duration": 7,
    "start_time": "2022-03-08T13:07:43.391Z"
   },
   {
    "duration": 9,
    "start_time": "2022-03-08T13:07:43.400Z"
   },
   {
    "duration": 310,
    "start_time": "2022-03-08T14:52:45.653Z"
   },
   {
    "duration": 55,
    "start_time": "2022-03-08T14:52:56.232Z"
   },
   {
    "duration": 62,
    "start_time": "2022-03-08T15:15:38.941Z"
   },
   {
    "duration": 64,
    "start_time": "2022-03-08T15:16:06.182Z"
   },
   {
    "duration": 20,
    "start_time": "2022-03-08T15:19:33.905Z"
   },
   {
    "duration": 17,
    "start_time": "2022-03-08T15:19:50.293Z"
   },
   {
    "duration": 493,
    "start_time": "2022-03-08T15:24:22.282Z"
   },
   {
    "duration": 454,
    "start_time": "2022-03-08T15:30:39.303Z"
   },
   {
    "duration": 83,
    "start_time": "2022-03-08T15:43:47.002Z"
   },
   {
    "duration": 7,
    "start_time": "2022-03-08T16:09:05.561Z"
   },
   {
    "duration": 780,
    "start_time": "2022-03-08T16:09:20.466Z"
   },
   {
    "duration": 89,
    "start_time": "2022-03-08T16:09:21.249Z"
   },
   {
    "duration": 118,
    "start_time": "2022-03-08T16:09:21.341Z"
   },
   {
    "duration": 27,
    "start_time": "2022-03-08T16:09:21.462Z"
   },
   {
    "duration": 16,
    "start_time": "2022-03-08T16:09:21.491Z"
   },
   {
    "duration": 43,
    "start_time": "2022-03-08T16:09:21.509Z"
   },
   {
    "duration": 134,
    "start_time": "2022-03-08T16:09:21.554Z"
   },
   {
    "duration": 60,
    "start_time": "2022-03-08T16:09:21.692Z"
   },
   {
    "duration": 2785,
    "start_time": "2022-03-08T16:09:21.755Z"
   },
   {
    "duration": 8,
    "start_time": "2022-03-08T16:09:24.543Z"
   },
   {
    "duration": 41,
    "start_time": "2022-03-08T16:09:24.553Z"
   },
   {
    "duration": 23,
    "start_time": "2022-03-08T16:09:24.596Z"
   },
   {
    "duration": 18,
    "start_time": "2022-03-08T16:09:24.621Z"
   },
   {
    "duration": 7,
    "start_time": "2022-03-08T16:09:24.641Z"
   },
   {
    "duration": 3159,
    "start_time": "2022-03-08T16:09:24.651Z"
   },
   {
    "duration": 8,
    "start_time": "2022-03-08T16:09:27.812Z"
   },
   {
    "duration": 3147,
    "start_time": "2022-03-08T16:09:27.822Z"
   },
   {
    "duration": 19,
    "start_time": "2022-03-08T16:09:30.972Z"
   },
   {
    "duration": 18,
    "start_time": "2022-03-08T16:09:30.993Z"
   },
   {
    "duration": 26,
    "start_time": "2022-03-08T16:09:31.014Z"
   },
   {
    "duration": 16,
    "start_time": "2022-03-08T16:09:31.043Z"
   },
   {
    "duration": 33,
    "start_time": "2022-03-08T16:09:31.061Z"
   },
   {
    "duration": 32,
    "start_time": "2022-03-08T16:09:31.099Z"
   },
   {
    "duration": 16,
    "start_time": "2022-03-08T16:09:31.134Z"
   },
   {
    "duration": 15,
    "start_time": "2022-03-08T16:09:31.152Z"
   },
   {
    "duration": 71,
    "start_time": "2022-03-08T16:09:31.187Z"
   },
   {
    "duration": 70,
    "start_time": "2022-03-08T16:09:31.260Z"
   },
   {
    "duration": 10,
    "start_time": "2022-03-08T16:09:31.332Z"
   },
   {
    "duration": 34,
    "start_time": "2022-03-08T16:09:31.344Z"
   },
   {
    "duration": 16,
    "start_time": "2022-03-08T16:09:31.380Z"
   },
   {
    "duration": 106,
    "start_time": "2022-03-08T16:09:31.398Z"
   },
   {
    "duration": 3,
    "start_time": "2022-03-08T16:09:31.506Z"
   },
   {
    "duration": 404,
    "start_time": "2022-03-08T16:20:27.532Z"
   },
   {
    "duration": 218,
    "start_time": "2022-03-08T16:20:42.672Z"
   },
   {
    "duration": 21,
    "start_time": "2022-03-08T16:33:27.696Z"
   },
   {
    "duration": 9,
    "start_time": "2022-03-08T17:18:23.284Z"
   },
   {
    "duration": 28,
    "start_time": "2022-03-08T17:21:10.140Z"
   },
   {
    "duration": 232,
    "start_time": "2022-03-08T17:22:11.811Z"
   },
   {
    "duration": 260,
    "start_time": "2022-03-08T17:22:32.374Z"
   },
   {
    "duration": 26,
    "start_time": "2022-03-08T17:22:47.042Z"
   },
   {
    "duration": 26,
    "start_time": "2022-03-08T17:27:54.838Z"
   },
   {
    "duration": 31,
    "start_time": "2022-03-08T17:41:58.202Z"
   },
   {
    "duration": 57,
    "start_time": "2022-03-08T17:44:25.029Z"
   },
   {
    "duration": 43,
    "start_time": "2022-03-08T17:45:48.144Z"
   },
   {
    "duration": 5253,
    "start_time": "2022-03-08T17:47:03.895Z"
   },
   {
    "duration": 5221,
    "start_time": "2022-03-08T17:47:09.690Z"
   },
   {
    "duration": 775,
    "start_time": "2022-03-08T17:47:18.885Z"
   },
   {
    "duration": 85,
    "start_time": "2022-03-08T17:47:19.662Z"
   },
   {
    "duration": 122,
    "start_time": "2022-03-08T17:47:19.750Z"
   },
   {
    "duration": 18,
    "start_time": "2022-03-08T17:47:19.875Z"
   },
   {
    "duration": 15,
    "start_time": "2022-03-08T17:47:19.896Z"
   },
   {
    "duration": 38,
    "start_time": "2022-03-08T17:47:19.913Z"
   },
   {
    "duration": 135,
    "start_time": "2022-03-08T17:47:19.953Z"
   },
   {
    "duration": 59,
    "start_time": "2022-03-08T17:47:20.092Z"
   },
   {
    "duration": 2849,
    "start_time": "2022-03-08T17:47:20.154Z"
   },
   {
    "duration": 9,
    "start_time": "2022-03-08T17:47:23.005Z"
   },
   {
    "duration": 16,
    "start_time": "2022-03-08T17:47:23.017Z"
   },
   {
    "duration": 60,
    "start_time": "2022-03-08T17:47:23.036Z"
   },
   {
    "duration": 21,
    "start_time": "2022-03-08T17:47:23.099Z"
   },
   {
    "duration": 12,
    "start_time": "2022-03-08T17:47:23.123Z"
   },
   {
    "duration": 3335,
    "start_time": "2022-03-08T17:47:23.138Z"
   },
   {
    "duration": 16,
    "start_time": "2022-03-08T17:47:26.475Z"
   },
   {
    "duration": 3233,
    "start_time": "2022-03-08T17:47:26.493Z"
   },
   {
    "duration": 9,
    "start_time": "2022-03-08T17:47:29.729Z"
   },
   {
    "duration": 10,
    "start_time": "2022-03-08T17:47:29.740Z"
   },
   {
    "duration": 18,
    "start_time": "2022-03-08T17:47:29.788Z"
   },
   {
    "duration": 13,
    "start_time": "2022-03-08T17:47:29.808Z"
   },
   {
    "duration": 8,
    "start_time": "2022-03-08T17:47:29.823Z"
   },
   {
    "duration": 57,
    "start_time": "2022-03-08T17:47:29.835Z"
   },
   {
    "duration": 17,
    "start_time": "2022-03-08T17:47:29.894Z"
   },
   {
    "duration": 7,
    "start_time": "2022-03-08T17:47:29.913Z"
   },
   {
    "duration": 109,
    "start_time": "2022-03-08T17:47:29.922Z"
   },
   {
    "duration": 60,
    "start_time": "2022-03-08T17:47:30.033Z"
   },
   {
    "duration": 10,
    "start_time": "2022-03-08T17:47:30.095Z"
   },
   {
    "duration": 14,
    "start_time": "2022-03-08T17:47:30.108Z"
   },
   {
    "duration": 10,
    "start_time": "2022-03-08T17:47:30.125Z"
   },
   {
    "duration": 138,
    "start_time": "2022-03-08T17:47:30.138Z"
   },
   {
    "duration": 21,
    "start_time": "2022-03-08T17:47:30.287Z"
   },
   {
    "duration": 33,
    "start_time": "2022-03-08T17:47:30.310Z"
   },
   {
    "duration": 5611,
    "start_time": "2022-03-08T17:47:30.346Z"
   },
   {
    "duration": 51,
    "start_time": "2022-03-08T17:48:28.489Z"
   },
   {
    "duration": 354,
    "start_time": "2022-03-08T18:32:51.332Z"
   },
   {
    "duration": 4,
    "start_time": "2022-03-08T18:34:45.350Z"
   },
   {
    "duration": 962,
    "start_time": "2022-03-08T18:36:16.512Z"
   },
   {
    "duration": 24,
    "start_time": "2022-03-08T18:45:04.190Z"
   },
   {
    "duration": 22,
    "start_time": "2022-03-08T18:47:12.061Z"
   },
   {
    "duration": 360,
    "start_time": "2022-03-08T18:53:17.340Z"
   },
   {
    "duration": 799,
    "start_time": "2022-03-08T19:12:44.589Z"
   },
   {
    "duration": 535,
    "start_time": "2022-03-08T19:12:58.935Z"
   },
   {
    "duration": 500,
    "start_time": "2022-03-08T19:13:07.158Z"
   },
   {
    "duration": 279,
    "start_time": "2022-03-08T19:13:25.046Z"
   },
   {
    "duration": 813,
    "start_time": "2022-03-08T19:13:45.847Z"
   },
   {
    "duration": 587,
    "start_time": "2022-03-08T19:14:29.306Z"
   },
   {
    "duration": 621,
    "start_time": "2022-03-08T19:15:00.046Z"
   },
   {
    "duration": 709,
    "start_time": "2022-03-08T19:15:16.490Z"
   },
   {
    "duration": 435,
    "start_time": "2022-03-08T19:15:37.499Z"
   },
   {
    "duration": 894,
    "start_time": "2022-03-08T19:18:20.793Z"
   },
   {
    "duration": 77,
    "start_time": "2022-03-08T19:18:21.690Z"
   },
   {
    "duration": 118,
    "start_time": "2022-03-08T19:18:21.770Z"
   },
   {
    "duration": 14,
    "start_time": "2022-03-08T19:18:21.891Z"
   },
   {
    "duration": 15,
    "start_time": "2022-03-08T19:18:21.907Z"
   },
   {
    "duration": 70,
    "start_time": "2022-03-08T19:18:21.924Z"
   },
   {
    "duration": 114,
    "start_time": "2022-03-08T19:18:21.997Z"
   },
   {
    "duration": 56,
    "start_time": "2022-03-08T19:18:22.116Z"
   },
   {
    "duration": 2928,
    "start_time": "2022-03-08T19:18:22.188Z"
   },
   {
    "duration": 10,
    "start_time": "2022-03-08T19:18:25.119Z"
   },
   {
    "duration": 16,
    "start_time": "2022-03-08T19:18:25.132Z"
   },
   {
    "duration": 20,
    "start_time": "2022-03-08T19:18:25.151Z"
   },
   {
    "duration": 17,
    "start_time": "2022-03-08T19:18:25.188Z"
   },
   {
    "duration": 8,
    "start_time": "2022-03-08T19:18:25.208Z"
   },
   {
    "duration": 3535,
    "start_time": "2022-03-08T19:18:25.218Z"
   },
   {
    "duration": 7,
    "start_time": "2022-03-08T19:18:28.756Z"
   },
   {
    "duration": 3273,
    "start_time": "2022-03-08T19:18:28.765Z"
   },
   {
    "duration": 7,
    "start_time": "2022-03-08T19:18:32.041Z"
   },
   {
    "duration": 37,
    "start_time": "2022-03-08T19:18:32.050Z"
   },
   {
    "duration": 20,
    "start_time": "2022-03-08T19:18:32.090Z"
   },
   {
    "duration": 15,
    "start_time": "2022-03-08T19:18:32.113Z"
   },
   {
    "duration": 7,
    "start_time": "2022-03-08T19:18:32.130Z"
   },
   {
    "duration": 54,
    "start_time": "2022-03-08T19:18:32.142Z"
   },
   {
    "duration": 16,
    "start_time": "2022-03-08T19:18:32.199Z"
   },
   {
    "duration": 8,
    "start_time": "2022-03-08T19:18:32.218Z"
   },
   {
    "duration": 105,
    "start_time": "2022-03-08T19:18:32.228Z"
   },
   {
    "duration": 63,
    "start_time": "2022-03-08T19:18:32.336Z"
   },
   {
    "duration": 12,
    "start_time": "2022-03-08T19:18:32.402Z"
   },
   {
    "duration": 13,
    "start_time": "2022-03-08T19:18:32.417Z"
   },
   {
    "duration": 13,
    "start_time": "2022-03-08T19:18:32.432Z"
   },
   {
    "duration": 139,
    "start_time": "2022-03-08T19:18:32.448Z"
   },
   {
    "duration": 21,
    "start_time": "2022-03-08T19:18:32.590Z"
   },
   {
    "duration": 39,
    "start_time": "2022-03-08T19:18:32.613Z"
   },
   {
    "duration": 65,
    "start_time": "2022-03-08T19:18:32.655Z"
   },
   {
    "duration": 958,
    "start_time": "2022-03-08T19:18:32.723Z"
   },
   {
    "duration": 28,
    "start_time": "2022-03-08T19:18:33.688Z"
   },
   {
    "duration": 27,
    "start_time": "2022-03-08T19:18:33.719Z"
   },
   {
    "duration": 498,
    "start_time": "2022-03-08T19:18:33.749Z"
   },
   {
    "duration": 461,
    "start_time": "2022-03-08T19:21:03.687Z"
   },
   {
    "duration": 397,
    "start_time": "2022-03-08T19:29:37.667Z"
   },
   {
    "duration": 407,
    "start_time": "2022-03-08T19:30:58.445Z"
   },
   {
    "duration": 408,
    "start_time": "2022-03-08T19:31:23.808Z"
   },
   {
    "duration": 438,
    "start_time": "2022-03-08T19:31:29.312Z"
   },
   {
    "duration": 416,
    "start_time": "2022-03-08T19:31:42.244Z"
   },
   {
    "duration": 556,
    "start_time": "2022-03-08T19:31:59.459Z"
   },
   {
    "duration": 559,
    "start_time": "2022-03-08T19:32:09.280Z"
   },
   {
    "duration": 631,
    "start_time": "2022-03-08T19:34:22.668Z"
   },
   {
    "duration": 3164,
    "start_time": "2022-03-08T19:35:00.251Z"
   },
   {
    "duration": 2949,
    "start_time": "2022-03-08T19:35:21.303Z"
   },
   {
    "duration": 2567,
    "start_time": "2022-03-08T19:35:36.564Z"
   },
   {
    "duration": 542,
    "start_time": "2022-03-08T19:35:52.449Z"
   },
   {
    "duration": 854,
    "start_time": "2022-03-08T19:36:26.684Z"
   },
   {
    "duration": 83,
    "start_time": "2022-03-08T19:36:27.541Z"
   },
   {
    "duration": 119,
    "start_time": "2022-03-08T19:36:27.626Z"
   },
   {
    "duration": 15,
    "start_time": "2022-03-08T19:36:27.747Z"
   },
   {
    "duration": 32,
    "start_time": "2022-03-08T19:36:27.764Z"
   },
   {
    "duration": 37,
    "start_time": "2022-03-08T19:36:27.798Z"
   },
   {
    "duration": 125,
    "start_time": "2022-03-08T19:36:27.837Z"
   },
   {
    "duration": 70,
    "start_time": "2022-03-08T19:36:27.965Z"
   },
   {
    "duration": 2773,
    "start_time": "2022-03-08T19:36:28.037Z"
   },
   {
    "duration": 9,
    "start_time": "2022-03-08T19:36:30.813Z"
   },
   {
    "duration": 21,
    "start_time": "2022-03-08T19:36:30.824Z"
   },
   {
    "duration": 71,
    "start_time": "2022-03-08T19:36:30.847Z"
   },
   {
    "duration": 29,
    "start_time": "2022-03-08T19:36:30.922Z"
   },
   {
    "duration": 8,
    "start_time": "2022-03-08T19:36:30.954Z"
   },
   {
    "duration": 3268,
    "start_time": "2022-03-08T19:36:30.988Z"
   },
   {
    "duration": 8,
    "start_time": "2022-03-08T19:36:34.258Z"
   },
   {
    "duration": 3272,
    "start_time": "2022-03-08T19:36:34.288Z"
   },
   {
    "duration": 25,
    "start_time": "2022-03-08T19:36:37.564Z"
   },
   {
    "duration": 8,
    "start_time": "2022-03-08T19:36:37.591Z"
   },
   {
    "duration": 20,
    "start_time": "2022-03-08T19:36:37.601Z"
   },
   {
    "duration": 14,
    "start_time": "2022-03-08T19:36:37.623Z"
   },
   {
    "duration": 48,
    "start_time": "2022-03-08T19:36:37.639Z"
   },
   {
    "duration": 16,
    "start_time": "2022-03-08T19:36:37.691Z"
   },
   {
    "duration": 17,
    "start_time": "2022-03-08T19:36:37.710Z"
   },
   {
    "duration": 7,
    "start_time": "2022-03-08T19:36:37.729Z"
   },
   {
    "duration": 110,
    "start_time": "2022-03-08T19:36:37.738Z"
   },
   {
    "duration": 73,
    "start_time": "2022-03-08T19:36:37.850Z"
   },
   {
    "duration": 10,
    "start_time": "2022-03-08T19:36:37.925Z"
   },
   {
    "duration": 11,
    "start_time": "2022-03-08T19:36:37.938Z"
   },
   {
    "duration": 40,
    "start_time": "2022-03-08T19:36:37.951Z"
   },
   {
    "duration": 115,
    "start_time": "2022-03-08T19:36:37.994Z"
   },
   {
    "duration": 21,
    "start_time": "2022-03-08T19:36:38.111Z"
   },
   {
    "duration": 51,
    "start_time": "2022-03-08T19:36:38.135Z"
   },
   {
    "duration": 69,
    "start_time": "2022-03-08T19:36:38.189Z"
   },
   {
    "duration": 1046,
    "start_time": "2022-03-08T19:36:38.261Z"
   },
   {
    "duration": 25,
    "start_time": "2022-03-08T19:36:39.309Z"
   },
   {
    "duration": 51,
    "start_time": "2022-03-08T19:36:39.337Z"
   },
   {
    "duration": 499,
    "start_time": "2022-03-08T19:36:39.390Z"
   },
   {
    "duration": 862,
    "start_time": "2022-03-08T19:37:19.493Z"
   },
   {
    "duration": 84,
    "start_time": "2022-03-08T19:37:20.357Z"
   },
   {
    "duration": 120,
    "start_time": "2022-03-08T19:37:20.444Z"
   },
   {
    "duration": 23,
    "start_time": "2022-03-08T19:37:20.567Z"
   },
   {
    "duration": 15,
    "start_time": "2022-03-08T19:37:20.593Z"
   },
   {
    "duration": 40,
    "start_time": "2022-03-08T19:37:20.610Z"
   },
   {
    "duration": 138,
    "start_time": "2022-03-08T19:37:20.652Z"
   },
   {
    "duration": 63,
    "start_time": "2022-03-08T19:37:20.792Z"
   },
   {
    "duration": 2754,
    "start_time": "2022-03-08T19:37:20.858Z"
   },
   {
    "duration": 9,
    "start_time": "2022-03-08T19:37:23.614Z"
   },
   {
    "duration": 13,
    "start_time": "2022-03-08T19:37:23.625Z"
   },
   {
    "duration": 49,
    "start_time": "2022-03-08T19:37:23.641Z"
   },
   {
    "duration": 18,
    "start_time": "2022-03-08T19:37:23.692Z"
   },
   {
    "duration": 33,
    "start_time": "2022-03-08T19:37:23.712Z"
   },
   {
    "duration": 3140,
    "start_time": "2022-03-08T19:37:23.748Z"
   },
   {
    "duration": 8,
    "start_time": "2022-03-08T19:37:26.890Z"
   },
   {
    "duration": 3400,
    "start_time": "2022-03-08T19:37:26.900Z"
   },
   {
    "duration": 8,
    "start_time": "2022-03-08T19:37:30.303Z"
   },
   {
    "duration": 14,
    "start_time": "2022-03-08T19:37:30.313Z"
   },
   {
    "duration": 32,
    "start_time": "2022-03-08T19:37:30.330Z"
   },
   {
    "duration": 15,
    "start_time": "2022-03-08T19:37:30.389Z"
   },
   {
    "duration": 8,
    "start_time": "2022-03-08T19:37:30.406Z"
   },
   {
    "duration": 22,
    "start_time": "2022-03-08T19:37:30.416Z"
   },
   {
    "duration": 48,
    "start_time": "2022-03-08T19:37:30.441Z"
   },
   {
    "duration": 7,
    "start_time": "2022-03-08T19:37:30.491Z"
   },
   {
    "duration": 99,
    "start_time": "2022-03-08T19:37:30.501Z"
   },
   {
    "duration": 52,
    "start_time": "2022-03-08T19:37:30.606Z"
   },
   {
    "duration": 31,
    "start_time": "2022-03-08T19:37:30.661Z"
   },
   {
    "duration": 24,
    "start_time": "2022-03-08T19:37:30.694Z"
   },
   {
    "duration": 12,
    "start_time": "2022-03-08T19:37:30.721Z"
   },
   {
    "duration": 114,
    "start_time": "2022-03-08T19:37:30.736Z"
   },
   {
    "duration": 38,
    "start_time": "2022-03-08T19:37:30.852Z"
   },
   {
    "duration": 30,
    "start_time": "2022-03-08T19:37:30.893Z"
   },
   {
    "duration": 75,
    "start_time": "2022-03-08T19:37:30.925Z"
   },
   {
    "duration": 1022,
    "start_time": "2022-03-08T19:37:31.003Z"
   },
   {
    "duration": 23,
    "start_time": "2022-03-08T19:37:32.027Z"
   },
   {
    "duration": 48,
    "start_time": "2022-03-08T19:37:32.052Z"
   },
   {
    "duration": 485,
    "start_time": "2022-03-08T19:37:32.102Z"
   },
   {
    "duration": 15849,
    "start_time": "2022-03-08T19:37:32.589Z"
   },
   {
    "duration": 6410,
    "start_time": "2022-03-08T19:53:09.245Z"
   },
   {
    "duration": 3324,
    "start_time": "2022-03-08T19:53:32.326Z"
   },
   {
    "duration": 2660,
    "start_time": "2022-03-08T19:53:46.240Z"
   },
   {
    "duration": 2688,
    "start_time": "2022-03-08T19:53:51.515Z"
   },
   {
    "duration": 3140,
    "start_time": "2022-03-08T19:54:58.253Z"
   },
   {
    "duration": 340,
    "start_time": "2022-03-08T19:57:49.290Z"
   },
   {
    "duration": 344,
    "start_time": "2022-03-08T19:58:12.756Z"
   },
   {
    "duration": 314,
    "start_time": "2022-03-08T19:58:29.160Z"
   },
   {
    "duration": 324,
    "start_time": "2022-03-08T19:58:55.588Z"
   },
   {
    "duration": 310,
    "start_time": "2022-03-08T19:59:12.515Z"
   },
   {
    "duration": 410,
    "start_time": "2022-03-08T19:59:42.712Z"
   },
   {
    "duration": 431,
    "start_time": "2022-03-08T20:00:09.892Z"
   },
   {
    "duration": 420,
    "start_time": "2022-03-08T20:00:26.337Z"
   },
   {
    "duration": 546,
    "start_time": "2022-03-08T20:00:34.591Z"
   },
   {
    "duration": 374,
    "start_time": "2022-03-08T20:00:45.081Z"
   },
   {
    "duration": 405,
    "start_time": "2022-03-08T20:03:04.200Z"
   },
   {
    "duration": 348,
    "start_time": "2022-03-08T20:03:40.479Z"
   },
   {
    "duration": 462,
    "start_time": "2022-03-08T20:07:12.621Z"
   },
   {
    "duration": 329,
    "start_time": "2022-03-08T20:07:31.493Z"
   },
   {
    "duration": 682,
    "start_time": "2022-03-08T20:07:46.842Z"
   },
   {
    "duration": 384,
    "start_time": "2022-03-08T20:09:13.261Z"
   },
   {
    "duration": 407,
    "start_time": "2022-03-08T20:09:23.409Z"
   },
   {
    "duration": 484,
    "start_time": "2022-03-08T20:09:33.948Z"
   },
   {
    "duration": 472,
    "start_time": "2022-03-08T20:09:52.659Z"
   },
   {
    "duration": 424,
    "start_time": "2022-03-08T20:10:05.781Z"
   },
   {
    "duration": 489,
    "start_time": "2022-03-08T20:12:21.450Z"
   },
   {
    "duration": 500,
    "start_time": "2022-03-08T20:12:43.587Z"
   },
   {
    "duration": 494,
    "start_time": "2022-03-08T20:13:23.573Z"
   },
   {
    "duration": 501,
    "start_time": "2022-03-08T20:13:33.317Z"
   },
   {
    "duration": 544,
    "start_time": "2022-03-08T20:13:52.571Z"
   },
   {
    "duration": 1389,
    "start_time": "2022-03-08T20:19:30.556Z"
   },
   {
    "duration": 756,
    "start_time": "2022-03-08T20:21:51.898Z"
   },
   {
    "duration": 220,
    "start_time": "2022-03-08T20:22:26.287Z"
   },
   {
    "duration": 202,
    "start_time": "2022-03-08T20:23:34.423Z"
   },
   {
    "duration": 206,
    "start_time": "2022-03-08T20:23:58.137Z"
   },
   {
    "duration": 210,
    "start_time": "2022-03-08T20:24:03.062Z"
   },
   {
    "duration": 311,
    "start_time": "2022-03-08T20:24:17.809Z"
   },
   {
    "duration": 290,
    "start_time": "2022-03-08T20:25:31.931Z"
   },
   {
    "duration": 463,
    "start_time": "2022-03-08T20:39:04.311Z"
   },
   {
    "duration": 482,
    "start_time": "2022-03-08T20:39:18.038Z"
   },
   {
    "duration": 539,
    "start_time": "2022-03-08T20:39:28.152Z"
   },
   {
    "duration": 568,
    "start_time": "2022-03-08T20:52:26.964Z"
   },
   {
    "duration": 617,
    "start_time": "2022-03-08T20:52:46.473Z"
   },
   {
    "duration": 3679,
    "start_time": "2022-03-08T20:52:50.861Z"
   },
   {
    "duration": 919,
    "start_time": "2022-03-08T20:53:20.611Z"
   },
   {
    "duration": 424,
    "start_time": "2022-03-08T20:53:55.057Z"
   },
   {
    "duration": 503,
    "start_time": "2022-03-08T20:59:54.266Z"
   },
   {
    "duration": 535,
    "start_time": "2022-03-08T21:02:08.303Z"
   },
   {
    "duration": 537,
    "start_time": "2022-03-08T21:02:19.172Z"
   },
   {
    "duration": 559,
    "start_time": "2022-03-08T21:02:24.835Z"
   },
   {
    "duration": 5,
    "start_time": "2022-03-08T21:06:21.443Z"
   },
   {
    "duration": 454,
    "start_time": "2022-03-08T21:06:46.636Z"
   },
   {
    "duration": 442,
    "start_time": "2022-03-08T21:07:03.215Z"
   },
   {
    "duration": 447,
    "start_time": "2022-03-08T21:08:01.300Z"
   },
   {
    "duration": 447,
    "start_time": "2022-03-08T21:08:07.976Z"
   },
   {
    "duration": 792,
    "start_time": "2022-03-08T21:08:26.539Z"
   },
   {
    "duration": 82,
    "start_time": "2022-03-08T21:08:27.334Z"
   },
   {
    "duration": 123,
    "start_time": "2022-03-08T21:08:27.418Z"
   },
   {
    "duration": 15,
    "start_time": "2022-03-08T21:08:27.544Z"
   },
   {
    "duration": 31,
    "start_time": "2022-03-08T21:08:27.561Z"
   },
   {
    "duration": 37,
    "start_time": "2022-03-08T21:08:27.594Z"
   },
   {
    "duration": 122,
    "start_time": "2022-03-08T21:08:27.634Z"
   },
   {
    "duration": 69,
    "start_time": "2022-03-08T21:08:27.759Z"
   },
   {
    "duration": 2689,
    "start_time": "2022-03-08T21:08:27.831Z"
   },
   {
    "duration": 8,
    "start_time": "2022-03-08T21:08:30.523Z"
   },
   {
    "duration": 21,
    "start_time": "2022-03-08T21:08:30.533Z"
   },
   {
    "duration": 42,
    "start_time": "2022-03-08T21:08:30.557Z"
   },
   {
    "duration": 22,
    "start_time": "2022-03-08T21:08:30.602Z"
   },
   {
    "duration": 10,
    "start_time": "2022-03-08T21:08:30.627Z"
   },
   {
    "duration": 3152,
    "start_time": "2022-03-08T21:08:30.639Z"
   },
   {
    "duration": 7,
    "start_time": "2022-03-08T21:08:33.793Z"
   },
   {
    "duration": 3021,
    "start_time": "2022-03-08T21:08:33.803Z"
   },
   {
    "duration": 7,
    "start_time": "2022-03-08T21:08:36.826Z"
   },
   {
    "duration": 14,
    "start_time": "2022-03-08T21:08:36.835Z"
   },
   {
    "duration": 42,
    "start_time": "2022-03-08T21:08:36.851Z"
   },
   {
    "duration": 13,
    "start_time": "2022-03-08T21:08:36.896Z"
   },
   {
    "duration": 7,
    "start_time": "2022-03-08T21:08:36.912Z"
   },
   {
    "duration": 16,
    "start_time": "2022-03-08T21:08:36.924Z"
   },
   {
    "duration": 53,
    "start_time": "2022-03-08T21:08:36.943Z"
   },
   {
    "duration": 8,
    "start_time": "2022-03-08T21:08:36.998Z"
   },
   {
    "duration": 102,
    "start_time": "2022-03-08T21:08:37.008Z"
   },
   {
    "duration": 52,
    "start_time": "2022-03-08T21:08:37.113Z"
   },
   {
    "duration": 12,
    "start_time": "2022-03-08T21:08:37.187Z"
   },
   {
    "duration": 6,
    "start_time": "2022-03-08T21:08:37.202Z"
   },
   {
    "duration": 9,
    "start_time": "2022-03-08T21:08:37.210Z"
   },
   {
    "duration": 132,
    "start_time": "2022-03-08T21:08:37.221Z"
   },
   {
    "duration": 36,
    "start_time": "2022-03-08T21:08:37.355Z"
   },
   {
    "duration": 28,
    "start_time": "2022-03-08T21:08:37.393Z"
   },
   {
    "duration": 67,
    "start_time": "2022-03-08T21:08:37.423Z"
   },
   {
    "duration": 981,
    "start_time": "2022-03-08T21:08:37.492Z"
   },
   {
    "duration": 27,
    "start_time": "2022-03-08T21:08:38.475Z"
   },
   {
    "duration": 22,
    "start_time": "2022-03-08T21:08:38.504Z"
   },
   {
    "duration": 508,
    "start_time": "2022-03-08T21:08:38.528Z"
   },
   {
    "duration": 3045,
    "start_time": "2022-03-08T21:08:39.038Z"
   },
   {
    "duration": 639,
    "start_time": "2022-03-08T21:08:42.088Z"
   },
   {
    "duration": 483,
    "start_time": "2022-03-08T21:08:42.729Z"
   },
   {
    "duration": 234,
    "start_time": "2022-03-08T21:08:43.214Z"
   },
   {
    "duration": 460,
    "start_time": "2022-03-08T21:08:43.450Z"
   },
   {
    "duration": 478,
    "start_time": "2022-03-08T21:09:36.477Z"
   },
   {
    "duration": 458,
    "start_time": "2022-03-08T21:10:24.415Z"
   },
   {
    "duration": 465,
    "start_time": "2022-03-08T21:10:43.504Z"
   },
   {
    "duration": 442,
    "start_time": "2022-03-08T21:13:02.493Z"
   },
   {
    "duration": 540,
    "start_time": "2022-03-08T21:14:17.901Z"
   },
   {
    "duration": 39,
    "start_time": "2022-03-08T21:17:51.404Z"
   },
   {
    "duration": 3067,
    "start_time": "2022-03-08T21:52:18.228Z"
   },
   {
    "duration": 3237,
    "start_time": "2022-03-08T21:52:34.075Z"
   },
   {
    "duration": 3218,
    "start_time": "2022-03-08T21:52:51.365Z"
   },
   {
    "duration": 3124,
    "start_time": "2022-03-08T21:53:01.390Z"
   },
   {
    "duration": 3201,
    "start_time": "2022-03-08T21:53:14.080Z"
   },
   {
    "duration": 3345,
    "start_time": "2022-03-08T21:53:32.420Z"
   },
   {
    "duration": 598,
    "start_time": "2022-03-08T21:53:58.720Z"
   },
   {
    "duration": 559,
    "start_time": "2022-03-08T21:57:41.400Z"
   },
   {
    "duration": 684,
    "start_time": "2022-03-08T21:58:00.153Z"
   },
   {
    "duration": 564,
    "start_time": "2022-03-08T21:58:32.673Z"
   },
   {
    "duration": 777,
    "start_time": "2022-03-08T21:58:50.666Z"
   },
   {
    "duration": 516,
    "start_time": "2022-03-08T22:02:22.442Z"
   },
   {
    "duration": 518,
    "start_time": "2022-03-08T22:02:44.501Z"
   },
   {
    "duration": 636,
    "start_time": "2022-03-08T22:03:05.712Z"
   },
   {
    "duration": 215,
    "start_time": "2022-03-08T22:03:20.492Z"
   },
   {
    "duration": 199,
    "start_time": "2022-03-08T22:03:28.541Z"
   },
   {
    "duration": 210,
    "start_time": "2022-03-08T22:03:36.380Z"
   },
   {
    "duration": 221,
    "start_time": "2022-03-08T22:03:48.365Z"
   },
   {
    "duration": 216,
    "start_time": "2022-03-08T22:04:04.812Z"
   },
   {
    "duration": 212,
    "start_time": "2022-03-08T22:04:17.235Z"
   },
   {
    "duration": 212,
    "start_time": "2022-03-08T22:04:26.429Z"
   },
   {
    "duration": 221,
    "start_time": "2022-03-08T22:04:32.681Z"
   },
   {
    "duration": 232,
    "start_time": "2022-03-08T22:04:51.873Z"
   },
   {
    "duration": 224,
    "start_time": "2022-03-08T22:05:11.906Z"
   },
   {
    "duration": 212,
    "start_time": "2022-03-08T22:05:17.871Z"
   },
   {
    "duration": 293,
    "start_time": "2022-03-08T22:10:43.541Z"
   },
   {
    "duration": 212,
    "start_time": "2022-03-08T22:11:54.478Z"
   },
   {
    "duration": 222,
    "start_time": "2022-03-08T22:12:01.388Z"
   },
   {
    "duration": 215,
    "start_time": "2022-03-08T22:16:39.552Z"
   },
   {
    "duration": 208,
    "start_time": "2022-03-08T22:16:51.472Z"
   },
   {
    "duration": 216,
    "start_time": "2022-03-08T22:16:59.435Z"
   },
   {
    "duration": 253,
    "start_time": "2022-03-08T22:17:06.484Z"
   },
   {
    "duration": 218,
    "start_time": "2022-03-08T22:17:29.048Z"
   },
   {
    "duration": 221,
    "start_time": "2022-03-08T22:18:05.454Z"
   },
   {
    "duration": 221,
    "start_time": "2022-03-08T22:18:10.986Z"
   },
   {
    "duration": 47,
    "start_time": "2022-03-08T22:35:30.011Z"
   },
   {
    "duration": 25,
    "start_time": "2022-03-08T22:36:28.239Z"
   },
   {
    "duration": 10,
    "start_time": "2022-03-08T22:37:01.313Z"
   },
   {
    "duration": 316,
    "start_time": "2022-03-08T22:39:09.365Z"
   },
   {
    "duration": 21,
    "start_time": "2022-03-08T22:39:58.267Z"
   },
   {
    "duration": 62,
    "start_time": "2022-03-08T22:47:05.013Z"
   },
   {
    "duration": 30,
    "start_time": "2022-03-08T22:47:31.369Z"
   },
   {
    "duration": 79,
    "start_time": "2022-03-08T22:47:56.740Z"
   },
   {
    "duration": 31,
    "start_time": "2022-03-08T22:53:49.175Z"
   },
   {
    "duration": 19,
    "start_time": "2022-03-08T22:54:53.119Z"
   },
   {
    "duration": 6448,
    "start_time": "2022-03-08T22:55:42.173Z"
   },
   {
    "duration": 864,
    "start_time": "2022-03-08T22:55:54.565Z"
   },
   {
    "duration": 87,
    "start_time": "2022-03-08T22:55:55.431Z"
   },
   {
    "duration": 121,
    "start_time": "2022-03-08T22:55:55.521Z"
   },
   {
    "duration": 15,
    "start_time": "2022-03-08T22:55:55.644Z"
   },
   {
    "duration": 36,
    "start_time": "2022-03-08T22:55:55.661Z"
   },
   {
    "duration": 37,
    "start_time": "2022-03-08T22:55:55.700Z"
   },
   {
    "duration": 125,
    "start_time": "2022-03-08T22:55:55.739Z"
   },
   {
    "duration": 65,
    "start_time": "2022-03-08T22:55:55.868Z"
   },
   {
    "duration": 2705,
    "start_time": "2022-03-08T22:55:55.936Z"
   },
   {
    "duration": 9,
    "start_time": "2022-03-08T22:55:58.644Z"
   },
   {
    "duration": 35,
    "start_time": "2022-03-08T22:55:58.656Z"
   },
   {
    "duration": 17,
    "start_time": "2022-03-08T22:55:58.694Z"
   },
   {
    "duration": 18,
    "start_time": "2022-03-08T22:55:58.713Z"
   },
   {
    "duration": 7,
    "start_time": "2022-03-08T22:55:58.733Z"
   },
   {
    "duration": 3248,
    "start_time": "2022-03-08T22:55:58.742Z"
   },
   {
    "duration": 7,
    "start_time": "2022-03-08T22:56:01.993Z"
   },
   {
    "duration": 3102,
    "start_time": "2022-03-08T22:56:02.003Z"
   },
   {
    "duration": 8,
    "start_time": "2022-03-08T22:56:05.108Z"
   },
   {
    "duration": 12,
    "start_time": "2022-03-08T22:56:05.119Z"
   },
   {
    "duration": 53,
    "start_time": "2022-03-08T22:56:05.133Z"
   },
   {
    "duration": 17,
    "start_time": "2022-03-08T22:56:05.190Z"
   },
   {
    "duration": 7,
    "start_time": "2022-03-08T22:56:05.210Z"
   },
   {
    "duration": 15,
    "start_time": "2022-03-08T22:56:05.222Z"
   },
   {
    "duration": 57,
    "start_time": "2022-03-08T22:56:05.240Z"
   },
   {
    "duration": 8,
    "start_time": "2022-03-08T22:56:05.299Z"
   },
   {
    "duration": 95,
    "start_time": "2022-03-08T22:56:05.309Z"
   },
   {
    "duration": 51,
    "start_time": "2022-03-08T22:56:05.407Z"
   },
   {
    "duration": 33,
    "start_time": "2022-03-08T22:56:05.460Z"
   },
   {
    "duration": 13,
    "start_time": "2022-03-08T22:56:05.495Z"
   },
   {
    "duration": 20,
    "start_time": "2022-03-08T22:56:05.511Z"
   },
   {
    "duration": 124,
    "start_time": "2022-03-08T22:56:05.534Z"
   },
   {
    "duration": 40,
    "start_time": "2022-03-08T22:56:05.661Z"
   },
   {
    "duration": 33,
    "start_time": "2022-03-08T22:56:05.703Z"
   },
   {
    "duration": 81,
    "start_time": "2022-03-08T22:56:05.739Z"
   },
   {
    "duration": 1011,
    "start_time": "2022-03-08T22:56:05.823Z"
   },
   {
    "duration": 25,
    "start_time": "2022-03-08T22:56:06.837Z"
   },
   {
    "duration": 46,
    "start_time": "2022-03-08T22:56:06.865Z"
   },
   {
    "duration": 600,
    "start_time": "2022-03-08T22:56:06.914Z"
   },
   {
    "duration": 250,
    "start_time": "2022-03-08T22:56:07.516Z"
   },
   {
    "duration": 577,
    "start_time": "2022-03-08T22:56:07.768Z"
   },
   {
    "duration": 219,
    "start_time": "2022-03-08T22:56:08.348Z"
   },
   {
    "duration": 549,
    "start_time": "2022-03-08T22:56:08.570Z"
   },
   {
    "duration": 496,
    "start_time": "2022-03-08T22:56:09.122Z"
   },
   {
    "duration": 237,
    "start_time": "2022-03-08T22:56:09.620Z"
   },
   {
    "duration": 246,
    "start_time": "2022-03-08T22:56:09.860Z"
   },
   {
    "duration": 41,
    "start_time": "2022-03-08T22:56:10.108Z"
   },
   {
    "duration": 118,
    "start_time": "2022-03-08T22:56:10.151Z"
   },
   {
    "duration": 5855,
    "start_time": "2022-03-08T22:56:10.271Z"
   },
   {
    "duration": 6247,
    "start_time": "2022-03-08T22:56:40.986Z"
   },
   {
    "duration": 6807,
    "start_time": "2022-03-08T22:57:53.189Z"
   },
   {
    "duration": 7830,
    "start_time": "2022-03-08T23:00:31.937Z"
   },
   {
    "duration": 78,
    "start_time": "2022-03-08T23:15:30.353Z"
   },
   {
    "duration": 18,
    "start_time": "2022-03-08T23:20:58.851Z"
   },
   {
    "duration": 16,
    "start_time": "2022-03-08T23:21:41.310Z"
   },
   {
    "duration": 251,
    "start_time": "2022-03-08T23:21:48.514Z"
   },
   {
    "duration": 5467,
    "start_time": "2022-03-08T23:27:21.064Z"
   },
   {
    "duration": 249,
    "start_time": "2022-03-08T23:27:37.458Z"
   },
   {
    "duration": 818,
    "start_time": "2022-03-08T23:27:49.617Z"
   },
   {
    "duration": 83,
    "start_time": "2022-03-08T23:27:50.437Z"
   },
   {
    "duration": 119,
    "start_time": "2022-03-08T23:27:50.522Z"
   },
   {
    "duration": 15,
    "start_time": "2022-03-08T23:27:50.643Z"
   },
   {
    "duration": 36,
    "start_time": "2022-03-08T23:27:50.660Z"
   },
   {
    "duration": 37,
    "start_time": "2022-03-08T23:27:50.698Z"
   },
   {
    "duration": 122,
    "start_time": "2022-03-08T23:27:50.737Z"
   },
   {
    "duration": 71,
    "start_time": "2022-03-08T23:27:50.862Z"
   },
   {
    "duration": 2689,
    "start_time": "2022-03-08T23:27:50.936Z"
   },
   {
    "duration": 8,
    "start_time": "2022-03-08T23:27:53.627Z"
   },
   {
    "duration": 22,
    "start_time": "2022-03-08T23:27:53.637Z"
   },
   {
    "duration": 41,
    "start_time": "2022-03-08T23:27:53.661Z"
   },
   {
    "duration": 21,
    "start_time": "2022-03-08T23:27:53.704Z"
   },
   {
    "duration": 7,
    "start_time": "2022-03-08T23:27:53.728Z"
   },
   {
    "duration": 3025,
    "start_time": "2022-03-08T23:27:53.737Z"
   },
   {
    "duration": 7,
    "start_time": "2022-03-08T23:27:56.764Z"
   },
   {
    "duration": 2847,
    "start_time": "2022-03-08T23:27:56.773Z"
   },
   {
    "duration": 7,
    "start_time": "2022-03-08T23:27:59.623Z"
   },
   {
    "duration": 29,
    "start_time": "2022-03-08T23:27:59.632Z"
   },
   {
    "duration": 38,
    "start_time": "2022-03-08T23:27:59.663Z"
   },
   {
    "duration": 15,
    "start_time": "2022-03-08T23:27:59.705Z"
   },
   {
    "duration": 7,
    "start_time": "2022-03-08T23:27:59.723Z"
   },
   {
    "duration": 15,
    "start_time": "2022-03-08T23:27:59.735Z"
   },
   {
    "duration": 17,
    "start_time": "2022-03-08T23:27:59.788Z"
   },
   {
    "duration": 7,
    "start_time": "2022-03-08T23:27:59.807Z"
   },
   {
    "duration": 96,
    "start_time": "2022-03-08T23:27:59.816Z"
   },
   {
    "duration": 73,
    "start_time": "2022-03-08T23:27:59.914Z"
   },
   {
    "duration": 11,
    "start_time": "2022-03-08T23:27:59.989Z"
   },
   {
    "duration": 15,
    "start_time": "2022-03-08T23:28:00.002Z"
   },
   {
    "duration": 24,
    "start_time": "2022-03-08T23:28:00.021Z"
   },
   {
    "duration": 107,
    "start_time": "2022-03-08T23:28:00.048Z"
   },
   {
    "duration": 35,
    "start_time": "2022-03-08T23:28:00.158Z"
   },
   {
    "duration": 27,
    "start_time": "2022-03-08T23:28:00.196Z"
   },
   {
    "duration": 83,
    "start_time": "2022-03-08T23:28:00.226Z"
   },
   {
    "duration": 934,
    "start_time": "2022-03-08T23:28:00.312Z"
   },
   {
    "duration": 24,
    "start_time": "2022-03-08T23:28:01.248Z"
   },
   {
    "duration": 24,
    "start_time": "2022-03-08T23:28:01.288Z"
   },
   {
    "duration": 498,
    "start_time": "2022-03-08T23:28:01.315Z"
   },
   {
    "duration": 224,
    "start_time": "2022-03-08T23:28:01.815Z"
   },
   {
    "duration": 557,
    "start_time": "2022-03-08T23:28:02.042Z"
   },
   {
    "duration": 226,
    "start_time": "2022-03-08T23:28:02.602Z"
   },
   {
    "duration": 533,
    "start_time": "2022-03-08T23:28:02.830Z"
   },
   {
    "duration": 500,
    "start_time": "2022-03-08T23:28:03.365Z"
   },
   {
    "duration": 226,
    "start_time": "2022-03-08T23:28:03.867Z"
   },
   {
    "duration": 226,
    "start_time": "2022-03-08T23:28:04.096Z"
   },
   {
    "duration": 41,
    "start_time": "2022-03-08T23:28:04.324Z"
   },
   {
    "duration": 164,
    "start_time": "2022-03-08T23:28:04.367Z"
   },
   {
    "duration": 5970,
    "start_time": "2022-03-08T23:28:04.533Z"
   },
   {
    "duration": 8055,
    "start_time": "2022-03-08T23:28:10.505Z"
   },
   {
    "duration": 343,
    "start_time": "2022-03-08T23:28:18.563Z"
   },
   {
    "duration": 67,
    "start_time": "2022-03-08T23:28:34.573Z"
   },
   {
    "duration": 17,
    "start_time": "2022-03-08T23:28:38.586Z"
   },
   {
    "duration": 18,
    "start_time": "2022-03-08T23:40:50.529Z"
   },
   {
    "duration": 8,
    "start_time": "2022-03-08T23:53:06.241Z"
   },
   {
    "duration": 62,
    "start_time": "2022-03-08T23:53:17.982Z"
   },
   {
    "duration": 21,
    "start_time": "2022-03-08T23:54:17.914Z"
   },
   {
    "duration": 23,
    "start_time": "2022-03-08T23:55:03.731Z"
   },
   {
    "duration": 53,
    "start_time": "2022-03-08T23:58:26.663Z"
   },
   {
    "duration": 819,
    "start_time": "2022-03-08T23:58:48.225Z"
   },
   {
    "duration": 76,
    "start_time": "2022-03-08T23:58:49.046Z"
   },
   {
    "duration": 120,
    "start_time": "2022-03-08T23:58:49.125Z"
   },
   {
    "duration": 14,
    "start_time": "2022-03-08T23:58:49.248Z"
   },
   {
    "duration": 32,
    "start_time": "2022-03-08T23:58:49.264Z"
   },
   {
    "duration": 36,
    "start_time": "2022-03-08T23:58:49.298Z"
   },
   {
    "duration": 127,
    "start_time": "2022-03-08T23:58:49.337Z"
   },
   {
    "duration": 70,
    "start_time": "2022-03-08T23:58:49.469Z"
   },
   {
    "duration": 2645,
    "start_time": "2022-03-08T23:58:49.543Z"
   },
   {
    "duration": 8,
    "start_time": "2022-03-08T23:58:52.191Z"
   },
   {
    "duration": 23,
    "start_time": "2022-03-08T23:58:52.201Z"
   },
   {
    "duration": 22,
    "start_time": "2022-03-08T23:58:52.226Z"
   },
   {
    "duration": 40,
    "start_time": "2022-03-08T23:58:52.251Z"
   },
   {
    "duration": 7,
    "start_time": "2022-03-08T23:58:52.294Z"
   },
   {
    "duration": 2972,
    "start_time": "2022-03-08T23:58:52.303Z"
   },
   {
    "duration": 16,
    "start_time": "2022-03-08T23:58:55.277Z"
   },
   {
    "duration": 3071,
    "start_time": "2022-03-08T23:58:55.295Z"
   },
   {
    "duration": 23,
    "start_time": "2022-03-08T23:58:58.368Z"
   },
   {
    "duration": 9,
    "start_time": "2022-03-08T23:58:58.393Z"
   },
   {
    "duration": 18,
    "start_time": "2022-03-08T23:58:58.404Z"
   },
   {
    "duration": 21,
    "start_time": "2022-03-08T23:58:58.425Z"
   },
   {
    "duration": 40,
    "start_time": "2022-03-08T23:58:58.448Z"
   },
   {
    "duration": 31,
    "start_time": "2022-03-08T23:58:58.493Z"
   },
   {
    "duration": 16,
    "start_time": "2022-03-08T23:58:58.527Z"
   },
   {
    "duration": 7,
    "start_time": "2022-03-08T23:58:58.546Z"
   },
   {
    "duration": 99,
    "start_time": "2022-03-08T23:58:58.555Z"
   },
   {
    "duration": 68,
    "start_time": "2022-03-08T23:58:58.656Z"
   },
   {
    "duration": 10,
    "start_time": "2022-03-08T23:58:58.726Z"
   },
   {
    "duration": 12,
    "start_time": "2022-03-08T23:58:58.738Z"
   },
   {
    "duration": 36,
    "start_time": "2022-03-08T23:58:58.752Z"
   },
   {
    "duration": 106,
    "start_time": "2022-03-08T23:58:58.791Z"
   },
   {
    "duration": 19,
    "start_time": "2022-03-08T23:58:58.900Z"
   },
   {
    "duration": 28,
    "start_time": "2022-03-08T23:58:58.922Z"
   },
   {
    "duration": 79,
    "start_time": "2022-03-08T23:58:58.953Z"
   },
   {
    "duration": 1006,
    "start_time": "2022-03-08T23:58:59.035Z"
   },
   {
    "duration": 22,
    "start_time": "2022-03-08T23:59:00.044Z"
   },
   {
    "duration": 35,
    "start_time": "2022-03-08T23:59:00.068Z"
   },
   {
    "duration": 501,
    "start_time": "2022-03-08T23:59:00.106Z"
   },
   {
    "duration": 240,
    "start_time": "2022-03-08T23:59:00.609Z"
   },
   {
    "duration": 593,
    "start_time": "2022-03-08T23:59:00.851Z"
   },
   {
    "duration": 232,
    "start_time": "2022-03-08T23:59:01.446Z"
   },
   {
    "duration": 541,
    "start_time": "2022-03-08T23:59:01.681Z"
   },
   {
    "duration": 490,
    "start_time": "2022-03-08T23:59:02.224Z"
   },
   {
    "duration": 242,
    "start_time": "2022-03-08T23:59:02.717Z"
   },
   {
    "duration": 241,
    "start_time": "2022-03-08T23:59:02.962Z"
   },
   {
    "duration": 44,
    "start_time": "2022-03-08T23:59:03.206Z"
   },
   {
    "duration": 175,
    "start_time": "2022-03-08T23:59:03.252Z"
   },
   {
    "duration": 6035,
    "start_time": "2022-03-08T23:59:03.430Z"
   },
   {
    "duration": 8031,
    "start_time": "2022-03-08T23:59:09.467Z"
   },
   {
    "duration": 19,
    "start_time": "2022-03-08T23:59:17.500Z"
   },
   {
    "duration": 15,
    "start_time": "2022-03-08T23:59:17.522Z"
   },
   {
    "duration": 60,
    "start_time": "2022-03-08T23:59:17.540Z"
   },
   {
    "duration": 55,
    "start_time": "2022-03-08T23:59:48.845Z"
   },
   {
    "duration": 49,
    "start_time": "2022-03-08T23:59:59.185Z"
   },
   {
    "duration": 21,
    "start_time": "2022-03-09T00:01:04.062Z"
   },
   {
    "duration": 345,
    "start_time": "2022-03-09T00:04:32.703Z"
   },
   {
    "duration": 237,
    "start_time": "2022-03-09T00:04:47.733Z"
   },
   {
    "duration": 855,
    "start_time": "2022-03-09T00:05:04.184Z"
   },
   {
    "duration": 87,
    "start_time": "2022-03-09T00:05:05.042Z"
   },
   {
    "duration": 117,
    "start_time": "2022-03-09T00:05:05.133Z"
   },
   {
    "duration": 33,
    "start_time": "2022-03-09T00:05:05.254Z"
   },
   {
    "duration": 17,
    "start_time": "2022-03-09T00:05:05.290Z"
   },
   {
    "duration": 39,
    "start_time": "2022-03-09T00:05:05.310Z"
   },
   {
    "duration": 147,
    "start_time": "2022-03-09T00:05:05.352Z"
   },
   {
    "duration": 58,
    "start_time": "2022-03-09T00:05:05.505Z"
   },
   {
    "duration": 2657,
    "start_time": "2022-03-09T00:05:05.567Z"
   },
   {
    "duration": 9,
    "start_time": "2022-03-09T00:05:08.226Z"
   },
   {
    "duration": 27,
    "start_time": "2022-03-09T00:05:08.237Z"
   },
   {
    "duration": 36,
    "start_time": "2022-03-09T00:05:08.267Z"
   },
   {
    "duration": 19,
    "start_time": "2022-03-09T00:05:08.306Z"
   },
   {
    "duration": 7,
    "start_time": "2022-03-09T00:05:08.327Z"
   },
   {
    "duration": 3155,
    "start_time": "2022-03-09T00:05:08.336Z"
   },
   {
    "duration": 6,
    "start_time": "2022-03-09T00:05:11.494Z"
   },
   {
    "duration": 3152,
    "start_time": "2022-03-09T00:05:11.503Z"
   },
   {
    "duration": 8,
    "start_time": "2022-03-09T00:05:14.657Z"
   },
   {
    "duration": 26,
    "start_time": "2022-03-09T00:05:14.667Z"
   },
   {
    "duration": 23,
    "start_time": "2022-03-09T00:05:14.696Z"
   },
   {
    "duration": 13,
    "start_time": "2022-03-09T00:05:14.722Z"
   },
   {
    "duration": 8,
    "start_time": "2022-03-09T00:05:14.737Z"
   },
   {
    "duration": 16,
    "start_time": "2022-03-09T00:05:14.787Z"
   },
   {
    "duration": 17,
    "start_time": "2022-03-09T00:05:14.806Z"
   },
   {
    "duration": 8,
    "start_time": "2022-03-09T00:05:14.826Z"
   },
   {
    "duration": 104,
    "start_time": "2022-03-09T00:05:14.836Z"
   },
   {
    "duration": 67,
    "start_time": "2022-03-09T00:05:14.943Z"
   },
   {
    "duration": 10,
    "start_time": "2022-03-09T00:05:15.012Z"
   },
   {
    "duration": 16,
    "start_time": "2022-03-09T00:05:15.025Z"
   },
   {
    "duration": 8,
    "start_time": "2022-03-09T00:05:15.043Z"
   },
   {
    "duration": 120,
    "start_time": "2022-03-09T00:05:15.053Z"
   },
   {
    "duration": 21,
    "start_time": "2022-03-09T00:05:15.187Z"
   },
   {
    "duration": 29,
    "start_time": "2022-03-09T00:05:15.210Z"
   },
   {
    "duration": 86,
    "start_time": "2022-03-09T00:05:15.242Z"
   },
   {
    "duration": 983,
    "start_time": "2022-03-09T00:05:15.331Z"
   },
   {
    "duration": 25,
    "start_time": "2022-03-09T00:05:16.317Z"
   },
   {
    "duration": 52,
    "start_time": "2022-03-09T00:05:16.345Z"
   },
   {
    "duration": 492,
    "start_time": "2022-03-09T00:05:16.400Z"
   },
   {
    "duration": 233,
    "start_time": "2022-03-09T00:05:16.895Z"
   },
   {
    "duration": 561,
    "start_time": "2022-03-09T00:05:17.131Z"
   },
   {
    "duration": 224,
    "start_time": "2022-03-09T00:05:17.695Z"
   },
   {
    "duration": 553,
    "start_time": "2022-03-09T00:05:17.921Z"
   },
   {
    "duration": 490,
    "start_time": "2022-03-09T00:05:18.476Z"
   },
   {
    "duration": 231,
    "start_time": "2022-03-09T00:05:18.969Z"
   },
   {
    "duration": 225,
    "start_time": "2022-03-09T00:05:19.202Z"
   },
   {
    "duration": 40,
    "start_time": "2022-03-09T00:05:19.429Z"
   },
   {
    "duration": 167,
    "start_time": "2022-03-09T00:05:19.471Z"
   },
   {
    "duration": 5791,
    "start_time": "2022-03-09T00:05:19.641Z"
   },
   {
    "duration": 7831,
    "start_time": "2022-03-09T00:05:25.434Z"
   },
   {
    "duration": 32,
    "start_time": "2022-03-09T00:05:33.267Z"
   },
   {
    "duration": 18,
    "start_time": "2022-03-09T00:05:33.301Z"
   },
   {
    "duration": 349,
    "start_time": "2022-03-09T00:05:33.321Z"
   },
   {
    "duration": 254,
    "start_time": "2022-03-09T00:06:09.471Z"
   },
   {
    "duration": 13,
    "start_time": "2022-03-09T00:06:37.146Z"
   },
   {
    "duration": 21,
    "start_time": "2022-03-09T00:06:53.826Z"
   },
   {
    "duration": 21,
    "start_time": "2022-03-09T00:08:09.438Z"
   },
   {
    "duration": 34,
    "start_time": "2022-03-09T00:08:49.201Z"
   },
   {
    "duration": 260,
    "start_time": "2022-03-09T00:09:26.405Z"
   },
   {
    "duration": 33,
    "start_time": "2022-03-09T00:14:16.567Z"
   },
   {
    "duration": 28,
    "start_time": "2022-03-09T00:24:09.894Z"
   },
   {
    "duration": 32,
    "start_time": "2022-03-09T00:24:17.746Z"
   },
   {
    "duration": 240,
    "start_time": "2022-03-09T00:26:50.916Z"
   },
   {
    "duration": 221,
    "start_time": "2022-03-09T00:26:59.425Z"
   },
   {
    "duration": 237,
    "start_time": "2022-03-09T00:27:10.225Z"
   },
   {
    "duration": 26,
    "start_time": "2022-03-09T00:28:08.937Z"
   },
   {
    "duration": 289,
    "start_time": "2022-03-09T00:28:22.550Z"
   },
   {
    "duration": 26,
    "start_time": "2022-03-09T00:28:31.265Z"
   },
   {
    "duration": 33,
    "start_time": "2022-03-09T00:28:49.534Z"
   },
   {
    "duration": 266,
    "start_time": "2022-03-09T00:29:19.466Z"
   },
   {
    "duration": 247,
    "start_time": "2022-03-09T00:30:26.428Z"
   },
   {
    "duration": 217,
    "start_time": "2022-03-09T00:30:58.516Z"
   },
   {
    "duration": 267,
    "start_time": "2022-03-09T00:31:05.920Z"
   },
   {
    "duration": 224,
    "start_time": "2022-03-09T00:31:51.017Z"
   },
   {
    "duration": 266,
    "start_time": "2022-03-09T00:31:58.277Z"
   },
   {
    "duration": 10,
    "start_time": "2022-03-09T00:37:58.565Z"
   },
   {
    "duration": 8,
    "start_time": "2022-03-09T00:38:26.565Z"
   },
   {
    "duration": 62,
    "start_time": "2022-03-09T00:38:35.291Z"
   },
   {
    "duration": 22,
    "start_time": "2022-03-09T00:40:05.970Z"
   },
   {
    "duration": 237,
    "start_time": "2022-03-09T00:54:36.761Z"
   },
   {
    "duration": 10,
    "start_time": "2022-03-09T00:54:54.599Z"
   },
   {
    "duration": 74,
    "start_time": "2022-03-09T01:00:23.427Z"
   },
   {
    "duration": 845,
    "start_time": "2022-03-09T01:00:41.891Z"
   },
   {
    "duration": 78,
    "start_time": "2022-03-09T01:00:42.739Z"
   },
   {
    "duration": 119,
    "start_time": "2022-03-09T01:00:42.820Z"
   },
   {
    "duration": 15,
    "start_time": "2022-03-09T01:00:42.942Z"
   },
   {
    "duration": 36,
    "start_time": "2022-03-09T01:00:42.959Z"
   },
   {
    "duration": 37,
    "start_time": "2022-03-09T01:00:42.998Z"
   },
   {
    "duration": 124,
    "start_time": "2022-03-09T01:00:43.037Z"
   },
   {
    "duration": 65,
    "start_time": "2022-03-09T01:00:43.165Z"
   },
   {
    "duration": 2706,
    "start_time": "2022-03-09T01:00:43.233Z"
   },
   {
    "duration": 8,
    "start_time": "2022-03-09T01:00:45.942Z"
   },
   {
    "duration": 36,
    "start_time": "2022-03-09T01:00:45.953Z"
   },
   {
    "duration": 22,
    "start_time": "2022-03-09T01:00:45.992Z"
   },
   {
    "duration": 20,
    "start_time": "2022-03-09T01:00:46.018Z"
   },
   {
    "duration": 9,
    "start_time": "2022-03-09T01:00:46.041Z"
   },
   {
    "duration": 3200,
    "start_time": "2022-03-09T01:00:46.088Z"
   },
   {
    "duration": 7,
    "start_time": "2022-03-09T01:00:49.291Z"
   },
   {
    "duration": 3003,
    "start_time": "2022-03-09T01:00:49.301Z"
   },
   {
    "duration": 7,
    "start_time": "2022-03-09T01:00:52.307Z"
   },
   {
    "duration": 12,
    "start_time": "2022-03-09T01:00:52.316Z"
   },
   {
    "duration": 26,
    "start_time": "2022-03-09T01:00:52.330Z"
   },
   {
    "duration": 15,
    "start_time": "2022-03-09T01:00:52.387Z"
   },
   {
    "duration": 8,
    "start_time": "2022-03-09T01:00:52.404Z"
   },
   {
    "duration": 15,
    "start_time": "2022-03-09T01:00:52.418Z"
   },
   {
    "duration": 63,
    "start_time": "2022-03-09T01:00:52.436Z"
   },
   {
    "duration": 9,
    "start_time": "2022-03-09T01:00:52.501Z"
   },
   {
    "duration": 101,
    "start_time": "2022-03-09T01:00:52.513Z"
   },
   {
    "duration": 51,
    "start_time": "2022-03-09T01:00:52.617Z"
   },
   {
    "duration": 23,
    "start_time": "2022-03-09T01:00:52.670Z"
   },
   {
    "duration": 13,
    "start_time": "2022-03-09T01:00:52.696Z"
   },
   {
    "duration": 12,
    "start_time": "2022-03-09T01:00:52.711Z"
   },
   {
    "duration": 128,
    "start_time": "2022-03-09T01:00:52.725Z"
   },
   {
    "duration": 33,
    "start_time": "2022-03-09T01:00:52.855Z"
   },
   {
    "duration": 28,
    "start_time": "2022-03-09T01:00:52.891Z"
   },
   {
    "duration": 78,
    "start_time": "2022-03-09T01:00:52.921Z"
   },
   {
    "duration": 943,
    "start_time": "2022-03-09T01:00:53.001Z"
   },
   {
    "duration": 24,
    "start_time": "2022-03-09T01:00:53.946Z"
   },
   {
    "duration": 36,
    "start_time": "2022-03-09T01:00:53.972Z"
   },
   {
    "duration": 484,
    "start_time": "2022-03-09T01:00:54.011Z"
   },
   {
    "duration": 232,
    "start_time": "2022-03-09T01:00:54.497Z"
   },
   {
    "duration": 558,
    "start_time": "2022-03-09T01:00:54.731Z"
   },
   {
    "duration": 226,
    "start_time": "2022-03-09T01:00:55.292Z"
   },
   {
    "duration": 536,
    "start_time": "2022-03-09T01:00:55.520Z"
   },
   {
    "duration": 474,
    "start_time": "2022-03-09T01:00:56.058Z"
   },
   {
    "duration": 235,
    "start_time": "2022-03-09T01:00:56.535Z"
   },
   {
    "duration": 230,
    "start_time": "2022-03-09T01:00:56.773Z"
   },
   {
    "duration": 41,
    "start_time": "2022-03-09T01:00:57.006Z"
   },
   {
    "duration": 178,
    "start_time": "2022-03-09T01:00:57.049Z"
   },
   {
    "duration": 5854,
    "start_time": "2022-03-09T01:00:57.229Z"
   },
   {
    "duration": 7903,
    "start_time": "2022-03-09T01:01:03.087Z"
   },
   {
    "duration": 19,
    "start_time": "2022-03-09T01:01:10.993Z"
   },
   {
    "duration": 18,
    "start_time": "2022-03-09T01:01:11.015Z"
   },
   {
    "duration": 70,
    "start_time": "2022-03-09T01:01:11.035Z"
   },
   {
    "duration": 304,
    "start_time": "2022-03-09T01:01:11.108Z"
   },
   {
    "duration": 22,
    "start_time": "2022-03-09T01:01:11.415Z"
   },
   {
    "duration": 91,
    "start_time": "2022-03-09T01:01:11.439Z"
   },
   {
    "duration": 104,
    "start_time": "2022-03-09T01:02:36.129Z"
   },
   {
    "duration": 829,
    "start_time": "2022-03-09T01:02:45.608Z"
   },
   {
    "duration": 85,
    "start_time": "2022-03-09T01:02:46.440Z"
   },
   {
    "duration": 125,
    "start_time": "2022-03-09T01:02:46.527Z"
   },
   {
    "duration": 17,
    "start_time": "2022-03-09T01:02:46.654Z"
   },
   {
    "duration": 16,
    "start_time": "2022-03-09T01:02:46.686Z"
   },
   {
    "duration": 57,
    "start_time": "2022-03-09T01:02:46.704Z"
   },
   {
    "duration": 110,
    "start_time": "2022-03-09T01:02:46.763Z"
   },
   {
    "duration": 66,
    "start_time": "2022-03-09T01:02:46.877Z"
   },
   {
    "duration": 2698,
    "start_time": "2022-03-09T01:02:46.946Z"
   },
   {
    "duration": 10,
    "start_time": "2022-03-09T01:02:49.646Z"
   },
   {
    "duration": 37,
    "start_time": "2022-03-09T01:02:49.658Z"
   },
   {
    "duration": 18,
    "start_time": "2022-03-09T01:02:49.698Z"
   },
   {
    "duration": 24,
    "start_time": "2022-03-09T01:02:49.719Z"
   },
   {
    "duration": 9,
    "start_time": "2022-03-09T01:02:49.746Z"
   },
   {
    "duration": 3079,
    "start_time": "2022-03-09T01:02:49.787Z"
   },
   {
    "duration": 24,
    "start_time": "2022-03-09T01:02:52.869Z"
   },
   {
    "duration": 3107,
    "start_time": "2022-03-09T01:02:52.896Z"
   },
   {
    "duration": 7,
    "start_time": "2022-03-09T01:02:56.005Z"
   },
   {
    "duration": 9,
    "start_time": "2022-03-09T01:02:56.015Z"
   },
   {
    "duration": 17,
    "start_time": "2022-03-09T01:02:56.026Z"
   },
   {
    "duration": 52,
    "start_time": "2022-03-09T01:02:56.046Z"
   },
   {
    "duration": 7,
    "start_time": "2022-03-09T01:02:56.100Z"
   },
   {
    "duration": 15,
    "start_time": "2022-03-09T01:02:56.112Z"
   },
   {
    "duration": 16,
    "start_time": "2022-03-09T01:02:56.130Z"
   },
   {
    "duration": 8,
    "start_time": "2022-03-09T01:02:56.188Z"
   },
   {
    "duration": 96,
    "start_time": "2022-03-09T01:02:56.198Z"
   },
   {
    "duration": 53,
    "start_time": "2022-03-09T01:02:56.296Z"
   },
   {
    "duration": 10,
    "start_time": "2022-03-09T01:02:56.351Z"
   },
   {
    "duration": 10,
    "start_time": "2022-03-09T01:02:56.388Z"
   },
   {
    "duration": 21,
    "start_time": "2022-03-09T01:02:56.400Z"
   },
   {
    "duration": 110,
    "start_time": "2022-03-09T01:02:56.423Z"
   },
   {
    "duration": 20,
    "start_time": "2022-03-09T01:02:56.535Z"
   },
   {
    "duration": 49,
    "start_time": "2022-03-09T01:02:56.557Z"
   },
   {
    "duration": 57,
    "start_time": "2022-03-09T01:02:56.608Z"
   },
   {
    "duration": 1063,
    "start_time": "2022-03-09T01:02:56.688Z"
   },
   {
    "duration": 35,
    "start_time": "2022-03-09T01:02:57.754Z"
   },
   {
    "duration": 23,
    "start_time": "2022-03-09T01:02:57.792Z"
   },
   {
    "duration": 594,
    "start_time": "2022-03-09T01:02:57.817Z"
   },
   {
    "duration": 229,
    "start_time": "2022-03-09T01:02:58.413Z"
   },
   {
    "duration": 570,
    "start_time": "2022-03-09T01:02:58.644Z"
   },
   {
    "duration": 222,
    "start_time": "2022-03-09T01:02:59.216Z"
   },
   {
    "duration": 548,
    "start_time": "2022-03-09T01:02:59.440Z"
   },
   {
    "duration": 487,
    "start_time": "2022-03-09T01:02:59.991Z"
   },
   {
    "duration": 255,
    "start_time": "2022-03-09T01:03:00.481Z"
   },
   {
    "duration": 228,
    "start_time": "2022-03-09T01:03:00.739Z"
   },
   {
    "duration": 53,
    "start_time": "2022-03-09T01:03:00.970Z"
   },
   {
    "duration": 174,
    "start_time": "2022-03-09T01:03:01.025Z"
   },
   {
    "duration": 5816,
    "start_time": "2022-03-09T01:03:01.201Z"
   },
   {
    "duration": 7896,
    "start_time": "2022-03-09T01:03:07.019Z"
   },
   {
    "duration": 21,
    "start_time": "2022-03-09T01:03:14.918Z"
   },
   {
    "duration": 45,
    "start_time": "2022-03-09T01:03:14.942Z"
   },
   {
    "duration": 35,
    "start_time": "2022-03-09T01:03:14.990Z"
   },
   {
    "duration": 292,
    "start_time": "2022-03-09T01:03:15.028Z"
   },
   {
    "duration": 24,
    "start_time": "2022-03-09T01:03:15.323Z"
   },
   {
    "duration": -1201,
    "start_time": "2022-03-09T01:03:16.643Z"
   },
   {
    "duration": 21,
    "start_time": "2022-03-09T01:03:29.732Z"
   },
   {
    "duration": 330,
    "start_time": "2022-03-09T01:06:11.898Z"
   },
   {
    "duration": 239,
    "start_time": "2022-03-09T01:07:03.795Z"
   },
   {
    "duration": 223,
    "start_time": "2022-03-09T01:10:38.730Z"
   },
   {
    "duration": 247,
    "start_time": "2022-03-09T01:11:31.719Z"
   },
   {
    "duration": 223,
    "start_time": "2022-03-09T01:11:50.982Z"
   },
   {
    "duration": 227,
    "start_time": "2022-03-09T01:11:58.955Z"
   },
   {
    "duration": 22,
    "start_time": "2022-03-09T01:12:13.953Z"
   },
   {
    "duration": 12,
    "start_time": "2022-03-09T01:15:23.799Z"
   },
   {
    "duration": 20,
    "start_time": "2022-03-09T01:15:31.622Z"
   },
   {
    "duration": 22,
    "start_time": "2022-03-09T01:17:21.324Z"
   },
   {
    "duration": 18,
    "start_time": "2022-03-09T01:17:58.443Z"
   },
   {
    "duration": 63,
    "start_time": "2022-03-09T01:29:22.664Z"
   },
   {
    "duration": 5400,
    "start_time": "2022-03-09T01:31:08.643Z"
   },
   {
    "duration": 235,
    "start_time": "2022-03-09T01:32:16.521Z"
   },
   {
    "duration": 240,
    "start_time": "2022-03-09T01:33:08.206Z"
   },
   {
    "duration": 234,
    "start_time": "2022-03-09T01:35:16.346Z"
   },
   {
    "duration": 236,
    "start_time": "2022-03-09T01:38:44.088Z"
   },
   {
    "duration": 847,
    "start_time": "2022-03-09T01:38:55.517Z"
   },
   {
    "duration": 83,
    "start_time": "2022-03-09T01:38:56.367Z"
   },
   {
    "duration": 119,
    "start_time": "2022-03-09T01:38:56.452Z"
   },
   {
    "duration": 23,
    "start_time": "2022-03-09T01:38:56.574Z"
   },
   {
    "duration": 15,
    "start_time": "2022-03-09T01:38:56.599Z"
   },
   {
    "duration": 39,
    "start_time": "2022-03-09T01:38:56.617Z"
   },
   {
    "duration": 130,
    "start_time": "2022-03-09T01:38:56.658Z"
   },
   {
    "duration": 60,
    "start_time": "2022-03-09T01:38:56.791Z"
   },
   {
    "duration": 2653,
    "start_time": "2022-03-09T01:38:56.854Z"
   },
   {
    "duration": 9,
    "start_time": "2022-03-09T01:38:59.509Z"
   },
   {
    "duration": 12,
    "start_time": "2022-03-09T01:38:59.520Z"
   },
   {
    "duration": 55,
    "start_time": "2022-03-09T01:38:59.534Z"
   },
   {
    "duration": 19,
    "start_time": "2022-03-09T01:38:59.591Z"
   },
   {
    "duration": 8,
    "start_time": "2022-03-09T01:38:59.613Z"
   },
   {
    "duration": 3125,
    "start_time": "2022-03-09T01:38:59.623Z"
   },
   {
    "duration": 7,
    "start_time": "2022-03-09T01:39:02.750Z"
   },
   {
    "duration": 2955,
    "start_time": "2022-03-09T01:39:02.759Z"
   },
   {
    "duration": 7,
    "start_time": "2022-03-09T01:39:05.716Z"
   },
   {
    "duration": 8,
    "start_time": "2022-03-09T01:39:05.725Z"
   },
   {
    "duration": 52,
    "start_time": "2022-03-09T01:39:05.735Z"
   },
   {
    "duration": 13,
    "start_time": "2022-03-09T01:39:05.790Z"
   },
   {
    "duration": 7,
    "start_time": "2022-03-09T01:39:05.806Z"
   },
   {
    "duration": 15,
    "start_time": "2022-03-09T01:39:05.819Z"
   },
   {
    "duration": 56,
    "start_time": "2022-03-09T01:39:05.836Z"
   },
   {
    "duration": 9,
    "start_time": "2022-03-09T01:39:05.895Z"
   },
   {
    "duration": 105,
    "start_time": "2022-03-09T01:39:05.907Z"
   },
   {
    "duration": 53,
    "start_time": "2022-03-09T01:39:06.015Z"
   },
   {
    "duration": 13,
    "start_time": "2022-03-09T01:39:06.088Z"
   },
   {
    "duration": 21,
    "start_time": "2022-03-09T01:39:06.103Z"
   },
   {
    "duration": 18,
    "start_time": "2022-03-09T01:39:06.127Z"
   },
   {
    "duration": 120,
    "start_time": "2022-03-09T01:39:06.148Z"
   },
   {
    "duration": 36,
    "start_time": "2022-03-09T01:39:06.271Z"
   },
   {
    "duration": 30,
    "start_time": "2022-03-09T01:39:06.310Z"
   },
   {
    "duration": 85,
    "start_time": "2022-03-09T01:39:06.342Z"
   },
   {
    "duration": 969,
    "start_time": "2022-03-09T01:39:06.429Z"
   },
   {
    "duration": 23,
    "start_time": "2022-03-09T01:39:07.400Z"
   },
   {
    "duration": 22,
    "start_time": "2022-03-09T01:39:07.426Z"
   },
   {
    "duration": 503,
    "start_time": "2022-03-09T01:39:07.450Z"
   },
   {
    "duration": 231,
    "start_time": "2022-03-09T01:39:07.956Z"
   },
   {
    "duration": 562,
    "start_time": "2022-03-09T01:39:08.189Z"
   },
   {
    "duration": 233,
    "start_time": "2022-03-09T01:39:08.754Z"
   },
   {
    "duration": 565,
    "start_time": "2022-03-09T01:39:08.990Z"
   },
   {
    "duration": 506,
    "start_time": "2022-03-09T01:39:09.557Z"
   },
   {
    "duration": 230,
    "start_time": "2022-03-09T01:39:10.066Z"
   },
   {
    "duration": 229,
    "start_time": "2022-03-09T01:39:10.299Z"
   },
   {
    "duration": 55,
    "start_time": "2022-03-09T01:39:10.531Z"
   },
   {
    "duration": 150,
    "start_time": "2022-03-09T01:39:10.589Z"
   },
   {
    "duration": 5881,
    "start_time": "2022-03-09T01:39:10.741Z"
   },
   {
    "duration": 7751,
    "start_time": "2022-03-09T01:39:16.624Z"
   },
   {
    "duration": 23,
    "start_time": "2022-03-09T01:39:24.377Z"
   },
   {
    "duration": 17,
    "start_time": "2022-03-09T01:39:24.403Z"
   },
   {
    "duration": 66,
    "start_time": "2022-03-09T01:39:24.422Z"
   },
   {
    "duration": 287,
    "start_time": "2022-03-09T01:39:24.491Z"
   },
   {
    "duration": 28,
    "start_time": "2022-03-09T01:39:24.780Z"
   },
   {
    "duration": 20,
    "start_time": "2022-03-09T01:39:24.810Z"
   },
   {
    "duration": 121,
    "start_time": "2022-03-09T01:39:24.832Z"
   },
   {
    "duration": 95,
    "start_time": "2022-03-09T01:39:58.509Z"
   },
   {
    "duration": 99,
    "start_time": "2022-03-09T01:40:33.388Z"
   },
   {
    "duration": 15,
    "start_time": "2022-03-09T01:41:15.957Z"
   },
   {
    "duration": 16,
    "start_time": "2022-03-09T01:41:53.154Z"
   },
   {
    "duration": 15,
    "start_time": "2022-03-09T01:42:28.638Z"
   },
   {
    "duration": 85,
    "start_time": "2022-03-09T01:44:23.485Z"
   },
   {
    "duration": 15,
    "start_time": "2022-03-09T01:44:40.621Z"
   },
   {
    "duration": 63,
    "start_time": "2022-03-09T01:45:09.549Z"
   },
   {
    "duration": 5512,
    "start_time": "2022-03-09T01:47:34.566Z"
   },
   {
    "duration": 14,
    "start_time": "2022-03-09T01:47:52.041Z"
   },
   {
    "duration": 13,
    "start_time": "2022-03-09T01:50:54.634Z"
   },
   {
    "duration": 847,
    "start_time": "2022-03-09T01:51:07.728Z"
   },
   {
    "duration": 83,
    "start_time": "2022-03-09T01:51:08.578Z"
   },
   {
    "duration": 127,
    "start_time": "2022-03-09T01:51:08.665Z"
   },
   {
    "duration": 15,
    "start_time": "2022-03-09T01:51:08.795Z"
   },
   {
    "duration": 15,
    "start_time": "2022-03-09T01:51:08.812Z"
   },
   {
    "duration": 67,
    "start_time": "2022-03-09T01:51:08.829Z"
   },
   {
    "duration": 119,
    "start_time": "2022-03-09T01:51:08.899Z"
   },
   {
    "duration": 80,
    "start_time": "2022-03-09T01:51:09.024Z"
   },
   {
    "duration": 3347,
    "start_time": "2022-03-09T01:51:09.107Z"
   },
   {
    "duration": 8,
    "start_time": "2022-03-09T01:51:12.456Z"
   },
   {
    "duration": 28,
    "start_time": "2022-03-09T01:51:12.466Z"
   },
   {
    "duration": 17,
    "start_time": "2022-03-09T01:51:12.496Z"
   },
   {
    "duration": 18,
    "start_time": "2022-03-09T01:51:12.515Z"
   },
   {
    "duration": 7,
    "start_time": "2022-03-09T01:51:12.535Z"
   },
   {
    "duration": 3095,
    "start_time": "2022-03-09T01:51:12.544Z"
   },
   {
    "duration": 7,
    "start_time": "2022-03-09T01:51:15.641Z"
   },
   {
    "duration": 3166,
    "start_time": "2022-03-09T01:51:15.650Z"
   },
   {
    "duration": 7,
    "start_time": "2022-03-09T01:51:18.818Z"
   },
   {
    "duration": 8,
    "start_time": "2022-03-09T01:51:18.828Z"
   },
   {
    "duration": 49,
    "start_time": "2022-03-09T01:51:18.838Z"
   },
   {
    "duration": 23,
    "start_time": "2022-03-09T01:51:18.889Z"
   },
   {
    "duration": 12,
    "start_time": "2022-03-09T01:51:18.914Z"
   },
   {
    "duration": 19,
    "start_time": "2022-03-09T01:51:18.931Z"
   },
   {
    "duration": 42,
    "start_time": "2022-03-09T01:51:18.954Z"
   },
   {
    "duration": 7,
    "start_time": "2022-03-09T01:51:18.998Z"
   },
   {
    "duration": 97,
    "start_time": "2022-03-09T01:51:19.007Z"
   },
   {
    "duration": 53,
    "start_time": "2022-03-09T01:51:19.107Z"
   },
   {
    "duration": 31,
    "start_time": "2022-03-09T01:51:19.162Z"
   },
   {
    "duration": 13,
    "start_time": "2022-03-09T01:51:19.195Z"
   },
   {
    "duration": 17,
    "start_time": "2022-03-09T01:51:19.211Z"
   },
   {
    "duration": 118,
    "start_time": "2022-03-09T01:51:19.231Z"
   },
   {
    "duration": 19,
    "start_time": "2022-03-09T01:51:19.351Z"
   },
   {
    "duration": 43,
    "start_time": "2022-03-09T01:51:19.372Z"
   },
   {
    "duration": 73,
    "start_time": "2022-03-09T01:51:19.417Z"
   },
   {
    "duration": 954,
    "start_time": "2022-03-09T01:51:19.492Z"
   },
   {
    "duration": 39,
    "start_time": "2022-03-09T01:51:20.448Z"
   },
   {
    "duration": 23,
    "start_time": "2022-03-09T01:51:20.489Z"
   },
   {
    "duration": 494,
    "start_time": "2022-03-09T01:51:20.514Z"
   },
   {
    "duration": 227,
    "start_time": "2022-03-09T01:51:21.010Z"
   },
   {
    "duration": 569,
    "start_time": "2022-03-09T01:51:21.239Z"
   },
   {
    "duration": 225,
    "start_time": "2022-03-09T01:51:21.810Z"
   },
   {
    "duration": 542,
    "start_time": "2022-03-09T01:51:22.037Z"
   },
   {
    "duration": 490,
    "start_time": "2022-03-09T01:51:22.586Z"
   },
   {
    "duration": 248,
    "start_time": "2022-03-09T01:51:23.079Z"
   },
   {
    "duration": 228,
    "start_time": "2022-03-09T01:51:23.329Z"
   },
   {
    "duration": 47,
    "start_time": "2022-03-09T01:51:23.560Z"
   },
   {
    "duration": 148,
    "start_time": "2022-03-09T01:51:23.609Z"
   },
   {
    "duration": 6091,
    "start_time": "2022-03-09T01:51:23.760Z"
   },
   {
    "duration": 7966,
    "start_time": "2022-03-09T01:51:29.854Z"
   },
   {
    "duration": 18,
    "start_time": "2022-03-09T01:51:37.823Z"
   },
   {
    "duration": 16,
    "start_time": "2022-03-09T01:51:37.844Z"
   },
   {
    "duration": 32,
    "start_time": "2022-03-09T01:51:37.888Z"
   },
   {
    "duration": 288,
    "start_time": "2022-03-09T01:51:37.923Z"
   },
   {
    "duration": 21,
    "start_time": "2022-03-09T01:51:38.214Z"
   },
   {
    "duration": 23,
    "start_time": "2022-03-09T01:51:38.238Z"
   },
   {
    "duration": 31,
    "start_time": "2022-03-09T01:51:38.263Z"
   },
   {
    "duration": 17,
    "start_time": "2022-03-09T01:51:55.837Z"
   },
   {
    "duration": 72,
    "start_time": "2022-03-09T01:53:16.721Z"
   },
   {
    "duration": 71,
    "start_time": "2022-03-09T01:53:49.621Z"
   },
   {
    "duration": 806,
    "start_time": "2022-03-09T01:54:14.335Z"
   },
   {
    "duration": 81,
    "start_time": "2022-03-09T01:54:15.143Z"
   },
   {
    "duration": 115,
    "start_time": "2022-03-09T01:54:15.226Z"
   },
   {
    "duration": 14,
    "start_time": "2022-03-09T01:54:15.344Z"
   },
   {
    "duration": 36,
    "start_time": "2022-03-09T01:54:15.361Z"
   },
   {
    "duration": 39,
    "start_time": "2022-03-09T01:54:15.399Z"
   },
   {
    "duration": 121,
    "start_time": "2022-03-09T01:54:15.440Z"
   },
   {
    "duration": 69,
    "start_time": "2022-03-09T01:54:15.565Z"
   },
   {
    "duration": 2650,
    "start_time": "2022-03-09T01:54:15.637Z"
   },
   {
    "duration": 9,
    "start_time": "2022-03-09T01:54:18.289Z"
   },
   {
    "duration": 11,
    "start_time": "2022-03-09T01:54:18.301Z"
   },
   {
    "duration": 19,
    "start_time": "2022-03-09T01:54:18.315Z"
   },
   {
    "duration": 56,
    "start_time": "2022-03-09T01:54:18.337Z"
   },
   {
    "duration": 8,
    "start_time": "2022-03-09T01:54:18.396Z"
   },
   {
    "duration": 3218,
    "start_time": "2022-03-09T01:54:18.406Z"
   },
   {
    "duration": 7,
    "start_time": "2022-03-09T01:54:21.626Z"
   },
   {
    "duration": 3081,
    "start_time": "2022-03-09T01:54:21.636Z"
   },
   {
    "duration": 9,
    "start_time": "2022-03-09T01:54:24.720Z"
   },
   {
    "duration": 11,
    "start_time": "2022-03-09T01:54:24.731Z"
   },
   {
    "duration": 54,
    "start_time": "2022-03-09T01:54:24.745Z"
   },
   {
    "duration": 13,
    "start_time": "2022-03-09T01:54:24.801Z"
   },
   {
    "duration": 7,
    "start_time": "2022-03-09T01:54:24.816Z"
   },
   {
    "duration": 15,
    "start_time": "2022-03-09T01:54:24.829Z"
   },
   {
    "duration": 55,
    "start_time": "2022-03-09T01:54:24.847Z"
   },
   {
    "duration": 7,
    "start_time": "2022-03-09T01:54:24.905Z"
   },
   {
    "duration": 103,
    "start_time": "2022-03-09T01:54:24.914Z"
   },
   {
    "duration": 70,
    "start_time": "2022-03-09T01:54:25.020Z"
   },
   {
    "duration": 12,
    "start_time": "2022-03-09T01:54:25.093Z"
   },
   {
    "duration": 9,
    "start_time": "2022-03-09T01:54:25.108Z"
   },
   {
    "duration": 10,
    "start_time": "2022-03-09T01:54:25.119Z"
   },
   {
    "duration": 176,
    "start_time": "2022-03-09T01:54:25.132Z"
   },
   {
    "duration": 19,
    "start_time": "2022-03-09T01:54:25.310Z"
   },
   {
    "duration": 28,
    "start_time": "2022-03-09T01:54:25.331Z"
   },
   {
    "duration": 57,
    "start_time": "2022-03-09T01:54:25.362Z"
   },
   {
    "duration": 1018,
    "start_time": "2022-03-09T01:54:25.421Z"
   },
   {
    "duration": 66,
    "start_time": "2022-03-09T01:54:26.441Z"
   },
   {
    "duration": 25,
    "start_time": "2022-03-09T01:54:26.509Z"
   },
   {
    "duration": 579,
    "start_time": "2022-03-09T01:54:26.536Z"
   },
   {
    "duration": 235,
    "start_time": "2022-03-09T01:54:27.117Z"
   },
   {
    "duration": 563,
    "start_time": "2022-03-09T01:54:27.355Z"
   },
   {
    "duration": 228,
    "start_time": "2022-03-09T01:54:27.920Z"
   },
   {
    "duration": 530,
    "start_time": "2022-03-09T01:54:28.150Z"
   },
   {
    "duration": 497,
    "start_time": "2022-03-09T01:54:28.686Z"
   },
   {
    "duration": 237,
    "start_time": "2022-03-09T01:54:29.185Z"
   },
   {
    "duration": 229,
    "start_time": "2022-03-09T01:54:29.424Z"
   },
   {
    "duration": 49,
    "start_time": "2022-03-09T01:54:29.655Z"
   },
   {
    "duration": 157,
    "start_time": "2022-03-09T01:54:29.706Z"
   },
   {
    "duration": 5872,
    "start_time": "2022-03-09T01:54:29.865Z"
   },
   {
    "duration": 8352,
    "start_time": "2022-03-09T01:54:35.740Z"
   },
   {
    "duration": 17,
    "start_time": "2022-03-09T01:54:44.095Z"
   },
   {
    "duration": 16,
    "start_time": "2022-03-09T01:54:44.114Z"
   },
   {
    "duration": 67,
    "start_time": "2022-03-09T01:54:44.132Z"
   },
   {
    "duration": 279,
    "start_time": "2022-03-09T01:54:44.201Z"
   },
   {
    "duration": 22,
    "start_time": "2022-03-09T01:54:44.482Z"
   },
   {
    "duration": 22,
    "start_time": "2022-03-09T01:54:44.506Z"
   },
   {
    "duration": 87,
    "start_time": "2022-03-09T01:54:44.531Z"
   },
   {
    "duration": 85,
    "start_time": "2022-03-09T01:56:03.610Z"
   },
   {
    "duration": 72,
    "start_time": "2022-03-09T01:56:11.759Z"
   },
   {
    "duration": 70,
    "start_time": "2022-03-09T01:56:27.156Z"
   },
   {
    "duration": 85,
    "start_time": "2022-03-09T01:56:54.704Z"
   },
   {
    "duration": 872,
    "start_time": "2022-03-09T01:57:02.456Z"
   },
   {
    "duration": 76,
    "start_time": "2022-03-09T01:57:03.330Z"
   },
   {
    "duration": 114,
    "start_time": "2022-03-09T01:57:03.409Z"
   },
   {
    "duration": 14,
    "start_time": "2022-03-09T01:57:03.526Z"
   },
   {
    "duration": 14,
    "start_time": "2022-03-09T01:57:03.542Z"
   },
   {
    "duration": 60,
    "start_time": "2022-03-09T01:57:03.558Z"
   },
   {
    "duration": 125,
    "start_time": "2022-03-09T01:57:03.621Z"
   },
   {
    "duration": 65,
    "start_time": "2022-03-09T01:57:03.750Z"
   },
   {
    "duration": 2638,
    "start_time": "2022-03-09T01:57:03.818Z"
   },
   {
    "duration": 9,
    "start_time": "2022-03-09T01:57:06.458Z"
   },
   {
    "duration": 28,
    "start_time": "2022-03-09T01:57:06.469Z"
   },
   {
    "duration": 18,
    "start_time": "2022-03-09T01:57:06.499Z"
   },
   {
    "duration": 18,
    "start_time": "2022-03-09T01:57:06.519Z"
   },
   {
    "duration": 8,
    "start_time": "2022-03-09T01:57:06.539Z"
   },
   {
    "duration": 2948,
    "start_time": "2022-03-09T01:57:06.588Z"
   },
   {
    "duration": 6,
    "start_time": "2022-03-09T01:57:09.539Z"
   },
   {
    "duration": 3122,
    "start_time": "2022-03-09T01:57:09.548Z"
   },
   {
    "duration": 19,
    "start_time": "2022-03-09T01:57:12.672Z"
   },
   {
    "duration": 12,
    "start_time": "2022-03-09T01:57:12.693Z"
   },
   {
    "duration": 19,
    "start_time": "2022-03-09T01:57:12.707Z"
   },
   {
    "duration": 13,
    "start_time": "2022-03-09T01:57:12.728Z"
   },
   {
    "duration": 6,
    "start_time": "2022-03-09T01:57:12.743Z"
   },
   {
    "duration": 15,
    "start_time": "2022-03-09T01:57:12.791Z"
   },
   {
    "duration": 15,
    "start_time": "2022-03-09T01:57:12.809Z"
   },
   {
    "duration": 6,
    "start_time": "2022-03-09T01:57:12.826Z"
   },
   {
    "duration": 107,
    "start_time": "2022-03-09T01:57:12.834Z"
   },
   {
    "duration": 65,
    "start_time": "2022-03-09T01:57:12.943Z"
   },
   {
    "duration": 9,
    "start_time": "2022-03-09T01:57:13.010Z"
   },
   {
    "duration": 6,
    "start_time": "2022-03-09T01:57:13.021Z"
   },
   {
    "duration": 8,
    "start_time": "2022-03-09T01:57:13.029Z"
   },
   {
    "duration": 128,
    "start_time": "2022-03-09T01:57:13.039Z"
   },
   {
    "duration": 31,
    "start_time": "2022-03-09T01:57:13.170Z"
   },
   {
    "duration": 27,
    "start_time": "2022-03-09T01:57:13.203Z"
   },
   {
    "duration": 78,
    "start_time": "2022-03-09T01:57:13.232Z"
   },
   {
    "duration": 948,
    "start_time": "2022-03-09T01:57:13.312Z"
   },
   {
    "duration": 38,
    "start_time": "2022-03-09T01:57:14.263Z"
   },
   {
    "duration": 21,
    "start_time": "2022-03-09T01:57:14.303Z"
   },
   {
    "duration": 473,
    "start_time": "2022-03-09T01:57:14.327Z"
   },
   {
    "duration": 227,
    "start_time": "2022-03-09T01:57:14.802Z"
   },
   {
    "duration": 555,
    "start_time": "2022-03-09T01:57:15.032Z"
   },
   {
    "duration": 222,
    "start_time": "2022-03-09T01:57:15.589Z"
   },
   {
    "duration": 538,
    "start_time": "2022-03-09T01:57:15.814Z"
   },
   {
    "duration": 474,
    "start_time": "2022-03-09T01:57:16.355Z"
   },
   {
    "duration": 227,
    "start_time": "2022-03-09T01:57:16.831Z"
   },
   {
    "duration": 228,
    "start_time": "2022-03-09T01:57:17.061Z"
   },
   {
    "duration": 40,
    "start_time": "2022-03-09T01:57:17.291Z"
   },
   {
    "duration": 167,
    "start_time": "2022-03-09T01:57:17.334Z"
   },
   {
    "duration": 5775,
    "start_time": "2022-03-09T01:57:17.504Z"
   },
   {
    "duration": 8292,
    "start_time": "2022-03-09T01:57:23.281Z"
   },
   {
    "duration": 22,
    "start_time": "2022-03-09T01:57:31.576Z"
   },
   {
    "duration": 30,
    "start_time": "2022-03-09T01:57:31.601Z"
   },
   {
    "duration": 36,
    "start_time": "2022-03-09T01:57:31.633Z"
   },
   {
    "duration": 288,
    "start_time": "2022-03-09T01:57:31.671Z"
   },
   {
    "duration": 32,
    "start_time": "2022-03-09T01:57:31.962Z"
   },
   {
    "duration": 26,
    "start_time": "2022-03-09T01:57:31.996Z"
   },
   {
    "duration": 89,
    "start_time": "2022-03-09T01:57:32.024Z"
   },
   {
    "duration": 71,
    "start_time": "2022-03-09T01:57:47.559Z"
   },
   {
    "duration": 5472,
    "start_time": "2022-03-09T01:58:39.959Z"
   },
   {
    "duration": 29,
    "start_time": "2022-03-09T01:59:20.010Z"
   },
   {
    "duration": 237,
    "start_time": "2022-03-09T02:00:51.803Z"
   },
   {
    "duration": 241,
    "start_time": "2022-03-09T02:02:55.377Z"
   },
   {
    "duration": 5477,
    "start_time": "2022-03-09T02:03:06.025Z"
   },
   {
    "duration": 18,
    "start_time": "2022-03-09T02:03:29.606Z"
   },
   {
    "duration": 21,
    "start_time": "2022-03-09T02:04:22.971Z"
   },
   {
    "duration": 944,
    "start_time": "2022-03-09T02:04:33.685Z"
   },
   {
    "duration": 85,
    "start_time": "2022-03-09T02:04:34.631Z"
   },
   {
    "duration": 128,
    "start_time": "2022-03-09T02:04:34.720Z"
   },
   {
    "duration": 14,
    "start_time": "2022-03-09T02:04:34.851Z"
   },
   {
    "duration": 26,
    "start_time": "2022-03-09T02:04:34.868Z"
   },
   {
    "duration": 37,
    "start_time": "2022-03-09T02:04:34.897Z"
   },
   {
    "duration": 129,
    "start_time": "2022-03-09T02:04:34.937Z"
   },
   {
    "duration": 68,
    "start_time": "2022-03-09T02:04:35.069Z"
   },
   {
    "duration": 2709,
    "start_time": "2022-03-09T02:04:35.140Z"
   },
   {
    "duration": 8,
    "start_time": "2022-03-09T02:04:37.851Z"
   },
   {
    "duration": 36,
    "start_time": "2022-03-09T02:04:37.862Z"
   },
   {
    "duration": 20,
    "start_time": "2022-03-09T02:04:37.901Z"
   },
   {
    "duration": 64,
    "start_time": "2022-03-09T02:04:37.924Z"
   },
   {
    "duration": 10,
    "start_time": "2022-03-09T02:04:37.991Z"
   },
   {
    "duration": 3089,
    "start_time": "2022-03-09T02:04:38.003Z"
   },
   {
    "duration": 10,
    "start_time": "2022-03-09T02:04:41.095Z"
   },
   {
    "duration": 3162,
    "start_time": "2022-03-09T02:04:41.108Z"
   },
   {
    "duration": 9,
    "start_time": "2022-03-09T02:04:44.288Z"
   },
   {
    "duration": 8,
    "start_time": "2022-03-09T02:04:44.300Z"
   },
   {
    "duration": 17,
    "start_time": "2022-03-09T02:04:44.310Z"
   },
   {
    "duration": 13,
    "start_time": "2022-03-09T02:04:44.330Z"
   },
   {
    "duration": 8,
    "start_time": "2022-03-09T02:04:44.387Z"
   },
   {
    "duration": 15,
    "start_time": "2022-03-09T02:04:44.401Z"
   },
   {
    "duration": 17,
    "start_time": "2022-03-09T02:04:44.419Z"
   },
   {
    "duration": 7,
    "start_time": "2022-03-09T02:04:44.438Z"
   },
   {
    "duration": 108,
    "start_time": "2022-03-09T02:04:44.448Z"
   },
   {
    "duration": 73,
    "start_time": "2022-03-09T02:04:44.558Z"
   },
   {
    "duration": 10,
    "start_time": "2022-03-09T02:04:44.633Z"
   },
   {
    "duration": 9,
    "start_time": "2022-03-09T02:04:44.645Z"
   },
   {
    "duration": 38,
    "start_time": "2022-03-09T02:04:44.656Z"
   },
   {
    "duration": 108,
    "start_time": "2022-03-09T02:04:44.696Z"
   },
   {
    "duration": 21,
    "start_time": "2022-03-09T02:04:44.806Z"
   },
   {
    "duration": 29,
    "start_time": "2022-03-09T02:04:44.829Z"
   },
   {
    "duration": 80,
    "start_time": "2022-03-09T02:04:44.860Z"
   },
   {
    "duration": 988,
    "start_time": "2022-03-09T02:04:44.943Z"
   },
   {
    "duration": 22,
    "start_time": "2022-03-09T02:04:45.933Z"
   },
   {
    "duration": 43,
    "start_time": "2022-03-09T02:04:45.958Z"
   },
   {
    "duration": 480,
    "start_time": "2022-03-09T02:04:46.003Z"
   },
   {
    "duration": 238,
    "start_time": "2022-03-09T02:04:46.486Z"
   },
   {
    "duration": 563,
    "start_time": "2022-03-09T02:04:46.726Z"
   },
   {
    "duration": 232,
    "start_time": "2022-03-09T02:04:47.292Z"
   },
   {
    "duration": 552,
    "start_time": "2022-03-09T02:04:47.526Z"
   },
   {
    "duration": 499,
    "start_time": "2022-03-09T02:04:48.081Z"
   },
   {
    "duration": 236,
    "start_time": "2022-03-09T02:04:48.586Z"
   },
   {
    "duration": 233,
    "start_time": "2022-03-09T02:04:48.824Z"
   },
   {
    "duration": 52,
    "start_time": "2022-03-09T02:04:49.059Z"
   },
   {
    "duration": 147,
    "start_time": "2022-03-09T02:04:49.113Z"
   },
   {
    "duration": 6947,
    "start_time": "2022-03-09T02:04:49.263Z"
   },
   {
    "duration": 7876,
    "start_time": "2022-03-09T02:04:56.212Z"
   },
   {
    "duration": 18,
    "start_time": "2022-03-09T02:05:04.090Z"
   },
   {
    "duration": 17,
    "start_time": "2022-03-09T02:05:04.110Z"
   },
   {
    "duration": 64,
    "start_time": "2022-03-09T02:05:04.129Z"
   },
   {
    "duration": 281,
    "start_time": "2022-03-09T02:05:04.195Z"
   },
   {
    "duration": 28,
    "start_time": "2022-03-09T02:05:04.478Z"
   },
   {
    "duration": 21,
    "start_time": "2022-03-09T02:05:04.508Z"
   },
   {
    "duration": 18,
    "start_time": "2022-03-09T02:05:04.531Z"
   },
   {
    "duration": 23,
    "start_time": "2022-03-09T02:05:32.700Z"
   },
   {
    "duration": 18,
    "start_time": "2022-03-09T02:06:49.223Z"
   },
   {
    "duration": 16,
    "start_time": "2022-03-09T02:07:26.280Z"
   },
   {
    "duration": 849,
    "start_time": "2022-03-09T02:07:46.008Z"
   },
   {
    "duration": 83,
    "start_time": "2022-03-09T02:07:46.860Z"
   },
   {
    "duration": 121,
    "start_time": "2022-03-09T02:07:46.945Z"
   },
   {
    "duration": 23,
    "start_time": "2022-03-09T02:07:47.069Z"
   },
   {
    "duration": 14,
    "start_time": "2022-03-09T02:07:47.094Z"
   },
   {
    "duration": 42,
    "start_time": "2022-03-09T02:07:47.111Z"
   },
   {
    "duration": 136,
    "start_time": "2022-03-09T02:07:47.156Z"
   },
   {
    "duration": 60,
    "start_time": "2022-03-09T02:07:47.295Z"
   },
   {
    "duration": 2698,
    "start_time": "2022-03-09T02:07:47.358Z"
   },
   {
    "duration": 9,
    "start_time": "2022-03-09T02:07:50.058Z"
   },
   {
    "duration": 13,
    "start_time": "2022-03-09T02:07:50.087Z"
   },
   {
    "duration": 18,
    "start_time": "2022-03-09T02:07:50.102Z"
   },
   {
    "duration": 19,
    "start_time": "2022-03-09T02:07:50.122Z"
   },
   {
    "duration": 49,
    "start_time": "2022-03-09T02:07:50.144Z"
   },
   {
    "duration": 3108,
    "start_time": "2022-03-09T02:07:50.195Z"
   },
   {
    "duration": 7,
    "start_time": "2022-03-09T02:07:53.305Z"
   },
   {
    "duration": 3092,
    "start_time": "2022-03-09T02:07:53.315Z"
   },
   {
    "duration": 8,
    "start_time": "2022-03-09T02:07:56.410Z"
   },
   {
    "duration": 11,
    "start_time": "2022-03-09T02:07:56.421Z"
   },
   {
    "duration": 56,
    "start_time": "2022-03-09T02:07:56.435Z"
   },
   {
    "duration": 17,
    "start_time": "2022-03-09T02:07:56.494Z"
   },
   {
    "duration": 7,
    "start_time": "2022-03-09T02:07:56.513Z"
   },
   {
    "duration": 22,
    "start_time": "2022-03-09T02:07:56.526Z"
   },
   {
    "duration": 17,
    "start_time": "2022-03-09T02:07:56.588Z"
   },
   {
    "duration": 12,
    "start_time": "2022-03-09T02:07:56.608Z"
   },
   {
    "duration": 94,
    "start_time": "2022-03-09T02:07:56.623Z"
   },
   {
    "duration": 52,
    "start_time": "2022-03-09T02:07:56.719Z"
   },
   {
    "duration": 10,
    "start_time": "2022-03-09T02:07:56.787Z"
   },
   {
    "duration": 13,
    "start_time": "2022-03-09T02:07:56.800Z"
   },
   {
    "duration": 13,
    "start_time": "2022-03-09T02:07:56.815Z"
   },
   {
    "duration": 118,
    "start_time": "2022-03-09T02:07:56.831Z"
   },
   {
    "duration": 20,
    "start_time": "2022-03-09T02:07:56.952Z"
   },
   {
    "duration": 29,
    "start_time": "2022-03-09T02:07:56.987Z"
   },
   {
    "duration": 75,
    "start_time": "2022-03-09T02:07:57.018Z"
   },
   {
    "duration": 968,
    "start_time": "2022-03-09T02:07:57.095Z"
   },
   {
    "duration": 35,
    "start_time": "2022-03-09T02:07:58.065Z"
   },
   {
    "duration": 24,
    "start_time": "2022-03-09T02:07:58.102Z"
   },
   {
    "duration": 489,
    "start_time": "2022-03-09T02:07:58.128Z"
   },
   {
    "duration": 228,
    "start_time": "2022-03-09T02:07:58.619Z"
   },
   {
    "duration": 581,
    "start_time": "2022-03-09T02:07:58.850Z"
   },
   {
    "duration": 225,
    "start_time": "2022-03-09T02:07:59.434Z"
   },
   {
    "duration": 548,
    "start_time": "2022-03-09T02:07:59.661Z"
   },
   {
    "duration": 494,
    "start_time": "2022-03-09T02:08:00.211Z"
   },
   {
    "duration": 231,
    "start_time": "2022-03-09T02:08:00.708Z"
   },
   {
    "duration": 232,
    "start_time": "2022-03-09T02:08:00.941Z"
   },
   {
    "duration": 46,
    "start_time": "2022-03-09T02:08:01.175Z"
   },
   {
    "duration": 170,
    "start_time": "2022-03-09T02:08:01.223Z"
   },
   {
    "duration": 6915,
    "start_time": "2022-03-09T02:08:01.395Z"
   },
   {
    "duration": 8628,
    "start_time": "2022-03-09T02:08:08.312Z"
   },
   {
    "duration": 18,
    "start_time": "2022-03-09T02:08:16.943Z"
   },
   {
    "duration": 37,
    "start_time": "2022-03-09T02:08:16.963Z"
   },
   {
    "duration": 33,
    "start_time": "2022-03-09T02:08:17.002Z"
   },
   {
    "duration": 293,
    "start_time": "2022-03-09T02:08:17.037Z"
   },
   {
    "duration": 23,
    "start_time": "2022-03-09T02:08:17.332Z"
   },
   {
    "duration": 42,
    "start_time": "2022-03-09T02:08:17.358Z"
   },
   {
    "duration": 14,
    "start_time": "2022-03-09T02:08:17.403Z"
   },
   {
    "duration": 70,
    "start_time": "2022-03-09T02:09:09.273Z"
   },
   {
    "duration": 71,
    "start_time": "2022-03-09T02:16:21.551Z"
   },
   {
    "duration": 15,
    "start_time": "2022-03-09T02:17:13.208Z"
   },
   {
    "duration": 15,
    "start_time": "2022-03-09T02:18:11.788Z"
   },
   {
    "duration": 21,
    "start_time": "2022-03-09T02:18:33.540Z"
   },
   {
    "duration": 30,
    "start_time": "2022-03-09T02:20:40.709Z"
   },
   {
    "duration": 5382,
    "start_time": "2022-03-09T02:23:54.159Z"
   },
   {
    "duration": 833,
    "start_time": "2022-03-09T02:24:35.111Z"
   },
   {
    "duration": 85,
    "start_time": "2022-03-09T02:24:35.946Z"
   },
   {
    "duration": 132,
    "start_time": "2022-03-09T02:24:36.034Z"
   },
   {
    "duration": 23,
    "start_time": "2022-03-09T02:24:36.168Z"
   },
   {
    "duration": 15,
    "start_time": "2022-03-09T02:24:36.194Z"
   },
   {
    "duration": 45,
    "start_time": "2022-03-09T02:24:36.211Z"
   },
   {
    "duration": 134,
    "start_time": "2022-03-09T02:24:36.259Z"
   },
   {
    "duration": 57,
    "start_time": "2022-03-09T02:24:36.396Z"
   },
   {
    "duration": 2715,
    "start_time": "2022-03-09T02:24:36.456Z"
   },
   {
    "duration": 18,
    "start_time": "2022-03-09T02:24:39.173Z"
   },
   {
    "duration": 12,
    "start_time": "2022-03-09T02:24:39.193Z"
   },
   {
    "duration": 20,
    "start_time": "2022-03-09T02:24:39.207Z"
   },
   {
    "duration": 58,
    "start_time": "2022-03-09T02:24:39.229Z"
   },
   {
    "duration": 7,
    "start_time": "2022-03-09T02:24:39.290Z"
   },
   {
    "duration": 2987,
    "start_time": "2022-03-09T02:24:39.300Z"
   },
   {
    "duration": 7,
    "start_time": "2022-03-09T02:24:42.289Z"
   },
   {
    "duration": 3090,
    "start_time": "2022-03-09T02:24:42.298Z"
   },
   {
    "duration": 9,
    "start_time": "2022-03-09T02:24:45.390Z"
   },
   {
    "duration": 10,
    "start_time": "2022-03-09T02:24:45.402Z"
   },
   {
    "duration": 20,
    "start_time": "2022-03-09T02:24:45.415Z"
   },
   {
    "duration": 58,
    "start_time": "2022-03-09T02:24:45.438Z"
   },
   {
    "duration": 7,
    "start_time": "2022-03-09T02:24:45.498Z"
   },
   {
    "duration": 18,
    "start_time": "2022-03-09T02:24:45.511Z"
   },
   {
    "duration": 16,
    "start_time": "2022-03-09T02:24:45.532Z"
   },
   {
    "duration": 8,
    "start_time": "2022-03-09T02:24:45.588Z"
   },
   {
    "duration": 90,
    "start_time": "2022-03-09T02:24:45.598Z"
   },
   {
    "duration": 52,
    "start_time": "2022-03-09T02:24:45.691Z"
   },
   {
    "duration": 10,
    "start_time": "2022-03-09T02:24:45.745Z"
   },
   {
    "duration": 35,
    "start_time": "2022-03-09T02:24:45.757Z"
   },
   {
    "duration": 8,
    "start_time": "2022-03-09T02:24:45.795Z"
   },
   {
    "duration": 117,
    "start_time": "2022-03-09T02:24:45.805Z"
   },
   {
    "duration": 21,
    "start_time": "2022-03-09T02:24:45.924Z"
   },
   {
    "duration": 53,
    "start_time": "2022-03-09T02:24:45.947Z"
   },
   {
    "duration": 56,
    "start_time": "2022-03-09T02:24:46.002Z"
   },
   {
    "duration": 995,
    "start_time": "2022-03-09T02:24:46.060Z"
   },
   {
    "duration": 36,
    "start_time": "2022-03-09T02:24:47.058Z"
   },
   {
    "duration": 23,
    "start_time": "2022-03-09T02:24:47.096Z"
   },
   {
    "duration": 600,
    "start_time": "2022-03-09T02:24:47.122Z"
   },
   {
    "duration": 230,
    "start_time": "2022-03-09T02:24:47.724Z"
   },
   {
    "duration": 563,
    "start_time": "2022-03-09T02:24:47.957Z"
   },
   {
    "duration": 269,
    "start_time": "2022-03-09T02:24:48.522Z"
   },
   {
    "duration": 547,
    "start_time": "2022-03-09T02:24:48.794Z"
   },
   {
    "duration": 490,
    "start_time": "2022-03-09T02:24:49.345Z"
   },
   {
    "duration": 230,
    "start_time": "2022-03-09T02:24:49.837Z"
   },
   {
    "duration": 232,
    "start_time": "2022-03-09T02:24:50.069Z"
   },
   {
    "duration": 43,
    "start_time": "2022-03-09T02:24:50.304Z"
   },
   {
    "duration": 174,
    "start_time": "2022-03-09T02:24:50.350Z"
   },
   {
    "duration": 6827,
    "start_time": "2022-03-09T02:24:50.527Z"
   },
   {
    "duration": 8338,
    "start_time": "2022-03-09T02:24:57.357Z"
   },
   {
    "duration": 18,
    "start_time": "2022-03-09T02:25:05.697Z"
   },
   {
    "duration": 23,
    "start_time": "2022-03-09T02:25:05.717Z"
   },
   {
    "duration": 60,
    "start_time": "2022-03-09T02:25:05.742Z"
   },
   {
    "duration": 283,
    "start_time": "2022-03-09T02:25:05.804Z"
   },
   {
    "duration": 22,
    "start_time": "2022-03-09T02:25:06.089Z"
   },
   {
    "duration": 22,
    "start_time": "2022-03-09T02:25:06.113Z"
   },
   {
    "duration": 5650,
    "start_time": "2022-03-09T02:25:06.137Z"
   },
   {
    "duration": 299,
    "start_time": "2022-03-09T02:25:27.308Z"
   },
   {
    "duration": 61,
    "start_time": "2022-03-09T02:33:13.826Z"
   },
   {
    "duration": 21,
    "start_time": "2022-03-09T07:02:45.838Z"
   },
   {
    "duration": 24,
    "start_time": "2022-03-09T07:26:25.591Z"
   },
   {
    "duration": 25,
    "start_time": "2022-03-09T07:26:41.091Z"
   },
   {
    "duration": 22,
    "start_time": "2022-03-09T07:26:48.221Z"
   },
   {
    "duration": 25,
    "start_time": "2022-03-09T07:28:45.844Z"
   },
   {
    "duration": 28,
    "start_time": "2022-03-09T07:29:42.372Z"
   },
   {
    "duration": 28,
    "start_time": "2022-03-09T07:31:53.061Z"
   },
   {
    "duration": 25,
    "start_time": "2022-03-09T07:35:22.339Z"
   },
   {
    "duration": 26,
    "start_time": "2022-03-09T07:36:10.688Z"
   },
   {
    "duration": 27,
    "start_time": "2022-03-09T07:37:43.613Z"
   },
   {
    "duration": 26,
    "start_time": "2022-03-09T07:40:04.751Z"
   },
   {
    "duration": 28,
    "start_time": "2022-03-09T07:41:01.239Z"
   },
   {
    "duration": 29,
    "start_time": "2022-03-09T07:41:47.573Z"
   },
   {
    "duration": 46,
    "start_time": "2022-03-09T07:42:44.213Z"
   },
   {
    "duration": 77,
    "start_time": "2022-03-09T07:43:58.303Z"
   },
   {
    "duration": 47,
    "start_time": "2022-03-09T07:44:39.436Z"
   },
   {
    "duration": 30,
    "start_time": "2022-03-09T07:48:34.258Z"
   },
   {
    "duration": 46,
    "start_time": "2022-03-09T07:53:01.838Z"
   },
   {
    "duration": 50,
    "start_time": "2022-03-09T07:55:45.349Z"
   },
   {
    "duration": 28,
    "start_time": "2022-03-09T07:57:44.125Z"
   },
   {
    "duration": 41,
    "start_time": "2022-03-09T08:02:29.004Z"
   },
   {
    "duration": 899,
    "start_time": "2022-03-09T10:18:01.388Z"
   },
   {
    "duration": 80,
    "start_time": "2022-03-09T10:18:02.290Z"
   },
   {
    "duration": 130,
    "start_time": "2022-03-09T10:18:02.374Z"
   },
   {
    "duration": 17,
    "start_time": "2022-03-09T10:18:02.507Z"
   },
   {
    "duration": 19,
    "start_time": "2022-03-09T10:18:02.527Z"
   },
   {
    "duration": 68,
    "start_time": "2022-03-09T10:18:02.549Z"
   },
   {
    "duration": 128,
    "start_time": "2022-03-09T10:18:02.620Z"
   },
   {
    "duration": 2734,
    "start_time": "2022-03-09T10:18:02.753Z"
   },
   {
    "duration": 11,
    "start_time": "2022-03-09T10:18:05.491Z"
   },
   {
    "duration": 15,
    "start_time": "2022-03-09T10:18:05.505Z"
   },
   {
    "duration": 23,
    "start_time": "2022-03-09T10:18:05.522Z"
   },
   {
    "duration": 55,
    "start_time": "2022-03-09T10:18:05.547Z"
   },
   {
    "duration": 7,
    "start_time": "2022-03-09T10:18:05.604Z"
   },
   {
    "duration": 3248,
    "start_time": "2022-03-09T10:18:05.613Z"
   },
   {
    "duration": 23,
    "start_time": "2022-03-09T10:18:08.864Z"
   },
   {
    "duration": 3176,
    "start_time": "2022-03-09T10:18:08.889Z"
   },
   {
    "duration": 27,
    "start_time": "2022-03-09T10:18:12.068Z"
   },
   {
    "duration": 11,
    "start_time": "2022-03-09T10:18:12.097Z"
   },
   {
    "duration": 21,
    "start_time": "2022-03-09T10:18:12.110Z"
   },
   {
    "duration": 61,
    "start_time": "2022-03-09T10:18:12.134Z"
   },
   {
    "duration": 9,
    "start_time": "2022-03-09T10:18:12.198Z"
   },
   {
    "duration": 18,
    "start_time": "2022-03-09T10:18:12.210Z"
   },
   {
    "duration": 63,
    "start_time": "2022-03-09T10:18:12.235Z"
   },
   {
    "duration": 9,
    "start_time": "2022-03-09T10:18:12.301Z"
   },
   {
    "duration": 97,
    "start_time": "2022-03-09T10:18:12.312Z"
   },
   {
    "duration": 50,
    "start_time": "2022-03-09T10:18:12.412Z"
   },
   {
    "duration": 32,
    "start_time": "2022-03-09T10:18:12.465Z"
   },
   {
    "duration": 8,
    "start_time": "2022-03-09T10:18:12.499Z"
   },
   {
    "duration": 10,
    "start_time": "2022-03-09T10:18:12.510Z"
   },
   {
    "duration": 126,
    "start_time": "2022-03-09T10:18:12.523Z"
   },
   {
    "duration": 19,
    "start_time": "2022-03-09T10:18:12.651Z"
   },
   {
    "duration": 31,
    "start_time": "2022-03-09T10:18:12.688Z"
   },
   {
    "duration": 88,
    "start_time": "2022-03-09T10:18:12.722Z"
   },
   {
    "duration": 940,
    "start_time": "2022-03-09T10:18:12.813Z"
   },
   {
    "duration": 40,
    "start_time": "2022-03-09T10:18:13.756Z"
   },
   {
    "duration": 24,
    "start_time": "2022-03-09T10:18:13.799Z"
   },
   {
    "duration": 508,
    "start_time": "2022-03-09T10:18:13.825Z"
   },
   {
    "duration": 239,
    "start_time": "2022-03-09T10:18:14.335Z"
   },
   {
    "duration": 588,
    "start_time": "2022-03-09T10:18:14.586Z"
   },
   {
    "duration": 235,
    "start_time": "2022-03-09T10:18:15.177Z"
   },
   {
    "duration": 569,
    "start_time": "2022-03-09T10:18:15.414Z"
   },
   {
    "duration": 503,
    "start_time": "2022-03-09T10:18:15.987Z"
   },
   {
    "duration": 237,
    "start_time": "2022-03-09T10:18:16.492Z"
   },
   {
    "duration": 246,
    "start_time": "2022-03-09T10:18:16.732Z"
   },
   {
    "duration": 42,
    "start_time": "2022-03-09T10:18:16.987Z"
   },
   {
    "duration": 165,
    "start_time": "2022-03-09T10:18:17.032Z"
   },
   {
    "duration": 6045,
    "start_time": "2022-03-09T10:18:17.200Z"
   },
   {
    "duration": 8166,
    "start_time": "2022-03-09T10:18:23.247Z"
   },
   {
    "duration": 18,
    "start_time": "2022-03-09T10:18:31.416Z"
   },
   {
    "duration": 67,
    "start_time": "2022-03-09T10:18:31.437Z"
   },
   {
    "duration": 38,
    "start_time": "2022-03-09T10:18:31.506Z"
   },
   {
    "duration": 289,
    "start_time": "2022-03-09T10:18:31.547Z"
   },
   {
    "duration": 24,
    "start_time": "2022-03-09T10:18:31.838Z"
   },
   {
    "duration": 46,
    "start_time": "2022-03-09T10:18:31.865Z"
   },
   {
    "duration": 313,
    "start_time": "2022-03-09T10:18:31.913Z"
   },
   {
    "duration": 80,
    "start_time": "2022-03-09T10:18:32.228Z"
   },
   {
    "duration": 31086,
    "start_time": "2022-03-09T10:18:32.310Z"
   },
   {
    "duration": 89,
    "start_time": "2022-03-09T10:19:03.399Z"
   },
   {
    "duration": 53,
    "start_time": "2022-03-09T10:19:03.490Z"
   },
   {
    "duration": 31972,
    "start_time": "2022-03-09T10:22:56.542Z"
   },
   {
    "duration": 831,
    "start_time": "2022-03-09T10:29:41.587Z"
   },
   {
    "duration": 80,
    "start_time": "2022-03-09T10:29:42.421Z"
   },
   {
    "duration": 119,
    "start_time": "2022-03-09T10:29:42.504Z"
   },
   {
    "duration": 14,
    "start_time": "2022-03-09T10:29:42.626Z"
   },
   {
    "duration": 17,
    "start_time": "2022-03-09T10:29:42.643Z"
   },
   {
    "duration": 57,
    "start_time": "2022-03-09T10:29:42.663Z"
   },
   {
    "duration": 117,
    "start_time": "2022-03-09T10:29:42.722Z"
   },
   {
    "duration": 2678,
    "start_time": "2022-03-09T10:29:42.843Z"
   },
   {
    "duration": 9,
    "start_time": "2022-03-09T10:29:45.524Z"
   },
   {
    "duration": 38,
    "start_time": "2022-03-09T10:29:45.535Z"
   },
   {
    "duration": 23,
    "start_time": "2022-03-09T10:29:45.586Z"
   },
   {
    "duration": 20,
    "start_time": "2022-03-09T10:29:45.611Z"
   },
   {
    "duration": 23,
    "start_time": "2022-03-09T10:29:45.633Z"
   },
   {
    "duration": 3373,
    "start_time": "2022-03-09T10:29:45.658Z"
   },
   {
    "duration": 8,
    "start_time": "2022-03-09T10:29:49.034Z"
   },
   {
    "duration": 3389,
    "start_time": "2022-03-09T10:29:49.045Z"
   },
   {
    "duration": 7,
    "start_time": "2022-03-09T10:29:52.436Z"
   },
   {
    "duration": 8,
    "start_time": "2022-03-09T10:29:52.446Z"
   },
   {
    "duration": 54,
    "start_time": "2022-03-09T10:29:52.456Z"
   },
   {
    "duration": 14,
    "start_time": "2022-03-09T10:29:52.512Z"
   },
   {
    "duration": 7,
    "start_time": "2022-03-09T10:29:52.529Z"
   },
   {
    "duration": 54,
    "start_time": "2022-03-09T10:29:52.538Z"
   },
   {
    "duration": 17,
    "start_time": "2022-03-09T10:29:52.598Z"
   },
   {
    "duration": 8,
    "start_time": "2022-03-09T10:29:52.619Z"
   },
   {
    "duration": 129,
    "start_time": "2022-03-09T10:29:52.629Z"
   },
   {
    "duration": 91,
    "start_time": "2022-03-09T10:29:52.761Z"
   },
   {
    "duration": 32,
    "start_time": "2022-03-09T10:29:52.855Z"
   },
   {
    "duration": 10,
    "start_time": "2022-03-09T10:29:52.890Z"
   },
   {
    "duration": 11,
    "start_time": "2022-03-09T10:29:52.903Z"
   },
   {
    "duration": 127,
    "start_time": "2022-03-09T10:29:52.916Z"
   },
   {
    "duration": 20,
    "start_time": "2022-03-09T10:29:53.045Z"
   },
   {
    "duration": 47,
    "start_time": "2022-03-09T10:29:53.067Z"
   },
   {
    "duration": 89,
    "start_time": "2022-03-09T10:29:53.117Z"
   },
   {
    "duration": 1112,
    "start_time": "2022-03-09T10:29:53.209Z"
   },
   {
    "duration": 24,
    "start_time": "2022-03-09T10:29:54.323Z"
   },
   {
    "duration": 48,
    "start_time": "2022-03-09T10:29:54.350Z"
   },
   {
    "duration": 495,
    "start_time": "2022-03-09T10:29:54.400Z"
   },
   {
    "duration": 241,
    "start_time": "2022-03-09T10:29:54.898Z"
   },
   {
    "duration": 583,
    "start_time": "2022-03-09T10:29:55.142Z"
   },
   {
    "duration": 241,
    "start_time": "2022-03-09T10:29:55.728Z"
   },
   {
    "duration": 578,
    "start_time": "2022-03-09T10:29:55.972Z"
   },
   {
    "duration": 538,
    "start_time": "2022-03-09T10:29:56.552Z"
   },
   {
    "duration": 237,
    "start_time": "2022-03-09T10:29:57.092Z"
   },
   {
    "duration": 239,
    "start_time": "2022-03-09T10:29:57.332Z"
   },
   {
    "duration": 54,
    "start_time": "2022-03-09T10:29:57.574Z"
   },
   {
    "duration": 167,
    "start_time": "2022-03-09T10:29:57.630Z"
   },
   {
    "duration": 7196,
    "start_time": "2022-03-09T10:29:57.800Z"
   },
   {
    "duration": 8655,
    "start_time": "2022-03-09T10:30:04.999Z"
   },
   {
    "duration": 32,
    "start_time": "2022-03-09T10:30:13.656Z"
   },
   {
    "duration": 18,
    "start_time": "2022-03-09T10:30:13.690Z"
   },
   {
    "duration": 32,
    "start_time": "2022-03-09T10:30:13.710Z"
   },
   {
    "duration": 291,
    "start_time": "2022-03-09T10:30:13.744Z"
   },
   {
    "duration": 24,
    "start_time": "2022-03-09T10:30:14.038Z"
   },
   {
    "duration": 37,
    "start_time": "2022-03-09T10:30:14.064Z"
   },
   {
    "duration": 310,
    "start_time": "2022-03-09T10:30:14.104Z"
   },
   {
    "duration": 73,
    "start_time": "2022-03-09T10:30:14.416Z"
   },
   {
    "duration": 12962,
    "start_time": "2022-03-09T10:30:14.491Z"
   },
   {
    "duration": 59,
    "start_time": "2022-03-09T10:30:27.455Z"
   },
   {
    "duration": 48,
    "start_time": "2022-03-09T10:30:27.516Z"
   },
   {
    "duration": 369,
    "start_time": "2022-03-09T10:34:52.959Z"
   },
   {
    "duration": 234,
    "start_time": "2022-03-09T10:36:04.900Z"
   },
   {
    "duration": 847,
    "start_time": "2022-03-09T10:36:40.508Z"
   },
   {
    "duration": 83,
    "start_time": "2022-03-09T10:36:41.358Z"
   },
   {
    "duration": 119,
    "start_time": "2022-03-09T10:36:41.444Z"
   },
   {
    "duration": 24,
    "start_time": "2022-03-09T10:36:41.566Z"
   },
   {
    "duration": 17,
    "start_time": "2022-03-09T10:36:41.592Z"
   },
   {
    "duration": 38,
    "start_time": "2022-03-09T10:36:41.611Z"
   },
   {
    "duration": 137,
    "start_time": "2022-03-09T10:36:41.651Z"
   },
   {
    "duration": 2738,
    "start_time": "2022-03-09T10:36:41.792Z"
   },
   {
    "duration": 9,
    "start_time": "2022-03-09T10:36:44.533Z"
   },
   {
    "duration": 43,
    "start_time": "2022-03-09T10:36:44.544Z"
   },
   {
    "duration": 18,
    "start_time": "2022-03-09T10:36:44.589Z"
   },
   {
    "duration": 24,
    "start_time": "2022-03-09T10:36:44.610Z"
   },
   {
    "duration": 8,
    "start_time": "2022-03-09T10:36:44.636Z"
   },
   {
    "duration": 3288,
    "start_time": "2022-03-09T10:36:44.646Z"
   },
   {
    "duration": 7,
    "start_time": "2022-03-09T10:36:47.936Z"
   },
   {
    "duration": 3352,
    "start_time": "2022-03-09T10:36:47.945Z"
   },
   {
    "duration": 7,
    "start_time": "2022-03-09T10:36:51.300Z"
   },
   {
    "duration": 17,
    "start_time": "2022-03-09T10:36:51.309Z"
   },
   {
    "duration": 17,
    "start_time": "2022-03-09T10:36:51.328Z"
   },
   {
    "duration": 47,
    "start_time": "2022-03-09T10:36:51.348Z"
   },
   {
    "duration": 8,
    "start_time": "2022-03-09T10:36:51.397Z"
   },
   {
    "duration": 16,
    "start_time": "2022-03-09T10:36:51.407Z"
   },
   {
    "duration": 17,
    "start_time": "2022-03-09T10:36:51.429Z"
   },
   {
    "duration": 46,
    "start_time": "2022-03-09T10:36:51.449Z"
   },
   {
    "duration": 90,
    "start_time": "2022-03-09T10:36:51.497Z"
   },
   {
    "duration": 53,
    "start_time": "2022-03-09T10:36:51.589Z"
   },
   {
    "duration": 10,
    "start_time": "2022-03-09T10:36:51.644Z"
   },
   {
    "duration": 35,
    "start_time": "2022-03-09T10:36:51.656Z"
   },
   {
    "duration": 24,
    "start_time": "2022-03-09T10:36:51.693Z"
   },
   {
    "duration": 105,
    "start_time": "2022-03-09T10:36:51.719Z"
   },
   {
    "duration": 20,
    "start_time": "2022-03-09T10:36:51.827Z"
   },
   {
    "duration": 57,
    "start_time": "2022-03-09T10:36:51.850Z"
   },
   {
    "duration": 54,
    "start_time": "2022-03-09T10:36:51.910Z"
   },
   {
    "duration": 967,
    "start_time": "2022-03-09T10:36:51.967Z"
   },
   {
    "duration": 24,
    "start_time": "2022-03-09T10:36:52.936Z"
   },
   {
    "duration": 44,
    "start_time": "2022-03-09T10:36:52.962Z"
   },
   {
    "duration": 491,
    "start_time": "2022-03-09T10:36:53.009Z"
   },
   {
    "duration": 277,
    "start_time": "2022-03-09T10:36:53.502Z"
   },
   {
    "duration": 570,
    "start_time": "2022-03-09T10:36:53.786Z"
   },
   {
    "duration": 227,
    "start_time": "2022-03-09T10:36:54.358Z"
   },
   {
    "duration": 564,
    "start_time": "2022-03-09T10:36:54.588Z"
   },
   {
    "duration": 498,
    "start_time": "2022-03-09T10:36:55.154Z"
   },
   {
    "duration": 234,
    "start_time": "2022-03-09T10:36:55.655Z"
   },
   {
    "duration": 230,
    "start_time": "2022-03-09T10:36:55.891Z"
   },
   {
    "duration": 43,
    "start_time": "2022-03-09T10:36:56.123Z"
   },
   {
    "duration": 182,
    "start_time": "2022-03-09T10:36:56.168Z"
   },
   {
    "duration": 5804,
    "start_time": "2022-03-09T10:36:56.353Z"
   },
   {
    "duration": 7915,
    "start_time": "2022-03-09T10:37:02.159Z"
   },
   {
    "duration": 27,
    "start_time": "2022-03-09T10:37:10.077Z"
   },
   {
    "duration": 20,
    "start_time": "2022-03-09T10:37:10.107Z"
   },
   {
    "duration": 62,
    "start_time": "2022-03-09T10:37:10.129Z"
   },
   {
    "duration": 282,
    "start_time": "2022-03-09T10:37:10.193Z"
   },
   {
    "duration": 29,
    "start_time": "2022-03-09T10:37:10.477Z"
   },
   {
    "duration": 27,
    "start_time": "2022-03-09T10:37:10.509Z"
   },
   {
    "duration": 320,
    "start_time": "2022-03-09T10:37:10.539Z"
   },
   {
    "duration": 79,
    "start_time": "2022-03-09T10:37:10.862Z"
   },
   {
    "duration": 343,
    "start_time": "2022-03-09T10:37:10.943Z"
   },
   {
    "duration": -481,
    "start_time": "2022-03-09T10:37:11.770Z"
   },
   {
    "duration": -482,
    "start_time": "2022-03-09T10:37:11.773Z"
   },
   {
    "duration": 259,
    "start_time": "2022-03-09T10:37:55.463Z"
   },
   {
    "duration": 6378,
    "start_time": "2022-03-09T10:38:55.257Z"
   },
   {
    "duration": 5884,
    "start_time": "2022-03-09T10:39:02.489Z"
   },
   {
    "duration": 806,
    "start_time": "2022-03-09T10:39:10.125Z"
   },
   {
    "duration": 84,
    "start_time": "2022-03-09T10:39:10.934Z"
   },
   {
    "duration": 118,
    "start_time": "2022-03-09T10:39:11.021Z"
   },
   {
    "duration": 14,
    "start_time": "2022-03-09T10:39:11.142Z"
   },
   {
    "duration": 38,
    "start_time": "2022-03-09T10:39:11.159Z"
   },
   {
    "duration": 37,
    "start_time": "2022-03-09T10:39:11.200Z"
   },
   {
    "duration": 128,
    "start_time": "2022-03-09T10:39:11.239Z"
   },
   {
    "duration": 2654,
    "start_time": "2022-03-09T10:39:11.371Z"
   },
   {
    "duration": 9,
    "start_time": "2022-03-09T10:39:14.027Z"
   },
   {
    "duration": 12,
    "start_time": "2022-03-09T10:39:14.039Z"
   },
   {
    "duration": 51,
    "start_time": "2022-03-09T10:39:14.053Z"
   },
   {
    "duration": 19,
    "start_time": "2022-03-09T10:39:14.106Z"
   },
   {
    "duration": 9,
    "start_time": "2022-03-09T10:39:14.127Z"
   },
   {
    "duration": 3461,
    "start_time": "2022-03-09T10:39:14.138Z"
   },
   {
    "duration": 7,
    "start_time": "2022-03-09T10:39:17.601Z"
   },
   {
    "duration": 3151,
    "start_time": "2022-03-09T10:39:17.611Z"
   },
   {
    "duration": 7,
    "start_time": "2022-03-09T10:39:20.764Z"
   },
   {
    "duration": 15,
    "start_time": "2022-03-09T10:39:20.773Z"
   },
   {
    "duration": 30,
    "start_time": "2022-03-09T10:39:20.791Z"
   },
   {
    "duration": 19,
    "start_time": "2022-03-09T10:39:20.824Z"
   },
   {
    "duration": 9,
    "start_time": "2022-03-09T10:39:20.845Z"
   },
   {
    "duration": 16,
    "start_time": "2022-03-09T10:39:20.856Z"
   },
   {
    "duration": 18,
    "start_time": "2022-03-09T10:39:20.878Z"
   },
   {
    "duration": 8,
    "start_time": "2022-03-09T10:39:20.899Z"
   },
   {
    "duration": 84,
    "start_time": "2022-03-09T10:39:20.910Z"
   },
   {
    "duration": 59,
    "start_time": "2022-03-09T10:39:20.996Z"
   },
   {
    "duration": 10,
    "start_time": "2022-03-09T10:39:21.057Z"
   },
   {
    "duration": 18,
    "start_time": "2022-03-09T10:39:21.069Z"
   },
   {
    "duration": 9,
    "start_time": "2022-03-09T10:39:21.089Z"
   },
   {
    "duration": 96,
    "start_time": "2022-03-09T10:39:21.100Z"
   },
   {
    "duration": 17,
    "start_time": "2022-03-09T10:39:21.198Z"
   },
   {
    "duration": 29,
    "start_time": "2022-03-09T10:39:21.217Z"
   },
   {
    "duration": 67,
    "start_time": "2022-03-09T10:39:21.248Z"
   },
   {
    "duration": 1328,
    "start_time": "2022-03-09T10:39:21.318Z"
   },
   {
    "duration": 39,
    "start_time": "2022-03-09T10:39:22.648Z"
   },
   {
    "duration": 24,
    "start_time": "2022-03-09T10:39:22.689Z"
   },
   {
    "duration": 504,
    "start_time": "2022-03-09T10:39:22.716Z"
   },
   {
    "duration": 237,
    "start_time": "2022-03-09T10:39:23.222Z"
   },
   {
    "duration": 581,
    "start_time": "2022-03-09T10:39:23.461Z"
   },
   {
    "duration": 232,
    "start_time": "2022-03-09T10:39:24.044Z"
   },
   {
    "duration": 558,
    "start_time": "2022-03-09T10:39:24.279Z"
   },
   {
    "duration": 505,
    "start_time": "2022-03-09T10:39:24.839Z"
   },
   {
    "duration": 233,
    "start_time": "2022-03-09T10:39:25.346Z"
   },
   {
    "duration": 234,
    "start_time": "2022-03-09T10:39:25.581Z"
   },
   {
    "duration": 40,
    "start_time": "2022-03-09T10:39:25.818Z"
   },
   {
    "duration": 165,
    "start_time": "2022-03-09T10:39:25.860Z"
   },
   {
    "duration": 7033,
    "start_time": "2022-03-09T10:39:26.027Z"
   },
   {
    "duration": 8311,
    "start_time": "2022-03-09T10:39:33.062Z"
   },
   {
    "duration": 27,
    "start_time": "2022-03-09T10:39:41.375Z"
   },
   {
    "duration": 17,
    "start_time": "2022-03-09T10:39:41.404Z"
   },
   {
    "duration": 31,
    "start_time": "2022-03-09T10:39:41.424Z"
   },
   {
    "duration": 289,
    "start_time": "2022-03-09T10:39:41.488Z"
   },
   {
    "duration": 24,
    "start_time": "2022-03-09T10:39:41.787Z"
   },
   {
    "duration": 23,
    "start_time": "2022-03-09T10:39:41.813Z"
   },
   {
    "duration": 324,
    "start_time": "2022-03-09T10:39:41.838Z"
   },
   {
    "duration": 72,
    "start_time": "2022-03-09T10:39:42.164Z"
   },
   {
    "duration": 5494,
    "start_time": "2022-03-09T10:39:42.239Z"
   },
   {
    "duration": -517,
    "start_time": "2022-03-09T10:39:48.253Z"
   },
   {
    "duration": -520,
    "start_time": "2022-03-09T10:39:48.257Z"
   },
   {
    "duration": 44,
    "start_time": "2022-03-09T10:40:38.399Z"
   },
   {
    "duration": 51,
    "start_time": "2022-03-09T10:40:41.231Z"
   },
   {
    "duration": 461,
    "start_time": "2022-03-09T10:41:29.726Z"
   },
   {
    "duration": 360,
    "start_time": "2022-03-09T10:42:00.987Z"
   },
   {
    "duration": 5354,
    "start_time": "2022-03-09T10:44:30.038Z"
   },
   {
    "duration": 34,
    "start_time": "2022-03-09T10:44:53.193Z"
   },
   {
    "duration": 35,
    "start_time": "2022-03-09T10:53:49.178Z"
   },
   {
    "duration": 32,
    "start_time": "2022-03-09T10:55:12.445Z"
   },
   {
    "duration": 41,
    "start_time": "2022-03-09T10:57:06.972Z"
   },
   {
    "duration": 45,
    "start_time": "2022-03-09T10:57:19.407Z"
   },
   {
    "duration": 75,
    "start_time": "2022-03-09T11:14:05.779Z"
   },
   {
    "duration": 37,
    "start_time": "2022-03-09T11:14:38.673Z"
   },
   {
    "duration": 169,
    "start_time": "2022-03-09T11:16:05.005Z"
   },
   {
    "duration": 157,
    "start_time": "2022-03-09T11:16:18.503Z"
   },
   {
    "duration": 866,
    "start_time": "2022-03-09T11:16:30.705Z"
   },
   {
    "duration": 82,
    "start_time": "2022-03-09T11:16:31.573Z"
   },
   {
    "duration": 129,
    "start_time": "2022-03-09T11:16:31.658Z"
   },
   {
    "duration": 16,
    "start_time": "2022-03-09T11:16:31.790Z"
   },
   {
    "duration": 17,
    "start_time": "2022-03-09T11:16:31.808Z"
   },
   {
    "duration": 72,
    "start_time": "2022-03-09T11:16:31.827Z"
   },
   {
    "duration": 120,
    "start_time": "2022-03-09T11:16:31.901Z"
   },
   {
    "duration": 2937,
    "start_time": "2022-03-09T11:16:32.025Z"
   },
   {
    "duration": 22,
    "start_time": "2022-03-09T11:16:34.966Z"
   },
   {
    "duration": 13,
    "start_time": "2022-03-09T11:16:34.991Z"
   },
   {
    "duration": 21,
    "start_time": "2022-03-09T11:16:35.007Z"
   },
   {
    "duration": 62,
    "start_time": "2022-03-09T11:16:35.032Z"
   },
   {
    "duration": 8,
    "start_time": "2022-03-09T11:16:35.096Z"
   },
   {
    "duration": 3143,
    "start_time": "2022-03-09T11:16:35.106Z"
   },
   {
    "duration": 7,
    "start_time": "2022-03-09T11:16:38.252Z"
   },
   {
    "duration": 3061,
    "start_time": "2022-03-09T11:16:38.262Z"
   },
   {
    "duration": 7,
    "start_time": "2022-03-09T11:16:41.325Z"
   },
   {
    "duration": 12,
    "start_time": "2022-03-09T11:16:41.334Z"
   },
   {
    "duration": 52,
    "start_time": "2022-03-09T11:16:41.348Z"
   },
   {
    "duration": 16,
    "start_time": "2022-03-09T11:16:41.403Z"
   },
   {
    "duration": 9,
    "start_time": "2022-03-09T11:16:41.422Z"
   },
   {
    "duration": 63,
    "start_time": "2022-03-09T11:16:41.434Z"
   },
   {
    "duration": 18,
    "start_time": "2022-03-09T11:16:41.505Z"
   },
   {
    "duration": 10,
    "start_time": "2022-03-09T11:16:41.528Z"
   },
   {
    "duration": 113,
    "start_time": "2022-03-09T11:16:41.541Z"
   },
   {
    "duration": 72,
    "start_time": "2022-03-09T11:16:41.656Z"
   },
   {
    "duration": 11,
    "start_time": "2022-03-09T11:16:41.731Z"
   },
   {
    "duration": 8,
    "start_time": "2022-03-09T11:16:41.744Z"
   },
   {
    "duration": 39,
    "start_time": "2022-03-09T11:16:41.754Z"
   },
   {
    "duration": 111,
    "start_time": "2022-03-09T11:16:41.795Z"
   },
   {
    "duration": 21,
    "start_time": "2022-03-09T11:16:41.909Z"
   },
   {
    "duration": 55,
    "start_time": "2022-03-09T11:16:41.933Z"
   },
   {
    "duration": 57,
    "start_time": "2022-03-09T11:16:41.991Z"
   },
   {
    "duration": 1030,
    "start_time": "2022-03-09T11:16:42.051Z"
   },
   {
    "duration": 24,
    "start_time": "2022-03-09T11:16:43.086Z"
   },
   {
    "duration": 24,
    "start_time": "2022-03-09T11:16:43.112Z"
   },
   {
    "duration": 524,
    "start_time": "2022-03-09T11:16:43.138Z"
   },
   {
    "duration": 249,
    "start_time": "2022-03-09T11:16:43.665Z"
   },
   {
    "duration": 606,
    "start_time": "2022-03-09T11:16:43.916Z"
   },
   {
    "duration": 227,
    "start_time": "2022-03-09T11:16:44.524Z"
   },
   {
    "duration": 567,
    "start_time": "2022-03-09T11:16:44.754Z"
   },
   {
    "duration": 513,
    "start_time": "2022-03-09T11:16:45.324Z"
   },
   {
    "duration": 243,
    "start_time": "2022-03-09T11:16:45.839Z"
   },
   {
    "duration": 234,
    "start_time": "2022-03-09T11:16:46.086Z"
   },
   {
    "duration": 41,
    "start_time": "2022-03-09T11:16:46.324Z"
   },
   {
    "duration": 172,
    "start_time": "2022-03-09T11:16:46.367Z"
   },
   {
    "duration": 6070,
    "start_time": "2022-03-09T11:16:46.541Z"
   },
   {
    "duration": 7773,
    "start_time": "2022-03-09T11:16:52.614Z"
   },
   {
    "duration": 21,
    "start_time": "2022-03-09T11:17:00.390Z"
   },
   {
    "duration": 18,
    "start_time": "2022-03-09T11:17:00.414Z"
   },
   {
    "duration": 71,
    "start_time": "2022-03-09T11:17:00.435Z"
   },
   {
    "duration": 294,
    "start_time": "2022-03-09T11:17:00.509Z"
   },
   {
    "duration": 26,
    "start_time": "2022-03-09T11:17:00.806Z"
   },
   {
    "duration": 56,
    "start_time": "2022-03-09T11:17:00.835Z"
   },
   {
    "duration": 325,
    "start_time": "2022-03-09T11:17:00.894Z"
   },
   {
    "duration": 78,
    "start_time": "2022-03-09T11:17:01.222Z"
   },
   {
    "duration": 41,
    "start_time": "2022-03-09T11:17:01.302Z"
   },
   {
    "duration": 165,
    "start_time": "2022-03-09T11:17:01.345Z"
   },
   {
    "duration": 34,
    "start_time": "2022-03-09T11:17:26.168Z"
   },
   {
    "duration": 34,
    "start_time": "2022-03-09T11:19:07.321Z"
   },
   {
    "duration": 35,
    "start_time": "2022-03-09T11:19:22.259Z"
   },
   {
    "duration": 32,
    "start_time": "2022-03-09T11:20:38.805Z"
   },
   {
    "duration": 25,
    "start_time": "2022-03-09T11:20:58.551Z"
   },
   {
    "duration": 33,
    "start_time": "2022-03-09T11:21:02.496Z"
   },
   {
    "duration": 33,
    "start_time": "2022-03-09T11:23:17.850Z"
   },
   {
    "duration": 16,
    "start_time": "2022-03-09T11:27:38.112Z"
   },
   {
    "duration": 909,
    "start_time": "2022-03-09T11:30:44.656Z"
   },
   {
    "duration": 87,
    "start_time": "2022-03-09T11:30:45.568Z"
   },
   {
    "duration": 129,
    "start_time": "2022-03-09T11:30:45.658Z"
   },
   {
    "duration": 15,
    "start_time": "2022-03-09T11:30:45.789Z"
   },
   {
    "duration": 21,
    "start_time": "2022-03-09T11:30:45.806Z"
   },
   {
    "duration": 61,
    "start_time": "2022-03-09T11:30:45.829Z"
   },
   {
    "duration": 126,
    "start_time": "2022-03-09T11:30:45.893Z"
   },
   {
    "duration": 2787,
    "start_time": "2022-03-09T11:30:46.024Z"
   },
   {
    "duration": 9,
    "start_time": "2022-03-09T11:30:48.814Z"
   },
   {
    "duration": 15,
    "start_time": "2022-03-09T11:30:48.825Z"
   },
   {
    "duration": 59,
    "start_time": "2022-03-09T11:30:48.842Z"
   },
   {
    "duration": 18,
    "start_time": "2022-03-09T11:30:48.903Z"
   },
   {
    "duration": 7,
    "start_time": "2022-03-09T11:30:48.924Z"
   },
   {
    "duration": 3460,
    "start_time": "2022-03-09T11:30:48.933Z"
   },
   {
    "duration": 8,
    "start_time": "2022-03-09T11:30:52.395Z"
   },
   {
    "duration": 3100,
    "start_time": "2022-03-09T11:30:52.406Z"
   },
   {
    "duration": 7,
    "start_time": "2022-03-09T11:30:55.508Z"
   },
   {
    "duration": 22,
    "start_time": "2022-03-09T11:30:55.517Z"
   },
   {
    "duration": 47,
    "start_time": "2022-03-09T11:30:55.541Z"
   },
   {
    "duration": 14,
    "start_time": "2022-03-09T11:30:55.591Z"
   },
   {
    "duration": 27,
    "start_time": "2022-03-09T11:30:55.607Z"
   },
   {
    "duration": 21,
    "start_time": "2022-03-09T11:30:55.636Z"
   },
   {
    "duration": 34,
    "start_time": "2022-03-09T11:30:55.663Z"
   },
   {
    "duration": 10,
    "start_time": "2022-03-09T11:30:55.700Z"
   },
   {
    "duration": 93,
    "start_time": "2022-03-09T11:30:55.712Z"
   },
   {
    "duration": 53,
    "start_time": "2022-03-09T11:30:55.807Z"
   },
   {
    "duration": 31,
    "start_time": "2022-03-09T11:30:55.862Z"
   },
   {
    "duration": 15,
    "start_time": "2022-03-09T11:30:55.895Z"
   },
   {
    "duration": 17,
    "start_time": "2022-03-09T11:30:55.912Z"
   },
   {
    "duration": 115,
    "start_time": "2022-03-09T11:30:55.931Z"
   },
   {
    "duration": 21,
    "start_time": "2022-03-09T11:30:56.048Z"
   },
   {
    "duration": 29,
    "start_time": "2022-03-09T11:30:56.088Z"
   },
   {
    "duration": 81,
    "start_time": "2022-03-09T11:30:56.119Z"
   },
   {
    "duration": 985,
    "start_time": "2022-03-09T11:30:56.203Z"
   },
   {
    "duration": 23,
    "start_time": "2022-03-09T11:30:57.190Z"
   },
   {
    "duration": 22,
    "start_time": "2022-03-09T11:30:57.216Z"
   },
   {
    "duration": 499,
    "start_time": "2022-03-09T11:30:57.241Z"
   },
   {
    "duration": 244,
    "start_time": "2022-03-09T11:30:57.743Z"
   },
   {
    "duration": 555,
    "start_time": "2022-03-09T11:30:57.989Z"
   },
   {
    "duration": 227,
    "start_time": "2022-03-09T11:30:58.547Z"
   },
   {
    "duration": 532,
    "start_time": "2022-03-09T11:30:58.777Z"
   },
   {
    "duration": 489,
    "start_time": "2022-03-09T11:30:59.311Z"
   },
   {
    "duration": 237,
    "start_time": "2022-03-09T11:30:59.803Z"
   },
   {
    "duration": 239,
    "start_time": "2022-03-09T11:31:00.043Z"
   },
   {
    "duration": 40,
    "start_time": "2022-03-09T11:31:00.287Z"
   },
   {
    "duration": 176,
    "start_time": "2022-03-09T11:31:00.329Z"
   },
   {
    "duration": 6041,
    "start_time": "2022-03-09T11:31:00.507Z"
   },
   {
    "duration": 7739,
    "start_time": "2022-03-09T11:31:06.551Z"
   },
   {
    "duration": 23,
    "start_time": "2022-03-09T11:31:14.293Z"
   },
   {
    "duration": 20,
    "start_time": "2022-03-09T11:31:14.319Z"
   },
   {
    "duration": 76,
    "start_time": "2022-03-09T11:31:14.342Z"
   },
   {
    "duration": 283,
    "start_time": "2022-03-09T11:31:14.421Z"
   },
   {
    "duration": 24,
    "start_time": "2022-03-09T11:31:14.706Z"
   },
   {
    "duration": 23,
    "start_time": "2022-03-09T11:31:14.732Z"
   },
   {
    "duration": 356,
    "start_time": "2022-03-09T11:31:14.757Z"
   },
   {
    "duration": 72,
    "start_time": "2022-03-09T11:31:15.115Z"
   },
   {
    "duration": 36,
    "start_time": "2022-03-09T11:31:15.189Z"
   },
   {
    "duration": 32,
    "start_time": "2022-03-09T11:31:15.227Z"
   },
   {
    "duration": 15,
    "start_time": "2022-03-09T11:31:15.287Z"
   },
   {
    "duration": 95738,
    "start_time": "2022-03-09T11:31:41.545Z"
   },
   {
    "duration": 33,
    "start_time": "2022-03-09T11:37:05.813Z"
   },
   {
    "duration": 442,
    "start_time": "2022-03-09T11:43:46.611Z"
   },
   {
    "duration": 446,
    "start_time": "2022-03-09T11:44:39.997Z"
   },
   {
    "duration": 465,
    "start_time": "2022-03-09T11:46:01.231Z"
   },
   {
    "duration": 432,
    "start_time": "2022-03-09T11:46:59.974Z"
   },
   {
    "duration": 321,
    "start_time": "2022-03-09T11:47:55.480Z"
   },
   {
    "duration": 149,
    "start_time": "2022-03-09T11:48:26.867Z"
   },
   {
    "duration": 335,
    "start_time": "2022-03-09T11:49:31.564Z"
   },
   {
    "duration": 32,
    "start_time": "2022-03-09T11:50:12.721Z"
   },
   {
    "duration": 342,
    "start_time": "2022-03-09T11:50:18.288Z"
   },
   {
    "duration": 425,
    "start_time": "2022-03-09T11:51:20.248Z"
   },
   {
    "duration": 43,
    "start_time": "2022-03-09T11:52:45.502Z"
   },
   {
    "duration": 305,
    "start_time": "2022-03-09T11:52:58.391Z"
   },
   {
    "duration": 333,
    "start_time": "2022-03-09T11:54:02.393Z"
   },
   {
    "duration": 328,
    "start_time": "2022-03-09T11:54:24.802Z"
   },
   {
    "duration": 32,
    "start_time": "2022-03-09T11:54:43.262Z"
   },
   {
    "duration": 303,
    "start_time": "2022-03-09T11:56:51.228Z"
   },
   {
    "duration": 312,
    "start_time": "2022-03-09T12:00:11.977Z"
   },
   {
    "duration": 305,
    "start_time": "2022-03-09T12:03:37.531Z"
   },
   {
    "duration": 40,
    "start_time": "2022-03-09T12:17:50.367Z"
   },
   {
    "duration": 31,
    "start_time": "2022-03-09T12:27:30.204Z"
   },
   {
    "duration": 314,
    "start_time": "2022-03-09T12:31:28.932Z"
   },
   {
    "duration": 24,
    "start_time": "2022-03-09T12:51:35.472Z"
   },
   {
    "duration": 32,
    "start_time": "2022-03-09T13:00:56.835Z"
   },
   {
    "duration": 22,
    "start_time": "2022-03-09T13:01:24.792Z"
   },
   {
    "duration": 30,
    "start_time": "2022-03-09T13:01:25.792Z"
   },
   {
    "duration": 243,
    "start_time": "2022-03-09T13:08:05.965Z"
   },
   {
    "duration": 33,
    "start_time": "2022-03-09T13:09:30.384Z"
   },
   {
    "duration": 41,
    "start_time": "2022-03-09T14:02:05.496Z"
   },
   {
    "duration": 839,
    "start_time": "2022-03-09T14:02:52.230Z"
   },
   {
    "duration": 80,
    "start_time": "2022-03-09T14:02:53.072Z"
   },
   {
    "duration": 126,
    "start_time": "2022-03-09T14:02:53.155Z"
   },
   {
    "duration": 15,
    "start_time": "2022-03-09T14:02:53.287Z"
   },
   {
    "duration": 28,
    "start_time": "2022-03-09T14:02:53.304Z"
   },
   {
    "duration": 56,
    "start_time": "2022-03-09T14:02:53.334Z"
   },
   {
    "duration": 114,
    "start_time": "2022-03-09T14:02:53.392Z"
   },
   {
    "duration": 2738,
    "start_time": "2022-03-09T14:02:53.509Z"
   },
   {
    "duration": 9,
    "start_time": "2022-03-09T14:02:56.250Z"
   },
   {
    "duration": 33,
    "start_time": "2022-03-09T14:02:56.261Z"
   },
   {
    "duration": 32,
    "start_time": "2022-03-09T14:02:56.296Z"
   },
   {
    "duration": 29,
    "start_time": "2022-03-09T14:02:56.330Z"
   },
   {
    "duration": 33,
    "start_time": "2022-03-09T14:02:56.362Z"
   },
   {
    "duration": 3191,
    "start_time": "2022-03-09T14:02:56.397Z"
   },
   {
    "duration": 8,
    "start_time": "2022-03-09T14:02:59.591Z"
   },
   {
    "duration": 3351,
    "start_time": "2022-03-09T14:02:59.602Z"
   },
   {
    "duration": 7,
    "start_time": "2022-03-09T14:03:02.956Z"
   },
   {
    "duration": 27,
    "start_time": "2022-03-09T14:03:02.966Z"
   },
   {
    "duration": 41,
    "start_time": "2022-03-09T14:03:02.996Z"
   },
   {
    "duration": 25,
    "start_time": "2022-03-09T14:03:03.039Z"
   },
   {
    "duration": 20,
    "start_time": "2022-03-09T14:03:03.066Z"
   },
   {
    "duration": 36,
    "start_time": "2022-03-09T14:03:03.089Z"
   },
   {
    "duration": 19,
    "start_time": "2022-03-09T14:03:03.132Z"
   },
   {
    "duration": 9,
    "start_time": "2022-03-09T14:03:03.155Z"
   },
   {
    "duration": 85,
    "start_time": "2022-03-09T14:03:03.166Z"
   },
   {
    "duration": 70,
    "start_time": "2022-03-09T14:03:03.253Z"
   },
   {
    "duration": 12,
    "start_time": "2022-03-09T14:03:03.326Z"
   },
   {
    "duration": 37,
    "start_time": "2022-03-09T14:03:03.341Z"
   },
   {
    "duration": 31,
    "start_time": "2022-03-09T14:03:03.380Z"
   },
   {
    "duration": 117,
    "start_time": "2022-03-09T14:03:03.413Z"
   },
   {
    "duration": 21,
    "start_time": "2022-03-09T14:03:03.533Z"
   },
   {
    "duration": 51,
    "start_time": "2022-03-09T14:03:03.556Z"
   },
   {
    "duration": 81,
    "start_time": "2022-03-09T14:03:03.610Z"
   },
   {
    "duration": 957,
    "start_time": "2022-03-09T14:03:03.694Z"
   },
   {
    "duration": 35,
    "start_time": "2022-03-09T14:03:04.654Z"
   },
   {
    "duration": 24,
    "start_time": "2022-03-09T14:03:04.692Z"
   },
   {
    "duration": 497,
    "start_time": "2022-03-09T14:03:04.718Z"
   },
   {
    "duration": 229,
    "start_time": "2022-03-09T14:03:05.217Z"
   },
   {
    "duration": 594,
    "start_time": "2022-03-09T14:03:05.449Z"
   },
   {
    "duration": 235,
    "start_time": "2022-03-09T14:03:06.046Z"
   },
   {
    "duration": 572,
    "start_time": "2022-03-09T14:03:06.287Z"
   },
   {
    "duration": 502,
    "start_time": "2022-03-09T14:03:06.862Z"
   },
   {
    "duration": 261,
    "start_time": "2022-03-09T14:03:07.366Z"
   },
   {
    "duration": 230,
    "start_time": "2022-03-09T14:03:07.629Z"
   },
   {
    "duration": 53,
    "start_time": "2022-03-09T14:03:07.862Z"
   },
   {
    "duration": 111,
    "start_time": "2022-03-09T14:03:07.917Z"
   },
   {
    "duration": 30,
    "start_time": "2022-03-09T14:03:08.030Z"
   },
   {
    "duration": 51,
    "start_time": "2022-03-09T14:03:08.063Z"
   },
   {
    "duration": 6130,
    "start_time": "2022-03-09T14:03:08.117Z"
   },
   {
    "duration": 38,
    "start_time": "2022-03-09T14:03:14.249Z"
   },
   {
    "duration": 18,
    "start_time": "2022-03-09T14:03:14.290Z"
   },
   {
    "duration": 36,
    "start_time": "2022-03-09T14:03:14.311Z"
   },
   {
    "duration": 310,
    "start_time": "2022-03-09T14:03:14.350Z"
   },
   {
    "duration": 32,
    "start_time": "2022-03-09T14:03:14.663Z"
   },
   {
    "duration": 22,
    "start_time": "2022-03-09T14:03:14.698Z"
   },
   {
    "duration": 336,
    "start_time": "2022-03-09T14:03:14.723Z"
   },
   {
    "duration": 81,
    "start_time": "2022-03-09T14:03:15.062Z"
   },
   {
    "duration": 58,
    "start_time": "2022-03-09T14:03:15.146Z"
   },
   {
    "duration": 343,
    "start_time": "2022-03-09T14:03:15.206Z"
   },
   {
    "duration": 50,
    "start_time": "2022-03-09T14:03:15.551Z"
   },
   {
    "duration": 31,
    "start_time": "2022-03-09T14:03:15.604Z"
   },
   {
    "duration": 353,
    "start_time": "2022-03-09T14:03:15.637Z"
   },
   {
    "duration": 302,
    "start_time": "2022-03-09T14:03:15.992Z"
   },
   {
    "duration": 15,
    "start_time": "2022-03-09T14:03:16.297Z"
   },
   {
    "duration": 1654,
    "start_time": "2022-03-17T17:04:59.475Z"
   },
   {
    "duration": 138,
    "start_time": "2022-03-17T17:05:01.132Z"
   },
   {
    "duration": 177,
    "start_time": "2022-03-17T17:05:01.273Z"
   },
   {
    "duration": 43,
    "start_time": "2022-03-17T17:05:01.453Z"
   },
   {
    "duration": 17,
    "start_time": "2022-03-17T17:05:01.500Z"
   },
   {
    "duration": 77,
    "start_time": "2022-03-17T17:05:01.519Z"
   },
   {
    "duration": 153,
    "start_time": "2022-03-17T17:05:01.598Z"
   },
   {
    "duration": 2613,
    "start_time": "2022-03-17T17:05:01.753Z"
   },
   {
    "duration": 21,
    "start_time": "2022-03-17T17:05:04.368Z"
   },
   {
    "duration": 43,
    "start_time": "2022-03-17T17:05:04.392Z"
   },
   {
    "duration": 35,
    "start_time": "2022-03-17T17:05:04.438Z"
   },
   {
    "duration": 40,
    "start_time": "2022-03-17T17:05:04.476Z"
   },
   {
    "duration": 21,
    "start_time": "2022-03-17T17:05:04.518Z"
   },
   {
    "duration": 2806,
    "start_time": "2022-03-17T17:05:04.544Z"
   },
   {
    "duration": 7,
    "start_time": "2022-03-17T17:05:07.353Z"
   },
   {
    "duration": 3036,
    "start_time": "2022-03-17T17:05:07.385Z"
   },
   {
    "duration": 8,
    "start_time": "2022-03-17T17:05:10.423Z"
   },
   {
    "duration": 14,
    "start_time": "2022-03-17T17:05:10.433Z"
   },
   {
    "duration": 52,
    "start_time": "2022-03-17T17:05:10.449Z"
   },
   {
    "duration": 29,
    "start_time": "2022-03-17T17:05:10.503Z"
   },
   {
    "duration": 10,
    "start_time": "2022-03-17T17:05:10.534Z"
   },
   {
    "duration": 19,
    "start_time": "2022-03-17T17:05:10.583Z"
   },
   {
    "duration": 23,
    "start_time": "2022-03-17T17:05:10.604Z"
   },
   {
    "duration": 8,
    "start_time": "2022-03-17T17:05:10.630Z"
   },
   {
    "duration": 120,
    "start_time": "2022-03-17T17:05:10.640Z"
   },
   {
    "duration": 81,
    "start_time": "2022-03-17T17:05:10.762Z"
   },
   {
    "duration": 10,
    "start_time": "2022-03-17T17:05:10.845Z"
   },
   {
    "duration": 32,
    "start_time": "2022-03-17T17:05:10.857Z"
   },
   {
    "duration": 9,
    "start_time": "2022-03-17T17:05:10.891Z"
   },
   {
    "duration": 129,
    "start_time": "2022-03-17T17:05:10.902Z"
   },
   {
    "duration": 20,
    "start_time": "2022-03-17T17:05:11.033Z"
   },
   {
    "duration": 53,
    "start_time": "2022-03-17T17:05:11.055Z"
   },
   {
    "duration": 78,
    "start_time": "2022-03-17T17:05:11.110Z"
   },
   {
    "duration": 560,
    "start_time": "2022-03-17T17:05:11.191Z"
   },
   {
    "duration": 39,
    "start_time": "2022-03-17T17:05:11.753Z"
   },
   {
    "duration": 27,
    "start_time": "2022-03-17T17:05:11.794Z"
   },
   {
    "duration": 440,
    "start_time": "2022-03-17T17:05:11.823Z"
   },
   {
    "duration": 266,
    "start_time": "2022-03-17T17:05:12.266Z"
   },
   {
    "duration": 430,
    "start_time": "2022-03-17T17:05:12.534Z"
   },
   {
    "duration": 187,
    "start_time": "2022-03-17T17:05:12.966Z"
   },
   {
    "duration": 583,
    "start_time": "2022-03-17T17:05:13.159Z"
   },
   {
    "duration": 495,
    "start_time": "2022-03-17T17:05:13.745Z"
   },
   {
    "duration": 273,
    "start_time": "2022-03-17T17:05:14.242Z"
   },
   {
    "duration": 229,
    "start_time": "2022-03-17T17:05:14.518Z"
   },
   {
    "duration": 53,
    "start_time": "2022-03-17T17:05:14.749Z"
   },
   {
    "duration": 115,
    "start_time": "2022-03-17T17:05:14.805Z"
   },
   {
    "duration": 30,
    "start_time": "2022-03-17T17:05:14.922Z"
   },
   {
    "duration": 57,
    "start_time": "2022-03-17T17:05:14.954Z"
   },
   {
    "duration": 2130,
    "start_time": "2022-03-17T17:05:15.014Z"
   },
   {
    "duration": 21,
    "start_time": "2022-03-17T17:05:17.147Z"
   },
   {
    "duration": 25,
    "start_time": "2022-03-17T17:05:17.170Z"
   },
   {
    "duration": 38,
    "start_time": "2022-03-17T17:05:17.197Z"
   },
   {
    "duration": 254,
    "start_time": "2022-03-17T17:05:17.237Z"
   },
   {
    "duration": 24,
    "start_time": "2022-03-17T17:05:17.494Z"
   },
   {
    "duration": 31,
    "start_time": "2022-03-17T17:05:17.520Z"
   },
   {
    "duration": 260,
    "start_time": "2022-03-17T17:05:17.553Z"
   },
   {
    "duration": 81,
    "start_time": "2022-03-17T17:05:17.815Z"
   },
   {
    "duration": 37,
    "start_time": "2022-03-17T17:05:17.898Z"
   },
   {
    "duration": 261,
    "start_time": "2022-03-17T17:05:17.937Z"
   },
   {
    "duration": 33,
    "start_time": "2022-03-17T17:05:18.200Z"
   },
   {
    "duration": 61,
    "start_time": "2022-03-17T17:05:18.235Z"
   },
   {
    "duration": 341,
    "start_time": "2022-03-17T17:05:18.298Z"
   },
   {
    "duration": 283,
    "start_time": "2022-03-17T17:05:18.643Z"
   },
   {
    "duration": 19,
    "start_time": "2022-03-17T17:05:18.928Z"
   },
   {
    "duration": 1221,
    "start_time": "2022-03-18T19:42:07.697Z"
   },
   {
    "duration": 131,
    "start_time": "2022-03-18T19:42:08.922Z"
   },
   {
    "duration": 176,
    "start_time": "2022-03-18T19:42:09.056Z"
   },
   {
    "duration": 25,
    "start_time": "2022-03-18T19:42:09.244Z"
   },
   {
    "duration": 15,
    "start_time": "2022-03-18T19:42:09.271Z"
   },
   {
    "duration": 61,
    "start_time": "2022-03-18T19:42:09.288Z"
   },
   {
    "duration": 120,
    "start_time": "2022-03-18T19:42:09.352Z"
   },
   {
    "duration": 2424,
    "start_time": "2022-03-18T19:42:09.475Z"
   },
   {
    "duration": 9,
    "start_time": "2022-03-18T19:42:11.902Z"
   },
   {
    "duration": 41,
    "start_time": "2022-03-18T19:42:11.917Z"
   },
   {
    "duration": 20,
    "start_time": "2022-03-18T19:42:11.960Z"
   },
   {
    "duration": 17,
    "start_time": "2022-03-18T19:42:11.982Z"
   },
   {
    "duration": 46,
    "start_time": "2022-03-18T19:42:12.001Z"
   },
   {
    "duration": 2754,
    "start_time": "2022-03-18T19:42:12.049Z"
   },
   {
    "duration": 10,
    "start_time": "2022-03-18T19:42:14.805Z"
   },
   {
    "duration": 2807,
    "start_time": "2022-03-18T19:42:14.817Z"
   },
   {
    "duration": 25,
    "start_time": "2022-03-18T19:42:17.626Z"
   },
   {
    "duration": 16,
    "start_time": "2022-03-18T19:42:17.653Z"
   },
   {
    "duration": 21,
    "start_time": "2022-03-18T19:42:17.672Z"
   },
   {
    "duration": 58,
    "start_time": "2022-03-18T19:42:17.696Z"
   },
   {
    "duration": 9,
    "start_time": "2022-03-18T19:42:17.758Z"
   },
   {
    "duration": 17,
    "start_time": "2022-03-18T19:42:17.769Z"
   },
   {
    "duration": 20,
    "start_time": "2022-03-18T19:42:17.788Z"
   },
   {
    "duration": 9,
    "start_time": "2022-03-18T19:42:17.843Z"
   },
   {
    "duration": 106,
    "start_time": "2022-03-18T19:42:17.855Z"
   },
   {
    "duration": 78,
    "start_time": "2022-03-18T19:42:17.964Z"
   },
   {
    "duration": 12,
    "start_time": "2022-03-18T19:42:18.046Z"
   },
   {
    "duration": 14,
    "start_time": "2022-03-18T19:42:18.066Z"
   },
   {
    "duration": 9,
    "start_time": "2022-03-18T19:42:18.084Z"
   },
   {
    "duration": 149,
    "start_time": "2022-03-18T19:42:18.095Z"
   },
   {
    "duration": 26,
    "start_time": "2022-03-18T19:42:18.247Z"
   },
   {
    "duration": 74,
    "start_time": "2022-03-18T19:42:18.275Z"
   },
   {
    "duration": 81,
    "start_time": "2022-03-18T19:42:18.352Z"
   },
   {
    "duration": 634,
    "start_time": "2022-03-18T19:42:18.444Z"
   },
   {
    "duration": 25,
    "start_time": "2022-03-18T19:42:19.081Z"
   },
   {
    "duration": 61,
    "start_time": "2022-03-18T19:42:19.109Z"
   },
   {
    "duration": 402,
    "start_time": "2022-03-18T19:42:19.173Z"
   },
   {
    "duration": 225,
    "start_time": "2022-03-18T19:42:19.577Z"
   },
   {
    "duration": 469,
    "start_time": "2022-03-18T19:42:19.804Z"
   },
   {
    "duration": 203,
    "start_time": "2022-03-18T19:42:20.275Z"
   },
   {
    "duration": 616,
    "start_time": "2022-03-18T19:42:20.480Z"
   },
   {
    "duration": 586,
    "start_time": "2022-03-18T19:42:21.098Z"
   },
   {
    "duration": 203,
    "start_time": "2022-03-18T19:42:21.686Z"
   },
   {
    "duration": 212,
    "start_time": "2022-03-18T19:42:21.891Z"
   },
   {
    "duration": 60,
    "start_time": "2022-03-18T19:42:22.105Z"
   },
   {
    "duration": 115,
    "start_time": "2022-03-18T19:42:22.167Z"
   },
   {
    "duration": 29,
    "start_time": "2022-03-18T19:42:22.284Z"
   },
   {
    "duration": 57,
    "start_time": "2022-03-18T19:42:22.316Z"
   },
   {
    "duration": 2305,
    "start_time": "2022-03-18T19:42:22.375Z"
   },
   {
    "duration": 19,
    "start_time": "2022-03-18T19:42:24.682Z"
   },
   {
    "duration": 16,
    "start_time": "2022-03-18T19:42:24.703Z"
   },
   {
    "duration": 39,
    "start_time": "2022-03-18T19:42:24.722Z"
   },
   {
    "duration": 240,
    "start_time": "2022-03-18T19:42:24.764Z"
   },
   {
    "duration": 24,
    "start_time": "2022-03-18T19:42:25.006Z"
   },
   {
    "duration": 25,
    "start_time": "2022-03-18T19:42:25.043Z"
   },
   {
    "duration": 274,
    "start_time": "2022-03-18T19:42:25.071Z"
   },
   {
    "duration": 67,
    "start_time": "2022-03-18T19:42:25.350Z"
   },
   {
    "duration": 52,
    "start_time": "2022-03-18T19:42:25.419Z"
   },
   {
    "duration": 260,
    "start_time": "2022-03-18T19:42:25.473Z"
   },
   {
    "duration": 40,
    "start_time": "2022-03-18T19:42:25.735Z"
   },
   {
    "duration": 31,
    "start_time": "2022-03-18T19:42:25.777Z"
   },
   {
    "duration": 287,
    "start_time": "2022-03-18T19:42:25.810Z"
   },
   {
    "duration": 348,
    "start_time": "2022-03-18T19:42:26.100Z"
   },
   {
    "duration": 18,
    "start_time": "2022-03-18T19:42:26.450Z"
   },
   {
    "duration": 4672,
    "start_time": "2022-03-18T19:44:33.836Z"
   },
   {
    "duration": 884,
    "start_time": "2022-03-18T19:44:52.711Z"
   },
   {
    "duration": 1059,
    "start_time": "2022-03-18T19:46:41.084Z"
   },
   {
    "duration": 28,
    "start_time": "2022-03-18T19:49:05.288Z"
   },
   {
    "duration": 3777,
    "start_time": "2022-03-18T19:49:12.408Z"
   },
   {
    "duration": 1022,
    "start_time": "2022-03-18T19:54:30.112Z"
   },
   {
    "duration": 136,
    "start_time": "2022-03-18T19:54:31.137Z"
   },
   {
    "duration": 169,
    "start_time": "2022-03-18T19:54:31.276Z"
   },
   {
    "duration": 24,
    "start_time": "2022-03-18T19:54:31.449Z"
   },
   {
    "duration": 21,
    "start_time": "2022-03-18T19:54:31.475Z"
   },
   {
    "duration": 67,
    "start_time": "2022-03-18T19:54:31.500Z"
   },
   {
    "duration": 120,
    "start_time": "2022-03-18T19:54:31.570Z"
   },
   {
    "duration": 2614,
    "start_time": "2022-03-18T19:54:31.693Z"
   },
   {
    "duration": 8,
    "start_time": "2022-03-18T19:54:34.310Z"
   },
   {
    "duration": 45,
    "start_time": "2022-03-18T19:54:34.324Z"
   },
   {
    "duration": 17,
    "start_time": "2022-03-18T19:54:34.373Z"
   },
   {
    "duration": 21,
    "start_time": "2022-03-18T19:54:34.392Z"
   },
   {
    "duration": 37,
    "start_time": "2022-03-18T19:54:34.415Z"
   },
   {
    "duration": 2801,
    "start_time": "2022-03-18T19:54:34.457Z"
   },
   {
    "duration": 10,
    "start_time": "2022-03-18T19:54:37.260Z"
   },
   {
    "duration": 3128,
    "start_time": "2022-03-18T19:54:37.273Z"
   },
   {
    "duration": 9,
    "start_time": "2022-03-18T19:54:40.403Z"
   },
   {
    "duration": 39,
    "start_time": "2022-03-18T19:54:40.415Z"
   },
   {
    "duration": 28,
    "start_time": "2022-03-18T19:54:40.456Z"
   },
   {
    "duration": 20,
    "start_time": "2022-03-18T19:54:40.486Z"
   },
   {
    "duration": 7,
    "start_time": "2022-03-18T19:54:40.508Z"
   },
   {
    "duration": 20,
    "start_time": "2022-03-18T19:54:40.544Z"
   },
   {
    "duration": 23,
    "start_time": "2022-03-18T19:54:40.566Z"
   },
   {
    "duration": 8,
    "start_time": "2022-03-18T19:54:40.591Z"
   },
   {
    "duration": 121,
    "start_time": "2022-03-18T19:54:40.601Z"
   },
   {
    "duration": 78,
    "start_time": "2022-03-18T19:54:40.725Z"
   },
   {
    "duration": 10,
    "start_time": "2022-03-18T19:54:40.806Z"
   },
   {
    "duration": 13,
    "start_time": "2022-03-18T19:54:40.846Z"
   },
   {
    "duration": 14,
    "start_time": "2022-03-18T19:54:40.861Z"
   },
   {
    "duration": 129,
    "start_time": "2022-03-18T19:54:40.877Z"
   },
   {
    "duration": 35,
    "start_time": "2022-03-18T19:54:41.009Z"
   },
   {
    "duration": 31,
    "start_time": "2022-03-18T19:54:41.051Z"
   },
   {
    "duration": 85,
    "start_time": "2022-03-18T19:54:41.085Z"
   },
   {
    "duration": 603,
    "start_time": "2022-03-18T19:54:41.172Z"
   },
   {
    "duration": 21,
    "start_time": "2022-03-18T19:54:41.778Z"
   },
   {
    "duration": 50,
    "start_time": "2022-03-18T19:54:41.802Z"
   },
   {
    "duration": 388,
    "start_time": "2022-03-18T19:54:41.856Z"
   },
   {
    "duration": 194,
    "start_time": "2022-03-18T19:54:42.247Z"
   },
   {
    "duration": 415,
    "start_time": "2022-03-18T19:54:42.443Z"
   },
   {
    "duration": 194,
    "start_time": "2022-03-18T19:54:42.860Z"
   },
   {
    "duration": 411,
    "start_time": "2022-03-18T19:54:43.056Z"
   },
   {
    "duration": 462,
    "start_time": "2022-03-18T19:54:43.469Z"
   },
   {
    "duration": 192,
    "start_time": "2022-03-18T19:54:43.934Z"
   },
   {
    "duration": 264,
    "start_time": "2022-03-18T19:54:44.129Z"
   },
   {
    "duration": 59,
    "start_time": "2022-03-18T19:54:44.395Z"
   },
   {
    "duration": 109,
    "start_time": "2022-03-18T19:54:44.457Z"
   },
   {
    "duration": 28,
    "start_time": "2022-03-18T19:54:44.568Z"
   },
   {
    "duration": 60,
    "start_time": "2022-03-18T19:54:44.598Z"
   },
   {
    "duration": 2318,
    "start_time": "2022-03-18T19:54:44.661Z"
   },
   {
    "duration": 20,
    "start_time": "2022-03-18T19:54:46.981Z"
   },
   {
    "duration": 3843,
    "start_time": "2022-03-18T19:54:47.003Z"
   },
   {
    "duration": 0,
    "start_time": "2022-03-18T19:54:50.849Z"
   },
   {
    "duration": 0,
    "start_time": "2022-03-18T19:54:50.851Z"
   },
   {
    "duration": 0,
    "start_time": "2022-03-18T19:54:50.853Z"
   },
   {
    "duration": 0,
    "start_time": "2022-03-18T19:54:50.854Z"
   },
   {
    "duration": 0,
    "start_time": "2022-03-18T19:54:50.856Z"
   },
   {
    "duration": 0,
    "start_time": "2022-03-18T19:54:50.858Z"
   },
   {
    "duration": 0,
    "start_time": "2022-03-18T19:54:50.860Z"
   },
   {
    "duration": 0,
    "start_time": "2022-03-18T19:54:50.861Z"
   },
   {
    "duration": 0,
    "start_time": "2022-03-18T19:54:50.864Z"
   },
   {
    "duration": 0,
    "start_time": "2022-03-18T19:54:50.866Z"
   },
   {
    "duration": 0,
    "start_time": "2022-03-18T19:54:50.868Z"
   },
   {
    "duration": 0,
    "start_time": "2022-03-18T19:54:50.870Z"
   },
   {
    "duration": 0,
    "start_time": "2022-03-18T19:54:50.872Z"
   },
   {
    "duration": 23,
    "start_time": "2022-03-18T19:57:04.500Z"
   },
   {
    "duration": 11,
    "start_time": "2022-03-18T19:57:36.571Z"
   },
   {
    "duration": 12,
    "start_time": "2022-03-18T20:00:15.875Z"
   },
   {
    "duration": 10,
    "start_time": "2022-03-18T20:00:34.571Z"
   },
   {
    "duration": 955,
    "start_time": "2022-03-18T20:00:48.831Z"
   },
   {
    "duration": 108,
    "start_time": "2022-03-18T20:00:49.789Z"
   },
   {
    "duration": 260,
    "start_time": "2022-03-18T20:00:49.899Z"
   },
   {
    "duration": 24,
    "start_time": "2022-03-18T20:00:50.163Z"
   },
   {
    "duration": 19,
    "start_time": "2022-03-18T20:00:50.189Z"
   },
   {
    "duration": 64,
    "start_time": "2022-03-18T20:00:50.211Z"
   },
   {
    "duration": 124,
    "start_time": "2022-03-18T20:00:50.277Z"
   },
   {
    "duration": 2717,
    "start_time": "2022-03-18T20:00:50.403Z"
   },
   {
    "duration": 31,
    "start_time": "2022-03-18T20:00:53.123Z"
   },
   {
    "duration": 28,
    "start_time": "2022-03-18T20:00:53.158Z"
   },
   {
    "duration": 16,
    "start_time": "2022-03-18T20:00:53.189Z"
   },
   {
    "duration": 39,
    "start_time": "2022-03-18T20:00:53.206Z"
   },
   {
    "duration": 15,
    "start_time": "2022-03-18T20:00:53.251Z"
   },
   {
    "duration": 3110,
    "start_time": "2022-03-18T20:00:53.269Z"
   },
   {
    "duration": 7,
    "start_time": "2022-03-18T20:00:56.381Z"
   },
   {
    "duration": 3013,
    "start_time": "2022-03-18T20:00:56.390Z"
   },
   {
    "duration": 9,
    "start_time": "2022-03-18T20:00:59.406Z"
   },
   {
    "duration": 34,
    "start_time": "2022-03-18T20:00:59.418Z"
   },
   {
    "duration": 24,
    "start_time": "2022-03-18T20:00:59.454Z"
   },
   {
    "duration": 21,
    "start_time": "2022-03-18T20:00:59.480Z"
   },
   {
    "duration": 7,
    "start_time": "2022-03-18T20:00:59.504Z"
   },
   {
    "duration": 29,
    "start_time": "2022-03-18T20:00:59.548Z"
   },
   {
    "duration": 29,
    "start_time": "2022-03-18T20:00:59.580Z"
   },
   {
    "duration": 31,
    "start_time": "2022-03-18T20:00:59.612Z"
   },
   {
    "duration": 81,
    "start_time": "2022-03-18T20:00:59.650Z"
   },
   {
    "duration": 65,
    "start_time": "2022-03-18T20:00:59.742Z"
   },
   {
    "duration": 33,
    "start_time": "2022-03-18T20:00:59.809Z"
   },
   {
    "duration": 9,
    "start_time": "2022-03-18T20:00:59.851Z"
   },
   {
    "duration": 11,
    "start_time": "2022-03-18T20:00:59.862Z"
   },
   {
    "duration": 135,
    "start_time": "2022-03-18T20:00:59.876Z"
   },
   {
    "duration": 44,
    "start_time": "2022-03-18T20:01:00.014Z"
   },
   {
    "duration": 30,
    "start_time": "2022-03-18T20:01:00.060Z"
   },
   {
    "duration": 84,
    "start_time": "2022-03-18T20:01:00.093Z"
   },
   {
    "duration": 593,
    "start_time": "2022-03-18T20:01:00.179Z"
   },
   {
    "duration": 22,
    "start_time": "2022-03-18T20:01:00.774Z"
   },
   {
    "duration": 48,
    "start_time": "2022-03-18T20:01:00.798Z"
   },
   {
    "duration": 416,
    "start_time": "2022-03-18T20:01:00.848Z"
   },
   {
    "duration": 209,
    "start_time": "2022-03-18T20:01:01.267Z"
   },
   {
    "duration": 442,
    "start_time": "2022-03-18T20:01:01.478Z"
   },
   {
    "duration": 202,
    "start_time": "2022-03-18T20:01:01.922Z"
   },
   {
    "duration": 442,
    "start_time": "2022-03-18T20:01:02.126Z"
   },
   {
    "duration": 371,
    "start_time": "2022-03-18T20:01:02.570Z"
   },
   {
    "duration": 194,
    "start_time": "2022-03-18T20:01:02.945Z"
   },
   {
    "duration": 269,
    "start_time": "2022-03-18T20:01:03.143Z"
   },
   {
    "duration": 68,
    "start_time": "2022-03-18T20:01:03.415Z"
   },
   {
    "duration": 144,
    "start_time": "2022-03-18T20:01:03.486Z"
   },
   {
    "duration": 46,
    "start_time": "2022-03-18T20:01:03.633Z"
   },
   {
    "duration": 33,
    "start_time": "2022-03-18T20:01:03.682Z"
   },
   {
    "duration": 2267,
    "start_time": "2022-03-18T20:01:03.717Z"
   },
   {
    "duration": 19,
    "start_time": "2022-03-18T20:01:05.986Z"
   },
   {
    "duration": 3886,
    "start_time": "2022-03-18T20:01:06.007Z"
   },
   {
    "duration": 0,
    "start_time": "2022-03-18T20:01:09.895Z"
   },
   {
    "duration": 0,
    "start_time": "2022-03-18T20:01:09.897Z"
   },
   {
    "duration": 0,
    "start_time": "2022-03-18T20:01:09.898Z"
   },
   {
    "duration": 0,
    "start_time": "2022-03-18T20:01:09.901Z"
   },
   {
    "duration": 0,
    "start_time": "2022-03-18T20:01:09.902Z"
   },
   {
    "duration": 0,
    "start_time": "2022-03-18T20:01:09.904Z"
   },
   {
    "duration": 0,
    "start_time": "2022-03-18T20:01:09.905Z"
   },
   {
    "duration": 0,
    "start_time": "2022-03-18T20:01:09.907Z"
   },
   {
    "duration": 0,
    "start_time": "2022-03-18T20:01:09.909Z"
   },
   {
    "duration": 0,
    "start_time": "2022-03-18T20:01:09.910Z"
   },
   {
    "duration": 0,
    "start_time": "2022-03-18T20:01:09.913Z"
   },
   {
    "duration": 0,
    "start_time": "2022-03-18T20:01:09.915Z"
   },
   {
    "duration": 0,
    "start_time": "2022-03-18T20:01:09.916Z"
   },
   {
    "duration": 11,
    "start_time": "2022-03-18T20:01:14.660Z"
   },
   {
    "duration": 248,
    "start_time": "2022-03-18T20:01:33.217Z"
   },
   {
    "duration": 66,
    "start_time": "2022-03-18T20:01:43.413Z"
   },
   {
    "duration": 38,
    "start_time": "2022-03-18T20:01:52.481Z"
   },
   {
    "duration": 333,
    "start_time": "2022-03-18T20:01:57.315Z"
   },
   {
    "duration": 37,
    "start_time": "2022-03-18T20:02:11.611Z"
   },
   {
    "duration": 43,
    "start_time": "2022-03-18T20:02:16.301Z"
   },
   {
    "duration": 355,
    "start_time": "2022-03-18T20:02:24.040Z"
   },
   {
    "duration": 240,
    "start_time": "2022-03-18T20:02:29.663Z"
   },
   {
    "duration": 17,
    "start_time": "2022-03-18T20:02:35.556Z"
   },
   {
    "duration": 38,
    "start_time": "2022-03-18T20:03:02.935Z"
   },
   {
    "duration": 229,
    "start_time": "2022-03-18T20:03:07.677Z"
   },
   {
    "duration": 407,
    "start_time": "2022-03-18T20:04:21.641Z"
   },
   {
    "duration": 230,
    "start_time": "2022-03-18T20:06:47.151Z"
   },
   {
    "duration": 217,
    "start_time": "2022-03-18T20:09:14.319Z"
   },
   {
    "duration": 226,
    "start_time": "2022-03-18T20:13:53.556Z"
   },
   {
    "duration": 206,
    "start_time": "2022-03-18T20:14:01.450Z"
   },
   {
    "duration": 1242,
    "start_time": "2022-03-18T20:14:28.942Z"
   },
   {
    "duration": 164,
    "start_time": "2022-03-18T20:14:30.187Z"
   },
   {
    "duration": 222,
    "start_time": "2022-03-18T20:14:30.354Z"
   },
   {
    "duration": 24,
    "start_time": "2022-03-18T20:14:30.579Z"
   },
   {
    "duration": 37,
    "start_time": "2022-03-18T20:14:30.606Z"
   },
   {
    "duration": 41,
    "start_time": "2022-03-18T20:14:30.646Z"
   },
   {
    "duration": 137,
    "start_time": "2022-03-18T20:14:30.689Z"
   },
   {
    "duration": 2863,
    "start_time": "2022-03-18T20:14:30.829Z"
   },
   {
    "duration": 10,
    "start_time": "2022-03-18T20:14:33.694Z"
   },
   {
    "duration": 46,
    "start_time": "2022-03-18T20:14:33.709Z"
   },
   {
    "duration": 17,
    "start_time": "2022-03-18T20:14:33.758Z"
   },
   {
    "duration": 19,
    "start_time": "2022-03-18T20:14:33.778Z"
   },
   {
    "duration": 51,
    "start_time": "2022-03-18T20:14:33.800Z"
   },
   {
    "duration": 3151,
    "start_time": "2022-03-18T20:14:33.853Z"
   },
   {
    "duration": 9,
    "start_time": "2022-03-18T20:14:37.007Z"
   },
   {
    "duration": 3472,
    "start_time": "2022-03-18T20:14:37.018Z"
   },
   {
    "duration": 8,
    "start_time": "2022-03-18T20:14:40.492Z"
   },
   {
    "duration": 44,
    "start_time": "2022-03-18T20:14:40.502Z"
   },
   {
    "duration": 28,
    "start_time": "2022-03-18T20:14:40.549Z"
   },
   {
    "duration": 29,
    "start_time": "2022-03-18T20:14:40.580Z"
   },
   {
    "duration": 7,
    "start_time": "2022-03-18T20:14:40.612Z"
   },
   {
    "duration": 29,
    "start_time": "2022-03-18T20:14:40.643Z"
   },
   {
    "duration": 24,
    "start_time": "2022-03-18T20:14:40.675Z"
   },
   {
    "duration": 9,
    "start_time": "2022-03-18T20:14:40.702Z"
   },
   {
    "duration": 131,
    "start_time": "2022-03-18T20:14:40.713Z"
   },
   {
    "duration": 68,
    "start_time": "2022-03-18T20:14:40.847Z"
   },
   {
    "duration": 29,
    "start_time": "2022-03-18T20:14:40.917Z"
   },
   {
    "duration": 21,
    "start_time": "2022-03-18T20:14:40.954Z"
   },
   {
    "duration": 17,
    "start_time": "2022-03-18T20:14:40.978Z"
   },
   {
    "duration": 124,
    "start_time": "2022-03-18T20:14:40.998Z"
   },
   {
    "duration": 41,
    "start_time": "2022-03-18T20:14:41.124Z"
   },
   {
    "duration": 33,
    "start_time": "2022-03-18T20:14:41.168Z"
   },
   {
    "duration": 87,
    "start_time": "2022-03-18T20:14:41.204Z"
   },
   {
    "duration": 653,
    "start_time": "2022-03-18T20:14:41.294Z"
   },
   {
    "duration": 32,
    "start_time": "2022-03-18T20:14:41.949Z"
   },
   {
    "duration": 32,
    "start_time": "2022-03-18T20:14:41.983Z"
   },
   {
    "duration": 596,
    "start_time": "2022-03-18T20:14:42.019Z"
   },
   {
    "duration": 289,
    "start_time": "2022-03-18T20:14:42.618Z"
   },
   {
    "duration": 455,
    "start_time": "2022-03-18T20:14:42.910Z"
   },
   {
    "duration": 205,
    "start_time": "2022-03-18T20:14:43.368Z"
   },
   {
    "duration": 510,
    "start_time": "2022-03-18T20:14:43.577Z"
   },
   {
    "duration": 386,
    "start_time": "2022-03-18T20:14:44.090Z"
   },
   {
    "duration": 255,
    "start_time": "2022-03-18T20:14:44.478Z"
   },
   {
    "duration": 215,
    "start_time": "2022-03-18T20:14:44.735Z"
   },
   {
    "duration": 45,
    "start_time": "2022-03-18T20:14:44.953Z"
   },
   {
    "duration": 161,
    "start_time": "2022-03-18T20:14:45.001Z"
   },
   {
    "duration": 32,
    "start_time": "2022-03-18T20:14:45.165Z"
   },
   {
    "duration": 60,
    "start_time": "2022-03-18T20:14:45.199Z"
   },
   {
    "duration": 2334,
    "start_time": "2022-03-18T20:14:45.262Z"
   },
   {
    "duration": 21,
    "start_time": "2022-03-18T20:14:47.599Z"
   },
   {
    "duration": 207,
    "start_time": "2022-03-18T20:14:47.622Z"
   },
   {
    "duration": 0,
    "start_time": "2022-03-18T20:14:47.832Z"
   },
   {
    "duration": 0,
    "start_time": "2022-03-18T20:14:47.833Z"
   },
   {
    "duration": 0,
    "start_time": "2022-03-18T20:14:47.835Z"
   },
   {
    "duration": 0,
    "start_time": "2022-03-18T20:14:47.837Z"
   },
   {
    "duration": 0,
    "start_time": "2022-03-18T20:14:47.839Z"
   },
   {
    "duration": 0,
    "start_time": "2022-03-18T20:14:47.841Z"
   },
   {
    "duration": 0,
    "start_time": "2022-03-18T20:14:47.845Z"
   },
   {
    "duration": 0,
    "start_time": "2022-03-18T20:14:47.847Z"
   },
   {
    "duration": 0,
    "start_time": "2022-03-18T20:14:47.848Z"
   },
   {
    "duration": 0,
    "start_time": "2022-03-18T20:14:47.850Z"
   },
   {
    "duration": 0,
    "start_time": "2022-03-18T20:14:47.852Z"
   },
   {
    "duration": 0,
    "start_time": "2022-03-18T20:14:47.854Z"
   },
   {
    "duration": 0,
    "start_time": "2022-03-18T20:14:47.855Z"
   },
   {
    "duration": 233,
    "start_time": "2022-03-18T20:15:20.178Z"
   },
   {
    "duration": 219,
    "start_time": "2022-03-18T20:15:57.931Z"
   },
   {
    "duration": 368,
    "start_time": "2022-03-18T20:18:17.556Z"
   },
   {
    "duration": 279,
    "start_time": "2022-03-18T20:18:29.498Z"
   },
   {
    "duration": 48,
    "start_time": "2022-03-19T11:19:02.543Z"
   },
   {
    "duration": 872,
    "start_time": "2022-03-19T11:19:15.918Z"
   },
   {
    "duration": 135,
    "start_time": "2022-03-19T11:19:16.792Z"
   },
   {
    "duration": 107,
    "start_time": "2022-03-19T11:19:16.929Z"
   },
   {
    "duration": 14,
    "start_time": "2022-03-19T11:19:17.038Z"
   },
   {
    "duration": 11,
    "start_time": "2022-03-19T11:19:17.053Z"
   },
   {
    "duration": 22,
    "start_time": "2022-03-19T11:19:17.066Z"
   },
   {
    "duration": 90,
    "start_time": "2022-03-19T11:19:17.089Z"
   },
   {
    "duration": 1547,
    "start_time": "2022-03-19T11:19:17.180Z"
   },
   {
    "duration": 5,
    "start_time": "2022-03-19T11:19:18.738Z"
   },
   {
    "duration": 10,
    "start_time": "2022-03-19T11:19:18.746Z"
   },
   {
    "duration": 13,
    "start_time": "2022-03-19T11:19:18.758Z"
   },
   {
    "duration": 12,
    "start_time": "2022-03-19T11:19:18.773Z"
   },
   {
    "duration": 6,
    "start_time": "2022-03-19T11:19:18.787Z"
   },
   {
    "duration": 1697,
    "start_time": "2022-03-19T11:19:18.794Z"
   },
   {
    "duration": 6,
    "start_time": "2022-03-19T11:19:20.493Z"
   },
   {
    "duration": 1744,
    "start_time": "2022-03-19T11:19:20.501Z"
   },
   {
    "duration": 6,
    "start_time": "2022-03-19T11:19:22.247Z"
   },
   {
    "duration": 7,
    "start_time": "2022-03-19T11:19:22.254Z"
   },
   {
    "duration": 15,
    "start_time": "2022-03-19T11:19:22.262Z"
   },
   {
    "duration": 15,
    "start_time": "2022-03-19T11:19:22.279Z"
   },
   {
    "duration": 6,
    "start_time": "2022-03-19T11:19:22.338Z"
   },
   {
    "duration": 13,
    "start_time": "2022-03-19T11:19:22.346Z"
   },
   {
    "duration": 13,
    "start_time": "2022-03-19T11:19:22.361Z"
   },
   {
    "duration": 5,
    "start_time": "2022-03-19T11:19:22.376Z"
   },
   {
    "duration": 83,
    "start_time": "2022-03-19T11:19:22.383Z"
   },
   {
    "duration": 37,
    "start_time": "2022-03-19T11:19:22.467Z"
   },
   {
    "duration": 6,
    "start_time": "2022-03-19T11:19:22.506Z"
   },
   {
    "duration": 7,
    "start_time": "2022-03-19T11:19:22.537Z"
   },
   {
    "duration": 10,
    "start_time": "2022-03-19T11:19:22.545Z"
   },
   {
    "duration": 87,
    "start_time": "2022-03-19T11:19:22.556Z"
   },
   {
    "duration": 15,
    "start_time": "2022-03-19T11:19:22.645Z"
   },
   {
    "duration": 20,
    "start_time": "2022-03-19T11:19:22.662Z"
   },
   {
    "duration": 64,
    "start_time": "2022-03-19T11:19:22.684Z"
   },
   {
    "duration": 322,
    "start_time": "2022-03-19T11:19:22.750Z"
   },
   {
    "duration": 14,
    "start_time": "2022-03-19T11:19:23.073Z"
   },
   {
    "duration": 20,
    "start_time": "2022-03-19T11:19:23.088Z"
   },
   {
    "duration": 267,
    "start_time": "2022-03-19T11:19:23.110Z"
   },
   {
    "duration": 118,
    "start_time": "2022-03-19T11:19:23.378Z"
   },
   {
    "duration": 248,
    "start_time": "2022-03-19T11:19:23.497Z"
   },
   {
    "duration": 118,
    "start_time": "2022-03-19T11:19:23.747Z"
   },
   {
    "duration": 257,
    "start_time": "2022-03-19T11:19:23.866Z"
   },
   {
    "duration": 222,
    "start_time": "2022-03-19T11:19:24.124Z"
   },
   {
    "duration": 127,
    "start_time": "2022-03-19T11:19:24.348Z"
   },
   {
    "duration": 117,
    "start_time": "2022-03-19T11:19:24.477Z"
   },
   {
    "duration": 26,
    "start_time": "2022-03-19T11:19:24.595Z"
   },
   {
    "duration": 100,
    "start_time": "2022-03-19T11:19:24.623Z"
   },
   {
    "duration": 25,
    "start_time": "2022-03-19T11:19:24.725Z"
   },
   {
    "duration": 21,
    "start_time": "2022-03-19T11:19:24.752Z"
   },
   {
    "duration": 1251,
    "start_time": "2022-03-19T11:19:24.775Z"
   },
   {
    "duration": 14,
    "start_time": "2022-03-19T11:19:26.027Z"
   },
   {
    "duration": 173,
    "start_time": "2022-03-19T11:19:26.043Z"
   },
   {
    "duration": 28,
    "start_time": "2022-03-19T11:19:26.217Z"
   },
   {
    "duration": 141,
    "start_time": "2022-03-19T11:19:26.246Z"
   },
   {
    "duration": 15,
    "start_time": "2022-03-19T11:19:26.389Z"
   },
   {
    "duration": 17,
    "start_time": "2022-03-19T11:19:26.406Z"
   },
   {
    "duration": 157,
    "start_time": "2022-03-19T11:19:26.438Z"
   },
   {
    "duration": 44,
    "start_time": "2022-03-19T11:19:26.598Z"
   },
   {
    "duration": 23,
    "start_time": "2022-03-19T11:19:26.644Z"
   },
   {
    "duration": 163,
    "start_time": "2022-03-19T11:19:26.669Z"
   },
   {
    "duration": 22,
    "start_time": "2022-03-19T11:19:26.833Z"
   },
   {
    "duration": 19,
    "start_time": "2022-03-19T11:19:26.857Z"
   },
   {
    "duration": 176,
    "start_time": "2022-03-19T11:19:26.878Z"
   },
   {
    "duration": 230,
    "start_time": "2022-03-19T11:19:27.055Z"
   },
   {
    "duration": 11,
    "start_time": "2022-03-19T11:19:27.286Z"
   },
   {
    "duration": 173,
    "start_time": "2022-03-19T11:29:50.197Z"
   },
   {
    "duration": 174,
    "start_time": "2022-03-19T11:33:55.502Z"
   },
   {
    "duration": 165,
    "start_time": "2022-03-19T11:34:26.717Z"
   },
   {
    "duration": 17,
    "start_time": "2022-03-19T11:34:40.355Z"
   },
   {
    "duration": 86,
    "start_time": "2022-03-19T11:37:12.253Z"
   },
   {
    "duration": 21,
    "start_time": "2022-03-19T11:37:21.287Z"
   },
   {
    "duration": 17,
    "start_time": "2022-03-19T11:37:35.096Z"
   },
   {
    "duration": 18,
    "start_time": "2022-03-19T11:37:48.698Z"
   },
   {
    "duration": 17,
    "start_time": "2022-03-19T11:40:12.892Z"
   },
   {
    "duration": 18,
    "start_time": "2022-03-19T11:41:49.938Z"
   },
   {
    "duration": 14,
    "start_time": "2022-03-19T11:42:29.271Z"
   },
   {
    "duration": 726,
    "start_time": "2022-03-19T11:43:16.414Z"
   },
   {
    "duration": 78,
    "start_time": "2022-03-19T11:43:17.143Z"
   },
   {
    "duration": 110,
    "start_time": "2022-03-19T11:43:17.223Z"
   },
   {
    "duration": 17,
    "start_time": "2022-03-19T11:43:17.335Z"
   },
   {
    "duration": 11,
    "start_time": "2022-03-19T11:43:17.353Z"
   },
   {
    "duration": 24,
    "start_time": "2022-03-19T11:43:17.366Z"
   },
   {
    "duration": 98,
    "start_time": "2022-03-19T11:43:17.392Z"
   },
   {
    "duration": 1687,
    "start_time": "2022-03-19T11:43:17.492Z"
   },
   {
    "duration": 7,
    "start_time": "2022-03-19T11:43:19.181Z"
   },
   {
    "duration": 10,
    "start_time": "2022-03-19T11:43:19.192Z"
   },
   {
    "duration": 47,
    "start_time": "2022-03-19T11:43:19.203Z"
   },
   {
    "duration": 13,
    "start_time": "2022-03-19T11:43:19.252Z"
   },
   {
    "duration": 6,
    "start_time": "2022-03-19T11:43:19.267Z"
   },
   {
    "duration": 1820,
    "start_time": "2022-03-19T11:43:19.275Z"
   },
   {
    "duration": 6,
    "start_time": "2022-03-19T11:43:21.098Z"
   },
   {
    "duration": 1785,
    "start_time": "2022-03-19T11:43:21.106Z"
   },
   {
    "duration": 5,
    "start_time": "2022-03-19T11:43:22.893Z"
   },
   {
    "duration": 6,
    "start_time": "2022-03-19T11:43:22.900Z"
   },
   {
    "duration": 43,
    "start_time": "2022-03-19T11:43:22.908Z"
   },
   {
    "duration": 14,
    "start_time": "2022-03-19T11:43:22.953Z"
   },
   {
    "duration": 5,
    "start_time": "2022-03-19T11:43:22.969Z"
   },
   {
    "duration": 15,
    "start_time": "2022-03-19T11:43:22.976Z"
   },
   {
    "duration": 15,
    "start_time": "2022-03-19T11:43:22.992Z"
   },
   {
    "duration": 7,
    "start_time": "2022-03-19T11:43:23.037Z"
   },
   {
    "duration": 55,
    "start_time": "2022-03-19T11:43:23.045Z"
   },
   {
    "duration": 58,
    "start_time": "2022-03-19T11:43:23.102Z"
   },
   {
    "duration": 7,
    "start_time": "2022-03-19T11:43:23.162Z"
   },
   {
    "duration": 10,
    "start_time": "2022-03-19T11:43:23.172Z"
   },
   {
    "duration": 11,
    "start_time": "2022-03-19T11:43:23.184Z"
   },
   {
    "duration": 94,
    "start_time": "2022-03-19T11:43:23.196Z"
   },
   {
    "duration": 14,
    "start_time": "2022-03-19T11:43:23.292Z"
   },
   {
    "duration": 37,
    "start_time": "2022-03-19T11:43:23.308Z"
   },
   {
    "duration": 37,
    "start_time": "2022-03-19T11:43:23.346Z"
   },
   {
    "duration": 335,
    "start_time": "2022-03-19T11:43:23.385Z"
   },
   {
    "duration": 19,
    "start_time": "2022-03-19T11:43:23.721Z"
   },
   {
    "duration": 16,
    "start_time": "2022-03-19T11:43:23.742Z"
   },
   {
    "duration": 283,
    "start_time": "2022-03-19T11:43:23.759Z"
   },
   {
    "duration": 132,
    "start_time": "2022-03-19T11:43:24.043Z"
   },
   {
    "duration": 262,
    "start_time": "2022-03-19T11:43:24.177Z"
   },
   {
    "duration": 121,
    "start_time": "2022-03-19T11:43:24.441Z"
   },
   {
    "duration": 268,
    "start_time": "2022-03-19T11:43:24.564Z"
   },
   {
    "duration": 216,
    "start_time": "2022-03-19T11:43:24.837Z"
   },
   {
    "duration": 128,
    "start_time": "2022-03-19T11:43:25.055Z"
   },
   {
    "duration": 120,
    "start_time": "2022-03-19T11:43:25.185Z"
   },
   {
    "duration": 37,
    "start_time": "2022-03-19T11:43:25.307Z"
   },
   {
    "duration": 110,
    "start_time": "2022-03-19T11:43:25.345Z"
   },
   {
    "duration": 20,
    "start_time": "2022-03-19T11:43:25.456Z"
   },
   {
    "duration": 23,
    "start_time": "2022-03-19T11:43:25.477Z"
   },
   {
    "duration": 1293,
    "start_time": "2022-03-19T11:43:25.501Z"
   },
   {
    "duration": 15,
    "start_time": "2022-03-19T11:43:26.796Z"
   },
   {
    "duration": 167,
    "start_time": "2022-03-19T11:43:26.812Z"
   },
   {
    "duration": 25,
    "start_time": "2022-03-19T11:43:26.981Z"
   },
   {
    "duration": 160,
    "start_time": "2022-03-19T11:43:27.007Z"
   },
   {
    "duration": 18,
    "start_time": "2022-03-19T11:43:27.168Z"
   },
   {
    "duration": 12,
    "start_time": "2022-03-19T11:43:27.188Z"
   },
   {
    "duration": 172,
    "start_time": "2022-03-19T11:43:27.202Z"
   },
   {
    "duration": 39,
    "start_time": "2022-03-19T11:43:27.375Z"
   },
   {
    "duration": 41,
    "start_time": "2022-03-19T11:43:27.416Z"
   },
   {
    "duration": 166,
    "start_time": "2022-03-19T11:43:27.459Z"
   },
   {
    "duration": 28,
    "start_time": "2022-03-19T11:43:27.627Z"
   },
   {
    "duration": 21,
    "start_time": "2022-03-19T11:43:27.656Z"
   },
   {
    "duration": 176,
    "start_time": "2022-03-19T11:43:27.679Z"
   },
   {
    "duration": 245,
    "start_time": "2022-03-19T11:43:27.857Z"
   },
   {
    "duration": 11,
    "start_time": "2022-03-19T11:43:28.103Z"
   },
   {
    "duration": 159,
    "start_time": "2022-03-19T11:44:23.281Z"
   },
   {
    "duration": 172,
    "start_time": "2022-03-19T11:45:10.140Z"
   },
   {
    "duration": 161,
    "start_time": "2022-03-19T11:46:53.850Z"
   },
   {
    "duration": 68,
    "start_time": "2022-04-03T07:40:45.048Z"
   },
   {
    "duration": 1062,
    "start_time": "2022-04-03T07:40:57.002Z"
   },
   {
    "duration": 99,
    "start_time": "2022-04-03T07:40:58.069Z"
   },
   {
    "duration": 147,
    "start_time": "2022-04-03T07:40:58.171Z"
   },
   {
    "duration": 22,
    "start_time": "2022-04-03T07:40:58.321Z"
   },
   {
    "duration": 25,
    "start_time": "2022-04-03T07:40:58.346Z"
   },
   {
    "duration": 39,
    "start_time": "2022-04-03T07:40:58.373Z"
   },
   {
    "duration": 113,
    "start_time": "2022-04-03T07:40:58.414Z"
   },
   {
    "duration": 2172,
    "start_time": "2022-04-03T07:40:58.530Z"
   },
   {
    "duration": 8,
    "start_time": "2022-04-03T07:41:00.705Z"
   },
   {
    "duration": 12,
    "start_time": "2022-04-03T07:41:00.717Z"
   },
   {
    "duration": 59,
    "start_time": "2022-04-03T07:41:00.731Z"
   },
   {
    "duration": 17,
    "start_time": "2022-04-03T07:41:00.792Z"
   },
   {
    "duration": 8,
    "start_time": "2022-04-03T07:41:00.811Z"
   },
   {
    "duration": 2385,
    "start_time": "2022-04-03T07:41:00.821Z"
   },
   {
    "duration": 8,
    "start_time": "2022-04-03T07:41:03.208Z"
   },
   {
    "duration": 2394,
    "start_time": "2022-04-03T07:41:03.218Z"
   },
   {
    "duration": 7,
    "start_time": "2022-04-03T07:41:05.614Z"
   },
   {
    "duration": 15,
    "start_time": "2022-04-03T07:41:05.623Z"
   },
   {
    "duration": 45,
    "start_time": "2022-04-03T07:41:05.640Z"
   },
   {
    "duration": 19,
    "start_time": "2022-04-03T07:41:05.687Z"
   },
   {
    "duration": 7,
    "start_time": "2022-04-03T07:41:05.708Z"
   },
   {
    "duration": 52,
    "start_time": "2022-04-03T07:41:05.717Z"
   },
   {
    "duration": 21,
    "start_time": "2022-04-03T07:41:05.771Z"
   },
   {
    "duration": 7,
    "start_time": "2022-04-03T07:41:05.794Z"
   },
   {
    "duration": 101,
    "start_time": "2022-04-03T07:41:05.803Z"
   },
   {
    "duration": 76,
    "start_time": "2022-04-03T07:41:05.906Z"
   },
   {
    "duration": 8,
    "start_time": "2022-04-03T07:41:05.984Z"
   },
   {
    "duration": 8,
    "start_time": "2022-04-03T07:41:05.997Z"
   },
   {
    "duration": 9,
    "start_time": "2022-04-03T07:41:06.007Z"
   },
   {
    "duration": 132,
    "start_time": "2022-04-03T07:41:06.019Z"
   },
   {
    "duration": 32,
    "start_time": "2022-04-03T07:41:06.153Z"
   },
   {
    "duration": 26,
    "start_time": "2022-04-03T07:41:06.187Z"
   },
   {
    "duration": 75,
    "start_time": "2022-04-03T07:41:06.216Z"
   },
   {
    "duration": 21,
    "start_time": "2022-04-03T07:41:06.293Z"
   },
   {
    "duration": 544,
    "start_time": "2022-04-03T07:41:06.317Z"
   },
   {
    "duration": 21,
    "start_time": "2022-04-03T07:41:06.868Z"
   },
   {
    "duration": 21,
    "start_time": "2022-04-03T07:41:06.891Z"
   },
   {
    "duration": 385,
    "start_time": "2022-04-03T07:41:06.915Z"
   },
   {
    "duration": 185,
    "start_time": "2022-04-03T07:41:07.303Z"
   },
   {
    "duration": 390,
    "start_time": "2022-04-03T07:41:07.491Z"
   },
   {
    "duration": 179,
    "start_time": "2022-04-03T07:41:07.884Z"
   },
   {
    "duration": 399,
    "start_time": "2022-04-03T07:41:08.068Z"
   },
   {
    "duration": 330,
    "start_time": "2022-04-03T07:41:08.470Z"
   },
   {
    "duration": 188,
    "start_time": "2022-04-03T07:41:08.803Z"
   },
   {
    "duration": 188,
    "start_time": "2022-04-03T07:41:08.993Z"
   },
   {
    "duration": 39,
    "start_time": "2022-04-03T07:41:09.184Z"
   },
   {
    "duration": 105,
    "start_time": "2022-04-03T07:41:09.225Z"
   },
   {
    "duration": 41,
    "start_time": "2022-04-03T07:41:09.333Z"
   },
   {
    "duration": 33,
    "start_time": "2022-04-03T07:41:09.376Z"
   },
   {
    "duration": 1997,
    "start_time": "2022-04-03T07:41:09.411Z"
   },
   {
    "duration": 22,
    "start_time": "2022-04-03T07:41:11.411Z"
   },
   {
    "duration": 258,
    "start_time": "2022-04-03T07:41:11.435Z"
   },
   {
    "duration": 32,
    "start_time": "2022-04-03T07:41:11.695Z"
   },
   {
    "duration": 241,
    "start_time": "2022-04-03T07:41:11.729Z"
   },
   {
    "duration": 266,
    "start_time": "2022-04-03T07:41:11.972Z"
   },
   {
    "duration": 31,
    "start_time": "2022-04-03T07:41:12.241Z"
   },
   {
    "duration": 235,
    "start_time": "2022-04-03T07:41:12.275Z"
   },
   {
    "duration": 71,
    "start_time": "2022-04-03T07:41:12.512Z"
   },
   {
    "duration": 34,
    "start_time": "2022-04-03T07:41:12.586Z"
   },
   {
    "duration": 238,
    "start_time": "2022-04-03T07:41:12.622Z"
   },
   {
    "duration": 32,
    "start_time": "2022-04-03T07:41:12.863Z"
   },
   {
    "duration": 33,
    "start_time": "2022-04-03T07:41:12.897Z"
   },
   {
    "duration": 328,
    "start_time": "2022-04-03T07:41:12.933Z"
   },
   {
    "duration": 234,
    "start_time": "2022-04-03T07:41:13.263Z"
   },
   {
    "duration": 16,
    "start_time": "2022-04-03T07:41:13.499Z"
   },
   {
    "duration": 62,
    "start_time": "2022-09-08T06:49:57.443Z"
   },
   {
    "duration": 830,
    "start_time": "2022-09-08T06:50:00.412Z"
   },
   {
    "duration": 346,
    "start_time": "2022-09-08T06:50:01.918Z"
   },
   {
    "duration": 118,
    "start_time": "2022-09-08T06:51:25.790Z"
   },
   {
    "duration": 1832,
    "start_time": "2022-09-08T06:55:00.274Z"
   },
   {
    "duration": 13,
    "start_time": "2022-09-08T07:00:19.964Z"
   },
   {
    "duration": 51,
    "start_time": "2022-09-08T07:00:48.329Z"
   },
   {
    "duration": 6,
    "start_time": "2022-09-08T07:00:54.949Z"
   },
   {
    "duration": 37,
    "start_time": "2022-09-08T07:37:04.442Z"
   },
   {
    "duration": 8,
    "start_time": "2022-09-08T07:37:10.252Z"
   },
   {
    "duration": 10,
    "start_time": "2022-09-08T07:37:16.529Z"
   },
   {
    "duration": 641,
    "start_time": "2022-09-08T07:37:39.052Z"
   },
   {
    "duration": 129,
    "start_time": "2022-09-08T07:37:39.695Z"
   },
   {
    "duration": 16,
    "start_time": "2022-09-08T07:37:39.825Z"
   },
   {
    "duration": 11,
    "start_time": "2022-09-08T07:37:39.843Z"
   },
   {
    "duration": 24,
    "start_time": "2022-09-08T07:37:39.856Z"
   },
   {
    "duration": 82,
    "start_time": "2022-09-08T07:37:39.903Z"
   },
   {
    "duration": 1675,
    "start_time": "2022-09-08T07:37:39.987Z"
   },
   {
    "duration": 6,
    "start_time": "2022-09-08T07:37:41.664Z"
   },
   {
    "duration": 21,
    "start_time": "2022-09-08T07:37:41.671Z"
   },
   {
    "duration": 13,
    "start_time": "2022-09-08T07:37:41.705Z"
   },
   {
    "duration": 12,
    "start_time": "2022-09-08T07:37:41.720Z"
   },
   {
    "duration": 6,
    "start_time": "2022-09-08T07:37:41.734Z"
   },
   {
    "duration": 1765,
    "start_time": "2022-09-08T07:37:41.741Z"
   },
   {
    "duration": 7,
    "start_time": "2022-09-08T07:37:43.508Z"
   },
   {
    "duration": 1843,
    "start_time": "2022-09-08T07:37:43.517Z"
   },
   {
    "duration": 7,
    "start_time": "2022-09-08T07:37:45.362Z"
   },
   {
    "duration": 22,
    "start_time": "2022-09-08T07:37:45.370Z"
   },
   {
    "duration": 17,
    "start_time": "2022-09-08T07:37:45.402Z"
   },
   {
    "duration": 19,
    "start_time": "2022-09-08T07:37:45.421Z"
   },
   {
    "duration": 13,
    "start_time": "2022-09-08T07:37:45.442Z"
   },
   {
    "duration": 21,
    "start_time": "2022-09-08T07:37:45.456Z"
   },
   {
    "duration": 31,
    "start_time": "2022-09-08T07:37:45.478Z"
   },
   {
    "duration": 21,
    "start_time": "2022-09-08T07:37:45.510Z"
   },
   {
    "duration": 71,
    "start_time": "2022-09-08T07:37:45.533Z"
   },
   {
    "duration": 35,
    "start_time": "2022-09-08T07:37:45.605Z"
   },
   {
    "duration": 7,
    "start_time": "2022-09-08T07:37:45.642Z"
   },
   {
    "duration": 25,
    "start_time": "2022-09-08T07:37:45.651Z"
   },
   {
    "duration": 23,
    "start_time": "2022-09-08T07:37:45.681Z"
   },
   {
    "duration": 103,
    "start_time": "2022-09-08T07:37:45.706Z"
   },
   {
    "duration": 17,
    "start_time": "2022-09-08T07:37:45.811Z"
   },
   {
    "duration": 32,
    "start_time": "2022-09-08T07:37:45.829Z"
   },
   {
    "duration": 62,
    "start_time": "2022-09-08T07:37:45.863Z"
   },
   {
    "duration": 17,
    "start_time": "2022-09-08T07:37:45.928Z"
   },
   {
    "duration": 380,
    "start_time": "2022-09-08T07:37:45.947Z"
   },
   {
    "duration": 17,
    "start_time": "2022-09-08T07:37:46.329Z"
   },
   {
    "duration": 26,
    "start_time": "2022-09-08T07:37:46.348Z"
   },
   {
    "duration": 301,
    "start_time": "2022-09-08T07:37:46.375Z"
   },
   {
    "duration": 130,
    "start_time": "2022-09-08T07:37:46.678Z"
   },
   {
    "duration": 287,
    "start_time": "2022-09-08T07:37:46.810Z"
   },
   {
    "duration": 132,
    "start_time": "2022-09-08T07:37:47.104Z"
   },
   {
    "duration": 304,
    "start_time": "2022-09-08T07:37:47.238Z"
   },
   {
    "duration": 260,
    "start_time": "2022-09-08T07:37:47.545Z"
   },
   {
    "duration": 131,
    "start_time": "2022-09-08T07:37:47.807Z"
   },
   {
    "duration": 129,
    "start_time": "2022-09-08T07:37:47.939Z"
   },
   {
    "duration": 40,
    "start_time": "2022-09-08T07:37:48.070Z"
   },
   {
    "duration": 96,
    "start_time": "2022-09-08T07:37:48.112Z"
   },
   {
    "duration": 20,
    "start_time": "2022-09-08T07:37:48.209Z"
   },
   {
    "duration": 26,
    "start_time": "2022-09-08T07:37:48.231Z"
   },
   {
    "duration": 1539,
    "start_time": "2022-09-08T07:37:48.258Z"
   },
   {
    "duration": 13,
    "start_time": "2022-09-08T07:37:49.799Z"
   },
   {
    "duration": 198,
    "start_time": "2022-09-08T07:37:49.814Z"
   },
   {
    "duration": 25,
    "start_time": "2022-09-08T07:37:50.014Z"
   },
   {
    "duration": 186,
    "start_time": "2022-09-08T07:37:50.041Z"
   },
   {
    "duration": 202,
    "start_time": "2022-09-08T07:37:50.228Z"
   },
   {
    "duration": 15,
    "start_time": "2022-09-08T07:37:50.432Z"
   },
   {
    "duration": 197,
    "start_time": "2022-09-08T07:37:50.448Z"
   },
   {
    "duration": 57,
    "start_time": "2022-09-08T07:37:50.647Z"
   },
   {
    "duration": 24,
    "start_time": "2022-09-08T07:37:50.705Z"
   },
   {
    "duration": 174,
    "start_time": "2022-09-08T07:37:50.731Z"
   },
   {
    "duration": 24,
    "start_time": "2022-09-08T07:37:50.907Z"
   },
   {
    "duration": 21,
    "start_time": "2022-09-08T07:37:50.933Z"
   },
   {
    "duration": 269,
    "start_time": "2022-09-08T07:37:50.956Z"
   },
   {
    "duration": 176,
    "start_time": "2022-09-08T07:37:51.227Z"
   },
   {
    "duration": 14,
    "start_time": "2022-09-08T07:37:51.405Z"
   },
   {
    "duration": 34,
    "start_time": "2022-09-08T07:38:14.572Z"
   },
   {
    "duration": 155,
    "start_time": "2022-09-08T07:48:02.933Z"
   },
   {
    "duration": 665,
    "start_time": "2022-09-08T07:55:46.205Z"
   },
   {
    "duration": 125,
    "start_time": "2022-09-08T07:55:46.872Z"
   },
   {
    "duration": 15,
    "start_time": "2022-09-08T07:55:46.999Z"
   },
   {
    "duration": 10,
    "start_time": "2022-09-08T07:55:47.016Z"
   },
   {
    "duration": 24,
    "start_time": "2022-09-08T07:55:47.028Z"
   },
   {
    "duration": 100,
    "start_time": "2022-09-08T07:55:47.053Z"
   },
   {
    "duration": 1604,
    "start_time": "2022-09-08T07:55:47.155Z"
   },
   {
    "duration": 8,
    "start_time": "2022-09-08T07:55:48.761Z"
   },
   {
    "duration": 35,
    "start_time": "2022-09-08T07:55:48.771Z"
   },
   {
    "duration": 13,
    "start_time": "2022-09-08T07:55:48.809Z"
   },
   {
    "duration": 37,
    "start_time": "2022-09-08T07:55:48.824Z"
   },
   {
    "duration": 14,
    "start_time": "2022-09-08T07:55:48.864Z"
   },
   {
    "duration": 1884,
    "start_time": "2022-09-08T07:55:48.880Z"
   },
   {
    "duration": 7,
    "start_time": "2022-09-08T07:55:50.766Z"
   },
   {
    "duration": 1941,
    "start_time": "2022-09-08T07:55:50.775Z"
   },
   {
    "duration": 6,
    "start_time": "2022-09-08T07:55:52.718Z"
   },
   {
    "duration": 36,
    "start_time": "2022-09-08T07:55:52.725Z"
   },
   {
    "duration": 24,
    "start_time": "2022-09-08T07:55:52.763Z"
   },
   {
    "duration": 23,
    "start_time": "2022-09-08T07:55:52.789Z"
   },
   {
    "duration": 24,
    "start_time": "2022-09-08T07:55:52.813Z"
   },
   {
    "duration": 34,
    "start_time": "2022-09-08T07:55:52.838Z"
   },
   {
    "duration": 35,
    "start_time": "2022-09-08T07:55:52.873Z"
   },
   {
    "duration": 9,
    "start_time": "2022-09-08T07:55:52.909Z"
   },
   {
    "duration": 65,
    "start_time": "2022-09-08T07:55:52.920Z"
   },
   {
    "duration": 48,
    "start_time": "2022-09-08T07:55:52.987Z"
   },
   {
    "duration": 6,
    "start_time": "2022-09-08T07:55:53.037Z"
   },
   {
    "duration": 34,
    "start_time": "2022-09-08T07:55:53.045Z"
   },
   {
    "duration": 38,
    "start_time": "2022-09-08T07:55:53.095Z"
   },
   {
    "duration": 128,
    "start_time": "2022-09-08T07:55:53.135Z"
   },
   {
    "duration": 15,
    "start_time": "2022-09-08T07:55:53.265Z"
   },
   {
    "duration": 41,
    "start_time": "2022-09-08T07:55:53.281Z"
   },
   {
    "duration": 41,
    "start_time": "2022-09-08T07:55:53.324Z"
   },
   {
    "duration": 36,
    "start_time": "2022-09-08T07:55:53.367Z"
   },
   {
    "duration": 370,
    "start_time": "2022-09-08T07:55:53.406Z"
   },
   {
    "duration": 29,
    "start_time": "2022-09-08T07:55:53.778Z"
   },
   {
    "duration": 18,
    "start_time": "2022-09-08T07:55:53.810Z"
   },
   {
    "duration": 292,
    "start_time": "2022-09-08T07:55:53.830Z"
   },
   {
    "duration": 139,
    "start_time": "2022-09-08T07:55:54.124Z"
   },
   {
    "duration": 305,
    "start_time": "2022-09-08T07:55:54.265Z"
   },
   {
    "duration": 137,
    "start_time": "2022-09-08T07:55:54.572Z"
   },
   {
    "duration": 294,
    "start_time": "2022-09-08T07:55:54.711Z"
   },
   {
    "duration": 247,
    "start_time": "2022-09-08T07:55:55.007Z"
   },
   {
    "duration": 130,
    "start_time": "2022-09-08T07:55:55.256Z"
   },
   {
    "duration": 134,
    "start_time": "2022-09-08T07:55:55.388Z"
   },
   {
    "duration": 30,
    "start_time": "2022-09-08T07:55:55.523Z"
   },
   {
    "duration": 109,
    "start_time": "2022-09-08T07:55:55.554Z"
   },
   {
    "duration": 20,
    "start_time": "2022-09-08T07:55:55.665Z"
   },
   {
    "duration": 36,
    "start_time": "2022-09-08T07:55:55.687Z"
   },
   {
    "duration": 1491,
    "start_time": "2022-09-08T07:55:55.726Z"
   },
   {
    "duration": 18,
    "start_time": "2022-09-08T07:55:57.220Z"
   },
   {
    "duration": 201,
    "start_time": "2022-09-08T07:55:57.240Z"
   },
   {
    "duration": 28,
    "start_time": "2022-09-08T07:55:57.443Z"
   },
   {
    "duration": 187,
    "start_time": "2022-09-08T07:55:57.473Z"
   },
   {
    "duration": 196,
    "start_time": "2022-09-08T07:55:57.661Z"
   },
   {
    "duration": 15,
    "start_time": "2022-09-08T07:55:57.859Z"
   },
   {
    "duration": 183,
    "start_time": "2022-09-08T07:55:57.876Z"
   },
   {
    "duration": 30,
    "start_time": "2022-09-08T07:55:58.061Z"
   },
   {
    "duration": 31,
    "start_time": "2022-09-08T07:55:58.102Z"
   },
   {
    "duration": 170,
    "start_time": "2022-09-08T07:55:58.135Z"
   },
   {
    "duration": 25,
    "start_time": "2022-09-08T07:55:58.307Z"
   },
   {
    "duration": 38,
    "start_time": "2022-09-08T07:55:58.334Z"
   },
   {
    "duration": 285,
    "start_time": "2022-09-08T07:55:58.374Z"
   },
   {
    "duration": 171,
    "start_time": "2022-09-08T07:55:58.660Z"
   },
   {
    "duration": 1313,
    "start_time": "2022-09-08T08:04:50.144Z"
   },
   {
    "duration": 7,
    "start_time": "2022-09-08T08:06:03.998Z"
   },
   {
    "duration": 670,
    "start_time": "2022-09-08T08:06:29.396Z"
   },
   {
    "duration": 125,
    "start_time": "2022-09-08T08:06:30.068Z"
   },
   {
    "duration": 22,
    "start_time": "2022-09-08T08:06:30.194Z"
   },
   {
    "duration": 41,
    "start_time": "2022-09-08T08:06:30.218Z"
   },
   {
    "duration": 28,
    "start_time": "2022-09-08T08:06:30.261Z"
   },
   {
    "duration": 93,
    "start_time": "2022-09-08T08:06:30.291Z"
   },
   {
    "duration": 1358,
    "start_time": "2022-09-08T08:06:30.386Z"
   },
   {
    "duration": 9,
    "start_time": "2022-09-08T08:06:31.746Z"
   },
   {
    "duration": 27,
    "start_time": "2022-09-08T08:06:31.756Z"
   },
   {
    "duration": 26,
    "start_time": "2022-09-08T08:06:31.786Z"
   },
   {
    "duration": 10,
    "start_time": "2022-09-08T08:06:31.813Z"
   },
   {
    "duration": 1682,
    "start_time": "2022-09-08T08:06:31.825Z"
   },
   {
    "duration": 5,
    "start_time": "2022-09-08T08:06:33.508Z"
   },
   {
    "duration": 1692,
    "start_time": "2022-09-08T08:06:33.515Z"
   },
   {
    "duration": 8,
    "start_time": "2022-09-08T08:06:35.209Z"
   },
   {
    "duration": 8,
    "start_time": "2022-09-08T08:06:35.219Z"
   },
   {
    "duration": 17,
    "start_time": "2022-09-08T08:06:35.229Z"
   },
   {
    "duration": 55,
    "start_time": "2022-09-08T08:06:35.248Z"
   },
   {
    "duration": 6,
    "start_time": "2022-09-08T08:06:35.305Z"
   },
   {
    "duration": 16,
    "start_time": "2022-09-08T08:06:35.313Z"
   },
   {
    "duration": 13,
    "start_time": "2022-09-08T08:06:35.331Z"
   },
   {
    "duration": 6,
    "start_time": "2022-09-08T08:06:35.346Z"
   },
   {
    "duration": 85,
    "start_time": "2022-09-08T08:06:35.354Z"
   },
   {
    "duration": 35,
    "start_time": "2022-09-08T08:06:35.441Z"
   },
   {
    "duration": 30,
    "start_time": "2022-09-08T08:06:35.477Z"
   },
   {
    "duration": 9,
    "start_time": "2022-09-08T08:06:35.509Z"
   },
   {
    "duration": 8,
    "start_time": "2022-09-08T08:06:35.519Z"
   },
   {
    "duration": 106,
    "start_time": "2022-09-08T08:06:35.532Z"
   },
   {
    "duration": 17,
    "start_time": "2022-09-08T08:06:35.640Z"
   },
   {
    "duration": 22,
    "start_time": "2022-09-08T08:06:35.659Z"
   },
   {
    "duration": 58,
    "start_time": "2022-09-08T08:06:35.683Z"
   },
   {
    "duration": 27,
    "start_time": "2022-09-08T08:06:35.743Z"
   },
   {
    "duration": 365,
    "start_time": "2022-09-08T08:06:35.772Z"
   },
   {
    "duration": 16,
    "start_time": "2022-09-08T08:06:36.139Z"
   },
   {
    "duration": 16,
    "start_time": "2022-09-08T08:06:36.156Z"
   },
   {
    "duration": 304,
    "start_time": "2022-09-08T08:06:36.174Z"
   },
   {
    "duration": 133,
    "start_time": "2022-09-08T08:06:36.479Z"
   },
   {
    "duration": 274,
    "start_time": "2022-09-08T08:06:36.614Z"
   },
   {
    "duration": 132,
    "start_time": "2022-09-08T08:06:36.890Z"
   },
   {
    "duration": 292,
    "start_time": "2022-09-08T08:06:37.024Z"
   },
   {
    "duration": 247,
    "start_time": "2022-09-08T08:06:37.318Z"
   },
   {
    "duration": 137,
    "start_time": "2022-09-08T08:06:37.568Z"
   },
   {
    "duration": 131,
    "start_time": "2022-09-08T08:06:37.707Z"
   },
   {
    "duration": 31,
    "start_time": "2022-09-08T08:06:37.840Z"
   },
   {
    "duration": 118,
    "start_time": "2022-09-08T08:06:37.873Z"
   },
   {
    "duration": 28,
    "start_time": "2022-09-08T08:06:37.993Z"
   },
   {
    "duration": 27,
    "start_time": "2022-09-08T08:06:38.023Z"
   },
   {
    "duration": 1485,
    "start_time": "2022-09-08T08:06:38.052Z"
   },
   {
    "duration": 14,
    "start_time": "2022-09-08T08:06:39.539Z"
   },
   {
    "duration": 177,
    "start_time": "2022-09-08T08:06:39.555Z"
   },
   {
    "duration": 24,
    "start_time": "2022-09-08T08:06:39.734Z"
   },
   {
    "duration": 163,
    "start_time": "2022-09-08T08:06:39.760Z"
   },
   {
    "duration": 179,
    "start_time": "2022-09-08T08:06:39.925Z"
   },
   {
    "duration": 14,
    "start_time": "2022-09-08T08:06:40.106Z"
   },
   {
    "duration": 177,
    "start_time": "2022-09-08T08:06:40.122Z"
   },
   {
    "duration": 33,
    "start_time": "2022-09-08T08:06:40.300Z"
   },
   {
    "duration": 28,
    "start_time": "2022-09-08T08:06:40.335Z"
   },
   {
    "duration": 196,
    "start_time": "2022-09-08T08:06:40.365Z"
   },
   {
    "duration": 25,
    "start_time": "2022-09-08T08:06:40.563Z"
   },
   {
    "duration": 32,
    "start_time": "2022-09-08T08:06:40.590Z"
   },
   {
    "duration": 250,
    "start_time": "2022-09-08T08:06:40.624Z"
   },
   {
    "duration": 158,
    "start_time": "2022-09-08T08:06:40.876Z"
   }
  ],
  "kernelspec": {
   "display_name": "Python 3 (ipykernel)",
   "language": "python",
   "name": "python3"
  },
  "language_info": {
   "codemirror_mode": {
    "name": "ipython",
    "version": 3
   },
   "file_extension": ".py",
   "mimetype": "text/x-python",
   "name": "python",
   "nbconvert_exporter": "python",
   "pygments_lexer": "ipython3",
   "version": "3.9.5"
  },
  "toc": {
   "base_numbering": 1,
   "nav_menu": {},
   "number_sections": true,
   "sideBar": true,
   "skip_h1_title": true,
   "title_cell": "Содержание",
   "title_sidebar": "Contents",
   "toc_cell": true,
   "toc_position": {
    "height": "calc(100% - 180px)",
    "left": "10px",
    "top": "150px",
    "width": "165px"
   },
   "toc_section_display": true,
   "toc_window_display": true
  }
 },
 "nbformat": 4,
 "nbformat_minor": 4
}
