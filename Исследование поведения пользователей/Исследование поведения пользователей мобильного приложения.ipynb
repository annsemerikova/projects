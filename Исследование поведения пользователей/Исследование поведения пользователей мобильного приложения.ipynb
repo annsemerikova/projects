{
 "cells": [
  {
   "cell_type": "markdown",
   "id": "8521174c",
   "metadata": {},
   "source": [
    "<b><font size=5><center>Исследование поведения пользователей мобильного приложения.</b>"
   ]
  },
  {
   "cell_type": "markdown",
   "id": "18ddeb63",
   "metadata": {},
   "source": [
    "# Описание проекта\n",
    "\n",
    "Cтартап, который продаёт продукты питания, нуждается в анализе поведения пользователей мобильного приложения.\n",
    "Требуется узнать сколько пользователей доходит до покупки, а сколько — «застревает» на предыдущих шагах. На основе результатов A/A/B-эксперимента выяснить повлияло ли на пользователей изменение шрифта во всём приложении. \n",
    "\n",
    "*Описание данных*\n",
    "\n",
    "Каждая запись в логе — это действие пользователя, или событие.\n",
    "\n",
    "`EventName` — название события;\n",
    "\n",
    "`DeviceIDHash` — уникальный идентификатор пользователя;\n",
    "\n",
    "`EventTimestamp` — время события;\n",
    "\n",
    "`ExpId` — номер эксперимента: 246 и 247 — контрольные группы, а 248 — экспериментальная."
   ]
  },
  {
   "cell_type": "markdown",
   "id": "17244ae5",
   "metadata": {},
   "source": [
    "# Шаг 1. Загрузка данных"
   ]
  },
  {
   "cell_type": "code",
   "execution_count": 1,
   "id": "3f2d3a14",
   "metadata": {},
   "outputs": [],
   "source": [
    "#подключим необходимые для работы библиотеки\n",
    "import pandas as pd\n",
    "from scipy import stats as st\n",
    "import numpy as np\n",
    "import math as mth\n",
    "import datetime as dt\n",
    "from datetime import datetime, timedelta\n",
    "import matplotlib.pyplot as plt\n",
    "import plotly.express as px\n",
    "import seaborn as sns\n",
    "pd.options.display.max_colwidth = 150\n",
    "pd.set_option('chained_assignment', None) "
   ]
  },
  {
   "cell_type": "code",
   "execution_count": 2,
   "id": "3312b593",
   "metadata": {},
   "outputs": [
    {
     "data": {
      "text/html": [
       "<div>\n",
       "<style scoped>\n",
       "    .dataframe tbody tr th:only-of-type {\n",
       "        vertical-align: middle;\n",
       "    }\n",
       "\n",
       "    .dataframe tbody tr th {\n",
       "        vertical-align: top;\n",
       "    }\n",
       "\n",
       "    .dataframe thead th {\n",
       "        text-align: right;\n",
       "    }\n",
       "</style>\n",
       "<table border=\"1\" class=\"dataframe\">\n",
       "  <thead>\n",
       "    <tr style=\"text-align: right;\">\n",
       "      <th></th>\n",
       "      <th>EventName</th>\n",
       "      <th>DeviceIDHash</th>\n",
       "      <th>EventTimestamp</th>\n",
       "      <th>ExpId</th>\n",
       "    </tr>\n",
       "  </thead>\n",
       "  <tbody>\n",
       "    <tr>\n",
       "      <th>0</th>\n",
       "      <td>MainScreenAppear</td>\n",
       "      <td>4575588528974610257</td>\n",
       "      <td>1564029816</td>\n",
       "      <td>246</td>\n",
       "    </tr>\n",
       "    <tr>\n",
       "      <th>1</th>\n",
       "      <td>MainScreenAppear</td>\n",
       "      <td>7416695313311560658</td>\n",
       "      <td>1564053102</td>\n",
       "      <td>246</td>\n",
       "    </tr>\n",
       "    <tr>\n",
       "      <th>2</th>\n",
       "      <td>PaymentScreenSuccessful</td>\n",
       "      <td>3518123091307005509</td>\n",
       "      <td>1564054127</td>\n",
       "      <td>248</td>\n",
       "    </tr>\n",
       "    <tr>\n",
       "      <th>3</th>\n",
       "      <td>CartScreenAppear</td>\n",
       "      <td>3518123091307005509</td>\n",
       "      <td>1564054127</td>\n",
       "      <td>248</td>\n",
       "    </tr>\n",
       "    <tr>\n",
       "      <th>4</th>\n",
       "      <td>PaymentScreenSuccessful</td>\n",
       "      <td>6217807653094995999</td>\n",
       "      <td>1564055322</td>\n",
       "      <td>248</td>\n",
       "    </tr>\n",
       "  </tbody>\n",
       "</table>\n",
       "</div>"
      ],
      "text/plain": [
       "                 EventName         DeviceIDHash  EventTimestamp  ExpId\n",
       "0         MainScreenAppear  4575588528974610257      1564029816    246\n",
       "1         MainScreenAppear  7416695313311560658      1564053102    246\n",
       "2  PaymentScreenSuccessful  3518123091307005509      1564054127    248\n",
       "3         CartScreenAppear  3518123091307005509      1564054127    248\n",
       "4  PaymentScreenSuccessful  6217807653094995999      1564055322    248"
      ]
     },
     "metadata": {},
     "output_type": "display_data"
    },
    {
     "name": "stdout",
     "output_type": "stream",
     "text": [
      "<class 'pandas.core.frame.DataFrame'>\n",
      "RangeIndex: 244126 entries, 0 to 244125\n",
      "Data columns (total 4 columns):\n",
      " #   Column          Non-Null Count   Dtype \n",
      "---  ------          --------------   ----- \n",
      " 0   EventName       244126 non-null  object\n",
      " 1   DeviceIDHash    244126 non-null  int64 \n",
      " 2   EventTimestamp  244126 non-null  int64 \n",
      " 3   ExpId           244126 non-null  int64 \n",
      "dtypes: int64(3), object(1)\n",
      "memory usage: 7.5+ MB\n"
     ]
    }
   ],
   "source": [
    "#откроем датафрейм\n",
    "\n",
    "data = pd.read_csv('/datasets/logs_exp.csv', sep='\\t')\n",
    "    \n",
    "display(data.head())\n",
    "data.info()"
   ]
  },
  {
   "cell_type": "markdown",
   "id": "3781344f",
   "metadata": {},
   "source": [
    "# Шаг 2. Подготовка данных"
   ]
  },
  {
   "cell_type": "code",
   "execution_count": 3,
   "id": "4dba2b59",
   "metadata": {},
   "outputs": [
    {
     "data": {
      "text/plain": [
       "Index(['event_name', 'device_id_hash', 'event_timestamp', 'exp_id'], dtype='object')"
      ]
     },
     "execution_count": 3,
     "metadata": {},
     "output_type": "execute_result"
    }
   ],
   "source": [
    "# Заменим названия столбцов\n",
    "data = data.rename(columns={'EventName':'event_name', 'DeviceIDHash':'device_id_hash', 'EventTimestamp':'event_timestamp', 'ExpId':'exp_id'})\n",
    "data.columns"
   ]
  },
  {
   "cell_type": "code",
   "execution_count": 4,
   "id": "d3016731",
   "metadata": {},
   "outputs": [
    {
     "data": {
      "text/plain": [
       "event_name         0\n",
       "device_id_hash     0\n",
       "event_timestamp    0\n",
       "exp_id             0\n",
       "dtype: int64"
      ]
     },
     "execution_count": 4,
     "metadata": {},
     "output_type": "execute_result"
    }
   ],
   "source": [
    "# Проверим пропуски\n",
    "data.isna().sum()"
   ]
  },
  {
   "cell_type": "code",
   "execution_count": 5,
   "id": "b69c579f",
   "metadata": {},
   "outputs": [
    {
     "name": "stdout",
     "output_type": "stream",
     "text": [
      "Количество дубликатов до: 413\n"
     ]
    }
   ],
   "source": [
    "# Проверим наличие строк-дубликов\n",
    "print('Количество дубликатов до:', data.duplicated().sum())"
   ]
  },
  {
   "cell_type": "code",
   "execution_count": 6,
   "id": "b87c3a0a",
   "metadata": {},
   "outputs": [
    {
     "name": "stdout",
     "output_type": "stream",
     "text": [
      "Количество дубликатов после: 0\n"
     ]
    }
   ],
   "source": [
    "# Удалим строки-дубликаты\n",
    "data = data.drop_duplicates().reset_index(drop=True)\n",
    "print('Количество дубликатов после:', data.duplicated().sum())"
   ]
  },
  {
   "cell_type": "code",
   "execution_count": 7,
   "id": "9c9172f4",
   "metadata": {},
   "outputs": [
    {
     "data": {
      "text/html": [
       "<div>\n",
       "<style scoped>\n",
       "    .dataframe tbody tr th:only-of-type {\n",
       "        vertical-align: middle;\n",
       "    }\n",
       "\n",
       "    .dataframe tbody tr th {\n",
       "        vertical-align: top;\n",
       "    }\n",
       "\n",
       "    .dataframe thead th {\n",
       "        text-align: right;\n",
       "    }\n",
       "</style>\n",
       "<table border=\"1\" class=\"dataframe\">\n",
       "  <thead>\n",
       "    <tr style=\"text-align: right;\">\n",
       "      <th></th>\n",
       "      <th>event_name</th>\n",
       "      <th>device_id_hash</th>\n",
       "      <th>event_timestamp</th>\n",
       "      <th>exp_id</th>\n",
       "      <th>date_time</th>\n",
       "      <th>date</th>\n",
       "    </tr>\n",
       "  </thead>\n",
       "  <tbody>\n",
       "    <tr>\n",
       "      <th>0</th>\n",
       "      <td>MainScreenAppear</td>\n",
       "      <td>4575588528974610257</td>\n",
       "      <td>1564029816</td>\n",
       "      <td>246</td>\n",
       "      <td>2019-07-25 04:43:36</td>\n",
       "      <td>2019-07-25</td>\n",
       "    </tr>\n",
       "    <tr>\n",
       "      <th>1</th>\n",
       "      <td>MainScreenAppear</td>\n",
       "      <td>7416695313311560658</td>\n",
       "      <td>1564053102</td>\n",
       "      <td>246</td>\n",
       "      <td>2019-07-25 11:11:42</td>\n",
       "      <td>2019-07-25</td>\n",
       "    </tr>\n",
       "    <tr>\n",
       "      <th>2</th>\n",
       "      <td>PaymentScreenSuccessful</td>\n",
       "      <td>3518123091307005509</td>\n",
       "      <td>1564054127</td>\n",
       "      <td>248</td>\n",
       "      <td>2019-07-25 11:28:47</td>\n",
       "      <td>2019-07-25</td>\n",
       "    </tr>\n",
       "    <tr>\n",
       "      <th>3</th>\n",
       "      <td>CartScreenAppear</td>\n",
       "      <td>3518123091307005509</td>\n",
       "      <td>1564054127</td>\n",
       "      <td>248</td>\n",
       "      <td>2019-07-25 11:28:47</td>\n",
       "      <td>2019-07-25</td>\n",
       "    </tr>\n",
       "    <tr>\n",
       "      <th>4</th>\n",
       "      <td>PaymentScreenSuccessful</td>\n",
       "      <td>6217807653094995999</td>\n",
       "      <td>1564055322</td>\n",
       "      <td>248</td>\n",
       "      <td>2019-07-25 11:48:42</td>\n",
       "      <td>2019-07-25</td>\n",
       "    </tr>\n",
       "  </tbody>\n",
       "</table>\n",
       "</div>"
      ],
      "text/plain": [
       "                event_name       device_id_hash  event_timestamp  exp_id  \\\n",
       "0         MainScreenAppear  4575588528974610257       1564029816     246   \n",
       "1         MainScreenAppear  7416695313311560658       1564053102     246   \n",
       "2  PaymentScreenSuccessful  3518123091307005509       1564054127     248   \n",
       "3         CartScreenAppear  3518123091307005509       1564054127     248   \n",
       "4  PaymentScreenSuccessful  6217807653094995999       1564055322     248   \n",
       "\n",
       "            date_time        date  \n",
       "0 2019-07-25 04:43:36  2019-07-25  \n",
       "1 2019-07-25 11:11:42  2019-07-25  \n",
       "2 2019-07-25 11:28:47  2019-07-25  \n",
       "3 2019-07-25 11:28:47  2019-07-25  \n",
       "4 2019-07-25 11:48:42  2019-07-25  "
      ]
     },
     "metadata": {},
     "output_type": "display_data"
    },
    {
     "name": "stdout",
     "output_type": "stream",
     "text": [
      "<class 'pandas.core.frame.DataFrame'>\n",
      "RangeIndex: 243713 entries, 0 to 243712\n",
      "Data columns (total 6 columns):\n",
      " #   Column           Non-Null Count   Dtype         \n",
      "---  ------           --------------   -----         \n",
      " 0   event_name       243713 non-null  object        \n",
      " 1   device_id_hash   243713 non-null  int64         \n",
      " 2   event_timestamp  243713 non-null  int64         \n",
      " 3   exp_id           243713 non-null  int64         \n",
      " 4   date_time        243713 non-null  datetime64[ns]\n",
      " 5   date             243713 non-null  object        \n",
      "dtypes: datetime64[ns](1), int64(3), object(2)\n",
      "memory usage: 11.2+ MB\n"
     ]
    }
   ],
   "source": [
    "# Добавим столбец даты и времени, а также отдельный столбец дат\n",
    "data['date_time'] = pd.to_datetime(data['event_timestamp'], unit='s')\n",
    "data['date'] = data['date_time'].dt.date\n",
    "display(data.head())\n",
    "data.info()"
   ]
  },
  {
   "cell_type": "markdown",
   "id": "d0de1521",
   "metadata": {},
   "source": [
    "# Шаг 3. Проверка данных"
   ]
  },
  {
   "cell_type": "code",
   "execution_count": 8,
   "id": "67815de1",
   "metadata": {},
   "outputs": [
    {
     "name": "stdout",
     "output_type": "stream",
     "text": [
      "Всего в логе 243713 событий\n",
      "Всего в логе 7551 пользователей\n",
      "В среднем на одного пользователя приходится 32.27559263673685 события\n"
     ]
    }
   ],
   "source": [
    "# Узнаем сколько в среднем событий приходится на пользователя\n",
    "event_sum = len(data['event_name'])\n",
    "users = data['device_id_hash'].nunique()\n",
    "event_per_user = event_sum / users\n",
    "print(f'Всего в логе {event_sum} событий')\n",
    "print(f'Всего в логе {users} пользователей')\n",
    "print(f'В среднем на одного пользователя приходится {event_per_user} события')"
   ]
  },
  {
   "cell_type": "code",
   "execution_count": 9,
   "id": "34e1d3a3",
   "metadata": {
    "scrolled": true
   },
   "outputs": [
    {
     "name": "stdout",
     "output_type": "stream",
     "text": [
      "Период исследования: 13 days, 0:00:00\n",
      "Минимальная дата: 2019-07-25\n",
      "Максимльная дата: 2019-08-07\n"
     ]
    }
   ],
   "source": [
    "# Узнаем за какой период данные\n",
    "date_min = data['date'].min()\n",
    "data_max = data['date'].max()\n",
    "period = data_max - date_min\n",
    "print('Период исследования:', period)\n",
    "print('Минимальная дата:', date_min)\n",
    "print('Максимльная дата:', data_max)\n"
   ]
  },
  {
   "cell_type": "code",
   "execution_count": 10,
   "id": "26fdd53e",
   "metadata": {
    "scrolled": false
   },
   "outputs": [
    {
     "data": {
      "image/png": "[encoded data removed]",
      "text/plain": [
       "<Figure size 1296x720 with 1 Axes>"
      ]
     },
     "metadata": {
      "needs_background": "light"
     },
     "output_type": "display_data"
    }
   ],
   "source": [
    "# Построим гистограмму по дате\n",
    "plt.figure(figsize=(18,10))\n",
    "data['date_time'].hist(bins=1000)\n",
    "plt.xlabel('дата') \n",
    "plt.ylabel('количество данных')\n",
    "plt.title('Гистограмма загрузки данных по дате')  \n",
    "\n",
    "plt.show()"
   ]
  },
  {
   "cell_type": "markdown",
   "id": "49758c54",
   "metadata": {},
   "source": [
    "**Данные, судя по графику, не одинаково полные за весь период. Начиная с 2019-08-01 данные можно считать полными.**"
   ]
  },
  {
   "cell_type": "code",
   "execution_count": 11,
   "id": "50c8c76a",
   "metadata": {},
   "outputs": [
    {
     "name": "stdout",
     "output_type": "stream",
     "text": [
      "В результате фильтрации было удалено 1.159560630741897 % событий,\n",
      "а также 0.22513574361011784 % уникальных пользователей\n"
     ]
    }
   ],
   "source": [
    "# Отфильтруем старые данные\n",
    "new_data = data.query('date_time >= \"2019-08-01\"')\n",
    "old_data = data.query('date_time < \"2019-08-01\"')\n",
    "event_old = old_data['event_name'].size\n",
    "event_old_percent = (event_old / len(data['event_name'])*100)\n",
    "users_new = new_data['device_id_hash'].nunique()\n",
    "users_old = users - users_new\n",
    "users_old_percent =(users_old / users *100)\n",
    "print(f'В результате фильтрации было удалено {event_old_percent} % событий,')\n",
    "print(f'а также {users_old_percent} % уникальных пользователей')"
   ]
  },
  {
   "cell_type": "code",
   "execution_count": 12,
   "id": "6a0504ca",
   "metadata": {},
   "outputs": [
    {
     "name": "stdout",
     "output_type": "stream",
     "text": [
      "Период исследования: 6 days, 0:00:00\n",
      "Минимальная дата: 2019-08-01\n",
      "Максимльная дата: 2019-08-07\n"
     ]
    }
   ],
   "source": [
    "# Узнаем какой период охватывают новые данные\n",
    "new_date_min = new_data['date'].min()\n",
    "data_max = data['date'].max()\n",
    "period = data_max - new_date_min\n",
    "print('Период исследования:', period)\n",
    "print('Минимальная дата:', new_date_min)\n",
    "print('Максимльная дата:', data_max)"
   ]
  },
  {
   "cell_type": "code",
   "execution_count": 13,
   "id": "d671cf06",
   "metadata": {},
   "outputs": [
    {
     "data": {
      "text/plain": [
       "248    84563\n",
       "246    79302\n",
       "247    77022\n",
       "Name: exp_id, dtype: int64"
      ]
     },
     "execution_count": 13,
     "metadata": {},
     "output_type": "execute_result"
    }
   ],
   "source": [
    "# Проверим, что в новых данных есть пользователи из всех трёх экспериментальных групп\n",
    "new_data['exp_id'].value_counts()"
   ]
  },
  {
   "cell_type": "markdown",
   "id": "65941368",
   "metadata": {},
   "source": [
    "# Шаг 4. Анализ воронки событий"
   ]
  },
  {
   "cell_type": "code",
   "execution_count": 14,
   "id": "690fd064",
   "metadata": {},
   "outputs": [
    {
     "data": {
      "text/plain": [
       "MainScreenAppear           117328\n",
       "OffersScreenAppear          46333\n",
       "CartScreenAppear            42303\n",
       "PaymentScreenSuccessful     33918\n",
       "Tutorial                     1005\n",
       "Name: event_name, dtype: int64"
      ]
     },
     "execution_count": 14,
     "metadata": {},
     "output_type": "execute_result"
    }
   ],
   "source": [
    "# Посмотрим, какие события есть в логах, как часто они встречаются\n",
    "new_data['event_name'].value_counts()"
   ]
  },
  {
   "cell_type": "code",
   "execution_count": 15,
   "id": "877863e6",
   "metadata": {
    "scrolled": true
   },
   "outputs": [
    {
     "data": {
      "text/html": [
       "<div>\n",
       "<style scoped>\n",
       "    .dataframe tbody tr th:only-of-type {\n",
       "        vertical-align: middle;\n",
       "    }\n",
       "\n",
       "    .dataframe tbody tr th {\n",
       "        vertical-align: top;\n",
       "    }\n",
       "\n",
       "    .dataframe thead th {\n",
       "        text-align: right;\n",
       "    }\n",
       "</style>\n",
       "<table border=\"1\" class=\"dataframe\">\n",
       "  <thead>\n",
       "    <tr style=\"text-align: right;\">\n",
       "      <th></th>\n",
       "      <th>event_name</th>\n",
       "      <th>unique users</th>\n",
       "      <th>conversion,%</th>\n",
       "    </tr>\n",
       "  </thead>\n",
       "  <tbody>\n",
       "    <tr>\n",
       "      <th>1</th>\n",
       "      <td>MainScreenAppear</td>\n",
       "      <td>7419</td>\n",
       "      <td>98.47</td>\n",
       "    </tr>\n",
       "    <tr>\n",
       "      <th>2</th>\n",
       "      <td>OffersScreenAppear</td>\n",
       "      <td>4593</td>\n",
       "      <td>60.96</td>\n",
       "    </tr>\n",
       "    <tr>\n",
       "      <th>0</th>\n",
       "      <td>CartScreenAppear</td>\n",
       "      <td>3734</td>\n",
       "      <td>49.56</td>\n",
       "    </tr>\n",
       "    <tr>\n",
       "      <th>3</th>\n",
       "      <td>PaymentScreenSuccessful</td>\n",
       "      <td>3539</td>\n",
       "      <td>46.97</td>\n",
       "    </tr>\n",
       "  </tbody>\n",
       "</table>\n",
       "</div>"
      ],
      "text/plain": [
       "                event_name  unique users  conversion,%\n",
       "1         MainScreenAppear          7419         98.47\n",
       "2       OffersScreenAppear          4593         60.96\n",
       "0         CartScreenAppear          3734         49.56\n",
       "3  PaymentScreenSuccessful          3539         46.97"
      ]
     },
     "execution_count": 15,
     "metadata": {},
     "output_type": "execute_result"
    }
   ],
   "source": [
    "# Посчитаем, сколько пользователей совершали каждое из этих событий\n",
    "funnel = (\n",
    "    new_data\n",
    "    .groupby('event_name')\n",
    "    .agg({'device_id_hash':'nunique'})\n",
    "    .rename(columns={'device_id_hash':'unique users'})\n",
    "    .reset_index()\n",
    "    .query('event_name != \"Tutorial\"')\n",
    "    .sort_values(by='unique users', ascending=False)\n",
    ")\n",
    "# Посчитаем долю пользователей, которые хоть раз совершали событие\n",
    "funnel['conversion,%'] = round(100 * funnel['unique users'] / users_new, 2)\n",
    "funnel"
   ]
  },
  {
   "cell_type": "markdown",
   "id": "79a11c6b",
   "metadata": {},
   "source": [
    "**Можно предположить, что события происходят в следующем порядке: MainScreenAppear->OffersScreenAppear->CartScreenAppear->PaymentScreenSuccessful. Событие Tutorial не выстраивается в последовательную цепочку, поэтому его можно учитывать при расчёте воронки.**"
   ]
  },
  {
   "cell_type": "code",
   "execution_count": 16,
   "id": "2bc52353",
   "metadata": {
    "scrolled": true
   },
   "outputs": [
    {
     "data": {
      "text/html": [
       "<div>\n",
       "<style scoped>\n",
       "    .dataframe tbody tr th:only-of-type {\n",
       "        vertical-align: middle;\n",
       "    }\n",
       "\n",
       "    .dataframe tbody tr th {\n",
       "        vertical-align: top;\n",
       "    }\n",
       "\n",
       "    .dataframe thead th {\n",
       "        text-align: right;\n",
       "    }\n",
       "</style>\n",
       "<table border=\"1\" class=\"dataframe\">\n",
       "  <thead>\n",
       "    <tr style=\"text-align: right;\">\n",
       "      <th></th>\n",
       "      <th>event_name</th>\n",
       "      <th>unique users</th>\n",
       "      <th>conversion,%</th>\n",
       "      <th>conversion_step,%</th>\n",
       "    </tr>\n",
       "  </thead>\n",
       "  <tbody>\n",
       "    <tr>\n",
       "      <th>1</th>\n",
       "      <td>MainScreenAppear</td>\n",
       "      <td>7419</td>\n",
       "      <td>98.47</td>\n",
       "      <td>100.00</td>\n",
       "    </tr>\n",
       "    <tr>\n",
       "      <th>2</th>\n",
       "      <td>OffersScreenAppear</td>\n",
       "      <td>4593</td>\n",
       "      <td>60.96</td>\n",
       "      <td>61.91</td>\n",
       "    </tr>\n",
       "    <tr>\n",
       "      <th>0</th>\n",
       "      <td>CartScreenAppear</td>\n",
       "      <td>3734</td>\n",
       "      <td>49.56</td>\n",
       "      <td>81.30</td>\n",
       "    </tr>\n",
       "    <tr>\n",
       "      <th>3</th>\n",
       "      <td>PaymentScreenSuccessful</td>\n",
       "      <td>3539</td>\n",
       "      <td>46.97</td>\n",
       "      <td>94.78</td>\n",
       "    </tr>\n",
       "  </tbody>\n",
       "</table>\n",
       "</div>"
      ],
      "text/plain": [
       "                event_name  unique users  conversion,%  conversion_step,%\n",
       "1         MainScreenAppear          7419         98.47             100.00\n",
       "2       OffersScreenAppear          4593         60.96              61.91\n",
       "0         CartScreenAppear          3734         49.56              81.30\n",
       "3  PaymentScreenSuccessful          3539         46.97              94.78"
      ]
     },
     "execution_count": 16,
     "metadata": {},
     "output_type": "execute_result"
    }
   ],
   "source": [
    "# Посчитаем какая доля пользователей проходит на следующий шаг воронки (от числа пользователей на предыдущем)\n",
    "funnel['conversion_step,%'] = round(100 * funnel['unique users'] / funnel['unique users'].shift(1, fill_value=funnel['unique users'][1]),2)\n",
    "funnel"
   ]
  },
  {
   "cell_type": "code",
   "execution_count": null,
   "id": "86baebd7",
   "metadata": {},
   "outputs": [],
   "source": [
    "fig = px.funnel(funnel, x=funnel['conversion,%'], y=funnel['event_name'])\n",
    "\n",
    "fig.show()"
   ]
  },
  {
   "cell_type": "code",
   "execution_count": 18,
   "id": "10a177ec",
   "metadata": {
    "scrolled": true
   },
   "outputs": [
    {
     "data": {
      "text/html": [
       "<div>\n",
       "<style scoped>\n",
       "    .dataframe tbody tr th:only-of-type {\n",
       "        vertical-align: middle;\n",
       "    }\n",
       "\n",
       "    .dataframe tbody tr th {\n",
       "        vertical-align: top;\n",
       "    }\n",
       "\n",
       "    .dataframe thead th {\n",
       "        text-align: right;\n",
       "    }\n",
       "</style>\n",
       "<table border=\"1\" class=\"dataframe\">\n",
       "  <thead>\n",
       "    <tr style=\"text-align: right;\">\n",
       "      <th>exp_id</th>\n",
       "      <th>246</th>\n",
       "      <th>247</th>\n",
       "      <th>248</th>\n",
       "      <th>cnv_step_246,%</th>\n",
       "      <th>cnv_step_247,%</th>\n",
       "      <th>cnv_step_248,%</th>\n",
       "    </tr>\n",
       "    <tr>\n",
       "      <th>event_name</th>\n",
       "      <th></th>\n",
       "      <th></th>\n",
       "      <th></th>\n",
       "      <th></th>\n",
       "      <th></th>\n",
       "      <th></th>\n",
       "    </tr>\n",
       "  </thead>\n",
       "  <tbody>\n",
       "    <tr>\n",
       "      <th>MainScreenAppear</th>\n",
       "      <td>2450</td>\n",
       "      <td>2476</td>\n",
       "      <td>2493</td>\n",
       "      <td>100.00</td>\n",
       "      <td>100.00</td>\n",
       "      <td>100.00</td>\n",
       "    </tr>\n",
       "    <tr>\n",
       "      <th>OffersScreenAppear</th>\n",
       "      <td>1542</td>\n",
       "      <td>1520</td>\n",
       "      <td>1531</td>\n",
       "      <td>62.94</td>\n",
       "      <td>61.39</td>\n",
       "      <td>61.41</td>\n",
       "    </tr>\n",
       "    <tr>\n",
       "      <th>CartScreenAppear</th>\n",
       "      <td>1266</td>\n",
       "      <td>1238</td>\n",
       "      <td>1230</td>\n",
       "      <td>82.10</td>\n",
       "      <td>81.45</td>\n",
       "      <td>80.34</td>\n",
       "    </tr>\n",
       "    <tr>\n",
       "      <th>PaymentScreenSuccessful</th>\n",
       "      <td>1200</td>\n",
       "      <td>1158</td>\n",
       "      <td>1181</td>\n",
       "      <td>94.79</td>\n",
       "      <td>93.54</td>\n",
       "      <td>96.02</td>\n",
       "    </tr>\n",
       "  </tbody>\n",
       "</table>\n",
       "</div>"
      ],
      "text/plain": [
       "exp_id                    246   247   248  cnv_step_246,%  cnv_step_247,%  \\\n",
       "event_name                                                                  \n",
       "MainScreenAppear         2450  2476  2493          100.00          100.00   \n",
       "OffersScreenAppear       1542  1520  1531           62.94           61.39   \n",
       "CartScreenAppear         1266  1238  1230           82.10           81.45   \n",
       "PaymentScreenSuccessful  1200  1158  1181           94.79           93.54   \n",
       "\n",
       "exp_id                   cnv_step_248,%  \n",
       "event_name                               \n",
       "MainScreenAppear                 100.00  \n",
       "OffersScreenAppear                61.41  \n",
       "CartScreenAppear                  80.34  \n",
       "PaymentScreenSuccessful           96.02  "
      ]
     },
     "execution_count": 18,
     "metadata": {},
     "output_type": "execute_result"
    }
   ],
   "source": [
    "# Посчитаем какая доля пользователей проходит на следующий шаг воронки (от числа пользователей на предыдущем) в каждой группе\n",
    "funnel_gr = (\n",
    "    new_data\n",
    "    .query('event_name != \"Tutorial\"')\n",
    "    .pivot_table(index='event_name', columns='exp_id', values='device_id_hash', aggfunc='nunique')\n",
    "    .sort_values(by=246, ascending=False)\n",
    ")\n",
    "funnel_gr['cnv_step_246,%'] = round(100 * funnel_gr[246] / funnel_gr[246].shift(1, fill_value=funnel_gr[246][0]),2)\n",
    "funnel_gr['cnv_step_247,%'] = round(100 * funnel_gr[247] / funnel_gr[247].shift(1, fill_value=funnel_gr[247][0]),2)\n",
    "funnel_gr['cnv_step_248,%'] = round(100 * funnel_gr[248] / funnel_gr[248].shift(1, fill_value=funnel_gr[248][0]),2)\n",
    "funnel_gr\n"
   ]
  },
  {
   "cell_type": "code",
   "execution_count": 19,
   "id": "d2e99085",
   "metadata": {},
   "outputs": [
    {
     "data": {
      "text/plain": [
       "Index(['MainScreenAppear', 'OffersScreenAppear', 'CartScreenAppear',\n",
       "       'PaymentScreenSuccessful'],\n",
       "      dtype='object', name='event_name')"
      ]
     },
     "execution_count": 19,
     "metadata": {},
     "output_type": "execute_result"
    }
   ],
   "source": [
    "funnel_gr.index"
   ]
  },
  {
   "cell_type": "markdown",
   "id": "8d37f5f6",
   "metadata": {},
   "source": [
    "**Согласно воронке событий больше всего пользователей теряется на событии OffersScreenAppear как в целом по данным, так и в каждой группе (от 37 % до 38,6 % пользователей теряются). В среднем по всем группам от от первого события до оплаты доходит 47,7 % пользователей.**\n"
   ]
  },
  {
   "cell_type": "markdown",
   "id": "f35530de",
   "metadata": {},
   "source": [
    "# Шаг 5. Анализ результатов эксперимента"
   ]
  },
  {
   "cell_type": "code",
   "execution_count": 20,
   "id": "c80855a7",
   "metadata": {
    "scrolled": true
   },
   "outputs": [
    {
     "data": {
      "text/html": [
       "<div>\n",
       "<style scoped>\n",
       "    .dataframe tbody tr th:only-of-type {\n",
       "        vertical-align: middle;\n",
       "    }\n",
       "\n",
       "    .dataframe tbody tr th {\n",
       "        vertical-align: top;\n",
       "    }\n",
       "\n",
       "    .dataframe thead th {\n",
       "        text-align: right;\n",
       "    }\n",
       "</style>\n",
       "<table border=\"1\" class=\"dataframe\">\n",
       "  <thead>\n",
       "    <tr style=\"text-align: right;\">\n",
       "      <th></th>\n",
       "      <th>device_id_hash</th>\n",
       "    </tr>\n",
       "    <tr>\n",
       "      <th>exp_id</th>\n",
       "      <th></th>\n",
       "    </tr>\n",
       "  </thead>\n",
       "  <tbody>\n",
       "    <tr>\n",
       "      <th>246</th>\n",
       "      <td>2484</td>\n",
       "    </tr>\n",
       "    <tr>\n",
       "      <th>247</th>\n",
       "      <td>2513</td>\n",
       "    </tr>\n",
       "    <tr>\n",
       "      <th>248</th>\n",
       "      <td>2537</td>\n",
       "    </tr>\n",
       "  </tbody>\n",
       "</table>\n",
       "</div>"
      ],
      "text/plain": [
       "        device_id_hash\n",
       "exp_id                \n",
       "246               2484\n",
       "247               2513\n",
       "248               2537"
      ]
     },
     "execution_count": 20,
     "metadata": {},
     "output_type": "execute_result"
    }
   ],
   "source": [
    "# Узнаем сколько пользователей в каждой экспериментальной группе\n",
    "trials = new_data.groupby('exp_id').agg({'device_id_hash':'nunique'})\n",
    "trials"
   ]
  },
  {
   "cell_type": "markdown",
   "id": "e230a27d",
   "metadata": {},
   "source": [
    "**Проверим, находят ли статистические критерии разницу между выборками 246 и 247. Применим z-тест для пропорций.**\n",
    "\n",
    "*Гипотезы для всех событий:*\n",
    "- H0: доли пользователей, выполнивших событие в группах 246 и 247, равны\n",
    "- H1: доли пользователей, выполнивших событиесобытие в группах 246 и 247, не равны\n",
    "\n",
    "В качестве уровня стат значимости возьмем 0,01. Такой уровень снижает вероятность получить ложнопозитивный результат стат теста. Вместе с тем, если различие в выбоках действительно есть, то данный уровень не позволит сделать ее стат зачимой. "
   ]
  },
  {
   "cell_type": "code",
   "execution_count": 21,
   "id": "a6798296",
   "metadata": {},
   "outputs": [
    {
     "name": "stdout",
     "output_type": "stream",
     "text": [
      "p-значение для: MainScreenAppear [246, 247] 0.7570597232046099\n",
      "Не получилось отвергнуть нулевую гипотезу, нет оснований считать доли разными\n",
      "p-значение для: OffersScreenAppear [246, 247] 0.2480954578522181\n",
      "Не получилось отвергнуть нулевую гипотезу, нет оснований считать доли разными\n",
      "p-значение для: CartScreenAppear [246, 247] 0.22883372237997213\n",
      "Не получилось отвергнуть нулевую гипотезу, нет оснований считать доли разными\n",
      "p-значение для: PaymentScreenSuccessful [246, 247] 0.11456679313141849\n",
      "Не получилось отвергнуть нулевую гипотезу, нет оснований считать доли разными\n"
     ]
    }
   ],
   "source": [
    "# Напишем функцию для проверки гипотезы о равенстве долей\n",
    "def get_p_value(success1, success2, trials1, trials2):\n",
    "    p1 = success1 / trials1\n",
    "    p2 = success2 / trials2\n",
    "    p_combined = (success1 + success2) / (trials1 + trials2) \n",
    "    difference = p1 - p2 \n",
    "    z_value = difference / mth.sqrt(p_combined * (1 - p_combined) * (1/trials1 + 1/trials2))\n",
    "    distr = st.norm(0, 1)  \n",
    "    p_value = (1 - distr.cdf(abs(z_value))) * 2\n",
    "    return p_value\n",
    "\n",
    "# Проверим, находят ли статистические критерии разницу между выборками 246 и 247\n",
    "for x in [[246, 247]]:\n",
    "    for i in funnel_gr.index:\n",
    "        p_value = get_p_value(funnel_gr.loc[i,x[0]], funnel_gr.loc[i,x[1]], trials.loc[x[0]].values[0], trials.loc[x[1]].values[0])\n",
    "        print('p-значение для:',i,x,p_value)\n",
    "        if p_value < 0.01: \n",
    "            print('Отвергаем нулевую гипотезу: между долями есть значимая разница')\n",
    "        else:\n",
    "            print('Не получилось отвергнуть нулевую гипотезу, нет оснований считать доли разными')"
   ]
  },
  {
   "cell_type": "markdown",
   "id": "7a3688b7",
   "metadata": {},
   "source": [
    "**Результаты проведенного тестирования позволяют сделать вывод о равенстве долей пользователей в двух группах. Поскольку это контрольные группы и стат значимой разницы в них не должно быть, можно заключить, что разбиение на группы работает корректно.**"
   ]
  },
  {
   "cell_type": "markdown",
   "id": "d1f1e8d6",
   "metadata": {},
   "source": [
    "**Проверим, существует ли стат значимая разница между контрольными группами и группой с изменённым шрифтом.**"
   ]
  },
  {
   "cell_type": "code",
   "execution_count": 22,
   "id": "9edfddac",
   "metadata": {},
   "outputs": [
    {
     "name": "stdout",
     "output_type": "stream",
     "text": [
      "p-значение для: MainScreenAppear [246, 248] 0.2949721933554552\n",
      "Не получилось отвергнуть нулевую гипотезу, нет оснований считать доли разными\n",
      "p-значение для: OffersScreenAppear [246, 248] 0.20836205402738917\n",
      "Не получилось отвергнуть нулевую гипотезу, нет оснований считать доли разными\n",
      "p-значение для: CartScreenAppear [246, 248] 0.07842923237520116\n",
      "Не получилось отвергнуть нулевую гипотезу, нет оснований считать доли разными\n",
      "p-значение для: PaymentScreenSuccessful [246, 248] 0.2122553275697796\n",
      "Не получилось отвергнуть нулевую гипотезу, нет оснований считать доли разными\n",
      "p-значение для: MainScreenAppear [247, 248] 0.4587053616621515\n",
      "Не получилось отвергнуть нулевую гипотезу, нет оснований считать доли разными\n",
      "p-значение для: OffersScreenAppear [247, 248] 0.9197817830592261\n",
      "Не получилось отвергнуть нулевую гипотезу, нет оснований считать доли разными\n",
      "p-значение для: CartScreenAppear [247, 248] 0.5786197879539783\n",
      "Не получилось отвергнуть нулевую гипотезу, нет оснований считать доли разными\n",
      "p-значение для: PaymentScreenSuccessful [247, 248] 0.7373415053803964\n",
      "Не получилось отвергнуть нулевую гипотезу, нет оснований считать доли разными\n"
     ]
    }
   ],
   "source": [
    "# Сравните результаты с каждой из контрольных групп в отдельности по каждому событию\n",
    "for x in [[246, 248], [247, 248]]:\n",
    "    for i in funnel_gr.index:\n",
    "        p_value = get_p_value(funnel_gr.loc[i,x[0]], funnel_gr.loc[i,x[1]], trials.loc[x[0]].values[0], trials.loc[x[1]].values[0])\n",
    "        print('p-значение для:',i,x,p_value)\n",
    "        if p_value < 0.01: \n",
    "            print('Отвергаем нулевую гипотезу: между долями есть значимая разница')\n",
    "        else:\n",
    "            print('Не получилось отвергнуть нулевую гипотезу, нет оснований считать доли разными')"
   ]
  },
  {
   "cell_type": "markdown",
   "id": "5d3dd1ee",
   "metadata": {},
   "source": [
    "**Статистически значимых различий между тестируемой группой и контрольными нет. Следовательно изменение шрифта не повлияло на ковертируемость пользователей в покупателей.**"
   ]
  },
  {
   "cell_type": "code",
   "execution_count": 23,
   "id": "12270d8b",
   "metadata": {},
   "outputs": [
    {
     "data": {
      "text/plain": [
       "array([246, 247, 248, '246 + 247'], dtype=object)"
      ]
     },
     "execution_count": 23,
     "metadata": {},
     "output_type": "execute_result"
    }
   ],
   "source": [
    "# Объединим контрольные группы в одну и проверим гипотезы о равенстве долей каждого события\n",
    "combined = new_data.query('exp_id in [246, 247]')\n",
    "combined['exp_id'] = '246 + 247'\n",
    "combined_data= new_data.append(combined)\n",
    "combined_data.head()\n",
    "combined_data['exp_id'].unique()"
   ]
  },
  {
   "cell_type": "code",
   "execution_count": 24,
   "id": "8732c04b",
   "metadata": {},
   "outputs": [
    {
     "data": {
      "text/html": [
       "<div>\n",
       "<style scoped>\n",
       "    .dataframe tbody tr th:only-of-type {\n",
       "        vertical-align: middle;\n",
       "    }\n",
       "\n",
       "    .dataframe tbody tr th {\n",
       "        vertical-align: top;\n",
       "    }\n",
       "\n",
       "    .dataframe thead th {\n",
       "        text-align: right;\n",
       "    }\n",
       "</style>\n",
       "<table border=\"1\" class=\"dataframe\">\n",
       "  <thead>\n",
       "    <tr style=\"text-align: right;\">\n",
       "      <th>exp_id</th>\n",
       "      <th>246</th>\n",
       "      <th>247</th>\n",
       "      <th>248</th>\n",
       "      <th>246 + 247</th>\n",
       "    </tr>\n",
       "    <tr>\n",
       "      <th>event_name</th>\n",
       "      <th></th>\n",
       "      <th></th>\n",
       "      <th></th>\n",
       "      <th></th>\n",
       "    </tr>\n",
       "  </thead>\n",
       "  <tbody>\n",
       "    <tr>\n",
       "      <th>MainScreenAppear</th>\n",
       "      <td>2450</td>\n",
       "      <td>2476</td>\n",
       "      <td>2493</td>\n",
       "      <td>4926</td>\n",
       "    </tr>\n",
       "    <tr>\n",
       "      <th>OffersScreenAppear</th>\n",
       "      <td>1542</td>\n",
       "      <td>1520</td>\n",
       "      <td>1531</td>\n",
       "      <td>3062</td>\n",
       "    </tr>\n",
       "    <tr>\n",
       "      <th>CartScreenAppear</th>\n",
       "      <td>1266</td>\n",
       "      <td>1238</td>\n",
       "      <td>1230</td>\n",
       "      <td>2504</td>\n",
       "    </tr>\n",
       "    <tr>\n",
       "      <th>PaymentScreenSuccessful</th>\n",
       "      <td>1200</td>\n",
       "      <td>1158</td>\n",
       "      <td>1181</td>\n",
       "      <td>2358</td>\n",
       "    </tr>\n",
       "  </tbody>\n",
       "</table>\n",
       "</div>"
      ],
      "text/plain": [
       "exp_id                    246   247   248  246 + 247\n",
       "event_name                                          \n",
       "MainScreenAppear         2450  2476  2493       4926\n",
       "OffersScreenAppear       1542  1520  1531       3062\n",
       "CartScreenAppear         1266  1238  1230       2504\n",
       "PaymentScreenSuccessful  1200  1158  1181       2358"
      ]
     },
     "execution_count": 24,
     "metadata": {},
     "output_type": "execute_result"
    }
   ],
   "source": [
    "funnel_combined = (\n",
    "    combined_data\n",
    "    .query('event_name != \"Tutorial\"')\n",
    "    .pivot_table(index='event_name', columns='exp_id', values='device_id_hash', aggfunc='nunique')\n",
    "    .sort_values(by=246, ascending=False)\n",
    ")\n",
    "funnel_combined"
   ]
  },
  {
   "cell_type": "code",
   "execution_count": 25,
   "id": "b2ddc9f7",
   "metadata": {},
   "outputs": [
    {
     "data": {
      "text/html": [
       "<div>\n",
       "<style scoped>\n",
       "    .dataframe tbody tr th:only-of-type {\n",
       "        vertical-align: middle;\n",
       "    }\n",
       "\n",
       "    .dataframe tbody tr th {\n",
       "        vertical-align: top;\n",
       "    }\n",
       "\n",
       "    .dataframe thead th {\n",
       "        text-align: right;\n",
       "    }\n",
       "</style>\n",
       "<table border=\"1\" class=\"dataframe\">\n",
       "  <thead>\n",
       "    <tr style=\"text-align: right;\">\n",
       "      <th></th>\n",
       "      <th>device_id_hash</th>\n",
       "    </tr>\n",
       "    <tr>\n",
       "      <th>exp_id</th>\n",
       "      <th></th>\n",
       "    </tr>\n",
       "  </thead>\n",
       "  <tbody>\n",
       "    <tr>\n",
       "      <th>246</th>\n",
       "      <td>2484</td>\n",
       "    </tr>\n",
       "    <tr>\n",
       "      <th>247</th>\n",
       "      <td>2513</td>\n",
       "    </tr>\n",
       "    <tr>\n",
       "      <th>248</th>\n",
       "      <td>2537</td>\n",
       "    </tr>\n",
       "    <tr>\n",
       "      <th>246 + 247</th>\n",
       "      <td>4997</td>\n",
       "    </tr>\n",
       "  </tbody>\n",
       "</table>\n",
       "</div>"
      ],
      "text/plain": [
       "           device_id_hash\n",
       "exp_id                   \n",
       "246                  2484\n",
       "247                  2513\n",
       "248                  2537\n",
       "246 + 247            4997"
      ]
     },
     "execution_count": 25,
     "metadata": {},
     "output_type": "execute_result"
    }
   ],
   "source": [
    "trials_combined = combined_data.groupby('exp_id').agg({'device_id_hash':'nunique'})\n",
    "trials_combined"
   ]
  },
  {
   "cell_type": "code",
   "execution_count": 26,
   "id": "d9eee3bd",
   "metadata": {},
   "outputs": [
    {
     "name": "stdout",
     "output_type": "stream",
     "text": [
      "p-значение для: MainScreenAppear ['246 + 247', 248] 0.29424526837179577\n",
      "Не получилось отвергнуть нулевую гипотезу, нет оснований считать доли разными\n",
      "p-значение для: OffersScreenAppear ['246 + 247', 248] 0.43425549655188256\n",
      "Не получилось отвергнуть нулевую гипотезу, нет оснований считать доли разными\n",
      "p-значение для: CartScreenAppear ['246 + 247', 248] 0.18175875284404386\n",
      "Не получилось отвергнуть нулевую гипотезу, нет оснований считать доли разными\n",
      "p-значение для: PaymentScreenSuccessful ['246 + 247', 248] 0.6004294282308704\n",
      "Не получилось отвергнуть нулевую гипотезу, нет оснований считать доли разными\n"
     ]
    }
   ],
   "source": [
    "for x in [['246 + 247', 248]]:\n",
    "    for i in funnel_gr.index:\n",
    "        p_value = get_p_value(funnel_combined.loc[i,x[0]], funnel_combined.loc[i,x[1]], trials_combined.loc[x[0]].values[0], trials_combined.loc[x[1]].values[0])\n",
    "        print('p-значение для:',i,x,p_value)\n",
    "        if p_value < 0.01: \n",
    "            print('Отвергаем нулевую гипотезу: между долями есть значимая разница')\n",
    "        else:\n",
    "            print('Не получилось отвергнуть нулевую гипотезу, нет оснований считать доли разными')"
   ]
  },
  {
   "cell_type": "markdown",
   "id": "78355644",
   "metadata": {},
   "source": [
    "**Статистически значимых различий между тестируемой группой и объединенными контрольными группами нет. Что еще раз подтверждает, что изменение шрифта не повлияло на ковертируемость пользователей в покупателей.**"
   ]
  },
  {
   "cell_type": "markdown",
   "id": "8322fef5",
   "metadata": {},
   "source": [
    "*Было сделано 16 проверок статистических гипотез. Установим уровень стат значимости в 5% и посомтрим повлияло ли это на результаты.*"
   ]
  },
  {
   "cell_type": "code",
   "execution_count": 27,
   "id": "24d0982f",
   "metadata": {},
   "outputs": [
    {
     "name": "stdout",
     "output_type": "stream",
     "text": [
      "p-значение для: MainScreenAppear [246, 247] 0.7570597232046099\n",
      "Не получилось отвергнуть нулевую гипотезу, нет оснований считать доли разными\n",
      "p-значение для: OffersScreenAppear [246, 247] 0.2480954578522181\n",
      "Не получилось отвергнуть нулевую гипотезу, нет оснований считать доли разными\n",
      "p-значение для: CartScreenAppear [246, 247] 0.22883372237997213\n",
      "Не получилось отвергнуть нулевую гипотезу, нет оснований считать доли разными\n",
      "p-значение для: PaymentScreenSuccessful [246, 247] 0.11456679313141849\n",
      "Не получилось отвергнуть нулевую гипотезу, нет оснований считать доли разными\n",
      "p-значение для: MainScreenAppear [246, 248] 0.2949721933554552\n",
      "Не получилось отвергнуть нулевую гипотезу, нет оснований считать доли разными\n",
      "p-значение для: OffersScreenAppear [246, 248] 0.20836205402738917\n",
      "Не получилось отвергнуть нулевую гипотезу, нет оснований считать доли разными\n",
      "p-значение для: CartScreenAppear [246, 248] 0.07842923237520116\n",
      "Не получилось отвергнуть нулевую гипотезу, нет оснований считать доли разными\n",
      "p-значение для: PaymentScreenSuccessful [246, 248] 0.2122553275697796\n",
      "Не получилось отвергнуть нулевую гипотезу, нет оснований считать доли разными\n",
      "p-значение для: MainScreenAppear [247, 248] 0.4587053616621515\n",
      "Не получилось отвергнуть нулевую гипотезу, нет оснований считать доли разными\n",
      "p-значение для: OffersScreenAppear [247, 248] 0.9197817830592261\n",
      "Не получилось отвергнуть нулевую гипотезу, нет оснований считать доли разными\n",
      "p-значение для: CartScreenAppear [247, 248] 0.5786197879539783\n",
      "Не получилось отвергнуть нулевую гипотезу, нет оснований считать доли разными\n",
      "p-значение для: PaymentScreenSuccessful [247, 248] 0.7373415053803964\n",
      "Не получилось отвергнуть нулевую гипотезу, нет оснований считать доли разными\n"
     ]
    }
   ],
   "source": [
    "for x in [[246, 247], [246, 248], [247, 248]]:\n",
    "    for i in funnel_gr.index:\n",
    "        p_value = get_p_value(funnel_gr.loc[i,x[0]], funnel_gr.loc[i,x[1]], trials.loc[x[0]].values[0], trials.loc[x[1]].values[0])\n",
    "        print('p-значение для:',i,x,p_value)\n",
    "        if p_value < 0.05: \n",
    "            print('Отвергаем нулевую гипотезу: между долями есть значимая разница')\n",
    "        else:\n",
    "            print('Не получилось отвергнуть нулевую гипотезу, нет оснований считать доли разными')"
   ]
  },
  {
   "cell_type": "code",
   "execution_count": 28,
   "id": "189611a6",
   "metadata": {},
   "outputs": [
    {
     "name": "stdout",
     "output_type": "stream",
     "text": [
      "p-значение для: MainScreenAppear ['246 + 247', 248] 0.29424526837179577\n",
      "Не получилось отвергнуть нулевую гипотезу, нет оснований считать доли разными\n",
      "p-значение для: OffersScreenAppear ['246 + 247', 248] 0.43425549655188256\n",
      "Не получилось отвергнуть нулевую гипотезу, нет оснований считать доли разными\n",
      "p-значение для: CartScreenAppear ['246 + 247', 248] 0.18175875284404386\n",
      "Не получилось отвергнуть нулевую гипотезу, нет оснований считать доли разными\n",
      "p-значение для: PaymentScreenSuccessful ['246 + 247', 248] 0.6004294282308704\n",
      "Не получилось отвергнуть нулевую гипотезу, нет оснований считать доли разными\n"
     ]
    }
   ],
   "source": [
    "for x in [['246 + 247', 248]]:\n",
    "    for i in funnel_gr.index:\n",
    "        p_value = get_p_value(funnel_combined.loc[i,x[0]], funnel_combined.loc[i,x[1]], trials_combined.loc[x[0]].values[0], trials_combined.loc[x[1]].values[0])\n",
    "        print('p-значение для:',i,x,p_value)\n",
    "        if p_value < 0.05: \n",
    "            print('Отвергаем нулевую гипотезу: между долями есть значимая разница')\n",
    "        else:\n",
    "            print('Не получилось отвергнуть нулевую гипотезу, нет оснований считать доли разными')"
   ]
  },
  {
   "cell_type": "markdown",
   "id": "49ae88ec",
   "metadata": {},
   "source": [
    "**Результаты теста не повлияли на выводы. Статистически значимой разницы в группах нет**"
   ]
  },
  {
   "cell_type": "markdown",
   "id": "7145bba7",
   "metadata": {},
   "source": [
    "# Общий вывод\n",
    "\n",
    "В результате исследования было установлено:\n",
    "- в среднем на одного пользователя приходится 32 события;\n",
    "- тестирование длилось 6 дней в период с 2019-08-01 по 2019-08-07;\n",
    "- событие Tutorial не встраивается в последовательную цепочку конвертации пользователей в покупатели;\n",
    "- наибольшее число пользователей (от 37 % до 38,6 % ) теряется на событии OffersScreenAppear как в целом по данным, так и в каждой группе наблюжения;\n",
    "- от первого события до оплаты доходит 47,7 % пользователей.\n",
    "\n",
    "Результат А/А-теста установил отстутвие статистически значимой разницы между двумя контрольными группами, что свидельствует о верной разбивке на группы. Результат А/В-теста показал, что ковертируемость пользователей осталась преждней, то есть опасения менеджеров, что пользователям будет непривычно, не подтвердились. Вместе с тем новый шрифт нельзя считать лучше, поскольку он не принес большей конвертируемости.\n",
    "\n",
    "Таким образом новый дизайн мобильного приложения не оказал на пользователей никакого влияния. "
   ]
  }
 ],
 "metadata": {
  "ExecuteTimeLog": [
   {
    "duration": 1364,
    "start_time": "2022-06-08T05:19:42.885Z"
   },
   {
    "duration": 636,
    "start_time": "2022-06-08T05:19:44.251Z"
   },
   {
    "duration": 9,
    "start_time": "2022-06-08T05:19:44.889Z"
   },
   {
    "duration": 16,
    "start_time": "2022-06-08T05:19:44.900Z"
   },
   {
    "duration": 153,
    "start_time": "2022-06-08T05:19:44.918Z"
   },
   {
    "duration": 293,
    "start_time": "2022-06-08T05:19:45.073Z"
   },
   {
    "duration": 127,
    "start_time": "2022-06-08T05:19:45.368Z"
   },
   {
    "duration": 0,
    "start_time": "2022-06-08T05:19:45.498Z"
   },
   {
    "duration": 0,
    "start_time": "2022-06-08T05:19:45.500Z"
   },
   {
    "duration": 0,
    "start_time": "2022-06-08T05:19:45.501Z"
   },
   {
    "duration": 0,
    "start_time": "2022-06-08T05:19:45.502Z"
   },
   {
    "duration": 0,
    "start_time": "2022-06-08T05:19:45.504Z"
   },
   {
    "duration": 1,
    "start_time": "2022-06-08T05:19:45.505Z"
   },
   {
    "duration": 0,
    "start_time": "2022-06-08T05:19:45.507Z"
   },
   {
    "duration": 0,
    "start_time": "2022-06-08T05:19:45.508Z"
   },
   {
    "duration": 0,
    "start_time": "2022-06-08T05:19:45.510Z"
   },
   {
    "duration": 0,
    "start_time": "2022-06-08T05:19:45.511Z"
   },
   {
    "duration": 0,
    "start_time": "2022-06-08T05:19:45.513Z"
   },
   {
    "duration": 0,
    "start_time": "2022-06-08T05:19:45.515Z"
   },
   {
    "duration": 0,
    "start_time": "2022-06-08T05:19:45.517Z"
   },
   {
    "duration": 0,
    "start_time": "2022-06-08T05:19:45.518Z"
   },
   {
    "duration": 0,
    "start_time": "2022-06-08T05:19:45.519Z"
   },
   {
    "duration": 0,
    "start_time": "2022-06-08T05:19:45.521Z"
   },
   {
    "duration": 0,
    "start_time": "2022-06-08T05:19:45.522Z"
   },
   {
    "duration": 0,
    "start_time": "2022-06-08T05:19:45.524Z"
   },
   {
    "duration": 0,
    "start_time": "2022-06-08T05:19:45.565Z"
   },
   {
    "duration": 0,
    "start_time": "2022-06-08T05:19:45.566Z"
   },
   {
    "duration": 60,
    "start_time": "2022-06-08T05:58:31.019Z"
   },
   {
    "duration": 1253,
    "start_time": "2022-06-08T05:58:34.490Z"
   },
   {
    "duration": 554,
    "start_time": "2022-06-08T05:58:37.360Z"
   },
   {
    "duration": 1225,
    "start_time": "2022-06-08T05:58:48.537Z"
   },
   {
    "duration": 190,
    "start_time": "2022-06-08T05:58:49.764Z"
   },
   {
    "duration": 11,
    "start_time": "2022-06-08T05:58:49.956Z"
   },
   {
    "duration": 16,
    "start_time": "2022-06-08T05:58:49.969Z"
   },
   {
    "duration": 84,
    "start_time": "2022-06-08T05:58:49.987Z"
   },
   {
    "duration": 140,
    "start_time": "2022-06-08T05:58:50.072Z"
   },
   {
    "duration": 119,
    "start_time": "2022-06-08T05:58:50.214Z"
   },
   {
    "duration": 9,
    "start_time": "2022-06-08T05:58:50.335Z"
   },
   {
    "duration": 51,
    "start_time": "2022-06-08T05:58:50.345Z"
   },
   {
    "duration": 1676,
    "start_time": "2022-06-08T05:58:50.398Z"
   },
   {
    "duration": 33,
    "start_time": "2022-06-08T05:58:52.076Z"
   },
   {
    "duration": 29,
    "start_time": "2022-06-08T05:58:52.110Z"
   },
   {
    "duration": 25,
    "start_time": "2022-06-08T05:58:52.140Z"
   },
   {
    "duration": 23,
    "start_time": "2022-06-08T05:58:52.167Z"
   },
   {
    "duration": 77,
    "start_time": "2022-06-08T05:58:52.191Z"
   },
   {
    "duration": 10,
    "start_time": "2022-06-08T05:58:52.270Z"
   },
   {
    "duration": 127,
    "start_time": "2022-06-08T05:58:52.282Z"
   },
   {
    "duration": 3,
    "start_time": "2022-06-08T05:58:52.411Z"
   },
   {
    "duration": 49,
    "start_time": "2022-06-08T05:58:52.416Z"
   },
   {
    "duration": 14,
    "start_time": "2022-06-08T05:58:52.467Z"
   },
   {
    "duration": 21,
    "start_time": "2022-06-08T05:58:52.483Z"
   },
   {
    "duration": 98,
    "start_time": "2022-06-08T05:58:52.506Z"
   },
   {
    "duration": 224,
    "start_time": "2022-06-08T05:58:52.605Z"
   },
   {
    "duration": 82,
    "start_time": "2022-06-08T05:58:52.831Z"
   },
   {
    "duration": 13,
    "start_time": "2022-06-08T05:58:52.914Z"
   },
   {
    "duration": 48,
    "start_time": "2022-06-08T05:58:52.929Z"
   },
   {
    "duration": 11,
    "start_time": "2022-06-08T05:58:52.979Z"
   },
   {
    "duration": 1176,
    "start_time": "2022-06-08T13:37:14.840Z"
   },
   {
    "duration": 247,
    "start_time": "2022-06-08T13:37:16.017Z"
   },
   {
    "duration": 11,
    "start_time": "2022-06-08T13:37:16.269Z"
   },
   {
    "duration": 24,
    "start_time": "2022-06-08T13:37:16.283Z"
   },
   {
    "duration": 76,
    "start_time": "2022-06-08T13:37:16.309Z"
   },
   {
    "duration": 129,
    "start_time": "2022-06-08T13:37:16.387Z"
   },
   {
    "duration": 119,
    "start_time": "2022-06-08T13:37:16.517Z"
   },
   {
    "duration": 7,
    "start_time": "2022-06-08T13:37:16.638Z"
   },
   {
    "duration": 59,
    "start_time": "2022-06-08T13:37:16.646Z"
   },
   {
    "duration": 1928,
    "start_time": "2022-06-08T13:37:16.708Z"
   },
   {
    "duration": 56,
    "start_time": "2022-06-08T13:37:18.637Z"
   },
   {
    "duration": 28,
    "start_time": "2022-06-08T13:37:18.694Z"
   },
   {
    "duration": 6,
    "start_time": "2022-06-08T13:37:18.724Z"
   },
   {
    "duration": 62,
    "start_time": "2022-06-08T13:37:18.732Z"
   },
   {
    "duration": 88,
    "start_time": "2022-06-08T13:37:18.795Z"
   },
   {
    "duration": 13,
    "start_time": "2022-06-08T13:37:18.885Z"
   },
   {
    "duration": 109,
    "start_time": "2022-06-08T13:37:18.900Z"
   },
   {
    "duration": 4,
    "start_time": "2022-06-08T13:37:19.010Z"
   },
   {
    "duration": 56,
    "start_time": "2022-06-08T13:37:19.016Z"
   },
   {
    "duration": 21,
    "start_time": "2022-06-08T13:37:19.073Z"
   },
   {
    "duration": 24,
    "start_time": "2022-06-08T13:37:19.095Z"
   },
   {
    "duration": 91,
    "start_time": "2022-06-08T13:37:19.121Z"
   },
   {
    "duration": 238,
    "start_time": "2022-06-08T13:37:19.214Z"
   },
   {
    "duration": 123,
    "start_time": "2022-06-08T13:37:19.453Z"
   },
   {
    "duration": 15,
    "start_time": "2022-06-08T13:37:19.581Z"
   },
   {
    "duration": 28,
    "start_time": "2022-06-08T13:37:19.598Z"
   },
   {
    "duration": 12,
    "start_time": "2022-06-08T13:37:19.628Z"
   },
   {
    "duration": 5275,
    "start_time": "2022-06-08T15:17:22.839Z"
   },
   {
    "duration": 94,
    "start_time": "2022-06-08T15:17:37.681Z"
   },
   {
    "duration": 1153,
    "start_time": "2022-06-08T15:18:36.720Z"
   },
   {
    "duration": 566,
    "start_time": "2022-06-08T15:18:37.875Z"
   },
   {
    "duration": 9,
    "start_time": "2022-06-08T15:18:38.443Z"
   },
   {
    "duration": 29,
    "start_time": "2022-06-08T15:18:38.454Z"
   },
   {
    "duration": 83,
    "start_time": "2022-06-08T15:18:38.486Z"
   },
   {
    "duration": 149,
    "start_time": "2022-06-08T15:18:38.571Z"
   },
   {
    "duration": 160,
    "start_time": "2022-06-08T15:18:38.722Z"
   },
   {
    "duration": 9,
    "start_time": "2022-06-08T15:18:38.884Z"
   },
   {
    "duration": 47,
    "start_time": "2022-06-08T15:18:38.895Z"
   },
   {
    "duration": 1553,
    "start_time": "2022-06-08T15:18:38.944Z"
   },
   {
    "duration": 31,
    "start_time": "2022-06-08T15:18:40.499Z"
   },
   {
    "duration": 40,
    "start_time": "2022-06-08T15:18:40.532Z"
   },
   {
    "duration": 55,
    "start_time": "2022-06-08T15:18:40.573Z"
   },
   {
    "duration": 76,
    "start_time": "2022-06-08T15:18:40.631Z"
   },
   {
    "duration": 87,
    "start_time": "2022-06-08T15:18:40.708Z"
   },
   {
    "duration": 10,
    "start_time": "2022-06-08T15:18:40.797Z"
   },
   {
    "duration": 117,
    "start_time": "2022-06-08T15:18:40.809Z"
   },
   {
    "duration": 4,
    "start_time": "2022-06-08T15:18:40.928Z"
   },
   {
    "duration": 62,
    "start_time": "2022-06-08T15:18:40.935Z"
   },
   {
    "duration": 13,
    "start_time": "2022-06-08T15:18:40.998Z"
   },
   {
    "duration": 57,
    "start_time": "2022-06-08T15:18:41.013Z"
   },
   {
    "duration": 104,
    "start_time": "2022-06-08T15:18:41.072Z"
   },
   {
    "duration": 230,
    "start_time": "2022-06-08T15:18:41.178Z"
   },
   {
    "duration": 80,
    "start_time": "2022-06-08T15:18:41.409Z"
   },
   {
    "duration": 17,
    "start_time": "2022-06-08T15:18:41.492Z"
   },
   {
    "duration": 51,
    "start_time": "2022-06-08T15:18:41.511Z"
   },
   {
    "duration": 15,
    "start_time": "2022-06-08T15:18:41.564Z"
   },
   {
    "duration": 1511,
    "start_time": "2022-06-08T15:26:28.105Z"
   },
   {
    "duration": 61,
    "start_time": "2022-06-08T15:34:10.121Z"
   },
   {
    "duration": 118,
    "start_time": "2022-06-08T15:45:48.358Z"
   },
   {
    "duration": 97,
    "start_time": "2022-06-08T15:46:21.441Z"
   },
   {
    "duration": 94,
    "start_time": "2022-06-08T15:46:26.172Z"
   },
   {
    "duration": 11,
    "start_time": "2022-06-08T15:47:29.047Z"
   },
   {
    "duration": 10,
    "start_time": "2022-06-08T15:47:44.317Z"
   },
   {
    "duration": 109,
    "start_time": "2022-06-08T15:49:51.868Z"
   },
   {
    "duration": 488,
    "start_time": "2022-06-08T15:53:04.399Z"
   },
   {
    "duration": 137,
    "start_time": "2022-06-08T15:59:15.972Z"
   },
   {
    "duration": 223,
    "start_time": "2022-06-08T15:59:27.300Z"
   },
   {
    "duration": 47,
    "start_time": "2022-06-08T16:02:20.777Z"
   },
   {
    "duration": 40,
    "start_time": "2022-06-08T16:02:27.816Z"
   },
   {
    "duration": 39,
    "start_time": "2022-06-08T16:04:21.944Z"
   },
   {
    "duration": 21,
    "start_time": "2022-06-08T16:04:32.936Z"
   },
   {
    "duration": 1237,
    "start_time": "2022-06-08T16:04:59.430Z"
   },
   {
    "duration": 203,
    "start_time": "2022-06-08T16:05:00.670Z"
   },
   {
    "duration": 9,
    "start_time": "2022-06-08T16:05:00.875Z"
   },
   {
    "duration": 15,
    "start_time": "2022-06-08T16:05:00.886Z"
   },
   {
    "duration": 89,
    "start_time": "2022-06-08T16:05:00.903Z"
   },
   {
    "duration": 130,
    "start_time": "2022-06-08T16:05:00.994Z"
   },
   {
    "duration": 114,
    "start_time": "2022-06-08T16:05:01.125Z"
   },
   {
    "duration": 18,
    "start_time": "2022-06-08T16:05:01.240Z"
   },
   {
    "duration": 40,
    "start_time": "2022-06-08T16:05:01.261Z"
   },
   {
    "duration": 1640,
    "start_time": "2022-06-08T16:05:01.302Z"
   },
   {
    "duration": 50,
    "start_time": "2022-06-08T16:05:02.944Z"
   },
   {
    "duration": 35,
    "start_time": "2022-06-08T16:05:02.996Z"
   },
   {
    "duration": 27,
    "start_time": "2022-06-08T16:05:03.033Z"
   },
   {
    "duration": 34,
    "start_time": "2022-06-08T16:05:03.064Z"
   },
   {
    "duration": 83,
    "start_time": "2022-06-08T16:05:03.100Z"
   },
   {
    "duration": 10,
    "start_time": "2022-06-08T16:05:03.184Z"
   },
   {
    "duration": 336,
    "start_time": "2022-06-08T16:05:03.195Z"
   },
   {
    "duration": 325,
    "start_time": "2022-06-08T16:05:03.534Z"
   },
   {
    "duration": 6,
    "start_time": "2022-06-08T16:05:03.861Z"
   },
   {
    "duration": 16,
    "start_time": "2022-06-08T16:05:03.869Z"
   },
   {
    "duration": 0,
    "start_time": "2022-06-08T16:05:03.886Z"
   },
   {
    "duration": 0,
    "start_time": "2022-06-08T16:05:03.888Z"
   },
   {
    "duration": 0,
    "start_time": "2022-06-08T16:05:03.889Z"
   },
   {
    "duration": 0,
    "start_time": "2022-06-08T16:05:03.890Z"
   },
   {
    "duration": 0,
    "start_time": "2022-06-08T16:05:03.891Z"
   },
   {
    "duration": 0,
    "start_time": "2022-06-08T16:05:03.892Z"
   },
   {
    "duration": 0,
    "start_time": "2022-06-08T16:05:03.894Z"
   },
   {
    "duration": 0,
    "start_time": "2022-06-08T16:05:03.895Z"
   },
   {
    "duration": 0,
    "start_time": "2022-06-08T16:05:03.896Z"
   },
   {
    "duration": 4,
    "start_time": "2022-06-08T16:05:44.507Z"
   },
   {
    "duration": 4,
    "start_time": "2022-06-08T16:05:49.280Z"
   },
   {
    "duration": 31,
    "start_time": "2022-06-08T16:06:27.663Z"
   },
   {
    "duration": 25,
    "start_time": "2022-06-08T16:07:15.275Z"
   },
   {
    "duration": 29,
    "start_time": "2022-06-08T16:07:52.692Z"
   },
   {
    "duration": 1165,
    "start_time": "2022-06-08T16:08:00.585Z"
   },
   {
    "duration": 217,
    "start_time": "2022-06-08T16:08:01.751Z"
   },
   {
    "duration": 11,
    "start_time": "2022-06-08T16:08:01.972Z"
   },
   {
    "duration": 31,
    "start_time": "2022-06-08T16:08:01.985Z"
   },
   {
    "duration": 69,
    "start_time": "2022-06-08T16:08:02.019Z"
   },
   {
    "duration": 125,
    "start_time": "2022-06-08T16:08:02.090Z"
   },
   {
    "duration": 113,
    "start_time": "2022-06-08T16:08:02.217Z"
   },
   {
    "duration": 7,
    "start_time": "2022-06-08T16:08:02.332Z"
   },
   {
    "duration": 50,
    "start_time": "2022-06-08T16:08:02.340Z"
   },
   {
    "duration": 1622,
    "start_time": "2022-06-08T16:08:02.392Z"
   },
   {
    "duration": 30,
    "start_time": "2022-06-08T16:08:04.016Z"
   },
   {
    "duration": 43,
    "start_time": "2022-06-08T16:08:04.058Z"
   },
   {
    "duration": 8,
    "start_time": "2022-06-08T16:08:04.103Z"
   },
   {
    "duration": 23,
    "start_time": "2022-06-08T16:08:04.113Z"
   },
   {
    "duration": 83,
    "start_time": "2022-06-08T16:08:04.138Z"
   },
   {
    "duration": 9,
    "start_time": "2022-06-08T16:08:04.223Z"
   },
   {
    "duration": 342,
    "start_time": "2022-06-08T16:08:04.233Z"
   },
   {
    "duration": 323,
    "start_time": "2022-06-08T16:08:04.576Z"
   },
   {
    "duration": 3,
    "start_time": "2022-06-08T16:08:04.901Z"
   },
   {
    "duration": 9,
    "start_time": "2022-06-08T16:08:04.906Z"
   },
   {
    "duration": 0,
    "start_time": "2022-06-08T16:08:04.916Z"
   },
   {
    "duration": 0,
    "start_time": "2022-06-08T16:08:04.918Z"
   },
   {
    "duration": 0,
    "start_time": "2022-06-08T16:08:04.919Z"
   },
   {
    "duration": 0,
    "start_time": "2022-06-08T16:08:04.920Z"
   },
   {
    "duration": 0,
    "start_time": "2022-06-08T16:08:04.921Z"
   },
   {
    "duration": 0,
    "start_time": "2022-06-08T16:08:04.922Z"
   },
   {
    "duration": 0,
    "start_time": "2022-06-08T16:08:04.923Z"
   },
   {
    "duration": 0,
    "start_time": "2022-06-08T16:08:04.925Z"
   },
   {
    "duration": 0,
    "start_time": "2022-06-08T16:08:04.925Z"
   },
   {
    "duration": 1204,
    "start_time": "2022-06-08T16:16:56.872Z"
   },
   {
    "duration": 178,
    "start_time": "2022-06-08T16:16:58.078Z"
   },
   {
    "duration": 8,
    "start_time": "2022-06-08T16:16:58.258Z"
   },
   {
    "duration": 23,
    "start_time": "2022-06-08T16:16:58.268Z"
   },
   {
    "duration": 67,
    "start_time": "2022-06-08T16:16:58.292Z"
   },
   {
    "duration": 125,
    "start_time": "2022-06-08T16:16:58.360Z"
   },
   {
    "duration": 115,
    "start_time": "2022-06-08T16:16:58.487Z"
   },
   {
    "duration": 8,
    "start_time": "2022-06-08T16:16:58.604Z"
   },
   {
    "duration": 35,
    "start_time": "2022-06-08T16:16:58.613Z"
   },
   {
    "duration": 1523,
    "start_time": "2022-06-08T16:16:58.660Z"
   },
   {
    "duration": 33,
    "start_time": "2022-06-08T16:17:00.185Z"
   },
   {
    "duration": 44,
    "start_time": "2022-06-08T16:17:00.220Z"
   },
   {
    "duration": 11,
    "start_time": "2022-06-08T16:17:00.266Z"
   },
   {
    "duration": 25,
    "start_time": "2022-06-08T16:17:00.278Z"
   },
   {
    "duration": 75,
    "start_time": "2022-06-08T16:17:00.304Z"
   },
   {
    "duration": 10,
    "start_time": "2022-06-08T16:17:00.381Z"
   },
   {
    "duration": 403,
    "start_time": "2022-06-08T16:17:00.393Z"
   },
   {
    "duration": 294,
    "start_time": "2022-06-08T16:17:00.798Z"
   },
   {
    "duration": 4,
    "start_time": "2022-06-08T16:17:01.094Z"
   },
   {
    "duration": 49,
    "start_time": "2022-06-08T16:17:01.100Z"
   },
   {
    "duration": 15,
    "start_time": "2022-06-08T16:17:01.151Z"
   },
   {
    "duration": 47,
    "start_time": "2022-06-08T16:17:01.168Z"
   },
   {
    "duration": 82,
    "start_time": "2022-06-08T16:17:01.217Z"
   },
   {
    "duration": 219,
    "start_time": "2022-06-08T16:17:01.302Z"
   },
   {
    "duration": 81,
    "start_time": "2022-06-08T16:17:01.523Z"
   },
   {
    "duration": 10,
    "start_time": "2022-06-08T16:17:01.606Z"
   },
   {
    "duration": 42,
    "start_time": "2022-06-08T16:17:01.618Z"
   },
   {
    "duration": 13,
    "start_time": "2022-06-08T16:17:01.663Z"
   },
   {
    "duration": 1312,
    "start_time": "2022-06-09T06:08:13.049Z"
   },
   {
    "duration": 596,
    "start_time": "2022-06-09T06:08:14.364Z"
   },
   {
    "duration": 8,
    "start_time": "2022-06-09T06:08:14.962Z"
   },
   {
    "duration": 22,
    "start_time": "2022-06-09T06:08:14.973Z"
   },
   {
    "duration": 87,
    "start_time": "2022-06-09T06:08:14.998Z"
   },
   {
    "duration": 145,
    "start_time": "2022-06-09T06:08:15.087Z"
   },
   {
    "duration": 122,
    "start_time": "2022-06-09T06:08:15.235Z"
   },
   {
    "duration": 10,
    "start_time": "2022-06-09T06:08:15.359Z"
   },
   {
    "duration": 64,
    "start_time": "2022-06-09T06:08:15.372Z"
   },
   {
    "duration": 1802,
    "start_time": "2022-06-09T06:08:15.438Z"
   },
   {
    "duration": 35,
    "start_time": "2022-06-09T06:08:17.242Z"
   },
   {
    "duration": 49,
    "start_time": "2022-06-09T06:08:17.279Z"
   },
   {
    "duration": 6,
    "start_time": "2022-06-09T06:08:17.330Z"
   },
   {
    "duration": 23,
    "start_time": "2022-06-09T06:08:17.339Z"
   },
   {
    "duration": 91,
    "start_time": "2022-06-09T06:08:17.364Z"
   },
   {
    "duration": 9,
    "start_time": "2022-06-09T06:08:17.457Z"
   },
   {
    "duration": 409,
    "start_time": "2022-06-09T06:08:17.468Z"
   },
   {
    "duration": 346,
    "start_time": "2022-06-09T06:08:17.880Z"
   },
   {
    "duration": 4,
    "start_time": "2022-06-09T06:08:18.228Z"
   },
   {
    "duration": 53,
    "start_time": "2022-06-09T06:08:18.234Z"
   },
   {
    "duration": 20,
    "start_time": "2022-06-09T06:08:18.289Z"
   },
   {
    "duration": 26,
    "start_time": "2022-06-09T06:08:18.326Z"
   },
   {
    "duration": 95,
    "start_time": "2022-06-09T06:08:18.354Z"
   },
   {
    "duration": 230,
    "start_time": "2022-06-09T06:08:18.451Z"
   },
   {
    "duration": 87,
    "start_time": "2022-06-09T06:08:18.683Z"
   },
   {
    "duration": 15,
    "start_time": "2022-06-09T06:08:18.772Z"
   },
   {
    "duration": 46,
    "start_time": "2022-06-09T06:08:18.788Z"
   },
   {
    "duration": 12,
    "start_time": "2022-06-09T06:08:18.836Z"
   }
  ],
  "kernelspec": {
   "display_name": "Python 3 (ipykernel)",
   "language": "python",
   "name": "python3"
  },
  "language_info": {
   "codemirror_mode": {
    "name": "ipython",
    "version": 3
   },
   "file_extension": ".py",
   "mimetype": "text/x-python",
   "name": "python",
   "nbconvert_exporter": "python",
   "pygments_lexer": "ipython3",
   "version": "3.9.5"
  },
  "toc": {
   "base_numbering": 1,
   "nav_menu": {},
   "number_sections": true,
   "sideBar": true,
   "skip_h1_title": true,
   "title_cell": "Table of Contents",
   "title_sidebar": "Contents",
   "toc_cell": false,
   "toc_position": {},
   "toc_section_display": true,
   "toc_window_display": false
  }
 },
 "nbformat": 4,
 "nbformat_minor": 5
}
