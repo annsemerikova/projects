{
 "cells": [
  {
   "cell_type": "markdown",
   "id": "756dc585",
   "metadata": {},
   "source": [
    " # Схема базы данных"
   ]
  },
  {
   "cell_type": "markdown",
   "id": "dcf419ee",
   "metadata": {},
   "source": [
    "![Схема базы данных](https://pictures.s3.yandex.net/resources/13_border2880_1628581406.png)"
   ]
  },
  {
   "cell_type": "markdown",
   "id": "dcbe8762",
   "metadata": {},
   "source": [
    "1.\n",
    "Посчитайте, сколько компаний закрылось."
   ]
  },
  {
   "cell_type": "code",
   "execution_count": null,
   "id": "878f16bb",
   "metadata": {},
   "outputs": [],
   "source": [
    "SELECT COUNT(DISTINCT id)\n",
    "FROM company\n",
    "WHERE status = 'closed';"
   ]
  },
  {
   "cell_type": "markdown",
   "id": "9e235303",
   "metadata": {},
   "source": [
    "2.\n",
    "Отобразите количество привлечённых средств для новостных компаний США. Используйте данные из таблицы `company`. Отсортируйте таблицу по убыванию значений в поле `funding_total` ."
   ]
  },
  {
   "cell_type": "code",
   "execution_count": null,
   "id": "b1854039",
   "metadata": {},
   "outputs": [],
   "source": [
    "SELECT SUM(funding_total)\n",
    "FROM company\n",
    "WHERE category_code = 'news'\n",
    "  AND country_code = 'USA'\n",
    "GROUP BY name\n",
    "ORDER BY SUM(funding_total) DESC;"
   ]
  },
  {
   "cell_type": "markdown",
   "id": "c7ea151d",
   "metadata": {},
   "source": [
    "3.\n",
    "Найдите общую сумму сделок по покупке одних компаний другими в долларах. Отберите сделки, которые осуществлялись только за наличные с 2011 по 2013 год включительно."
   ]
  },
  {
   "cell_type": "code",
   "execution_count": null,
   "id": "1575da06",
   "metadata": {},
   "outputs": [],
   "source": [
    "SELECT SUM(price_amount)\n",
    "FROM acquisition\n",
    "WHERE term_code = 'cash'\n",
    "  AND CAST(acquired_at AS date) BETWEEN '2011-01-01' AND '2013-12-31';"
   ]
  },
  {
   "cell_type": "markdown",
   "id": "5251eda0",
   "metadata": {},
   "source": [
    "4.\n",
    "Отобразите имя, фамилию и названия аккаунтов людей в твиттере, у которых названия аккаунтов начинаются на `'Silver'`."
   ]
  },
  {
   "cell_type": "code",
   "execution_count": null,
   "id": "82b4dd3d",
   "metadata": {},
   "outputs": [],
   "source": [
    "SELECT first_name,\n",
    "       last_name,\n",
    "       twitter_username\n",
    "FROM people\n",
    "WHERE twitter_username LIKE 'Silver%';"
   ]
  },
  {
   "cell_type": "markdown",
   "id": "6fad8b6c",
   "metadata": {},
   "source": [
    "5.\n",
    "Выведите на экран всю информацию о людях, у которых названия аккаунтов в твиттере содержат подстроку `'money'`, а фамилия начинается на `'K'`."
   ]
  },
  {
   "cell_type": "code",
   "execution_count": null,
   "id": "3a80595b",
   "metadata": {},
   "outputs": [],
   "source": [
    "SELECT *\n",
    "FROM people\n",
    "WHERE twitter_username LIKE '%money%'\n",
    "  AND last_name LIKE 'K%';"
   ]
  },
  {
   "cell_type": "markdown",
   "id": "c5b32c84",
   "metadata": {},
   "source": [
    "6.\n",
    "Для каждой страны отобразите общую сумму привлечённых инвестиций, которые получили компании, зарегистрированные в этой стране. Страну, в которой зарегистрирована компания, можно определить по коду страны. Отсортируйте данные по убыванию суммы."
   ]
  },
  {
   "cell_type": "code",
   "execution_count": null,
   "id": "30c409f6",
   "metadata": {},
   "outputs": [],
   "source": [
    "SELECT country_code,\n",
    "       SUM(funding_total)\n",
    "FROM company\n",
    "GROUP BY country_code\n",
    "ORDER BY SUM(funding_total) DESC;"
   ]
  },
  {
   "cell_type": "markdown",
   "id": "3dad4537",
   "metadata": {},
   "source": [
    "7.\n",
    "Составьте таблицу, в которую войдёт дата проведения раунда, а также минимальное и максимальное значения суммы инвестиций, привлечённых в эту дату.\n",
    "Оставьте в итоговой таблице только те записи, в которых минимальное значение суммы инвестиций не равно нулю и не равно максимальному значению."
   ]
  },
  {
   "cell_type": "code",
   "execution_count": null,
   "id": "db7f6468",
   "metadata": {},
   "outputs": [],
   "source": [
    "SELECT CAST(funded_at AS date),\n",
    "       MIN(raised_amount),\n",
    "       MAX(raised_amount)\n",
    "FROM funding_round\n",
    "GROUP BY CAST(funded_at AS date)\n",
    "HAVING MIN(raised_amount)!= 0\n",
    "   AND MIN(raised_amount)!= MAX(raised_amount);"
   ]
  },
  {
   "cell_type": "markdown",
   "id": "f5cdb44f",
   "metadata": {},
   "source": [
    "8.\n",
    "Создайте поле с категориями:\n",
    "Для фондов, которые инвестируют в 100 и более компаний, назначьте категорию `high_activity`.\n",
    "Для фондов, которые инвестируют в 20 и более компаний до 100, назначьте категорию `middle_activity`.\n",
    "Если количество инвестируемых компаний фонда не достигает 20, назначьте категорию `low_activity`.\n",
    "Отобразите все поля таблицы `fund`и новое поле с категориями."
   ]
  },
  {
   "cell_type": "code",
   "execution_count": null,
   "id": "f0864e3d",
   "metadata": {},
   "outputs": [],
   "source": [
    "SELECT *,\n",
    "       CASE\n",
    "           WHEN invested_companies >= 100 THEN 'high_activity'\n",
    "           WHEN invested_companies >= 20 AND invested_companies < 100  THEN 'middle_activity'\n",
    "           ELSE 'low_activity'\n",
    "        END\n",
    "FROM fund;"
   ]
  },
  {
   "cell_type": "markdown",
   "id": "f16542d2",
   "metadata": {},
   "source": [
    "9.\n",
    "Для каждой из категорий, назначенных в предыдущем задании, посчитайте округлённое до ближайшего целого числа среднее количество инвестиционных раундов, в которых фонд принимал участие. Выведите на экран категории и среднее число инвестиционных раундов. Отсортируйте таблицу по возрастанию среднего."
   ]
  },
  {
   "cell_type": "code",
   "execution_count": null,
   "id": "a8f9afb3",
   "metadata": {},
   "outputs": [],
   "source": [
    "SELECT \n",
    "       CASE\n",
    "           WHEN invested_companies>=100 THEN 'high_activity'\n",
    "           WHEN invested_companies>=20 THEN 'middle_activity'\n",
    "           ELSE 'low_activity'\n",
    "       END AS activity,\n",
    "       ROUND(AVG(investment_rounds))\n",
    "FROM fund\n",
    "GROUP BY activity\n",
    "ORDER BY ROUND(AVG(investment_rounds));\n"
   ]
  },
  {
   "cell_type": "markdown",
   "id": "90bc8a8a",
   "metadata": {},
   "source": [
    "10.\n",
    "Выгрузите таблицу с десятью самыми активными инвестирующими странами. Активность страны определите по среднему количеству компаний, в которые инвестируют фонды этой страны.\n",
    "Для каждой страны посчитайте минимальное, максимальное и среднее число компаний, в которые инвестировали фонды, основанные с 2010 по 2012 год включительно.\n",
    "Исключите из таблицы страны с фондами, у которых минимальное число компаний, получивших инвестиции, равно нулю. Отсортируйте таблицу по среднему количеству компаний от большего к меньшему, а затем по коду страны в лексикографическом порядке."
   ]
  },
  {
   "cell_type": "code",
   "execution_count": null,
   "id": "393a8e3e",
   "metadata": {},
   "outputs": [],
   "source": [
    "SELECT country_code,\n",
    "       MIN(invested_companies),\n",
    "       MAX(invested_companies),\n",
    "       AVG(invested_companies)\n",
    "FROM fund\n",
    "WHERE EXTRACT(YEAR FROM CAST(founded_at AS date))  BETWEEN '2010' AND '2012'\n",
    "GROUP BY country_code\n",
    "HAVING MIN(invested_companies)!= 0\n",
    "ORDER BY AVG(invested_companies) DESC\n",
    "LIMIT 10;"
   ]
  },
  {
   "cell_type": "markdown",
   "id": "686218c7",
   "metadata": {},
   "source": [
    "11.\n",
    "Отобразите имя и фамилию всех сотрудников стартапов. Добавьте поле с названием учебного заведения, которое окончил сотрудник, если эта информация известна."
   ]
  },
  {
   "cell_type": "code",
   "execution_count": null,
   "id": "a78fadce",
   "metadata": {},
   "outputs": [],
   "source": [
    "SELECT p.first_name,\n",
    "       p.last_name,\n",
    "       e.instituition\n",
    "FROM people AS P\n",
    "LEFT JOIN education AS e ON p.id = e.person_id;"
   ]
  },
  {
   "cell_type": "markdown",
   "id": "a2a1a03d",
   "metadata": {},
   "source": [
    "12.\n",
    "Для каждой компании найдите количество учебных заведений, которые окончили её сотрудники. Выведите название компании и число уникальных названий учебных заведений. Составьте топ-5 компаний по количеству университетов."
   ]
  },
  {
   "cell_type": "code",
   "execution_count": null,
   "id": "8ec1fe62",
   "metadata": {},
   "outputs": [],
   "source": [
    "SELECT c.name,\n",
    "       COUNT(DISTINCT e.instituition)\n",
    "FROM company AS c\n",
    "INNER JOIN people AS p ON c.id = p.company_id\n",
    "INNER JOIN education AS e ON p.id = e.person_id\n",
    "GROUP BY c.name\n",
    "ORDER BY COUNT(DISTINCT e.instituition) DESC\n",
    "LIMIT 5;"
   ]
  },
  {
   "cell_type": "markdown",
   "id": "fe2e8dc9",
   "metadata": {},
   "source": [
    "13.\n",
    "Составьте список с уникальными названиями закрытых компаний, для которых первый раунд финансирования оказался последним."
   ]
  },
  {
   "cell_type": "code",
   "execution_count": null,
   "id": "a5d571ff",
   "metadata": {},
   "outputs": [],
   "source": [
    "SELECT DISTINCT name\n",
    "FROM company \n",
    "WHERE id IN (SELECT company_id\n",
    "             FROM funding_round\n",
    "             WHERE is_first_round = 1\n",
    "               AND is_last_round = 1)\n",
    "  AND status = 'closed';"
   ]
  },
  {
   "cell_type": "markdown",
   "id": "985c7dcf",
   "metadata": {},
   "source": [
    "14.\n",
    "Составьте список уникальных номеров сотрудников, которые работают в компаниях, отобранных в предыдущем задании."
   ]
  },
  {
   "cell_type": "code",
   "execution_count": null,
   "id": "bea96315",
   "metadata": {},
   "outputs": [],
   "source": [
    "SELECT DISTINCT id\n",
    "FROM people\n",
    "WHERE company_id IN  (SELECT DISTINCT id\n",
    "                      FROM company \n",
    "                      WHERE id IN (SELECT company_id\n",
    "                                   FROM funding_round\n",
    "                                   WHERE is_first_round = 1\n",
    "                                     AND is_last_round = 1)\n",
    "                      AND status = 'closed'); "
   ]
  },
  {
   "cell_type": "markdown",
   "id": "d481ba26",
   "metadata": {},
   "source": [
    "15.\n",
    "Составьте таблицу, куда войдут уникальные пары с номерами сотрудников из предыдущей задачи и учебным заведением, которое окончил сотрудник."
   ]
  },
  {
   "cell_type": "code",
   "execution_count": null,
   "id": "79b01106",
   "metadata": {},
   "outputs": [],
   "source": [
    "SELECT DISTINCT person_id,\n",
    "       instituition\n",
    "FROM education\n",
    "WHERE person_id IN (SELECT DISTINCT id\n",
    "                    FROM people\n",
    "                    WHERE company_id IN  (SELECT DISTINCT id\n",
    "                                          FROM company \n",
    "                                          WHERE id IN (SELECT company_id\n",
    "                                          FROM funding_round\n",
    "                                          WHERE is_first_round = 1\n",
    "                                            AND is_last_round = 1)\n",
    "                      AND status = 'closed'));"
   ]
  },
  {
   "cell_type": "markdown",
   "id": "2c3a4427",
   "metadata": {},
   "source": [
    "16.\n",
    "Посчитайте количество учебных заведений для каждого сотрудника из предыдущего задания. При подсчёте учитывайте, что некоторые сотрудники могли окончить одно и то же заведение дважды."
   ]
  },
  {
   "cell_type": "code",
   "execution_count": null,
   "id": "39a502d9",
   "metadata": {},
   "outputs": [],
   "source": [
    "SELECT DISTINCT person_id,\n",
    "       COUNT(instituition)\n",
    "FROM education\n",
    "WHERE person_id IN (SELECT DISTINCT id\n",
    "                    FROM people\n",
    "                    WHERE company_id IN  (SELECT DISTINCT id\n",
    "                                          FROM company \n",
    "                                          WHERE id IN (SELECT company_id\n",
    "                                          FROM funding_round\n",
    "                                          WHERE is_first_round = 1\n",
    "                                            AND is_last_round = 1)\n",
    "                      AND status = 'closed'))\n",
    "GROUP BY person_id;"
   ]
  },
  {
   "cell_type": "markdown",
   "id": "d13ea3ee",
   "metadata": {},
   "source": [
    "17.\n",
    "Дополните предыдущий запрос и выведите среднее число учебных заведений (всех, не только уникальных), которые окончили сотрудники разных компаний. Нужно вывести только одну запись, группировка здесь не понадобится."
   ]
  },
  {
   "cell_type": "code",
   "execution_count": null,
   "id": "3053c557",
   "metadata": {},
   "outputs": [],
   "source": [
    "SELECT AVG(a.instituit)\n",
    "FROM (SELECT DISTINCT person_id,\n",
    "           COUNT(instituition) AS instituit\n",
    "    FROM education\n",
    "    WHERE person_id IN (SELECT DISTINCT id\n",
    "                    FROM people\n",
    "                    WHERE company_id IN  (SELECT DISTINCT id\n",
    "                                          FROM company \n",
    "                                          WHERE id IN (SELECT company_id\n",
    "                                          FROM funding_round\n",
    "                                          WHERE is_first_round = 1\n",
    "                                            AND is_last_round = 1)\n",
    "                      AND status = 'closed'))\n",
    "GROUP BY person_id) AS a;"
   ]
  },
  {
   "cell_type": "markdown",
   "id": "d484d8a7",
   "metadata": {},
   "source": [
    "18.\n",
    "Напишите похожий запрос: выведите среднее число учебных заведений (всех, не только уникальных), которые окончили сотрудники Facebook*.\n",
    "*(сервис, запрещённый на территории РФ)"
   ]
  },
  {
   "cell_type": "code",
   "execution_count": null,
   "id": "be328189",
   "metadata": {},
   "outputs": [],
   "source": [
    "SELECT AVG(a.instituit)\n",
    "FROM\n",
    "(SELECT person_id,\n",
    "       COUNT(instituition) AS instituit\n",
    "FROM education\n",
    "WHERE person_id IN (SELECT id\n",
    "                    FROM people\n",
    "                    WHERE company_id in (SELECT id\n",
    "                                         FROM company\n",
    "                                         WHERE name LIKE 'Facebook'))\n",
    "GROUP BY person_id) AS a;     "
   ]
  },
  {
   "cell_type": "markdown",
   "id": "5fca5d99",
   "metadata": {},
   "source": [
    "19.\n",
    "Составьте таблицу из полей:\n",
    " - `name_of_fund` — название фонда;\n",
    " - `name_of_company` — название компании;\n",
    " - `amount` — сумма инвестиций, которую привлекла компания в раунде.\n",
    "В таблицу войдут данные о компаниях, в истории которых было больше шести важных этапов, а раунды финансирования проходили с 2012 по 2013 год включительно."
   ]
  },
  {
   "cell_type": "code",
   "execution_count": null,
   "id": "142967a1",
   "metadata": {},
   "outputs": [],
   "source": [
    "WITH\n",
    "a AS ( SELECT id,\n",
    "       company_id,\n",
    "       raised_amount\n",
    "FROM funding_round\n",
    "WHERE company_id IN (SELECT id\n",
    "                     FROM company\n",
    "                     WHERE milestones > 6)\n",
    "  AND EXTRACT(YEAR FROM CAST(funded_at AS date)) BETWEEN '2012' AND '2013')  \n",
    "SELECT f.name AS name_of_fund,\n",
    "       c.name AS name_of_company,\n",
    "       a.raised_amount AS amount\n",
    "FROM a\n",
    "JOIN company AS c ON a.company_id = c.id \n",
    "JOIN investment AS i ON a.id = i.funding_round_id\n",
    "JOIN fund AS f ON i.fund_id = f.id;"
   ]
  },
  {
   "cell_type": "markdown",
   "id": "95369203",
   "metadata": {},
   "source": [
    "20.\n",
    "Выгрузите таблицу, в которой будут такие поля:\n",
    " - название компании-покупателя;\n",
    " - сумма сделки;\n",
    " - название компании, которую купили;\n",
    " - сумма инвестиций, вложенных в купленную компанию;\n",
    " - доля, которая отображает, во сколько раз сумма покупки превысила сумму вложенных в компанию инвестиций, округлённая до ближайшего целого числа.\n",
    "\n",
    "Не учитывайте те сделки, в которых сумма покупки равна нулю. Если сумма инвестиций в компанию равна нулю, исключите такую компанию из таблицы.\n",
    "\n",
    "Отсортируйте таблицу по сумме сделки от большей к меньшей, а затем по названию купленной компании в лексикографическом порядке. \n",
    "\n",
    "Ограничьте таблицу первыми десятью записями."
   ]
  },
  {
   "cell_type": "code",
   "execution_count": null,
   "id": "de3489bc",
   "metadata": {},
   "outputs": [],
   "source": [
    "SELECT c.name AS acquiring_company,\n",
    "       ac.price_amount AS price,\n",
    "       co.name AS acquired_company,\n",
    "       co.funding_total AS investment,\n",
    "       ROUND(ac.price_amount/co.funding_total) AS percent\n",
    "FROM acquisition AS ac\n",
    "LEFT OUTER JOIN company AS c ON ac.acquiring_company_id = c.id \n",
    "LEFT OUTER JOIN company AS co ON ac.acquired_company_id = co.id\n",
    "WHERE ac.price_amount!=0\n",
    "  AND co.funding_total!=0\n",
    "ORDER BY price DESC, acquired_company\n",
    "LIMIT 10;"
   ]
  },
  {
   "cell_type": "markdown",
   "id": "d3a86479",
   "metadata": {},
   "source": [
    "21.\n",
    "Выгрузите таблицу, в которую войдут названия компаний из категории `social`, получившие финансирование с 2010 по 2013 год включительно. Выведите также номер месяца, в котором проходил раунд финансирования."
   ]
  },
  {
   "cell_type": "code",
   "execution_count": null,
   "id": "61757a6b",
   "metadata": {},
   "outputs": [],
   "source": [
    "SELECT c.name,\n",
    "       EXTRACT(MONTH FROM CAST(fr.funded_at AS date))\n",
    "FROM company AS c\n",
    "RIGHT OUTER JOIN funding_round AS fr ON c.id = fr.company_id\n",
    "WHERE c.category_code = 'social'\n",
    "  AND EXTRACT(YEAR FROM CAST(fr.funded_at AS date)) BETWEEN '2010' AND '2013';"
   ]
  },
  {
   "cell_type": "markdown",
   "id": "d54760de",
   "metadata": {},
   "source": [
    "22.\n",
    "Отберите данные по месяцам с 2010 по 2013 год, когда проходили инвестиционные раунды. Сгруппируйте данные по номеру месяца и получите таблицу, в которой будут поля:\n",
    " - номер месяца, в котором проходили раунды;\n",
    " - количество уникальных названий фондов из США, которые инвестировали в этом месяце;\n",
    " - количество компаний, купленных за этот месяц;\n",
    " - общая сумма сделок по покупкам в этом месяце."
   ]
  },
  {
   "cell_type": "code",
   "execution_count": null,
   "id": "c4ca19ff",
   "metadata": {},
   "outputs": [],
   "source": [
    "WITH\n",
    "a AS (SELECT EXTRACT(MONTH FROM CAST(fr.funded_at AS date)) AS month, \n",
    "       COUNT(DISTINCT f.name) AS fond_usa\n",
    "FROM investment AS i \n",
    "LEFT OUTER JOIN funding_round AS fr ON i.funding_round_id = fr.id\n",
    "LEFT OUTER JOIN fund AS f ON i.fund_id = f.id\n",
    "WHERE EXTRACT(YEAR FROM CAST(fr.funded_at AS date)) BETWEEN '2010' AND '2013'\n",
    "  AND f.country_code = 'USA'\n",
    "GROUP BY EXTRACT(MONTH FROM CAST(fr.funded_at AS date))),\n",
    "b AS (SELECT EXTRACT(MONTH FROM CAST(acquired_at AS date)) AS month, \n",
    "       COUNT(acquired_company_id) AS acquired_company,\n",
    "       SUM(price_amount) AS total_sum\n",
    "FROM acquisition \n",
    "WHERE EXTRACT(YEAR FROM CAST(acquired_at AS date)) BETWEEN '2010' AND '2013'\n",
    "GROUP BY EXTRACT(MONTH FROM CAST(acquired_at AS date)))\n",
    "SELECT a.month,\n",
    "       a.fond_usa,\n",
    "       b.acquired_company,\n",
    "       b.total_sum\n",
    "FROM a JOIN b ON a.month = b.month;"
   ]
  },
  {
   "cell_type": "markdown",
   "id": "42c375e9",
   "metadata": {},
   "source": [
    "23.\n",
    "Составьте сводную таблицу и выведите среднюю сумму инвестиций для стран, в которых есть стартапы, зарегистрированные в 2011, 2012 и 2013 годах. Данные за каждый год должны быть в отдельном поле. Отсортируйте таблицу по среднему значению инвестиций за 2011 год от большего к меньшему."
   ]
  },
  {
   "cell_type": "code",
   "execution_count": null,
   "id": "7a74720f",
   "metadata": {},
   "outputs": [],
   "source": [
    "WITH\n",
    "a AS (SELECT country_code AS country,\n",
    "             AVG(funding_total) AS year_2011\n",
    "      FROM company\n",
    "      WHERE EXTRACT(YEAR FROM CAST(founded_at AS date)) = 2011\n",
    "      GROUP BY country_code),\n",
    "b AS (SELECT country_code AS country,\n",
    "             AVG(funding_total) AS year_2012\n",
    "      FROM company\n",
    "      WHERE EXTRACT(YEAR FROM CAST(founded_at AS date)) = 2012\n",
    "      GROUP BY country_code),\n",
    "c AS (SELECT country_code AS country,\n",
    "             AVG(funding_total) AS year_2013\n",
    "      FROM company\n",
    "      WHERE EXTRACT(YEAR FROM CAST(founded_at AS date)) = 2013\n",
    "      GROUP BY country_code)\n",
    "SELECT a.country,\n",
    "       a.year_2011,\n",
    "       b.year_2012,\n",
    "       c.year_2013\n",
    "FROM a JOIN b ON a.country = b.country\n",
    "JOIN c ON a.country = c.country\n",
    "ORDER BY a.year_2011 DESC;"
   ]
  }
 ],
 "metadata": {
  "ExecuteTimeLog": [
   {
    "duration": 48,
    "start_time": "2022-09-08T03:42:53.458Z"
   },
   {
    "duration": 52,
    "start_time": "2022-09-08T03:45:09.049Z"
   },
   {
    "duration": 52,
    "start_time": "2022-09-08T03:45:23.699Z"
   },
   {
    "duration": 80,
    "start_time": "2022-09-08T03:49:28.302Z"
   }
  ],
  "kernelspec": {
   "display_name": "Python 3 (ipykernel)",
   "language": "python",
   "name": "python3"
  },
  "language_info": {
   "codemirror_mode": {
    "name": "ipython",
    "version": 3
   },
   "file_extension": ".py",
   "mimetype": "text/x-python",
   "name": "python",
   "nbconvert_exporter": "python",
   "pygments_lexer": "ipython3",
   "version": "3.9.5"
  },
  "toc": {
   "base_numbering": 1,
   "nav_menu": {},
   "number_sections": true,
   "sideBar": true,
   "skip_h1_title": true,
   "title_cell": "Table of Contents",
   "title_sidebar": "Contents",
   "toc_cell": false,
   "toc_position": {},
   "toc_section_display": true,
   "toc_window_display": false
  }
 },
 "nbformat": 4,
 "nbformat_minor": 5
}
