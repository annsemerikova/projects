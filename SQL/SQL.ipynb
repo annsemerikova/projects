{
 "cells": [
  {
   "cell_type": "markdown",
   "id": "534f5a60",
   "metadata": {},
   "source": [
    "# Описание"
   ]
  },
  {
   "cell_type": "markdown",
   "id": "6d2cdc14",
   "metadata": {},
   "source": [
    "Коронавирус застал мир врасплох, изменив привычный порядок вещей. В\n",
    "свободное время жители городов больше не выходят на улицу, не посещают кафе\n",
    "и торговые центры, предпочитают провест время за чтением книги. \n",
    "\n",
    "Для компании, которой принадлежит крупный сервис для чтения книг по подписке, необходимо провести исследование. Результаты аналитической работы позволят компании сформулировать ценностное предложение для нового продукта.\n",
    "\n",
    "**Цель исследования:** — проанализировать базу данных сервиса для чтения книг по подписке.\n",
    "\n",
    "В базе данных хранится информация о книгах, издательствах, авторах, а также пользовательские\n",
    "обзоры книг. \n",
    "\n",
    "**Описание данных**\n",
    "\n",
    "**Таблица** `books`\n",
    "\n",
    "Содержит данные о книгах:\n",
    "\n",
    "`book_id` — идентификатор книги;\n",
    "\n",
    "`author_id` — идентификатор автора;\n",
    "\n",
    "`title` — название книги;\n",
    "\n",
    "`num_pages` — количество страниц;\n",
    "\n",
    "`publication_date` — дата публикации книги;\n",
    "\n",
    "`publisher_id` — идентификатор издателя.\n",
    "\n",
    "**Таблица** `authors`\n",
    "\n",
    "\n",
    "Содержит данные об авторах:\n",
    "\n",
    "`author_id` — идентификатор автора;\n",
    "\n",
    "`author` — имя автора.\n",
    "\n",
    "**Таблица** `publishers`\n",
    "\n",
    "Содержит данные об издательствах:\n",
    "\n",
    "`publisher_id` — идентификатор издательства;\n",
    "\n",
    "`publisher` — название издательства;\n",
    "\n",
    "**Таблица** `ratings`\n",
    "\n",
    "Содержит данные о пользовательских оценках книг:\n",
    "\n",
    "`rating_id` — идентификатор оценки;\n",
    "\n",
    "`book_id` — идентификатор книги;\n",
    "\n",
    "`username` — имя пользователя, оставившего оценку;\n",
    "\n",
    "`rating` — оценка книги.\n",
    "\n",
    "**Таблица** `reviews`\n",
    "\n",
    "Содержит данные о пользовательских обзорах на книги:\n",
    "\n",
    "`review_id` — идентификатор обзора;\n",
    "\n",
    "`book_id` — идентификатор книги;\n",
    "\n",
    "`username` — имя пользователя, написавшего обзор;\n",
    "\n",
    "`text` — текст обзора."
   ]
  },
  {
   "cell_type": "code",
   "execution_count": 4,
   "id": "a63cad2e",
   "metadata": {},
   "outputs": [
    {
     "data": {
      "text/html": [
       "<img src=\"https://pictures.s3.yandex.net/resources/scheme_1589269096.png\" width=\"700\"/>"
      ],
      "text/plain": [
       "<IPython.core.display.Image object>"
      ]
     },
     "metadata": {},
     "output_type": "display_data"
    }
   ],
   "source": [
    "from IPython.display import Image\n",
    "display(Image(url='https://pictures.s3.yandex.net/resources/scheme_1589269096.png', \n",
    "              width = 700) \n",
    "       ) \n"
   ]
  },
  {
   "cell_type": "markdown",
   "id": "12823bc4",
   "metadata": {},
   "source": [
    "# Шаг 1. Загрузка данных"
   ]
  },
  {
   "cell_type": "code",
   "execution_count": 1,
   "id": "f0efa328",
   "metadata": {},
   "outputs": [],
   "source": [
    "# импортируем библиотеки\n",
    "import pandas as pd\n",
    "from sqlalchemy import create_engine"
   ]
  },
  {
   "cell_type": "code",
   "execution_count": 2,
   "id": "3d45da83",
   "metadata": {},
   "outputs": [],
   "source": [
    "# устанавливаем параметры\n",
    "db_config = {'user': 'praktikum_student', # имя пользователя\n",
    " 'pwd': 'Sdf4$2;d-d30pp', # пароль\n",
    " 'host': 'rc1b-wcoijxj3yxfsf3fs.mdb.yandexcloud.net',\n",
    " 'port': 6432, # порт подключения\n",
    " 'db': 'data-analyst-final-project-db'} # название базы данных\n",
    "connection_string = 'postgresql://{}:{}@{}:{}/{}'.format(db_config['user'],\n",
    "                                                         db_config['pwd'],\n",
    "                                                         db_config['host'],\n",
    "                                                         db_config['port'],\n",
    "                                                         db_config['db'])\n",
    "\n",
    "# сохраняем коннектор\n",
    "engine = create_engine(connection_string, connect_args={'sslmode':'require'}) "
   ]
  },
  {
   "cell_type": "markdown",
   "id": "0d0875a1",
   "metadata": {},
   "source": [
    "# Шаг 2. Получение информации из базы данных"
   ]
  },
  {
   "cell_type": "markdown",
   "id": "b3e1d2df",
   "metadata": {},
   "source": [
    "**Узнаем, сколько книг вышло после 1 января 2000 года**"
   ]
  },
  {
   "cell_type": "code",
   "execution_count": 3,
   "id": "5995c87d",
   "metadata": {},
   "outputs": [
    {
     "name": "stdout",
     "output_type": "stream",
     "text": [
      "   count\n",
      "0    819\n"
     ]
    }
   ],
   "source": [
    "query = ''' SELECT COUNT (book_id)\n",
    "            FROM books\n",
    "            WHERE publication_date > '2000-01-01';\n",
    "        '''\n",
    "\n",
    "books_df = pd.io.sql.read_sql(query, con=engine)\n",
    "\n",
    "print(books_df.head(5))\n"
   ]
  },
  {
   "cell_type": "markdown",
   "id": "1acc48d1",
   "metadata": {},
   "source": [
    "**В базе данных хранится 819 книг, вышедших с 1 января 2000 года**"
   ]
  },
  {
   "cell_type": "markdown",
   "id": "5d211205",
   "metadata": {},
   "source": [
    "**Найдем для каждой книги количество обзоров и среднюю оценку**"
   ]
  },
  {
   "cell_type": "code",
   "execution_count": 4,
   "id": "83f89b17",
   "metadata": {
    "scrolled": true
   },
   "outputs": [
    {
     "name": "stdout",
     "output_type": "stream",
     "text": [
      "                                                 title   avg  count\n",
      "0    Captivating: Unveiling the Mystery of a Woman'...  5.00      4\n",
      "1                                        Evening Class  5.00      4\n",
      "2    In the Hand of the Goddess (Song of the Liones...  5.00      6\n",
      "3                   The Big Bad Wolf  (Alex Cross  #9)  5.00      4\n",
      "4                        A Dirty Job (Grim Reaper  #1)  5.00     16\n",
      "..                                                 ...   ...    ...\n",
      "994  The World Is Flat: A Brief History of the Twen...  2.25     12\n",
      "995                  His Excellency: George Washington  2.00      4\n",
      "996                                              Junky  2.00      4\n",
      "997                                      Drowning Ruth  2.00      9\n",
      "998                               Harvesting the Heart  1.50      4\n",
      "\n",
      "[999 rows x 3 columns]\n"
     ]
    }
   ],
   "source": [
    "query = ''' SELECT b.title,\n",
    "                   AVG(r.rating),       \n",
    "                   COUNT(rw.review_id)\n",
    "            FROM books AS b\n",
    "            LEFT JOIN ratings AS r ON b.book_id = r.book_id\n",
    "            LEFT JOIN reviews AS rw ON b.book_id = rw.book_id\n",
    "            GROUP BY b.title\n",
    "            ORDER BY AVG(r.rating) DESC;\n",
    "        '''\n",
    "\n",
    "books_df = pd.io.sql.read_sql(query, con=engine)\n",
    "\n",
    "print(books_df)"
   ]
  },
  {
   "cell_type": "markdown",
   "id": "e530652e",
   "metadata": {},
   "source": [
    "**Узнаем сколько книг в базах данных**"
   ]
  },
  {
   "cell_type": "code",
   "execution_count": 5,
   "id": "21464a95",
   "metadata": {},
   "outputs": [
    {
     "name": "stdout",
     "output_type": "stream",
     "text": [
      "   count\n",
      "0    999\n"
     ]
    }
   ],
   "source": [
    "query = ''' SELECT COUNT(DISTINCT title)\n",
    "            FROM books;\n",
    "        '''\n",
    "\n",
    "books_df = pd.io.sql.read_sql(query, con=engine)\n",
    "\n",
    "print(books_df)"
   ]
  },
  {
   "cell_type": "code",
   "execution_count": 6,
   "id": "2ca258cf",
   "metadata": {
    "scrolled": true
   },
   "outputs": [
    {
     "name": "stdout",
     "output_type": "stream",
     "text": [
      "   count\n",
      "0   1000\n"
     ]
    }
   ],
   "source": [
    "query = ''' SELECT COUNT(DISTINCT book_id)\n",
    "            FROM books;\n",
    "        '''\n",
    "\n",
    "books_df = pd.io.sql.read_sql(query, con=engine)\n",
    "\n",
    "print(books_df)"
   ]
  },
  {
   "cell_type": "markdown",
   "id": "f15cf0d0",
   "metadata": {},
   "source": [
    "**Уникальных названий 999, а всего 1000 книг**"
   ]
  },
  {
   "cell_type": "code",
   "execution_count": 7,
   "id": "b8d8ffbd",
   "metadata": {},
   "outputs": [
    {
     "name": "stdout",
     "output_type": "stream",
     "text": [
      "                                                 title   avg  count\n",
      "0        Arrows of the Queen (Heralds of Valdemar  #1)  5.00      2\n",
      "1    The Walking Dead  Book One (The Walking Dead #...  5.00      2\n",
      "2                                      Light in August  5.00      2\n",
      "3    Wherever You Go  There You Are: Mindfulness Me...  5.00      2\n",
      "4    Captivating: Unveiling the Mystery of a Woman'...  5.00      2\n",
      "..                                                 ...   ...    ...\n",
      "995  The World Is Flat: A Brief History of the Twen...  2.25      3\n",
      "996                  His Excellency: George Washington  2.00      2\n",
      "997                                      Drowning Ruth  2.00      3\n",
      "998                                              Junky  2.00      2\n",
      "999                               Harvesting the Heart  1.50      2\n",
      "\n",
      "[1000 rows x 3 columns]\n"
     ]
    }
   ],
   "source": [
    "query = ''' SELECT b.title,\n",
    "                   AVG(r.rating),       \n",
    "                   COUNT(DISTINCT rw.review_id)\n",
    "            FROM books AS b\n",
    "            LEFT JOIN ratings AS r ON b.book_id = r.book_id\n",
    "            LEFT JOIN reviews AS rw ON b.book_id = rw.book_id\n",
    "            GROUP BY b.book_id\n",
    "            ORDER BY AVG(r.rating) DESC;\n",
    "        '''\n",
    "\n",
    "books_df = pd.io.sql.read_sql(query, con=engine)\n",
    "\n",
    "print(books_df)"
   ]
  },
  {
   "cell_type": "markdown",
   "id": "a59baf67",
   "metadata": {},
   "source": [
    "**На основе этих данных пользователям приложения можно предлагать книги, например, с наивысшим рейтингом**"
   ]
  },
  {
   "cell_type": "markdown",
   "id": "5548753b",
   "metadata": {},
   "source": [
    "**Определим издательство, которое выпустило наибольшее число книг толще 50 страниц**"
   ]
  },
  {
   "cell_type": "code",
   "execution_count": 8,
   "id": "1108124a",
   "metadata": {
    "scrolled": true
   },
   "outputs": [
    {
     "name": "stdout",
     "output_type": "stream",
     "text": [
      "       publisher\n",
      "0  Penguin Books\n"
     ]
    }
   ],
   "source": [
    "query = ''' SELECT p.publisher     \n",
    "            FROM publishers AS p\n",
    "            LEFT JOIN books AS b ON p.publisher_id = b.publisher_id\n",
    "            WHERE b.num_pages > 50\n",
    "            GROUP BY p.publisher\n",
    "            ORDER BY COUNT(b.book_id) DESC\n",
    "            LIMIT 1;\n",
    "        '''\n",
    "\n",
    "books_df = pd.io.sql.read_sql(query, con=engine)\n",
    "\n",
    "print(books_df)"
   ]
  },
  {
   "cell_type": "markdown",
   "id": "dd4caa96",
   "metadata": {},
   "source": [
    "**Согласно полученным данным Penguin Books издает наибольшее количество книг**"
   ]
  },
  {
   "cell_type": "markdown",
   "id": "0910ac44",
   "metadata": {},
   "source": [
    "**Определим автора с самой высокой средней оценкой книг (учитены книги с 50 и более оценками)**"
   ]
  },
  {
   "cell_type": "code",
   "execution_count": 9,
   "id": "0b676a11",
   "metadata": {},
   "outputs": [
    {
     "name": "stdout",
     "output_type": "stream",
     "text": [
      "                       author\n",
      "0  J.K. Rowling/Mary GrandPré\n"
     ]
    }
   ],
   "source": [
    "query = ''' SELECT a.author\n",
    "            FROM authors AS a\n",
    "            LEFT JOIN books AS b ON a.author_id = b.author_id\n",
    "            WHERE book_id IN (SELECT book_id                      \n",
    "                              FROM ratings   \n",
    "                              GROUP BY book_id\n",
    "                              HAVING COUNT(rating) >= 50\n",
    "                              ORDER BY AVG(rating) DESC\n",
    "                              LIMIT 1);\n",
    "                 \n",
    "        '''\n",
    "\n",
    "books_df = pd.io.sql.read_sql(query, con=engine)\n",
    "\n",
    "print(books_df)"
   ]
  },
  {
   "cell_type": "markdown",
   "id": "b7ceefa1",
   "metadata": {},
   "source": [
    "**Книги Джоан Роулинг имеют самую высокую среднюю оценку. Данную информацию можно также учитывать при разработке нового продукта приложения для читателей**"
   ]
  },
  {
   "cell_type": "markdown",
   "id": "7dc55858",
   "metadata": {},
   "source": [
    "**Посчитаем среднее количество обзоров от пользователей, которые поставили больше 50 оценок**\n"
   ]
  },
  {
   "cell_type": "code",
   "execution_count": 10,
   "id": "42b0a815",
   "metadata": {},
   "outputs": [
    {
     "name": "stdout",
     "output_type": "stream",
     "text": [
      "         avg\n",
      "0  24.333333\n"
     ]
    }
   ],
   "source": [
    "query = ''' SELECT AVG(review)\n",
    "            FROM\n",
    "            (SELECT username,\n",
    "                   COUNT(review_id) AS review\n",
    "            FROM reviews\n",
    "            WHERE username IN(SELECT username\n",
    "                              FROM ratings\n",
    "                              GROUP BY username \n",
    "                              HAVING COUNT(rating) > 50)\n",
    "            GROUP BY username) AS i;\n",
    "        '''\n",
    "\n",
    "books_df = pd.io.sql.read_sql(query, con=engine)\n",
    "\n",
    "print(books_df)"
   ]
  },
  {
   "cell_type": "markdown",
   "id": "34496ea0",
   "metadata": {},
   "source": [
    "**В среднем пользователи, которые оставили больше 50 оценок, пишут по 24 отзыва.**"
   ]
  },
  {
   "cell_type": "markdown",
   "id": "1a9996c9",
   "metadata": {},
   "source": [
    "## Общий вывод:\n",
    "\n",
    "В результате анализа баз данных удалось получить следующую информацию:\n",
    "- в базе данных хранится 819 книг, вышедших с 1 января 2000 года;\n",
    "- нашли для каждой книги количество обзоров и среднюю оценку;\n",
    "- издательство Penguin Books выпустило наибольшее число книг толще 50 страниц;\n",
    "- Джоан Роулинг является автором с самой высокой средней оценкой книг (учитены книги с 50 и более оценками);\n",
    "- среднее количество обзоров от пользователей, которые поставили больше 50 оценок, составляет 24.3\n",
    "\n",
    "На основе полученных данных пользователям приложения можно рекомендовать книги, авторов, издания книг. Также можно выявлять активных пользователей. "
   ]
  },
  {
   "cell_type": "code",
   "execution_count": null,
   "id": "a10ea1ef",
   "metadata": {},
   "outputs": [],
   "source": []
  }
 ],
 "metadata": {
  "ExecuteTimeLog": [
   {
    "duration": 62,
    "start_time": "2022-08-03T17:19:00.124Z"
   },
   {
    "duration": 493,
    "start_time": "2022-08-03T17:19:06.962Z"
   },
   {
    "duration": 7467,
    "start_time": "2022-08-03T17:19:07.457Z"
   },
   {
    "duration": 288,
    "start_time": "2022-08-03T17:19:14.925Z"
   },
   {
    "duration": 155,
    "start_time": "2022-08-03T17:19:15.214Z"
   },
   {
    "duration": 93,
    "start_time": "2022-08-03T17:19:15.371Z"
   },
   {
    "duration": 98,
    "start_time": "2022-08-03T17:19:15.466Z"
   },
   {
    "duration": 97,
    "start_time": "2022-08-03T17:19:15.566Z"
   },
   {
    "duration": 143,
    "start_time": "2022-08-03T17:25:04.398Z"
   },
   {
    "duration": 95,
    "start_time": "2022-08-03T17:25:23.682Z"
   },
   {
    "duration": 99,
    "start_time": "2022-08-03T17:26:40.953Z"
   },
   {
    "duration": 97,
    "start_time": "2022-08-03T17:32:17.526Z"
   },
   {
    "duration": 100,
    "start_time": "2022-08-03T17:35:00.642Z"
   },
   {
    "duration": 44,
    "start_time": "2022-08-03T17:35:43.537Z"
   },
   {
    "duration": 281,
    "start_time": "2022-08-03T17:42:01.852Z"
   },
   {
    "duration": 137,
    "start_time": "2022-08-03T17:42:20.492Z"
   },
   {
    "duration": 540,
    "start_time": "2022-08-03T18:16:00.132Z"
   },
   {
    "duration": 6013,
    "start_time": "2022-08-03T18:16:00.675Z"
   },
   {
    "duration": 267,
    "start_time": "2022-08-03T18:16:06.689Z"
   },
   {
    "duration": 120,
    "start_time": "2022-08-03T18:16:06.957Z"
   },
   {
    "duration": 85,
    "start_time": "2022-08-03T18:16:07.079Z"
   },
   {
    "duration": 68,
    "start_time": "2022-08-03T18:16:07.166Z"
   },
   {
    "duration": 98,
    "start_time": "2022-08-03T18:16:07.236Z"
   },
   {
    "duration": 80,
    "start_time": "2022-08-03T18:16:07.336Z"
   },
   {
    "duration": 63,
    "start_time": "2022-08-03T18:16:07.420Z"
   },
   {
    "duration": 77,
    "start_time": "2022-08-03T18:16:07.485Z"
   },
   {
    "duration": 477,
    "start_time": "2022-09-22T06:57:40.909Z"
   },
   {
    "duration": 14,
    "start_time": "2022-09-22T06:59:34.601Z"
   },
   {
    "duration": 4,
    "start_time": "2022-09-22T06:59:44.941Z"
   },
   {
    "duration": 4,
    "start_time": "2022-09-22T06:59:51.631Z"
   }
  ],
  "kernelspec": {
   "display_name": "Python 3 (ipykernel)",
   "language": "python",
   "name": "python3"
  },
  "language_info": {
   "codemirror_mode": {
    "name": "ipython",
    "version": 3
   },
   "file_extension": ".py",
   "mimetype": "text/x-python",
   "name": "python",
   "nbconvert_exporter": "python",
   "pygments_lexer": "ipython3",
   "version": "3.9.5"
  },
  "toc": {
   "base_numbering": 1,
   "nav_menu": {},
   "number_sections": true,
   "sideBar": true,
   "skip_h1_title": true,
   "title_cell": "Table of Contents",
   "title_sidebar": "Contents",
   "toc_cell": false,
   "toc_position": {},
   "toc_section_display": true,
   "toc_window_display": false
  }
 },
 "nbformat": 4,
 "nbformat_minor": 5
}
