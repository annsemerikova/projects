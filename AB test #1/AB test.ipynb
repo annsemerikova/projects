{
 "cells": [
  {
   "cell_type": "markdown",
   "metadata": {},
   "source": [
    "## Часть 1. Приоритизация гипотез."
   ]
  },
  {
   "cell_type": "code",
   "execution_count": 1,
   "metadata": {},
   "outputs": [],
   "source": [
    "# Подключим необходимые для работы библиотеки\n",
    "import pandas as pd\n",
    "import scipy.stats as stats\n",
    "import datetime as dt\n",
    "import numpy as np\n",
    "import matplotlib.pyplot as plt\n",
    "pd.options.display.max_colwidth = 150"
   ]
  },
  {
   "cell_type": "code",
   "execution_count": 2,
   "metadata": {},
   "outputs": [
    {
     "data": {
      "text/html": [
       "<div>\n",
       "<style scoped>\n",
       "    .dataframe tbody tr th:only-of-type {\n",
       "        vertical-align: middle;\n",
       "    }\n",
       "\n",
       "    .dataframe tbody tr th {\n",
       "        vertical-align: top;\n",
       "    }\n",
       "\n",
       "    .dataframe thead th {\n",
       "        text-align: right;\n",
       "    }\n",
       "</style>\n",
       "<table border=\"1\" class=\"dataframe\">\n",
       "  <thead>\n",
       "    <tr style=\"text-align: right;\">\n",
       "      <th></th>\n",
       "      <th>Hypothesis</th>\n",
       "      <th>Reach</th>\n",
       "      <th>Impact</th>\n",
       "      <th>Confidence</th>\n",
       "      <th>Efforts</th>\n",
       "    </tr>\n",
       "  </thead>\n",
       "  <tbody>\n",
       "    <tr>\n",
       "      <th>0</th>\n",
       "      <td>Добавить два новых канала привлечения трафика, что позволит привлекать на 30% больше пользователей</td>\n",
       "      <td>3</td>\n",
       "      <td>10</td>\n",
       "      <td>8</td>\n",
       "      <td>6</td>\n",
       "    </tr>\n",
       "    <tr>\n",
       "      <th>1</th>\n",
       "      <td>Запустить собственную службу доставки, что сократит срок доставки заказов</td>\n",
       "      <td>2</td>\n",
       "      <td>5</td>\n",
       "      <td>4</td>\n",
       "      <td>10</td>\n",
       "    </tr>\n",
       "    <tr>\n",
       "      <th>2</th>\n",
       "      <td>Добавить блоки рекомендаций товаров на сайт интернет магазина, чтобы повысить конверсию и средний чек заказа</td>\n",
       "      <td>8</td>\n",
       "      <td>3</td>\n",
       "      <td>7</td>\n",
       "      <td>3</td>\n",
       "    </tr>\n",
       "    <tr>\n",
       "      <th>3</th>\n",
       "      <td>Изменить структура категорий, что увеличит конверсию, т.к. пользователи быстрее найдут нужный товар</td>\n",
       "      <td>8</td>\n",
       "      <td>3</td>\n",
       "      <td>3</td>\n",
       "      <td>8</td>\n",
       "    </tr>\n",
       "    <tr>\n",
       "      <th>4</th>\n",
       "      <td>Изменить цвет фона главной страницы, чтобы увеличить вовлеченность пользователей</td>\n",
       "      <td>3</td>\n",
       "      <td>1</td>\n",
       "      <td>1</td>\n",
       "      <td>1</td>\n",
       "    </tr>\n",
       "    <tr>\n",
       "      <th>5</th>\n",
       "      <td>Добавить страницу отзывов клиентов о магазине, что позволит увеличить количество заказов</td>\n",
       "      <td>3</td>\n",
       "      <td>2</td>\n",
       "      <td>2</td>\n",
       "      <td>3</td>\n",
       "    </tr>\n",
       "    <tr>\n",
       "      <th>6</th>\n",
       "      <td>Показать на главной странице баннеры с актуальными акциями и распродажами, чтобы увеличить конверсию</td>\n",
       "      <td>5</td>\n",
       "      <td>3</td>\n",
       "      <td>8</td>\n",
       "      <td>3</td>\n",
       "    </tr>\n",
       "    <tr>\n",
       "      <th>7</th>\n",
       "      <td>Добавить форму подписки на все основные страницы, чтобы собрать базу клиентов для email-рассылок</td>\n",
       "      <td>10</td>\n",
       "      <td>7</td>\n",
       "      <td>8</td>\n",
       "      <td>5</td>\n",
       "    </tr>\n",
       "    <tr>\n",
       "      <th>8</th>\n",
       "      <td>Запустить акцию, дающую скидку на товар в день рождения</td>\n",
       "      <td>1</td>\n",
       "      <td>9</td>\n",
       "      <td>9</td>\n",
       "      <td>5</td>\n",
       "    </tr>\n",
       "  </tbody>\n",
       "</table>\n",
       "</div>"
      ],
      "text/plain": [
       "                                                                                                     Hypothesis  \\\n",
       "0            Добавить два новых канала привлечения трафика, что позволит привлекать на 30% больше пользователей   \n",
       "1                                     Запустить собственную службу доставки, что сократит срок доставки заказов   \n",
       "2  Добавить блоки рекомендаций товаров на сайт интернет магазина, чтобы повысить конверсию и средний чек заказа   \n",
       "3           Изменить структура категорий, что увеличит конверсию, т.к. пользователи быстрее найдут нужный товар   \n",
       "4                              Изменить цвет фона главной страницы, чтобы увеличить вовлеченность пользователей   \n",
       "5                      Добавить страницу отзывов клиентов о магазине, что позволит увеличить количество заказов   \n",
       "6          Показать на главной странице баннеры с актуальными акциями и распродажами, чтобы увеличить конверсию   \n",
       "7              Добавить форму подписки на все основные страницы, чтобы собрать базу клиентов для email-рассылок   \n",
       "8                                                       Запустить акцию, дающую скидку на товар в день рождения   \n",
       "\n",
       "   Reach  Impact  Confidence  Efforts  \n",
       "0      3      10           8        6  \n",
       "1      2       5           4       10  \n",
       "2      8       3           7        3  \n",
       "3      8       3           3        8  \n",
       "4      3       1           1        1  \n",
       "5      3       2           2        3  \n",
       "6      5       3           8        3  \n",
       "7     10       7           8        5  \n",
       "8      1       9           9        5  "
      ]
     },
     "metadata": {},
     "output_type": "display_data"
    }
   ],
   "source": [
    "# Загрузим данные и сохраним их в переменную\n",
    "data = pd.read_csv('/datasets/hypothesis.csv')\n",
    "display(data)"
   ]
  },
  {
   "cell_type": "code",
   "execution_count": 3,
   "metadata": {},
   "outputs": [
    {
     "data": {
      "text/plain": [
       "Index(['hypothesis', 'reach', 'impact', 'confidence', 'efforts'], dtype='object')"
      ]
     },
     "execution_count": 3,
     "metadata": {},
     "output_type": "execute_result"
    }
   ],
   "source": [
    "# Для удобства приведем названия колонок к нижнему регистру\n",
    "data.columns = data.columns.str.lower()\n",
    "data.columns"
   ]
  },
  {
   "cell_type": "markdown",
   "metadata": {},
   "source": [
    "### Приоритизация гипотез методом ICE"
   ]
  },
  {
   "cell_type": "code",
   "execution_count": 4,
   "metadata": {},
   "outputs": [
    {
     "data": {
      "text/html": [
       "<div>\n",
       "<style scoped>\n",
       "    .dataframe tbody tr th:only-of-type {\n",
       "        vertical-align: middle;\n",
       "    }\n",
       "\n",
       "    .dataframe tbody tr th {\n",
       "        vertical-align: top;\n",
       "    }\n",
       "\n",
       "    .dataframe thead th {\n",
       "        text-align: right;\n",
       "    }\n",
       "</style>\n",
       "<table border=\"1\" class=\"dataframe\">\n",
       "  <thead>\n",
       "    <tr style=\"text-align: right;\">\n",
       "      <th></th>\n",
       "      <th>hypothesis</th>\n",
       "      <th>ICE</th>\n",
       "    </tr>\n",
       "  </thead>\n",
       "  <tbody>\n",
       "    <tr>\n",
       "      <th>8</th>\n",
       "      <td>Запустить акцию, дающую скидку на товар в день рождения</td>\n",
       "      <td>16.200000</td>\n",
       "    </tr>\n",
       "    <tr>\n",
       "      <th>0</th>\n",
       "      <td>Добавить два новых канала привлечения трафика, что позволит привлекать на 30% больше пользователей</td>\n",
       "      <td>13.333333</td>\n",
       "    </tr>\n",
       "    <tr>\n",
       "      <th>7</th>\n",
       "      <td>Добавить форму подписки на все основные страницы, чтобы собрать базу клиентов для email-рассылок</td>\n",
       "      <td>11.200000</td>\n",
       "    </tr>\n",
       "    <tr>\n",
       "      <th>6</th>\n",
       "      <td>Показать на главной странице баннеры с актуальными акциями и распродажами, чтобы увеличить конверсию</td>\n",
       "      <td>8.000000</td>\n",
       "    </tr>\n",
       "    <tr>\n",
       "      <th>2</th>\n",
       "      <td>Добавить блоки рекомендаций товаров на сайт интернет магазина, чтобы повысить конверсию и средний чек заказа</td>\n",
       "      <td>7.000000</td>\n",
       "    </tr>\n",
       "    <tr>\n",
       "      <th>1</th>\n",
       "      <td>Запустить собственную службу доставки, что сократит срок доставки заказов</td>\n",
       "      <td>2.000000</td>\n",
       "    </tr>\n",
       "    <tr>\n",
       "      <th>5</th>\n",
       "      <td>Добавить страницу отзывов клиентов о магазине, что позволит увеличить количество заказов</td>\n",
       "      <td>1.333333</td>\n",
       "    </tr>\n",
       "    <tr>\n",
       "      <th>3</th>\n",
       "      <td>Изменить структура категорий, что увеличит конверсию, т.к. пользователи быстрее найдут нужный товар</td>\n",
       "      <td>1.125000</td>\n",
       "    </tr>\n",
       "    <tr>\n",
       "      <th>4</th>\n",
       "      <td>Изменить цвет фона главной страницы, чтобы увеличить вовлеченность пользователей</td>\n",
       "      <td>1.000000</td>\n",
       "    </tr>\n",
       "  </tbody>\n",
       "</table>\n",
       "</div>"
      ],
      "text/plain": [
       "                                                                                                     hypothesis  \\\n",
       "8                                                       Запустить акцию, дающую скидку на товар в день рождения   \n",
       "0            Добавить два новых канала привлечения трафика, что позволит привлекать на 30% больше пользователей   \n",
       "7              Добавить форму подписки на все основные страницы, чтобы собрать базу клиентов для email-рассылок   \n",
       "6          Показать на главной странице баннеры с актуальными акциями и распродажами, чтобы увеличить конверсию   \n",
       "2  Добавить блоки рекомендаций товаров на сайт интернет магазина, чтобы повысить конверсию и средний чек заказа   \n",
       "1                                     Запустить собственную службу доставки, что сократит срок доставки заказов   \n",
       "5                      Добавить страницу отзывов клиентов о магазине, что позволит увеличить количество заказов   \n",
       "3           Изменить структура категорий, что увеличит конверсию, т.к. пользователи быстрее найдут нужный товар   \n",
       "4                              Изменить цвет фона главной страницы, чтобы увеличить вовлеченность пользователей   \n",
       "\n",
       "         ICE  \n",
       "8  16.200000  \n",
       "0  13.333333  \n",
       "7  11.200000  \n",
       "6   8.000000  \n",
       "2   7.000000  \n",
       "1   2.000000  \n",
       "5   1.333333  \n",
       "3   1.125000  \n",
       "4   1.000000  "
      ]
     },
     "execution_count": 4,
     "metadata": {},
     "output_type": "execute_result"
    }
   ],
   "source": [
    "data['ICE'] = (data['impact'] * data['confidence']) / data['efforts']\n",
    "data[['hypothesis', 'ICE']].sort_values(by='ICE', ascending=False)"
   ]
  },
  {
   "cell_type": "markdown",
   "metadata": {},
   "source": [
    "### Приоритизация гипотез методом RICE"
   ]
  },
  {
   "cell_type": "code",
   "execution_count": 5,
   "metadata": {},
   "outputs": [
    {
     "data": {
      "text/html": [
       "<div>\n",
       "<style scoped>\n",
       "    .dataframe tbody tr th:only-of-type {\n",
       "        vertical-align: middle;\n",
       "    }\n",
       "\n",
       "    .dataframe tbody tr th {\n",
       "        vertical-align: top;\n",
       "    }\n",
       "\n",
       "    .dataframe thead th {\n",
       "        text-align: right;\n",
       "    }\n",
       "</style>\n",
       "<table border=\"1\" class=\"dataframe\">\n",
       "  <thead>\n",
       "    <tr style=\"text-align: right;\">\n",
       "      <th></th>\n",
       "      <th>hypothesis</th>\n",
       "      <th>RICE</th>\n",
       "    </tr>\n",
       "  </thead>\n",
       "  <tbody>\n",
       "    <tr>\n",
       "      <th>7</th>\n",
       "      <td>Добавить форму подписки на все основные страницы, чтобы собрать базу клиентов для email-рассылок</td>\n",
       "      <td>112.0</td>\n",
       "    </tr>\n",
       "    <tr>\n",
       "      <th>2</th>\n",
       "      <td>Добавить блоки рекомендаций товаров на сайт интернет магазина, чтобы повысить конверсию и средний чек заказа</td>\n",
       "      <td>56.0</td>\n",
       "    </tr>\n",
       "    <tr>\n",
       "      <th>0</th>\n",
       "      <td>Добавить два новых канала привлечения трафика, что позволит привлекать на 30% больше пользователей</td>\n",
       "      <td>40.0</td>\n",
       "    </tr>\n",
       "    <tr>\n",
       "      <th>6</th>\n",
       "      <td>Показать на главной странице баннеры с актуальными акциями и распродажами, чтобы увеличить конверсию</td>\n",
       "      <td>40.0</td>\n",
       "    </tr>\n",
       "    <tr>\n",
       "      <th>8</th>\n",
       "      <td>Запустить акцию, дающую скидку на товар в день рождения</td>\n",
       "      <td>16.2</td>\n",
       "    </tr>\n",
       "    <tr>\n",
       "      <th>3</th>\n",
       "      <td>Изменить структура категорий, что увеличит конверсию, т.к. пользователи быстрее найдут нужный товар</td>\n",
       "      <td>9.0</td>\n",
       "    </tr>\n",
       "    <tr>\n",
       "      <th>1</th>\n",
       "      <td>Запустить собственную службу доставки, что сократит срок доставки заказов</td>\n",
       "      <td>4.0</td>\n",
       "    </tr>\n",
       "    <tr>\n",
       "      <th>5</th>\n",
       "      <td>Добавить страницу отзывов клиентов о магазине, что позволит увеличить количество заказов</td>\n",
       "      <td>4.0</td>\n",
       "    </tr>\n",
       "    <tr>\n",
       "      <th>4</th>\n",
       "      <td>Изменить цвет фона главной страницы, чтобы увеличить вовлеченность пользователей</td>\n",
       "      <td>3.0</td>\n",
       "    </tr>\n",
       "  </tbody>\n",
       "</table>\n",
       "</div>"
      ],
      "text/plain": [
       "                                                                                                     hypothesis  \\\n",
       "7              Добавить форму подписки на все основные страницы, чтобы собрать базу клиентов для email-рассылок   \n",
       "2  Добавить блоки рекомендаций товаров на сайт интернет магазина, чтобы повысить конверсию и средний чек заказа   \n",
       "0            Добавить два новых канала привлечения трафика, что позволит привлекать на 30% больше пользователей   \n",
       "6          Показать на главной странице баннеры с актуальными акциями и распродажами, чтобы увеличить конверсию   \n",
       "8                                                       Запустить акцию, дающую скидку на товар в день рождения   \n",
       "3           Изменить структура категорий, что увеличит конверсию, т.к. пользователи быстрее найдут нужный товар   \n",
       "1                                     Запустить собственную службу доставки, что сократит срок доставки заказов   \n",
       "5                      Добавить страницу отзывов клиентов о магазине, что позволит увеличить количество заказов   \n",
       "4                              Изменить цвет фона главной страницы, чтобы увеличить вовлеченность пользователей   \n",
       "\n",
       "    RICE  \n",
       "7  112.0  \n",
       "2   56.0  \n",
       "0   40.0  \n",
       "6   40.0  \n",
       "8   16.2  \n",
       "3    9.0  \n",
       "1    4.0  \n",
       "5    4.0  \n",
       "4    3.0  "
      ]
     },
     "execution_count": 5,
     "metadata": {},
     "output_type": "execute_result"
    }
   ],
   "source": [
    "data['RICE'] = (data['reach'] * data['impact'] * data['confidence']) / data['efforts']\n",
    "data[['hypothesis', 'RICE']].sort_values(by='RICE', ascending=False)"
   ]
  },
  {
   "cell_type": "markdown",
   "metadata": {},
   "source": [
    "### Вывод"
   ]
  },
  {
   "cell_type": "markdown",
   "metadata": {},
   "source": [
    "В результате применения метода RICE вместо ICE изменилась приоритизация гипотез. Так произошло по причине добавления в формулу расчета компонента \"Reach\", который отвечает за количество пользователей, которых затронет изменение (т.е. охват). Так, гипотеза \"Добавить форму подписки на все основные страницы\" получила 1 место, потому что изменения (в результате реализации гипотезы) затронут большее количество пользователей, чем изменения в результате реализации гипотезы \"Запустить акцию, дающую скидку на товар в день\", которая была в списке приотезации методом iCE на 1 месте."
   ]
  },
  {
   "cell_type": "code",
   "execution_count": 6,
   "metadata": {
    "scrolled": true
   },
   "outputs": [
    {
     "data": {
      "image/png": "[encoded data removed]",
      "text/plain": [
       "<Figure size 720x720 with 1 Axes>"
      ]
     },
     "metadata": {
      "needs_background": "light"
     },
     "output_type": "display_data"
    }
   ],
   "source": [
    "y = data['ICE'] \n",
    "z = data['RICE'] \n",
    "n = data.index \n",
    "\n",
    "fig, ax = plt.subplots()\n",
    "ax.scatter(z, y)\n",
    "\n",
    "for i, txt in enumerate(n):\n",
    "    ax.annotate(txt, (z[i], y[i]))\n",
    "\n",
    "plt.title(\"ICE and RICE гипотезы\") \n",
    "plt.xlabel(\"RICE\") \n",
    "plt.ylabel(\"ICE\")\n",
    "\n",
    "fig.set_figheight(10)\n",
    "fig.set_figwidth(10) \n",
    "plt.show()    "
   ]
  },
  {
   "cell_type": "markdown",
   "metadata": {},
   "source": [
    "## Часть 2. Анализ A/B-теста"
   ]
  },
  {
   "cell_type": "code",
   "execution_count": 7,
   "metadata": {},
   "outputs": [
    {
     "data": {
      "text/html": [
       "<div>\n",
       "<style scoped>\n",
       "    .dataframe tbody tr th:only-of-type {\n",
       "        vertical-align: middle;\n",
       "    }\n",
       "\n",
       "    .dataframe tbody tr th {\n",
       "        vertical-align: top;\n",
       "    }\n",
       "\n",
       "    .dataframe thead th {\n",
       "        text-align: right;\n",
       "    }\n",
       "</style>\n",
       "<table border=\"1\" class=\"dataframe\">\n",
       "  <thead>\n",
       "    <tr style=\"text-align: right;\">\n",
       "      <th></th>\n",
       "      <th>transactionId</th>\n",
       "      <th>visitorId</th>\n",
       "      <th>date</th>\n",
       "      <th>revenue</th>\n",
       "      <th>group</th>\n",
       "    </tr>\n",
       "  </thead>\n",
       "  <tbody>\n",
       "    <tr>\n",
       "      <th>0</th>\n",
       "      <td>3667963787</td>\n",
       "      <td>3312258926</td>\n",
       "      <td>2019-08-15</td>\n",
       "      <td>1650</td>\n",
       "      <td>B</td>\n",
       "    </tr>\n",
       "    <tr>\n",
       "      <th>1</th>\n",
       "      <td>2804400009</td>\n",
       "      <td>3642806036</td>\n",
       "      <td>2019-08-15</td>\n",
       "      <td>730</td>\n",
       "      <td>B</td>\n",
       "    </tr>\n",
       "    <tr>\n",
       "      <th>2</th>\n",
       "      <td>2961555356</td>\n",
       "      <td>4069496402</td>\n",
       "      <td>2019-08-15</td>\n",
       "      <td>400</td>\n",
       "      <td>A</td>\n",
       "    </tr>\n",
       "    <tr>\n",
       "      <th>3</th>\n",
       "      <td>3797467345</td>\n",
       "      <td>1196621759</td>\n",
       "      <td>2019-08-15</td>\n",
       "      <td>9759</td>\n",
       "      <td>B</td>\n",
       "    </tr>\n",
       "    <tr>\n",
       "      <th>4</th>\n",
       "      <td>2282983706</td>\n",
       "      <td>2322279887</td>\n",
       "      <td>2019-08-15</td>\n",
       "      <td>2308</td>\n",
       "      <td>B</td>\n",
       "    </tr>\n",
       "  </tbody>\n",
       "</table>\n",
       "</div>"
      ],
      "text/plain": [
       "   transactionId   visitorId        date  revenue group\n",
       "0     3667963787  3312258926  2019-08-15     1650     B\n",
       "1     2804400009  3642806036  2019-08-15      730     B\n",
       "2     2961555356  4069496402  2019-08-15      400     A\n",
       "3     3797467345  1196621759  2019-08-15     9759     B\n",
       "4     2282983706  2322279887  2019-08-15     2308     B"
      ]
     },
     "metadata": {},
     "output_type": "display_data"
    },
    {
     "name": "stdout",
     "output_type": "stream",
     "text": [
      "<class 'pandas.core.frame.DataFrame'>\n",
      "RangeIndex: 1197 entries, 0 to 1196\n",
      "Data columns (total 5 columns):\n",
      " #   Column         Non-Null Count  Dtype \n",
      "---  ------         --------------  ----- \n",
      " 0   transactionId  1197 non-null   int64 \n",
      " 1   visitorId      1197 non-null   int64 \n",
      " 2   date           1197 non-null   object\n",
      " 3   revenue        1197 non-null   int64 \n",
      " 4   group          1197 non-null   object\n",
      "dtypes: int64(3), object(2)\n",
      "memory usage: 46.9+ KB\n"
     ]
    }
   ],
   "source": [
    "# Загрузим данные и сохраним их в переменные\n",
    "orders = pd.read_csv('/datasets/orders.csv')\n",
    "display(orders.head())\n",
    "orders.info()"
   ]
  },
  {
   "cell_type": "code",
   "execution_count": 8,
   "metadata": {
    "scrolled": false
   },
   "outputs": [
    {
     "data": {
      "text/html": [
       "<div>\n",
       "<style scoped>\n",
       "    .dataframe tbody tr th:only-of-type {\n",
       "        vertical-align: middle;\n",
       "    }\n",
       "\n",
       "    .dataframe tbody tr th {\n",
       "        vertical-align: top;\n",
       "    }\n",
       "\n",
       "    .dataframe thead th {\n",
       "        text-align: right;\n",
       "    }\n",
       "</style>\n",
       "<table border=\"1\" class=\"dataframe\">\n",
       "  <thead>\n",
       "    <tr style=\"text-align: right;\">\n",
       "      <th></th>\n",
       "      <th>date</th>\n",
       "      <th>group</th>\n",
       "      <th>visitors</th>\n",
       "    </tr>\n",
       "  </thead>\n",
       "  <tbody>\n",
       "    <tr>\n",
       "      <th>0</th>\n",
       "      <td>2019-08-01</td>\n",
       "      <td>A</td>\n",
       "      <td>719</td>\n",
       "    </tr>\n",
       "    <tr>\n",
       "      <th>1</th>\n",
       "      <td>2019-08-02</td>\n",
       "      <td>A</td>\n",
       "      <td>619</td>\n",
       "    </tr>\n",
       "    <tr>\n",
       "      <th>2</th>\n",
       "      <td>2019-08-03</td>\n",
       "      <td>A</td>\n",
       "      <td>507</td>\n",
       "    </tr>\n",
       "    <tr>\n",
       "      <th>3</th>\n",
       "      <td>2019-08-04</td>\n",
       "      <td>A</td>\n",
       "      <td>717</td>\n",
       "    </tr>\n",
       "    <tr>\n",
       "      <th>4</th>\n",
       "      <td>2019-08-05</td>\n",
       "      <td>A</td>\n",
       "      <td>756</td>\n",
       "    </tr>\n",
       "  </tbody>\n",
       "</table>\n",
       "</div>"
      ],
      "text/plain": [
       "         date group  visitors\n",
       "0  2019-08-01     A       719\n",
       "1  2019-08-02     A       619\n",
       "2  2019-08-03     A       507\n",
       "3  2019-08-04     A       717\n",
       "4  2019-08-05     A       756"
      ]
     },
     "metadata": {},
     "output_type": "display_data"
    },
    {
     "name": "stdout",
     "output_type": "stream",
     "text": [
      "<class 'pandas.core.frame.DataFrame'>\n",
      "RangeIndex: 62 entries, 0 to 61\n",
      "Data columns (total 3 columns):\n",
      " #   Column    Non-Null Count  Dtype \n",
      "---  ------    --------------  ----- \n",
      " 0   date      62 non-null     object\n",
      " 1   group     62 non-null     object\n",
      " 2   visitors  62 non-null     int64 \n",
      "dtypes: int64(1), object(2)\n",
      "memory usage: 1.6+ KB\n"
     ]
    }
   ],
   "source": [
    "visitors = pd.read_csv('/datasets/visitors.csv')\n",
    "display(visitors.head())\n",
    "visitors.info()"
   ]
  },
  {
   "cell_type": "code",
   "execution_count": 9,
   "metadata": {},
   "outputs": [
    {
     "name": "stdout",
     "output_type": "stream",
     "text": [
      "Количество полных дубликатов в visitors: 0\n",
      "Количество полных дубликатов в orders: 0\n"
     ]
    }
   ],
   "source": [
    "#проверим данные на наличие явных дубликатов\n",
    "print('Количество полных дубликатов в visitors:', visitors.duplicated().sum())\n",
    "print('Количество полных дубликатов в orders:', orders.duplicated().sum())"
   ]
  },
  {
   "cell_type": "markdown",
   "metadata": {},
   "source": [
    "**Пропусков, а также дубликатов в данных не обнаружено, требуется привести данные со временем к типу datetime в orders и visitors**"
   ]
  },
  {
   "cell_type": "code",
   "execution_count": 10,
   "metadata": {
    "scrolled": true
   },
   "outputs": [
    {
     "name": "stdout",
     "output_type": "stream",
     "text": [
      "<class 'pandas.core.frame.DataFrame'>\n",
      "RangeIndex: 1197 entries, 0 to 1196\n",
      "Data columns (total 5 columns):\n",
      " #   Column         Non-Null Count  Dtype         \n",
      "---  ------         --------------  -----         \n",
      " 0   transactionId  1197 non-null   int64         \n",
      " 1   visitorId      1197 non-null   int64         \n",
      " 2   date           1197 non-null   datetime64[ns]\n",
      " 3   revenue        1197 non-null   int64         \n",
      " 4   group          1197 non-null   object        \n",
      "dtypes: datetime64[ns](1), int64(3), object(1)\n",
      "memory usage: 46.9+ KB\n"
     ]
    },
    {
     "data": {
      "text/plain": [
       "None"
      ]
     },
     "metadata": {},
     "output_type": "display_data"
    },
    {
     "name": "stdout",
     "output_type": "stream",
     "text": [
      "<class 'pandas.core.frame.DataFrame'>\n",
      "RangeIndex: 62 entries, 0 to 61\n",
      "Data columns (total 3 columns):\n",
      " #   Column    Non-Null Count  Dtype         \n",
      "---  ------    --------------  -----         \n",
      " 0   date      62 non-null     datetime64[ns]\n",
      " 1   group     62 non-null     object        \n",
      " 2   visitors  62 non-null     int64         \n",
      "dtypes: datetime64[ns](1), int64(1), object(1)\n",
      "memory usage: 1.6+ KB\n"
     ]
    }
   ],
   "source": [
    "def date(df, df1):\n",
    "    df['date'] = pd.to_datetime(df['date'])\n",
    "    df1['date'] = pd.to_datetime(df1['date'])\n",
    "    return df, df1\n",
    "orders, visitors = date(orders, visitors)\n",
    "display(orders.info())\n",
    "visitors.info()"
   ]
  },
  {
   "cell_type": "code",
   "execution_count": 11,
   "metadata": {},
   "outputs": [
    {
     "name": "stdout",
     "output_type": "stream",
     "text": [
      "Количество групп в датафрейме orders: 2\n",
      "Количество групп в датафрейме visitors: 2\n"
     ]
    }
   ],
   "source": [
    "#узнаем сколько групп в АВ-тесте\n",
    "print('Количество групп в датафрейме orders:', orders['group'].nunique())\n",
    "print('Количество групп в датафрейме visitors:', visitors['group'].nunique())"
   ]
  },
  {
   "cell_type": "code",
   "execution_count": 12,
   "metadata": {
    "scrolled": true
   },
   "outputs": [
    {
     "name": "stdout",
     "output_type": "stream",
     "text": [
      "Начало АВ-теста orders: 2019-08-01\n",
      "Окончание АВ-теста orders: 2019-08-31\n",
      "Начало АВ-теста visitors: 2019-08-01\n",
      "Окончание АВ-теста visitors: 2019-08-31\n"
     ]
    }
   ],
   "source": [
    "#узнаем дату начала проведения теста\n",
    "print('Начало АВ-теста orders:', orders['date'].dt.date.min())\n",
    "print('Окончание АВ-теста orders:', orders['date'].dt.date.max())\n",
    "print('Начало АВ-теста visitors:', visitors['date'].dt.date.min())\n",
    "print('Окончание АВ-теста visitors:', visitors['date'].dt.date.max())"
   ]
  },
  {
   "cell_type": "markdown",
   "metadata": {},
   "source": [
    "**В АВ-тесте участвует 2 группы, дата начала 2019-08-01 и дата окончания 2019-08-31 в датафреймах совпадают.** "
   ]
  },
  {
   "cell_type": "code",
   "execution_count": 13,
   "metadata": {},
   "outputs": [
    {
     "data": {
      "text/html": [
       "<div>\n",
       "<style scoped>\n",
       "    .dataframe tbody tr th:only-of-type {\n",
       "        vertical-align: middle;\n",
       "    }\n",
       "\n",
       "    .dataframe tbody tr th {\n",
       "        vertical-align: top;\n",
       "    }\n",
       "\n",
       "    .dataframe thead th {\n",
       "        text-align: right;\n",
       "    }\n",
       "</style>\n",
       "<table border=\"1\" class=\"dataframe\">\n",
       "  <thead>\n",
       "    <tr style=\"text-align: right;\">\n",
       "      <th></th>\n",
       "      <th>date</th>\n",
       "      <th>ordersPerDateA</th>\n",
       "      <th>revenuePerDateA</th>\n",
       "      <th>ordersPerDateB</th>\n",
       "      <th>revenuePerDateB</th>\n",
       "      <th>ordersCummulativeA</th>\n",
       "      <th>revenueCummulativeA</th>\n",
       "      <th>ordersCummulativeB</th>\n",
       "      <th>revenueCummulativeB</th>\n",
       "      <th>visitorsPerDateA</th>\n",
       "      <th>visitorsPerDateB</th>\n",
       "      <th>visitorsCummulativeA</th>\n",
       "      <th>visitorsCummulativeB</th>\n",
       "    </tr>\n",
       "  </thead>\n",
       "  <tbody>\n",
       "    <tr>\n",
       "      <th>0</th>\n",
       "      <td>2019-08-01</td>\n",
       "      <td>24</td>\n",
       "      <td>148579</td>\n",
       "      <td>21</td>\n",
       "      <td>101217</td>\n",
       "      <td>24</td>\n",
       "      <td>148579</td>\n",
       "      <td>21</td>\n",
       "      <td>101217</td>\n",
       "      <td>719</td>\n",
       "      <td>713</td>\n",
       "      <td>719</td>\n",
       "      <td>713</td>\n",
       "    </tr>\n",
       "    <tr>\n",
       "      <th>1</th>\n",
       "      <td>2019-08-02</td>\n",
       "      <td>20</td>\n",
       "      <td>93822</td>\n",
       "      <td>24</td>\n",
       "      <td>165531</td>\n",
       "      <td>44</td>\n",
       "      <td>242401</td>\n",
       "      <td>45</td>\n",
       "      <td>266748</td>\n",
       "      <td>619</td>\n",
       "      <td>581</td>\n",
       "      <td>1338</td>\n",
       "      <td>1294</td>\n",
       "    </tr>\n",
       "    <tr>\n",
       "      <th>2</th>\n",
       "      <td>2019-08-03</td>\n",
       "      <td>24</td>\n",
       "      <td>112473</td>\n",
       "      <td>16</td>\n",
       "      <td>114248</td>\n",
       "      <td>68</td>\n",
       "      <td>354874</td>\n",
       "      <td>61</td>\n",
       "      <td>380996</td>\n",
       "      <td>507</td>\n",
       "      <td>509</td>\n",
       "      <td>1845</td>\n",
       "      <td>1803</td>\n",
       "    </tr>\n",
       "    <tr>\n",
       "      <th>3</th>\n",
       "      <td>2019-08-04</td>\n",
       "      <td>16</td>\n",
       "      <td>70825</td>\n",
       "      <td>17</td>\n",
       "      <td>108571</td>\n",
       "      <td>84</td>\n",
       "      <td>425699</td>\n",
       "      <td>78</td>\n",
       "      <td>489567</td>\n",
       "      <td>717</td>\n",
       "      <td>770</td>\n",
       "      <td>2562</td>\n",
       "      <td>2573</td>\n",
       "    </tr>\n",
       "    <tr>\n",
       "      <th>4</th>\n",
       "      <td>2019-08-05</td>\n",
       "      <td>25</td>\n",
       "      <td>124218</td>\n",
       "      <td>23</td>\n",
       "      <td>92428</td>\n",
       "      <td>109</td>\n",
       "      <td>549917</td>\n",
       "      <td>101</td>\n",
       "      <td>581995</td>\n",
       "      <td>756</td>\n",
       "      <td>707</td>\n",
       "      <td>3318</td>\n",
       "      <td>3280</td>\n",
       "    </tr>\n",
       "  </tbody>\n",
       "</table>\n",
       "</div>"
      ],
      "text/plain": [
       "        date  ordersPerDateA  revenuePerDateA  ordersPerDateB  \\\n",
       "0 2019-08-01              24           148579              21   \n",
       "1 2019-08-02              20            93822              24   \n",
       "2 2019-08-03              24           112473              16   \n",
       "3 2019-08-04              16            70825              17   \n",
       "4 2019-08-05              25           124218              23   \n",
       "\n",
       "   revenuePerDateB  ordersCummulativeA  revenueCummulativeA  \\\n",
       "0           101217                  24               148579   \n",
       "1           165531                  44               242401   \n",
       "2           114248                  68               354874   \n",
       "3           108571                  84               425699   \n",
       "4            92428                 109               549917   \n",
       "\n",
       "   ordersCummulativeB  revenueCummulativeB  visitorsPerDateA  \\\n",
       "0                  21               101217               719   \n",
       "1                  45               266748               619   \n",
       "2                  61               380996               507   \n",
       "3                  78               489567               717   \n",
       "4                 101               581995               756   \n",
       "\n",
       "   visitorsPerDateB  visitorsCummulativeA  visitorsCummulativeB  \n",
       "0               713                   719                   713  \n",
       "1               581                  1338                  1294  \n",
       "2               509                  1845                  1803  \n",
       "3               770                  2562                  2573  \n",
       "4               707                  3318                  3280  "
      ]
     },
     "execution_count": 13,
     "metadata": {},
     "output_type": "execute_result"
    }
   ],
   "source": [
    "# Подготовим данные к дальнейшей работе, для удобства создадим таблицу, где будут отражены результаты А/В теста\n",
    "visitorsADaily = visitors[visitors['group'] == 'A'][['date', 'visitors']]\n",
    "visitorsADaily.columns = ['date', 'visitorsPerDateA']\n",
    "\n",
    "visitorsACummulative = visitorsADaily.apply(\n",
    "    lambda x: visitorsADaily[visitorsADaily['date'] <= x['date']].agg(\n",
    "        {'date': 'max', 'visitorsPerDateA': 'sum'}\n",
    "    ),\n",
    "    axis=1,\n",
    ")\n",
    "visitorsACummulative.columns = ['date', 'visitorsCummulativeA']\n",
    "\n",
    "visitorsBDaily = visitors[visitors['group'] == 'B'][['date', 'visitors']]\n",
    "visitorsBDaily.columns = ['date', 'visitorsPerDateB']\n",
    "\n",
    "visitorsBCummulative = visitorsBDaily.apply(\n",
    "    lambda x: visitorsBDaily[visitorsBDaily['date'] <= x['date']].agg(\n",
    "        {'date': 'max', 'visitorsPerDateB': 'sum'}\n",
    "    ),\n",
    "    axis=1,\n",
    ")\n",
    "visitorsBCummulative.columns = ['date', 'visitorsCummulativeB']\n",
    "\n",
    "ordersADaily = (\n",
    "    orders[orders['group'] == 'A'][['date', 'transactionId', 'visitorId', 'revenue']]\n",
    "    .groupby('date', as_index=False)\n",
    "    .agg({'transactionId': pd.Series.nunique, 'revenue': 'sum'})\n",
    ")\n",
    "ordersADaily.columns = ['date', 'ordersPerDateA', 'revenuePerDateA']\n",
    "\n",
    "ordersACummulative = ordersADaily.apply(\n",
    "    lambda x: ordersADaily[ordersADaily['date'] <= x['date']].agg(\n",
    "        {'date': 'max', 'ordersPerDateA': 'sum', 'revenuePerDateA': 'sum'}\n",
    "    ),\n",
    "    axis=1,\n",
    ").sort_values(by=['date'])\n",
    "ordersACummulative.columns = [\n",
    "    'date',\n",
    "    'ordersCummulativeA',\n",
    "    'revenueCummulativeA',\n",
    "]\n",
    "\n",
    "ordersBDaily = (\n",
    "    orders[orders['group'] == 'B'][['date', 'transactionId', 'visitorId', 'revenue']]\n",
    "    .groupby('date', as_index=False)\n",
    "    .agg({'transactionId': pd.Series.nunique, 'revenue': 'sum'})\n",
    ")\n",
    "ordersBDaily.columns = ['date', 'ordersPerDateB', 'revenuePerDateB']\n",
    "\n",
    "ordersBCummulative = ordersBDaily.apply(\n",
    "    lambda x: ordersBDaily[ordersBDaily['date'] <= x['date']].agg(\n",
    "        {'date': 'max', 'ordersPerDateB': 'sum', 'revenuePerDateB': 'sum'}\n",
    "    ),\n",
    "    axis=1,\n",
    ").sort_values(by=['date'])\n",
    "ordersBCummulative.columns = [\n",
    "    'date',\n",
    "    'ordersCummulativeB',\n",
    "    'revenueCummulativeB',\n",
    "]\n",
    "\n",
    "data_ab = (\n",
    "    ordersADaily.merge(\n",
    "        ordersBDaily, left_on='date', right_on='date', how='left'\n",
    "    )\n",
    "    .merge(ordersACummulative, left_on='date', right_on='date', how='left')\n",
    "    .merge(ordersBCummulative, left_on='date', right_on='date', how='left')\n",
    "    .merge(visitorsADaily, left_on='date', right_on='date', how='left')\n",
    "    .merge(visitorsBDaily, left_on='date', right_on='date', how='left')\n",
    "    .merge(visitorsACummulative, left_on='date', right_on='date', how='left')\n",
    "    .merge(visitorsBCummulative, left_on='date', right_on='date', how='left')\n",
    ")\n",
    "\n",
    "data_ab.head(5)"
   ]
  },
  {
   "cell_type": "code",
   "execution_count": 14,
   "metadata": {
    "scrolled": true
   },
   "outputs": [
    {
     "name": "stdout",
     "output_type": "stream",
     "text": [
      "Начало АВ-теста: 2019-08-01\n",
      "Окончание АВ-теста: 2019-08-31\n"
     ]
    }
   ],
   "source": [
    "# проверим корректность созданного датафрейма\n",
    "print('Начало АВ-теста:', data_ab['date'].dt.date.min())\n",
    "print('Окончание АВ-теста:', data_ab['date'].dt.date.max())"
   ]
  },
  {
   "cell_type": "markdown",
   "metadata": {},
   "source": [
    "**Дата начала и окончания теста в созданном датафрейме совпадают с исходными данными.Датафрейм создан корректно.**"
   ]
  },
  {
   "cell_type": "markdown",
   "metadata": {},
   "source": [
    "### График кумулятивной выручки по группам. "
   ]
  },
  {
   "cell_type": "code",
   "execution_count": 15,
   "metadata": {},
   "outputs": [
    {
     "data": {
      "image/png": "[encoded data removed]",
      "text/plain": [
       "<Figure size 800x480 with 1 Axes>"
      ]
     },
     "metadata": {
      "needs_background": "light"
     },
     "output_type": "display_data"
    }
   ],
   "source": [
    "# Строим график выручки группы A\n",
    "from matplotlib.pyplot import figure\n",
    "figure(figsize=(10, 6), dpi=80)\n",
    "plt.plot(data_ab['date'], data_ab['revenueCummulativeA'], label='A')\n",
    "\n",
    "# Строим график выручки группы B\n",
    "plt.plot(data_ab['date'], data_ab['revenueCummulativeB'], label='B')\n",
    "\n",
    "plt.legend() \n",
    "plt.xlabel('дата') \n",
    "plt.ylabel('выручка')\n",
    "plt.title('Кривые кумулятивной выручки в группах')  \n",
    "\n",
    "plt.show()"
   ]
  },
  {
   "cell_type": "markdown",
   "metadata": {},
   "source": [
    "#### Выводы и предположения.\n",
    "Выручка в каждой группе равномерно увеличивается в течение всего теста. Вместе с тем график выручки группы В в одной точке резко растет. Это может говорить о всплесках числа заказов, либо о появлении очень дорогих заказов в выборке. "
   ]
  },
  {
   "cell_type": "markdown",
   "metadata": {},
   "source": [
    "### График кумулятивного среднего чека по группам.  "
   ]
  },
  {
   "cell_type": "code",
   "execution_count": 16,
   "metadata": {},
   "outputs": [
    {
     "data": {
      "image/png": "[encoded data removed]",
      "text/plain": [
       "<Figure size 800x480 with 1 Axes>"
      ]
     },
     "metadata": {
      "needs_background": "light"
     },
     "output_type": "display_data"
    }
   ],
   "source": [
    "# Построим графики среднего чека по группам — разделим кумулятивную выручку на кумулятивное число заказов\n",
    "figure(figsize=(10, 6), dpi=80)\n",
    "# Строим график среднего чека группы A\n",
    "plt.plot(data_ab['date'], data_ab['revenueCummulativeA']/data_ab['ordersCummulativeA'], label='A')\n",
    "\n",
    "# Строим график среднего чека группы B\n",
    "plt.plot(data_ab['date'], data_ab['revenueCummulativeB']/data_ab['ordersCummulativeB'], label='B')\n",
    "\n",
    "plt.legend() \n",
    "plt.xlabel('дата') \n",
    "plt.ylabel('средний чек')\n",
    "plt.title('Кривые кумулятивного среднего чека в группах')  \n",
    "\n",
    "plt.show()"
   ]
  },
  {
   "cell_type": "markdown",
   "metadata": {},
   "source": [
    "#### Выводы и предположения.\n",
    "Средний чек становится равномерным ближе к концу теста. В первой половине теста присутствует множество резких всплесков на графике, что может говорить о том, что в тест попали крупные заказы. Для оценки среднего чека необходимо больше данных, либо исключить из выборки аномальные заказы. "
   ]
  },
  {
   "cell_type": "markdown",
   "metadata": {},
   "source": [
    "### График относительного изменения кумулятивного среднего чека группы B к группе A."
   ]
  },
  {
   "cell_type": "code",
   "execution_count": 17,
   "metadata": {},
   "outputs": [
    {
     "data": {
      "image/png": "[encoded data removed]",
      "text/plain": [
       "<Figure size 800x480 with 1 Axes>"
      ]
     },
     "metadata": {
      "needs_background": "light"
     },
     "output_type": "display_data"
    }
   ],
   "source": [
    "# cтроим отношение средних чеков\n",
    "figure(figsize=(10, 6), dpi=80)\n",
    "plt.plot(data_ab['date'], (data_ab['revenueCummulativeB']/data_ab['ordersCummulativeB'])/(data_ab['revenueCummulativeA']/data_ab['ordersCummulativeA'])-1)\n",
    "\n",
    "# добавляем ось X\n",
    "plt.axhline(y=0, color='black', linestyle='--') \n",
    "plt.xlabel('дата') \n",
    "plt.title('Кривая относительного изменения кумулятивного среднего чека группы B к группе A')  \n",
    "\n",
    "plt.show()"
   ]
  },
  {
   "cell_type": "markdown",
   "metadata": {},
   "source": [
    "#### Выводы и предположения.\n",
    "В нескольких точках график различия сильно \"скачет\", что указывает на наличие аномально крупных заказов. Чтобы сделать окончательный вывод необходимо очистить данные от выбросов. "
   ]
  },
  {
   "cell_type": "markdown",
   "metadata": {},
   "source": [
    "###  График кумулятивной конверсии по группам."
   ]
  },
  {
   "cell_type": "code",
   "execution_count": 18,
   "metadata": {},
   "outputs": [
    {
     "name": "stdout",
     "output_type": "stream",
     "text": [
      "2019-08-01 00:00:00\n",
      "2019-08-31 00:00:00\n"
     ]
    }
   ],
   "source": [
    "print(data_ab['date'].min())\n",
    "print(data_ab['date'].max())\n"
   ]
  },
  {
   "cell_type": "code",
   "execution_count": 19,
   "metadata": {},
   "outputs": [
    {
     "data": {
      "text/plain": [
       "Index(['date', 'ordersPerDateA', 'revenuePerDateA', 'ordersPerDateB',\n",
       "       'revenuePerDateB', 'ordersCummulativeA', 'revenueCummulativeA',\n",
       "       'ordersCummulativeB', 'revenueCummulativeB', 'visitorsPerDateA',\n",
       "       'visitorsPerDateB', 'visitorsCummulativeA', 'visitorsCummulativeB'],\n",
       "      dtype='object')"
      ]
     },
     "execution_count": 19,
     "metadata": {},
     "output_type": "execute_result"
    }
   ],
   "source": [
    "data_ab.columns"
   ]
  },
  {
   "cell_type": "code",
   "execution_count": 20,
   "metadata": {},
   "outputs": [
    {
     "data": {
      "image/png": "[encoded data removed]",
      "text/plain": [
       "<Figure size 800x480 with 1 Axes>"
      ]
     },
     "metadata": {
      "needs_background": "light"
     },
     "output_type": "display_data"
    }
   ],
   "source": [
    "# строим графики \n",
    "figure(figsize=(10, 6), dpi=80)\n",
    "plt.plot(data_ab['date'], data_ab['ordersCummulativeA']/data_ab['visitorsCummulativeA'], label='A')\n",
    "plt.plot(data_ab['date'], data_ab['ordersCummulativeB']/data_ab['visitorsCummulativeB'], label='B')\n",
    "plt.legend()\n",
    "plt.xlabel('дата') \n",
    "plt.ylabel('конверсия')\n",
    "plt.title('Кривые кумулятивной конверсии в группах')  \n",
    "\n",
    "plt.show()"
   ]
  },
  {
   "cell_type": "markdown",
   "metadata": {},
   "source": [
    "#### Выводы и предположения.\n",
    "Графики кумулятивной конверсии очень \"скачут\". В первой половине теста сильные всплески, к концу теста граффики \"выравниваются\", конверсия группы В выше, чем группы А"
   ]
  },
  {
   "cell_type": "markdown",
   "metadata": {},
   "source": [
    "### График относительного изменения кумулятивной конверсии группы B к группе A."
   ]
  },
  {
   "cell_type": "code",
   "execution_count": 21,
   "metadata": {},
   "outputs": [
    {
     "data": {
      "image/png": "[encoded data removed]",
      "text/plain": [
       "<Figure size 800x480 with 1 Axes>"
      ]
     },
     "metadata": {
      "needs_background": "light"
     },
     "output_type": "display_data"
    }
   ],
   "source": [
    "figure(figsize=(10, 6), dpi=80)\n",
    "\n",
    "plt.plot(data_ab['date'], (data_ab['ordersCummulativeB']/data_ab['visitorsCummulativeB'])/(data_ab['ordersCummulativeA']/data_ab['visitorsCummulativeA'])-1)\n",
    "plt.axhline(y=0.1, color='black', linestyle='--') \n",
    "plt.xlabel('дата') \n",
    "plt.title('Кривая относительного изменения кумулятивной конверсии группы B к группе A')  \n",
    "plt.show()"
   ]
  },
  {
   "cell_type": "markdown",
   "metadata": {},
   "source": [
    "#### Выводы и предположения.\n",
    "В начале теста группа B значительно уступала группе A, затем вырвалась вперёд. Потом её конверсия снова резко ухудшилась, но во второй половине растёт. Очень нестабильный график."
   ]
  },
  {
   "cell_type": "markdown",
   "metadata": {},
   "source": [
    "### Точечный график количества заказов по пользователям."
   ]
  },
  {
   "cell_type": "code",
   "execution_count": 22,
   "metadata": {},
   "outputs": [
    {
     "data": {
      "text/html": [
       "<div>\n",
       "<style scoped>\n",
       "    .dataframe tbody tr th:only-of-type {\n",
       "        vertical-align: middle;\n",
       "    }\n",
       "\n",
       "    .dataframe tbody tr th {\n",
       "        vertical-align: top;\n",
       "    }\n",
       "\n",
       "    .dataframe thead th {\n",
       "        text-align: right;\n",
       "    }\n",
       "</style>\n",
       "<table border=\"1\" class=\"dataframe\">\n",
       "  <thead>\n",
       "    <tr style=\"text-align: right;\">\n",
       "      <th></th>\n",
       "      <th>userId</th>\n",
       "      <th>orders</th>\n",
       "    </tr>\n",
       "  </thead>\n",
       "  <tbody>\n",
       "    <tr>\n",
       "      <th>1023</th>\n",
       "      <td>4256040402</td>\n",
       "      <td>11</td>\n",
       "    </tr>\n",
       "    <tr>\n",
       "      <th>591</th>\n",
       "      <td>2458001652</td>\n",
       "      <td>11</td>\n",
       "    </tr>\n",
       "    <tr>\n",
       "      <th>569</th>\n",
       "      <td>2378935119</td>\n",
       "      <td>9</td>\n",
       "    </tr>\n",
       "    <tr>\n",
       "      <th>487</th>\n",
       "      <td>2038680547</td>\n",
       "      <td>8</td>\n",
       "    </tr>\n",
       "    <tr>\n",
       "      <th>44</th>\n",
       "      <td>199603092</td>\n",
       "      <td>5</td>\n",
       "    </tr>\n",
       "    <tr>\n",
       "      <th>744</th>\n",
       "      <td>3062433592</td>\n",
       "      <td>5</td>\n",
       "    </tr>\n",
       "    <tr>\n",
       "      <th>55</th>\n",
       "      <td>237748145</td>\n",
       "      <td>5</td>\n",
       "    </tr>\n",
       "    <tr>\n",
       "      <th>917</th>\n",
       "      <td>3803269165</td>\n",
       "      <td>5</td>\n",
       "    </tr>\n",
       "    <tr>\n",
       "      <th>299</th>\n",
       "      <td>1230306981</td>\n",
       "      <td>5</td>\n",
       "    </tr>\n",
       "    <tr>\n",
       "      <th>897</th>\n",
       "      <td>3717692402</td>\n",
       "      <td>5</td>\n",
       "    </tr>\n",
       "  </tbody>\n",
       "</table>\n",
       "</div>"
      ],
      "text/plain": [
       "          userId  orders\n",
       "1023  4256040402      11\n",
       "591   2458001652      11\n",
       "569   2378935119       9\n",
       "487   2038680547       8\n",
       "44     199603092       5\n",
       "744   3062433592       5\n",
       "55     237748145       5\n",
       "917   3803269165       5\n",
       "299   1230306981       5\n",
       "897   3717692402       5"
      ]
     },
     "execution_count": 22,
     "metadata": {},
     "output_type": "execute_result"
    }
   ],
   "source": [
    "# Подсчитаем количество заказов по пользователям \n",
    "ordersByUsers = (\n",
    "    orders.groupby('visitorId', as_index=False)\n",
    "    .agg({'transactionId': 'nunique'})\n",
    ")\n",
    "\n",
    "ordersByUsers.columns = ['userId', 'orders']\n",
    "ordersByUsers.sort_values(by='orders', ascending=False).head(10)"
   ]
  },
  {
   "cell_type": "code",
   "execution_count": 23,
   "metadata": {},
   "outputs": [
    {
     "data": {
      "image/png": "[encoded data removed]",
      "text/plain": [
       "<Figure size 432x288 with 1 Axes>"
      ]
     },
     "metadata": {
      "needs_background": "light"
     },
     "output_type": "display_data"
    }
   ],
   "source": [
    "# Построим точечную диаграмму числа заказов на одного пользователя\n",
    "x_values = pd.Series(range(0,len(ordersByUsers)))\n",
    "plt.scatter(x_values, ordersByUsers['orders']) \n",
    "plt.xlabel('пользователи') \n",
    "plt.ylabel('заказы')\n",
    "plt.title('Точечная диаграмма числа заказов на одного пользователя')  \n",
    "plt.show()"
   ]
  },
  {
   "cell_type": "markdown",
   "metadata": {},
   "source": [
    "#### Выводы и предположения.\n",
    "Чаще всего 1 пользователь делал 1-2 заказа, реже 3. Однако сложно оценить долю таких клиентов, чтобы понять какие заказы являются выбросами, для этого необходимо посчитать выборочные перцентили количества заказов на одного пользователя."
   ]
  },
  {
   "cell_type": "markdown",
   "metadata": {},
   "source": [
    "### 95-й и 99-й перцентили количества заказов на пользователя."
   ]
  },
  {
   "cell_type": "code",
   "execution_count": 24,
   "metadata": {},
   "outputs": [
    {
     "data": {
      "text/plain": [
       "array([2., 4.])"
      ]
     },
     "execution_count": 24,
     "metadata": {},
     "output_type": "execute_result"
    }
   ],
   "source": [
    "np.percentile(ordersByUsers['orders'], [95, 99])"
   ]
  },
  {
   "cell_type": "markdown",
   "metadata": {},
   "source": [
    "#### Выводы и предположения.\n",
    "Не более 5% пользователей оформляли больше чем 2 заказа. И 1% пользователей заказывали более четырех раз.\n",
    "Разумно выбрать 2 заказа на одного пользователя за нижнюю границу числа заказов, и отсеять аномальных пользователей по ней."
   ]
  },
  {
   "cell_type": "markdown",
   "metadata": {},
   "source": [
    "### Точечный график стоимостей заказов."
   ]
  },
  {
   "cell_type": "code",
   "execution_count": 25,
   "metadata": {},
   "outputs": [
    {
     "data": {
      "text/html": [
       "<div>\n",
       "<style scoped>\n",
       "    .dataframe tbody tr th:only-of-type {\n",
       "        vertical-align: middle;\n",
       "    }\n",
       "\n",
       "    .dataframe tbody tr th {\n",
       "        vertical-align: top;\n",
       "    }\n",
       "\n",
       "    .dataframe thead th {\n",
       "        text-align: right;\n",
       "    }\n",
       "</style>\n",
       "<table border=\"1\" class=\"dataframe\">\n",
       "  <thead>\n",
       "    <tr style=\"text-align: right;\">\n",
       "      <th></th>\n",
       "      <th>transactionId</th>\n",
       "      <th>visitorId</th>\n",
       "      <th>date</th>\n",
       "      <th>revenue</th>\n",
       "      <th>group</th>\n",
       "    </tr>\n",
       "  </thead>\n",
       "  <tbody>\n",
       "    <tr>\n",
       "      <th>425</th>\n",
       "      <td>590470918</td>\n",
       "      <td>1920142716</td>\n",
       "      <td>2019-08-19</td>\n",
       "      <td>1294500</td>\n",
       "      <td>B</td>\n",
       "    </tr>\n",
       "    <tr>\n",
       "      <th>1196</th>\n",
       "      <td>3936777065</td>\n",
       "      <td>2108080724</td>\n",
       "      <td>2019-08-15</td>\n",
       "      <td>202740</td>\n",
       "      <td>B</td>\n",
       "    </tr>\n",
       "    <tr>\n",
       "      <th>858</th>\n",
       "      <td>192721366</td>\n",
       "      <td>1316129916</td>\n",
       "      <td>2019-08-27</td>\n",
       "      <td>93940</td>\n",
       "      <td>A</td>\n",
       "    </tr>\n",
       "    <tr>\n",
       "      <th>1136</th>\n",
       "      <td>666610489</td>\n",
       "      <td>1307669133</td>\n",
       "      <td>2019-08-13</td>\n",
       "      <td>92550</td>\n",
       "      <td>A</td>\n",
       "    </tr>\n",
       "    <tr>\n",
       "      <th>744</th>\n",
       "      <td>3668308183</td>\n",
       "      <td>888512513</td>\n",
       "      <td>2019-08-27</td>\n",
       "      <td>86620</td>\n",
       "      <td>B</td>\n",
       "    </tr>\n",
       "    <tr>\n",
       "      <th>682</th>\n",
       "      <td>1216533772</td>\n",
       "      <td>4266935830</td>\n",
       "      <td>2019-08-29</td>\n",
       "      <td>78990</td>\n",
       "      <td>B</td>\n",
       "    </tr>\n",
       "    <tr>\n",
       "      <th>662</th>\n",
       "      <td>1811671147</td>\n",
       "      <td>4266935830</td>\n",
       "      <td>2019-08-29</td>\n",
       "      <td>78990</td>\n",
       "      <td>A</td>\n",
       "    </tr>\n",
       "    <tr>\n",
       "      <th>743</th>\n",
       "      <td>3603576309</td>\n",
       "      <td>4133034833</td>\n",
       "      <td>2019-08-09</td>\n",
       "      <td>67990</td>\n",
       "      <td>A</td>\n",
       "    </tr>\n",
       "    <tr>\n",
       "      <th>1103</th>\n",
       "      <td>1348774318</td>\n",
       "      <td>1164614297</td>\n",
       "      <td>2019-08-12</td>\n",
       "      <td>66350</td>\n",
       "      <td>A</td>\n",
       "    </tr>\n",
       "    <tr>\n",
       "      <th>1099</th>\n",
       "      <td>316924019</td>\n",
       "      <td>148427295</td>\n",
       "      <td>2019-08-12</td>\n",
       "      <td>65710</td>\n",
       "      <td>A</td>\n",
       "    </tr>\n",
       "  </tbody>\n",
       "</table>\n",
       "</div>"
      ],
      "text/plain": [
       "      transactionId   visitorId       date  revenue group\n",
       "425       590470918  1920142716 2019-08-19  1294500     B\n",
       "1196     3936777065  2108080724 2019-08-15   202740     B\n",
       "858       192721366  1316129916 2019-08-27    93940     A\n",
       "1136      666610489  1307669133 2019-08-13    92550     A\n",
       "744      3668308183   888512513 2019-08-27    86620     B\n",
       "682      1216533772  4266935830 2019-08-29    78990     B\n",
       "662      1811671147  4266935830 2019-08-29    78990     A\n",
       "743      3603576309  4133034833 2019-08-09    67990     A\n",
       "1103     1348774318  1164614297 2019-08-12    66350     A\n",
       "1099      316924019   148427295 2019-08-12    65710     A"
      ]
     },
     "execution_count": 25,
     "metadata": {},
     "output_type": "execute_result"
    }
   ],
   "source": [
    "orders.sort_values(by='revenue', ascending=False).head(10)"
   ]
  },
  {
   "cell_type": "code",
   "execution_count": 26,
   "metadata": {
    "scrolled": true
   },
   "outputs": [
    {
     "data": {
      "image/png": "[encoded data removed]",
      "text/plain": [
       "<Figure size 432x288 with 1 Axes>"
      ]
     },
     "metadata": {
      "needs_background": "light"
     },
     "output_type": "display_data"
    }
   ],
   "source": [
    "x_values = pd.Series(range(0,len(orders['revenue'])))\n",
    "plt.scatter(x_values, orders['revenue']) \n",
    "plt.xlabel('пользователи') \n",
    "plt.ylabel('стоимость заказа')\n",
    "plt.title('Точечная диаграмма числа заказов на одного пользователя')  \n",
    "plt.show()"
   ]
  },
  {
   "cell_type": "code",
   "execution_count": 27,
   "metadata": {},
   "outputs": [
    {
     "data": {
      "text/plain": [
       "(0.0, 1210.0, 0.0, 100000.0)"
      ]
     },
     "execution_count": 27,
     "metadata": {},
     "output_type": "execute_result"
    },
    {
     "data": {
      "image/png": "[encoded data removed]",
      "text/plain": [
       "<Figure size 432x288 with 1 Axes>"
      ]
     },
     "metadata": {
      "needs_background": "light"
     },
     "output_type": "display_data"
    }
   ],
   "source": [
    "x_values = pd.Series(range(0,len(orders['revenue'])))\n",
    "plt.scatter(x_values, orders['revenue']) \n",
    "plt.axis([0, 1210, 0, 100000])"
   ]
  },
  {
   "cell_type": "markdown",
   "metadata": {},
   "source": [
    "####  Выводы и предположения.\n",
    "Есть единичный заказ свыше 1,2 млн и около 200 тыс, остальные заказы до 100 тыс, график не позволяет оценить какие заказы считать выбросами. "
   ]
  },
  {
   "cell_type": "markdown",
   "metadata": {},
   "source": [
    "### 95-й и 99-й перцентили стоимости заказов."
   ]
  },
  {
   "cell_type": "code",
   "execution_count": 28,
   "metadata": {},
   "outputs": [
    {
     "data": {
      "text/plain": [
       "array([28000. , 58233.2])"
      ]
     },
     "execution_count": 28,
     "metadata": {},
     "output_type": "execute_result"
    }
   ],
   "source": [
    "np.percentile(orders['revenue'], [95, 99])"
   ]
  },
  {
   "cell_type": "markdown",
   "metadata": {},
   "source": [
    "####  Выводы и предположения.\n",
    "Менее 1% заказа на сумму свыше 58 тыс. Предгается взять за нижнюю границу стоимости заказов чек в 30 тыс, все заказы, которые окажутся выше - отсеять как аномальные заказы. "
   ]
  },
  {
   "cell_type": "markdown",
   "metadata": {},
   "source": [
    "### Проверка статистической значимости различий в конверсии между группами по «сырым» данным.\n",
    "В качестве нулевой гипотезы примем, что различий в конверсии между группами  нет. Альтернативная гипотеза - различия есть. Уровень значимости будет равен 0,05. Если p-value будет больше, то нулевую гипотезу не будем отвергать. "
   ]
  },
  {
   "cell_type": "markdown",
   "metadata": {},
   "source": [
    "*Создадим переменные ordersByUsersA и ordersByUsersB со столбцами ['userId', 'orders']. В них для пользователей, которые заказывали хотя бы 1 раз, укажем число совершённых заказов.*"
   ]
  },
  {
   "cell_type": "code",
   "execution_count": 29,
   "metadata": {},
   "outputs": [
    {
     "data": {
      "text/plain": [
       "Index(['transactionId', 'visitorId', 'date', 'revenue', 'group'], dtype='object')"
      ]
     },
     "execution_count": 29,
     "metadata": {},
     "output_type": "execute_result"
    }
   ],
   "source": [
    "orders.columns"
   ]
  },
  {
   "cell_type": "code",
   "execution_count": 30,
   "metadata": {},
   "outputs": [
    {
     "data": {
      "text/html": [
       "<div>\n",
       "<style scoped>\n",
       "    .dataframe tbody tr th:only-of-type {\n",
       "        vertical-align: middle;\n",
       "    }\n",
       "\n",
       "    .dataframe tbody tr th {\n",
       "        vertical-align: top;\n",
       "    }\n",
       "\n",
       "    .dataframe thead th {\n",
       "        text-align: right;\n",
       "    }\n",
       "</style>\n",
       "<table border=\"1\" class=\"dataframe\">\n",
       "  <thead>\n",
       "    <tr style=\"text-align: right;\">\n",
       "      <th></th>\n",
       "      <th>userId</th>\n",
       "      <th>orders</th>\n",
       "    </tr>\n",
       "  </thead>\n",
       "  <tbody>\n",
       "    <tr>\n",
       "      <th>0</th>\n",
       "      <td>8300375</td>\n",
       "      <td>1</td>\n",
       "    </tr>\n",
       "    <tr>\n",
       "      <th>1</th>\n",
       "      <td>11685486</td>\n",
       "      <td>1</td>\n",
       "    </tr>\n",
       "    <tr>\n",
       "      <th>2</th>\n",
       "      <td>54447517</td>\n",
       "      <td>1</td>\n",
       "    </tr>\n",
       "    <tr>\n",
       "      <th>3</th>\n",
       "      <td>66685450</td>\n",
       "      <td>1</td>\n",
       "    </tr>\n",
       "    <tr>\n",
       "      <th>4</th>\n",
       "      <td>78758296</td>\n",
       "      <td>1</td>\n",
       "    </tr>\n",
       "  </tbody>\n",
       "</table>\n",
       "</div>"
      ],
      "text/plain": [
       "     userId  orders\n",
       "0   8300375       1\n",
       "1  11685486       1\n",
       "2  54447517       1\n",
       "3  66685450       1\n",
       "4  78758296       1"
      ]
     },
     "metadata": {},
     "output_type": "display_data"
    },
    {
     "data": {
      "text/html": [
       "<div>\n",
       "<style scoped>\n",
       "    .dataframe tbody tr th:only-of-type {\n",
       "        vertical-align: middle;\n",
       "    }\n",
       "\n",
       "    .dataframe tbody tr th {\n",
       "        vertical-align: top;\n",
       "    }\n",
       "\n",
       "    .dataframe thead th {\n",
       "        text-align: right;\n",
       "    }\n",
       "</style>\n",
       "<table border=\"1\" class=\"dataframe\">\n",
       "  <thead>\n",
       "    <tr style=\"text-align: right;\">\n",
       "      <th></th>\n",
       "      <th>userId</th>\n",
       "      <th>orders</th>\n",
       "    </tr>\n",
       "  </thead>\n",
       "  <tbody>\n",
       "    <tr>\n",
       "      <th>0</th>\n",
       "      <td>5114589</td>\n",
       "      <td>1</td>\n",
       "    </tr>\n",
       "    <tr>\n",
       "      <th>1</th>\n",
       "      <td>6958315</td>\n",
       "      <td>1</td>\n",
       "    </tr>\n",
       "    <tr>\n",
       "      <th>2</th>\n",
       "      <td>8300375</td>\n",
       "      <td>1</td>\n",
       "    </tr>\n",
       "    <tr>\n",
       "      <th>3</th>\n",
       "      <td>39475350</td>\n",
       "      <td>1</td>\n",
       "    </tr>\n",
       "    <tr>\n",
       "      <th>4</th>\n",
       "      <td>47206413</td>\n",
       "      <td>1</td>\n",
       "    </tr>\n",
       "  </tbody>\n",
       "</table>\n",
       "</div>"
      ],
      "text/plain": [
       "     userId  orders\n",
       "0   5114589       1\n",
       "1   6958315       1\n",
       "2   8300375       1\n",
       "3  39475350       1\n",
       "4  47206413       1"
      ]
     },
     "execution_count": 30,
     "metadata": {},
     "output_type": "execute_result"
    }
   ],
   "source": [
    "ordersByUsersA = (\n",
    "    orders[orders['group'] == 'A']\n",
    "    .groupby('visitorId', as_index=False)\n",
    "    .agg({'transactionId': pd.Series.nunique})\n",
    ")\n",
    "ordersByUsersA.columns = ['userId', 'orders']\n",
    "display(ordersByUsersA.head())\n",
    "ordersByUsersB = (\n",
    "    orders[orders['group'] == 'B']\n",
    "    .groupby('visitorId', as_index=False)\n",
    "    .agg({'transactionId': pd.Series.nunique})\n",
    ")\n",
    "ordersByUsersB.columns = ['userId', 'orders'] \n",
    "ordersByUsersB.head()"
   ]
  },
  {
   "cell_type": "markdown",
   "metadata": {},
   "source": [
    "*Объявим переменные sampleA и sampleB, в которых пользователям из разных групп будет соответствовать количество заказов. Тем, кто ничего не заказал, будут соответствовать нули.*"
   ]
  },
  {
   "cell_type": "code",
   "execution_count": 31,
   "metadata": {},
   "outputs": [],
   "source": [
    "sampleA = pd.concat(\n",
    "    [\n",
    "        ordersByUsersA['orders'],\n",
    "        pd.Series(\n",
    "            0,\n",
    "            index=np.arange(\n",
    "                data_ab['visitorsPerDateA'].sum() - len(ordersByUsersA['orders'])\n",
    "            ),\n",
    "            name='orders',\n",
    "        ),\n",
    "    ],\n",
    "    axis=0,\n",
    ")\n",
    "\n",
    "sampleB = pd.concat(\n",
    "    [\n",
    "        ordersByUsersB['orders'],\n",
    "        pd.Series(\n",
    "            0,\n",
    "            index=np.arange(\n",
    "                data_ab['visitorsPerDateB'].sum() - len(ordersByUsersB['orders'])\n",
    "            ),\n",
    "            name='orders',\n",
    "        ),\n",
    "    ],\n",
    "    axis=0,\n",
    ")"
   ]
  },
  {
   "cell_type": "markdown",
   "metadata": {},
   "source": [
    "*Проверим статистическую значимость различий в конверсии между группами, а также найдем относительное различие в конверсиях между группами*."
   ]
  },
  {
   "cell_type": "code",
   "execution_count": 32,
   "metadata": {},
   "outputs": [
    {
     "name": "stdout",
     "output_type": "stream",
     "text": [
      "p-value: 0.017\n",
      "конверсия: 0.138\n"
     ]
    }
   ],
   "source": [
    "print('p-value:',\"{0:.3f}\".format(stats.mannwhitneyu(sampleA, sampleB)[1]))\n",
    "\n",
    "print('конверсия:',\"{0:.3f}\".format(sampleB.mean() / sampleA.mean() - 1))"
   ]
  },
  {
   "cell_type": "markdown",
   "metadata": {},
   "source": [
    "#### Выводы:\n",
    "p-value оказалось меньше, нулевая гипотеза отвергается. Результаты свидетельствуют о том, что различия в конверсиях между группами есть и они статистически значимы, чтобы их игнорировать.  Коверсия в группе В на 13,8 % выше, чем в группе А. "
   ]
  },
  {
   "cell_type": "markdown",
   "metadata": {},
   "source": [
    "### Проверка статистической значимости различий в среднем чеке заказа между группами по «сырым» данным. \n",
    "Н0: различий в среднем чеке между группами нет\n",
    "Н1: различия есть\n",
    "уровень статистической значимости 0,05"
   ]
  },
  {
   "cell_type": "code",
   "execution_count": 33,
   "metadata": {},
   "outputs": [
    {
     "name": "stdout",
     "output_type": "stream",
     "text": [
      "p-value: 0.729\n",
      "средний чек 0.259\n"
     ]
    }
   ],
   "source": [
    "print('p-value:','{0:.3f}'.format(stats.mannwhitneyu(orders[orders['group']=='A']['revenue'], orders[orders['group']=='B']['revenue'])[1]))\n",
    "print('средний чек','{0:.3f}'.format(orders[orders['group']=='B']['revenue'].mean()/orders[orders['group']=='A']['revenue'].mean()-1))"
   ]
  },
  {
   "cell_type": "markdown",
   "metadata": {},
   "source": [
    "#### Выводы:\n",
    "P-value значительно больше 0.05. Значит, причин отвергать нулевую гипотезу и считать, что в среднем чеке есть различия, нет. Вместе с тем средний чек группы B выше среднего чека группы A на 26%. "
   ]
  },
  {
   "cell_type": "markdown",
   "metadata": {},
   "source": [
    "### Проверка статистической значимости различий в конверсии между группами по «очищенным» данным\n",
    "\n",
    "Примем за аномальных пользователей тех, кто совершил больше 2 заказов или совершил заказ дороже 28 000 рублей. Так мы уберём 5% пользователей с наибольшим числом заказов и от 1% до 5% пользователей с дорогими заказами."
   ]
  },
  {
   "cell_type": "code",
   "execution_count": 34,
   "metadata": {},
   "outputs": [
    {
     "name": "stdout",
     "output_type": "stream",
     "text": [
      "1099    148427295\n",
      "18      199603092\n",
      "928     204675465\n",
      "23      237748145\n",
      "37      249864742\n",
      "dtype: int64\n"
     ]
    },
    {
     "data": {
      "text/plain": [
       "74"
      ]
     },
     "execution_count": 34,
     "metadata": {},
     "output_type": "execute_result"
    }
   ],
   "source": [
    "# Объединим аномальных пользователей в таблице abnormalUsers\n",
    "usersWithManyOrders = pd.concat(\n",
    "    [\n",
    "        ordersByUsersA[ordersByUsersA['orders'] > np.percentile(ordersByUsers['orders'], [95, 99])[0]]['userId'],\n",
    "        ordersByUsersB[ordersByUsersB['orders'] > np.percentile(ordersByUsers['orders'], [95, 99])[0]]['userId'],\n",
    "    ],\n",
    "    axis=0,\n",
    ")\n",
    "usersWithExpensiveOrders = orders[orders['revenue'] > np.percentile(orders['revenue'], [95, 99])[0]]['visitorId']\n",
    "abnormalUsers = (\n",
    "    pd.concat([usersWithManyOrders, usersWithExpensiveOrders], axis=0)\n",
    "    .drop_duplicates()\n",
    "    .sort_values()\n",
    ")\n",
    "print(abnormalUsers.head(5))\n",
    "abnormalUsers.shape[0]"
   ]
  },
  {
   "cell_type": "markdown",
   "metadata": {},
   "source": [
    "**74 аномальных пользователей, которые могли повлиять на результаты теста.**"
   ]
  },
  {
   "cell_type": "code",
   "execution_count": 35,
   "metadata": {},
   "outputs": [],
   "source": [
    "# Подготовим выборки количества заказов по пользователям по группам теста\n",
    "sampleAFiltered = pd.concat(\n",
    "    [\n",
    "        ordersByUsersA[\n",
    "            np.logical_not(ordersByUsersA['userId'].isin(abnormalUsers))\n",
    "        ]['orders'],\n",
    "        pd.Series(\n",
    "            0,\n",
    "            index=np.arange(\n",
    "                data_ab['visitorsPerDateA'].sum() - len(ordersByUsersA['orders'])\n",
    "            ),\n",
    "            name='orders',\n",
    "        ),\n",
    "    ],\n",
    "    axis=0,\n",
    ")\n",
    "\n",
    "sampleBFiltered = pd.concat(\n",
    "    [\n",
    "        ordersByUsersB[\n",
    "            np.logical_not(ordersByUsersB['userId'].isin(abnormalUsers))\n",
    "        ]['orders'],\n",
    "        pd.Series(\n",
    "            0,\n",
    "            index=np.arange(\n",
    "                data_ab['visitorsPerDateB'].sum() - len(ordersByUsersB['orders'])\n",
    "            ),\n",
    "            name='orders',\n",
    "        ),\n",
    "    ],\n",
    "    axis=0,\n",
    ")"
   ]
  },
  {
   "cell_type": "code",
   "execution_count": 36,
   "metadata": {},
   "outputs": [
    {
     "name": "stdout",
     "output_type": "stream",
     "text": [
      "p-value: 0.013\n",
      "конверсия: 0.173\n"
     ]
    }
   ],
   "source": [
    "# Применим статистический критерий Манна-Уитни к полученным выборкам\n",
    "print('p-value:','{0:.3f}'.format(stats.mannwhitneyu(sampleAFiltered, sampleBFiltered)[1]))\n",
    "print('конверсия:','{0:.3f}'.format(sampleBFiltered.mean()/sampleAFiltered.mean()-1))"
   ]
  },
  {
   "cell_type": "markdown",
   "metadata": {},
   "source": [
    "#### Выводы:\n",
    "После очищения данных результаты не изменились - различия в конверсии между группами есть.  Конверсия группы В  на 17% выше, чем в группе А (до фильтрации данных на 14%)."
   ]
  },
  {
   "cell_type": "markdown",
   "metadata": {},
   "source": [
    "### Проверка статистической значимости различий в среднем чеке заказа между группами по «очищенным» данным. "
   ]
  },
  {
   "cell_type": "code",
   "execution_count": 37,
   "metadata": {},
   "outputs": [
    {
     "name": "stdout",
     "output_type": "stream",
     "text": [
      "p-value: 0.738\n",
      "средний чек: -0.020\n"
     ]
    }
   ],
   "source": [
    "print('p-value:',\n",
    "    '{0:.3f}'.format(\n",
    "        stats.mannwhitneyu(\n",
    "            orders[\n",
    "                np.logical_and(\n",
    "                    orders['group'] == 'A',\n",
    "                    np.logical_not(orders['visitorId'].isin(abnormalUsers)),\n",
    "                )\n",
    "            ]['revenue'],\n",
    "            orders[\n",
    "                np.logical_and(\n",
    "                    orders['group'] == 'B',\n",
    "                    np.logical_not(orders['visitorId'].isin(abnormalUsers)),\n",
    "                )\n",
    "            ]['revenue'],\n",
    "        )[1]\n",
    "    )\n",
    ")\n",
    "\n",
    "print('средний чек:',\n",
    "    \"{0:.3f}\".format(\n",
    "        orders[\n",
    "            np.logical_and(\n",
    "                orders['group'] == 'B',\n",
    "                np.logical_not(orders['visitorId'].isin(abnormalUsers)),\n",
    "            )\n",
    "        ]['revenue'].mean()\n",
    "        / orders[\n",
    "            np.logical_and(\n",
    "                orders['group'] == 'A',\n",
    "                np.logical_not(orders['visitorId'].isin(abnormalUsers)),\n",
    "            )\n",
    "        ]['revenue'].mean()\n",
    "        - 1\n",
    "    )\n",
    ") "
   ]
  },
  {
   "cell_type": "markdown",
   "metadata": {},
   "source": [
    "#### Выводы:\n",
    "Различий в среднем чеке также не выявлено. Однако результат относительного различия в группах совершенно иной. Если до фильтрации данных средний чек в группе В был выше на 29, то сейчас он на 2 % ниже. "
   ]
  },
  {
   "cell_type": "markdown",
   "metadata": {},
   "source": [
    "### Общий вывод\n",
    "\n",
    "В результате исследования была осуществлена приоритизация гипотез двумя методами ICE и RICE. Поскольку метод RICE включает такой компонент, как охват пользователей, гипотезы получили разное место в списке.\n",
    "\n",
    "В результате анализа графиков кумулятивного среднего чека и кумулятивной конверсиии, на первый взгляд, можно было предположить, особенно по второй половине теста, когда графики относительно \"выравнялись\", что А/В тест позволил зафиксировать разницу в группах и прийти к выводу, что исследуемые изменения положительно повлияли на продажи. Однако наличие всплесков на графиках косвенно указывали на ниличие аномальных данных, которые могли искажать реальную картину. Благодаря построению точечных графиков и нахождению 95 и 99 перцентилей, были определены границы аномальных данных. Было принято решение исключить из выборок пользователей, совершивших более 2 заказов и суммой чека свыше 28 тыс.В результате из данных было исключено 74 пользователей. Вместе с тем фильтрация данных не привела к изменению результатов проверки статистической значимости различий в конверсии между группами. Тест показал, что разница в конверсии между группами значительная, чтобы принять за статистическую погрешность. Так, в группе В конверсия оказалась на 17 % выше, чем в группе А. Также тест не зафиксировал разницу в среднем чеке в группах, где средний чек в группе В оказался на 2% меньше, чем в группе А. Стоит отметить, что до фильтрации средний чек в группе В был выше на 26 %. Скорее всего, в выборку попал аномально большой заказ, который исказил общую картину. \n",
    "\n",
    "АВ-тест зафиксировал более высокую конверсию в группе В. Таким образом, тест можно завершить и признать победу группы В над грауппой А."
   ]
  }
 ],
 "metadata": {
  "ExecuteTimeLog": [
   {
    "duration": 56,
    "start_time": "2022-05-27T06:04:25.672Z"
   },
   {
    "duration": 1057,
    "start_time": "2022-05-27T06:04:30.917Z"
   },
   {
    "duration": 86,
    "start_time": "2022-05-27T06:04:33.688Z"
   },
   {
    "duration": 33,
    "start_time": "2022-05-27T06:04:59.693Z"
   },
   {
    "duration": 28,
    "start_time": "2022-05-27T06:05:53.579Z"
   },
   {
    "duration": 30,
    "start_time": "2022-05-27T06:06:11.475Z"
   },
   {
    "duration": 16,
    "start_time": "2022-05-27T06:18:59.170Z"
   },
   {
    "duration": 5,
    "start_time": "2022-05-27T06:20:56.594Z"
   },
   {
    "duration": 3,
    "start_time": "2022-05-27T06:22:28.720Z"
   },
   {
    "duration": 258,
    "start_time": "2022-05-27T06:22:45.159Z"
   },
   {
    "duration": 12,
    "start_time": "2022-05-27T06:22:57.593Z"
   },
   {
    "duration": 10,
    "start_time": "2022-05-27T06:23:06.069Z"
   },
   {
    "duration": 9,
    "start_time": "2022-05-27T06:24:26.868Z"
   },
   {
    "duration": 9,
    "start_time": "2022-05-27T06:24:34.721Z"
   },
   {
    "duration": 174,
    "start_time": "2022-05-27T06:55:57.421Z"
   },
   {
    "duration": 70,
    "start_time": "2022-05-27T06:56:18.178Z"
   },
   {
    "duration": 59,
    "start_time": "2022-05-27T06:59:42.196Z"
   },
   {
    "duration": 35,
    "start_time": "2022-05-27T07:00:25.216Z"
   },
   {
    "duration": 65,
    "start_time": "2022-05-27T07:07:15.672Z"
   },
   {
    "duration": 33,
    "start_time": "2022-05-27T07:09:37.473Z"
   },
   {
    "duration": 837,
    "start_time": "2022-05-27T07:09:53.422Z"
   },
   {
    "duration": 39,
    "start_time": "2022-05-27T07:09:54.261Z"
   },
   {
    "duration": 4,
    "start_time": "2022-05-27T07:09:54.302Z"
   },
   {
    "duration": 22,
    "start_time": "2022-05-27T07:09:54.308Z"
   },
   {
    "duration": 28,
    "start_time": "2022-05-27T07:09:54.332Z"
   },
   {
    "duration": 63,
    "start_time": "2022-05-27T07:09:54.362Z"
   },
   {
    "duration": 28,
    "start_time": "2022-05-27T07:09:54.427Z"
   },
   {
    "duration": 5,
    "start_time": "2022-05-27T07:09:54.456Z"
   },
   {
    "duration": 37,
    "start_time": "2022-05-27T07:12:15.159Z"
   },
   {
    "duration": 34,
    "start_time": "2022-05-27T07:12:23.828Z"
   },
   {
    "duration": 41,
    "start_time": "2022-05-27T07:12:54.510Z"
   },
   {
    "duration": 34,
    "start_time": "2022-05-27T07:13:11.725Z"
   },
   {
    "duration": 42,
    "start_time": "2022-05-27T07:13:19.476Z"
   },
   {
    "duration": 31,
    "start_time": "2022-05-27T07:13:26.799Z"
   },
   {
    "duration": 41,
    "start_time": "2022-05-27T07:13:40.426Z"
   },
   {
    "duration": 31,
    "start_time": "2022-05-27T07:13:45.419Z"
   },
   {
    "duration": 49,
    "start_time": "2022-05-27T07:16:02.952Z"
   },
   {
    "duration": 203,
    "start_time": "2022-05-27T07:16:23.891Z"
   },
   {
    "duration": 154,
    "start_time": "2022-05-27T07:17:07.267Z"
   },
   {
    "duration": 150,
    "start_time": "2022-05-27T07:17:18.459Z"
   },
   {
    "duration": 11,
    "start_time": "2022-05-27T07:20:59.460Z"
   },
   {
    "duration": 11,
    "start_time": "2022-05-27T07:22:02.228Z"
   },
   {
    "duration": 18,
    "start_time": "2022-05-27T07:26:41.596Z"
   },
   {
    "duration": 8,
    "start_time": "2022-05-27T07:27:54.413Z"
   },
   {
    "duration": 22,
    "start_time": "2022-05-27T07:28:34.578Z"
   },
   {
    "duration": 8,
    "start_time": "2022-05-27T07:47:51.196Z"
   },
   {
    "duration": 107,
    "start_time": "2022-05-27T07:47:54.845Z"
   },
   {
    "duration": 213,
    "start_time": "2022-05-27T07:49:10.042Z"
   },
   {
    "duration": 765,
    "start_time": "2022-05-27T13:34:47.762Z"
   },
   {
    "duration": 1105,
    "start_time": "2022-05-27T13:34:56.025Z"
   },
   {
    "duration": 35,
    "start_time": "2022-05-27T13:34:57.132Z"
   },
   {
    "duration": 5,
    "start_time": "2022-05-27T13:34:57.168Z"
   },
   {
    "duration": 22,
    "start_time": "2022-05-27T13:34:57.174Z"
   },
   {
    "duration": 14,
    "start_time": "2022-05-27T13:34:57.198Z"
   },
   {
    "duration": 68,
    "start_time": "2022-05-27T13:34:57.213Z"
   },
   {
    "duration": 25,
    "start_time": "2022-05-27T13:34:57.282Z"
   },
   {
    "duration": 19,
    "start_time": "2022-05-27T13:34:57.309Z"
   },
   {
    "duration": 213,
    "start_time": "2022-05-27T13:34:57.329Z"
   },
   {
    "duration": 386,
    "start_time": "2022-05-27T13:37:23.952Z"
   },
   {
    "duration": 220,
    "start_time": "2022-05-27T13:37:45.957Z"
   },
   {
    "duration": 161,
    "start_time": "2022-05-27T14:43:05.252Z"
   },
   {
    "duration": 317,
    "start_time": "2022-05-27T16:47:01.987Z"
   },
   {
    "duration": 6,
    "start_time": "2022-05-27T16:57:17.080Z"
   },
   {
    "duration": 4,
    "start_time": "2022-05-27T16:58:22.191Z"
   },
   {
    "duration": 4,
    "start_time": "2022-05-27T16:58:35.567Z"
   },
   {
    "duration": 5,
    "start_time": "2022-05-27T16:58:45.851Z"
   },
   {
    "duration": 4,
    "start_time": "2022-05-27T17:00:24.032Z"
   },
   {
    "duration": 268,
    "start_time": "2022-05-27T17:02:15.874Z"
   },
   {
    "duration": 34,
    "start_time": "2022-05-27T17:03:18.631Z"
   },
   {
    "duration": 196,
    "start_time": "2022-05-27T17:03:28.759Z"
   },
   {
    "duration": 959,
    "start_time": "2022-05-27T17:04:23.916Z"
   },
   {
    "duration": 35,
    "start_time": "2022-05-27T17:04:24.876Z"
   },
   {
    "duration": 4,
    "start_time": "2022-05-27T17:04:24.913Z"
   },
   {
    "duration": 15,
    "start_time": "2022-05-27T17:04:24.918Z"
   },
   {
    "duration": 8,
    "start_time": "2022-05-27T17:04:24.935Z"
   },
   {
    "duration": 46,
    "start_time": "2022-05-27T17:04:24.945Z"
   },
   {
    "duration": 23,
    "start_time": "2022-05-27T17:04:24.993Z"
   },
   {
    "duration": 19,
    "start_time": "2022-05-27T17:04:25.017Z"
   },
   {
    "duration": 183,
    "start_time": "2022-05-27T17:04:25.038Z"
   },
   {
    "duration": 245,
    "start_time": "2022-05-27T17:04:25.223Z"
   },
   {
    "duration": 207,
    "start_time": "2022-05-27T17:04:25.470Z"
   },
   {
    "duration": 272,
    "start_time": "2022-05-27T17:04:25.678Z"
   },
   {
    "duration": 115,
    "start_time": "2022-05-27T17:04:25.958Z"
   },
   {
    "duration": 0,
    "start_time": "2022-05-27T17:04:26.074Z"
   },
   {
    "duration": 0,
    "start_time": "2022-05-27T17:04:26.075Z"
   },
   {
    "duration": 4,
    "start_time": "2022-05-27T17:04:43.803Z"
   },
   {
    "duration": 18,
    "start_time": "2022-05-27T17:05:40.366Z"
   },
   {
    "duration": 3,
    "start_time": "2022-05-27T17:05:56.395Z"
   },
   {
    "duration": 4,
    "start_time": "2022-05-27T17:06:01.881Z"
   },
   {
    "duration": 191,
    "start_time": "2022-05-27T17:06:04.171Z"
   },
   {
    "duration": 184,
    "start_time": "2022-05-27T17:06:13.823Z"
   },
   {
    "duration": 4,
    "start_time": "2022-05-27T17:06:41.090Z"
   },
   {
    "duration": 182,
    "start_time": "2022-05-27T17:07:12.801Z"
   },
   {
    "duration": 232,
    "start_time": "2022-05-27T17:07:29.570Z"
   },
   {
    "duration": 189,
    "start_time": "2022-05-27T17:07:54.793Z"
   },
   {
    "duration": 197,
    "start_time": "2022-05-27T17:09:49.684Z"
   },
   {
    "duration": 9,
    "start_time": "2022-05-27T17:10:19.787Z"
   },
   {
    "duration": 4,
    "start_time": "2022-05-27T17:10:33.165Z"
   },
   {
    "duration": 215,
    "start_time": "2022-05-27T17:10:52.613Z"
   },
   {
    "duration": 184,
    "start_time": "2022-05-27T17:11:09.862Z"
   },
   {
    "duration": 177,
    "start_time": "2022-05-27T17:11:21.765Z"
   },
   {
    "duration": 371,
    "start_time": "2022-05-27T17:23:05.843Z"
   },
   {
    "duration": 7,
    "start_time": "2022-05-27T17:32:53.660Z"
   },
   {
    "duration": 13,
    "start_time": "2022-05-27T17:34:38.191Z"
   },
   {
    "duration": 11,
    "start_time": "2022-05-27T17:35:08.625Z"
   },
   {
    "duration": 100,
    "start_time": "2022-05-27T17:37:07.445Z"
   },
   {
    "duration": 97,
    "start_time": "2022-05-27T17:37:26.409Z"
   },
   {
    "duration": 6,
    "start_time": "2022-05-27T17:44:50.083Z"
   },
   {
    "duration": 132,
    "start_time": "2022-05-27T17:52:00.678Z"
   },
   {
    "duration": 120,
    "start_time": "2022-05-27T17:52:54.166Z"
   },
   {
    "duration": 5,
    "start_time": "2022-05-27T17:54:15.298Z"
   },
   {
    "duration": 10,
    "start_time": "2022-05-27T17:56:26.657Z"
   },
   {
    "duration": 10,
    "start_time": "2022-05-27T17:56:32.674Z"
   },
   {
    "duration": 6,
    "start_time": "2022-05-27T18:01:20.585Z"
   },
   {
    "duration": 5,
    "start_time": "2022-05-27T18:03:05.302Z"
   },
   {
    "duration": 6,
    "start_time": "2022-05-27T18:03:20.208Z"
   },
   {
    "duration": 30,
    "start_time": "2022-05-27T18:07:52.294Z"
   },
   {
    "duration": 4,
    "start_time": "2022-05-27T18:27:55.877Z"
   },
   {
    "duration": 130,
    "start_time": "2022-05-27T18:29:19.292Z"
   },
   {
    "duration": 143,
    "start_time": "2022-05-27T18:29:54.122Z"
   },
   {
    "duration": 11,
    "start_time": "2022-05-27T18:36:16.165Z"
   },
   {
    "duration": 568,
    "start_time": "2022-05-27T18:36:22.284Z"
   },
   {
    "duration": 6,
    "start_time": "2022-05-27T18:37:06.894Z"
   },
   {
    "duration": 43,
    "start_time": "2022-05-27T18:37:12.595Z"
   },
   {
    "duration": 14,
    "start_time": "2022-05-27T19:26:01.296Z"
   },
   {
    "duration": 12,
    "start_time": "2022-05-27T19:37:42.858Z"
   },
   {
    "duration": 20,
    "start_time": "2022-05-27T19:38:17.345Z"
   },
   {
    "duration": 11,
    "start_time": "2022-05-27T19:38:42.081Z"
   },
   {
    "duration": 12,
    "start_time": "2022-05-27T19:42:43.106Z"
   },
   {
    "duration": 519,
    "start_time": "2022-05-27T19:42:49.590Z"
   },
   {
    "duration": 11,
    "start_time": "2022-05-27T19:43:12.186Z"
   },
   {
    "duration": 35,
    "start_time": "2022-05-27T19:43:14.609Z"
   },
   {
    "duration": 566,
    "start_time": "2022-05-27T19:52:45.127Z"
   },
   {
    "duration": 13,
    "start_time": "2022-05-27T19:54:39.809Z"
   },
   {
    "duration": 988,
    "start_time": "2022-05-27T21:47:58.074Z"
   },
   {
    "duration": 34,
    "start_time": "2022-05-27T21:47:59.064Z"
   },
   {
    "duration": 5,
    "start_time": "2022-05-27T21:47:59.099Z"
   },
   {
    "duration": 11,
    "start_time": "2022-05-27T21:47:59.105Z"
   },
   {
    "duration": 9,
    "start_time": "2022-05-27T21:47:59.118Z"
   },
   {
    "duration": 50,
    "start_time": "2022-05-27T21:47:59.128Z"
   },
   {
    "duration": 24,
    "start_time": "2022-05-27T21:47:59.180Z"
   },
   {
    "duration": 19,
    "start_time": "2022-05-27T21:47:59.205Z"
   },
   {
    "duration": 222,
    "start_time": "2022-05-27T21:47:59.225Z"
   },
   {
    "duration": 257,
    "start_time": "2022-05-27T21:47:59.449Z"
   },
   {
    "duration": 216,
    "start_time": "2022-05-27T21:47:59.708Z"
   },
   {
    "duration": 302,
    "start_time": "2022-05-27T21:47:59.925Z"
   },
   {
    "duration": 4,
    "start_time": "2022-05-27T21:48:00.228Z"
   },
   {
    "duration": 9,
    "start_time": "2022-05-27T21:48:00.233Z"
   },
   {
    "duration": 173,
    "start_time": "2022-05-27T21:48:00.243Z"
   },
   {
    "duration": 244,
    "start_time": "2022-05-27T21:48:00.417Z"
   },
   {
    "duration": 10,
    "start_time": "2022-05-27T21:48:00.664Z"
   },
   {
    "duration": 111,
    "start_time": "2022-05-27T21:48:00.676Z"
   },
   {
    "duration": 5,
    "start_time": "2022-05-27T21:48:00.789Z"
   },
   {
    "duration": 10,
    "start_time": "2022-05-27T21:48:00.875Z"
   },
   {
    "duration": 120,
    "start_time": "2022-05-27T21:48:00.893Z"
   },
   {
    "duration": 5,
    "start_time": "2022-05-27T21:48:01.453Z"
   },
   {
    "duration": 4,
    "start_time": "2022-05-27T21:48:01.848Z"
   },
   {
    "duration": 157,
    "start_time": "2022-05-27T21:48:01.863Z"
   },
   {
    "duration": 7,
    "start_time": "2022-05-27T21:48:02.023Z"
   },
   {
    "duration": 38,
    "start_time": "2022-05-27T21:48:02.266Z"
   },
   {
    "duration": 10,
    "start_time": "2022-05-27T21:48:03.089Z"
   },
   {
    "duration": 10,
    "start_time": "2022-05-27T21:48:03.568Z"
   },
   {
    "duration": 8,
    "start_time": "2022-05-27T21:48:03.580Z"
   },
   {
    "duration": 24,
    "start_time": "2022-05-27T21:48:03.589Z"
   },
   {
    "duration": 12,
    "start_time": "2022-05-27T21:48:04.159Z"
   },
   {
    "duration": 1532,
    "start_time": "2022-05-28T12:36:54.753Z"
   },
   {
    "duration": 34,
    "start_time": "2022-05-28T12:36:56.287Z"
   },
   {
    "duration": 5,
    "start_time": "2022-05-28T12:36:56.322Z"
   },
   {
    "duration": 20,
    "start_time": "2022-05-28T12:36:56.329Z"
   },
   {
    "duration": 10,
    "start_time": "2022-05-28T12:36:56.351Z"
   },
   {
    "duration": 50,
    "start_time": "2022-05-28T12:36:56.363Z"
   },
   {
    "duration": 23,
    "start_time": "2022-05-28T12:36:56.414Z"
   },
   {
    "duration": 20,
    "start_time": "2022-05-28T12:36:56.439Z"
   },
   {
    "duration": 235,
    "start_time": "2022-05-28T12:36:56.460Z"
   },
   {
    "duration": 300,
    "start_time": "2022-05-28T12:36:56.698Z"
   },
   {
    "duration": 224,
    "start_time": "2022-05-28T12:36:57.000Z"
   },
   {
    "duration": 296,
    "start_time": "2022-05-28T12:36:57.226Z"
   },
   {
    "duration": 3,
    "start_time": "2022-05-28T12:36:57.524Z"
   },
   {
    "duration": 8,
    "start_time": "2022-05-28T12:36:57.529Z"
   },
   {
    "duration": 187,
    "start_time": "2022-05-28T12:36:57.539Z"
   },
   {
    "duration": 278,
    "start_time": "2022-05-28T12:36:57.728Z"
   },
   {
    "duration": 15,
    "start_time": "2022-05-28T12:36:58.008Z"
   },
   {
    "duration": 117,
    "start_time": "2022-05-28T12:36:58.024Z"
   },
   {
    "duration": 9,
    "start_time": "2022-05-28T12:36:58.143Z"
   },
   {
    "duration": 13,
    "start_time": "2022-05-28T12:36:58.154Z"
   },
   {
    "duration": 138,
    "start_time": "2022-05-28T12:36:58.169Z"
   },
   {
    "duration": 5,
    "start_time": "2022-05-28T12:36:58.309Z"
   },
   {
    "duration": 7,
    "start_time": "2022-05-28T12:36:58.316Z"
   },
   {
    "duration": 159,
    "start_time": "2022-05-28T12:36:58.325Z"
   },
   {
    "duration": 6,
    "start_time": "2022-05-28T12:36:58.486Z"
   },
   {
    "duration": 31,
    "start_time": "2022-05-28T12:36:58.493Z"
   },
   {
    "duration": 9,
    "start_time": "2022-05-28T12:36:58.526Z"
   },
   {
    "duration": 10,
    "start_time": "2022-05-28T12:36:58.551Z"
   },
   {
    "duration": 7,
    "start_time": "2022-05-28T12:36:58.563Z"
   },
   {
    "duration": 30,
    "start_time": "2022-05-28T12:36:58.571Z"
   },
   {
    "duration": 15,
    "start_time": "2022-05-28T12:36:58.602Z"
   },
   {
    "duration": 4,
    "start_time": "2022-05-28T12:37:26.545Z"
   },
   {
    "duration": 1383,
    "start_time": "2022-05-29T13:40:49.721Z"
   },
   {
    "duration": 90,
    "start_time": "2022-05-29T13:40:51.107Z"
   },
   {
    "duration": 6,
    "start_time": "2022-05-29T13:40:51.199Z"
   },
   {
    "duration": 20,
    "start_time": "2022-05-29T13:40:51.208Z"
   },
   {
    "duration": 15,
    "start_time": "2022-05-29T13:40:51.230Z"
   },
   {
    "duration": 136,
    "start_time": "2022-05-29T13:40:51.247Z"
   },
   {
    "duration": 68,
    "start_time": "2022-05-29T13:40:51.389Z"
   },
   {
    "duration": 7,
    "start_time": "2022-05-29T13:40:51.459Z"
   },
   {
    "duration": 31,
    "start_time": "2022-05-29T13:40:51.468Z"
   },
   {
    "duration": 262,
    "start_time": "2022-05-29T13:40:51.507Z"
   },
   {
    "duration": 358,
    "start_time": "2022-05-29T13:40:51.771Z"
   },
   {
    "duration": 302,
    "start_time": "2022-05-29T13:40:52.131Z"
   },
   {
    "duration": 380,
    "start_time": "2022-05-29T13:40:52.435Z"
   },
   {
    "duration": 5,
    "start_time": "2022-05-29T13:40:52.817Z"
   },
   {
    "duration": 12,
    "start_time": "2022-05-29T13:40:52.825Z"
   },
   {
    "duration": 264,
    "start_time": "2022-05-29T13:40:52.840Z"
   },
   {
    "duration": 299,
    "start_time": "2022-05-29T13:40:53.106Z"
   },
   {
    "duration": 14,
    "start_time": "2022-05-29T13:40:53.407Z"
   },
   {
    "duration": 145,
    "start_time": "2022-05-29T13:40:53.422Z"
   },
   {
    "duration": 5,
    "start_time": "2022-05-29T13:40:53.569Z"
   },
   {
    "duration": 21,
    "start_time": "2022-05-29T13:40:53.583Z"
   },
   {
    "duration": 157,
    "start_time": "2022-05-29T13:40:53.606Z"
   },
   {
    "duration": 5,
    "start_time": "2022-05-29T13:40:53.765Z"
   },
   {
    "duration": 28,
    "start_time": "2022-05-29T13:40:53.772Z"
   },
   {
    "duration": 249,
    "start_time": "2022-05-29T13:40:53.802Z"
   },
   {
    "duration": 7,
    "start_time": "2022-05-29T13:40:54.053Z"
   },
   {
    "duration": 69,
    "start_time": "2022-05-29T13:40:54.062Z"
   },
   {
    "duration": 11,
    "start_time": "2022-05-29T13:40:54.134Z"
   },
   {
    "duration": 21,
    "start_time": "2022-05-29T13:40:54.147Z"
   },
   {
    "duration": 30,
    "start_time": "2022-05-29T13:40:54.170Z"
   },
   {
    "duration": 33,
    "start_time": "2022-05-29T13:40:54.204Z"
   },
   {
    "duration": 17,
    "start_time": "2022-05-29T13:40:54.239Z"
   },
   {
    "duration": 6,
    "start_time": "2022-05-29T13:47:34.884Z"
   },
   {
    "duration": 5,
    "start_time": "2022-05-29T13:48:39.143Z"
   },
   {
    "duration": 7,
    "start_time": "2022-05-29T13:49:18.567Z"
   },
   {
    "duration": 5,
    "start_time": "2022-05-29T13:52:30.661Z"
   },
   {
    "duration": 6,
    "start_time": "2022-05-29T13:52:46.963Z"
   },
   {
    "duration": 7,
    "start_time": "2022-05-29T13:52:57.336Z"
   },
   {
    "duration": 9,
    "start_time": "2022-05-29T13:53:25.862Z"
   },
   {
    "duration": 123,
    "start_time": "2022-05-29T13:55:43.009Z"
   },
   {
    "duration": 228,
    "start_time": "2022-05-29T13:57:20.701Z"
   },
   {
    "duration": 4,
    "start_time": "2022-05-29T14:00:47.865Z"
   },
   {
    "duration": 36,
    "start_time": "2022-05-29T14:00:50.152Z"
   },
   {
    "duration": 726,
    "start_time": "2022-05-29T14:01:03.174Z"
   },
   {
    "duration": 5,
    "start_time": "2022-05-29T14:01:10.219Z"
   },
   {
    "duration": 14,
    "start_time": "2022-05-29T14:01:17.815Z"
   },
   {
    "duration": 13,
    "start_time": "2022-05-29T14:01:21.743Z"
   },
   {
    "duration": 4,
    "start_time": "2022-05-29T14:01:45.814Z"
   },
   {
    "duration": 36,
    "start_time": "2022-05-29T14:01:50.658Z"
   },
   {
    "duration": 9,
    "start_time": "2022-05-29T14:05:26.605Z"
   },
   {
    "duration": 193,
    "start_time": "2022-05-29T14:08:57.621Z"
   },
   {
    "duration": 191,
    "start_time": "2022-05-29T14:09:08.441Z"
   },
   {
    "duration": 206,
    "start_time": "2022-05-29T14:09:28.497Z"
   },
   {
    "duration": 203,
    "start_time": "2022-05-29T14:09:37.045Z"
   },
   {
    "duration": 240,
    "start_time": "2022-05-29T14:11:17.661Z"
   },
   {
    "duration": 405,
    "start_time": "2022-05-29T14:11:25.253Z"
   },
   {
    "duration": 241,
    "start_time": "2022-05-29T14:27:36.310Z"
   },
   {
    "duration": 240,
    "start_time": "2022-05-29T14:29:00.562Z"
   },
   {
    "duration": 246,
    "start_time": "2022-05-29T14:29:30.731Z"
   },
   {
    "duration": 240,
    "start_time": "2022-05-29T14:31:00.965Z"
   },
   {
    "duration": 227,
    "start_time": "2022-05-29T14:31:36.612Z"
   },
   {
    "duration": 353,
    "start_time": "2022-05-29T14:32:17.183Z"
   },
   {
    "duration": 246,
    "start_time": "2022-05-29T14:32:53.553Z"
   },
   {
    "duration": 372,
    "start_time": "2022-05-29T14:33:20.681Z"
   },
   {
    "duration": 51,
    "start_time": "2022-05-29T14:33:49.832Z"
   },
   {
    "duration": 340,
    "start_time": "2022-05-29T14:34:07.504Z"
   },
   {
    "duration": 361,
    "start_time": "2022-05-29T14:34:35.507Z"
   },
   {
    "duration": 320,
    "start_time": "2022-05-29T14:35:08.226Z"
   },
   {
    "duration": 58,
    "start_time": "2022-05-29T14:36:59.649Z"
   },
   {
    "duration": 335,
    "start_time": "2022-05-29T14:37:14.428Z"
   },
   {
    "duration": 329,
    "start_time": "2022-05-29T14:37:30.471Z"
   },
   {
    "duration": 324,
    "start_time": "2022-05-29T14:37:44.963Z"
   },
   {
    "duration": 295,
    "start_time": "2022-05-29T14:38:18.551Z"
   },
   {
    "duration": 319,
    "start_time": "2022-05-29T14:38:30.765Z"
   },
   {
    "duration": 366,
    "start_time": "2022-05-29T14:40:02.351Z"
   },
   {
    "duration": 237,
    "start_time": "2022-05-29T14:41:45.345Z"
   },
   {
    "duration": 150,
    "start_time": "2022-05-29T14:49:43.043Z"
   },
   {
    "duration": 171,
    "start_time": "2022-05-29T14:49:51.248Z"
   },
   {
    "duration": 226,
    "start_time": "2022-05-29T14:50:20.120Z"
   },
   {
    "duration": 210,
    "start_time": "2022-05-29T14:50:32.149Z"
   },
   {
    "duration": 225,
    "start_time": "2022-05-29T14:51:28.277Z"
   },
   {
    "duration": 246,
    "start_time": "2022-05-29T14:54:12.280Z"
   },
   {
    "duration": 306,
    "start_time": "2022-05-29T14:55:00.043Z"
   },
   {
    "duration": 151,
    "start_time": "2022-05-29T14:55:12.328Z"
   },
   {
    "duration": 164,
    "start_time": "2022-05-29T14:55:24.024Z"
   },
   {
    "duration": 143,
    "start_time": "2022-05-29T14:56:59.520Z"
   },
   {
    "duration": 196,
    "start_time": "2022-05-29T14:57:11.820Z"
   },
   {
    "duration": 224,
    "start_time": "2022-05-29T14:58:08.096Z"
   },
   {
    "duration": 199,
    "start_time": "2022-05-29T15:06:05.974Z"
   },
   {
    "duration": 202,
    "start_time": "2022-05-29T15:06:14.148Z"
   },
   {
    "duration": 223,
    "start_time": "2022-05-29T15:06:55.356Z"
   },
   {
    "duration": 187,
    "start_time": "2022-05-29T15:08:42.586Z"
   },
   {
    "duration": 175,
    "start_time": "2022-05-29T15:09:29.338Z"
   },
   {
    "duration": 202,
    "start_time": "2022-05-29T15:10:53.952Z"
   },
   {
    "duration": 143,
    "start_time": "2022-05-29T15:11:24.139Z"
   },
   {
    "duration": 238,
    "start_time": "2022-05-29T15:11:59.900Z"
   },
   {
    "duration": 340,
    "start_time": "2022-05-29T15:12:50.828Z"
   },
   {
    "duration": 191,
    "start_time": "2022-05-29T15:14:24.147Z"
   },
   {
    "duration": 76,
    "start_time": "2022-05-29T15:15:33.966Z"
   },
   {
    "duration": 63,
    "start_time": "2022-05-29T15:16:00.205Z"
   },
   {
    "duration": 66,
    "start_time": "2022-05-29T15:16:06.048Z"
   },
   {
    "duration": 25,
    "start_time": "2022-05-29T15:16:47.274Z"
   },
   {
    "duration": 16,
    "start_time": "2022-05-29T15:16:53.652Z"
   },
   {
    "duration": 49,
    "start_time": "2022-05-29T15:17:02.705Z"
   },
   {
    "duration": 49,
    "start_time": "2022-05-29T15:17:10.045Z"
   },
   {
    "duration": 31,
    "start_time": "2022-05-29T15:17:35.156Z"
   },
   {
    "duration": 14,
    "start_time": "2022-05-29T15:17:40.068Z"
   },
   {
    "duration": 12,
    "start_time": "2022-05-29T15:19:20.247Z"
   },
   {
    "duration": 18,
    "start_time": "2022-05-29T15:19:38.148Z"
   },
   {
    "duration": 13,
    "start_time": "2022-05-29T15:19:56.067Z"
   },
   {
    "duration": 18,
    "start_time": "2022-05-29T15:20:00.845Z"
   },
   {
    "duration": 12,
    "start_time": "2022-05-29T15:22:55.748Z"
   },
   {
    "duration": 13,
    "start_time": "2022-05-29T15:23:24.662Z"
   },
   {
    "duration": 29,
    "start_time": "2022-05-29T15:25:23.305Z"
   },
   {
    "duration": 39,
    "start_time": "2022-05-29T15:25:50.292Z"
   },
   {
    "duration": 42,
    "start_time": "2022-05-29T15:25:56.484Z"
   },
   {
    "duration": 18,
    "start_time": "2022-05-29T15:26:29.884Z"
   },
   {
    "duration": 24,
    "start_time": "2022-05-29T15:26:59.596Z"
   },
   {
    "duration": 1271,
    "start_time": "2022-05-29T17:35:26.162Z"
   },
   {
    "duration": 73,
    "start_time": "2022-05-29T17:35:27.436Z"
   },
   {
    "duration": 5,
    "start_time": "2022-05-29T17:35:27.510Z"
   },
   {
    "duration": 16,
    "start_time": "2022-05-29T17:35:27.516Z"
   },
   {
    "duration": 11,
    "start_time": "2022-05-29T17:35:27.534Z"
   },
   {
    "duration": 196,
    "start_time": "2022-05-29T17:35:27.547Z"
   },
   {
    "duration": 104,
    "start_time": "2022-05-29T17:35:27.745Z"
   },
   {
    "duration": 65,
    "start_time": "2022-05-29T17:35:27.850Z"
   },
   {
    "duration": 6,
    "start_time": "2022-05-29T17:35:27.916Z"
   },
   {
    "duration": 23,
    "start_time": "2022-05-29T17:35:27.923Z"
   },
   {
    "duration": 3,
    "start_time": "2022-05-29T17:35:27.948Z"
   },
   {
    "duration": 12,
    "start_time": "2022-05-29T17:35:27.953Z"
   },
   {
    "duration": 255,
    "start_time": "2022-05-29T17:35:27.967Z"
   },
   {
    "duration": 5,
    "start_time": "2022-05-29T17:35:28.225Z"
   },
   {
    "duration": 370,
    "start_time": "2022-05-29T17:35:28.240Z"
   },
   {
    "duration": 207,
    "start_time": "2022-05-29T17:35:28.611Z"
   },
   {
    "duration": 384,
    "start_time": "2022-05-29T17:35:28.820Z"
   },
   {
    "duration": 4,
    "start_time": "2022-05-29T17:35:29.206Z"
   },
   {
    "duration": 11,
    "start_time": "2022-05-29T17:35:29.211Z"
   },
   {
    "duration": 226,
    "start_time": "2022-05-29T17:35:29.223Z"
   },
   {
    "duration": 297,
    "start_time": "2022-05-29T17:35:29.451Z"
   },
   {
    "duration": 11,
    "start_time": "2022-05-29T17:35:29.749Z"
   },
   {
    "duration": 157,
    "start_time": "2022-05-29T17:35:29.762Z"
   },
   {
    "duration": 6,
    "start_time": "2022-05-29T17:35:29.921Z"
   },
   {
    "duration": 19,
    "start_time": "2022-05-29T17:35:29.929Z"
   },
   {
    "duration": 151,
    "start_time": "2022-05-29T17:35:29.950Z"
   },
   {
    "duration": 119,
    "start_time": "2022-05-29T17:35:30.102Z"
   },
   {
    "duration": 4,
    "start_time": "2022-05-29T17:35:30.223Z"
   },
   {
    "duration": 15,
    "start_time": "2022-05-29T17:35:30.229Z"
   },
   {
    "duration": 149,
    "start_time": "2022-05-29T17:35:30.245Z"
   },
   {
    "duration": 7,
    "start_time": "2022-05-29T17:35:30.395Z"
   },
   {
    "duration": 40,
    "start_time": "2022-05-29T17:35:30.403Z"
   },
   {
    "duration": 11,
    "start_time": "2022-05-29T17:35:30.444Z"
   },
   {
    "duration": 12,
    "start_time": "2022-05-29T17:35:30.456Z"
   },
   {
    "duration": 17,
    "start_time": "2022-05-29T17:35:30.469Z"
   },
   {
    "duration": 43,
    "start_time": "2022-05-29T17:35:30.488Z"
   },
   {
    "duration": 20,
    "start_time": "2022-05-29T17:35:30.533Z"
   },
   {
    "duration": 5,
    "start_time": "2022-05-29T17:46:53.150Z"
   },
   {
    "duration": 4,
    "start_time": "2022-05-29T17:47:13.497Z"
   },
   {
    "duration": 5,
    "start_time": "2022-05-29T17:47:17.949Z"
   },
   {
    "duration": 50,
    "start_time": "2022-09-06T08:49:32.406Z"
   },
   {
    "duration": 1282,
    "start_time": "2022-09-06T08:49:40.446Z"
   },
   {
    "duration": 139,
    "start_time": "2022-09-06T08:49:41.731Z"
   },
   {
    "duration": 5,
    "start_time": "2022-09-06T08:49:41.872Z"
   },
   {
    "duration": 14,
    "start_time": "2022-09-06T08:49:41.878Z"
   },
   {
    "duration": 11,
    "start_time": "2022-09-06T08:49:41.894Z"
   },
   {
    "duration": 251,
    "start_time": "2022-09-06T08:49:41.906Z"
   },
   {
    "duration": 88,
    "start_time": "2022-09-06T08:49:42.159Z"
   },
   {
    "duration": 70,
    "start_time": "2022-09-06T08:49:42.249Z"
   },
   {
    "duration": 6,
    "start_time": "2022-09-06T08:49:42.321Z"
   },
   {
    "duration": 21,
    "start_time": "2022-09-06T08:49:42.329Z"
   },
   {
    "duration": 4,
    "start_time": "2022-09-06T08:49:42.352Z"
   },
   {
    "duration": 9,
    "start_time": "2022-09-06T08:49:42.358Z"
   },
   {
    "duration": 237,
    "start_time": "2022-09-06T08:49:42.369Z"
   },
   {
    "duration": 4,
    "start_time": "2022-09-06T08:49:42.609Z"
   },
   {
    "duration": 302,
    "start_time": "2022-09-06T08:49:42.615Z"
   },
   {
    "duration": 225,
    "start_time": "2022-09-06T08:49:42.919Z"
   },
   {
    "duration": 378,
    "start_time": "2022-09-06T08:49:43.146Z"
   },
   {
    "duration": 5,
    "start_time": "2022-09-06T08:49:43.525Z"
   },
   {
    "duration": 9,
    "start_time": "2022-09-06T08:49:43.531Z"
   },
   {
    "duration": 240,
    "start_time": "2022-09-06T08:49:43.542Z"
   },
   {
    "duration": 301,
    "start_time": "2022-09-06T08:49:43.783Z"
   },
   {
    "duration": 16,
    "start_time": "2022-09-06T08:49:44.085Z"
   },
   {
    "duration": 149,
    "start_time": "2022-09-06T08:49:44.103Z"
   },
   {
    "duration": 4,
    "start_time": "2022-09-06T08:49:44.254Z"
   },
   {
    "duration": 13,
    "start_time": "2022-09-06T08:49:44.267Z"
   },
   {
    "duration": 161,
    "start_time": "2022-09-06T08:49:44.281Z"
   },
   {
    "duration": 133,
    "start_time": "2022-09-06T08:49:44.444Z"
   },
   {
    "duration": 5,
    "start_time": "2022-09-06T08:49:44.578Z"
   },
   {
    "duration": 8,
    "start_time": "2022-09-06T08:49:44.584Z"
   },
   {
    "duration": 163,
    "start_time": "2022-09-06T08:49:44.593Z"
   },
   {
    "duration": 6,
    "start_time": "2022-09-06T08:49:44.767Z"
   },
   {
    "duration": 24,
    "start_time": "2022-09-06T08:49:44.775Z"
   },
   {
    "duration": 95,
    "start_time": "2022-09-06T08:49:44.800Z"
   },
   {
    "duration": 11,
    "start_time": "2022-09-06T08:49:44.897Z"
   },
   {
    "duration": 8,
    "start_time": "2022-09-06T08:49:44.910Z"
   },
   {
    "duration": 50,
    "start_time": "2022-09-06T08:49:44.920Z"
   },
   {
    "duration": 15,
    "start_time": "2022-09-06T08:49:44.972Z"
   }
  ],
  "kernelspec": {
   "display_name": "Python 3 (ipykernel)",
   "language": "python",
   "name": "python3"
  },
  "language_info": {
   "codemirror_mode": {
    "name": "ipython",
    "version": 3
   },
   "file_extension": ".py",
   "mimetype": "text/x-python",
   "name": "python",
   "nbconvert_exporter": "python",
   "pygments_lexer": "ipython3",
   "version": "3.9.5"
  },
  "toc": {
   "base_numbering": 1,
   "nav_menu": {},
   "number_sections": true,
   "sideBar": true,
   "skip_h1_title": true,
   "title_cell": "Table of Contents",
   "title_sidebar": "Contents",
   "toc_cell": false,
   "toc_position": {
    "height": "calc(100% - 180px)",
    "left": "10px",
    "top": "150px",
    "width": "232.594px"
   },
   "toc_section_display": true,
   "toc_window_display": true
  }
 },
 "nbformat": 4,
 "nbformat_minor": 2
}
